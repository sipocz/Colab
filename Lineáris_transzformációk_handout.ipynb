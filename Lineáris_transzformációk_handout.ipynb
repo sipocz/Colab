{
  "nbformat": 4,
  "nbformat_minor": 0,
  "metadata": {
    "colab": {
      "name": "Lineáris transzformációk handout.ipynb",
      "provenance": [],
      "collapsed_sections": [],
      "toc_visible": true,
      "include_colab_link": true
    },
    "kernelspec": {
      "name": "python3",
      "display_name": "Python 3"
    }
  },
  "cells": [
    {
      "cell_type": "markdown",
      "metadata": {
        "id": "view-in-github",
        "colab_type": "text"
      },
      "source": [
        "<a href=\"https://colab.research.google.com/github/sipocz/Colab/blob/main/Line%C3%A1ris_transzform%C3%A1ci%C3%B3k_handout.ipynb\" target=\"_parent\"><img src=\"https://colab.research.google.com/assets/colab-badge.svg\" alt=\"Open In Colab\"/></a>"
      ]
    },
    {
      "cell_type": "markdown",
      "metadata": {
        "id": "u-xEjtDDGejS"
      },
      "source": [
        "# Bevezető\n",
        "\n",
        "- Általában magas dimenziós adatokkal dolgozunk.\n",
        "- Általában több adatunk van, mint dimenziónk. Az adatok azonban nem feltétlenül töltik ki a teljes teret.\n",
        "- A dimenziószámot csökkenteni kell, így a lényegi információk maradnak meg.\n",
        "- Kérdés, hogy mit jelent a lényegi információ, hogy tudjuk azt megfogalmazni?"
      ]
    },
    {
      "cell_type": "markdown",
      "metadata": {
        "id": "v6bZduurV9zd"
      },
      "source": [
        "# Nagy dimenzió \"átka\" I.\n",
        "\n",
        "<img width=\"720\" src=\"http://www.visiondummy.com/wp-content/uploads/2014/04/curseofdimensionality.png\" />\n",
        "\n",
        "\n",
        "http://www.visiondummy.com/2014/04/curse-dimensionality-affect-classification/"
      ]
    },
    {
      "cell_type": "markdown",
      "metadata": {
        "id": "YTUQCo-EWjg8"
      },
      "source": [
        "# Lineáris módszerek\n",
        "\n",
        "- Ezen az órán lineáris transzformációkkal fogunk dolgozni.\n",
        "- Lineáris: összeadás, szorzás\n",
        "- Transzformáció: az összes adatpontot átvisszük egy másik rendszerbe egy koherens leképezéssel\n",
        "\n",
        "Részletek: https://en.wikipedia.org/wiki/Linear_map"
      ]
    },
    {
      "cell_type": "markdown",
      "metadata": {
        "id": "BvYGFdH0XQJ_"
      },
      "source": [
        "# Mátrixok\n",
        "\n",
        "- Minden lineáris transzformáció leírható egy mátrix szorzással.\n",
        "\n",
        "Háttéranyagok:\n",
        "- https://www.statisticshowto.com/matrices-and-matrix-algebra/\n",
        "- https://en.wikipedia.org/wiki/Matrix_multiplication"
      ]
    },
    {
      "cell_type": "markdown",
      "metadata": {
        "id": "eDfr9nE5IGTS"
      },
      "source": [
        "# Lineáris projekció\n",
        "\n",
        "Dimenzió csökkentési céllal végezhetünk lineáris projekciót.\n",
        "\n",
        "A fenti példán egy olyan esetet néztünk, ami a már létező tengelyekre vetíti az adatokat.\n",
        "* Gyakorlatilag eldobunk egy dimenziót\n",
        "* Azaz: információt veszítünk (nem túl szofisztikált módon)\n",
        "\n",
        "A reprezentáció tanulás általában dimenziócsökkentést jelent.\n",
        "* Általában több adat van, mint dimenzió\n",
        "* (Ellenpélda: genom adatok - más módszereket kell keresni)\n",
        "\n",
        "Az új reprezentáció az eredeti adatokból képződik\n",
        "* Lineáris transzformációkkal fogunk kezdeni\n",
        "* Olyan leképezést keresünk, ami nem feltétlenül a tengelyekre képez.\n",
        "* Ez azt jelenti, hogy forgatunk is. :)\n",
        "* A transzformációt mi definiáljuk, keressük meg.\n",
        "\n",
        "A transzformáció függ a feladattól\n",
        "* Ha például osztályozni szeretnénk, olyan transzformációt kell keresni, ami szeparálja a mintát.\n",
        "* El is tudjuk rontani. Például az ábrán a PCA összemossa az adatokat.\n",
        "\n",
        "![alt text](https://drive.google.com/uc?export=view&id=1WqZDTDxGSYFVps-qcgfNjIArh0J-Pojm)\n"
      ]
    },
    {
      "cell_type": "markdown",
      "metadata": {
        "id": "Gi3dm8zYS0P-"
      },
      "source": [
        "# PCA\n",
        "\n",
        "PCA = Principal component analysis\n",
        "\n",
        "A PCA lineáris transzformáció\n",
        "\n",
        "A reprezentáció kialakítása\n",
        "* Az első dimenzió az az irány, ahol a legnagyobb a minta szórása\n",
        "* A második dimenzió merőleges az első dimenzióra, ezen feltétel mellett a legnagyobb a minta szórása\n",
        "... és így tovább\n",
        "\n",
        "Szerencsére van explicit formula\n",
        "* Azaz a megoldás nem iteratív\n",
        "* Az új bázis bázisvektorai: kovariancia mátrix sajátvektorai.\n",
        "\n",
        "![alt text](https://drive.google.com/uc?export=view&id=1_ahHM8593gDKbfR_IkHCgMpUWh1w5pr6)\n",
        "\n",
        "Ha valakit kicsit mélyebben érdekel: https://machinelearningmastery.com/calculate-principal-component-analysis-scratch-python/"
      ]
    },
    {
      "cell_type": "markdown",
      "metadata": {
        "id": "vf0lqqVxdxky"
      },
      "source": [
        "## Iris dataset"
      ]
    },
    {
      "cell_type": "code",
      "metadata": {
        "id": "-qG_5mXc8_D-",
        "outputId": "2ee422ca-3036-4582-9879-676ccabe1ce8",
        "colab": {
          "base_uri": "https://localhost:8080/"
        }
      },
      "source": [
        "from sklearn import datasets\n",
        "\n",
        "iris = datasets.load_iris()\n",
        "print(iris.DESCR)"
      ],
      "execution_count": 65,
      "outputs": [
        {
          "output_type": "stream",
          "text": [
            ".. _iris_dataset:\n",
            "\n",
            "Iris plants dataset\n",
            "--------------------\n",
            "\n",
            "**Data Set Characteristics:**\n",
            "\n",
            "    :Number of Instances: 150 (50 in each of three classes)\n",
            "    :Number of Attributes: 4 numeric, predictive attributes and the class\n",
            "    :Attribute Information:\n",
            "        - sepal length in cm\n",
            "        - sepal width in cm\n",
            "        - petal length in cm\n",
            "        - petal width in cm\n",
            "        - class:\n",
            "                - Iris-Setosa\n",
            "                - Iris-Versicolour\n",
            "                - Iris-Virginica\n",
            "                \n",
            "    :Summary Statistics:\n",
            "\n",
            "    ============== ==== ==== ======= ===== ====================\n",
            "                    Min  Max   Mean    SD   Class Correlation\n",
            "    ============== ==== ==== ======= ===== ====================\n",
            "    sepal length:   4.3  7.9   5.84   0.83    0.7826\n",
            "    sepal width:    2.0  4.4   3.05   0.43   -0.4194\n",
            "    petal length:   1.0  6.9   3.76   1.76    0.9490  (high!)\n",
            "    petal width:    0.1  2.5   1.20   0.76    0.9565  (high!)\n",
            "    ============== ==== ==== ======= ===== ====================\n",
            "\n",
            "    :Missing Attribute Values: None\n",
            "    :Class Distribution: 33.3% for each of 3 classes.\n",
            "    :Creator: R.A. Fisher\n",
            "    :Donor: Michael Marshall (MARSHALL%PLU@io.arc.nasa.gov)\n",
            "    :Date: July, 1988\n",
            "\n",
            "The famous Iris database, first used by Sir R.A. Fisher. The dataset is taken\n",
            "from Fisher's paper. Note that it's the same as in R, but not as in the UCI\n",
            "Machine Learning Repository, which has two wrong data points.\n",
            "\n",
            "This is perhaps the best known database to be found in the\n",
            "pattern recognition literature.  Fisher's paper is a classic in the field and\n",
            "is referenced frequently to this day.  (See Duda & Hart, for example.)  The\n",
            "data set contains 3 classes of 50 instances each, where each class refers to a\n",
            "type of iris plant.  One class is linearly separable from the other 2; the\n",
            "latter are NOT linearly separable from each other.\n",
            "\n",
            ".. topic:: References\n",
            "\n",
            "   - Fisher, R.A. \"The use of multiple measurements in taxonomic problems\"\n",
            "     Annual Eugenics, 7, Part II, 179-188 (1936); also in \"Contributions to\n",
            "     Mathematical Statistics\" (John Wiley, NY, 1950).\n",
            "   - Duda, R.O., & Hart, P.E. (1973) Pattern Classification and Scene Analysis.\n",
            "     (Q327.D83) John Wiley & Sons.  ISBN 0-471-22361-1.  See page 218.\n",
            "   - Dasarathy, B.V. (1980) \"Nosing Around the Neighborhood: A New System\n",
            "     Structure and Classification Rule for Recognition in Partially Exposed\n",
            "     Environments\".  IEEE Transactions on Pattern Analysis and Machine\n",
            "     Intelligence, Vol. PAMI-2, No. 1, 67-71.\n",
            "   - Gates, G.W. (1972) \"The Reduced Nearest Neighbor Rule\".  IEEE Transactions\n",
            "     on Information Theory, May 1972, 431-433.\n",
            "   - See also: 1988 MLC Proceedings, 54-64.  Cheeseman et al\"s AUTOCLASS II\n",
            "     conceptual clustering system finds 3 classes in the data.\n",
            "   - Many, many more ...\n"
          ],
          "name": "stdout"
        }
      ]
    },
    {
      "cell_type": "code",
      "metadata": {
        "id": "vpMqU5tG8yKy",
        "outputId": "a102511e-b962-4909-959c-5726dcaffd33",
        "colab": {
          "base_uri": "https://localhost:8080/",
          "height": 194
        }
      },
      "source": [
        "import pandas as pd\n",
        "import numpy as np\n",
        "\n",
        "df=pd.DataFrame(data= np.c_[iris['data'], iris['target']], columns= iris['feature_names'] + ['target'])\n",
        "df.head()"
      ],
      "execution_count": 66,
      "outputs": [
        {
          "output_type": "execute_result",
          "data": {
            "text/html": [
              "<div>\n",
              "<style scoped>\n",
              "    .dataframe tbody tr th:only-of-type {\n",
              "        vertical-align: middle;\n",
              "    }\n",
              "\n",
              "    .dataframe tbody tr th {\n",
              "        vertical-align: top;\n",
              "    }\n",
              "\n",
              "    .dataframe thead th {\n",
              "        text-align: right;\n",
              "    }\n",
              "</style>\n",
              "<table border=\"1\" class=\"dataframe\">\n",
              "  <thead>\n",
              "    <tr style=\"text-align: right;\">\n",
              "      <th></th>\n",
              "      <th>sepal length (cm)</th>\n",
              "      <th>sepal width (cm)</th>\n",
              "      <th>petal length (cm)</th>\n",
              "      <th>petal width (cm)</th>\n",
              "      <th>target</th>\n",
              "    </tr>\n",
              "  </thead>\n",
              "  <tbody>\n",
              "    <tr>\n",
              "      <th>0</th>\n",
              "      <td>5.1</td>\n",
              "      <td>3.5</td>\n",
              "      <td>1.4</td>\n",
              "      <td>0.2</td>\n",
              "      <td>0.0</td>\n",
              "    </tr>\n",
              "    <tr>\n",
              "      <th>1</th>\n",
              "      <td>4.9</td>\n",
              "      <td>3.0</td>\n",
              "      <td>1.4</td>\n",
              "      <td>0.2</td>\n",
              "      <td>0.0</td>\n",
              "    </tr>\n",
              "    <tr>\n",
              "      <th>2</th>\n",
              "      <td>4.7</td>\n",
              "      <td>3.2</td>\n",
              "      <td>1.3</td>\n",
              "      <td>0.2</td>\n",
              "      <td>0.0</td>\n",
              "    </tr>\n",
              "    <tr>\n",
              "      <th>3</th>\n",
              "      <td>4.6</td>\n",
              "      <td>3.1</td>\n",
              "      <td>1.5</td>\n",
              "      <td>0.2</td>\n",
              "      <td>0.0</td>\n",
              "    </tr>\n",
              "    <tr>\n",
              "      <th>4</th>\n",
              "      <td>5.0</td>\n",
              "      <td>3.6</td>\n",
              "      <td>1.4</td>\n",
              "      <td>0.2</td>\n",
              "      <td>0.0</td>\n",
              "    </tr>\n",
              "  </tbody>\n",
              "</table>\n",
              "</div>"
            ],
            "text/plain": [
              "   sepal length (cm)  sepal width (cm)  ...  petal width (cm)  target\n",
              "0                5.1               3.5  ...               0.2     0.0\n",
              "1                4.9               3.0  ...               0.2     0.0\n",
              "2                4.7               3.2  ...               0.2     0.0\n",
              "3                4.6               3.1  ...               0.2     0.0\n",
              "4                5.0               3.6  ...               0.2     0.0\n",
              "\n",
              "[5 rows x 5 columns]"
            ]
          },
          "metadata": {
            "tags": []
          },
          "execution_count": 66
        }
      ]
    },
    {
      "cell_type": "markdown",
      "metadata": {
        "id": "dK8IYucaUPLQ"
      },
      "source": [
        "### --> Feladat 2: Számoljuk ki az Iris dataset PCA bázisát\n",
        "\n",
        "Segítség\n",
        "* Mean centering (from numpy import mean)\n",
        "* Dekompozíció kiszámítása (from sklearn.decomposition import PCA)"
      ]
    },
    {
      "cell_type": "code",
      "metadata": {
        "id": "i_QqnzPGYcZV",
        "outputId": "0a3173af-d899-435a-a66b-250ff9043bbd",
        "colab": {
          "base_uri": "https://localhost:8080/"
        }
      },
      "source": [
        "# Segítség a centráláshoz: print_stats metódus\n",
        "from numpy import mean\n",
        "from scipy.stats import describe\n",
        "from sklearn.decomposition import PCA\n",
        "def print_stats(df):\n",
        "    d = describe(df)\n",
        "    print('Observations: {}'.format(d.nobs))\n",
        "    print('Min: {}'.format(d.minmax[0]))\n",
        "    print('Max: {}'.format(d.minmax[1]))\n",
        "    print('Mean: {}'.format(d.mean))\n",
        "    print('Var : {}'.format(d.variance))\n",
        "    print('Skew: {}'.format(d.skewness))\n",
        "    print('Kurt: {}'.format(d.kurtosis))\n",
        "print_stats(df)"
      ],
      "execution_count": 67,
      "outputs": [
        {
          "output_type": "stream",
          "text": [
            "Observations: 150\n",
            "Min: [4.3 2.  1.  0.1 0. ]\n",
            "Max: [7.9 4.4 6.9 2.5 2. ]\n",
            "Mean: [5.84333333 3.05733333 3.758      1.19933333 1.        ]\n",
            "Var : [0.68569351 0.18997942 3.11627785 0.58100626 0.67114094]\n",
            "Skew: [ 0.31175306  0.31576711 -0.27212767 -0.10193421  0.        ]\n",
            "Kurt: [-0.57356795  0.18097632 -1.39553589 -1.33606741 -1.5       ]\n"
          ],
          "name": "stdout"
        }
      ]
    },
    {
      "cell_type": "code",
      "metadata": {
        "id": "dhJXE-CFZ6CR",
        "outputId": "d8ca189b-a6fd-4cf0-81b1-1464d8962272",
        "colab": {
          "base_uri": "https://localhost:8080/",
          "height": 0
        }
      },
      "source": [
        "# Emeljük ki a feature-öket egy df_feature DataFrame-be!\n",
        "print(df.columns[0:4])\n",
        "#df_feature=df[[\"sepal length (cm)\",\"sepal width (cm)\",\"petal length (cm)\",\"petal width (cm)\"]]\n",
        "df_feature=df[df.columns[0:4]]\n",
        "# Írassuk ki az első néhány sort a DataFrame.head metódus segítségével!\n",
        "df_feature.head()"
      ],
      "execution_count": 68,
      "outputs": [
        {
          "output_type": "stream",
          "text": [
            "Index(['sepal length (cm)', 'sepal width (cm)', 'petal length (cm)',\n",
            "       'petal width (cm)'],\n",
            "      dtype='object')\n"
          ],
          "name": "stdout"
        },
        {
          "output_type": "execute_result",
          "data": {
            "text/html": [
              "<div>\n",
              "<style scoped>\n",
              "    .dataframe tbody tr th:only-of-type {\n",
              "        vertical-align: middle;\n",
              "    }\n",
              "\n",
              "    .dataframe tbody tr th {\n",
              "        vertical-align: top;\n",
              "    }\n",
              "\n",
              "    .dataframe thead th {\n",
              "        text-align: right;\n",
              "    }\n",
              "</style>\n",
              "<table border=\"1\" class=\"dataframe\">\n",
              "  <thead>\n",
              "    <tr style=\"text-align: right;\">\n",
              "      <th></th>\n",
              "      <th>sepal length (cm)</th>\n",
              "      <th>sepal width (cm)</th>\n",
              "      <th>petal length (cm)</th>\n",
              "      <th>petal width (cm)</th>\n",
              "    </tr>\n",
              "  </thead>\n",
              "  <tbody>\n",
              "    <tr>\n",
              "      <th>0</th>\n",
              "      <td>5.1</td>\n",
              "      <td>3.5</td>\n",
              "      <td>1.4</td>\n",
              "      <td>0.2</td>\n",
              "    </tr>\n",
              "    <tr>\n",
              "      <th>1</th>\n",
              "      <td>4.9</td>\n",
              "      <td>3.0</td>\n",
              "      <td>1.4</td>\n",
              "      <td>0.2</td>\n",
              "    </tr>\n",
              "    <tr>\n",
              "      <th>2</th>\n",
              "      <td>4.7</td>\n",
              "      <td>3.2</td>\n",
              "      <td>1.3</td>\n",
              "      <td>0.2</td>\n",
              "    </tr>\n",
              "    <tr>\n",
              "      <th>3</th>\n",
              "      <td>4.6</td>\n",
              "      <td>3.1</td>\n",
              "      <td>1.5</td>\n",
              "      <td>0.2</td>\n",
              "    </tr>\n",
              "    <tr>\n",
              "      <th>4</th>\n",
              "      <td>5.0</td>\n",
              "      <td>3.6</td>\n",
              "      <td>1.4</td>\n",
              "      <td>0.2</td>\n",
              "    </tr>\n",
              "  </tbody>\n",
              "</table>\n",
              "</div>"
            ],
            "text/plain": [
              "   sepal length (cm)  sepal width (cm)  petal length (cm)  petal width (cm)\n",
              "0                5.1               3.5                1.4               0.2\n",
              "1                4.9               3.0                1.4               0.2\n",
              "2                4.7               3.2                1.3               0.2\n",
              "3                4.6               3.1                1.5               0.2\n",
              "4                5.0               3.6                1.4               0.2"
            ]
          },
          "metadata": {
            "tags": []
          },
          "execution_count": 68
        }
      ]
    },
    {
      "cell_type": "code",
      "metadata": {
        "id": "fYKmgz4AYrC0",
        "outputId": "c7dcc6d2-bb15-4fed-bca2-47b8f9b27fc6",
        "colab": {
          "base_uri": "https://localhost:8080/"
        }
      },
      "source": [
        "# Írassuk ki a df_features statisztikáját a print_stats függvény segítségével!\n",
        "print_stats(df_feature)"
      ],
      "execution_count": 69,
      "outputs": [
        {
          "output_type": "stream",
          "text": [
            "Observations: 150\n",
            "Min: [4.3 2.  1.  0.1]\n",
            "Max: [7.9 4.4 6.9 2.5]\n",
            "Mean: [5.84333333 3.05733333 3.758      1.19933333]\n",
            "Var : [0.68569351 0.18997942 3.11627785 0.58100626]\n",
            "Skew: [ 0.31175306  0.31576711 -0.27212767 -0.10193421]\n",
            "Kurt: [-0.57356795  0.18097632 -1.39553589 -1.33606741]\n"
          ],
          "name": "stdout"
        }
      ]
    },
    {
      "cell_type": "markdown",
      "metadata": {
        "id": "wo6AdOw98g1u"
      },
      "source": [
        "### Mean centering\n",
        "\n",
        "Az adatokat centrálni kell.\n",
        "\n",
        "<img width=\"720\" src=\"https://i.stack.imgur.com/9vENg.jpg\" />\n",
        "\n",
        "Forrás: https://stats.stackexchange.com/questions/22329/how-does-centering-the-data-get-rid-of-the-intercept-in-regression-and-pca\n"
      ]
    },
    {
      "cell_type": "code",
      "metadata": {
        "id": "mvYyfFo6X_i-",
        "outputId": "97c91aa4-bf32-4d3c-b2fa-92eef0bbbf46",
        "colab": {
          "base_uri": "https://localhost:8080/"
        }
      },
      "source": [
        "# Mean centering\n",
        "# A numpy csomagból importáljuk be a mean metódust!\n",
        "from numpy import mean\n",
        "# Számoljuk ki a mean metódus segítségével a változók átlagát egy M dataframebe!\n",
        "# Segítség: https://scikit-learn.org/stable/modules/preprocessing.html\n",
        "m=mean(df_feature)\n",
        "# Írassuk ki M-et!\n",
        "type(m)\n",
        "print(m)"
      ],
      "execution_count": 70,
      "outputs": [
        {
          "output_type": "stream",
          "text": [
            "sepal length (cm)    5.843333\n",
            "sepal width (cm)     3.057333\n",
            "petal length (cm)    3.758000\n",
            "petal width (cm)     1.199333\n",
            "dtype: float64\n"
          ],
          "name": "stdout"
        }
      ]
    },
    {
      "cell_type": "code",
      "metadata": {
        "id": "5v21FAu8UBoq",
        "outputId": "2c9f8707-217c-4927-c2f4-b469205babd7",
        "colab": {
          "base_uri": "https://localhost:8080/"
        }
      },
      "source": [
        "# Centráljuk az eredeti adatokat (kivonás) a dfc nevű dataframe-be!\n",
        "dfc=df_feature-[m[0],m[1],m[2],m[3]]\n",
        "# Írassuk ki a dfc statisztikáját\n",
        "print_stats(dfc)"
      ],
      "execution_count": 71,
      "outputs": [
        {
          "output_type": "stream",
          "text": [
            "Observations: 150\n",
            "Min: [-1.54333333 -1.05733333 -2.758      -1.09933333]\n",
            "Max: [2.05666667 1.34266667 3.142      1.30066667]\n",
            "Mean: [-1.12502600e-15 -7.60872846e-16 -2.55203266e-15 -4.48530102e-16]\n",
            "Var : [0.68569351 0.18997942 3.11627785 0.58100626]\n",
            "Skew: [ 0.31175306  0.31576711 -0.27212767 -0.10193421]\n",
            "Kurt: [-0.57356795  0.18097632 -1.39553589 -1.33606741]\n"
          ],
          "name": "stdout"
        }
      ]
    },
    {
      "cell_type": "markdown",
      "metadata": {
        "id": "MIhXjC-2_7AZ"
      },
      "source": [
        "Observations: 150\n",
        "Min: [-1.54333333 -1.05733333 -2.758      -1.09933333]\n",
        "Max: [2.05666667 1.34266667 3.142      1.30066667]\n",
        "Mean: [-1.12502600e-15 -7.60872846e-16 -2.55203266e-15 -4.48530102e-16]\n",
        "Var : [0.68569351 0.18997942 3.11627785 0.58100626]\n",
        "Skew: [ 0.31175306  0.31576711 -0.27212767 -0.10193421]\n",
        "Kurt: [-0.57356795  0.18097632 -1.39553589 -1.33606741]"
      ]
    },
    {
      "cell_type": "markdown",
      "metadata": {
        "id": "U94LHi3z_6Zv"
      },
      "source": [
        ""
      ]
    },
    {
      "cell_type": "code",
      "metadata": {
        "id": "Mho7OvRNRedB",
        "outputId": "b149bf8d-0b0d-4ada-cd11-cef0d1add120",
        "colab": {
          "base_uri": "https://localhost:8080/"
        }
      },
      "source": [
        "# Az sklearn.decomposition csomagból importáljuk be a PCA osztályt!\n",
        "from sklearn.decomposition import PCA\n",
        "# Hozzuk létre a dfc PCA modelljét egy tr_pca változóba!\n",
        "# Dokumentáció: https://scikit-learn.org/stable/modules/generated/sklearn.decomposition.PCA.html\n",
        "tr_pca=PCA(dfc)\n",
        "# Írassuk ki a modellt!\n",
        "tr_pca"
      ],
      "execution_count": 76,
      "outputs": [
        {
          "output_type": "execute_result",
          "data": {
            "text/plain": [
              "PCA(copy=True, iterated_power='auto',\n",
              "    n_components=     sepal length (cm)  sepal width (cm)  petal length (cm)  petal width (cm)\n",
              "0            -0.743333          0.442667             -2.358         -0.999333\n",
              "1            -0.943333         -0.057333             -2.358         -0.999333\n",
              "2            -1.143333          0.142667             -2.458         -0.999333\n",
              "3            -1.243333          0.042667             -2.258         -0.999333\n",
              "4            -0.843333          0.542667             -2.358         -0.999333\n",
              "..                 ...               ...                ...               ...\n",
              "145           0.856667         -0.057333              1.442          1.100667\n",
              "146           0.456667         -0.557333              1.242          0.700667\n",
              "147           0.656667         -0.057333              1.442          0.800667\n",
              "148           0.356667          0.342667              1.642          1.100667\n",
              "149           0.056667         -0.057333              1.342          0.600667\n",
              "\n",
              "[150 rows x 4 columns],\n",
              "    random_state=None, svd_solver='auto', tol=0.0, whiten=False)"
            ]
          },
          "metadata": {
            "tags": []
          },
          "execution_count": 76
        }
      ]
    },
    {
      "cell_type": "markdown",
      "metadata": {
        "id": "rNEpFGnYDJSQ"
      },
      "source": [
        "PCA(copy=True, iterated_power='auto',\n",
        "    n_components=     sepal length (cm)  sepal width (cm)  petal length (cm)  petal width (cm)\n",
        "0            -0.743333          0.442667             -2.358         -0.999333\n",
        "1            -0.943333         -0.057333             -2.358         -0.999333\n",
        "2            -1.143333          0.142667             -2.458         -0.999333\n",
        "3            -1.243333          0.042667             -2.258         -0.999333\n",
        "4            -0.843333          0.542667             -2.358         -0.999333\n",
        "..                 ...               ...                ...               ...\n",
        "145           0.856667         -0.057333              1.442          1.100667\n",
        "146           0.456667         -0.557333              1.242          0.700667\n",
        "147           0.656667         -0.057333              1.442          0.800667\n",
        "148           0.356667          0.342667              1.642          1.100667\n",
        "149           0.056667         -0.057333              1.342          0.600667\n",
        "\n",
        "[150 rows x 4 columns],\n",
        "    random_state=None, svd_solver='auto', tol=0.0, whiten=False)"
      ]
    },
    {
      "cell_type": "code",
      "metadata": {
        "id": "i6oMLcuaDI0s"
      },
      "source": [
        ""
      ],
      "execution_count": 76,
      "outputs": []
    },
    {
      "cell_type": "code",
      "metadata": {
        "id": "sJPras6XDInz"
      },
      "source": [
        ""
      ],
      "execution_count": 72,
      "outputs": []
    },
    {
      "cell_type": "markdown",
      "metadata": {
        "id": "Az-uz6EzUsKO"
      },
      "source": [
        "### --> Feladat 2 vége"
      ]
    },
    {
      "cell_type": "markdown",
      "metadata": {
        "id": "CV2kSlqOUvIj"
      },
      "source": [
        "### Dimenzió csökkentés\n",
        "\n",
        "A PCA egyik leggyakoribb alkalmazása a vizualizáció.\n",
        "\n",
        "Segítségével megnézhetjük az adatokat a két, legnagyobb varianciájú tengely mentén."
      ]
    },
    {
      "cell_type": "markdown",
      "metadata": {
        "id": "BTq7JvAeYr1j"
      },
      "source": [
        "### --> Feladat 3: Képezzük át az adatokat a PCA térbe, majd rajzoljuk ki az első két dimenzió szerint.\n",
        "\n",
        "Segítség\n",
        "* Transzofrmálás - PCA.fit_transform\n",
        "* Scatter plot - https://matplotlib.org/api/_as_gen/matplotlib.pyplot.scatter.html"
      ]
    },
    {
      "cell_type": "code",
      "metadata": {
        "id": "ByH1MxRPZeWM",
        "outputId": "60a66ea8-defc-41d9-813f-5d7b45c6b08e",
        "colab": {
          "base_uri": "https://localhost:8080/"
        }
      },
      "source": [
        "# Hozzuk létre 2 dimenziós PCA modellt (n_components) egy tr_pca2 változóba!\n",
        "tr_pca2=PCA(n_components=2)\n",
        "# Tanítsuk be modellt a df_features adatokon, a transzformált adatokat helyezzük a df_pca2 változóba!\n",
        "df_pca2=tr_pca2.fit_transform(df_feature)\n",
        "# Írassuk ki a df_pca2 méretét a DataFrame.shape segítségével!\n",
        "out=pd.DataFrame(data=df_pca2,columns = ['C1', 'C2'])\n",
        "print(out)"
      ],
      "execution_count": 110,
      "outputs": [
        {
          "output_type": "stream",
          "text": [
            "           C1        C2\n",
            "0   -2.684126  0.319397\n",
            "1   -2.714142 -0.177001\n",
            "2   -2.888991 -0.144949\n",
            "3   -2.745343 -0.318299\n",
            "4   -2.728717  0.326755\n",
            "..        ...       ...\n",
            "145  1.944110  0.187532\n",
            "146  1.527167 -0.375317\n",
            "147  1.764346  0.078859\n",
            "148  1.900942  0.116628\n",
            "149  1.390189 -0.282661\n",
            "\n",
            "[150 rows x 2 columns]\n"
          ],
          "name": "stdout"
        }
      ]
    },
    {
      "cell_type": "code",
      "metadata": {
        "id": "xJaaXWm9SM8a",
        "outputId": "2ba59a1b-4f44-40b5-f663-c2179e1b574b",
        "colab": {
          "base_uri": "https://localhost:8080/"
        }
      },
      "source": [
        "# Az iris target mezőjét helyezzük az y nevű változóba!\n",
        "y=iris[\"target\"]\n",
        "# Írassuk ki y-t!\n",
        "print(y)"
      ],
      "execution_count": 99,
      "outputs": [
        {
          "output_type": "stream",
          "text": [
            "[0 0 0 0 0 0 0 0 0 0 0 0 0 0 0 0 0 0 0 0 0 0 0 0 0 0 0 0 0 0 0 0 0 0 0 0 0\n",
            " 0 0 0 0 0 0 0 0 0 0 0 0 0 1 1 1 1 1 1 1 1 1 1 1 1 1 1 1 1 1 1 1 1 1 1 1 1\n",
            " 1 1 1 1 1 1 1 1 1 1 1 1 1 1 1 1 1 1 1 1 1 1 1 1 1 1 2 2 2 2 2 2 2 2 2 2 2\n",
            " 2 2 2 2 2 2 2 2 2 2 2 2 2 2 2 2 2 2 2 2 2 2 2 2 2 2 2 2 2 2 2 2 2 2 2 2 2\n",
            " 2 2]\n"
          ],
          "name": "stdout"
        }
      ]
    },
    {
      "cell_type": "code",
      "metadata": {
        "id": "OSy8xH_9Zwac",
        "outputId": "0551dacf-ca8f-40b6-d609-1d37923efbac",
        "colab": {
          "base_uri": "https://localhost:8080/",
          "height": 825
        }
      },
      "source": [
        "# Importáljuk be a pyplotot a matplotlib-ből plt néven!\n",
        "from matplotlib import pyplot as plt\n",
        "# Kezdjünk új ábrát a plt.figure segítségével!\n",
        "plt.figure(figsize=(10,10))\n",
        "# Készítsünk egy scatter plotot az a df_pca2 első és második dimenziójából,\n",
        "# ahol az adatok színét (c) az y adja meg.\n",
        "print(out[\"C1\"])\n",
        "plt.scatter(out[\"C1\"],out[\"C2\"],s=95,c=y,)\n",
        "# A horizontális címke legyen 'PCA 1' (plt.xlabel).\n",
        "plt.xlabel=\"asfa\"\n",
        "# A vertikális címke legyen 'PCA 2' (plt.ylabel).\n",
        "...\n",
        "# Az ábra címe legyen 'Az Írisz dataset PCA projekciója'.\n",
        "...\n",
        "# Jelenítsük meg az ábrát a plt.show segítségével!\n",
        "..."
      ],
      "execution_count": 122,
      "outputs": [
        {
          "output_type": "stream",
          "text": [
            "0     -2.684126\n",
            "1     -2.714142\n",
            "2     -2.888991\n",
            "3     -2.745343\n",
            "4     -2.728717\n",
            "         ...   \n",
            "145    1.944110\n",
            "146    1.527167\n",
            "147    1.764346\n",
            "148    1.900942\n",
            "149    1.390189\n",
            "Name: C1, Length: 150, dtype: float64\n"
          ],
          "name": "stdout"
        },
        {
          "output_type": "execute_result",
          "data": {
            "text/plain": [
              "Ellipsis"
            ]
          },
          "metadata": {
            "tags": []
          },
          "execution_count": 122
        },
        {
          "output_type": "display_data",
          "data": {
            "image/png": "[encoded data removed]",
            "text/plain": [
              "<Figure size 720x720 with 1 Axes>"
            ]
          },
          "metadata": {
            "tags": [],
            "needs_background": "light"
          }
        }
      ]
    },
    {
      "cell_type": "markdown",
      "metadata": {
        "id": "dc4EVT61aujq"
      },
      "source": [
        "### --> Feladat 3 vége"
      ]
    },
    {
      "cell_type": "code",
      "metadata": {
        "id": "CczsXE5HaxTZ",
        "outputId": "829f3d89-82ad-4ad3-a53a-5cc1902b16be",
        "colab": {
          "base_uri": "https://localhost:8080/",
          "height": 319
        }
      },
      "source": [
        "# PCA 3 dimenzióban\n",
        "\n",
        "from mpl_toolkits.mplot3d.axes3d import Axes3D\n",
        "\n",
        "tr_pca3 = PCA(n_components=3)\n",
        "df_pca3 = tr_pca3.fit_transform(df)\n",
        "\n",
        "fig = plt.figure()\n",
        "ax = Axes3D(fig, elev=-150, azim=110)\n",
        "ax.scatter(df_pca3[:, 0], df_pca3[:, 1], df_pca3[:, 2], c=y)\n",
        "\n",
        "plt.show()"
      ],
      "execution_count": 123,
      "outputs": [
        {
          "output_type": "display_data",
          "data": {
            "image/png": "[encoded data removed]",
            "text/plain": [
              "<Figure size 432x288 with 1 Axes>"
            ]
          },
          "metadata": {
            "tags": [],
            "needs_background": "light"
          }
        }
      ]
    },
    {
      "cell_type": "code",
      "metadata": {
        "id": "SaNooEk8bQc1"
      },
      "source": [
        "# 3D és 2D projekció összehasonlítása\n",
        "\n",
        "tr_pca2 = PCA(n_components=2)\n",
        "df_pca2 = tr_pca2.fit_transform(df)\n",
        "df_pca2_recon = tr_pca2.inverse_transform(df_pca2)\n",
        "\n",
        "tr_pca3 = PCA(n_components=3)\n",
        "df_pca3 = tr_pca3.fit_transform(df)\n",
        "df_pca3_2 = tr_pca3.fit_transform(df_pca2_recon)\n",
        "\n",
        "fig = plt.figure(1)\n",
        "ax = Axes3D(fig, elev=-150, azim=110)\n",
        "ax.scatter(df_pca3[:, 0], df_pca3[:, 1], df_pca3[:, 2], c=y)\n",
        "\n",
        "xmin, xmax = ax.get_xlim()\n",
        "ymin, ymax = ax.get_xlim()\n",
        "zmin, zmax = ax.get_xlim()\n",
        "\n",
        "fig = plt.figure(2)\n",
        "ax = Axes3D(fig, elev=-150, azim=110)\n",
        "ax.set_xlim(xmin,xmax)\n",
        "ax.set_ylim(ymin,ymax)\n",
        "ax.set_zlim(zmin,zmax)\n",
        "ax.scatter(df_pca3_2[:, 0], df_pca3_2[:, 1], df_pca3_2[:, 2], c=y)\n",
        "\n",
        "plt.show()"
      ],
      "execution_count": null,
      "outputs": []
    },
    {
      "cell_type": "markdown",
      "metadata": {
        "id": "tHrXp26ycXXS"
      },
      "source": [
        "### Csökkenő variancia\n",
        "\n",
        "A PCA definíciója alapján a dimenziók szerint csökken a variancia."
      ]
    },
    {
      "cell_type": "code",
      "metadata": {
        "id": "DRGAOuvQcwo0"
      },
      "source": [
        "tr_pca = PCA()\n",
        "tr_pca.fit(df)\n",
        "plt.plot(np.cumsum(tr_pca.explained_variance_ratio_))\n",
        "plt.xlabel('PCA komponensek száma')\n",
        "plt.ylabel('Kumulált variancia');\n",
        "plt.show()"
      ],
      "execution_count": null,
      "outputs": []
    },
    {
      "cell_type": "markdown",
      "metadata": {
        "id": "S3AgePPMc9IB"
      },
      "source": [
        "## Veszteséges tömörítés\n",
        "\n",
        "Encoding: A PCA egy transzformációt definiál az eredeti térből a \"PCA\" térbe.\n",
        "\n",
        "Decoding: Az ellentétes irányú transzformáció is elvégezhető, ezt hívjuk rekonstrukciónak / inverz transzformációnak.\n",
        "* Erre láttunk is példát (PCA.inverse_transform)\n",
        "\n",
        "A PCA ortogonális irányokat ad meg\n",
        "* Ez matematikailag azt jelenti, hogy képes reprezentálni az eredeti teret\n",
        "* Ha az összes PCA dimenziót használom reprezentációra, akkor vissza tudom állítani az eredeti adatokat.\n",
        "\n",
        "Mit tudok tenni abban az esetben, ha\n",
        "* Túl sok dimenzióm van\n",
        "* Azt gondolom, hogy a dimenziók valamilyen szempontból nézve \"redundánsak\"\n",
        "* Szeretném kevesebb byte-tal leírni az adataimat\n",
        "\n",
        "Egy lehetséges tömörítési módszer\n",
        "* Az adatokat a PCA bázis egy kiválasztott alterében ábrázolom.\n",
        "* Azaz nem használom a teljes bázist, csak annak egy részhalmazát.\n",
        "* Praktikus az elsők közül választani, mivel ott van a nagy variancia.\n",
        "\n",
        "Információt veszítek.\n",
        "* Hogy definiáljam azt, hogy melyik információ veszhet el?\n",
        "* Mi az, ami nem annyira fontos a számomra?\n",
        "* Mi lenne, ha eldobnám az alacsony varianciájú dimenziókat?"
      ]
    },
    {
      "cell_type": "markdown",
      "metadata": {
        "id": "UsZkqIiSdhoT"
      },
      "source": [
        "## Digits dataset"
      ]
    },
    {
      "cell_type": "code",
      "metadata": {
        "id": "8rbkTtaReSKQ"
      },
      "source": [
        "# Digits dataset\n",
        "from sklearn.datasets import load_digits\n",
        "digits = load_digits()"
      ],
      "execution_count": null,
      "outputs": []
    },
    {
      "cell_type": "code",
      "metadata": {
        "id": "CxBLD-s1eWv_"
      },
      "source": [
        "print(digits.DESCR)"
      ],
      "execution_count": null,
      "outputs": []
    },
    {
      "cell_type": "code",
      "metadata": {
        "id": "FQAnCVS6eeb2"
      },
      "source": [
        "digits.data.shape"
      ],
      "execution_count": null,
      "outputs": []
    },
    {
      "cell_type": "code",
      "metadata": {
        "id": "Fs-mMK8mehFq"
      },
      "source": [
        "def plot_digits(data):\n",
        "    fig, axes = plt.subplots(4, 10, figsize=(10, 4),\n",
        "                             subplot_kw={'xticks':[], 'yticks':[]},\n",
        "                             gridspec_kw=dict(hspace=0.1, wspace=0.1))\n",
        "    for i, ax in enumerate(axes.flat):\n",
        "        ax.imshow(data[i].reshape(8, 8),\n",
        "                  cmap='binary', interpolation='nearest',\n",
        "                  clim=(0, 16))\n",
        "    plt.show()\n",
        "    \n",
        "df = digits.data\n",
        "plot_digits(df)"
      ],
      "execution_count": null,
      "outputs": []
    },
    {
      "cell_type": "markdown",
      "metadata": {
        "id": "WRhNQ4l6fOiB"
      },
      "source": [
        "### --> Feladat 4: Az IRIS dataseten tanultak alapján jelenítsuk meg a digit datasetet PCA segítségével, 2 dimenzióban"
      ]
    },
    {
      "cell_type": "code",
      "metadata": {
        "id": "GZNA_pB0emjq"
      },
      "source": [
        "...\n",
        "...\n",
        "...\n",
        "..."
      ],
      "execution_count": null,
      "outputs": []
    },
    {
      "cell_type": "code",
      "metadata": {
        "id": "VOcN6olVfvmj"
      },
      "source": [
        "# Segítség:\n",
        "# edgecolor='none',\n",
        "# alpha=0.5,\n",
        "# cmap=plt.cm.get_cmap('nipy_spectral', 10)\n",
        "...\n",
        "...\n",
        "...\n",
        "...\n",
        "..."
      ],
      "execution_count": null,
      "outputs": []
    },
    {
      "cell_type": "markdown",
      "metadata": {
        "id": "7s6e9p-4f8mA"
      },
      "source": [
        "Nem szeparál jól, de nem is arra való."
      ]
    },
    {
      "cell_type": "markdown",
      "metadata": {
        "id": "gsDKVuuwgGSn"
      },
      "source": [
        "### --> Feladat 4 vége"
      ]
    },
    {
      "cell_type": "code",
      "metadata": {
        "id": "Gzk-GycxgNbM"
      },
      "source": [
        "tr_pca = PCA().fit(df)\n",
        "plt.plot(np.cumsum(tr_pca.explained_variance_ratio_))\n",
        "plt.xlabel('number of components')\n",
        "plt.ylabel('cumulative explained variance');\n",
        "plt.show()"
      ],
      "execution_count": null,
      "outputs": []
    },
    {
      "cell_type": "markdown",
      "metadata": {
        "id": "GmwRvfIU4NqD"
      },
      "source": [
        "### -> Feladat 5: Tömörítés, zajszűrés a PCA segítségével\n",
        "\n",
        "Négy különböző encode-decode párost fogunk összehasonlítani:\n",
        " - PCA bázis létrehozása, ami a variancia 90%-át reprezentálja\n",
        " - 50%-os variancia\n",
        " - Zaj hozzáadása az eredeti mintához, majd encode-decode a 90%-ossal\n",
        " - Zajos minta encode-decode az 50%-ossal"
      ]
    },
    {
      "cell_type": "code",
      "metadata": {
        "id": "3VcuNVI2gS1T"
      },
      "source": [
        "# Hozzunk létre egy PCA objektumot, ami a variancia 90%-át tartja meg!\n",
        "# A változó neve legyen: tr_pca_p90.\n",
        "# Dokumentáció: https://scikit-learn.org/stable/modules/generated/sklearn.decomposition.PCA.html\n",
        "...\n",
        "# Tanítsuk be az adatokon a fit metódus segítségével!\n",
        "...\n",
        "# Írassuk ki a komponensek számát (n_components_)!\n",
        "..."
      ],
      "execution_count": null,
      "outputs": []
    },
    {
      "cell_type": "code",
      "metadata": {
        "id": "YUmXI_kc9DtZ"
      },
      "source": [
        "# Analóg módon hozzunk létre egy PCA objektumot, 50%-os varianciával!\n",
        "# A változó neve legyen tr_pca_p50.\n",
        "...\n",
        "# Tanítsuk be az adatokon a fit metódus segítségével!\n",
        "...\n",
        "# Írassuk ki a komponensek számát (n_components_)!\n",
        "..."
      ],
      "execution_count": null,
      "outputs": []
    },
    {
      "cell_type": "code",
      "metadata": {
        "id": "Xx9H3Ja19Q2K"
      },
      "source": [
        "# Zaj hozzáadása a mintához\n",
        "np.random.seed(42)\n",
        "df_noisy = np.random.normal(df, 4)\n",
        "plot_digits(df_noisy)"
      ],
      "execution_count": null,
      "outputs": []
    },
    {
      "cell_type": "code",
      "metadata": {
        "id": "RbWZOVmmgj9q"
      },
      "source": [
        "# Encode, majd decode\n",
        "# Lássuk, hogy mennyire változott-e a minta, olvashatók-e még a számjegyek?\n",
        "# Transzformáljuk a eredeti mintát a 90%-os PCA-val! (transform)\n",
        "...\n",
        "# Rekonstruáljuk az encode-olt mintát! (inverse_transform)\n",
        "...\n",
        "# Írassuk ki a rekonstruált számjegyeket!\n",
        "..."
      ],
      "execution_count": null,
      "outputs": []
    },
    {
      "cell_type": "code",
      "metadata": {
        "id": "lCpbs3IxgwAM"
      },
      "source": [
        "# Tegyük ugyanezt, csak a zajos mintával!\n",
        "...\n",
        "...\n",
        "..."
      ],
      "execution_count": null,
      "outputs": []
    },
    {
      "cell_type": "code",
      "metadata": {
        "id": "_qRFL7D2g0FL"
      },
      "source": [
        "# Nézzük meg, hogy mi történik a mintával egy 50%-os encode-decode esetén!\n",
        "...\n",
        "# Rekonstruáljuk az encode-olt mintát! (inverse_transform)\n",
        "...\n",
        "# Írassuk ki a rekonstruált számjegyeket!\n",
        "..."
      ],
      "execution_count": null,
      "outputs": []
    },
    {
      "cell_type": "code",
      "metadata": {
        "id": "YdUCtj5P9jZJ"
      },
      "source": [
        "# Nézzük meg, hogy mi történik a zajos mintával egy 50%-os encode-decode esetén!\n",
        "...\n",
        "# Rekonstruáljuk az encode-olt mintát! (inverse_transform)\n",
        "...\n",
        "# Írassuk ki a rekonstruált számjegyeket!\n",
        "..."
      ],
      "execution_count": null,
      "outputs": []
    },
    {
      "cell_type": "markdown",
      "metadata": {
        "id": "wGBuO2R1-soh"
      },
      "source": [
        "### --> Feladat 5 vége"
      ]
    },
    {
      "cell_type": "markdown",
      "metadata": {
        "id": "3_s9kags_Z3H"
      },
      "source": [
        "# Faktor analízis\n",
        "\n",
        "A PCA \"továbbfejlesztése\"\n",
        "A PCA egyik problémája az, hogy absztrakt, azaz nem interpretálható, bázisokat hoz létre,\n",
        "* ezért a szociológia, közgazdaságtan nem annyira kedveli.\n",
        "* A FA azt ígéri, hogy olyan bázisokat hoz létre, amelyekhez valamilyen szemantikát lehet rendelni.\n",
        "\n",
        "A FA a \"bázist\" latent factornak (rejtett tényezőnek) hívja. A latent factor fontos kifejezés a reprezentáció tanulásban.\n",
        "\n",
        "A modell tulajdonságai\n",
        "* A model: $x-\\mu=LF-\\epsilon$ - Itt a hibatag bevezetése a fontos, a PCA teljesen vissza tudja állítani a mintát.\n",
        "* A faktorok és a hiba függetlenek egymástól ($\\mathbb{E}(F\\epsilon)=\\mathbb{E}(L)\\mathbb{E}(\\epsilon)$)\n",
        "* A faktorok centráltak ($\\mathbb{E}(F)=0$)\n",
        "* A faktorok nem korrelálnak ($Cov(F)=I$) - Azaz nem merőlegesek, egy másik szemlélet.\n",
        "* A variancia dimenzióként változhat ($Var(\\epsilon_i)=\\psi_i$)\n",
        "\n",
        "![alt text](https://drive.google.com/uc?export=view&id=134DkXI94YuOEm8_sbqi4-BI3QiWrrJA4)"
      ]
    },
    {
      "cell_type": "markdown",
      "metadata": {
        "id": "tG1Ld1ZmCUGS"
      },
      "source": [
        "# LDA\n",
        "\n",
        "Rövidítés: Linear discriminant analysis\n",
        "\n",
        "PCA - unsupervised, azaz nincs plusz információ a mintáról\n",
        "\n",
        "LDA - supervised, címkék is vannak a mintáról\n",
        "\n",
        "A cél, hogy lineárisan minél jobban szeparáljuk az adatokat\n",
        "* Maximális távolság a projektált osztályok átlagai között\n",
        "* Minimális variancia a projektált osztályokban\n",
        "\n",
        "![alt text](https://drive.google.com/uc?export=view&id=141cFMVnoPTvxONe1K5_uQBjXccte2wWo)"
      ]
    },
    {
      "cell_type": "markdown",
      "metadata": {
        "id": "6KvoysErCrk3"
      },
      "source": [
        "## Megfelelő irányú projekció keresése\n",
        "\n",
        "Irány megtalálása, közben a döntési pont vizsgálata.\n",
        "\n",
        "![alt text](https://drive.google.com/uc?export=view&id=10Mv2Xe59wXmUK4AoArhG3i95LDE6Gm0I)"
      ]
    },
    {
      "cell_type": "markdown",
      "metadata": {
        "id": "F4FVwizqDJxc"
      },
      "source": [
        "## Eltérő eloszlások\n",
        "\n",
        "A két eloszlás \"metszési pontjánál\" található a döntési felület.\n",
        "\n",
        "![alt text](https://drive.google.com/uc?export=view&id=10gC0LWyOfAiUzBfBiM02L3IQx4Tb9aZ7)"
      ]
    },
    {
      "cell_type": "code",
      "metadata": {
        "id": "qNMNRhfoEnH6",
        "outputId": "a598daa9-9822-420a-aacd-60f7f58eff0e",
        "colab": {
          "base_uri": "https://localhost:8080/",
          "height": 549
        }
      },
      "source": [
        "\n",
        "from sklearn.discriminant_analysis import LinearDiscriminantAnalysis\n",
        "\n",
        "iris = datasets.load_iris()\n",
        "\n",
        "X = iris.data\n",
        "y = iris.target\n",
        "target_names = iris.target_names\n",
        "\n",
        "pca = PCA(n_components=2)\n",
        "X_r = pca.fit(X).transform(X)\n",
        "\n",
        "lda = LinearDiscriminantAnalysis(n_components=2)\n",
        "X_r2 = lda.fit(X, y).transform(X)\n",
        "\n",
        "plt.figure(1)\n",
        "colors = ['navy', 'turquoise', 'darkorange']\n",
        "lw = 2\n",
        "\n",
        "for color, i, target_name in zip(colors, [0, 1, 2], target_names):\n",
        "    plt.scatter(X_r[y == i, 0], X_r[y == i, 1], color=color, alpha=.8, lw=lw,\n",
        "                label=target_name)\n",
        "plt.legend(loc='best', shadow=False, scatterpoints=1)\n",
        "plt.title('PCA of IRIS dataset')\n",
        "\n",
        "plt.figure(2)\n",
        "for color, i, target_name in zip(colors, [0, 1, 2], target_names):\n",
        "    plt.scatter(X_r2[y == i, 0], X_r2[y == i, 1], alpha=.8, color=color,\n",
        "                label=target_name)\n",
        "plt.legend(loc='best', shadow=False, scatterpoints=1)\n",
        "plt.title('LDA of IRIS dataset')\n",
        "\n",
        "plt.show()"
      ],
      "execution_count": null,
      "outputs": [
        {
          "output_type": "display_data",
          "data": {
            "image/png": "[encoded data removed]",
            "text/plain": [
              "<Figure size 432x288 with 1 Axes>"
            ]
          },
          "metadata": {
            "tags": []
          }
        },
        {
          "output_type": "display_data",
          "data": {
            "image/png": "[encoded data removed]",
            "text/plain": [
              "<Figure size 432x288 with 1 Axes>"
            ]
          },
          "metadata": {
            "tags": []
          }
        }
      ]
    },
    {
      "cell_type": "markdown",
      "metadata": {
        "id": "T4pxjmYcEvfF"
      },
      "source": [
        "# NMF\n",
        "Non-negative matrix factorization\n",
        "\n",
        "Szintén faktorizációs technika.\n",
        "\n",
        "Matematikai háttér\n",
        "* $V=WH$, ahol a mátrixok minden eleme pozitív\n",
        "* A hibafüggvény, amit minimalizálni szeretnénk: $||V-WH||^2_F$\n",
        "* Iteratív (nem explicit) megoldása van\n",
        "* Tipikus eljárások: gradient descent, stochastic gradient descent\n",
        "* Megakadhat lokális minimumban\n",
        "* A megoldás nem egyedi (több lokális minimum). Lásd: $WH=WBB^{-1}H$"
      ]
    },
    {
      "cell_type": "markdown",
      "metadata": {
        "id": "drGK256IY8YT"
      },
      "source": [
        "## Lokális optimalizáció\n",
        "\n",
        "A legtöbb, machine learning területen előforduló eljárás iteratív megoldást ajánl.\n",
        "* A PCA egy matematikai eszköz.\n",
        "* A játék itt abból áll, hogy azt, amit el szeretnénk érni, megpróbáljuk matematikai formulákkal megfogalmazni. Például:\n",
        " * legyen minden komponens pozitív,\n",
        " * legyen minél kisebb a rekonstrukciós hiba\n",
        "* Matematikusi szemmel nézve a nehézség az, hogy úgy legyen megfogalmazva a probléma, hogy le lehessen vezetni a megoldást.\n",
        "* A machine learning szakít ezzel.\n",
        " * Itt inkább az a fontos, hogy konvergáljon az optimumkeresés.\n",
        " * Illetve kis hibát adjon.\n",
        " \n",
        " Bevezetésként (ezek a módszerek lesznek majd, részletesebben)\n",
        " * Gradient descent - Mindig a legmeredekebb irányba megyünk\n",
        " * SG - Véletlenszerűen választunk irányt és javítjuk a hibát.\n",
        " * Mekkorát lépjünk? Esetleg lépjünk egyre kisebbet? (Simulated annealing)\n",
        " * Mikor álljunk meg?\n",
        "  * Ha már nem meredek?\n",
        "  * Ha már nincs idő / lépésszám?\n",
        "  * Ha már elfogyott a lendület? \n",
        "\n",
        "![Hibafelület](https://drive.google.com/uc?export=view&id=1Hb0eddRzWskSJYStF46PufJ9rWZ6Ghyl)\n",
        "forrás: https://www.jeremyjordan.me/gradient-descent/"
      ]
    },
    {
      "cell_type": "markdown",
      "metadata": {
        "id": "2-iobVwuFBbW"
      },
      "source": [
        "## NMF ANN háttér\n",
        "\n",
        "Neurális hálózatok által inspirált módszer\n",
        "\n",
        "Az NMF egy belső / rejtett reprezentációt alakít ki. (ANN terminológia)\n",
        "\n",
        "![alt text](https://drive.google.com/uc?export=view&id=1ezIEehYX3Xi7SSKkhUVHgi8ycCX4TZY3)"
      ]
    },
    {
      "cell_type": "markdown",
      "metadata": {
        "id": "RAo_zAy-FZ1R"
      },
      "source": [
        "## NMF vs PCA\n",
        "\n",
        "Míg a PCA irányokat keres, addig az NMF komponenseket.\n",
        "\n",
        "![alt text](https://drive.google.com/uc?export=view&id=1NYsh5WczVkdPdnR8HHuQ04kfTf-bj4M9)\n",
        "![alt text](https://drive.google.com/uc?export=view&id=1MavO2hlyCbaPT-KSlj4og3GmMXIKRy9c)\n"
      ]
    },
    {
      "cell_type": "markdown",
      "metadata": {
        "id": "ovaV9RaOF4Xw"
      },
      "source": [
        "# Ritka módszerek\n",
        "\n",
        "* Egy vektor ritka, ha kevés nem nulla értéket tartalmaz.\n",
        "  * k-sparse - legfeljebb k darab nem nulla értéket tartalmaz\n",
        "* Reprezentáció tanulás esetén a probléma\n",
        "  * $V=WH,$\n",
        "  * $h_i \\in H,$ $h_i$ ritka\n",
        "  * $V$ - az eredeti minta\n",
        "  * $W$ a koordináták az új reprezentációban\n",
        "  * $H$ a bázis\n",
        "* Ez azt jelenti, hogy egy vektor $k$ darab bázis kombinációjaként tudunk előállítani.\n",
        "  * Ez elviszi a feladatot kombinatorikai irányba - Konkrétan mely dolgok kombinációja legyen a reprezentáció?"
      ]
    },
    {
      "cell_type": "code",
      "metadata": {
        "id": "0pIyFG4-GEQ2",
        "outputId": "05faa9df-88fe-4598-a46c-8b2dbdb5d10c",
        "colab": {
          "base_uri": "https://localhost:8080/",
          "height": 575
        }
      },
      "source": [
        "from __future__ import print_function\n",
        "from time import time\n",
        "\n",
        "from sklearn.feature_extraction.text import TfidfVectorizer\n",
        "from sklearn.decomposition import NMF\n",
        "from sklearn.datasets import fetch_20newsgroups\n",
        "\n",
        "n_samples = 2000\n",
        "n_features = 1000\n",
        "n_topics = 10\n",
        "n_top_words = 20\n",
        "\n",
        "def print_top_words(model, feature_names, n_top_words):\n",
        "    for topic_idx, topic in enumerate(model.components_):\n",
        "        print(\"Topic #%d:\" % topic_idx)\n",
        "        print(\" \".join([feature_names[i]\n",
        "                        for i in topic.argsort()[:-n_top_words - 1:-1]]))\n",
        "    print()\n",
        "\n",
        "\n",
        "print(\"Loading dataset...\")\n",
        "t0 = time()\n",
        "dataset = fetch_20newsgroups(shuffle=True, random_state=1,\n",
        "                             remove=('headers', 'footers', 'quotes'))\n",
        "data_samples = dataset.data[:n_samples]\n",
        "print(\"done in %0.3fs.\" % (time() - t0))\n",
        "\n",
        "# Use tf-idf features for NMF.\n",
        "print(\"Extracting tf-idf features for NMF...\")\n",
        "tfidf_vectorizer = TfidfVectorizer(max_df=0.95, min_df=2,\n",
        "                                   max_features=n_features,\n",
        "                                   stop_words='english')\n",
        "t0 = time()\n",
        "tfidf = tfidf_vectorizer.fit_transform(data_samples)\n",
        "print(\"done in %0.3fs.\" % (time() - t0))\n",
        "\n",
        "# Fit the NMF model\n",
        "print(\"Fitting the NMF model with tf-idf features, \"\n",
        "      \"n_samples=%d and n_features=%d...\"\n",
        "      % (n_samples, n_features))\n",
        "t0 = time()\n",
        "nmf = NMF(n_components=n_topics, random_state=1,\n",
        "          alpha=.1, l1_ratio=.5).fit(tfidf)\n",
        "print(\"done in %0.3fs.\" % (time() - t0))\n",
        "\n",
        "print(\"\\nTopics in NMF model:\")\n",
        "tfidf_feature_names = tfidf_vectorizer.get_feature_names()\n",
        "print_top_words(nmf, tfidf_feature_names, n_top_words)"
      ],
      "execution_count": null,
      "outputs": [
        {
          "output_type": "stream",
          "text": [
            "Downloading 20news dataset. This may take a few minutes.\n",
            "Downloading dataset from https://ndownloader.figshare.com/files/5975967 (14 MB)\n"
          ],
          "name": "stderr"
        },
        {
          "output_type": "stream",
          "text": [
            "Loading dataset...\n",
            "done in 17.624s.\n",
            "Extracting tf-idf features for NMF...\n",
            "done in 0.352s.\n",
            "Fitting the NMF model with tf-idf features, n_samples=2000 and n_features=1000...\n",
            "done in 0.345s.\n",
            "\n",
            "Topics in NMF model:\n",
            "Topic #0:\n",
            "just people don think like know time good make way really say right ve want did ll new use years\n",
            "Topic #1:\n",
            "windows use dos using window program os drivers application help software pc running ms screen files version card code work\n",
            "Topic #2:\n",
            "god jesus bible faith christian christ christians does heaven sin believe lord life church mary atheism belief human love religion\n",
            "Topic #3:\n",
            "thanks know does mail advance hi info interested email anybody looking card help like appreciated information send list video need\n",
            "Topic #4:\n",
            "car cars tires miles 00 new engine insurance price condition oil power speed good 000 brake year models used bought\n",
            "Topic #5:\n",
            "edu soon com send university internet mit ftp mail cc pub article information hope program mac email home contact blood\n",
            "Topic #6:\n",
            "file problem files format win sound ftp pub read save site help image available create copy running memory self version\n",
            "Topic #7:\n",
            "game team games year win play season players nhl runs goal hockey toronto division flyers player defense leafs bad teams\n",
            "Topic #8:\n",
            "drive drives hard disk floppy software card mac computer power scsi controller apple mb 00 pc rom sale problem internal\n",
            "Topic #9:\n",
            "key chip clipper keys encryption government public use secure enforcement phone nsa communications law encrypted security clinton used legal standard\n",
            "\n"
          ],
          "name": "stdout"
        }
      ]
    },
    {
      "cell_type": "markdown",
      "metadata": {
        "id": "YKhPMK9TPE83"
      },
      "source": [
        "* Neurobiológiai motiváció\n",
        "  * Az emlősök idegrendszere több milliárd neuront tartalmaz\n",
        "  * Az információ reprezentációja minta (pattern) alapú - ezt neural code-nak hívják\n",
        "  * A neural code definiálja a reprezentált elemet\n",
        "  * A sűrű (dense) reprezentációs képessége jóval magasabb, mint amennyi információt reprezentálni szükséges\n",
        "  * Egyfajta takarékosság, ne kelljen mindig minden idegsejtnek működnie.\n",
        "  * Több info: http://www.scholarpedia.org/article/Sparse_coding\n",
        "* Példa:\n",
        "  * Málna: 1 x piros + 1 x puha\n",
        "  * Alma: 1 x piros + 1 x kemény\n",
        "  * Banán: 1 x sárga + 1 x puha\n",
        "  * Rossz alma: 1 x barna + 1 x puha\n",
        "* Hol hasznos ez?\n",
        "  * Ha nem változik körülöttünk a világ, amelyet reprezentálnunk kell, akkor ki tudunk fejleszteni egy optimális reprezentációs eljárást.\n",
        "  * Tegyük fel, hogy bejön egy új adat, egy új fogalom.\n",
        "  * Ilyenkor sűrű reprezentáció esetén: bázis újratanulás, majd az összes reprezentáció újraszámítása.\n",
        "  * Sparse reprezentáció esetén nem kell újratanulni az egész reprezentációt, hanem csak az új dolgot kell megtanulni reprezentálni.\n",
        "  * Ritka reprezentáció esetén\n",
        "    * Ha tudunk reprezentálni, akkor csak az új koordinátákat kell kiszámolni.\n",
        "    * Esetleg hozzá kell tenni egy új latent factort, egyfajta megkülönböztető feature-t. Azaz esetleg lehet új bázisra szükség.\n",
        "    * Ha valamelyik bázis változik (optimalizáció), akkor csak az érintetteket kell újraszámolni."
      ]
    },
    {
      "cell_type": "markdown",
      "metadata": {
        "id": "S0gmyl1TPMl1"
      },
      "source": [
        "## Matematikai megfogalmazás\n",
        "\n",
        "Két dolgot szeretnénk egyszerre: kis hibát és ritka reprezentációt\n",
        "\n",
        "Megoldás: a hibatag kiegészítése, például lasso, ridge.\n",
        "\n",
        "Több info: https://en.wikipedia.org/wiki/Lasso_(statistics)\n",
        "\n",
        "### Példa 1: Ritka PCA, itt a hibafüggvénybe kerül bele egy új megszorítás.\n",
        "\n",
        "![alt text](https://drive.google.com/uc?export=view&id=1CIWFcy5O2S7wbpuZ2-ooWcdIHNawWDBV)\n",
        "\n",
        "Fontos: 1-es norma.\n",
        "\n",
        "### Példa 2: Ritka NMF, hibafüggvénnyel\n",
        "\n",
        "![alt text](https://drive.google.com/uc?export=view&id=1KjhpnZ2-GW-RuTOGQZeEXMWoR77PBDsy)\n",
        "\n",
        "https://en.wikipedia.org/wiki/Norm_(mathematics)"
      ]
    },
    {
      "cell_type": "markdown",
      "metadata": {
        "id": "UdgpaATMRrEF"
      },
      "source": [
        "## 1-es norma\n",
        "\n",
        "![alt text](https://drive.google.com/uc?export=view&id=1OG79nFG1JJATSftXAXrIDOKIE6jy-U1h)\n",
        "\n",
        "Forrás: https://gerardnico.com/data_mining/lasso\n"
      ]
    },
    {
      "cell_type": "markdown",
      "metadata": {
        "id": "gck71VlNSsJN"
      },
      "source": [
        "# Restricted Boltzmann Machine\n",
        "\n",
        "* 1986-ban vezették be\n",
        "* Restricted - két réteg van: hidden és visible\n",
        "* Generatív sztochasztikus ANN\n",
        "   * Hidden units - terminológia\n",
        "   * Joint probability eloszlást definiál a hidden és a visible units között. (szép mondat :)\n",
        "   * A stochasztikusság jól jöhet zaj esetén.\n",
        "* Optimalizáció\n",
        "   * Egy energiafüggvényt definiál, ami gyakran előfordul ANN területen\n",
        "   * $E(v,h) = -\\sum_i a_i v_i - \\sum_j b_j h_j -\\sum_i \\sum_j v_i w_{i,j} h_j$\n",
        "  * A megoldás az energiafüggvény optimalizációja alapján áll elő\n",
        "* Kapcsolat: [Markov random field](https://https://en.wikipedia.org/wiki/Markov_random_field)\n",
        "\n",
        "![alt text](https://drive.google.com/uc?export=view&id=1VysYOMZT5zyvAygA9v3O2QbHJLiAQq7s)\n",
        "\n",
        "Kép forrása, illetve több info: https://en.wikipedia.org/wiki/Restricted_Boltzmann_machine"
      ]
    },
    {
      "cell_type": "markdown",
      "metadata": {
        "id": "ch3pDuMcXmzm"
      },
      "source": [
        "# Hebbian learning\n",
        "\n",
        "* Unsupervised, azaz címkézetlen adatokon dolgozik.\n",
        "* Egyfajta asszocitatív memória\n",
        "* Azokat a kapcsolatokat erősíti, amelyek időben együtt tüzelnek (fire together -> wire together)\n",
        "\n",
        "https://en.wikipedia.org/wiki/Hebbian_theory"
      ]
    },
    {
      "cell_type": "markdown",
      "metadata": {
        "id": "oe9YadzdGKKN"
      },
      "source": [
        "# Encoder - decoder terminológia\n",
        "\n",
        "* $L(x-g_\\Theta(f_\\Theta(x)))$\n",
        " * $L$ hibafüggvény\n",
        " * $f_\\Theta$ kódoló (encoder)\n",
        " * $g_\\Theta$ dekódoló (decoder)\n",
        "* Lineáris eset:\n",
        " * $f_\\Theta(x)=b+Wx$\n",
        " * $g_\\Theta(x)= d + W'h$\n",
        "* PCA: L = MSE (mean squared error) és W ortogonális\n",
        "* Példa:\n",
        " * de-noising autoencoder - várható értéket a hibafüggvényben\n",
        " * contractive autoencoder - [Jacobian](https://https://en.wikipedia.org/wiki/Jacobian_matrix_and_determinant) a hibafüggvényben\n",
        " * Sparse autoencoder - egyes norma a hibatagban"
      ]
    },
    {
      "cell_type": "markdown",
      "metadata": {
        "id": "MrIS1i6szJLJ"
      },
      "source": [
        "![Deep Learning](https://i1.wp.com/www.michaelchimenti.com/wp-content/uploads/2017/11/Deep-Neural-Network-What-is-Deep-Learning-Edureka.png?ssl=1)\n",
        "forrás: https://cdn.edureka.co/blog/wp-content/uploads/2017/05/Deep-Neural-Network-What-is-Deep-Learning-Edureka.png"
      ]
    },
    {
      "cell_type": "markdown",
      "metadata": {
        "id": "QDzoOClsH9iq"
      },
      "source": [
        "# Alapelvek\n",
        "\n",
        "* Smooth - $x~y$, implies that $f(x)~f(y)\n",
        "* Multiple explanatory factors - The data has to be generated by several underlying factors. Not one.\n",
        "* Disentangling factors - Somehow independent, not necessarily orthogonal.\n",
        "* Sparsity - Only a few explanatory factors for each observation.\n",
        "* Hierarchical organization of the explanatory factors - More and less abstract concepts, deep learning.\n",
        "* Simplicity - In good, high level representations the factors are related to each other through simple (in most cases linear) dependencies.\n",
        "* Coherence - Spatially nearby observations should be associated with the same value of categorical concepts.\n",
        "* Manifolds - Different values of categorical variables are associated with separate manifolds.\n",
        "\n",
        "Forrás: Representation Learning: A Review and New Perspectives by Bengio et al.\n",
        "\n",
        "Link: https://arxiv.org/abs/1206.5538"
      ]
    },
    {
      "cell_type": "markdown",
      "metadata": {
        "id": "3mjFkpO2yz13"
      },
      "source": [
        "# Könyvajánló\n",
        "\n",
        "Simon O. Haykin - Neural Networks and Learning Machines\n",
        "\n",
        "http://dai.fmph.uniba.sk/courses/NN/haykin.neural-networks.3ed.2009.pdf"
      ]
    }
  ]
}