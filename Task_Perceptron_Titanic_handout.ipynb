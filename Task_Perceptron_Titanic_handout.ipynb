{
  "nbformat": 4,
  "nbformat_minor": 0,
  "metadata": {
    "accelerator": "GPU",
    "colab": {
      "name": "Task_Perceptron_Titanic_handout.ipynb",
      "provenance": [],
      "include_colab_link": true
    },
    "kernelspec": {
      "display_name": "Python 3",
      "language": "python",
      "name": "python3"
    },
    "language_info": {
      "codemirror_mode": {
        "name": "ipython",
        "version": 3
      },
      "file_extension": ".py",
      "mimetype": "text/x-python",
      "name": "python",
      "nbconvert_exporter": "python",
      "pygments_lexer": "ipython3",
      "version": "3.6.8"
    },
    "toc": {
      "base_numbering": 1,
      "nav_menu": {},
      "number_sections": true,
      "sideBar": true,
      "skip_h1_title": false,
      "title_cell": "Table of Contents",
      "title_sidebar": "Contents",
      "toc_cell": false,
      "toc_position": {},
      "toc_section_display": true,
      "toc_window_display": false
    },
    "varInspector": {
      "cols": {
        "lenName": 16,
        "lenType": 16,
        "lenVar": 40
      },
      "kernels_config": {
        "python": {
          "delete_cmd_postfix": "",
          "delete_cmd_prefix": "del ",
          "library": "var_list.py",
          "varRefreshCmd": "print(var_dic_list())"
        },
        "r": {
          "delete_cmd_postfix": ") ",
          "delete_cmd_prefix": "rm(",
          "library": "var_list.r",
          "varRefreshCmd": "cat(var_dic_list()) "
        }
      },
      "types_to_exclude": [
        "module",
        "function",
        "builtin_function_or_method",
        "instance",
        "_Feature"
      ],
      "window_display": false
    }
  },
  "cells": [
    {
      "cell_type": "markdown",
      "metadata": {
        "id": "view-in-github",
        "colab_type": "text"
      },
      "source": [
        "<a href=\"https://colab.research.google.com/github/sipocz/Colab/blob/main/Task_Perceptron_Titanic_handout.ipynb\" target=\"_parent\"><img src=\"https://colab.research.google.com/assets/colab-badge.svg\" alt=\"Open In Colab\"/></a>"
      ]
    },
    {
      "cell_type": "markdown",
      "metadata": {
        "id": "JYYqDOvlte6L"
      },
      "source": [
        "# Preliminaries"
      ]
    },
    {
      "cell_type": "markdown",
      "metadata": {
        "id": "-6cYvzC0te6Q"
      },
      "source": [
        "We download the data:"
      ]
    },
    {
      "cell_type": "code",
      "metadata": {
        "colab": {
          "base_uri": "https://localhost:8080/"
        },
        "id": "JmyEkrASte6Q",
        "outputId": "01e0271f-2911-49bf-bca8-60eebea90878"
      },
      "source": [
        "! wget https://gitlab.com/andras.simonyi/10_days_AI_training_data/raw/65de5908dccf120762b305238e02610a8c18a3f9/titanic_train.csv"
      ],
      "execution_count": 49,
      "outputs": [
        {
          "output_type": "stream",
          "text": [
            "--2021-01-28 16:58:17--  https://gitlab.com/andras.simonyi/10_days_AI_training_data/raw/65de5908dccf120762b305238e02610a8c18a3f9/titanic_train.csv\n",
            "Resolving gitlab.com (gitlab.com)... 172.65.251.78, 2606:4700:90:0:f22e:fbec:5bed:a9b9\n",
            "Connecting to gitlab.com (gitlab.com)|172.65.251.78|:443... connected.\n",
            "HTTP request sent, awaiting response... 200 OK\n",
            "Length: unspecified [text/plain]\n",
            "Saving to: ‘titanic_train.csv.1’\n",
            "\n",
            "\rtitanic_train.csv.1     [<=>                 ]       0  --.-KB/s               \rtitanic_train.csv.1     [ <=>                ]  59.76K  --.-KB/s    in 0.006s  \n",
            "\n",
            "2021-01-28 16:58:17 (10.3 MB/s) - ‘titanic_train.csv.1’ saved [61194]\n",
            "\n"
          ],
          "name": "stdout"
        }
      ]
    },
    {
      "cell_type": "markdown",
      "metadata": {
        "id": "hpPPMTGVte6R"
      },
      "source": [
        "# A perceptron implementation in NumPy"
      ]
    },
    {
      "cell_type": "markdown",
      "metadata": {
        "id": "OW5unTVCte6R"
      },
      "source": [
        "We create a Perceptron class, which mimics scikit-learn estimators by providing a `fit` and a `predict` method:\n",
        "+ The `predict` method returns a vector of predictions for an array of samples, while \n",
        "+ the `fit` method initializes the model parameters and trains the model using the perceptron learning rule."
      ]
    },
    {
      "cell_type": "code",
      "metadata": {
        "id": "lUOqWKrMte6R"
      },
      "source": [
        "import numpy as np\n",
        "from numpy.random import permutation, seed\n",
        "seed(12) # Fix the random seed\n",
        "\n",
        "class Perceptron:\n",
        "    \"\"\"A simple implementation of the classic single-neuron perceptron model.\n",
        "\n",
        "    Attrs:\n",
        "        fitted (bool): Whether the model has been fitted.\n",
        "        n_features (int): Number of input features.\n",
        "        weights (numpy array): The model's weights.\n",
        "        bias (float): The model's bias.\n",
        "    \"\"\"\n",
        "    \n",
        "    def __init__(self):\n",
        "        \"\"\"Create a perceptron model.\n",
        "\n",
        "        Returns:\n",
        "            A new perceptron instance.\n",
        "        \"\"\"\n",
        "        self.fitted = False\n",
        "\n",
        "    def fit(self, X, y, n_epochs=10, lr=0.01):\n",
        "        \"\"\"Fit the model to a data set.\n",
        "\n",
        "        Args:\n",
        "            X (numpy array of shape (n_samples, n_features)): Training data.\n",
        "            y (numpy array of shape (n_samples,)): Target binary labels.\n",
        "            n_epochs (int): Number of training epochs.\n",
        "            lr (float): Learning rate.\n",
        "        \"\"\"\n",
        "        self.n_samples, self.n_features = X.shape\n",
        "        self.y=y\n",
        "        self.X=X\n",
        "        self.n_epochs=n_epochs\n",
        "        self.lr=lr\n",
        "        self.akt=0\n",
        "        \n",
        "        \n",
        "\n",
        "\n",
        "        # Initialization\n",
        "        # As we know, tha ONLY neural model that can be initialized to zeroes\n",
        "        # is the Perceptron, if we use the perceptron learning rule.\n",
        "        # Please initialize the weights and biases to zero!\n",
        "        # Use Numpy!\n",
        "        # Bear in mind, that the weights are a VECTOR, not a one dimensional matrix!\n",
        "        # Bias is a scalar.\n",
        "        self.weights = np.zeros(self.n_features)\n",
        "        self.bias = 0\n",
        "\n",
        "        # Training\n",
        "        # Implement the main loop, use the epoch parameter!\n",
        "        for self.akt in range(self.n_epochs):\n",
        "            Xakt=self.X[self.akt]\n",
        "\n",
        "        \n",
        "            print(\"Starting epoch \", self.akt)\n",
        "\n",
        "            # Random shuffle - in  a tricky way.\n",
        "            # Generate a permutation mask with numpy \n",
        "            # which we will use to index into the data, thus realizing \"shuffling\".\n",
        "            # Numpy has a permutation function. \n",
        "            # Please bear in mind, how many datapoints do we have. \n",
        "            # We have a variable for it above...\n",
        "        \n",
        "            perm = np.random.permutation(self.n_samples)\n",
        "\n",
        "            # Do the epoch!\n",
        "            # Observe the trick, please!\n",
        "            # We use the permutation mask to index into X and y,\n",
        "            # and we generate and iterator of tuples.\n",
        "            # Then we parse the intividual tuples (x,y pairs), and loot through them.\n",
        "            for x, label in zip(X[perm], y[perm]): #: you can uncomment this, if you have understood.\n",
        "                # Please convert the 1/0 label to 1/-1 label\n",
        "                # 1 should remain 1, 0 should become -1\n",
        "                # Use some easy mathematics, or whatever you feel like.\n",
        "                y_=label\n",
        "                if y_==0:\n",
        "                    y_=-1\n",
        "\n",
        "                \n",
        "                \n",
        "                \n",
        "                # Implement the update rule!\n",
        "                # If the simple product of the output of our neuron and the true label is\n",
        "                # less than or equal to zero (negative), we will update.\n",
        "                # Remember, the activation is W times x plus the bias.\n",
        "                # Please bear in mind, that the \"times\" here is denoting the dot product!\n",
        "                \n",
        "                if (np.dot(self.weights,x)+self.bias)*y_<=0:\n",
        "                    # So, we have an error. We should \"update\" the weights and the bias!\n",
        "                    # We just add to the weight the multiplication of the input vector \n",
        "                    # and the true label, mutiplied by the learning rate \n",
        "                    # (we have a parameter for that).\n",
        "                    self.weights += x*y_*self.lr\n",
        "                    # For the bias we have the \"virtual input\" of 1, so we only add true label \n",
        "                    # multiplied by the learning rate.\n",
        "                    self.bias += 1*y_*self.lr\n",
        "                \n",
        "                # Lo and behold, THAT'S IT!\n",
        "                # We have implemented a perceptron!\n",
        "        \n",
        "        self.fitted = True\n",
        "        print(\"Finished training.\")\n",
        "\n",
        "    def predict(self, X):\n",
        "        \"\"\"Predict labels for samples.\n",
        "        \n",
        "        Args:\n",
        "            X (numpy array of shape (n_samples, n_features)):  Samples.\n",
        "\n",
        "        Returns:\n",
        "            A numpy array of shape (n_samples,) containing the predicted labels.\n",
        "        \"\"\"\n",
        "        if not self.fitted:\n",
        "            raise ValueError(\"Perceptron model is not fitted\")\n",
        "        elif X.shape[1] != self.n_features:\n",
        "            raise ValueError(f\"Incorrect number of input features (expected {self.n_features})\")\n",
        "        else:\n",
        "            \n",
        "            # Please think through and explain the trainer, WHY this is a matmul!?\n",
        "            #You can remove the line, just here to make you think.\n",
        "            activations = np.matmul(X, self.weights) + self.bias\n",
        "            signs = np.sign(activations).astype(int) \n",
        "            # Tricky conversion of signs to 0/1 labels\n",
        "            return (signs + signs * signs) // 2       \n"
      ],
      "execution_count": 50,
      "outputs": []
    },
    {
      "cell_type": "code",
      "metadata": {
        "id": "1eUPgdyu2Qxm"
      },
      "source": [
        ""
      ],
      "execution_count": 50,
      "outputs": []
    },
    {
      "cell_type": "markdown",
      "metadata": {
        "id": "rBKd_jB-te6S"
      },
      "source": [
        "# Trying it out -- on the Titanic data set\n",
        "\n",
        "Short description of the data set:\n",
        "\n",
        "> The titanic [...] data frames describe the survival status of individual passengers on the Titanic.\n",
        "\n",
        "> Non-obvious variables:\n",
        "\n",
        ">- Pclass -- Passenger Class  (1 = 1st; 2 = 2nd; 3 = 3rd)\n",
        ">- Survived -- Survival  (0 = No; 1 = Yes)\n",
        ">- SibSp -- Number of Siblings/Spouses Aboard\n",
        ">- Parch -- Number of Parents/Children Aboard\n",
        ">- Fare (ticket price in British pound)\n",
        ">- Embarked -- Port of Embarkation (C = Cherbourg; Q = Queenstown; S = Southampton)\n"
      ]
    },
    {
      "cell_type": "code",
      "metadata": {
        "id": "KVILRIi2te6S"
      },
      "source": [
        "import pandas as pd\n",
        "from sklearn.model_selection import train_test_split\n",
        "\n",
        "\n",
        "df = pd.read_csv(\"titanic_train.csv\")"
      ],
      "execution_count": 51,
      "outputs": []
    },
    {
      "cell_type": "markdown",
      "metadata": {
        "id": "dd6wJQT-te6T"
      },
      "source": [
        "For the sake of simplicity, we divide our data only into a training and a validation part:"
      ]
    },
    {
      "cell_type": "code",
      "metadata": {
        "colab": {
          "base_uri": "https://localhost:8080/"
        },
        "id": "pb2Kgvg1te6T",
        "outputId": "62a7b489-9e11-41d3-cf78-71eb7ecb7277"
      },
      "source": [
        "df_train, df_valid = train_test_split(df, test_size=0.1)\n",
        "df_train.reset_index(inplace=True)\n",
        "df_valid.reset_index(inplace=True)\n",
        "print(\"train shape:\", df_train.shape)\n",
        "print(\"validation shape:\", df_valid.shape)"
      ],
      "execution_count": 52,
      "outputs": [
        {
          "output_type": "stream",
          "text": [
            "train shape: (801, 13)\n",
            "validation shape: (90, 13)\n"
          ],
          "name": "stdout"
        }
      ]
    },
    {
      "cell_type": "markdown",
      "metadata": {
        "id": "iIt9iEx1te6T"
      },
      "source": [
        "## Inspecting and cleaning the data"
      ]
    },
    {
      "cell_type": "code",
      "metadata": {
        "scrolled": true,
        "colab": {
          "base_uri": "https://localhost:8080/",
          "height": 346
        },
        "id": "_233pbJOte6T",
        "outputId": "30aa2b98-8186-41c8-bff0-bb09a54d3e25"
      },
      "source": [
        "df_train.head()"
      ],
      "execution_count": 53,
      "outputs": [
        {
          "output_type": "execute_result",
          "data": {
            "text/html": [
              "<div>\n",
              "<style scoped>\n",
              "    .dataframe tbody tr th:only-of-type {\n",
              "        vertical-align: middle;\n",
              "    }\n",
              "\n",
              "    .dataframe tbody tr th {\n",
              "        vertical-align: top;\n",
              "    }\n",
              "\n",
              "    .dataframe thead th {\n",
              "        text-align: right;\n",
              "    }\n",
              "</style>\n",
              "<table border=\"1\" class=\"dataframe\">\n",
              "  <thead>\n",
              "    <tr style=\"text-align: right;\">\n",
              "      <th></th>\n",
              "      <th>index</th>\n",
              "      <th>PassengerId</th>\n",
              "      <th>Survived</th>\n",
              "      <th>Pclass</th>\n",
              "      <th>Name</th>\n",
              "      <th>Sex</th>\n",
              "      <th>Age</th>\n",
              "      <th>SibSp</th>\n",
              "      <th>Parch</th>\n",
              "      <th>Ticket</th>\n",
              "      <th>Fare</th>\n",
              "      <th>Cabin</th>\n",
              "      <th>Embarked</th>\n",
              "    </tr>\n",
              "  </thead>\n",
              "  <tbody>\n",
              "    <tr>\n",
              "      <th>0</th>\n",
              "      <td>715</td>\n",
              "      <td>716</td>\n",
              "      <td>0</td>\n",
              "      <td>3</td>\n",
              "      <td>Soholt, Mr. Peter Andreas Lauritz Andersen</td>\n",
              "      <td>male</td>\n",
              "      <td>19.0</td>\n",
              "      <td>0</td>\n",
              "      <td>0</td>\n",
              "      <td>348124</td>\n",
              "      <td>7.6500</td>\n",
              "      <td>F G73</td>\n",
              "      <td>S</td>\n",
              "    </tr>\n",
              "    <tr>\n",
              "      <th>1</th>\n",
              "      <td>319</td>\n",
              "      <td>320</td>\n",
              "      <td>1</td>\n",
              "      <td>1</td>\n",
              "      <td>Spedden, Mrs. Frederic Oakley (Margaretta Corn...</td>\n",
              "      <td>female</td>\n",
              "      <td>40.0</td>\n",
              "      <td>1</td>\n",
              "      <td>1</td>\n",
              "      <td>16966</td>\n",
              "      <td>134.5000</td>\n",
              "      <td>E34</td>\n",
              "      <td>C</td>\n",
              "    </tr>\n",
              "    <tr>\n",
              "      <th>2</th>\n",
              "      <td>829</td>\n",
              "      <td>830</td>\n",
              "      <td>1</td>\n",
              "      <td>1</td>\n",
              "      <td>Stone, Mrs. George Nelson (Martha Evelyn)</td>\n",
              "      <td>female</td>\n",
              "      <td>62.0</td>\n",
              "      <td>0</td>\n",
              "      <td>0</td>\n",
              "      <td>113572</td>\n",
              "      <td>80.0000</td>\n",
              "      <td>B28</td>\n",
              "      <td>NaN</td>\n",
              "    </tr>\n",
              "    <tr>\n",
              "      <th>3</th>\n",
              "      <td>79</td>\n",
              "      <td>80</td>\n",
              "      <td>1</td>\n",
              "      <td>3</td>\n",
              "      <td>Dowdell, Miss. Elizabeth</td>\n",
              "      <td>female</td>\n",
              "      <td>30.0</td>\n",
              "      <td>0</td>\n",
              "      <td>0</td>\n",
              "      <td>364516</td>\n",
              "      <td>12.4750</td>\n",
              "      <td>NaN</td>\n",
              "      <td>S</td>\n",
              "    </tr>\n",
              "    <tr>\n",
              "      <th>4</th>\n",
              "      <td>484</td>\n",
              "      <td>485</td>\n",
              "      <td>1</td>\n",
              "      <td>1</td>\n",
              "      <td>Bishop, Mr. Dickinson H</td>\n",
              "      <td>male</td>\n",
              "      <td>25.0</td>\n",
              "      <td>1</td>\n",
              "      <td>0</td>\n",
              "      <td>11967</td>\n",
              "      <td>91.0792</td>\n",
              "      <td>B49</td>\n",
              "      <td>C</td>\n",
              "    </tr>\n",
              "  </tbody>\n",
              "</table>\n",
              "</div>"
            ],
            "text/plain": [
              "   index  PassengerId  Survived  Pclass  ...  Ticket      Fare  Cabin  Embarked\n",
              "0    715          716         0       3  ...  348124    7.6500  F G73         S\n",
              "1    319          320         1       1  ...   16966  134.5000    E34         C\n",
              "2    829          830         1       1  ...  113572   80.0000    B28       NaN\n",
              "3     79           80         1       3  ...  364516   12.4750    NaN         S\n",
              "4    484          485         1       1  ...   11967   91.0792    B49         C\n",
              "\n",
              "[5 rows x 13 columns]"
            ]
          },
          "metadata": {
            "tags": []
          },
          "execution_count": 53
        }
      ]
    },
    {
      "cell_type": "code",
      "metadata": {
        "colab": {
          "base_uri": "https://localhost:8080/",
          "height": 443
        },
        "id": "RZgrCVVFte6U",
        "outputId": "aec0f0ec-9459-4a3f-b73b-4e609ece221f"
      },
      "source": [
        "df_train.describe(include=\"all\")"
      ],
      "execution_count": 54,
      "outputs": [
        {
          "output_type": "execute_result",
          "data": {
            "text/html": [
              "<div>\n",
              "<style scoped>\n",
              "    .dataframe tbody tr th:only-of-type {\n",
              "        vertical-align: middle;\n",
              "    }\n",
              "\n",
              "    .dataframe tbody tr th {\n",
              "        vertical-align: top;\n",
              "    }\n",
              "\n",
              "    .dataframe thead th {\n",
              "        text-align: right;\n",
              "    }\n",
              "</style>\n",
              "<table border=\"1\" class=\"dataframe\">\n",
              "  <thead>\n",
              "    <tr style=\"text-align: right;\">\n",
              "      <th></th>\n",
              "      <th>index</th>\n",
              "      <th>PassengerId</th>\n",
              "      <th>Survived</th>\n",
              "      <th>Pclass</th>\n",
              "      <th>Name</th>\n",
              "      <th>Sex</th>\n",
              "      <th>Age</th>\n",
              "      <th>SibSp</th>\n",
              "      <th>Parch</th>\n",
              "      <th>Ticket</th>\n",
              "      <th>Fare</th>\n",
              "      <th>Cabin</th>\n",
              "      <th>Embarked</th>\n",
              "    </tr>\n",
              "  </thead>\n",
              "  <tbody>\n",
              "    <tr>\n",
              "      <th>count</th>\n",
              "      <td>801.000000</td>\n",
              "      <td>801.000000</td>\n",
              "      <td>801.000000</td>\n",
              "      <td>801.000000</td>\n",
              "      <td>801</td>\n",
              "      <td>801</td>\n",
              "      <td>642.000000</td>\n",
              "      <td>801.000000</td>\n",
              "      <td>801.000000</td>\n",
              "      <td>801</td>\n",
              "      <td>801.000000</td>\n",
              "      <td>179</td>\n",
              "      <td>799</td>\n",
              "    </tr>\n",
              "    <tr>\n",
              "      <th>unique</th>\n",
              "      <td>NaN</td>\n",
              "      <td>NaN</td>\n",
              "      <td>NaN</td>\n",
              "      <td>NaN</td>\n",
              "      <td>801</td>\n",
              "      <td>2</td>\n",
              "      <td>NaN</td>\n",
              "      <td>NaN</td>\n",
              "      <td>NaN</td>\n",
              "      <td>627</td>\n",
              "      <td>NaN</td>\n",
              "      <td>133</td>\n",
              "      <td>3</td>\n",
              "    </tr>\n",
              "    <tr>\n",
              "      <th>top</th>\n",
              "      <td>NaN</td>\n",
              "      <td>NaN</td>\n",
              "      <td>NaN</td>\n",
              "      <td>NaN</td>\n",
              "      <td>Eklund, Mr. Hans Linus</td>\n",
              "      <td>male</td>\n",
              "      <td>NaN</td>\n",
              "      <td>NaN</td>\n",
              "      <td>NaN</td>\n",
              "      <td>1601</td>\n",
              "      <td>NaN</td>\n",
              "      <td>B96 B98</td>\n",
              "      <td>S</td>\n",
              "    </tr>\n",
              "    <tr>\n",
              "      <th>freq</th>\n",
              "      <td>NaN</td>\n",
              "      <td>NaN</td>\n",
              "      <td>NaN</td>\n",
              "      <td>NaN</td>\n",
              "      <td>1</td>\n",
              "      <td>517</td>\n",
              "      <td>NaN</td>\n",
              "      <td>NaN</td>\n",
              "      <td>NaN</td>\n",
              "      <td>7</td>\n",
              "      <td>NaN</td>\n",
              "      <td>4</td>\n",
              "      <td>578</td>\n",
              "    </tr>\n",
              "    <tr>\n",
              "      <th>mean</th>\n",
              "      <td>439.566792</td>\n",
              "      <td>440.566792</td>\n",
              "      <td>0.383271</td>\n",
              "      <td>2.309613</td>\n",
              "      <td>NaN</td>\n",
              "      <td>NaN</td>\n",
              "      <td>29.634097</td>\n",
              "      <td>0.518102</td>\n",
              "      <td>0.373283</td>\n",
              "      <td>NaN</td>\n",
              "      <td>32.386844</td>\n",
              "      <td>NaN</td>\n",
              "      <td>NaN</td>\n",
              "    </tr>\n",
              "    <tr>\n",
              "      <th>std</th>\n",
              "      <td>256.901656</td>\n",
              "      <td>256.901656</td>\n",
              "      <td>0.486487</td>\n",
              "      <td>0.834578</td>\n",
              "      <td>NaN</td>\n",
              "      <td>NaN</td>\n",
              "      <td>14.516042</td>\n",
              "      <td>1.120261</td>\n",
              "      <td>0.786915</td>\n",
              "      <td>NaN</td>\n",
              "      <td>50.556727</td>\n",
              "      <td>NaN</td>\n",
              "      <td>NaN</td>\n",
              "    </tr>\n",
              "    <tr>\n",
              "      <th>min</th>\n",
              "      <td>0.000000</td>\n",
              "      <td>1.000000</td>\n",
              "      <td>0.000000</td>\n",
              "      <td>1.000000</td>\n",
              "      <td>NaN</td>\n",
              "      <td>NaN</td>\n",
              "      <td>0.420000</td>\n",
              "      <td>0.000000</td>\n",
              "      <td>0.000000</td>\n",
              "      <td>NaN</td>\n",
              "      <td>0.000000</td>\n",
              "      <td>NaN</td>\n",
              "      <td>NaN</td>\n",
              "    </tr>\n",
              "    <tr>\n",
              "      <th>25%</th>\n",
              "      <td>216.000000</td>\n",
              "      <td>217.000000</td>\n",
              "      <td>0.000000</td>\n",
              "      <td>2.000000</td>\n",
              "      <td>NaN</td>\n",
              "      <td>NaN</td>\n",
              "      <td>20.000000</td>\n",
              "      <td>0.000000</td>\n",
              "      <td>0.000000</td>\n",
              "      <td>NaN</td>\n",
              "      <td>7.895800</td>\n",
              "      <td>NaN</td>\n",
              "      <td>NaN</td>\n",
              "    </tr>\n",
              "    <tr>\n",
              "      <th>50%</th>\n",
              "      <td>441.000000</td>\n",
              "      <td>442.000000</td>\n",
              "      <td>0.000000</td>\n",
              "      <td>3.000000</td>\n",
              "      <td>NaN</td>\n",
              "      <td>NaN</td>\n",
              "      <td>28.000000</td>\n",
              "      <td>0.000000</td>\n",
              "      <td>0.000000</td>\n",
              "      <td>NaN</td>\n",
              "      <td>14.400000</td>\n",
              "      <td>NaN</td>\n",
              "      <td>NaN</td>\n",
              "    </tr>\n",
              "    <tr>\n",
              "      <th>75%</th>\n",
              "      <td>659.000000</td>\n",
              "      <td>660.000000</td>\n",
              "      <td>1.000000</td>\n",
              "      <td>3.000000</td>\n",
              "      <td>NaN</td>\n",
              "      <td>NaN</td>\n",
              "      <td>38.000000</td>\n",
              "      <td>1.000000</td>\n",
              "      <td>0.000000</td>\n",
              "      <td>NaN</td>\n",
              "      <td>31.000000</td>\n",
              "      <td>NaN</td>\n",
              "      <td>NaN</td>\n",
              "    </tr>\n",
              "    <tr>\n",
              "      <th>max</th>\n",
              "      <td>890.000000</td>\n",
              "      <td>891.000000</td>\n",
              "      <td>1.000000</td>\n",
              "      <td>3.000000</td>\n",
              "      <td>NaN</td>\n",
              "      <td>NaN</td>\n",
              "      <td>80.000000</td>\n",
              "      <td>8.000000</td>\n",
              "      <td>5.000000</td>\n",
              "      <td>NaN</td>\n",
              "      <td>512.329200</td>\n",
              "      <td>NaN</td>\n",
              "      <td>NaN</td>\n",
              "    </tr>\n",
              "  </tbody>\n",
              "</table>\n",
              "</div>"
            ],
            "text/plain": [
              "             index  PassengerId    Survived  ...        Fare    Cabin Embarked\n",
              "count   801.000000   801.000000  801.000000  ...  801.000000      179      799\n",
              "unique         NaN          NaN         NaN  ...         NaN      133        3\n",
              "top            NaN          NaN         NaN  ...         NaN  B96 B98        S\n",
              "freq           NaN          NaN         NaN  ...         NaN        4      578\n",
              "mean    439.566792   440.566792    0.383271  ...   32.386844      NaN      NaN\n",
              "std     256.901656   256.901656    0.486487  ...   50.556727      NaN      NaN\n",
              "min       0.000000     1.000000    0.000000  ...    0.000000      NaN      NaN\n",
              "25%     216.000000   217.000000    0.000000  ...    7.895800      NaN      NaN\n",
              "50%     441.000000   442.000000    0.000000  ...   14.400000      NaN      NaN\n",
              "75%     659.000000   660.000000    1.000000  ...   31.000000      NaN      NaN\n",
              "max     890.000000   891.000000    1.000000  ...  512.329200      NaN      NaN\n",
              "\n",
              "[11 rows x 13 columns]"
            ]
          },
          "metadata": {
            "tags": []
          },
          "execution_count": 54
        }
      ]
    },
    {
      "cell_type": "code",
      "metadata": {
        "colab": {
          "base_uri": "https://localhost:8080/"
        },
        "id": "2FC_HvODte6U",
        "outputId": "a00c53f3-1d58-4992-ee59-d929a07d1c85"
      },
      "source": [
        "df_train.isna().sum()"
      ],
      "execution_count": 55,
      "outputs": [
        {
          "output_type": "execute_result",
          "data": {
            "text/plain": [
              "index            0\n",
              "PassengerId      0\n",
              "Survived         0\n",
              "Pclass           0\n",
              "Name             0\n",
              "Sex              0\n",
              "Age            159\n",
              "SibSp            0\n",
              "Parch            0\n",
              "Ticket           0\n",
              "Fare             0\n",
              "Cabin          622\n",
              "Embarked         2\n",
              "dtype: int64"
            ]
          },
          "metadata": {
            "tags": []
          },
          "execution_count": 55
        }
      ]
    },
    {
      "cell_type": "markdown",
      "metadata": {
        "id": "foKgMc-Gte6U"
      },
      "source": [
        "Based on our inspection, we drop the Cabin, Ticket, PassengerId, Name and index columns, since they are unusable for the prediction task:"
      ]
    },
    {
      "cell_type": "code",
      "metadata": {
        "colab": {
          "base_uri": "https://localhost:8080/",
          "height": 195
        },
        "id": "lmQBqGM3te6U",
        "outputId": "2470db44-05d8-4007-fcd2-2e5a1d733a86"
      },
      "source": [
        "columns_to_drop = [\"Cabin\", \"Ticket\", \"PassengerId\", \"Name\", \"index\"]\n",
        "df_train = df_train.drop(columns=columns_to_drop)\n",
        "df_valid = df_valid.drop(columns=columns_to_drop)\n",
        "df_train.head()"
      ],
      "execution_count": 56,
      "outputs": [
        {
          "output_type": "execute_result",
          "data": {
            "text/html": [
              "<div>\n",
              "<style scoped>\n",
              "    .dataframe tbody tr th:only-of-type {\n",
              "        vertical-align: middle;\n",
              "    }\n",
              "\n",
              "    .dataframe tbody tr th {\n",
              "        vertical-align: top;\n",
              "    }\n",
              "\n",
              "    .dataframe thead th {\n",
              "        text-align: right;\n",
              "    }\n",
              "</style>\n",
              "<table border=\"1\" class=\"dataframe\">\n",
              "  <thead>\n",
              "    <tr style=\"text-align: right;\">\n",
              "      <th></th>\n",
              "      <th>Survived</th>\n",
              "      <th>Pclass</th>\n",
              "      <th>Sex</th>\n",
              "      <th>Age</th>\n",
              "      <th>SibSp</th>\n",
              "      <th>Parch</th>\n",
              "      <th>Fare</th>\n",
              "      <th>Embarked</th>\n",
              "    </tr>\n",
              "  </thead>\n",
              "  <tbody>\n",
              "    <tr>\n",
              "      <th>0</th>\n",
              "      <td>0</td>\n",
              "      <td>3</td>\n",
              "      <td>male</td>\n",
              "      <td>19.0</td>\n",
              "      <td>0</td>\n",
              "      <td>0</td>\n",
              "      <td>7.6500</td>\n",
              "      <td>S</td>\n",
              "    </tr>\n",
              "    <tr>\n",
              "      <th>1</th>\n",
              "      <td>1</td>\n",
              "      <td>1</td>\n",
              "      <td>female</td>\n",
              "      <td>40.0</td>\n",
              "      <td>1</td>\n",
              "      <td>1</td>\n",
              "      <td>134.5000</td>\n",
              "      <td>C</td>\n",
              "    </tr>\n",
              "    <tr>\n",
              "      <th>2</th>\n",
              "      <td>1</td>\n",
              "      <td>1</td>\n",
              "      <td>female</td>\n",
              "      <td>62.0</td>\n",
              "      <td>0</td>\n",
              "      <td>0</td>\n",
              "      <td>80.0000</td>\n",
              "      <td>NaN</td>\n",
              "    </tr>\n",
              "    <tr>\n",
              "      <th>3</th>\n",
              "      <td>1</td>\n",
              "      <td>3</td>\n",
              "      <td>female</td>\n",
              "      <td>30.0</td>\n",
              "      <td>0</td>\n",
              "      <td>0</td>\n",
              "      <td>12.4750</td>\n",
              "      <td>S</td>\n",
              "    </tr>\n",
              "    <tr>\n",
              "      <th>4</th>\n",
              "      <td>1</td>\n",
              "      <td>1</td>\n",
              "      <td>male</td>\n",
              "      <td>25.0</td>\n",
              "      <td>1</td>\n",
              "      <td>0</td>\n",
              "      <td>91.0792</td>\n",
              "      <td>C</td>\n",
              "    </tr>\n",
              "  </tbody>\n",
              "</table>\n",
              "</div>"
            ],
            "text/plain": [
              "   Survived  Pclass     Sex   Age  SibSp  Parch      Fare Embarked\n",
              "0         0       3    male  19.0      0      0    7.6500        S\n",
              "1         1       1  female  40.0      1      1  134.5000        C\n",
              "2         1       1  female  62.0      0      0   80.0000      NaN\n",
              "3         1       3  female  30.0      0      0   12.4750        S\n",
              "4         1       1    male  25.0      1      0   91.0792        C"
            ]
          },
          "metadata": {
            "tags": []
          },
          "execution_count": 56
        }
      ]
    },
    {
      "cell_type": "markdown",
      "metadata": {
        "id": "U0RIQX5kte6V"
      },
      "source": [
        "We encode the the gender of passenger by numbers, and, as a primitive form of data imputation, replace missing age values with the mean age in the training data:"
      ]
    },
    {
      "cell_type": "code",
      "metadata": {
        "colab": {
          "base_uri": "https://localhost:8080/",
          "height": 195
        },
        "id": "0Sa0aTyrte6V",
        "outputId": "43d19b07-3808-491b-b521-bda01e988e3f"
      },
      "source": [
        "age_mean = df_train.Age.mean()\n",
        "replacements = {\"Sex\": {\"male\": 1, \"female\":0}, \"Age\": {np.NaN: age_mean}}\n",
        "df_train.replace(replacements, inplace=True)\n",
        "df_valid.replace(replacements, inplace=True)\n",
        "df_train.head()"
      ],
      "execution_count": 57,
      "outputs": [
        {
          "output_type": "execute_result",
          "data": {
            "text/html": [
              "<div>\n",
              "<style scoped>\n",
              "    .dataframe tbody tr th:only-of-type {\n",
              "        vertical-align: middle;\n",
              "    }\n",
              "\n",
              "    .dataframe tbody tr th {\n",
              "        vertical-align: top;\n",
              "    }\n",
              "\n",
              "    .dataframe thead th {\n",
              "        text-align: right;\n",
              "    }\n",
              "</style>\n",
              "<table border=\"1\" class=\"dataframe\">\n",
              "  <thead>\n",
              "    <tr style=\"text-align: right;\">\n",
              "      <th></th>\n",
              "      <th>Survived</th>\n",
              "      <th>Pclass</th>\n",
              "      <th>Sex</th>\n",
              "      <th>Age</th>\n",
              "      <th>SibSp</th>\n",
              "      <th>Parch</th>\n",
              "      <th>Fare</th>\n",
              "      <th>Embarked</th>\n",
              "    </tr>\n",
              "  </thead>\n",
              "  <tbody>\n",
              "    <tr>\n",
              "      <th>0</th>\n",
              "      <td>0</td>\n",
              "      <td>3</td>\n",
              "      <td>1</td>\n",
              "      <td>19.0</td>\n",
              "      <td>0</td>\n",
              "      <td>0</td>\n",
              "      <td>7.6500</td>\n",
              "      <td>S</td>\n",
              "    </tr>\n",
              "    <tr>\n",
              "      <th>1</th>\n",
              "      <td>1</td>\n",
              "      <td>1</td>\n",
              "      <td>0</td>\n",
              "      <td>40.0</td>\n",
              "      <td>1</td>\n",
              "      <td>1</td>\n",
              "      <td>134.5000</td>\n",
              "      <td>C</td>\n",
              "    </tr>\n",
              "    <tr>\n",
              "      <th>2</th>\n",
              "      <td>1</td>\n",
              "      <td>1</td>\n",
              "      <td>0</td>\n",
              "      <td>62.0</td>\n",
              "      <td>0</td>\n",
              "      <td>0</td>\n",
              "      <td>80.0000</td>\n",
              "      <td>NaN</td>\n",
              "    </tr>\n",
              "    <tr>\n",
              "      <th>3</th>\n",
              "      <td>1</td>\n",
              "      <td>3</td>\n",
              "      <td>0</td>\n",
              "      <td>30.0</td>\n",
              "      <td>0</td>\n",
              "      <td>0</td>\n",
              "      <td>12.4750</td>\n",
              "      <td>S</td>\n",
              "    </tr>\n",
              "    <tr>\n",
              "      <th>4</th>\n",
              "      <td>1</td>\n",
              "      <td>1</td>\n",
              "      <td>1</td>\n",
              "      <td>25.0</td>\n",
              "      <td>1</td>\n",
              "      <td>0</td>\n",
              "      <td>91.0792</td>\n",
              "      <td>C</td>\n",
              "    </tr>\n",
              "  </tbody>\n",
              "</table>\n",
              "</div>"
            ],
            "text/plain": [
              "   Survived  Pclass  Sex   Age  SibSp  Parch      Fare Embarked\n",
              "0         0       3    1  19.0      0      0    7.6500        S\n",
              "1         1       1    0  40.0      1      1  134.5000        C\n",
              "2         1       1    0  62.0      0      0   80.0000      NaN\n",
              "3         1       3    0  30.0      0      0   12.4750        S\n",
              "4         1       1    1  25.0      1      0   91.0792        C"
            ]
          },
          "metadata": {
            "tags": []
          },
          "execution_count": 57
        }
      ]
    },
    {
      "cell_type": "markdown",
      "metadata": {
        "id": "ZLqoBseite6V"
      },
      "source": [
        "We drop the remaining rows with missing data:"
      ]
    },
    {
      "cell_type": "code",
      "metadata": {
        "colab": {
          "base_uri": "https://localhost:8080/"
        },
        "id": "qN1jVePIte6V",
        "outputId": "3d0971c3-5db0-4c3a-fd50-7953e9a44141"
      },
      "source": [
        "print(\"Train and test length before dropping:\", len(df_train), len(df_valid))\n",
        "df_train.dropna(inplace=True)\n",
        "df_train.reset_index()\n",
        "df_valid.dropna(inplace=True)\n",
        "df_valid.reset_index()\n",
        "print(\"Train and test length after dropping:\", len(df_train), len(df_valid))"
      ],
      "execution_count": 58,
      "outputs": [
        {
          "output_type": "stream",
          "text": [
            "Train and test length before dropping: 801 90\n",
            "Train and test length after dropping: 799 90\n"
          ],
          "name": "stdout"
        }
      ]
    },
    {
      "cell_type": "markdown",
      "metadata": {
        "id": "AVXcVMITte6V"
      },
      "source": [
        "Finally, we one-hot encode the Embarked column."
      ]
    },
    {
      "cell_type": "code",
      "metadata": {
        "colab": {
          "base_uri": "https://localhost:8080/",
          "height": 195
        },
        "id": "CjREsdmtte6V",
        "outputId": "6c3381b0-6842-4cd4-a64f-ee8fe2b03ee9"
      },
      "source": [
        "df_train = pd.get_dummies(df_train)\n",
        "df_valid = pd.get_dummies(df_valid)\n",
        "df_train.head()"
      ],
      "execution_count": 59,
      "outputs": [
        {
          "output_type": "execute_result",
          "data": {
            "text/html": [
              "<div>\n",
              "<style scoped>\n",
              "    .dataframe tbody tr th:only-of-type {\n",
              "        vertical-align: middle;\n",
              "    }\n",
              "\n",
              "    .dataframe tbody tr th {\n",
              "        vertical-align: top;\n",
              "    }\n",
              "\n",
              "    .dataframe thead th {\n",
              "        text-align: right;\n",
              "    }\n",
              "</style>\n",
              "<table border=\"1\" class=\"dataframe\">\n",
              "  <thead>\n",
              "    <tr style=\"text-align: right;\">\n",
              "      <th></th>\n",
              "      <th>Survived</th>\n",
              "      <th>Pclass</th>\n",
              "      <th>Sex</th>\n",
              "      <th>Age</th>\n",
              "      <th>SibSp</th>\n",
              "      <th>Parch</th>\n",
              "      <th>Fare</th>\n",
              "      <th>Embarked_C</th>\n",
              "      <th>Embarked_Q</th>\n",
              "      <th>Embarked_S</th>\n",
              "    </tr>\n",
              "  </thead>\n",
              "  <tbody>\n",
              "    <tr>\n",
              "      <th>0</th>\n",
              "      <td>0</td>\n",
              "      <td>3</td>\n",
              "      <td>1</td>\n",
              "      <td>19.0</td>\n",
              "      <td>0</td>\n",
              "      <td>0</td>\n",
              "      <td>7.6500</td>\n",
              "      <td>0</td>\n",
              "      <td>0</td>\n",
              "      <td>1</td>\n",
              "    </tr>\n",
              "    <tr>\n",
              "      <th>1</th>\n",
              "      <td>1</td>\n",
              "      <td>1</td>\n",
              "      <td>0</td>\n",
              "      <td>40.0</td>\n",
              "      <td>1</td>\n",
              "      <td>1</td>\n",
              "      <td>134.5000</td>\n",
              "      <td>1</td>\n",
              "      <td>0</td>\n",
              "      <td>0</td>\n",
              "    </tr>\n",
              "    <tr>\n",
              "      <th>3</th>\n",
              "      <td>1</td>\n",
              "      <td>3</td>\n",
              "      <td>0</td>\n",
              "      <td>30.0</td>\n",
              "      <td>0</td>\n",
              "      <td>0</td>\n",
              "      <td>12.4750</td>\n",
              "      <td>0</td>\n",
              "      <td>0</td>\n",
              "      <td>1</td>\n",
              "    </tr>\n",
              "    <tr>\n",
              "      <th>4</th>\n",
              "      <td>1</td>\n",
              "      <td>1</td>\n",
              "      <td>1</td>\n",
              "      <td>25.0</td>\n",
              "      <td>1</td>\n",
              "      <td>0</td>\n",
              "      <td>91.0792</td>\n",
              "      <td>1</td>\n",
              "      <td>0</td>\n",
              "      <td>0</td>\n",
              "    </tr>\n",
              "    <tr>\n",
              "      <th>5</th>\n",
              "      <td>0</td>\n",
              "      <td>3</td>\n",
              "      <td>1</td>\n",
              "      <td>70.5</td>\n",
              "      <td>0</td>\n",
              "      <td>0</td>\n",
              "      <td>7.7500</td>\n",
              "      <td>0</td>\n",
              "      <td>1</td>\n",
              "      <td>0</td>\n",
              "    </tr>\n",
              "  </tbody>\n",
              "</table>\n",
              "</div>"
            ],
            "text/plain": [
              "   Survived  Pclass  Sex   Age  ...      Fare  Embarked_C  Embarked_Q  Embarked_S\n",
              "0         0       3    1  19.0  ...    7.6500           0           0           1\n",
              "1         1       1    0  40.0  ...  134.5000           1           0           0\n",
              "3         1       3    0  30.0  ...   12.4750           0           0           1\n",
              "4         1       1    1  25.0  ...   91.0792           1           0           0\n",
              "5         0       3    1  70.5  ...    7.7500           0           1           0\n",
              "\n",
              "[5 rows x 10 columns]"
            ]
          },
          "metadata": {
            "tags": []
          },
          "execution_count": 59
        }
      ]
    },
    {
      "cell_type": "markdown",
      "metadata": {
        "id": "cWHf3OCHte6W"
      },
      "source": [
        "## Fitting a perceptron"
      ]
    },
    {
      "cell_type": "code",
      "metadata": {
        "colab": {
          "base_uri": "https://localhost:8080/"
        },
        "id": "0L0fzWBwte6W",
        "outputId": "01905f6c-ec19-428b-cadf-2ec5f78ceaea"
      },
      "source": [
        "p = Perceptron()\n",
        "\n",
        "input_cols = list(df_train.columns.values)[1:]\n",
        "\n",
        "X_train = df_train[input_cols].to_numpy()\n",
        "y_train = df_train.Survived.to_numpy()\n",
        "\n",
        "p.fit(X_train, y_train, n_epochs=100, lr=0.001)"
      ],
      "execution_count": 60,
      "outputs": [
        {
          "output_type": "stream",
          "text": [
            "Starting epoch  0\n",
            "Starting epoch  1\n",
            "Starting epoch  2\n",
            "Starting epoch  3\n",
            "Starting epoch  4\n",
            "Starting epoch  5\n",
            "Starting epoch  6\n",
            "Starting epoch  7\n",
            "Starting epoch  8\n",
            "Starting epoch  9\n",
            "Starting epoch  10\n",
            "Starting epoch  11\n",
            "Starting epoch  12\n",
            "Starting epoch  13\n",
            "Starting epoch  14\n",
            "Starting epoch  15\n",
            "Starting epoch  16\n",
            "Starting epoch  17\n",
            "Starting epoch  18\n",
            "Starting epoch  19\n",
            "Starting epoch  20\n",
            "Starting epoch  21\n",
            "Starting epoch  22\n",
            "Starting epoch  23\n",
            "Starting epoch  24\n",
            "Starting epoch  25\n",
            "Starting epoch  26\n",
            "Starting epoch  27\n",
            "Starting epoch  28\n",
            "Starting epoch  29\n",
            "Starting epoch  30\n",
            "Starting epoch  31\n",
            "Starting epoch  32\n",
            "Starting epoch  33\n",
            "Starting epoch  34\n",
            "Starting epoch  35\n",
            "Starting epoch  36\n",
            "Starting epoch  37\n",
            "Starting epoch  38\n",
            "Starting epoch  39\n",
            "Starting epoch  40\n",
            "Starting epoch  41\n",
            "Starting epoch  42\n",
            "Starting epoch  43\n",
            "Starting epoch  44\n",
            "Starting epoch  45\n",
            "Starting epoch  46\n",
            "Starting epoch  47\n",
            "Starting epoch  48\n",
            "Starting epoch  49\n",
            "Starting epoch  50\n",
            "Starting epoch  51\n",
            "Starting epoch  52\n",
            "Starting epoch  53\n",
            "Starting epoch  54\n",
            "Starting epoch  55\n",
            "Starting epoch  56\n",
            "Starting epoch  57\n",
            "Starting epoch  58\n",
            "Starting epoch  59\n",
            "Starting epoch  60\n",
            "Starting epoch  61\n",
            "Starting epoch  62\n",
            "Starting epoch  63\n",
            "Starting epoch  64\n",
            "Starting epoch  65\n",
            "Starting epoch  66\n",
            "Starting epoch  67\n",
            "Starting epoch  68\n",
            "Starting epoch  69\n",
            "Starting epoch  70\n",
            "Starting epoch  71\n",
            "Starting epoch  72\n",
            "Starting epoch  73\n",
            "Starting epoch  74\n",
            "Starting epoch  75\n",
            "Starting epoch  76\n",
            "Starting epoch  77\n",
            "Starting epoch  78\n",
            "Starting epoch  79\n",
            "Starting epoch  80\n",
            "Starting epoch  81\n",
            "Starting epoch  82\n",
            "Starting epoch  83\n",
            "Starting epoch  84\n",
            "Starting epoch  85\n",
            "Starting epoch  86\n",
            "Starting epoch  87\n",
            "Starting epoch  88\n",
            "Starting epoch  89\n",
            "Starting epoch  90\n",
            "Starting epoch  91\n",
            "Starting epoch  92\n",
            "Starting epoch  93\n",
            "Starting epoch  94\n",
            "Starting epoch  95\n",
            "Starting epoch  96\n",
            "Starting epoch  97\n",
            "Starting epoch  98\n",
            "Starting epoch  99\n",
            "Finished training.\n"
          ],
          "name": "stdout"
        }
      ]
    },
    {
      "cell_type": "code",
      "metadata": {
        "id": "HYfcnAX3te6W"
      },
      "source": [
        "y_train_predicted = p.predict(X_train)\n",
        "\n",
        "X_valid = df_valid[input_cols].to_numpy()\n",
        "y_valid = df_valid.Survived.to_numpy()\n",
        "\n",
        "y_valid_predicted = p.predict(X_valid)"
      ],
      "execution_count": 61,
      "outputs": []
    },
    {
      "cell_type": "markdown",
      "metadata": {
        "id": "iWljxA_ute6W"
      },
      "source": [
        "Let's see the metrics on our training and validation data:"
      ]
    },
    {
      "cell_type": "code",
      "metadata": {
        "colab": {
          "base_uri": "https://localhost:8080/"
        },
        "id": "0yzS3CGlte6W",
        "outputId": "40a441ae-3a31-47a5-bc5e-d7a8d29032b8"
      },
      "source": [
        "from sklearn.metrics import classification_report\n",
        "\n",
        "print(classification_report(y_train, y_train_predicted, labels=[1], target_names=[\"Survivor\"]))"
      ],
      "execution_count": 62,
      "outputs": [
        {
          "output_type": "stream",
          "text": [
            "              precision    recall  f1-score   support\n",
            "\n",
            "    Survivor       0.77      0.70      0.74       305\n",
            "\n",
            "   micro avg       0.77      0.70      0.74       305\n",
            "   macro avg       0.77      0.70      0.74       305\n",
            "weighted avg       0.77      0.70      0.74       305\n",
            "\n"
          ],
          "name": "stdout"
        }
      ]
    },
    {
      "cell_type": "code",
      "metadata": {
        "colab": {
          "base_uri": "https://localhost:8080/"
        },
        "id": "gGVzibPVte6W",
        "outputId": "16050317-08f1-4e91-8310-5c2eae45f406"
      },
      "source": [
        "print(classification_report(y_valid, y_valid_predicted, labels=[1], target_names=[\"Survivor\"]))"
      ],
      "execution_count": 63,
      "outputs": [
        {
          "output_type": "stream",
          "text": [
            "              precision    recall  f1-score   support\n",
            "\n",
            "    Survivor       0.78      0.60      0.68        35\n",
            "\n",
            "   micro avg       0.78      0.60      0.68        35\n",
            "   macro avg       0.78      0.60      0.68        35\n",
            "weighted avg       0.78      0.60      0.68        35\n",
            "\n"
          ],
          "name": "stdout"
        }
      ]
    }
  ]
}