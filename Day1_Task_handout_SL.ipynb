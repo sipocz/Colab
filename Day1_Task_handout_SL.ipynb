{
  "nbformat": 4,
  "nbformat_minor": 0,
  "metadata": {
    "kernelspec": {
      "display_name": "Python 3",
      "language": "python",
      "name": "python3"
    },
    "language_info": {
      "codemirror_mode": {
        "name": "ipython",
        "version": 3
      },
      "file_extension": ".py",
      "mimetype": "text/x-python",
      "name": "python",
      "nbconvert_exporter": "python",
      "pygments_lexer": "ipython3",
      "version": "3.7.9"
    },
    "toc": {
      "base_numbering": 1,
      "nav_menu": {},
      "number_sections": true,
      "sideBar": true,
      "skip_h1_title": false,
      "title_cell": "Table of Contents",
      "title_sidebar": "Contents",
      "toc_cell": false,
      "toc_position": {
        "height": "calc(100% - 180px)",
        "left": "10px",
        "top": "150px",
        "width": "165px"
      },
      "toc_section_display": true,
      "toc_window_display": false
    },
    "varInspector": {
      "cols": {
        "lenName": 16,
        "lenType": 16,
        "lenVar": 40
      },
      "kernels_config": {
        "python": {
          "delete_cmd_postfix": "",
          "delete_cmd_prefix": "del ",
          "library": "var_list.py",
          "varRefreshCmd": "print(var_dic_list())"
        },
        "r": {
          "delete_cmd_postfix": ") ",
          "delete_cmd_prefix": "rm(",
          "library": "var_list.r",
          "varRefreshCmd": "cat(var_dic_list()) "
        }
      },
      "position": {
        "height": "544px",
        "left": "1549px",
        "right": "7px",
        "top": "103px",
        "width": "362px"
      },
      "types_to_exclude": [
        "module",
        "function",
        "builtin_function_or_method",
        "instance",
        "_Feature"
      ],
      "window_display": false
    },
    "colab": {
      "name": "Day1-Task_handout_SL.ipynb",
      "provenance": [],
      "include_colab_link": true
    }
  },
  "cells": [
    {
      "cell_type": "markdown",
      "metadata": {
        "id": "view-in-github",
        "colab_type": "text"
      },
      "source": [
        "<a href=\"https://colab.research.google.com/github/sipocz/Colab/blob/main/Day1_Task_handout_SL.ipynb\" target=\"_parent\"><img src=\"https://colab.research.google.com/assets/colab-badge.svg\" alt=\"Open In Colab\"/></a>"
      ]
    },
    {
      "cell_type": "markdown",
      "metadata": {
        "id": "U4uZ-zT5hWsO"
      },
      "source": [
        "# Python functions, objects and classes"
      ]
    },
    {
      "cell_type": "markdown",
      "metadata": {
        "id": "6Q498j-whWsP"
      },
      "source": [
        "## Task 1\n",
        "Please use the function defined below to print out the text \"Hello my friend\"!"
      ]
    },
    {
      "cell_type": "code",
      "metadata": {
        "id": "PJ3DuQl9hWsQ"
      },
      "source": [
        "#define a function named hello, that accepts a named parameter \"who\" and prints \n",
        "#out \"Hello\" and the incoming string concateneted\n",
        "\n",
        "def hello(who):\n",
        "    print(\"hello \"+who)\n",
        "\n"
      ],
      "execution_count": 3,
      "outputs": []
    },
    {
      "cell_type": "code",
      "metadata": {
        "id": "PNlgmTIOhWsS",
        "outputId": "53bb8aae-372b-4d4b-be1e-001a4a529bc5",
        "colab": {
          "base_uri": "https://localhost:8080/",
          "height": 34
        }
      },
      "source": [
        "hello(\"my friend\")"
      ],
      "execution_count": 2,
      "outputs": [
        {
          "output_type": "stream",
          "text": [
            "hellomy friend\n"
          ],
          "name": "stdout"
        }
      ]
    },
    {
      "cell_type": "markdown",
      "metadata": {
        "id": "ylIXiHDYhWsU"
      },
      "source": [
        "## Task 2"
      ]
    },
    {
      "cell_type": "code",
      "metadata": {
        "id": "oBONg5ZohWsV"
      },
      "source": [
        "class AbstractShape:\n",
        "    \"\"\"A class representing planar figures.\n",
        "    \"\"\"\n",
        "    \n",
        "    def __init__(self, centerx, centery, color=\"black\"):\n",
        "        \"\"\"Initialize a shape.\n",
        "        \n",
        "        Args:\n",
        "            centerx: The x coordinate of the shape's center.\n",
        "            centery: The y coordinate of the shape's center.\n",
        "            color (str): The shape's color.\n",
        "        \"\"\"\n",
        "        self.centerx = centerx\n",
        "        self.centery = centery\n",
        "        self.color = color\n",
        "        \n",
        "    def move_by(self, dx, dy):\n",
        "        \"\"\"Move the shape by the given distances.\n",
        "        \n",
        "        Args:\n",
        "            dx: Movement along the x axis.\n",
        "            dy: Movement along the y axis.\n",
        "            \n",
        "        Returns:\n",
        "            None\n",
        "        \"\"\"\n",
        "        self.centerx += dx\n",
        "        self.centery += dy\n",
        "        \n",
        "    def area(self):\n",
        "        \"\"\"Return the area of the shape\n",
        "        \"\"\"\n",
        "        \n",
        "        raise NotImplementedError # Raise an exception if a class simply inherits without implementing"
      ],
      "execution_count": 5,
      "outputs": []
    },
    {
      "cell_type": "code",
      "metadata": {
        "id": "UzEgDVQ1hWsW"
      },
      "source": [
        "# Define a Circle class that inherits form AbstractShape\n",
        "# Accepts more parameters for radius\n",
        "# implement the \"area\" function, that calculates the area of the circle\n",
        "# use the math library imported blow\n",
        "\n",
        "from math import pi # We will need pi for calculating the area\n",
        "\n",
        "class Circle(AbstractShape):\n",
        "    \"\"\"A class representing a circle.    \n",
        "    \"\"\"\n",
        "    \n",
        "    def __init__(self, centerx, centery, radius, color=\"black\"):\n",
        "                 # You have to correct the init here!\n",
        "        self.centerx = centerx\n",
        "        self.centery = centery\n",
        "        self.color = color\n",
        "        self.radius=radius\n",
        "        self.areat=self.radius**2*pi/4\n",
        "                 \n",
        "                 \n",
        "                 \n",
        "    #The function area needs to be implemented here\n",
        "                 \n",
        "    \n",
        "    # This is an additional property of the class, illustrating the usage of decorators in Python\n",
        "    # https://realpython.com/primer-on-python-decorators/\n",
        "    # Property is a special type of decorator\n",
        "    # https://www.programiz.com/python-programming/property\n",
        "    @property  # ENNEK UTÁNA NÉZNI !!!!\n",
        "    def diameter(self):\n",
        "        \"\"\"Return the circle's diameter.\n",
        "        \"\"\"\n",
        "        return 2 * self.radius\n",
        "        self.area()\n",
        "                 \n",
        "    #Setter is another tpye of reserved property\n",
        "    # https://www.python-course.eu/python3_properties.php\n",
        "    @diameter.setter\n",
        "    def diameter(self, diameter):\n",
        "        \"\"\"Set the diameter to the givem size.\n",
        "        \"\"\"\n",
        "        self.radius = diameter / 2\n",
        "        self.area()\n",
        "    \n",
        "    #Repr is a default function that implements the pronted representation of the class\n",
        "    def __repr__(self):\n",
        "        \"\"\"Return the string representation of the circle.\n",
        "        \"\"\"\n",
        "        return f\"Circle({self.centerx}, {self.centery}, {self.radius}, '{self.color}')\"\n",
        "    def area(self):\n",
        "        self.areat=self.radius**2*pi/4\n",
        "        return(self.areat)"
      ],
      "execution_count": 45,
      "outputs": []
    },
    {
      "cell_type": "code",
      "metadata": {
        "id": "TCdJ2X46hWsY"
      },
      "source": [
        "# ok, we also need the square root function, import it here please \n",
        "from math import sqrt\n",
        "\n",
        "# Implement the rectangle class, which acts as name implies\n",
        "# it has an area function as well, but naturally for a rectangle\n",
        "# it has widht and heights parameters in _init_, as well as the defualt ones\n",
        "class Rectangle(AbstractShape):\n",
        "    \"\"\"A class representing a rectangle.\n",
        "    \n",
        "    The sides are assumed to be parallel with the X and Y axis.\n",
        "    \"\"\"\n",
        "    \n",
        "    def __init__(self, centerx, centery, width,height, color=\"black\"):\n",
        "                 #Implement the __init__ here\n",
        "        self.centerx = centerx\n",
        "        self.centery = centery\n",
        "        self.width=width\n",
        "        self.height=height\n",
        "        self.color=color\n",
        "        self.diagonal=sqrt(self.width**2 + self.height**2)\n",
        "\n",
        "    def area(self):\n",
        "        return self.width * self.height\n",
        "    \n",
        "    \n",
        "    #implement the diagonal property of the class here\n",
        "    def diagonal(self):\n",
        "        \n",
        "        return self.diagonal\n",
        "    \n",
        "    \n",
        "    def __repr__(self):\n",
        "        \"\"\"Return the string representation of the rectangle.\n",
        "        \"\"\"\n",
        "        # Implement a nice printout here\n",
        "        return f\"Rechtangle({self.centerx}, {self.centery}, {self.width},{self.height},Area:{self.area()} Color:'{self.color}')\""
      ],
      "execution_count": 39,
      "outputs": []
    },
    {
      "cell_type": "code",
      "metadata": {
        "id": "VM6Fwr3PhWsa",
        "outputId": "370d2274-1342-45ce-b24d-ae9ed02b169f",
        "colab": {
          "base_uri": "https://localhost:8080/",
          "height": 34
        }
      },
      "source": [
        "r = Rectangle(0, 0, 4, 3)\n",
        "r"
      ],
      "execution_count": 40,
      "outputs": [
        {
          "output_type": "execute_result",
          "data": {
            "text/plain": [
              "Rechtangle(0, 0, 4,3,Area:12 Color:'black')"
            ]
          },
          "metadata": {
            "tags": []
          },
          "execution_count": 40
        }
      ]
    },
    {
      "cell_type": "code",
      "metadata": {
        "id": "LSS1FbsChWsc",
        "outputId": "8be4a54d-3839-45a1-c1d8-0b0cfd03d708",
        "colab": {
          "base_uri": "https://localhost:8080/",
          "height": 34
        }
      },
      "source": [
        "r.diagonal"
      ],
      "execution_count": 41,
      "outputs": [
        {
          "output_type": "execute_result",
          "data": {
            "text/plain": [
              "5.0"
            ]
          },
          "metadata": {
            "tags": []
          },
          "execution_count": 41
        }
      ]
    },
    {
      "cell_type": "code",
      "metadata": {
        "id": "VoeyTHeahWse",
        "outputId": "3444621a-a6b6-4f7a-fbe1-5b50dcebb54b",
        "colab": {
          "base_uri": "https://localhost:8080/",
          "height": 34
        }
      },
      "source": [
        "r.area()"
      ],
      "execution_count": 46,
      "outputs": [
        {
          "output_type": "execute_result",
          "data": {
            "text/plain": [
              "12"
            ]
          },
          "metadata": {
            "tags": []
          },
          "execution_count": 46
        }
      ]
    },
    {
      "cell_type": "code",
      "metadata": {
        "id": "KArHnWVIhWsg",
        "outputId": "ebfaef6e-00b2-4cd9-fcdb-bad41877630b",
        "colab": {
          "base_uri": "https://localhost:8080/",
          "height": 34
        }
      },
      "source": [
        "r.move_by(1,1)\n",
        "r"
      ],
      "execution_count": 47,
      "outputs": [
        {
          "output_type": "execute_result",
          "data": {
            "text/plain": [
              "Rechtangle(2, 2, 4,3,Area:12 Color:'black')"
            ]
          },
          "metadata": {
            "tags": []
          },
          "execution_count": 47
        }
      ]
    },
    {
      "cell_type": "code",
      "metadata": {
        "id": "3UL5d54AhWsh",
        "outputId": "900b28cf-1feb-4470-ef26-fc82af631f1d",
        "colab": {
          "base_uri": "https://localhost:8080/",
          "height": 50
        }
      },
      "source": [
        "c = Circle(0,0,3, \"red\")\n",
        "print(c)\n",
        "c.area()"
      ],
      "execution_count": 48,
      "outputs": [
        {
          "output_type": "stream",
          "text": [
            "Circle(0, 0, 3, 'red')\n"
          ],
          "name": "stdout"
        },
        {
          "output_type": "execute_result",
          "data": {
            "text/plain": [
              "7.0685834705770345"
            ]
          },
          "metadata": {
            "tags": []
          },
          "execution_count": 48
        }
      ]
    },
    {
      "cell_type": "code",
      "metadata": {
        "id": "5JliIyD3hWsj",
        "outputId": "12645447-8d46-46fe-9135-bd7a057d390b",
        "colab": {
          "base_uri": "https://localhost:8080/",
          "height": 34
        }
      },
      "source": [
        "c.diameter = 20\n",
        "c"
      ],
      "execution_count": 49,
      "outputs": [
        {
          "output_type": "execute_result",
          "data": {
            "text/plain": [
              "Circle(0, 0, 10.0, 'red')"
            ]
          },
          "metadata": {
            "tags": []
          },
          "execution_count": 49
        }
      ]
    },
    {
      "cell_type": "markdown",
      "metadata": {
        "id": "RIN4zBoFhWsk"
      },
      "source": [
        "# Pandas basics\n",
        "\n",
        "## Reading the data\n",
        "\n",
        "The dataset we will be using contains data about [Abalone shells](https://en.wikipedia.org/wiki/Abalone). (With some noise graciously added by us :-P\n",
        "\n",
        "<img src=\"https://upload.wikimedia.org/wikipedia/commons/thumb/4/4d/Haliotis_clathrata_01.JPG/367px-Haliotis_clathrata_01.JPG\">\n"
      ]
    },
    {
      "cell_type": "code",
      "metadata": {
        "id": "mYHcTX9uhWsl",
        "outputId": "88893ef9-13c4-4d2c-e6cd-6c9b4152a929",
        "colab": {
          "base_uri": "https://localhost:8080/",
          "height": 202
        }
      },
      "source": [
        "!wget https://gitlab.com/andras.simonyi/10_days_AI_training_data/raw/master/abalone.csv?inline=false -O abalone.csv"
      ],
      "execution_count": 300,
      "outputs": [
        {
          "output_type": "stream",
          "text": [
            "--2020-10-22 21:45:31--  https://gitlab.com/andras.simonyi/10_days_AI_training_data/raw/master/abalone.csv?inline=false\n",
            "Resolving gitlab.com (gitlab.com)... 172.65.251.78, 2606:4700:90:0:f22e:fbec:5bed:a9b9\n",
            "Connecting to gitlab.com (gitlab.com)|172.65.251.78|:443... connected.\n",
            "HTTP request sent, awaiting response... 200 OK\n",
            "Length: unspecified [text/plain]\n",
            "Saving to: ‘abalone.csv’\n",
            "\n",
            "abalone.csv             [  <=>               ] 195.60K   614KB/s    in 0.3s    \n",
            "\n",
            "2020-10-22 21:45:32 (614 KB/s) - ‘abalone.csv’ saved [200291]\n",
            "\n"
          ],
          "name": "stdout"
        }
      ]
    },
    {
      "cell_type": "markdown",
      "metadata": {
        "id": "E4CdERnJhWsm"
      },
      "source": [
        "\n",
        "The data is in the file \"abalone.csv\".\n",
        "\n",
        "**General info**\n",
        "\n",
        ">Predicting the age of abalone from physical measurements.  The age of\n",
        "   abalone is determined by cutting the shell through the cone, staining it,\n",
        "   and counting the number of rings through a microscope -- a boring and\n",
        "   time-consuming task.  Other measurements, which are easier to obtain, are\n",
        "   used to predict the age.  Further information, such as weather patterns\n",
        "   and location (hence food availability) may be required to solve the problem.\n",
        "   From the original data examples with missing values were removed (the\n",
        "   majority having the predicted value missing), and the ranges of the\n",
        "   continuous values have been scaled for use with an ANN (by dividing by 200).\n",
        "\n",
        "\n",
        "**Field info**\n",
        "\n",
        ">Sex / nominal / -- / M, F, and I (infant)\n",
        "\n",
        "> Length / continuous / mm / Longest shell measurement\n",
        "\n",
        "> Diameter / continuous / mm / perpendicular to length\n",
        "\n",
        "> Height / continuous / mm / with meat in shell\n",
        "> Whole weight / continuous / grams / whole abalone\n",
        "\n",
        "> Shucked weight / continuous / grams / weight of meat\n",
        "\n",
        "> Viscera weight / continuous / grams / gut weight\n",
        "\n",
        "> Shell weight / continuous / grams / after being dried\n",
        "\n",
        "> Rings / integer / -- / +1.5 gives the age in years "
      ]
    },
    {
      "cell_type": "code",
      "metadata": {
        "id": "AAdfr7PM7XsF",
        "outputId": "818d324b-3c01-4645-97e1-a272bde43ce2",
        "colab": {
          "base_uri": "https://localhost:8080/",
          "height": 34
        }
      },
      "source": [
        "!ls"
      ],
      "execution_count": null,
      "outputs": [
        {
          "output_type": "stream",
          "text": [
            "abalone.csv  sample_data\n"
          ],
          "name": "stdout"
        }
      ]
    },
    {
      "cell_type": "code",
      "metadata": {
        "id": "SAUxu7oNhWsn",
        "outputId": "fc348e5c-eff0-4aeb-8a85-539a6ff67856",
        "colab": {
          "base_uri": "https://localhost:8080/",
          "height": 195
        }
      },
      "source": [
        "import pandas as pd\n",
        "\n",
        "# implement the \"abalone.csv\" file using Pandas's read_csv function\n",
        "# https://pandas.pydata.org/pandas-docs/stable/generated/pandas.read_csv.html\n",
        "# bear in mind, the the format of the csv _can be different_ from default\n",
        "# when in doubt, you can use the head shell command with the ! syntax\n",
        "# https://ss64.com/bash/head.html\n",
        "# Or the Colab file viewer\n",
        "\n",
        "df =pd.read_csv(\"abalone.csv\",\";\")\n",
        "\n",
        "df.head()"
      ],
      "execution_count": 370,
      "outputs": [
        {
          "output_type": "execute_result",
          "data": {
            "text/html": [
              "<div>\n",
              "<style scoped>\n",
              "    .dataframe tbody tr th:only-of-type {\n",
              "        vertical-align: middle;\n",
              "    }\n",
              "\n",
              "    .dataframe tbody tr th {\n",
              "        vertical-align: top;\n",
              "    }\n",
              "\n",
              "    .dataframe thead th {\n",
              "        text-align: right;\n",
              "    }\n",
              "</style>\n",
              "<table border=\"1\" class=\"dataframe\">\n",
              "  <thead>\n",
              "    <tr style=\"text-align: right;\">\n",
              "      <th></th>\n",
              "      <th>Sex</th>\n",
              "      <th>Length</th>\n",
              "      <th>Diameter</th>\n",
              "      <th>Height</th>\n",
              "      <th>Whole weight</th>\n",
              "      <th>Shucked weight</th>\n",
              "      <th>Viscera weight</th>\n",
              "      <th>Shell weight</th>\n",
              "      <th>Rings</th>\n",
              "    </tr>\n",
              "  </thead>\n",
              "  <tbody>\n",
              "    <tr>\n",
              "      <th>0</th>\n",
              "      <td>M</td>\n",
              "      <td>0,455</td>\n",
              "      <td>0,365</td>\n",
              "      <td>0,095</td>\n",
              "      <td>0,514</td>\n",
              "      <td>0,2245</td>\n",
              "      <td>0,101</td>\n",
              "      <td>0,15</td>\n",
              "      <td>15,0</td>\n",
              "    </tr>\n",
              "    <tr>\n",
              "      <th>1</th>\n",
              "      <td>M</td>\n",
              "      <td>0,35</td>\n",
              "      <td>0,265</td>\n",
              "      <td>0,09</td>\n",
              "      <td>0,2255</td>\n",
              "      <td>0,0995</td>\n",
              "      <td>0,0485</td>\n",
              "      <td>0,07</td>\n",
              "      <td>7,0</td>\n",
              "    </tr>\n",
              "    <tr>\n",
              "      <th>2</th>\n",
              "      <td>F</td>\n",
              "      <td>0,53</td>\n",
              "      <td>0,42</td>\n",
              "      <td>0,135</td>\n",
              "      <td>0,677</td>\n",
              "      <td>0,2565</td>\n",
              "      <td>0,1415</td>\n",
              "      <td>0,21</td>\n",
              "      <td>9,0</td>\n",
              "    </tr>\n",
              "    <tr>\n",
              "      <th>3</th>\n",
              "      <td>M</td>\n",
              "      <td>0,44</td>\n",
              "      <td>0,365</td>\n",
              "      <td>NaN</td>\n",
              "      <td>0,516</td>\n",
              "      <td>0,2155</td>\n",
              "      <td>0,114</td>\n",
              "      <td>0,155</td>\n",
              "      <td>10,0</td>\n",
              "    </tr>\n",
              "    <tr>\n",
              "      <th>4</th>\n",
              "      <td>I</td>\n",
              "      <td>0,33</td>\n",
              "      <td>0,255</td>\n",
              "      <td>0,08</td>\n",
              "      <td>0,205</td>\n",
              "      <td>0,0895</td>\n",
              "      <td>0,0395</td>\n",
              "      <td>0,055</td>\n",
              "      <td>7,0</td>\n",
              "    </tr>\n",
              "  </tbody>\n",
              "</table>\n",
              "</div>"
            ],
            "text/plain": [
              "  Sex Length Diameter Height  ... Shucked weight Viscera weight Shell weight Rings\n",
              "0   M  0,455    0,365  0,095  ...         0,2245          0,101         0,15  15,0\n",
              "1   M   0,35    0,265   0,09  ...         0,0995         0,0485         0,07   7,0\n",
              "2   F   0,53     0,42  0,135  ...         0,2565         0,1415         0,21   9,0\n",
              "3   M   0,44    0,365    NaN  ...         0,2155          0,114        0,155  10,0\n",
              "4   I   0,33    0,255   0,08  ...         0,0895         0,0395        0,055   7,0\n",
              "\n",
              "[5 rows x 9 columns]"
            ]
          },
          "metadata": {
            "tags": []
          },
          "execution_count": 370
        }
      ]
    },
    {
      "cell_type": "code",
      "metadata": {
        "id": "tUNiYqV4hWsp",
        "outputId": "96c615e9-bb55-48b9-b809-84e00f78836f",
        "colab": {
          "base_uri": "https://localhost:8080/",
          "height": 34
        }
      },
      "source": [
        "# We assert the fact that the shape of the DataFrame is appropriate\n",
        "# If this expression evalueates to false, it throws an exception\n",
        "assert df.shape==(4177, 9)\n",
        "\n",
        "df.shape"
      ],
      "execution_count": 371,
      "outputs": [
        {
          "output_type": "execute_result",
          "data": {
            "text/plain": [
              "(4177, 9)"
            ]
          },
          "metadata": {
            "tags": []
          },
          "execution_count": 371
        }
      ]
    },
    {
      "cell_type": "markdown",
      "metadata": {
        "id": "Xau12Lg2hWsq"
      },
      "source": [
        "## Fixing the column names\n",
        "\n",
        "Fix the column names to be able to use \"dot syntax\" for columns."
      ]
    },
    {
      "cell_type": "code",
      "metadata": {
        "id": "2p8NNH_QhWsr",
        "outputId": "f912f18a-2b87-4a48-e195-ab00726afa60",
        "colab": {
          "base_uri": "https://localhost:8080/",
          "height": 548
        }
      },
      "source": [
        "def normalize_columnname2(h):\n",
        "    \"\"\"Normalize a column name by downcasing and replacing spaces with '_'.\n",
        "    \"\"\"\n",
        "   # Implement the column name normalizer\n",
        "   # use the default Python string functions\n",
        "   # https://docs.python.org/2/library/string.html\n",
        "\n",
        "    norm=[]\n",
        "    b=\"\"\n",
        "    print(\"h=\",h)\n",
        "    for a in h:\n",
        "        print(\"a=\",a)\n",
        "       \n",
        "        \n",
        "        b=a.lower()\n",
        "        b=b.replace(\" \",\"_\")\n",
        "        print(\"b=\",b)\n",
        "        norm.append(b)\n",
        "    #print(norm)\n",
        "    return(norm)\n",
        "    \n",
        "def normalize_columnname(h):\n",
        "    \"\"\"Normalize a column name by downcasing and replacing spaces with '_'.\n",
        "    \"\"\"\n",
        "   # Implement the column name normalizer\n",
        "   # use the default Python string functions\n",
        "   # https://docs.python.org/2/library/string.html\n",
        "\n",
        "    \n",
        "       \n",
        "        \n",
        "    h=h.lower()\n",
        "    h=h.replace(\" \",\"_\")\n",
        "    \n",
        "    return(h)\n",
        "    \n",
        "        \n",
        "\n",
        "\n",
        "a=[z for z in df.columns]\n",
        "print(\"columns:\",a)\n",
        "print(normalize_columnname2(a))\n",
        "df.rename(columns=normalize_columnname, inplace=True)\n",
        "#df.rename(columns=str.lower(), inplace=True)\n",
        "df.head()"
      ],
      "execution_count": 372,
      "outputs": [
        {
          "output_type": "stream",
          "text": [
            "columns: ['Sex', 'Length', 'Diameter', 'Height', 'Whole weight', 'Shucked weight', 'Viscera weight', 'Shell weight', 'Rings']\n",
            "h= ['Sex', 'Length', 'Diameter', 'Height', 'Whole weight', 'Shucked weight', 'Viscera weight', 'Shell weight', 'Rings']\n",
            "a= Sex\n",
            "b= sex\n",
            "a= Length\n",
            "b= length\n",
            "a= Diameter\n",
            "b= diameter\n",
            "a= Height\n",
            "b= height\n",
            "a= Whole weight\n",
            "b= whole_weight\n",
            "a= Shucked weight\n",
            "b= shucked_weight\n",
            "a= Viscera weight\n",
            "b= viscera_weight\n",
            "a= Shell weight\n",
            "b= shell_weight\n",
            "a= Rings\n",
            "b= rings\n",
            "['sex', 'length', 'diameter', 'height', 'whole_weight', 'shucked_weight', 'viscera_weight', 'shell_weight', 'rings']\n"
          ],
          "name": "stdout"
        },
        {
          "output_type": "execute_result",
          "data": {
            "text/html": [
              "<div>\n",
              "<style scoped>\n",
              "    .dataframe tbody tr th:only-of-type {\n",
              "        vertical-align: middle;\n",
              "    }\n",
              "\n",
              "    .dataframe tbody tr th {\n",
              "        vertical-align: top;\n",
              "    }\n",
              "\n",
              "    .dataframe thead th {\n",
              "        text-align: right;\n",
              "    }\n",
              "</style>\n",
              "<table border=\"1\" class=\"dataframe\">\n",
              "  <thead>\n",
              "    <tr style=\"text-align: right;\">\n",
              "      <th></th>\n",
              "      <th>sex</th>\n",
              "      <th>length</th>\n",
              "      <th>diameter</th>\n",
              "      <th>height</th>\n",
              "      <th>whole_weight</th>\n",
              "      <th>shucked_weight</th>\n",
              "      <th>viscera_weight</th>\n",
              "      <th>shell_weight</th>\n",
              "      <th>rings</th>\n",
              "    </tr>\n",
              "  </thead>\n",
              "  <tbody>\n",
              "    <tr>\n",
              "      <th>0</th>\n",
              "      <td>M</td>\n",
              "      <td>0,455</td>\n",
              "      <td>0,365</td>\n",
              "      <td>0,095</td>\n",
              "      <td>0,514</td>\n",
              "      <td>0,2245</td>\n",
              "      <td>0,101</td>\n",
              "      <td>0,15</td>\n",
              "      <td>15,0</td>\n",
              "    </tr>\n",
              "    <tr>\n",
              "      <th>1</th>\n",
              "      <td>M</td>\n",
              "      <td>0,35</td>\n",
              "      <td>0,265</td>\n",
              "      <td>0,09</td>\n",
              "      <td>0,2255</td>\n",
              "      <td>0,0995</td>\n",
              "      <td>0,0485</td>\n",
              "      <td>0,07</td>\n",
              "      <td>7,0</td>\n",
              "    </tr>\n",
              "    <tr>\n",
              "      <th>2</th>\n",
              "      <td>F</td>\n",
              "      <td>0,53</td>\n",
              "      <td>0,42</td>\n",
              "      <td>0,135</td>\n",
              "      <td>0,677</td>\n",
              "      <td>0,2565</td>\n",
              "      <td>0,1415</td>\n",
              "      <td>0,21</td>\n",
              "      <td>9,0</td>\n",
              "    </tr>\n",
              "    <tr>\n",
              "      <th>3</th>\n",
              "      <td>M</td>\n",
              "      <td>0,44</td>\n",
              "      <td>0,365</td>\n",
              "      <td>NaN</td>\n",
              "      <td>0,516</td>\n",
              "      <td>0,2155</td>\n",
              "      <td>0,114</td>\n",
              "      <td>0,155</td>\n",
              "      <td>10,0</td>\n",
              "    </tr>\n",
              "    <tr>\n",
              "      <th>4</th>\n",
              "      <td>I</td>\n",
              "      <td>0,33</td>\n",
              "      <td>0,255</td>\n",
              "      <td>0,08</td>\n",
              "      <td>0,205</td>\n",
              "      <td>0,0895</td>\n",
              "      <td>0,0395</td>\n",
              "      <td>0,055</td>\n",
              "      <td>7,0</td>\n",
              "    </tr>\n",
              "  </tbody>\n",
              "</table>\n",
              "</div>"
            ],
            "text/plain": [
              "  sex length diameter height  ... shucked_weight viscera_weight shell_weight rings\n",
              "0   M  0,455    0,365  0,095  ...         0,2245          0,101         0,15  15,0\n",
              "1   M   0,35    0,265   0,09  ...         0,0995         0,0485         0,07   7,0\n",
              "2   F   0,53     0,42  0,135  ...         0,2565         0,1415         0,21   9,0\n",
              "3   M   0,44    0,365    NaN  ...         0,2155          0,114        0,155  10,0\n",
              "4   I   0,33    0,255   0,08  ...         0,0895         0,0395        0,055   7,0\n",
              "\n",
              "[5 rows x 9 columns]"
            ]
          },
          "metadata": {
            "tags": []
          },
          "execution_count": 372
        }
      ]
    },
    {
      "cell_type": "code",
      "metadata": {
        "id": "inzYbNrAhWss",
        "outputId": "67d72670-c5cd-44ab-8ae0-5174f392c28e",
        "colab": {
          "base_uri": "https://localhost:8080/",
          "height": 118
        }
      },
      "source": [
        "df.whole_weight.head()"
      ],
      "execution_count": 373,
      "outputs": [
        {
          "output_type": "execute_result",
          "data": {
            "text/plain": [
              "0     0,514\n",
              "1    0,2255\n",
              "2     0,677\n",
              "3     0,516\n",
              "4     0,205\n",
              "Name: whole_weight, dtype: object"
            ]
          },
          "metadata": {
            "tags": []
          },
          "execution_count": 373
        }
      ]
    },
    {
      "cell_type": "markdown",
      "metadata": {
        "id": "8WbTcLfnhWsu"
      },
      "source": [
        "## Check and handle missing data\n",
        "\n",
        "Check whether there are missing data."
      ]
    },
    {
      "cell_type": "code",
      "metadata": {
        "id": "52GRq0KwhWsu",
        "outputId": "4d09b188-c066-4a23-a8e3-e2f254682b77",
        "colab": {
          "base_uri": "https://localhost:8080/",
          "height": 34
        }
      },
      "source": [
        "# look for missing values in the df\n",
        "# use the isnull() function, and some counting method of Pandas df\n",
        "df.isnull()\n",
        "df=df.dropna()\n",
        "df.shape"
      ],
      "execution_count": 374,
      "outputs": [
        {
          "output_type": "execute_result",
          "data": {
            "text/plain": [
              "(4171, 9)"
            ]
          },
          "metadata": {
            "tags": []
          },
          "execution_count": 374
        }
      ]
    },
    {
      "cell_type": "markdown",
      "metadata": {
        "id": "LI98zo6FhWsw"
      },
      "source": [
        "Drop rows with NaN values."
      ]
    },
    {
      "cell_type": "code",
      "metadata": {
        "id": "EczILasahWsw",
        "outputId": "d50d4c81-c851-4857-939e-efd9fb684fe3",
        "colab": {
          "base_uri": "https://localhost:8080/",
          "height": 34
        }
      },
      "source": [
        "df.shape==(4177,9)\n",
        "\n",
        "# Drop the rows with missing values from the df\n",
        "# bear in mind the rerutn value syntax vs the parameter for executing the operation on the df itslef\n",
        "\n",
        "\n",
        "# this is just additional \"tidying\"\n",
        "df.reset_index(inplace=True, drop=True) # Reset index since dropped rows create \"wholes\"\n",
        "\n",
        "\n",
        "df.shape"
      ],
      "execution_count": 375,
      "outputs": [
        {
          "output_type": "execute_result",
          "data": {
            "text/plain": [
              "(4171, 9)"
            ]
          },
          "metadata": {
            "tags": []
          },
          "execution_count": 375
        }
      ]
    },
    {
      "cell_type": "markdown",
      "metadata": {
        "id": "brogLFUshWsy"
      },
      "source": [
        "## Convert floats to int"
      ]
    },
    {
      "cell_type": "code",
      "metadata": {
        "id": "jS2ToiaVhWsy",
        "outputId": "c99d3d1b-e1ac-460d-d549-0c1bad936aca",
        "colab": {
          "base_uri": "https://localhost:8080/",
          "height": 195
        }
      },
      "source": [
        "#convert the float value of the \"rings\" coluimn to an integer, since who saw any partial rings anyway? :-)\n",
        "# pd.Series([np.nan, 100.5, 200], dtype=np.dtype(\"float\")),\n",
        "import numpy as np\n",
        "#pd['rings'] = pd['rings'].astype(string)   \n",
        "#df.rings.replace(to_replace=\"9,0\",value=\"9.0\",inplace=True)\n",
        "df.rings=df.rings.str.replace(\",\",\".\")\n",
        "df.rings.convert_dtypes(convert_integer=True)\n",
        "df.rings=pd.to_numeric(df.rings,downcast=\"integer\")\n",
        "df.height=df.height.str.replace(\",\",\".\")\n",
        "df.height.convert_dtypes(convert_integer=True)\n",
        "df.height=pd.to_numeric(df.height,downcast=\"float\")\n",
        "df.length=df.length.str.replace(\",\",\".\")\n",
        "df.length.convert_dtypes(convert_integer=True)\n",
        "df.length=pd.to_numeric(df.length,downcast=\"float\")\n",
        "\n",
        "df.whole_weight=df.whole_weight.str.replace(\",\",\".\")\n",
        "df.whole_weight.convert_dtypes(convert_integer=True)\n",
        "df.whole_weight=pd.to_numeric(df.whole_weight,downcast=\"float\")\n",
        "\n",
        "df.shell_weight=df.shell_weight.str.replace(\",\",\".\")\n",
        "df.shell_weight.convert_dtypes(convert_integer=True)\n",
        "df.shell_weight=pd.to_numeric(df.shell_weight,downcast=\"float\")\n",
        "\n",
        "\n",
        "df.diameter=df.diameter.str.replace(\",\",\".\")\n",
        "df.diameter.convert_dtypes(convert_integer=True)\n",
        "df.diameter=pd.to_numeric(df.diameter,downcast=\"float\")\n",
        "\n",
        "df.shucked_weight=df.shucked_weight.str.replace(\",\",\".\")\n",
        "df.shucked_weight.convert_dtypes(convert_integer=True)\n",
        "df.shucked_weight=pd.to_numeric(df.shucked_weight,downcast=\"float\")\n",
        "\n",
        "df.viscera_weight=df.viscera_weight.str.replace(\",\",\".\")\n",
        "df.viscera_weight.convert_dtypes(convert_integer=True)\n",
        "df.viscera_weight=pd.to_numeric(df.viscera_weight,downcast=\"float\")\n",
        "\n",
        "df.head()"
      ],
      "execution_count": 376,
      "outputs": [
        {
          "output_type": "execute_result",
          "data": {
            "text/html": [
              "<div>\n",
              "<style scoped>\n",
              "    .dataframe tbody tr th:only-of-type {\n",
              "        vertical-align: middle;\n",
              "    }\n",
              "\n",
              "    .dataframe tbody tr th {\n",
              "        vertical-align: top;\n",
              "    }\n",
              "\n",
              "    .dataframe thead th {\n",
              "        text-align: right;\n",
              "    }\n",
              "</style>\n",
              "<table border=\"1\" class=\"dataframe\">\n",
              "  <thead>\n",
              "    <tr style=\"text-align: right;\">\n",
              "      <th></th>\n",
              "      <th>sex</th>\n",
              "      <th>length</th>\n",
              "      <th>diameter</th>\n",
              "      <th>height</th>\n",
              "      <th>whole_weight</th>\n",
              "      <th>shucked_weight</th>\n",
              "      <th>viscera_weight</th>\n",
              "      <th>shell_weight</th>\n",
              "      <th>rings</th>\n",
              "    </tr>\n",
              "  </thead>\n",
              "  <tbody>\n",
              "    <tr>\n",
              "      <th>0</th>\n",
              "      <td>M</td>\n",
              "      <td>0.455</td>\n",
              "      <td>0.365</td>\n",
              "      <td>0.095</td>\n",
              "      <td>0.5140</td>\n",
              "      <td>0.2245</td>\n",
              "      <td>0.1010</td>\n",
              "      <td>0.150</td>\n",
              "      <td>15</td>\n",
              "    </tr>\n",
              "    <tr>\n",
              "      <th>1</th>\n",
              "      <td>M</td>\n",
              "      <td>0.350</td>\n",
              "      <td>0.265</td>\n",
              "      <td>0.090</td>\n",
              "      <td>0.2255</td>\n",
              "      <td>0.0995</td>\n",
              "      <td>0.0485</td>\n",
              "      <td>0.070</td>\n",
              "      <td>7</td>\n",
              "    </tr>\n",
              "    <tr>\n",
              "      <th>2</th>\n",
              "      <td>F</td>\n",
              "      <td>0.530</td>\n",
              "      <td>0.420</td>\n",
              "      <td>0.135</td>\n",
              "      <td>0.6770</td>\n",
              "      <td>0.2565</td>\n",
              "      <td>0.1415</td>\n",
              "      <td>0.210</td>\n",
              "      <td>9</td>\n",
              "    </tr>\n",
              "    <tr>\n",
              "      <th>3</th>\n",
              "      <td>I</td>\n",
              "      <td>0.330</td>\n",
              "      <td>0.255</td>\n",
              "      <td>0.080</td>\n",
              "      <td>0.2050</td>\n",
              "      <td>0.0895</td>\n",
              "      <td>0.0395</td>\n",
              "      <td>0.055</td>\n",
              "      <td>7</td>\n",
              "    </tr>\n",
              "    <tr>\n",
              "      <th>4</th>\n",
              "      <td>I</td>\n",
              "      <td>0.425</td>\n",
              "      <td>0.300</td>\n",
              "      <td>0.095</td>\n",
              "      <td>0.3515</td>\n",
              "      <td>0.1410</td>\n",
              "      <td>0.0775</td>\n",
              "      <td>0.120</td>\n",
              "      <td>8</td>\n",
              "    </tr>\n",
              "  </tbody>\n",
              "</table>\n",
              "</div>"
            ],
            "text/plain": [
              "  sex  length  diameter  ...  viscera_weight  shell_weight  rings\n",
              "0   M   0.455     0.365  ...          0.1010         0.150     15\n",
              "1   M   0.350     0.265  ...          0.0485         0.070      7\n",
              "2   F   0.530     0.420  ...          0.1415         0.210      9\n",
              "3   I   0.330     0.255  ...          0.0395         0.055      7\n",
              "4   I   0.425     0.300  ...          0.0775         0.120      8\n",
              "\n",
              "[5 rows x 9 columns]"
            ]
          },
          "metadata": {
            "tags": []
          },
          "execution_count": 376
        }
      ]
    },
    {
      "cell_type": "markdown",
      "metadata": {
        "id": "00RjM_HWhWs0"
      },
      "source": [
        "## Descriptives"
      ]
    },
    {
      "cell_type": "code",
      "metadata": {
        "id": "fa9VzD_0hWs1",
        "outputId": "d0f6dd82-6b0f-4509-e900-d1bfa52d074e",
        "colab": {
          "base_uri": "https://localhost:8080/",
          "height": 284
        }
      },
      "source": [
        "df.describe()"
      ],
      "execution_count": 377,
      "outputs": [
        {
          "output_type": "execute_result",
          "data": {
            "text/html": [
              "<div>\n",
              "<style scoped>\n",
              "    .dataframe tbody tr th:only-of-type {\n",
              "        vertical-align: middle;\n",
              "    }\n",
              "\n",
              "    .dataframe tbody tr th {\n",
              "        vertical-align: top;\n",
              "    }\n",
              "\n",
              "    .dataframe thead th {\n",
              "        text-align: right;\n",
              "    }\n",
              "</style>\n",
              "<table border=\"1\" class=\"dataframe\">\n",
              "  <thead>\n",
              "    <tr style=\"text-align: right;\">\n",
              "      <th></th>\n",
              "      <th>length</th>\n",
              "      <th>diameter</th>\n",
              "      <th>height</th>\n",
              "      <th>whole_weight</th>\n",
              "      <th>shucked_weight</th>\n",
              "      <th>viscera_weight</th>\n",
              "      <th>shell_weight</th>\n",
              "      <th>rings</th>\n",
              "    </tr>\n",
              "  </thead>\n",
              "  <tbody>\n",
              "    <tr>\n",
              "      <th>count</th>\n",
              "      <td>4171.000000</td>\n",
              "      <td>4171.000000</td>\n",
              "      <td>4171.000000</td>\n",
              "      <td>4171.000000</td>\n",
              "      <td>4171.000000</td>\n",
              "      <td>4171.000000</td>\n",
              "      <td>4171.000000</td>\n",
              "      <td>4171.000000</td>\n",
              "    </tr>\n",
              "    <tr>\n",
              "      <th>mean</th>\n",
              "      <td>0.523969</td>\n",
              "      <td>0.407850</td>\n",
              "      <td>0.139507</td>\n",
              "      <td>0.828558</td>\n",
              "      <td>0.359304</td>\n",
              "      <td>0.180551</td>\n",
              "      <td>0.238778</td>\n",
              "      <td>9.931671</td>\n",
              "    </tr>\n",
              "    <tr>\n",
              "      <th>std</th>\n",
              "      <td>0.120120</td>\n",
              "      <td>0.099259</td>\n",
              "      <td>0.041841</td>\n",
              "      <td>0.490343</td>\n",
              "      <td>0.221960</td>\n",
              "      <td>0.109596</td>\n",
              "      <td>0.139176</td>\n",
              "      <td>3.222579</td>\n",
              "    </tr>\n",
              "    <tr>\n",
              "      <th>min</th>\n",
              "      <td>0.075000</td>\n",
              "      <td>0.055000</td>\n",
              "      <td>0.000000</td>\n",
              "      <td>0.002000</td>\n",
              "      <td>0.001000</td>\n",
              "      <td>0.000500</td>\n",
              "      <td>0.001500</td>\n",
              "      <td>1.000000</td>\n",
              "    </tr>\n",
              "    <tr>\n",
              "      <th>25%</th>\n",
              "      <td>0.450000</td>\n",
              "      <td>0.350000</td>\n",
              "      <td>0.115000</td>\n",
              "      <td>0.441250</td>\n",
              "      <td>0.186000</td>\n",
              "      <td>0.093250</td>\n",
              "      <td>0.130000</td>\n",
              "      <td>8.000000</td>\n",
              "    </tr>\n",
              "    <tr>\n",
              "      <th>50%</th>\n",
              "      <td>0.545000</td>\n",
              "      <td>0.425000</td>\n",
              "      <td>0.140000</td>\n",
              "      <td>0.799500</td>\n",
              "      <td>0.336000</td>\n",
              "      <td>0.171000</td>\n",
              "      <td>0.234000</td>\n",
              "      <td>9.000000</td>\n",
              "    </tr>\n",
              "    <tr>\n",
              "      <th>75%</th>\n",
              "      <td>0.615000</td>\n",
              "      <td>0.480000</td>\n",
              "      <td>0.165000</td>\n",
              "      <td>1.153000</td>\n",
              "      <td>0.501750</td>\n",
              "      <td>0.252750</td>\n",
              "      <td>0.328750</td>\n",
              "      <td>11.000000</td>\n",
              "    </tr>\n",
              "    <tr>\n",
              "      <th>max</th>\n",
              "      <td>0.815000</td>\n",
              "      <td>0.650000</td>\n",
              "      <td>1.130000</td>\n",
              "      <td>2.825500</td>\n",
              "      <td>1.488000</td>\n",
              "      <td>0.760000</td>\n",
              "      <td>1.005000</td>\n",
              "      <td>29.000000</td>\n",
              "    </tr>\n",
              "  </tbody>\n",
              "</table>\n",
              "</div>"
            ],
            "text/plain": [
              "            length     diameter  ...  shell_weight        rings\n",
              "count  4171.000000  4171.000000  ...   4171.000000  4171.000000\n",
              "mean      0.523969     0.407850  ...      0.238778     9.931671\n",
              "std       0.120120     0.099259  ...      0.139176     3.222579\n",
              "min       0.075000     0.055000  ...      0.001500     1.000000\n",
              "25%       0.450000     0.350000  ...      0.130000     8.000000\n",
              "50%       0.545000     0.425000  ...      0.234000     9.000000\n",
              "75%       0.615000     0.480000  ...      0.328750    11.000000\n",
              "max       0.815000     0.650000  ...      1.005000    29.000000\n",
              "\n",
              "[8 rows x 8 columns]"
            ]
          },
          "metadata": {
            "tags": []
          },
          "execution_count": 377
        }
      ]
    },
    {
      "cell_type": "code",
      "metadata": {
        "id": "8bP2dZ4fhWs2",
        "outputId": "e65cc659-ed49-40f6-a746-72b83f0712b0",
        "colab": {
          "base_uri": "https://localhost:8080/",
          "height": 101
        }
      },
      "source": [
        "# Describe the \"sex\" column and look at the values\n",
        "df.sex.describe()"
      ],
      "execution_count": 378,
      "outputs": [
        {
          "output_type": "execute_result",
          "data": {
            "text/plain": [
              "count     4171\n",
              "unique       3\n",
              "top          M\n",
              "freq      1526\n",
              "Name: sex, dtype: object"
            ]
          },
          "metadata": {
            "tags": []
          },
          "execution_count": 378
        }
      ]
    },
    {
      "cell_type": "markdown",
      "metadata": {
        "id": "RICURHwIhWs4"
      },
      "source": [
        "Find the index of the examples with the maximal and minimal values."
      ]
    },
    {
      "cell_type": "code",
      "metadata": {
        "id": "B7mFOZRKhWs4",
        "outputId": "d24e469b-be7f-444b-caf3-4a53f8c05fe4",
        "colab": {
          "base_uri": "https://localhost:8080/",
          "height": 50
        }
      },
      "source": [
        "# find the rows indeces with the largest values in them, from the \"height\" parameter onwards till the end\n",
        "# bear in mind that multiple versions of \"max\" exist in Pandas\n",
        "# and getting the location can be done also in multiple ways\n",
        "print(df.height.max())\n",
        "df.height.idxmax()\n"
      ],
      "execution_count": 379,
      "outputs": [
        {
          "output_type": "stream",
          "text": [
            "1.1299999952316284\n"
          ],
          "name": "stdout"
        },
        {
          "output_type": "execute_result",
          "data": {
            "text/plain": [
              "2045"
            ]
          },
          "metadata": {
            "tags": []
          },
          "execution_count": 379
        }
      ]
    },
    {
      "cell_type": "code",
      "metadata": {
        "id": "8R4Hd1QkhWs6",
        "outputId": "911513ca-1b6f-439b-8d9c-d2890ff99601",
        "colab": {
          "base_uri": "https://localhost:8080/",
          "height": 185
        }
      },
      "source": [
        "df.loc[2045]"
      ],
      "execution_count": 380,
      "outputs": [
        {
          "output_type": "execute_result",
          "data": {
            "text/plain": [
              "sex                    F\n",
              "length             0.455\n",
              "diameter           0.355\n",
              "height              1.13\n",
              "whole_weight       0.594\n",
              "shucked_weight     0.332\n",
              "viscera_weight     0.116\n",
              "shell_weight      0.1335\n",
              "rings                  8\n",
              "Name: 2045, dtype: object"
            ]
          },
          "metadata": {
            "tags": []
          },
          "execution_count": 380
        }
      ]
    },
    {
      "cell_type": "markdown",
      "metadata": {
        "id": "nM4LfGfJhWs8"
      },
      "source": [
        "## Standardization"
      ]
    },
    {
      "cell_type": "code",
      "metadata": {
        "id": "C8l0tkAjhWs8",
        "outputId": "7b44845a-649b-4b95-e671-833ac87febd4",
        "colab": {
          "base_uri": "https://localhost:8080/",
          "height": 195
        }
      },
      "source": [
        "# we create a new df for the numeric values that we think need normalization \n",
        "df_numeric = df.loc[:,\"length\":\"shell_weight\"]\n",
        "df_numeric.head()"
      ],
      "execution_count": 381,
      "outputs": [
        {
          "output_type": "execute_result",
          "data": {
            "text/html": [
              "<div>\n",
              "<style scoped>\n",
              "    .dataframe tbody tr th:only-of-type {\n",
              "        vertical-align: middle;\n",
              "    }\n",
              "\n",
              "    .dataframe tbody tr th {\n",
              "        vertical-align: top;\n",
              "    }\n",
              "\n",
              "    .dataframe thead th {\n",
              "        text-align: right;\n",
              "    }\n",
              "</style>\n",
              "<table border=\"1\" class=\"dataframe\">\n",
              "  <thead>\n",
              "    <tr style=\"text-align: right;\">\n",
              "      <th></th>\n",
              "      <th>length</th>\n",
              "      <th>diameter</th>\n",
              "      <th>height</th>\n",
              "      <th>whole_weight</th>\n",
              "      <th>shucked_weight</th>\n",
              "      <th>viscera_weight</th>\n",
              "      <th>shell_weight</th>\n",
              "    </tr>\n",
              "  </thead>\n",
              "  <tbody>\n",
              "    <tr>\n",
              "      <th>0</th>\n",
              "      <td>0.455</td>\n",
              "      <td>0.365</td>\n",
              "      <td>0.095</td>\n",
              "      <td>0.5140</td>\n",
              "      <td>0.2245</td>\n",
              "      <td>0.1010</td>\n",
              "      <td>0.150</td>\n",
              "    </tr>\n",
              "    <tr>\n",
              "      <th>1</th>\n",
              "      <td>0.350</td>\n",
              "      <td>0.265</td>\n",
              "      <td>0.090</td>\n",
              "      <td>0.2255</td>\n",
              "      <td>0.0995</td>\n",
              "      <td>0.0485</td>\n",
              "      <td>0.070</td>\n",
              "    </tr>\n",
              "    <tr>\n",
              "      <th>2</th>\n",
              "      <td>0.530</td>\n",
              "      <td>0.420</td>\n",
              "      <td>0.135</td>\n",
              "      <td>0.6770</td>\n",
              "      <td>0.2565</td>\n",
              "      <td>0.1415</td>\n",
              "      <td>0.210</td>\n",
              "    </tr>\n",
              "    <tr>\n",
              "      <th>3</th>\n",
              "      <td>0.330</td>\n",
              "      <td>0.255</td>\n",
              "      <td>0.080</td>\n",
              "      <td>0.2050</td>\n",
              "      <td>0.0895</td>\n",
              "      <td>0.0395</td>\n",
              "      <td>0.055</td>\n",
              "    </tr>\n",
              "    <tr>\n",
              "      <th>4</th>\n",
              "      <td>0.425</td>\n",
              "      <td>0.300</td>\n",
              "      <td>0.095</td>\n",
              "      <td>0.3515</td>\n",
              "      <td>0.1410</td>\n",
              "      <td>0.0775</td>\n",
              "      <td>0.120</td>\n",
              "    </tr>\n",
              "  </tbody>\n",
              "</table>\n",
              "</div>"
            ],
            "text/plain": [
              "   length  diameter  height  ...  shucked_weight  viscera_weight  shell_weight\n",
              "0   0.455     0.365   0.095  ...          0.2245          0.1010         0.150\n",
              "1   0.350     0.265   0.090  ...          0.0995          0.0485         0.070\n",
              "2   0.530     0.420   0.135  ...          0.2565          0.1415         0.210\n",
              "3   0.330     0.255   0.080  ...          0.0895          0.0395         0.055\n",
              "4   0.425     0.300   0.095  ...          0.1410          0.0775         0.120\n",
              "\n",
              "[5 rows x 7 columns]"
            ]
          },
          "metadata": {
            "tags": []
          },
          "execution_count": 381
        }
      ]
    },
    {
      "cell_type": "code",
      "metadata": {
        "id": "GZdMNPFChWs-",
        "outputId": "b0d797c8-1eb4-43f9-98f1-558f58faf8d1",
        "colab": {
          "base_uri": "https://localhost:8080/",
          "height": 195
        }
      },
      "source": [
        "# Calculate the mean of the df_numeric in one go\n",
        "# If done right, this will be a Pandas.Series obejct (a kind of vector) of means\n",
        "mean = df_numeric.mean()\n",
        "\n",
        "# Calculate the standard deviation of the df_numeric in one go\n",
        "# If done right, this will be a Pandas.Series obejct (a kind of vector) of means\n",
        "std = df_numeric.std()\n",
        "\n",
        "# Now we apply the two Series calculated for normalization in one go for the whole df \n",
        "df_numeric_std = (df_numeric - mean) / std\n",
        "df_numeric_std.head()"
      ],
      "execution_count": 382,
      "outputs": [
        {
          "output_type": "execute_result",
          "data": {
            "text/html": [
              "<div>\n",
              "<style scoped>\n",
              "    .dataframe tbody tr th:only-of-type {\n",
              "        vertical-align: middle;\n",
              "    }\n",
              "\n",
              "    .dataframe tbody tr th {\n",
              "        vertical-align: top;\n",
              "    }\n",
              "\n",
              "    .dataframe thead th {\n",
              "        text-align: right;\n",
              "    }\n",
              "</style>\n",
              "<table border=\"1\" class=\"dataframe\">\n",
              "  <thead>\n",
              "    <tr style=\"text-align: right;\">\n",
              "      <th></th>\n",
              "      <th>length</th>\n",
              "      <th>diameter</th>\n",
              "      <th>height</th>\n",
              "      <th>whole_weight</th>\n",
              "      <th>shucked_weight</th>\n",
              "      <th>viscera_weight</th>\n",
              "      <th>shell_weight</th>\n",
              "    </tr>\n",
              "  </thead>\n",
              "  <tbody>\n",
              "    <tr>\n",
              "      <th>0</th>\n",
              "      <td>-0.574166</td>\n",
              "      <td>-0.431705</td>\n",
              "      <td>-1.063719</td>\n",
              "      <td>-0.641505</td>\n",
              "      <td>-0.607335</td>\n",
              "      <td>-0.725853</td>\n",
              "      <td>-0.637880</td>\n",
              "    </tr>\n",
              "    <tr>\n",
              "      <th>1</th>\n",
              "      <td>-1.448293</td>\n",
              "      <td>-1.439174</td>\n",
              "      <td>-1.183219</td>\n",
              "      <td>-1.229869</td>\n",
              "      <td>-1.170499</td>\n",
              "      <td>-1.204886</td>\n",
              "      <td>-1.212693</td>\n",
              "    </tr>\n",
              "    <tr>\n",
              "      <th>2</th>\n",
              "      <td>0.050209</td>\n",
              "      <td>0.122403</td>\n",
              "      <td>-0.107724</td>\n",
              "      <td>-0.309085</td>\n",
              "      <td>-0.463164</td>\n",
              "      <td>-0.356314</td>\n",
              "      <td>-0.206771</td>\n",
              "    </tr>\n",
              "    <tr>\n",
              "      <th>3</th>\n",
              "      <td>-1.614793</td>\n",
              "      <td>-1.539921</td>\n",
              "      <td>-1.422217</td>\n",
              "      <td>-1.271677</td>\n",
              "      <td>-1.215552</td>\n",
              "      <td>-1.287006</td>\n",
              "      <td>-1.320470</td>\n",
              "    </tr>\n",
              "    <tr>\n",
              "      <th>4</th>\n",
              "      <td>-0.823917</td>\n",
              "      <td>-1.086560</td>\n",
              "      <td>-1.063719</td>\n",
              "      <td>-0.972906</td>\n",
              "      <td>-0.983528</td>\n",
              "      <td>-0.940278</td>\n",
              "      <td>-0.853435</td>\n",
              "    </tr>\n",
              "  </tbody>\n",
              "</table>\n",
              "</div>"
            ],
            "text/plain": [
              "     length  diameter    height  ...  shucked_weight  viscera_weight  shell_weight\n",
              "0 -0.574166 -0.431705 -1.063719  ...       -0.607335       -0.725853     -0.637880\n",
              "1 -1.448293 -1.439174 -1.183219  ...       -1.170499       -1.204886     -1.212693\n",
              "2  0.050209  0.122403 -0.107724  ...       -0.463164       -0.356314     -0.206771\n",
              "3 -1.614793 -1.539921 -1.422217  ...       -1.215552       -1.287006     -1.320470\n",
              "4 -0.823917 -1.086560 -1.063719  ...       -0.983528       -0.940278     -0.853435\n",
              "\n",
              "[5 rows x 7 columns]"
            ]
          },
          "metadata": {
            "tags": []
          },
          "execution_count": 382
        }
      ]
    },
    {
      "cell_type": "code",
      "metadata": {
        "id": "Qj2DUslqhWtA",
        "outputId": "29c055a9-a417-4c39-9069-6f6f73065a8f",
        "colab": {
          "base_uri": "https://localhost:8080/",
          "height": 284
        }
      },
      "source": [
        "df_numeric_std.describe()"
      ],
      "execution_count": 383,
      "outputs": [
        {
          "output_type": "execute_result",
          "data": {
            "text/html": [
              "<div>\n",
              "<style scoped>\n",
              "    .dataframe tbody tr th:only-of-type {\n",
              "        vertical-align: middle;\n",
              "    }\n",
              "\n",
              "    .dataframe tbody tr th {\n",
              "        vertical-align: top;\n",
              "    }\n",
              "\n",
              "    .dataframe thead th {\n",
              "        text-align: right;\n",
              "    }\n",
              "</style>\n",
              "<table border=\"1\" class=\"dataframe\">\n",
              "  <thead>\n",
              "    <tr style=\"text-align: right;\">\n",
              "      <th></th>\n",
              "      <th>length</th>\n",
              "      <th>diameter</th>\n",
              "      <th>height</th>\n",
              "      <th>whole_weight</th>\n",
              "      <th>shucked_weight</th>\n",
              "      <th>viscera_weight</th>\n",
              "      <th>shell_weight</th>\n",
              "    </tr>\n",
              "  </thead>\n",
              "  <tbody>\n",
              "    <tr>\n",
              "      <th>count</th>\n",
              "      <td>4171.000000</td>\n",
              "      <td>4171.000000</td>\n",
              "      <td>4.171000e+03</td>\n",
              "      <td>4171.000000</td>\n",
              "      <td>4.171000e+03</td>\n",
              "      <td>4171.000000</td>\n",
              "      <td>4.171000e+03</td>\n",
              "    </tr>\n",
              "    <tr>\n",
              "      <th>mean</th>\n",
              "      <td>0.000002</td>\n",
              "      <td>0.000002</td>\n",
              "      <td>8.859957e-08</td>\n",
              "      <td>-0.000002</td>\n",
              "      <td>-5.645222e-07</td>\n",
              "      <td>0.000002</td>\n",
              "      <td>9.966023e-08</td>\n",
              "    </tr>\n",
              "    <tr>\n",
              "      <th>std</th>\n",
              "      <td>1.000001</td>\n",
              "      <td>1.000004</td>\n",
              "      <td>9.999962e-01</td>\n",
              "      <td>0.999998</td>\n",
              "      <td>9.999987e-01</td>\n",
              "      <td>1.000000</td>\n",
              "      <td>9.999999e-01</td>\n",
              "    </tr>\n",
              "    <tr>\n",
              "      <th>min</th>\n",
              "      <td>-3.737673</td>\n",
              "      <td>-3.554860</td>\n",
              "      <td>-3.334208e+00</td>\n",
              "      <td>-1.685673</td>\n",
              "      <td>-1.614273e+00</td>\n",
              "      <td>-1.642859</td>\n",
              "      <td>-1.704876e+00</td>\n",
              "    </tr>\n",
              "    <tr>\n",
              "      <th>25%</th>\n",
              "      <td>-0.615792</td>\n",
              "      <td>-0.582825</td>\n",
              "      <td>-5.857217e-01</td>\n",
              "      <td>-0.789871</td>\n",
              "      <td>-7.807893e-01</td>\n",
              "      <td>-0.796568</td>\n",
              "      <td>-7.815835e-01</td>\n",
              "    </tr>\n",
              "    <tr>\n",
              "      <th>50%</th>\n",
              "      <td>0.175085</td>\n",
              "      <td>0.172777</td>\n",
              "      <td>1.177528e-02</td>\n",
              "      <td>-0.059260</td>\n",
              "      <td>-1.049919e-01</td>\n",
              "      <td>-0.087143</td>\n",
              "      <td>-3.432713e-02</td>\n",
              "    </tr>\n",
              "    <tr>\n",
              "      <th>75%</th>\n",
              "      <td>0.757836</td>\n",
              "      <td>0.726885</td>\n",
              "      <td>6.092724e-01</td>\n",
              "      <td>0.661664</td>\n",
              "      <td>6.417641e-01</td>\n",
              "      <td>0.658779</td>\n",
              "      <td>6.464665e-01</td>\n",
              "    </tr>\n",
              "    <tr>\n",
              "      <th>max</th>\n",
              "      <td>2.422839</td>\n",
              "      <td>2.439583</td>\n",
              "      <td>2.367266e+01</td>\n",
              "      <td>4.072543</td>\n",
              "      <td>5.085132e+00</td>\n",
              "      <td>5.287147</td>\n",
              "      <td>5.505429e+00</td>\n",
              "    </tr>\n",
              "  </tbody>\n",
              "</table>\n",
              "</div>"
            ],
            "text/plain": [
              "            length     diameter  ...  viscera_weight  shell_weight\n",
              "count  4171.000000  4171.000000  ...     4171.000000  4.171000e+03\n",
              "mean      0.000002     0.000002  ...        0.000002  9.966023e-08\n",
              "std       1.000001     1.000004  ...        1.000000  9.999999e-01\n",
              "min      -3.737673    -3.554860  ...       -1.642859 -1.704876e+00\n",
              "25%      -0.615792    -0.582825  ...       -0.796568 -7.815835e-01\n",
              "50%       0.175085     0.172777  ...       -0.087143 -3.432713e-02\n",
              "75%       0.757836     0.726885  ...        0.658779  6.464665e-01\n",
              "max       2.422839     2.439583  ...        5.287147  5.505429e+00\n",
              "\n",
              "[8 rows x 7 columns]"
            ]
          },
          "metadata": {
            "tags": []
          },
          "execution_count": 383
        }
      ]
    },
    {
      "cell_type": "code",
      "metadata": {
        "id": "flpfD00NhWtC",
        "outputId": "4347682c-16f9-4bb5-a427-f96280af6865",
        "colab": {
          "base_uri": "https://localhost:8080/",
          "height": 195
        }
      },
      "source": [
        "df.loc[:,\"length\":\"shell_weight\"] = df_numeric_std\n",
        "df.head()"
      ],
      "execution_count": 384,
      "outputs": [
        {
          "output_type": "execute_result",
          "data": {
            "text/html": [
              "<div>\n",
              "<style scoped>\n",
              "    .dataframe tbody tr th:only-of-type {\n",
              "        vertical-align: middle;\n",
              "    }\n",
              "\n",
              "    .dataframe tbody tr th {\n",
              "        vertical-align: top;\n",
              "    }\n",
              "\n",
              "    .dataframe thead th {\n",
              "        text-align: right;\n",
              "    }\n",
              "</style>\n",
              "<table border=\"1\" class=\"dataframe\">\n",
              "  <thead>\n",
              "    <tr style=\"text-align: right;\">\n",
              "      <th></th>\n",
              "      <th>sex</th>\n",
              "      <th>length</th>\n",
              "      <th>diameter</th>\n",
              "      <th>height</th>\n",
              "      <th>whole_weight</th>\n",
              "      <th>shucked_weight</th>\n",
              "      <th>viscera_weight</th>\n",
              "      <th>shell_weight</th>\n",
              "      <th>rings</th>\n",
              "    </tr>\n",
              "  </thead>\n",
              "  <tbody>\n",
              "    <tr>\n",
              "      <th>0</th>\n",
              "      <td>M</td>\n",
              "      <td>-0.574166</td>\n",
              "      <td>-0.431705</td>\n",
              "      <td>-1.063719</td>\n",
              "      <td>-0.641505</td>\n",
              "      <td>-0.607335</td>\n",
              "      <td>-0.725853</td>\n",
              "      <td>-0.637880</td>\n",
              "      <td>15</td>\n",
              "    </tr>\n",
              "    <tr>\n",
              "      <th>1</th>\n",
              "      <td>M</td>\n",
              "      <td>-1.448293</td>\n",
              "      <td>-1.439174</td>\n",
              "      <td>-1.183219</td>\n",
              "      <td>-1.229869</td>\n",
              "      <td>-1.170499</td>\n",
              "      <td>-1.204886</td>\n",
              "      <td>-1.212693</td>\n",
              "      <td>7</td>\n",
              "    </tr>\n",
              "    <tr>\n",
              "      <th>2</th>\n",
              "      <td>F</td>\n",
              "      <td>0.050209</td>\n",
              "      <td>0.122403</td>\n",
              "      <td>-0.107724</td>\n",
              "      <td>-0.309085</td>\n",
              "      <td>-0.463164</td>\n",
              "      <td>-0.356314</td>\n",
              "      <td>-0.206771</td>\n",
              "      <td>9</td>\n",
              "    </tr>\n",
              "    <tr>\n",
              "      <th>3</th>\n",
              "      <td>I</td>\n",
              "      <td>-1.614793</td>\n",
              "      <td>-1.539921</td>\n",
              "      <td>-1.422217</td>\n",
              "      <td>-1.271677</td>\n",
              "      <td>-1.215552</td>\n",
              "      <td>-1.287006</td>\n",
              "      <td>-1.320470</td>\n",
              "      <td>7</td>\n",
              "    </tr>\n",
              "    <tr>\n",
              "      <th>4</th>\n",
              "      <td>I</td>\n",
              "      <td>-0.823917</td>\n",
              "      <td>-1.086560</td>\n",
              "      <td>-1.063719</td>\n",
              "      <td>-0.972906</td>\n",
              "      <td>-0.983528</td>\n",
              "      <td>-0.940278</td>\n",
              "      <td>-0.853435</td>\n",
              "      <td>8</td>\n",
              "    </tr>\n",
              "  </tbody>\n",
              "</table>\n",
              "</div>"
            ],
            "text/plain": [
              "  sex    length  diameter  ...  viscera_weight  shell_weight  rings\n",
              "0   M -0.574166 -0.431705  ...       -0.725853     -0.637880     15\n",
              "1   M -1.448293 -1.439174  ...       -1.204886     -1.212693      7\n",
              "2   F  0.050209  0.122403  ...       -0.356314     -0.206771      9\n",
              "3   I -1.614793 -1.539921  ...       -1.287006     -1.320470      7\n",
              "4   I -0.823917 -1.086560  ...       -0.940278     -0.853435      8\n",
              "\n",
              "[5 rows x 9 columns]"
            ]
          },
          "metadata": {
            "tags": []
          },
          "execution_count": 384
        }
      ]
    },
    {
      "cell_type": "code",
      "metadata": {
        "id": "C97_KN8qhWtE",
        "outputId": "2e8d59bd-64fa-40d0-a29b-94c2bd3839dc",
        "colab": {
          "base_uri": "https://localhost:8080/",
          "height": 284
        }
      },
      "source": [
        "df.describe()"
      ],
      "execution_count": 385,
      "outputs": [
        {
          "output_type": "execute_result",
          "data": {
            "text/html": [
              "<div>\n",
              "<style scoped>\n",
              "    .dataframe tbody tr th:only-of-type {\n",
              "        vertical-align: middle;\n",
              "    }\n",
              "\n",
              "    .dataframe tbody tr th {\n",
              "        vertical-align: top;\n",
              "    }\n",
              "\n",
              "    .dataframe thead th {\n",
              "        text-align: right;\n",
              "    }\n",
              "</style>\n",
              "<table border=\"1\" class=\"dataframe\">\n",
              "  <thead>\n",
              "    <tr style=\"text-align: right;\">\n",
              "      <th></th>\n",
              "      <th>length</th>\n",
              "      <th>diameter</th>\n",
              "      <th>height</th>\n",
              "      <th>whole_weight</th>\n",
              "      <th>shucked_weight</th>\n",
              "      <th>viscera_weight</th>\n",
              "      <th>shell_weight</th>\n",
              "      <th>rings</th>\n",
              "    </tr>\n",
              "  </thead>\n",
              "  <tbody>\n",
              "    <tr>\n",
              "      <th>count</th>\n",
              "      <td>4171.000000</td>\n",
              "      <td>4171.000000</td>\n",
              "      <td>4.171000e+03</td>\n",
              "      <td>4171.000000</td>\n",
              "      <td>4.171000e+03</td>\n",
              "      <td>4171.000000</td>\n",
              "      <td>4.171000e+03</td>\n",
              "      <td>4171.000000</td>\n",
              "    </tr>\n",
              "    <tr>\n",
              "      <th>mean</th>\n",
              "      <td>0.000002</td>\n",
              "      <td>0.000002</td>\n",
              "      <td>8.859957e-08</td>\n",
              "      <td>-0.000002</td>\n",
              "      <td>-5.645222e-07</td>\n",
              "      <td>0.000002</td>\n",
              "      <td>9.966023e-08</td>\n",
              "      <td>9.931671</td>\n",
              "    </tr>\n",
              "    <tr>\n",
              "      <th>std</th>\n",
              "      <td>1.000001</td>\n",
              "      <td>1.000004</td>\n",
              "      <td>9.999962e-01</td>\n",
              "      <td>0.999998</td>\n",
              "      <td>9.999987e-01</td>\n",
              "      <td>1.000000</td>\n",
              "      <td>9.999999e-01</td>\n",
              "      <td>3.222579</td>\n",
              "    </tr>\n",
              "    <tr>\n",
              "      <th>min</th>\n",
              "      <td>-3.737673</td>\n",
              "      <td>-3.554860</td>\n",
              "      <td>-3.334208e+00</td>\n",
              "      <td>-1.685673</td>\n",
              "      <td>-1.614273e+00</td>\n",
              "      <td>-1.642859</td>\n",
              "      <td>-1.704876e+00</td>\n",
              "      <td>1.000000</td>\n",
              "    </tr>\n",
              "    <tr>\n",
              "      <th>25%</th>\n",
              "      <td>-0.615792</td>\n",
              "      <td>-0.582825</td>\n",
              "      <td>-5.857217e-01</td>\n",
              "      <td>-0.789871</td>\n",
              "      <td>-7.807893e-01</td>\n",
              "      <td>-0.796568</td>\n",
              "      <td>-7.815835e-01</td>\n",
              "      <td>8.000000</td>\n",
              "    </tr>\n",
              "    <tr>\n",
              "      <th>50%</th>\n",
              "      <td>0.175085</td>\n",
              "      <td>0.172777</td>\n",
              "      <td>1.177528e-02</td>\n",
              "      <td>-0.059260</td>\n",
              "      <td>-1.049919e-01</td>\n",
              "      <td>-0.087143</td>\n",
              "      <td>-3.432713e-02</td>\n",
              "      <td>9.000000</td>\n",
              "    </tr>\n",
              "    <tr>\n",
              "      <th>75%</th>\n",
              "      <td>0.757836</td>\n",
              "      <td>0.726885</td>\n",
              "      <td>6.092724e-01</td>\n",
              "      <td>0.661664</td>\n",
              "      <td>6.417641e-01</td>\n",
              "      <td>0.658779</td>\n",
              "      <td>6.464665e-01</td>\n",
              "      <td>11.000000</td>\n",
              "    </tr>\n",
              "    <tr>\n",
              "      <th>max</th>\n",
              "      <td>2.422839</td>\n",
              "      <td>2.439583</td>\n",
              "      <td>2.367266e+01</td>\n",
              "      <td>4.072543</td>\n",
              "      <td>5.085132e+00</td>\n",
              "      <td>5.287147</td>\n",
              "      <td>5.505429e+00</td>\n",
              "      <td>29.000000</td>\n",
              "    </tr>\n",
              "  </tbody>\n",
              "</table>\n",
              "</div>"
            ],
            "text/plain": [
              "            length     diameter  ...  shell_weight        rings\n",
              "count  4171.000000  4171.000000  ...  4.171000e+03  4171.000000\n",
              "mean      0.000002     0.000002  ...  9.966023e-08     9.931671\n",
              "std       1.000001     1.000004  ...  9.999999e-01     3.222579\n",
              "min      -3.737673    -3.554860  ... -1.704876e+00     1.000000\n",
              "25%      -0.615792    -0.582825  ... -7.815835e-01     8.000000\n",
              "50%       0.175085     0.172777  ... -3.432713e-02     9.000000\n",
              "75%       0.757836     0.726885  ...  6.464665e-01    11.000000\n",
              "max       2.422839     2.439583  ...  5.505429e+00    29.000000\n",
              "\n",
              "[8 rows x 8 columns]"
            ]
          },
          "metadata": {
            "tags": []
          },
          "execution_count": 385
        }
      ]
    },
    {
      "cell_type": "markdown",
      "metadata": {
        "id": "jBisMZ3QhWtG"
      },
      "source": [
        "# Basic plotting"
      ]
    },
    {
      "cell_type": "code",
      "metadata": {
        "id": "muZvmOT0hWtG",
        "outputId": "87be3c44-9d59-49a6-9d72-cdcd0f09e247",
        "colab": {
          "base_uri": "https://localhost:8080/",
          "height": 500
        }
      },
      "source": [
        "df.length.plot.box(figsize=(8,8)) # the semicolon is to stop Jupyter from \"printing\" the figure as well\n",
        "# This is a verbose syntax, the alternative is also viable: df.length.boxplot() "
      ],
      "execution_count": 387,
      "outputs": [
        {
          "output_type": "execute_result",
          "data": {
            "text/plain": [
              "<matplotlib.axes._subplots.AxesSubplot at 0x7fb9f99e34e0>"
            ]
          },
          "metadata": {
            "tags": []
          },
          "execution_count": 387
        },
        {
          "output_type": "display_data",
          "data": {
            "image/png": "[encoded data removed]",
            "text/plain": [
              "<Figure size 576x576 with 1 Axes>"
            ]
          },
          "metadata": {
            "tags": [],
            "needs_background": "light"
          }
        }
      ]
    },
    {
      "cell_type": "code",
      "metadata": {
        "id": "OX-xxuTdbEYA",
        "outputId": "3f2381ae-b814-4d3d-80b4-ba38e794bae1",
        "colab": {
          "base_uri": "https://localhost:8080/",
          "height": 283
        }
      },
      "source": [
        "df.whole_weight.plot.box()\n"
      ],
      "execution_count": 390,
      "outputs": [
        {
          "output_type": "execute_result",
          "data": {
            "text/plain": [
              "<matplotlib.axes._subplots.AxesSubplot at 0x7fb9f97d8940>"
            ]
          },
          "metadata": {
            "tags": []
          },
          "execution_count": 390
        },
        {
          "output_type": "display_data",
          "data": {
            "image/png": "[encoded data removed]",
            "text/plain": [
              "<Figure size 432x288 with 1 Axes>"
            ]
          },
          "metadata": {
            "tags": [],
            "needs_background": "light"
          }
        }
      ]
    },
    {
      "cell_type": "code",
      "metadata": {
        "id": "A5iyGNiBhWtH",
        "outputId": "2144e734-0320-4e8d-c6b1-dcd003efb2ab",
        "colab": {
          "base_uri": "https://localhost:8080/",
          "height": 265
        }
      },
      "source": [
        "# Do a histogram with 20 bins for the \"length\" data\n",
        "df.length.plot.hist(bins=20);"
      ],
      "execution_count": 393,
      "outputs": [
        {
          "output_type": "display_data",
          "data": {
            "image/png": "[encoded data removed]",
            "text/plain": [
              "<Figure size 432x288 with 1 Axes>"
            ]
          },
          "metadata": {
            "tags": [],
            "needs_background": "light"
          }
        }
      ]
    },
    {
      "cell_type": "code",
      "metadata": {
        "id": "zkLZoDc8hWtJ",
        "outputId": "971761c2-d096-4a80-c787-9455ff3bccfb",
        "colab": {
          "base_uri": "https://localhost:8080/",
          "height": 497
        }
      },
      "source": [
        "# implement a scatter plot between \"length\" and \"rings\", use figure size 8,8\n",
        "df.plot(x='length', y='rings', style='x',figsize=(8,8));"
      ],
      "execution_count": 400,
      "outputs": [
        {
          "output_type": "display_data",
          "data": {
            "image/png": "[encoded data removed]",
            "text/plain": [
              "<Figure size 576x576 with 1 Axes>"
            ]
          },
          "metadata": {
            "tags": [],
            "needs_background": "light"
          }
        }
      ]
    }
  ]
}