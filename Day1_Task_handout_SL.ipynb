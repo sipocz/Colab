{
  "nbformat": 4,
  "nbformat_minor": 0,
  "metadata": {
    "kernelspec": {
      "display_name": "Python 3",
      "language": "python",
      "name": "python3"
    },
    "language_info": {
      "codemirror_mode": {
        "name": "ipython",
        "version": 3
      },
      "file_extension": ".py",
      "mimetype": "text/x-python",
      "name": "python",
      "nbconvert_exporter": "python",
      "pygments_lexer": "ipython3",
      "version": "3.7.9"
    },
    "toc": {
      "base_numbering": 1,
      "nav_menu": {},
      "number_sections": true,
      "sideBar": true,
      "skip_h1_title": false,
      "title_cell": "Table of Contents",
      "title_sidebar": "Contents",
      "toc_cell": false,
      "toc_position": {
        "height": "calc(100% - 180px)",
        "left": "10px",
        "top": "150px",
        "width": "165px"
      },
      "toc_section_display": true,
      "toc_window_display": false
    },
    "varInspector": {
      "cols": {
        "lenName": 16,
        "lenType": 16,
        "lenVar": 40
      },
      "kernels_config": {
        "python": {
          "delete_cmd_postfix": "",
          "delete_cmd_prefix": "del ",
          "library": "var_list.py",
          "varRefreshCmd": "print(var_dic_list())"
        },
        "r": {
          "delete_cmd_postfix": ") ",
          "delete_cmd_prefix": "rm(",
          "library": "var_list.r",
          "varRefreshCmd": "cat(var_dic_list()) "
        }
      },
      "position": {
        "height": "544px",
        "left": "1549px",
        "right": "7px",
        "top": "103px",
        "width": "362px"
      },
      "types_to_exclude": [
        "module",
        "function",
        "builtin_function_or_method",
        "instance",
        "_Feature"
      ],
      "window_display": false
    },
    "colab": {
      "name": "Day1-Task_handout_SL.ipynb",
      "provenance": [],
      "include_colab_link": true
    }
  },
  "cells": [
    {
      "cell_type": "markdown",
      "metadata": {
        "id": "view-in-github",
        "colab_type": "text"
      },
      "source": [
        "<a href=\"https://colab.research.google.com/github/sipocz/Colab/blob/main/Day1_Task_handout_SL.ipynb\" target=\"_parent\"><img src=\"https://colab.research.google.com/assets/colab-badge.svg\" alt=\"Open In Colab\"/></a>"
      ]
    },
    {
      "cell_type": "markdown",
      "metadata": {
        "id": "U4uZ-zT5hWsO"
      },
      "source": [
        "# Python functions, objects and classes"
      ]
    },
    {
      "cell_type": "markdown",
      "metadata": {
        "id": "6Q498j-whWsP"
      },
      "source": [
        "## Task 1\n",
        "Please use the function defined below to print out the text \"Hello my friend\"!"
      ]
    },
    {
      "cell_type": "code",
      "metadata": {
        "id": "PJ3DuQl9hWsQ"
      },
      "source": [
        "#define a function named hello, that accepts a named parameter \"who\" and prints \n",
        "#out \"Hello\" and the incoming string concateneted\n",
        "\n",
        "def hello(who):\n",
        "    print(\"hello \"+who)\n",
        "\n"
      ],
      "execution_count": 3,
      "outputs": []
    },
    {
      "cell_type": "code",
      "metadata": {
        "id": "PNlgmTIOhWsS",
        "outputId": "53bb8aae-372b-4d4b-be1e-001a4a529bc5",
        "colab": {
          "base_uri": "https://localhost:8080/",
          "height": 34
        }
      },
      "source": [
        "hello(\"my friend\")"
      ],
      "execution_count": 2,
      "outputs": [
        {
          "output_type": "stream",
          "text": [
            "hellomy friend\n"
          ],
          "name": "stdout"
        }
      ]
    },
    {
      "cell_type": "markdown",
      "metadata": {
        "id": "ylIXiHDYhWsU"
      },
      "source": [
        "## Task 2"
      ]
    },
    {
      "cell_type": "code",
      "metadata": {
        "id": "oBONg5ZohWsV"
      },
      "source": [
        "class AbstractShape:\n",
        "    \"\"\"A class representing planar figures.\n",
        "    \"\"\"\n",
        "    \n",
        "    def __init__(self, centerx, centery, color=\"black\"):\n",
        "        \"\"\"Initialize a shape.\n",
        "        \n",
        "        Args:\n",
        "            centerx: The x coordinate of the shape's center.\n",
        "            centery: The y coordinate of the shape's center.\n",
        "            color (str): The shape's color.\n",
        "        \"\"\"\n",
        "        self.centerx = centerx\n",
        "        self.centery = centery\n",
        "        self.color = color\n",
        "        \n",
        "    def move_by(self, dx, dy):\n",
        "        \"\"\"Move the shape by the given distances.\n",
        "        \n",
        "        Args:\n",
        "            dx: Movement along the x axis.\n",
        "            dy: Movement along the y axis.\n",
        "            \n",
        "        Returns:\n",
        "            None\n",
        "        \"\"\"\n",
        "        self.centerx += dx\n",
        "        self.centery += dy\n",
        "        \n",
        "    def area(self):\n",
        "        \"\"\"Return the area of the shape\n",
        "        \"\"\"\n",
        "        \n",
        "        raise NotImplementedError # Raise an exception if a class simply inherits without implementing"
      ],
      "execution_count": 5,
      "outputs": []
    },
    {
      "cell_type": "code",
      "metadata": {
        "id": "UzEgDVQ1hWsW"
      },
      "source": [
        "# Define a Circle class that inherits form AbstractShape\n",
        "# Accepts more parameters for radius\n",
        "# implement the \"area\" function, that calculates the area of the circle\n",
        "# use the math library imported blow\n",
        "\n",
        "from math import pi # We will need pi for calculating the area\n",
        "\n",
        "class Circle(AbstractShape):\n",
        "    \"\"\"A class representing a circle.    \n",
        "    \"\"\"\n",
        "    \n",
        "    def __init__(self, centerx, centery, radius, color=\"black\"):\n",
        "                 # You have to correct the init here!\n",
        "        self.centerx = centerx\n",
        "        self.centery = centery\n",
        "        self.color = color\n",
        "        self.radius=radius\n",
        "        self.areat=self.radius**2*pi/4\n",
        "                 \n",
        "                 \n",
        "                 \n",
        "    #The function area needs to be implemented here\n",
        "                 \n",
        "    \n",
        "    # This is an additional property of the class, illustrating the usage of decorators in Python\n",
        "    # https://realpython.com/primer-on-python-decorators/\n",
        "    # Property is a special type of decorator\n",
        "    # https://www.programiz.com/python-programming/property\n",
        "    @property  # ENNEK UTÁNA NÉZNI !!!!\n",
        "    def diameter(self):\n",
        "        \"\"\"Return the circle's diameter.\n",
        "        \"\"\"\n",
        "        return 2 * self.radius\n",
        "        self.area()\n",
        "                 \n",
        "    #Setter is another tpye of reserved property\n",
        "    # https://www.python-course.eu/python3_properties.php\n",
        "    @diameter.setter\n",
        "    def diameter(self, diameter):\n",
        "        \"\"\"Set the diameter to the givem size.\n",
        "        \"\"\"\n",
        "        self.radius = diameter / 2\n",
        "        self.area()\n",
        "    \n",
        "    #Repr is a default function that implements the pronted representation of the class\n",
        "    def __repr__(self):\n",
        "        \"\"\"Return the string representation of the circle.\n",
        "        \"\"\"\n",
        "        return f\"Circle({self.centerx}, {self.centery}, {self.radius}, '{self.color}')\"\n",
        "    def area(self):\n",
        "        self.areat=self.radius**2*pi/4\n",
        "        return(self.areat)"
      ],
      "execution_count": 45,
      "outputs": []
    },
    {
      "cell_type": "code",
      "metadata": {
        "id": "TCdJ2X46hWsY"
      },
      "source": [
        "# ok, we also need the square root function, import it here please \n",
        "from math import sqrt\n",
        "\n",
        "# Implement the rectangle class, which acts as name implies\n",
        "# it has an area function as well, but naturally for a rectangle\n",
        "# it has widht and heights parameters in _init_, as well as the defualt ones\n",
        "class Rectangle(AbstractShape):\n",
        "    \"\"\"A class representing a rectangle.\n",
        "    \n",
        "    The sides are assumed to be parallel with the X and Y axis.\n",
        "    \"\"\"\n",
        "    \n",
        "    def __init__(self, centerx, centery, width,height, color=\"black\"):\n",
        "                 #Implement the __init__ here\n",
        "        self.centerx = centerx\n",
        "        self.centery = centery\n",
        "        self.width=width\n",
        "        self.height=height\n",
        "        self.color=color\n",
        "        self.diagonal=sqrt(self.width**2 + self.height**2)\n",
        "\n",
        "    def area(self):\n",
        "        return self.width * self.height\n",
        "    \n",
        "    \n",
        "    #implement the diagonal property of the class here\n",
        "    def diagonal(self):\n",
        "        \n",
        "        return self.diagonal\n",
        "    \n",
        "    \n",
        "    def __repr__(self):\n",
        "        \"\"\"Return the string representation of the rectangle.\n",
        "        \"\"\"\n",
        "        # Implement a nice printout here\n",
        "        return f\"Rechtangle({self.centerx}, {self.centery}, {self.width},{self.height},Area:{self.area()} Color:'{self.color}')\""
      ],
      "execution_count": 39,
      "outputs": []
    },
    {
      "cell_type": "code",
      "metadata": {
        "id": "VM6Fwr3PhWsa",
        "outputId": "370d2274-1342-45ce-b24d-ae9ed02b169f",
        "colab": {
          "base_uri": "https://localhost:8080/",
          "height": 34
        }
      },
      "source": [
        "r = Rectangle(0, 0, 4, 3)\n",
        "r"
      ],
      "execution_count": 40,
      "outputs": [
        {
          "output_type": "execute_result",
          "data": {
            "text/plain": [
              "Rechtangle(0, 0, 4,3,Area:12 Color:'black')"
            ]
          },
          "metadata": {
            "tags": []
          },
          "execution_count": 40
        }
      ]
    },
    {
      "cell_type": "code",
      "metadata": {
        "id": "LSS1FbsChWsc",
        "outputId": "8be4a54d-3839-45a1-c1d8-0b0cfd03d708",
        "colab": {
          "base_uri": "https://localhost:8080/",
          "height": 34
        }
      },
      "source": [
        "r.diagonal"
      ],
      "execution_count": 41,
      "outputs": [
        {
          "output_type": "execute_result",
          "data": {
            "text/plain": [
              "5.0"
            ]
          },
          "metadata": {
            "tags": []
          },
          "execution_count": 41
        }
      ]
    },
    {
      "cell_type": "code",
      "metadata": {
        "id": "VoeyTHeahWse",
        "outputId": "3444621a-a6b6-4f7a-fbe1-5b50dcebb54b",
        "colab": {
          "base_uri": "https://localhost:8080/",
          "height": 34
        }
      },
      "source": [
        "r.area()"
      ],
      "execution_count": 46,
      "outputs": [
        {
          "output_type": "execute_result",
          "data": {
            "text/plain": [
              "12"
            ]
          },
          "metadata": {
            "tags": []
          },
          "execution_count": 46
        }
      ]
    },
    {
      "cell_type": "code",
      "metadata": {
        "id": "KArHnWVIhWsg",
        "outputId": "ebfaef6e-00b2-4cd9-fcdb-bad41877630b",
        "colab": {
          "base_uri": "https://localhost:8080/",
          "height": 34
        }
      },
      "source": [
        "r.move_by(1,1)\n",
        "r"
      ],
      "execution_count": 47,
      "outputs": [
        {
          "output_type": "execute_result",
          "data": {
            "text/plain": [
              "Rechtangle(2, 2, 4,3,Area:12 Color:'black')"
            ]
          },
          "metadata": {
            "tags": []
          },
          "execution_count": 47
        }
      ]
    },
    {
      "cell_type": "code",
      "metadata": {
        "id": "3UL5d54AhWsh",
        "outputId": "900b28cf-1feb-4470-ef26-fc82af631f1d",
        "colab": {
          "base_uri": "https://localhost:8080/",
          "height": 50
        }
      },
      "source": [
        "c = Circle(0,0,3, \"red\")\n",
        "print(c)\n",
        "c.area()"
      ],
      "execution_count": 48,
      "outputs": [
        {
          "output_type": "stream",
          "text": [
            "Circle(0, 0, 3, 'red')\n"
          ],
          "name": "stdout"
        },
        {
          "output_type": "execute_result",
          "data": {
            "text/plain": [
              "7.0685834705770345"
            ]
          },
          "metadata": {
            "tags": []
          },
          "execution_count": 48
        }
      ]
    },
    {
      "cell_type": "code",
      "metadata": {
        "id": "5JliIyD3hWsj",
        "outputId": "12645447-8d46-46fe-9135-bd7a057d390b",
        "colab": {
          "base_uri": "https://localhost:8080/",
          "height": 34
        }
      },
      "source": [
        "c.diameter = 20\n",
        "c"
      ],
      "execution_count": 49,
      "outputs": [
        {
          "output_type": "execute_result",
          "data": {
            "text/plain": [
              "Circle(0, 0, 10.0, 'red')"
            ]
          },
          "metadata": {
            "tags": []
          },
          "execution_count": 49
        }
      ]
    },
    {
      "cell_type": "markdown",
      "metadata": {
        "id": "RIN4zBoFhWsk"
      },
      "source": [
        "# Pandas basics\n",
        "\n",
        "## Reading the data\n",
        "\n",
        "The dataset we will be using contains data about [Abalone shells](https://en.wikipedia.org/wiki/Abalone). (With some noise graciously added by us :-P\n",
        "\n",
        "<img src=\"https://upload.wikimedia.org/wikipedia/commons/thumb/4/4d/Haliotis_clathrata_01.JPG/367px-Haliotis_clathrata_01.JPG\">\n"
      ]
    },
    {
      "cell_type": "code",
      "metadata": {
        "id": "mYHcTX9uhWsl",
        "outputId": "3ed85620-22dd-48a0-8ecb-1d121c16da8e",
        "colab": {
          "base_uri": "https://localhost:8080/",
          "height": 202
        }
      },
      "source": [
        "!wget https://gitlab.com/andras.simonyi/10_days_AI_training_data/raw/master/abalone.csv?inline=false -O abalone.csv"
      ],
      "execution_count": 51,
      "outputs": [
        {
          "output_type": "stream",
          "text": [
            "--2020-10-22 15:27:25--  https://gitlab.com/andras.simonyi/10_days_AI_training_data/raw/master/abalone.csv?inline=false\n",
            "Resolving gitlab.com (gitlab.com)... 172.65.251.78, 2606:4700:90:0:f22e:fbec:5bed:a9b9\n",
            "Connecting to gitlab.com (gitlab.com)|172.65.251.78|:443... connected.\n",
            "HTTP request sent, awaiting response... 200 OK\n",
            "Length: unspecified [text/plain]\n",
            "Saving to: ‘abalone.csv’\n",
            "\n",
            "abalone.csv             [  <=>               ] 195.60K   612KB/s    in 0.3s    \n",
            "\n",
            "2020-10-22 15:27:26 (612 KB/s) - ‘abalone.csv’ saved [200291]\n",
            "\n"
          ],
          "name": "stdout"
        }
      ]
    },
    {
      "cell_type": "markdown",
      "metadata": {
        "id": "E4CdERnJhWsm"
      },
      "source": [
        "\n",
        "The data is in the file \"abalone.csv\".\n",
        "\n",
        "**General info**\n",
        "\n",
        ">Predicting the age of abalone from physical measurements.  The age of\n",
        "   abalone is determined by cutting the shell through the cone, staining it,\n",
        "   and counting the number of rings through a microscope -- a boring and\n",
        "   time-consuming task.  Other measurements, which are easier to obtain, are\n",
        "   used to predict the age.  Further information, such as weather patterns\n",
        "   and location (hence food availability) may be required to solve the problem.\n",
        "   From the original data examples with missing values were removed (the\n",
        "   majority having the predicted value missing), and the ranges of the\n",
        "   continuous values have been scaled for use with an ANN (by dividing by 200).\n",
        "\n",
        "\n",
        "**Field info**\n",
        "\n",
        ">Sex / nominal / -- / M, F, and I (infant)\n",
        "\n",
        "> Length / continuous / mm / Longest shell measurement\n",
        "\n",
        "> Diameter / continuous / mm / perpendicular to length\n",
        "\n",
        "> Height / continuous / mm / with meat in shell\n",
        "> Whole weight / continuous / grams / whole abalone\n",
        "\n",
        "> Shucked weight / continuous / grams / weight of meat\n",
        "\n",
        "> Viscera weight / continuous / grams / gut weight\n",
        "\n",
        "> Shell weight / continuous / grams / after being dried\n",
        "\n",
        "> Rings / integer / -- / +1.5 gives the age in years "
      ]
    },
    {
      "cell_type": "code",
      "metadata": {
        "id": "SAUxu7oNhWsn",
        "outputId": "468b7cce-fd7a-42a2-9d3f-fdabe54f83e3",
        "colab": {
          "base_uri": "https://localhost:8080/",
          "height": 195
        }
      },
      "source": [
        "import pandas as pd\n",
        "\n",
        "# implement the \"abalone.csv\" file using Pandas's read_csv function\n",
        "# https://pandas.pydata.org/pandas-docs/stable/generated/pandas.read_csv.html\n",
        "# bear in mind, the the format of the csv _can be different_ from default\n",
        "# when in doubt, you can use the head shell command with the ! syntax\n",
        "# https://ss64.com/bash/head.html\n",
        "# Or the Colab file viewer\n",
        "\n",
        "df =pd.read_csv(\"abalone.csv\",\";\")\n",
        "\n",
        "df.head()"
      ],
      "execution_count": 105,
      "outputs": [
        {
          "output_type": "execute_result",
          "data": {
            "text/html": [
              "<div>\n",
              "<style scoped>\n",
              "    .dataframe tbody tr th:only-of-type {\n",
              "        vertical-align: middle;\n",
              "    }\n",
              "\n",
              "    .dataframe tbody tr th {\n",
              "        vertical-align: top;\n",
              "    }\n",
              "\n",
              "    .dataframe thead th {\n",
              "        text-align: right;\n",
              "    }\n",
              "</style>\n",
              "<table border=\"1\" class=\"dataframe\">\n",
              "  <thead>\n",
              "    <tr style=\"text-align: right;\">\n",
              "      <th></th>\n",
              "      <th>Sex</th>\n",
              "      <th>Length</th>\n",
              "      <th>Diameter</th>\n",
              "      <th>Height</th>\n",
              "      <th>Whole weight</th>\n",
              "      <th>Shucked weight</th>\n",
              "      <th>Viscera weight</th>\n",
              "      <th>Shell weight</th>\n",
              "      <th>Rings</th>\n",
              "    </tr>\n",
              "  </thead>\n",
              "  <tbody>\n",
              "    <tr>\n",
              "      <th>0</th>\n",
              "      <td>M</td>\n",
              "      <td>0,455</td>\n",
              "      <td>0,365</td>\n",
              "      <td>0,095</td>\n",
              "      <td>0,514</td>\n",
              "      <td>0,2245</td>\n",
              "      <td>0,101</td>\n",
              "      <td>0,15</td>\n",
              "      <td>15,0</td>\n",
              "    </tr>\n",
              "    <tr>\n",
              "      <th>1</th>\n",
              "      <td>M</td>\n",
              "      <td>0,35</td>\n",
              "      <td>0,265</td>\n",
              "      <td>0,09</td>\n",
              "      <td>0,2255</td>\n",
              "      <td>0,0995</td>\n",
              "      <td>0,0485</td>\n",
              "      <td>0,07</td>\n",
              "      <td>7,0</td>\n",
              "    </tr>\n",
              "    <tr>\n",
              "      <th>2</th>\n",
              "      <td>F</td>\n",
              "      <td>0,53</td>\n",
              "      <td>0,42</td>\n",
              "      <td>0,135</td>\n",
              "      <td>0,677</td>\n",
              "      <td>0,2565</td>\n",
              "      <td>0,1415</td>\n",
              "      <td>0,21</td>\n",
              "      <td>9,0</td>\n",
              "    </tr>\n",
              "    <tr>\n",
              "      <th>3</th>\n",
              "      <td>M</td>\n",
              "      <td>0,44</td>\n",
              "      <td>0,365</td>\n",
              "      <td>NaN</td>\n",
              "      <td>0,516</td>\n",
              "      <td>0,2155</td>\n",
              "      <td>0,114</td>\n",
              "      <td>0,155</td>\n",
              "      <td>10,0</td>\n",
              "    </tr>\n",
              "    <tr>\n",
              "      <th>4</th>\n",
              "      <td>I</td>\n",
              "      <td>0,33</td>\n",
              "      <td>0,255</td>\n",
              "      <td>0,08</td>\n",
              "      <td>0,205</td>\n",
              "      <td>0,0895</td>\n",
              "      <td>0,0395</td>\n",
              "      <td>0,055</td>\n",
              "      <td>7,0</td>\n",
              "    </tr>\n",
              "  </tbody>\n",
              "</table>\n",
              "</div>"
            ],
            "text/plain": [
              "  Sex Length Diameter Height  ... Shucked weight Viscera weight Shell weight Rings\n",
              "0   M  0,455    0,365  0,095  ...         0,2245          0,101         0,15  15,0\n",
              "1   M   0,35    0,265   0,09  ...         0,0995         0,0485         0,07   7,0\n",
              "2   F   0,53     0,42  0,135  ...         0,2565         0,1415         0,21   9,0\n",
              "3   M   0,44    0,365    NaN  ...         0,2155          0,114        0,155  10,0\n",
              "4   I   0,33    0,255   0,08  ...         0,0895         0,0395        0,055   7,0\n",
              "\n",
              "[5 rows x 9 columns]"
            ]
          },
          "metadata": {
            "tags": []
          },
          "execution_count": 105
        }
      ]
    },
    {
      "cell_type": "code",
      "metadata": {
        "id": "tUNiYqV4hWsp",
        "outputId": "492fb7a3-67fc-4014-8218-e66521836765",
        "colab": {
          "base_uri": "https://localhost:8080/",
          "height": 34
        }
      },
      "source": [
        "# We assert the fact that the shape of the DataFrame is appropriate\n",
        "# If this expression evalueates to false, it throws an exception\n",
        "assert df.shape==(4177, 9)\n",
        "\n",
        "df.shape"
      ],
      "execution_count": 84,
      "outputs": [
        {
          "output_type": "execute_result",
          "data": {
            "text/plain": [
              "(4177, 9)"
            ]
          },
          "metadata": {
            "tags": []
          },
          "execution_count": 84
        }
      ]
    },
    {
      "cell_type": "markdown",
      "metadata": {
        "id": "Xau12Lg2hWsq"
      },
      "source": [
        "## Fixing the column names\n",
        "\n",
        "Fix the column names to be able to use \"dot syntax\" for columns."
      ]
    },
    {
      "cell_type": "code",
      "metadata": {
        "id": "2p8NNH_QhWsr",
        "outputId": "0d06ee5c-eee1-4993-d798-4b8d503aa532",
        "colab": {
          "base_uri": "https://localhost:8080/",
          "height": 249
        }
      },
      "source": [
        "def normalize_columnname(h):\n",
        "    \"\"\"Normalize a column name by downcasing and replacing spaces with '_'.\n",
        "    \"\"\"\n",
        "   # Implement the column name normalizer\n",
        "   # use the default Python string functions\n",
        "   # https://docs.python.org/2/library/string.html\n",
        "    if h==None:\n",
        "        return(\"ssz\")\n",
        "    a=\"\"\n",
        "    print(h)\n",
        "    a.join(i.lower() for i in h)\n",
        "    a.replace(\" \",\"_\")\n",
        "    print(a)\n",
        "    yield a\n",
        "    \n",
        "\n",
        "        \n",
        "\n",
        "\n",
        "df.rename(columns=normalize_columnname, inplace=True)\n",
        "#df.rename(columns=str.lower(), inplace=True)\n",
        "df.head()"
      ],
      "execution_count": 108,
      "outputs": [
        {
          "output_type": "execute_result",
          "data": {
            "text/html": [
              "<div>\n",
              "<style scoped>\n",
              "    .dataframe tbody tr th:only-of-type {\n",
              "        vertical-align: middle;\n",
              "    }\n",
              "\n",
              "    .dataframe tbody tr th {\n",
              "        vertical-align: top;\n",
              "    }\n",
              "\n",
              "    .dataframe thead th {\n",
              "        text-align: right;\n",
              "    }\n",
              "</style>\n",
              "<table border=\"1\" class=\"dataframe\">\n",
              "  <thead>\n",
              "    <tr style=\"text-align: right;\">\n",
              "      <th></th>\n",
              "      <th>&lt;generator object normalize_columnname at 0x7fba051769e8&gt;</th>\n",
              "      <th>&lt;generator object normalize_columnname at 0x7fba05176830&gt;</th>\n",
              "      <th>&lt;generator object normalize_columnname at 0x7fba05176938&gt;</th>\n",
              "      <th>&lt;generator object normalize_columnname at 0x7fba05176570&gt;</th>\n",
              "      <th>&lt;generator object normalize_columnname at 0x7fba051768e0&gt;</th>\n",
              "      <th>&lt;generator object normalize_columnname at 0x7fba051766d0&gt;</th>\n",
              "      <th>&lt;generator object normalize_columnname at 0x7fba051767d8&gt;</th>\n",
              "      <th>&lt;generator object normalize_columnname at 0x7fba05176678&gt;</th>\n",
              "      <th>&lt;generator object normalize_columnname at 0x7fba05176728&gt;</th>\n",
              "    </tr>\n",
              "  </thead>\n",
              "  <tbody>\n",
              "    <tr>\n",
              "      <th>0</th>\n",
              "      <td>M</td>\n",
              "      <td>0,455</td>\n",
              "      <td>0,365</td>\n",
              "      <td>0,095</td>\n",
              "      <td>0,514</td>\n",
              "      <td>0,2245</td>\n",
              "      <td>0,101</td>\n",
              "      <td>0,15</td>\n",
              "      <td>15,0</td>\n",
              "    </tr>\n",
              "    <tr>\n",
              "      <th>1</th>\n",
              "      <td>M</td>\n",
              "      <td>0,35</td>\n",
              "      <td>0,265</td>\n",
              "      <td>0,09</td>\n",
              "      <td>0,2255</td>\n",
              "      <td>0,0995</td>\n",
              "      <td>0,0485</td>\n",
              "      <td>0,07</td>\n",
              "      <td>7,0</td>\n",
              "    </tr>\n",
              "    <tr>\n",
              "      <th>2</th>\n",
              "      <td>F</td>\n",
              "      <td>0,53</td>\n",
              "      <td>0,42</td>\n",
              "      <td>0,135</td>\n",
              "      <td>0,677</td>\n",
              "      <td>0,2565</td>\n",
              "      <td>0,1415</td>\n",
              "      <td>0,21</td>\n",
              "      <td>9,0</td>\n",
              "    </tr>\n",
              "    <tr>\n",
              "      <th>3</th>\n",
              "      <td>M</td>\n",
              "      <td>0,44</td>\n",
              "      <td>0,365</td>\n",
              "      <td>NaN</td>\n",
              "      <td>0,516</td>\n",
              "      <td>0,2155</td>\n",
              "      <td>0,114</td>\n",
              "      <td>0,155</td>\n",
              "      <td>10,0</td>\n",
              "    </tr>\n",
              "    <tr>\n",
              "      <th>4</th>\n",
              "      <td>I</td>\n",
              "      <td>0,33</td>\n",
              "      <td>0,255</td>\n",
              "      <td>0,08</td>\n",
              "      <td>0,205</td>\n",
              "      <td>0,0895</td>\n",
              "      <td>0,0395</td>\n",
              "      <td>0,055</td>\n",
              "      <td>7,0</td>\n",
              "    </tr>\n",
              "  </tbody>\n",
              "</table>\n",
              "</div>"
            ],
            "text/plain": [
              "  <generator object normalize_columnname at 0x7fba051769e8>  ... <generator object normalize_columnname at 0x7fba05176728>\n",
              "0                                                  M         ...                                               15,0       \n",
              "1                                                  M         ...                                                7,0       \n",
              "2                                                  F         ...                                                9,0       \n",
              "3                                                  M         ...                                               10,0       \n",
              "4                                                  I         ...                                                7,0       \n",
              "\n",
              "[5 rows x 9 columns]"
            ]
          },
          "metadata": {
            "tags": []
          },
          "execution_count": 108
        }
      ]
    },
    {
      "cell_type": "code",
      "metadata": {
        "id": "inzYbNrAhWss",
        "outputId": "d5c0d282-64d1-47de-8dc3-3333667c05f3",
        "colab": {
          "base_uri": "https://localhost:8080/",
          "height": 279
        }
      },
      "source": [
        "df.whole_weight.head()"
      ],
      "execution_count": 91,
      "outputs": [
        {
          "output_type": "error",
          "ename": "AttributeError",
          "evalue": "ignored",
          "traceback": [
            "\u001b[0;31m---------------------------------------------------------------------------\u001b[0m",
            "\u001b[0;31mAttributeError\u001b[0m                            Traceback (most recent call last)",
            "\u001b[0;32m<ipython-input-91-6f9b1fa0a77e>\u001b[0m in \u001b[0;36m<module>\u001b[0;34m()\u001b[0m\n\u001b[0;32m----> 1\u001b[0;31m \u001b[0mdf\u001b[0m\u001b[0;34m.\u001b[0m\u001b[0mwhole_weight\u001b[0m\u001b[0;34m.\u001b[0m\u001b[0mhead\u001b[0m\u001b[0;34m(\u001b[0m\u001b[0;34m)\u001b[0m\u001b[0;34m\u001b[0m\u001b[0;34m\u001b[0m\u001b[0m\n\u001b[0m",
            "\u001b[0;32m/usr/local/lib/python3.6/dist-packages/pandas/core/generic.py\u001b[0m in \u001b[0;36m__getattr__\u001b[0;34m(self, name)\u001b[0m\n\u001b[1;32m   5134\u001b[0m             \u001b[0;32mif\u001b[0m \u001b[0mself\u001b[0m\u001b[0;34m.\u001b[0m\u001b[0m_info_axis\u001b[0m\u001b[0;34m.\u001b[0m\u001b[0m_can_hold_identifiers_and_holds_name\u001b[0m\u001b[0;34m(\u001b[0m\u001b[0mname\u001b[0m\u001b[0;34m)\u001b[0m\u001b[0;34m:\u001b[0m\u001b[0;34m\u001b[0m\u001b[0;34m\u001b[0m\u001b[0m\n\u001b[1;32m   5135\u001b[0m                 \u001b[0;32mreturn\u001b[0m \u001b[0mself\u001b[0m\u001b[0;34m[\u001b[0m\u001b[0mname\u001b[0m\u001b[0;34m]\u001b[0m\u001b[0;34m\u001b[0m\u001b[0;34m\u001b[0m\u001b[0m\n\u001b[0;32m-> 5136\u001b[0;31m             \u001b[0;32mreturn\u001b[0m \u001b[0mobject\u001b[0m\u001b[0;34m.\u001b[0m\u001b[0m__getattribute__\u001b[0m\u001b[0;34m(\u001b[0m\u001b[0mself\u001b[0m\u001b[0;34m,\u001b[0m \u001b[0mname\u001b[0m\u001b[0;34m)\u001b[0m\u001b[0;34m\u001b[0m\u001b[0;34m\u001b[0m\u001b[0m\n\u001b[0m\u001b[1;32m   5137\u001b[0m \u001b[0;34m\u001b[0m\u001b[0m\n\u001b[1;32m   5138\u001b[0m     \u001b[0;32mdef\u001b[0m \u001b[0m__setattr__\u001b[0m\u001b[0;34m(\u001b[0m\u001b[0mself\u001b[0m\u001b[0;34m,\u001b[0m \u001b[0mname\u001b[0m\u001b[0;34m:\u001b[0m \u001b[0mstr\u001b[0m\u001b[0;34m,\u001b[0m \u001b[0mvalue\u001b[0m\u001b[0;34m)\u001b[0m \u001b[0;34m->\u001b[0m \u001b[0;32mNone\u001b[0m\u001b[0;34m:\u001b[0m\u001b[0;34m\u001b[0m\u001b[0;34m\u001b[0m\u001b[0m\n",
            "\u001b[0;31mAttributeError\u001b[0m: 'DataFrame' object has no attribute 'whole_weight'"
          ]
        }
      ]
    },
    {
      "cell_type": "markdown",
      "metadata": {
        "id": "8WbTcLfnhWsu"
      },
      "source": [
        "## Check and handle missing data\n",
        "\n",
        "Check whether there are missing data."
      ]
    },
    {
      "cell_type": "code",
      "metadata": {
        "id": "52GRq0KwhWsu"
      },
      "source": [
        "# look for missing values in the df\n",
        "# use the isnull() function, and some counting method of Pandas df\n"
      ],
      "execution_count": null,
      "outputs": []
    },
    {
      "cell_type": "markdown",
      "metadata": {
        "id": "LI98zo6FhWsw"
      },
      "source": [
        "Drop rows with NaN values."
      ]
    },
    {
      "cell_type": "code",
      "metadata": {
        "id": "EczILasahWsw"
      },
      "source": [
        "assert df.shape=(4177,9)\n",
        "\n",
        "# Drop the rows with missing values from the df\n",
        "# bear in mind the rerutn value syntax vs the parameter for executing the operation on the df itslef\n",
        "\n",
        "\n",
        "# this is just additional \"tidying\"\n",
        "df.reset_index(inplace=True, drop=True) # Reset index since dropped rows create \"wholes\"\n",
        "\n",
        "assert df.shape=(4171,9)\n",
        "df.shape"
      ],
      "execution_count": null,
      "outputs": []
    },
    {
      "cell_type": "markdown",
      "metadata": {
        "id": "brogLFUshWsy"
      },
      "source": [
        "## Convert floats to int"
      ]
    },
    {
      "cell_type": "code",
      "metadata": {
        "id": "jS2ToiaVhWsy"
      },
      "source": [
        "#convert the float value of the \"rings\" coluimn to an integer, since who saw any partial rings anyway? :-)\n",
        "\n",
        "#And let's look at it\n",
        "df.head()"
      ],
      "execution_count": null,
      "outputs": []
    },
    {
      "cell_type": "markdown",
      "metadata": {
        "id": "00RjM_HWhWs0"
      },
      "source": [
        "## Descriptives"
      ]
    },
    {
      "cell_type": "code",
      "metadata": {
        "id": "fa9VzD_0hWs1"
      },
      "source": [
        "df.describe()"
      ],
      "execution_count": null,
      "outputs": []
    },
    {
      "cell_type": "code",
      "metadata": {
        "id": "8bP2dZ4fhWs2"
      },
      "source": [
        "# Describe the \"sex\" column and look at the values\n"
      ],
      "execution_count": null,
      "outputs": []
    },
    {
      "cell_type": "markdown",
      "metadata": {
        "id": "RICURHwIhWs4"
      },
      "source": [
        "Find the index of the examples with the maximal and minimal values."
      ]
    },
    {
      "cell_type": "code",
      "metadata": {
        "id": "B7mFOZRKhWs4"
      },
      "source": [
        "# find the rows indeces with the largest values in them, from the \"height\" parameter onwards till the end\n",
        "# bear in mind that multiple versions of \"max\" exist in Pandas\n",
        "# and getting the location can be done also in multiple ways\n",
        "\n"
      ],
      "execution_count": null,
      "outputs": []
    },
    {
      "cell_type": "code",
      "metadata": {
        "id": "8R4Hd1QkhWs6"
      },
      "source": [
        "df.loc[1422]"
      ],
      "execution_count": null,
      "outputs": []
    },
    {
      "cell_type": "markdown",
      "metadata": {
        "id": "nM4LfGfJhWs8"
      },
      "source": [
        "## Standardization"
      ]
    },
    {
      "cell_type": "code",
      "metadata": {
        "id": "C8l0tkAjhWs8"
      },
      "source": [
        "# we create a new df for the numeric values that we think need normalization \n",
        "df_numeric = df.loc[:,\"length\":\"shell_weight\"]\n",
        "df_numeric.head()"
      ],
      "execution_count": null,
      "outputs": []
    },
    {
      "cell_type": "code",
      "metadata": {
        "id": "GZdMNPFChWs-"
      },
      "source": [
        "# Calculate the mean of the df_numeric in one go\n",
        "# If done right, this will be a Pandas.Series obejct (a kind of vector) of means\n",
        "mean = \n",
        "\n",
        "# Calculate the standard deviation of the df_numeric in one go\n",
        "# If done right, this will be a Pandas.Series obejct (a kind of vector) of means\n",
        "std = \n",
        "\n",
        "# Now we apply the two Series calculated for normalization in one go for the whole df \n",
        "df_numeric_std = (df_numeric - mean) / std\n",
        "df_numeric_std.head()"
      ],
      "execution_count": null,
      "outputs": []
    },
    {
      "cell_type": "code",
      "metadata": {
        "id": "Qj2DUslqhWtA"
      },
      "source": [
        "df_numeric_std.describe()"
      ],
      "execution_count": null,
      "outputs": []
    },
    {
      "cell_type": "code",
      "metadata": {
        "id": "flpfD00NhWtC"
      },
      "source": [
        "df.loc[:,\"length\":\"shell_weight\"] = df_numeric_std\n",
        "df.head()"
      ],
      "execution_count": null,
      "outputs": []
    },
    {
      "cell_type": "code",
      "metadata": {
        "id": "C97_KN8qhWtE"
      },
      "source": [
        "df.describe()"
      ],
      "execution_count": null,
      "outputs": []
    },
    {
      "cell_type": "markdown",
      "metadata": {
        "id": "jBisMZ3QhWtG"
      },
      "source": [
        "# Basic plotting"
      ]
    },
    {
      "cell_type": "code",
      "metadata": {
        "id": "muZvmOT0hWtG"
      },
      "source": [
        "df.length.plot.box(figsize=(8,8)); # the semicolon is to stop Jupyter from \"printing\" the figure as well\n",
        "# This is a verbose syntax, the alternative is also viable: df.length.boxplot() "
      ],
      "execution_count": null,
      "outputs": []
    },
    {
      "cell_type": "code",
      "metadata": {
        "id": "A5iyGNiBhWtH"
      },
      "source": [
        "# Do a histogram with 20 bins for the \"length\" data"
      ],
      "execution_count": null,
      "outputs": []
    },
    {
      "cell_type": "code",
      "metadata": {
        "id": "zkLZoDc8hWtJ"
      },
      "source": [
        "# implement a scatter plot between \"length\" and \"rings\", use figure size 8,8\n"
      ],
      "execution_count": null,
      "outputs": []
    }
  ]
}