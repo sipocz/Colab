{
  "nbformat": 4,
  "nbformat_minor": 0,
  "metadata": {
    "colab": {
      "name": "7. Regresszió handout.ipynb",
      "provenance": [],
      "collapsed_sections": [],
      "toc_visible": true,
      "include_colab_link": true
    },
    "kernelspec": {
      "display_name": "Python 3",
      "language": "python",
      "name": "python3"
    }
  },
  "cells": [
    {
      "cell_type": "markdown",
      "metadata": {
        "id": "view-in-github",
        "colab_type": "text"
      },
      "source": [
        "<a href=\"https://colab.research.google.com/github/sipocz/Colab/blob/main/7_Regresszi%C3%B3_handout.ipynb\" target=\"_parent\"><img src=\"https://colab.research.google.com/assets/colab-badge.svg\" alt=\"Open In Colab\"/></a>"
      ]
    },
    {
      "cell_type": "markdown",
      "metadata": {
        "id": "PlNCT6oN0Aeo"
      },
      "source": [
        "# Regresszió\n"
      ]
    },
    {
      "cell_type": "markdown",
      "metadata": {
        "id": "bhkz76B40Dac"
      },
      "source": [
        "## Definíció\n",
        "\n",
        "- Változók közti összefüggéseket keres. $y$: függő vagy célváltozó $x_i$: prediktorok\n",
        "- Egyváltozós esetben\n",
        "$$ y = f(x_1, x_2, ..., x_p) + \\epsilon $$\n",
        " - $\\epsilon$ a zaj, mindaz a hatás, amit a prediktorok nem tudnak leírni,\n",
        " - f pedig a függvény, ami előállítja $y$ közelítését.\n",
        "- Lineáris regresszió, amikor a változók között lineáris összefüggésekkel dolgozunk.\n",
        "$$ f(x_1, x_2, ..., x_p) = \\beta_0 + \\sum_{j=1}^px_j\\beta_j $$\n",
        " - $\\beta$ paraméterek\n",
        " - $\\beta_0$ konstans, az egyenes metszéspontját jelöli. Szokás szerint \"eltüntethető\" $x_0=1$ bevezetésévél:\n",
        " $$ y= \\sum_{j=0}^px_j\\beta_j + \\epsilon $$\n",
        "- Jelölés: y becsült értéke\n",
        "$$ \\hat{y} = \\beta_0 + \\sum_{j=1}^px_j\\beta_j $$"
      ]
    },
    {
      "cell_type": "markdown",
      "metadata": {
        "id": "hIgf7SK00HB6"
      },
      "source": [
        "## Feltevések\n",
        "\n",
        "- $\\epsilon_i$ iid (independent and identically distributed) sorozat $E(\\epsilon_i) = 0$ várható értékkel és konstans $\\sigma$ szórással (homoszkedaszticitás, gyakran nem teljesül!)\n",
        "- Exogenitás $\\epsilon_i$, $x_i$ függetlenek $\\forall i$-re \n",
        "(biztosan teljesül, ha $x_i$-k nem véletlen változók)\n"
      ]
    },
    {
      "cell_type": "markdown",
      "metadata": {
        "id": "2zTAeNj44j8y"
      },
      "source": [
        "\n",
        "## Nevezéktan\n",
        "\n",
        "- Egyszerű lináris regresszió: 1 skalár értékű magyarázó változó $x$ és skalár értékű $y$ célváltozó\n",
        "\n",
        "- Többszörös regresszió (multiple linear regression, multivariable linear regression): Több magyarázó változó van: $x_1,x_2, ... , x_p$, amit már vektoros formában is írhatunk: $y=x^T\\beta + \\epsilon$, ahol $x$ és $\\beta$ is vektorok\n",
        "\n",
        "- Általános lineáris regresszió (multivariate linear regression, general linear regression): Ha $y$ is vektor\n",
        "\n",
        "- Általánosított lineáris modell: ha speciális feltételek adottak $y$-ra nézve: pl korlátos, katagórikus változó, stb. Ilyenkor egy un link függvény segítségével transzformáljuk a változókat. (https://en.wikipedia.org/wiki/Generalized_linear_model)  Ismert példák:\n",
        " - logistic regression (osztályozást old meg!!) - https://en.wikipedia.org/wiki/Logistic_regression\n",
        " - Poisson regression (gyakoriság adatokra) - https://en.wikipedia.org/wiki/Poisson_regression\n",
        "- Hierarchikus lineáris regresszió - https://en.wikipedia.org/wiki/Linear_regression#Hierarchical_linear_models\n",
        "\n",
        "- Bayes regresszió: együtthatókat valószínűségi változóként kezeli, melyekhez _a priori_ eloszlás modelleket lehet rendelni. - https://en.wikipedia.org/wiki/Bayesian_linear_regression"
      ]
    },
    {
      "cell_type": "markdown",
      "metadata": {
        "id": "owyIHKSj4j84"
      },
      "source": [
        "# Bázis, bázis transzformáció\n",
        "\n",
        "Alapesetben:\n",
        "- Kvantitatív értékek (pl: testsúly - magasság)\n",
        "- Kvalitatív (katerógikus) változók numerikus kódolása\n",
        "\n",
        "Priori tudás bevitele, transzformációk\n",
        "- Az eredeti értékek transzformáltja (log, gyök, hatvány, ...)\n",
        "- Bázis kiegészítés (polinomiális regresszió: $x, x^2, x^3$\n",
        "- Az eredeti változók közötti egyéb összefüggések. Pl.: $x_1 x_2$"
      ]
    },
    {
      "cell_type": "markdown",
      "metadata": {
        "id": "lrsoGRQL4j85"
      },
      "source": [
        "# Eszköztár\n",
        "- http://scikit-learn.org/stable/modules/classes.html#module-sklearn.linear_model"
      ]
    },
    {
      "cell_type": "markdown",
      "metadata": {
        "id": "BohGqLir4j86"
      },
      "source": [
        "# Hogyan definiáljuk a modellt?\n",
        "- A fenti modell nem ad megkötést / nem definiálja $\\beta_i$ értékét.\n",
        "- Hiba négyzetösszegének minimalizálása (residual sum of squares, illetve lenti jelöléssel ESS):\n",
        "$$\\underset{\\hat y}{\\mathrm{argmin}}\\sum_{i=1}^n(y_i-\\hat{y}_i)^2$$\n",
        "- Ekkor a megoldás (explicit képlet)\n",
        "$$ \\hat{y} = X(X^TX)^{-1}X^Ty $$, ahol\n",
        "$(X^TX)^{-1}X^T$ az un Moore-Penrose pszeudoinverz"
      ]
    },
    {
      "cell_type": "markdown",
      "metadata": {
        "id": "5gvNIgJ14j88"
      },
      "source": [
        "# Illusztráció a magyarázó kapcsolat erősségének jellemzéséhez\n",
        "\n",
        "Adat: bőrrák okozta mortalitás földrajzi hosszúság függvényében.\n",
        "Forrás: https://newonlinecourses.science.psu.edu/stat501_su19/lesson/2/2.3\n",
        "\n",
        "$\\hat y$: becsült $y$\n",
        "\n",
        "$\\bar y$: $y$ minta átlaga. Ez is jó viszonyítás alap, ha hipotézis, hogy NINCS kapcsolat a célváltozó és a prediktor(ok) között\n",
        "\n",
        "![TSS](https://newonlinecourses.science.psu.edu/onlinecourses/sites/stat501/files/03anova/scatterplot_skin_cancer_01.png)\n",
        "\n",
        "- Total Sum of Squares : $\\sum_{i=1}^{n}(y_i-\\bar{y})^2 =53637$\n",
        "- Regression Sum of Squares  : $\\sum_{i=1}^{n}(\\hat{y}_i-\\bar{y})^2 =36464$\n",
        "- Error Sum of Squares, Residual Sum of Squares: $\\sum_{i=1}^{n}(y_i-\\hat{y}_i)^2 =17173$\n",
        "\n",
        "A regressziós négyzetes hibaösszeg tehát megmutatja, mennyire \"erős\" a regresszió, a célváltozó varianciája mennyire függ a prediktorétól. A maradék tag pedig a zaj hatását méri.\n",
        "\n",
        "Jelölések sokszor zavarosak, RSS tehát kétféle dolgot is jelölhet, de leggyakrabban a hibatagra használják, mi is így teszünk (tehát RSS: Residual Sum of Squares)\n",
        "\n",
        "RSS kapcsolata a gyakran használt átlagos négyzetes hibával (Mean Squared Error, MSE)\n",
        "* https://en.wikipedia.org/wiki/Mean_squared_error\n",
        "* $MSE =\\frac{1}{N-K}RSS$, ahol N a mintaszám, K a modell paraméterek száma."
      ]
    },
    {
      "cell_type": "code",
      "metadata": {
        "id": "IjCNiXKc4j89"
      },
      "source": [
        "# Importálunk\n",
        "import matplotlib.pyplot as plt\n",
        "from matplotlib.pylab import rcParams\n",
        "import numpy as np\n",
        "from sklearn import datasets, linear_model\n",
        "from sklearn.metrics import mean_squared_error\n",
        "\n",
        "# Defaultozunk\n",
        "rcParams['figure.figsize'] = 12, 10"
      ],
      "execution_count": null,
      "outputs": []
    },
    {
      "cell_type": "code",
      "metadata": {
        "id": "jTuQyWsxtbbj",
        "colab": {
          "base_uri": "https://localhost:8080/"
        },
        "outputId": "8e341247-9ee7-4658-c14d-ab5177a3e690"
      },
      "source": [
        "# Diabetes adatszet betöltése sklearn saját adataiból\n",
        "diabetes = datasets.load_diabetes()\n",
        "print(diabetes.DESCR)"
      ],
      "execution_count": null,
      "outputs": [
        {
          "output_type": "stream",
          "text": [
            ".. _diabetes_dataset:\n",
            "\n",
            "Diabetes dataset\n",
            "----------------\n",
            "\n",
            "Ten baseline variables, age, sex, body mass index, average blood\n",
            "pressure, and six blood serum measurements were obtained for each of n =\n",
            "442 diabetes patients, as well as the response of interest, a\n",
            "quantitative measure of disease progression one year after baseline.\n",
            "\n",
            "**Data Set Characteristics:**\n",
            "\n",
            "  :Number of Instances: 442\n",
            "\n",
            "  :Number of Attributes: First 10 columns are numeric predictive values\n",
            "\n",
            "  :Target: Column 11 is a quantitative measure of disease progression one year after baseline\n",
            "\n",
            "  :Attribute Information:\n",
            "      - Age\n",
            "      - Sex\n",
            "      - Body mass index\n",
            "      - Average blood pressure\n",
            "      - S1\n",
            "      - S2\n",
            "      - S3\n",
            "      - S4\n",
            "      - S5\n",
            "      - S6\n",
            "\n",
            "Note: Each of these 10 feature variables have been mean centered and scaled by the standard deviation times `n_samples` (i.e. the sum of squares of each column totals 1).\n",
            "\n",
            "Source URL:\n",
            "https://www4.stat.ncsu.edu/~boos/var.select/diabetes.html\n",
            "\n",
            "For more information see:\n",
            "Bradley Efron, Trevor Hastie, Iain Johnstone and Robert Tibshirani (2004) \"Least Angle Regression,\" Annals of Statistics (with discussion), 407-499.\n",
            "(https://web.stanford.edu/~hastie/Papers/LARS/LeastAngle_2002.pdf)\n"
          ],
          "name": "stdout"
        }
      ]
    },
    {
      "cell_type": "code",
      "metadata": {
        "id": "KsefjJjF4j9B",
        "colab": {
          "base_uri": "https://localhost:8080/",
          "height": 319
        },
        "outputId": "4c340705-787b-4b02-ab65-991d4e6db759"
      },
      "source": [
        "# Csak egy feature-t (body mass index) használunk!\n",
        "X = diabetes.data[:, np.newaxis, 2]\n",
        "y = diabetes.target\n",
        "\n",
        "# Lin reg model objektum létrehozása\n",
        "regr = linear_model.LinearRegression()\n",
        "\n",
        "# scikit learn módszertan: fit: tanítás, predict: becslés\n",
        "regr.fit(X, y)\n",
        "y_pred = regr.predict(X)\n",
        "\n",
        "# Együtthatók\n",
        "print('Coefficients: \\n', regr.coef_)\n",
        "# MSE\n",
        "print(\"MSE: %.2f\"\n",
        "      % mean_squared_error(y, y_pred))\n",
        "\n",
        "# Ábra készítés\n",
        "plt.scatter(X, y,  color='black')\n",
        "plt.plot(X, y_pred, color='blue', linewidth=3)\n",
        "\n",
        "plt.show()"
      ],
      "execution_count": null,
      "outputs": [
        {
          "output_type": "stream",
          "text": [
            "Coefficients: \n",
            " [949.43526038]\n",
            "MSE: 3890.46\n"
          ],
          "name": "stdout"
        },
        {
          "output_type": "display_data",
          "data": {
            "image/png": "[encoded data removed]",
            "text/plain": [
              "<Figure size 432x288 with 1 Axes>"
            ]
          },
          "metadata": {
            "tags": [],
            "needs_background": "light"
          }
        }
      ]
    },
    {
      "cell_type": "markdown",
      "metadata": {
        "id": "l3U20YX24j9K"
      },
      "source": [
        "# Modellek összehasonlítása (pontosság versus bonyolultság)\n",
        "\n",
        "- Akaike information criterion(AIC):\n",
        " - $2K-2ln(L)$, ahol \n",
        " - K a besült paraméterek száma az adott modellben,\n",
        " - L az un likelihood függvény ($L=p(y|M,\\beta^*)$ annak valószínűsége, hogy adott paraméter érték mellett a választott modell leírja a megfigyeléseket,\n",
        " - $\\beta^*$ az a paraméter érték, ami maximalizálja $L$-t.\n",
        "\n",
        "\n",
        "- Bayesian information criterion (BIC):\n",
        " - $ln(N)K-2ln(L)$, ahol\n",
        " - N a mintaszám, a többi változót lásd fent.\n",
        " - Normális zajt feltéve egyszerűbb kifejezést kapunk: $BIC = Nln(\\frac{RSS}{N})+Kln(N)$\n",
        "\n",
        "- Mallows's Cp.\n",
        " - AIC-vel rokon, de kifejezetten regressziós problémáknál szeretik, ha legkisebb négyzetes hiba illesztést alkalmaznak.\n",
        " - Cél: mérni, hogy K lehetséges prediktorból P darabot választva mennyire jó az illesztés.\n",
        " - Tipikus alkalmazás az un szakaszos (inkrementális) regresszióban megállási feltétel (stepwise regression)\n",
        " - P prediktort választva: $C_P=\\frac{RSS_P}{RSS_K}-N+2P$\n",
        "\n",
        "- Likelihood-ratio teszt\n",
        " - Két statisztikai modell összehasonlítása abból a szempontból, hogy mennyire illeszkednek az adatokra.\n",
        " - Részletek: https://en.wikipedia.org/wiki/Likelihood-ratio_test\n",
        "\n",
        "- Bayes factor\n",
        " - Bayes model comparison, nem maximum likelihood módszer, minden lehetséges paraméter értéket figyelembe vesz két modell összehasonlítása során.\n",
        " - Részletek: https://en.wikipedia.org/wiki/Bayes_factor"
      ]
    },
    {
      "cell_type": "markdown",
      "metadata": {
        "id": "bx9kzflpSwjs"
      },
      "source": [
        "# Robusztus regresszió\n"
      ]
    },
    {
      "cell_type": "markdown",
      "metadata": {
        "id": "4hPx8F_G4j9M"
      },
      "source": [
        "## Probléma felvetés\n",
        "\n",
        "- A négyzetes hiba könnyen el tudja húzni az illesztést\n",
        "- y-outlier\n",
        "\n",
        "![y_outlier](https://drive.google.com/uc?export=view&id=1-aJOPuJRqh6U8tKS8TTx69L1lDhjc64h)\n"
      ]
    },
    {
      "cell_type": "markdown",
      "metadata": {
        "id": "JRyvHZjF4j9N"
      },
      "source": [
        "- illetve x-outlier esetben\n",
        "\n",
        "![x_outlier](https://drive.google.com/uc?export=view&id=1R5wIf3i_4PnKJCt4Su_ZgnJ24PSI8O0i)\n"
      ]
    },
    {
      "cell_type": "markdown",
      "metadata": {
        "id": "6saWxrfrTteI"
      },
      "source": [
        "## Módszerek"
      ]
    },
    {
      "cell_type": "markdown",
      "metadata": {
        "id": "VWCtOGGNTmJk"
      },
      "source": [
        "### LAD (Least absolute deviations, L1-norma minimalizálása)\n",
        " - $$\\sum_{i=1}^n|y_i-\\hat{y}_1|$$\n",
        " - Kisebb súlyt ad outlier-eknek, robosztus statisztikára épül.\n",
        " - Gond lehet, hogy nem feltétlenül egy megoldást ad.\n"
      ]
    },
    {
      "cell_type": "markdown",
      "metadata": {
        "id": "VYTx9sWuTwG3"
      },
      "source": [
        "### LTS (Least trimmed squares)\n",
        " - Adatpontok részhalmazára illeszt, majd az illesztett modelt teszteli az összes adatponton.\n",
        " - Részhalmaz választás sima négyzetes hiba illesztés alapján kapott egyedi reziduálisok sorbarendezése alapján történik (H<N adatpont, melyek a legkisebb reziduálissal rendelkeznek).\n",
        " - Naiv implementáció nagyon számolásigényes sok adatra és nagy részhalmazra.\n",
        " - Viszont robosztus, hatékonyan szűri ki az outlier-eket.\n",
        " - Vannak hatékony módosításai is, lásd: https://pdfs.semanticscholar.org/d2fd/55fc44935e2342250b8c21f13f3aeddeab0d.pdf\n",
        " - Közelítéseit alkalmazzák képelemzésben: http://cfm.uestc.edu.cn/~fshen/TIP2013.pdf\n"
      ]
    },
    {
      "cell_type": "markdown",
      "metadata": {
        "id": "xLXODNmV4j9y"
      },
      "source": [
        "### Huber-loss\n",
        " -  \\begin{equation}\n",
        "  L(y,\\hat y)=\\begin{cases}\n",
        "    \\frac{1}{2} (y-\\hat y)^2, & \\text{ha }  |y-\\hat y |<\\delta\\\\\n",
        "    \\delta(|(y-\\hat y)|-\\frac{1}{2}\\delta), & \\text{egyébként}.\n",
        "  \\end{cases}\n",
        "\\end{equation}\n",
        " - Veszteségfüggvény minimalizálása (négyzetes hiba és az L1-norma hiba kombinálása).\n",
        " - Egy módosítása fontos lesz majd az osztályozási feladatoknál (\"hinge-loss\")\n",
        "\n",
        "![Huber_loss](https://upload.wikimedia.org/wikipedia/commons/thumb/c/cc/Huber_loss.svg/1280px-Huber_loss.svg.png)\n",
        "- Kék: négyzetes hibafv,\n",
        "- Zöld:Huber-loss. 0 körül úgy viselkedik, mint a négyzetes fv, távolabb, mint az L1\n"
      ]
    },
    {
      "cell_type": "markdown",
      "metadata": {
        "id": "KcJHYmpY4j95"
      },
      "source": [
        "### RANSAC regresszió\n",
        "- Robusztus módszer\n",
        "- Algoritmus\n",
        " - Válasszunk véletlenszerűen annyi minta elemet, ami minimálisan elegendő a modell tanításához.\n",
        " - Nevezzük el ezeket az elemeket inliereknek.\n",
        " - Illesszük a modellt az inlierekre.\n",
        " - Nézzük meg, hogy a többi pont mennyire illeszkedik. Amelyik illeszkedik, az a konszenzus halmazba kerül.\n",
        " - A modell jó, ha elég nagy a konszenzus halmaz.\n",
        " - A modell javítható a konszenzus halmazban található elemekkel.\n",
        "- A fenti algoritmust többször futtatjuk.\n",
        "- Megállunk, ha találunk egy megfelelőt (elég nagy a konszenzus halmaz)"
      ]
    },
    {
      "cell_type": "code",
      "metadata": {
        "id": "R0DHMDmw4j96",
        "colab": {
          "base_uri": "https://localhost:8080/",
          "height": 679
        },
        "outputId": "1915b8a0-71be-4184-d2eb-ff49a5326039"
      },
      "source": [
        "# Mintapontok száma\n",
        "n_samples = 1000\n",
        "# Outlierek száma\n",
        "n_outliers = 50\n",
        "\n",
        "# Minta létrehozása\n",
        "# Lásd: https://scikit-learn.org/stable/modules/generated/sklearn.datasets.make_regression.html\n",
        "# \"The output is generated by applying a (potentially biased) random linear regression model with n_informative nonzero regressors to the previously generated input and some gaussian centered noise with some adjustable scale.\"\n",
        "X, y, coef = datasets.make_regression(n_samples=n_samples, n_features=1,\n",
        "                                      n_informative=1, noise=10,\n",
        "                                      coef=True, random_state=0)\n",
        "# Outlierek generálása, hozzáadása\n",
        "np.random.seed(0)\n",
        "X[:n_outliers] = 3 + 0.5 * np.random.normal(size=(n_outliers, 1))\n",
        "y[:n_outliers] = -3 + 10 * np.random.normal(size=n_outliers)\n",
        "\n",
        "# Lineáris regresszió\n",
        "lr = linear_model.LinearRegression()\n",
        "lr.fit(X, y)\n",
        "\n",
        "# Ransac regresszió\n",
        "ransac = linear_model.RANSACRegressor()\n",
        "ransac.fit(X, y)\n",
        "\n",
        "# Inlierek és outlierek elkérése a modelltől\n",
        "inlier_mask = ransac.inlier_mask_\n",
        "outlier_mask = np.logical_not(inlier_mask)\n",
        "\n",
        "# Koordináták elkészítése a modellek megjelenítéséhez\n",
        "line_X = np.arange(X.min(), X.max())[:, np.newaxis]\n",
        "line_y = lr.predict(line_X)\n",
        "line_y_ransac = ransac.predict(line_X)\n",
        "\n",
        "# A koefficiensek kiíratása\n",
        "print(\"Estimated coefficients (true, linear regression, RANSAC):\")\n",
        "print(\"Adatok: \" + str(coef))\n",
        "print(\"Linreg:\", lr.coef_[0])\n",
        "print(\"RANSAC: \" + str(ransac.estimator_.coef_[0]))\n",
        "\n",
        "# Plot\n",
        "lw = 2\n",
        "plt.scatter(X[inlier_mask], y[inlier_mask], color='yellowgreen', marker='.',\n",
        "            label='Inliers')\n",
        "plt.scatter(X[outlier_mask], y[outlier_mask], color='gold', marker='.',\n",
        "            label='Outliers')\n",
        "plt.plot(line_X, line_y, color='navy', linewidth=lw, label='Linear regressor')\n",
        "plt.plot(line_X, line_y_ransac, color='cornflowerblue', linewidth=lw,\n",
        "         label='RANSAC regressor')\n",
        "plt.legend(loc='lower right')\n",
        "plt.xlabel(\"Input\")\n",
        "plt.ylabel(\"Response\")\n",
        "plt.show()"
      ],
      "execution_count": null,
      "outputs": [
        {
          "output_type": "stream",
          "text": [
            "Estimated coefficients (true, linear regression, RANSAC):\n",
            "Adatok: 82.1903908407869\n",
            "Linreg: 54.172363869015264\n",
            "RANSAC: 82.08533158726632\n"
          ],
          "name": "stdout"
        },
        {
          "output_type": "display_data",
          "data": {
            "image/png": "[encoded data removed]",
            "text/plain": [
              "<Figure size 864x720 with 1 Axes>"
            ]
          },
          "metadata": {
            "tags": [],
            "needs_background": "light"
          }
        }
      ]
    },
    {
      "cell_type": "markdown",
      "metadata": {
        "id": "yRetBKinT-mP"
      },
      "source": [
        "## Példa"
      ]
    },
    {
      "cell_type": "markdown",
      "metadata": {
        "id": "CQr7NbFERb96"
      },
      "source": [
        "### Minta adat"
      ]
    },
    {
      "cell_type": "code",
      "metadata": {
        "id": "RLm3QN7x4j9R",
        "colab": {
          "base_uri": "https://localhost:8080/",
          "height": 265
        },
        "outputId": "8a7ae7a9-726b-4628-9326-17b4590d70dd"
      },
      "source": [
        "# Importálunk\n",
        "import matplotlib.pyplot as plt\n",
        "from matplotlib.pylab import rcParams\n",
        "import numpy as np\n",
        "from sklearn import datasets, linear_model\n",
        "from sklearn.metrics import mean_squared_error\n",
        "\n",
        "\n",
        "\n",
        "t_min = 0\n",
        "t_max = 30\n",
        "\n",
        "def generate_data(t, A, sigma, omega, noise=0, n_outliers=0, random_state=0):\n",
        "    y = A * np.exp(-sigma * t) * np.sin(omega * t)\n",
        "    rnd = np.random.RandomState(random_state)\n",
        "    error = noise * rnd.randn(t.size)\n",
        "    outliers = rnd.randint(0, t.size, n_outliers)\n",
        "    error[outliers] = 10\n",
        "\n",
        "    return y + error\n",
        "\n",
        "X = np.linspace(t_min, t_max, 51)\n",
        "y = generate_data(X, A=2, sigma=0.1, omega=0.1 * 2 * np.pi, noise=0, n_outliers=0)\n",
        "\n",
        "plt.scatter(X, y,  color='black')\n",
        "plt.show()"
      ],
      "execution_count": 10,
      "outputs": [
        {
          "output_type": "display_data",
          "data": {
            "image/png": "[encoded data removed]",
            "text/plain": [
              "<Figure size 432x288 with 1 Axes>"
            ]
          },
          "metadata": {
            "tags": [],
            "needs_background": "light"
          }
        }
      ]
    },
    {
      "cell_type": "code",
      "metadata": {
        "scrolled": true,
        "id": "XUNaIutP4j9j",
        "colab": {
          "base_uri": "https://localhost:8080/",
          "height": 265
        },
        "outputId": "cc2f0c56-c16a-4804-a57b-cc564d8420ae"
      },
      "source": [
        "X = np.linspace(t_min, t_max, 11)\n",
        "y = generate_data(X, A=2, sigma=0.1, omega=0.1 * 2 * np.pi, noise=0.1, n_outliers=0)\n",
        "\n",
        "plt.scatter(X, y,  color='black')\n",
        "plt.show()"
      ],
      "execution_count": 11,
      "outputs": [
        {
          "output_type": "display_data",
          "data": {
            "image/png": "[encoded data removed]",
            "text/plain": [
              "<Figure size 432x288 with 1 Axes>"
            ]
          },
          "metadata": {
            "tags": [],
            "needs_background": "light"
          }
        }
      ]
    },
    {
      "cell_type": "code",
      "metadata": {
        "id": "FvtjhabW4j9l",
        "colab": {
          "base_uri": "https://localhost:8080/",
          "height": 265
        },
        "outputId": "487b5388-66fa-4009-e9d4-8a36a1898f1e"
      },
      "source": [
        "X = np.linspace(t_min, t_max, 11)\n",
        "y_outlier = generate_data(X, A=2, sigma=0.1, omega=0.1 * 2 * np.pi, noise=0.1, n_outliers=1)\n",
        "\n",
        "plt.scatter(X, y_outlier,  color='black')\n",
        "plt.show()"
      ],
      "execution_count": 12,
      "outputs": [
        {
          "output_type": "display_data",
          "data": {
            "image/png": "[encoded data removed]",
            "text/plain": [
              "<Figure size 432x288 with 1 Axes>"
            ]
          },
          "metadata": {
            "tags": [],
            "needs_background": "light"
          }
        }
      ]
    },
    {
      "cell_type": "markdown",
      "metadata": {
        "id": "kEQkEh60Rotj"
      },
      "source": [
        "### Lineáris regresszió az eredeti adatokra"
      ]
    },
    {
      "cell_type": "code",
      "metadata": {
        "colab": {
          "base_uri": "https://localhost:8080/"
        },
        "id": "EKrfl2b3c-Rf",
        "outputId": "94efaef2-aac4-4fe1-ca22-b6f9e7a80af3"
      },
      "source": [
        "# X formába hozása\n",
        "# \"One shape dimension can be -1. In this case, the value is inferred from the length of the array and remaining dimensions.\"\n",
        "# Részletek: https://numpy.org/doc/stable/reference/generated/numpy.reshape.html\n",
        "X = np.reshape(X, (-1, 1))\n",
        "X"
      ],
      "execution_count": 13,
      "outputs": [
        {
          "output_type": "execute_result",
          "data": {
            "text/plain": [
              "array([[ 0.],\n",
              "       [ 3.],\n",
              "       [ 6.],\n",
              "       [ 9.],\n",
              "       [12.],\n",
              "       [15.],\n",
              "       [18.],\n",
              "       [21.],\n",
              "       [24.],\n",
              "       [27.],\n",
              "       [30.]])"
            ]
          },
          "metadata": {
            "tags": []
          },
          "execution_count": 13
        }
      ]
    },
    {
      "cell_type": "code",
      "metadata": {
        "scrolled": false,
        "id": "Q6xIJmp94j9p",
        "colab": {
          "base_uri": "https://localhost:8080/",
          "height": 265
        },
        "outputId": "06868db1-2adf-4a50-aeef-a022783a7d8f"
      },
      "source": [
        "# Hozzunk létre egy példányt a LinearRegression osztályból a linreg változóba!\n",
        "linreg=linear_model.LinearRegression()\n",
        "# Tanítsuk be a modellt a fit metódus segítségével!\n",
        "linreg.fit(X,y)\n",
        "# Predikáljunk az y_lr változóba!\n",
        "y_lr=linreg.predict(X)\n",
        "# Jelenítsük meg egy plotban (X,y)-t és (X,y_lr)-t!\n",
        "plt.plot(X,y_lr,marker=\"*\")\n",
        "plt.scatter(X,y_outlier)\n",
        "\n",
        "plt.show()\n"
      ],
      "execution_count": 42,
      "outputs": [
        {
          "output_type": "display_data",
          "data": {
            "image/png": "[encoded data removed]",
            "text/plain": [
              "<Figure size 432x288 with 1 Axes>"
            ]
          },
          "metadata": {
            "tags": [],
            "needs_background": "light"
          }
        }
      ]
    },
    {
      "cell_type": "markdown",
      "metadata": {
        "id": "HLuLTovzRxSV"
      },
      "source": [
        "### Lineáris regresszió az outlierrel kiegészített adatokra"
      ]
    },
    {
      "cell_type": "code",
      "metadata": {
        "id": "rpu9uLUQ4j9s",
        "colab": {
          "base_uri": "https://localhost:8080/",
          "height": 265
        },
        "outputId": "4a2a460c-3f16-4c1e-de9a-fe359b2fc0d2"
      },
      "source": [
        "# Ismételjük meg a fentieket, csak az y helyett az y_outlier-t használjuk!\n",
        "# Modell létrehozása\n",
        "linreg=linear_model.LinearRegression()\n",
        "# Lineáris regresszió outlier-t tartalmazó adatra\n",
        "linreg.fit(X,y_outlier)\n",
        "# Predikálás\n",
        "y_linreg=linreg.predict(X)\n",
        "# Megjelenítés\n",
        "plt.plot(X,y_linreg,color=\"red\")\n",
        "plt.scatter(X,y_outlier)\n",
        "\n",
        "plt.show()\n"
      ],
      "execution_count": 45,
      "outputs": [
        {
          "output_type": "display_data",
          "data": {
            "image/png": "[encoded data removed]",
            "text/plain": [
              "<Figure size 432x288 with 1 Axes>"
            ]
          },
          "metadata": {
            "tags": [],
            "needs_background": "light"
          }
        }
      ]
    },
    {
      "cell_type": "code",
      "metadata": {
        "id": "r9zfiLxL4j9y",
        "colab": {
          "base_uri": "https://localhost:8080/",
          "height": 319
        },
        "outputId": "e7ba1d85-41d6-4c32-9d5a-213b92cdac75"
      },
      "source": [
        "# Illeszzünk robusztus regresszióval és hasonlítsuk össze a három eredményt!\n",
        "# Hozzunk létre egy példányt a linear_model.HuberRegressor osztályból a huberreg változóba!\n",
        "huberreg=linear_model.HuberRegressor()\n",
        "# Tanítsuk be X-en és y_outlier-en!\n",
        "print(y_outlier)\n",
        "huberreg.fit(X,y_outlier)\n",
        "# Predikáljuk X-et a y_outlier_huber változóba!\n",
        "y_outlier_huber=huberreg.predict(X)\n",
        "# Készítsünk scatter plotot (X,y_outlier)-en! Segítség: color = 'black'!\n",
        "plt.scatter(X,y_outlier)\n",
        "# Készítsünk plot-ot (X, y_linreg)-en! Segítség: color='blue'\n",
        "plt.plot(X,y_lr, color=\"green\")\n",
        "\n",
        "# Készítsünk plot-ot (X, y_outlier_linreg)-en! Segítség: color='red'\n",
        "plt.plot(X,y_linreg, color=\"yellow\")\n",
        "\n",
        "# Készítsünk plot-ot (X, y_y_outlier_huber)-en! Segítség: color='green'\n",
        "plt.plot(X,y_outlier_huber, color=\"red\")\n",
        "\n",
        "# Legend + show\n",
        "plt.legend()\n",
        "plt.show()"
      ],
      "execution_count": 47,
      "outputs": [
        {
          "output_type": "stream",
          "text": [
            "No handles with labels found to put in legend.\n"
          ],
          "name": "stderr"
        },
        {
          "output_type": "stream",
          "text": [
            "[ 0.17640523  1.44913571 -0.54729297 -0.25386198  0.75966123 -0.09772779\n",
            " -0.21940833  0.12882044 10.10664535 -0.08677263  0.01440436]\n"
          ],
          "name": "stdout"
        },
        {
          "output_type": "display_data",
          "data": {
            "image/png": "[encoded data removed]",
            "text/plain": [
              "<Figure size 432x288 with 1 Axes>"
            ]
          },
          "metadata": {
            "tags": [],
            "needs_background": "light"
          }
        }
      ]
    },
    {
      "cell_type": "markdown",
      "metadata": {
        "id": "1gCnS7ER4j9_"
      },
      "source": [
        "# Hiba definíció\n",
        "- Milyen lehetőségek vannak a négyzetes hiba mellett?\n",
        "- Outlierek nélkül vizsgáljuk a módszereket."
      ]
    },
    {
      "cell_type": "markdown",
      "metadata": {
        "id": "skAoL7re4j-A"
      },
      "source": [
        "## Ridge regression (L2, Tyihonov regularizáció)\n",
        "- Ahogy a representation learning órán is láttuk, a hiba több tagból is állhat.\n",
        "- A ridge regression egy négyzetes hibatagot ad a rekonstrukció hibájához.\n",
        "- A képlet\n",
        "$$ \\sum_{i=1}^n(y_i-\\hat{y}_1)^2 + \\alpha \\sum\\beta^2 $$\n",
        "\n",
        "- A hibatag segítségével a korrellált változók fognak kiesni.\n",
        "- Tehát a modell bonyolultabb, mint a sima lineáris regresszió, azaz nagyobb a torzítás, ugyanakkor csökken a variancia a multikollinearitás csökkenése miatt\n",
        "\n",
        "Részletek: https://ncss-wpengine.netdna-ssl.com/wp-content/themes/ncss/pdf/Procedures/NCSS/Ridge_Regression.pdf"
      ]
    },
    {
      "cell_type": "markdown",
      "metadata": {
        "id": "Xu15Hnob4j-A"
      },
      "source": [
        "## LASSO (least absolute shrinkage and selection operator, L1-regularizáció)\n",
        "\n",
        "* Szintén a súlyokat regularizálja, de négyzetes tag helyett a súlyok(coefficiensek) abszolút értékét minimalizálja\n",
        "emiatt a coefficiens ritka vektor lesz\n",
        "* Sok attribútum hozzájárulása 0 lesz (ritka reprezentáció alakul ki, y-t kevesebb magyarázó változóval tudjuk leírni)\n",
        "\n",
        "$$min \\sum_{i=1}^n(y_i-\\hat{y}_1)^2 + \\alpha \\sum|\\beta|  $$\n",
        "\n",
        "![LASSO](https://drive.google.com/uc?export=view&id=1rXzxbq8Ryrxem7vLLmFNUcl_xL9sZnoH)\n"
      ]
    },
    {
      "cell_type": "markdown",
      "metadata": {
        "id": "l6QcWGW04j-C"
      },
      "source": [
        "## Elastic-net\n",
        "\n",
        "Ridge és LASSO kombinálása\n",
        "\n",
        "Ami megoldására hivatott:\n",
        "* n<<p esetben LASSO legfeljebb n leírót választ, azaz érzékeny erre a paraméterre.\n",
        "* Erősebb korrelációk esetén korrelált csoportokból LASSO legfeljebb 1 leírót választ. \n",
        "\n",
        "$$min \\sum_{i=1}^n(y_i-\\hat{y}_1)^2 + \\alpha \\sum|\\beta| + (1-\\alpha) \\sum \\beta^2  $$\n",
        "\n",
        "Részletek: https://web.stanford.edu/~hastie/TALKS/enet_talk.pdf"
      ]
    },
    {
      "cell_type": "markdown",
      "metadata": {
        "id": "6u9fBB3j4j-C"
      },
      "source": [
        "# PCR PCA+REGRESSZIÓ\n",
        "\n",
        "- Principal component regression\n",
        "- PCA, majd a transzformált változókon lineáris regresszió\n",
        "- Egyszerű, gyors, de PCA problémáit hozza: outlierek, nem normális eloszlások\n",
        "- Érdekes példa spektrumelemzésre: https://www.idtools.com.au/principal-component-regression-python-2/"
      ]
    },
    {
      "cell_type": "markdown",
      "metadata": {
        "id": "edKYBRav3aX2"
      },
      "source": [
        "# Paraméterekben lineáris modellezés: Polinomiális regresszió\n",
        "\n",
        "* nemlineáris függés a prediktorok és célváltozó között\n",
        "* paraméterekben modell lineáris, tehát lineáris becslő eljárások jók\n",
        "* Polinomiális modellillesztéshez is legegyszerűbb legkisebb négyzetes hiba módszert használni. \n",
        "* Modell szelekció: hanyadfokú polinomok kellenek?"
      ]
    },
    {
      "cell_type": "markdown",
      "metadata": {
        "id": "X1gPMVj1_A2u"
      },
      "source": [
        "## Minta előállítása"
      ]
    },
    {
      "cell_type": "code",
      "metadata": {
        "scrolled": true,
        "id": "PgqcZNKF4j-E",
        "colab": {
          "base_uri": "https://localhost:8080/",
          "height": 592
        },
        "outputId": "388012ce-2329-4f2e-b97b-a3bc501a6a28"
      },
      "source": [
        "import pandas as pd\n",
        "\n",
        "# Kicsit nagyobb ábrát szeretnénk\n",
        "rcParams['figure.figsize'] = 12, 10\n",
        "\n",
        "# Input vektor: szögek 60 és 300 fok között radiánba konvertálva\n",
        "x = np.array([i*np.pi/180 for i in range(60, 300, 4)])\n",
        "# Random szám generáláshoz \"seed\" rögzítése reprodukálhatóság érdekében\n",
        "np.random.seed(10)\n",
        "# Leképezés definálása (szinusz + zaj)\n",
        "y = np.sin(x) + np.random.normal(0,0.15,len(x))\n",
        "# Adatok DataFrame-be helyezése\n",
        "data = pd.DataFrame(np.column_stack([x,y]),columns=['x','y'])\n",
        "# Minta megjelenítése\n",
        "plt.plot(data['x'],data['y'],'.')\n",
        "plt.show()"
      ],
      "execution_count": null,
      "outputs": [
        {
          "output_type": "display_data",
          "data": {
            "image/png": "[encoded data removed]",
            "text/plain": [
              "<Figure size 864x720 with 1 Axes>"
            ]
          },
          "metadata": {
            "tags": [],
            "needs_background": "light"
          }
        }
      ]
    },
    {
      "cell_type": "markdown",
      "metadata": {
        "id": "3gaF_StH_DpC"
      },
      "source": [
        "## Bázis előállítása"
      ]
    },
    {
      "cell_type": "code",
      "metadata": {
        "id": "3kqtgSPl4j-M",
        "colab": {
          "base_uri": "https://localhost:8080/"
        },
        "outputId": "45de033c-8eb7-414c-cd27-c9ceba5e44a7"
      },
      "source": [
        "# x-et előállítja 15. hatványig a polinomiális illesztéshez\n",
        "# Első kitevő adott...\n",
        "for i in range(2,16):\n",
        "    # Új prediktorok a bázis prediktor hatványai lesznek\n",
        "    colname = 'x_{}'.format(i)\n",
        "    data[colname] = data['x']**i\n",
        "print(data.head())"
      ],
      "execution_count": null,
      "outputs": [
        {
          "output_type": "stream",
          "text": [
            "          x         y       x_2  ...       x_13       x_14       x_15\n",
            "0  1.047198  1.065763  1.096623  ...   1.821260   1.907219   1.997235\n",
            "1  1.117011  1.006086  1.247713  ...   4.214494   4.707635   5.258479\n",
            "2  1.186824  0.695374  1.408551  ...   9.268760  11.000386  13.055521\n",
            "3  1.256637  0.949799  1.579137  ...  19.486248  24.487142  30.771450\n",
            "4  1.326450  1.063496  1.759470  ...  39.353420  52.200353  69.241170\n",
            "\n",
            "[5 rows x 16 columns]\n"
          ],
          "name": "stdout"
        }
      ]
    },
    {
      "cell_type": "markdown",
      "metadata": {
        "id": "l94ObJZw_Ieu"
      },
      "source": [
        "## Lineáris regresszió"
      ]
    },
    {
      "cell_type": "code",
      "metadata": {
        "id": "uUkJPk984j-Q"
      },
      "source": [
        "from sklearn.linear_model import LinearRegression\n",
        "def linear_regression(data, power, models_to_plot):\n",
        "\n",
        "    # Prediktorok inicializálása\n",
        "    predictors=['x']\n",
        "    if power>=2:\n",
        "        predictors.extend(['x_%d'%i for i in range(2,power+1)])\n",
        "    \n",
        "    # Modell illesztés\n",
        "    linreg = LinearRegression(normalize=True)\n",
        "    linreg.fit(data[predictors],data['y'])\n",
        "    y_pred = linreg.predict(data[predictors])\n",
        "    \n",
        "    # Ha az aktuális hatványt ki szeretnénk rajzolni\n",
        "    if power in models_to_plot:\n",
        "        plt.subplot(models_to_plot[power])\n",
        "        plt.tight_layout()\n",
        "        plt.plot(data['x'],y_pred)\n",
        "        plt.plot(data['x'],data['y'],'.')\n",
        "        plt.title('Plot for power: %d'%power)\n",
        "    \n",
        "    # Térjünk vissza a hibával és a modell paraméterekkel\n",
        "    rss = sum((y_pred-data['y'])**2)\n",
        "    ret = [rss]\n",
        "    ret.extend([linreg.intercept_])\n",
        "    ret.extend(linreg.coef_)\n",
        "    return ret"
      ],
      "execution_count": null,
      "outputs": []
    },
    {
      "cell_type": "markdown",
      "metadata": {
        "id": "VHEjrMRu_NOZ"
      },
      "source": [
        "### Plot"
      ]
    },
    {
      "cell_type": "code",
      "metadata": {
        "scrolled": true,
        "id": "VF2z4vHF4j-S",
        "colab": {
          "base_uri": "https://localhost:8080/",
          "height": 729
        },
        "outputId": "f7137bba-5dd8-4699-f20e-7bdfa4c398f8"
      },
      "source": [
        "# Az eredményeket tároló pandas Dataframe inicializálása:\n",
        "col = ['rss','intercept'] + ['coef_x_%d'%i for i in range(1,16)]\n",
        "ind = ['model_pow_%d'%i for i in range(1,16)]\n",
        "coef_matrix_simple = pd.DataFrame(index=ind, columns=col)\n",
        "\n",
        "# Dictionary: milyen kitevős illesztés melyik alábrába kerüljön:\n",
        "models_to_plot = {1:231,3:232,6:233,9:234,12:235,15:236}\n",
        "\n",
        "# Végigmegyünk minden kitevőn és megmutatjuk az illesztéseket\n",
        "for i in range(1,16):\n",
        "    coef_matrix_simple.iloc[i-1,0:i+2] = linear_regression(data, power=i, models_to_plot=models_to_plot)"
      ],
      "execution_count": null,
      "outputs": [
        {
          "output_type": "display_data",
          "data": {
            "image/png": "[encoded data removed]",
            "text/plain": [
              "<Figure size 864x720 with 6 Axes>"
            ]
          },
          "metadata": {
            "tags": [],
            "needs_background": "light"
          }
        }
      ]
    },
    {
      "cell_type": "markdown",
      "metadata": {
        "id": "5XRBMoAt_l6A"
      },
      "source": [
        "- Ahogy emelkedik a polinom foka, egyre inkább túltanul a rendszer.\n",
        "- Szeretnénk, ha általánosítana, azaz nem megjegyezni próbálná a pontokat, hanem megtalálni a rendszert abban, ahogy a pontok elhelyezkednek."
      ]
    },
    {
      "cell_type": "markdown",
      "metadata": {
        "id": "ARlEKiYE_WEA"
      },
      "source": [
        "### Együtthatók"
      ]
    },
    {
      "cell_type": "code",
      "metadata": {
        "scrolled": true,
        "id": "jeS-lMiv4j-W",
        "colab": {
          "base_uri": "https://localhost:8080/",
          "height": 534
        },
        "outputId": "83076ce3-9301-44bf-8beb-69b39ea21e3a"
      },
      "source": [
        "# Trükk, hogy a számokat olvashatóbb formában lássuk. Értékeket természetesen nem változtatja.\n",
        "pd.options.display.float_format = '{:,.2g}'.format\n",
        "coef_matrix_simple"
      ],
      "execution_count": null,
      "outputs": [
        {
          "output_type": "execute_result",
          "data": {
            "text/html": [
              "<div>\n",
              "<style scoped>\n",
              "    .dataframe tbody tr th:only-of-type {\n",
              "        vertical-align: middle;\n",
              "    }\n",
              "\n",
              "    .dataframe tbody tr th {\n",
              "        vertical-align: top;\n",
              "    }\n",
              "\n",
              "    .dataframe thead th {\n",
              "        text-align: right;\n",
              "    }\n",
              "</style>\n",
              "<table border=\"1\" class=\"dataframe\">\n",
              "  <thead>\n",
              "    <tr style=\"text-align: right;\">\n",
              "      <th></th>\n",
              "      <th>rss</th>\n",
              "      <th>intercept</th>\n",
              "      <th>coef_x_1</th>\n",
              "      <th>coef_x_2</th>\n",
              "      <th>coef_x_3</th>\n",
              "      <th>coef_x_4</th>\n",
              "      <th>coef_x_5</th>\n",
              "      <th>coef_x_6</th>\n",
              "      <th>coef_x_7</th>\n",
              "      <th>coef_x_8</th>\n",
              "      <th>coef_x_9</th>\n",
              "      <th>coef_x_10</th>\n",
              "      <th>coef_x_11</th>\n",
              "      <th>coef_x_12</th>\n",
              "      <th>coef_x_13</th>\n",
              "      <th>coef_x_14</th>\n",
              "      <th>coef_x_15</th>\n",
              "    </tr>\n",
              "  </thead>\n",
              "  <tbody>\n",
              "    <tr>\n",
              "      <th>model_pow_1</th>\n",
              "      <td>3.3</td>\n",
              "      <td>2</td>\n",
              "      <td>-0.62</td>\n",
              "      <td>NaN</td>\n",
              "      <td>NaN</td>\n",
              "      <td>NaN</td>\n",
              "      <td>NaN</td>\n",
              "      <td>NaN</td>\n",
              "      <td>NaN</td>\n",
              "      <td>NaN</td>\n",
              "      <td>NaN</td>\n",
              "      <td>NaN</td>\n",
              "      <td>NaN</td>\n",
              "      <td>NaN</td>\n",
              "      <td>NaN</td>\n",
              "      <td>NaN</td>\n",
              "      <td>NaN</td>\n",
              "    </tr>\n",
              "    <tr>\n",
              "      <th>model_pow_2</th>\n",
              "      <td>3.3</td>\n",
              "      <td>1.9</td>\n",
              "      <td>-0.58</td>\n",
              "      <td>-0.006</td>\n",
              "      <td>NaN</td>\n",
              "      <td>NaN</td>\n",
              "      <td>NaN</td>\n",
              "      <td>NaN</td>\n",
              "      <td>NaN</td>\n",
              "      <td>NaN</td>\n",
              "      <td>NaN</td>\n",
              "      <td>NaN</td>\n",
              "      <td>NaN</td>\n",
              "      <td>NaN</td>\n",
              "      <td>NaN</td>\n",
              "      <td>NaN</td>\n",
              "      <td>NaN</td>\n",
              "    </tr>\n",
              "    <tr>\n",
              "      <th>model_pow_3</th>\n",
              "      <td>1.1</td>\n",
              "      <td>-1.1</td>\n",
              "      <td>3</td>\n",
              "      <td>-1.3</td>\n",
              "      <td>0.14</td>\n",
              "      <td>NaN</td>\n",
              "      <td>NaN</td>\n",
              "      <td>NaN</td>\n",
              "      <td>NaN</td>\n",
              "      <td>NaN</td>\n",
              "      <td>NaN</td>\n",
              "      <td>NaN</td>\n",
              "      <td>NaN</td>\n",
              "      <td>NaN</td>\n",
              "      <td>NaN</td>\n",
              "      <td>NaN</td>\n",
              "      <td>NaN</td>\n",
              "    </tr>\n",
              "    <tr>\n",
              "      <th>model_pow_4</th>\n",
              "      <td>1.1</td>\n",
              "      <td>-0.27</td>\n",
              "      <td>1.7</td>\n",
              "      <td>-0.53</td>\n",
              "      <td>-0.036</td>\n",
              "      <td>0.014</td>\n",
              "      <td>NaN</td>\n",
              "      <td>NaN</td>\n",
              "      <td>NaN</td>\n",
              "      <td>NaN</td>\n",
              "      <td>NaN</td>\n",
              "      <td>NaN</td>\n",
              "      <td>NaN</td>\n",
              "      <td>NaN</td>\n",
              "      <td>NaN</td>\n",
              "      <td>NaN</td>\n",
              "      <td>NaN</td>\n",
              "    </tr>\n",
              "    <tr>\n",
              "      <th>model_pow_5</th>\n",
              "      <td>1</td>\n",
              "      <td>3</td>\n",
              "      <td>-5.1</td>\n",
              "      <td>4.7</td>\n",
              "      <td>-1.9</td>\n",
              "      <td>0.33</td>\n",
              "      <td>-0.021</td>\n",
              "      <td>NaN</td>\n",
              "      <td>NaN</td>\n",
              "      <td>NaN</td>\n",
              "      <td>NaN</td>\n",
              "      <td>NaN</td>\n",
              "      <td>NaN</td>\n",
              "      <td>NaN</td>\n",
              "      <td>NaN</td>\n",
              "      <td>NaN</td>\n",
              "      <td>NaN</td>\n",
              "    </tr>\n",
              "    <tr>\n",
              "      <th>model_pow_6</th>\n",
              "      <td>0.99</td>\n",
              "      <td>-2.8</td>\n",
              "      <td>9.5</td>\n",
              "      <td>-9.7</td>\n",
              "      <td>5.2</td>\n",
              "      <td>-1.6</td>\n",
              "      <td>0.23</td>\n",
              "      <td>-0.014</td>\n",
              "      <td>NaN</td>\n",
              "      <td>NaN</td>\n",
              "      <td>NaN</td>\n",
              "      <td>NaN</td>\n",
              "      <td>NaN</td>\n",
              "      <td>NaN</td>\n",
              "      <td>NaN</td>\n",
              "      <td>NaN</td>\n",
              "      <td>NaN</td>\n",
              "    </tr>\n",
              "    <tr>\n",
              "      <th>model_pow_7</th>\n",
              "      <td>0.93</td>\n",
              "      <td>19</td>\n",
              "      <td>-56</td>\n",
              "      <td>69</td>\n",
              "      <td>-45</td>\n",
              "      <td>17</td>\n",
              "      <td>-3.5</td>\n",
              "      <td>0.4</td>\n",
              "      <td>-0.019</td>\n",
              "      <td>NaN</td>\n",
              "      <td>NaN</td>\n",
              "      <td>NaN</td>\n",
              "      <td>NaN</td>\n",
              "      <td>NaN</td>\n",
              "      <td>NaN</td>\n",
              "      <td>NaN</td>\n",
              "      <td>NaN</td>\n",
              "    </tr>\n",
              "    <tr>\n",
              "      <th>model_pow_8</th>\n",
              "      <td>0.92</td>\n",
              "      <td>43</td>\n",
              "      <td>-1.4e+02</td>\n",
              "      <td>1.8e+02</td>\n",
              "      <td>-1.3e+02</td>\n",
              "      <td>58</td>\n",
              "      <td>-15</td>\n",
              "      <td>2.4</td>\n",
              "      <td>-0.21</td>\n",
              "      <td>0.0077</td>\n",
              "      <td>NaN</td>\n",
              "      <td>NaN</td>\n",
              "      <td>NaN</td>\n",
              "      <td>NaN</td>\n",
              "      <td>NaN</td>\n",
              "      <td>NaN</td>\n",
              "      <td>NaN</td>\n",
              "    </tr>\n",
              "    <tr>\n",
              "      <th>model_pow_9</th>\n",
              "      <td>0.87</td>\n",
              "      <td>1.7e+02</td>\n",
              "      <td>-6.1e+02</td>\n",
              "      <td>9.6e+02</td>\n",
              "      <td>-8.5e+02</td>\n",
              "      <td>4.6e+02</td>\n",
              "      <td>-1.6e+02</td>\n",
              "      <td>37</td>\n",
              "      <td>-5.2</td>\n",
              "      <td>0.42</td>\n",
              "      <td>-0.015</td>\n",
              "      <td>NaN</td>\n",
              "      <td>NaN</td>\n",
              "      <td>NaN</td>\n",
              "      <td>NaN</td>\n",
              "      <td>NaN</td>\n",
              "      <td>NaN</td>\n",
              "    </tr>\n",
              "    <tr>\n",
              "      <th>model_pow_10</th>\n",
              "      <td>0.87</td>\n",
              "      <td>1.4e+02</td>\n",
              "      <td>-4.9e+02</td>\n",
              "      <td>7.3e+02</td>\n",
              "      <td>-6e+02</td>\n",
              "      <td>2.9e+02</td>\n",
              "      <td>-87</td>\n",
              "      <td>15</td>\n",
              "      <td>-0.81</td>\n",
              "      <td>-0.14</td>\n",
              "      <td>0.026</td>\n",
              "      <td>-0.0013</td>\n",
              "      <td>NaN</td>\n",
              "      <td>NaN</td>\n",
              "      <td>NaN</td>\n",
              "      <td>NaN</td>\n",
              "      <td>NaN</td>\n",
              "    </tr>\n",
              "    <tr>\n",
              "      <th>model_pow_11</th>\n",
              "      <td>0.87</td>\n",
              "      <td>-75</td>\n",
              "      <td>5.1e+02</td>\n",
              "      <td>-1.3e+03</td>\n",
              "      <td>1.9e+03</td>\n",
              "      <td>-1.6e+03</td>\n",
              "      <td>9.1e+02</td>\n",
              "      <td>-3.5e+02</td>\n",
              "      <td>91</td>\n",
              "      <td>-16</td>\n",
              "      <td>1.8</td>\n",
              "      <td>-0.12</td>\n",
              "      <td>0.0034</td>\n",
              "      <td>NaN</td>\n",
              "      <td>NaN</td>\n",
              "      <td>NaN</td>\n",
              "      <td>NaN</td>\n",
              "    </tr>\n",
              "    <tr>\n",
              "      <th>model_pow_12</th>\n",
              "      <td>0.87</td>\n",
              "      <td>-3.4e+02</td>\n",
              "      <td>1.9e+03</td>\n",
              "      <td>-4.4e+03</td>\n",
              "      <td>6e+03</td>\n",
              "      <td>-5.2e+03</td>\n",
              "      <td>3.1e+03</td>\n",
              "      <td>-1.3e+03</td>\n",
              "      <td>3.8e+02</td>\n",
              "      <td>-80</td>\n",
              "      <td>12</td>\n",
              "      <td>-1.1</td>\n",
              "      <td>0.062</td>\n",
              "      <td>-0.0016</td>\n",
              "      <td>NaN</td>\n",
              "      <td>NaN</td>\n",
              "      <td>NaN</td>\n",
              "    </tr>\n",
              "    <tr>\n",
              "      <th>model_pow_13</th>\n",
              "      <td>0.86</td>\n",
              "      <td>3.2e+03</td>\n",
              "      <td>-1.8e+04</td>\n",
              "      <td>4.5e+04</td>\n",
              "      <td>-6.7e+04</td>\n",
              "      <td>6.6e+04</td>\n",
              "      <td>-4.6e+04</td>\n",
              "      <td>2.3e+04</td>\n",
              "      <td>-8.5e+03</td>\n",
              "      <td>2.3e+03</td>\n",
              "      <td>-4.5e+02</td>\n",
              "      <td>62</td>\n",
              "      <td>-5.7</td>\n",
              "      <td>0.31</td>\n",
              "      <td>-0.0078</td>\n",
              "      <td>NaN</td>\n",
              "      <td>NaN</td>\n",
              "    </tr>\n",
              "    <tr>\n",
              "      <th>model_pow_14</th>\n",
              "      <td>0.79</td>\n",
              "      <td>2.4e+04</td>\n",
              "      <td>-1.4e+05</td>\n",
              "      <td>3.8e+05</td>\n",
              "      <td>-6.1e+05</td>\n",
              "      <td>6.6e+05</td>\n",
              "      <td>-5e+05</td>\n",
              "      <td>2.8e+05</td>\n",
              "      <td>-1.2e+05</td>\n",
              "      <td>3.7e+04</td>\n",
              "      <td>-8.5e+03</td>\n",
              "      <td>1.5e+03</td>\n",
              "      <td>-1.8e+02</td>\n",
              "      <td>15</td>\n",
              "      <td>-0.73</td>\n",
              "      <td>0.017</td>\n",
              "      <td>NaN</td>\n",
              "    </tr>\n",
              "    <tr>\n",
              "      <th>model_pow_15</th>\n",
              "      <td>0.7</td>\n",
              "      <td>-3.6e+04</td>\n",
              "      <td>2.4e+05</td>\n",
              "      <td>-7.5e+05</td>\n",
              "      <td>1.4e+06</td>\n",
              "      <td>-1.7e+06</td>\n",
              "      <td>1.5e+06</td>\n",
              "      <td>-1e+06</td>\n",
              "      <td>5e+05</td>\n",
              "      <td>-1.9e+05</td>\n",
              "      <td>5.4e+04</td>\n",
              "      <td>-1.2e+04</td>\n",
              "      <td>1.9e+03</td>\n",
              "      <td>-2.2e+02</td>\n",
              "      <td>17</td>\n",
              "      <td>-0.81</td>\n",
              "      <td>0.018</td>\n",
              "    </tr>\n",
              "  </tbody>\n",
              "</table>\n",
              "</div>"
            ],
            "text/plain": [
              "              rss intercept coef_x_1  ... coef_x_13 coef_x_14 coef_x_15\n",
              "model_pow_1   3.3         2    -0.62  ...       NaN       NaN       NaN\n",
              "model_pow_2   3.3       1.9    -0.58  ...       NaN       NaN       NaN\n",
              "model_pow_3   1.1      -1.1        3  ...       NaN       NaN       NaN\n",
              "model_pow_4   1.1     -0.27      1.7  ...       NaN       NaN       NaN\n",
              "model_pow_5     1         3     -5.1  ...       NaN       NaN       NaN\n",
              "model_pow_6  0.99      -2.8      9.5  ...       NaN       NaN       NaN\n",
              "model_pow_7  0.93        19      -56  ...       NaN       NaN       NaN\n",
              "model_pow_8  0.92        43 -1.4e+02  ...       NaN       NaN       NaN\n",
              "model_pow_9  0.87   1.7e+02 -6.1e+02  ...       NaN       NaN       NaN\n",
              "model_pow_10 0.87   1.4e+02 -4.9e+02  ...       NaN       NaN       NaN\n",
              "model_pow_11 0.87       -75  5.1e+02  ...       NaN       NaN       NaN\n",
              "model_pow_12 0.87  -3.4e+02  1.9e+03  ...       NaN       NaN       NaN\n",
              "model_pow_13 0.86   3.2e+03 -1.8e+04  ...   -0.0078       NaN       NaN\n",
              "model_pow_14 0.79   2.4e+04 -1.4e+05  ...     -0.73     0.017       NaN\n",
              "model_pow_15  0.7  -3.6e+04  2.4e+05  ...        17     -0.81     0.018\n",
              "\n",
              "[15 rows x 17 columns]"
            ]
          },
          "metadata": {
            "tags": []
          },
          "execution_count": 16
        }
      ]
    },
    {
      "cell_type": "markdown",
      "metadata": {
        "id": "u-rGfLbZ4j-Z"
      },
      "source": [
        "- A modell komplexitásával (exponenciálisan) nő az együtthatók értéke.\n",
        "- Magasak az együtthatók értékei. Innen látszik, hogy komplex / bonyolult összefüggéseket modellez, azaz túltanul.\n"
      ]
    },
    {
      "cell_type": "markdown",
      "metadata": {
        "id": "QCsrd70K_arg"
      },
      "source": [
        "## Ridge regresszió"
      ]
    },
    {
      "cell_type": "code",
      "metadata": {
        "id": "X0hQIyy84j-b"
      },
      "source": [
        "from sklearn.linear_model import Ridge\n",
        "def ridge_regression(data, predictors, alpha, models_to_plot={}):\n",
        "    # Model illesztés\n",
        "    ridgereg = Ridge(alpha=alpha,normalize=True)\n",
        "    ridgereg.fit(data[predictors],data['y'])\n",
        "    y_pred = ridgereg.predict(data[predictors])\n",
        "    \n",
        "    # Csak adott alfa értékekhez tartozó illesztést plottoljunk\n",
        "    if alpha in models_to_plot:\n",
        "        plt.subplot(models_to_plot[alpha])\n",
        "        plt.tight_layout()\n",
        "        plt.plot(data['x'],y_pred)\n",
        "        plt.plot(data['x'],data['y'],'.')\n",
        "        plt.title('Plot for alpha: %.3g'%alpha)\n",
        "    \n",
        "    # Eredményeket listában adjuk vissza\n",
        "    rss = sum((y_pred-data['y'])**2)\n",
        "    ret = [rss]\n",
        "    ret.extend([ridgereg.intercept_])\n",
        "    ret.extend(ridgereg.coef_)\n",
        "    return ret"
      ],
      "execution_count": null,
      "outputs": []
    },
    {
      "cell_type": "markdown",
      "metadata": {
        "id": "9AfXVFDw_eT5"
      },
      "source": [
        "### Plot"
      ]
    },
    {
      "cell_type": "code",
      "metadata": {
        "scrolled": true,
        "id": "wYFqls2C4j-e",
        "colab": {
          "base_uri": "https://localhost:8080/",
          "height": 763
        },
        "outputId": "60fa1c85-5967-4e5e-817b-cb2d8d3efff2"
      },
      "source": [
        "# Prediktorok inicializálása\n",
        "predictors=['x']\n",
        "predictors.extend(['x_%d'%i for i in range(2,16)])\n",
        "\n",
        "# Mely alfa értékeket szeretnénk vizsgálni\n",
        "alpha_ridge = [1e-15, 1e-10, 1e-8, 1e-4, 1e-3,1e-2, 1, 5, 10, 20]\n",
        "\n",
        "# DataFrame inicializálása\n",
        "col = ['rss','intercept'] + ['coef_x_%d'%i for i in range(1,16)]\n",
        "ind = ['alpha_%.2g'%alpha_ridge[i] for i in range(0,10)]\n",
        "coef_matrix_ridge = pd.DataFrame(index=ind, columns=col)\n",
        "\n",
        "# Plot\n",
        "models_to_plot = {1e-15:231, 1e-10:232, 1e-4:233, 1e-3:234, 1e-2:235, 5:236}\n",
        "for i in range(10):\n",
        "    coef_matrix_ridge.iloc[i,] = ridge_regression(data, predictors, alpha_ridge[i], models_to_plot)"
      ],
      "execution_count": null,
      "outputs": [
        {
          "output_type": "stream",
          "text": [
            "/usr/local/lib/python3.6/dist-packages/sklearn/linear_model/_ridge.py:148: LinAlgWarning: Ill-conditioned matrix (rcond=3.81609e-17): result may not be accurate.\n",
            "  overwrite_a=True).T\n"
          ],
          "name": "stderr"
        },
        {
          "output_type": "display_data",
          "data": {
            "image/png": "[encoded data removed]",
            "text/plain": [
              "<Figure size 864x720 with 6 Axes>"
            ]
          },
          "metadata": {
            "tags": [],
            "needs_background": "light"
          }
        }
      ]
    },
    {
      "cell_type": "markdown",
      "metadata": {
        "id": "JngwsTlfAUG6"
      },
      "source": [
        "- Az alfa értékek növekedésével csökken a modell komplexitása.\n",
        "- Ha nagyon megszorítjuk a modellt (alfa = 5), akkor nem találja a trendet."
      ]
    },
    {
      "cell_type": "markdown",
      "metadata": {
        "id": "mEgWDaNn_hRh"
      },
      "source": [
        "### Együtthatók"
      ]
    },
    {
      "cell_type": "code",
      "metadata": {
        "scrolled": true,
        "id": "fhED34pq4j-i",
        "colab": {
          "base_uri": "https://localhost:8080/",
          "height": 379
        },
        "outputId": "1be45632-e3b9-4b7d-83a5-83defb6e4abf"
      },
      "source": [
        "coef_matrix_ridge"
      ],
      "execution_count": null,
      "outputs": [
        {
          "output_type": "execute_result",
          "data": {
            "text/html": [
              "<div>\n",
              "<style scoped>\n",
              "    .dataframe tbody tr th:only-of-type {\n",
              "        vertical-align: middle;\n",
              "    }\n",
              "\n",
              "    .dataframe tbody tr th {\n",
              "        vertical-align: top;\n",
              "    }\n",
              "\n",
              "    .dataframe thead th {\n",
              "        text-align: right;\n",
              "    }\n",
              "</style>\n",
              "<table border=\"1\" class=\"dataframe\">\n",
              "  <thead>\n",
              "    <tr style=\"text-align: right;\">\n",
              "      <th></th>\n",
              "      <th>rss</th>\n",
              "      <th>intercept</th>\n",
              "      <th>coef_x_1</th>\n",
              "      <th>coef_x_2</th>\n",
              "      <th>coef_x_3</th>\n",
              "      <th>coef_x_4</th>\n",
              "      <th>coef_x_5</th>\n",
              "      <th>coef_x_6</th>\n",
              "      <th>coef_x_7</th>\n",
              "      <th>coef_x_8</th>\n",
              "      <th>coef_x_9</th>\n",
              "      <th>coef_x_10</th>\n",
              "      <th>coef_x_11</th>\n",
              "      <th>coef_x_12</th>\n",
              "      <th>coef_x_13</th>\n",
              "      <th>coef_x_14</th>\n",
              "      <th>coef_x_15</th>\n",
              "    </tr>\n",
              "  </thead>\n",
              "  <tbody>\n",
              "    <tr>\n",
              "      <th>alpha_1e-15</th>\n",
              "      <td>0.87</td>\n",
              "      <td>94</td>\n",
              "      <td>-3e+02</td>\n",
              "      <td>3.8e+02</td>\n",
              "      <td>-2.4e+02</td>\n",
              "      <td>68</td>\n",
              "      <td>-1.2</td>\n",
              "      <td>-3.7</td>\n",
              "      <td>0.3</td>\n",
              "      <td>0.19</td>\n",
              "      <td>-0.021</td>\n",
              "      <td>-0.0077</td>\n",
              "      <td>0.0011</td>\n",
              "      <td>0.00025</td>\n",
              "      <td>-6.3e-05</td>\n",
              "      <td>4.6e-06</td>\n",
              "      <td>-9e-08</td>\n",
              "    </tr>\n",
              "    <tr>\n",
              "      <th>alpha_1e-10</th>\n",
              "      <td>0.92</td>\n",
              "      <td>11</td>\n",
              "      <td>-29</td>\n",
              "      <td>31</td>\n",
              "      <td>-15</td>\n",
              "      <td>2.9</td>\n",
              "      <td>0.17</td>\n",
              "      <td>-0.091</td>\n",
              "      <td>-0.011</td>\n",
              "      <td>0.002</td>\n",
              "      <td>0.00064</td>\n",
              "      <td>2.4e-05</td>\n",
              "      <td>-2e-05</td>\n",
              "      <td>-4.2e-06</td>\n",
              "      <td>2.2e-07</td>\n",
              "      <td>2.3e-07</td>\n",
              "      <td>-2.3e-08</td>\n",
              "    </tr>\n",
              "    <tr>\n",
              "      <th>alpha_1e-08</th>\n",
              "      <td>0.95</td>\n",
              "      <td>1.3</td>\n",
              "      <td>-1.5</td>\n",
              "      <td>1.7</td>\n",
              "      <td>-0.68</td>\n",
              "      <td>0.039</td>\n",
              "      <td>0.016</td>\n",
              "      <td>0.00016</td>\n",
              "      <td>-0.00036</td>\n",
              "      <td>-5.4e-05</td>\n",
              "      <td>-2.9e-07</td>\n",
              "      <td>1.1e-06</td>\n",
              "      <td>1.9e-07</td>\n",
              "      <td>2e-08</td>\n",
              "      <td>3.9e-09</td>\n",
              "      <td>8.2e-10</td>\n",
              "      <td>-4.6e-10</td>\n",
              "    </tr>\n",
              "    <tr>\n",
              "      <th>alpha_0.0001</th>\n",
              "      <td>0.96</td>\n",
              "      <td>0.56</td>\n",
              "      <td>0.55</td>\n",
              "      <td>-0.13</td>\n",
              "      <td>-0.026</td>\n",
              "      <td>-0.0028</td>\n",
              "      <td>-0.00011</td>\n",
              "      <td>4.1e-05</td>\n",
              "      <td>1.5e-05</td>\n",
              "      <td>3.7e-06</td>\n",
              "      <td>7.4e-07</td>\n",
              "      <td>1.3e-07</td>\n",
              "      <td>1.9e-08</td>\n",
              "      <td>1.9e-09</td>\n",
              "      <td>-1.3e-10</td>\n",
              "      <td>-1.5e-10</td>\n",
              "      <td>-6.2e-11</td>\n",
              "    </tr>\n",
              "    <tr>\n",
              "      <th>alpha_0.001</th>\n",
              "      <td>1</td>\n",
              "      <td>0.82</td>\n",
              "      <td>0.31</td>\n",
              "      <td>-0.087</td>\n",
              "      <td>-0.02</td>\n",
              "      <td>-0.0028</td>\n",
              "      <td>-0.00022</td>\n",
              "      <td>1.8e-05</td>\n",
              "      <td>1.2e-05</td>\n",
              "      <td>3.4e-06</td>\n",
              "      <td>7.3e-07</td>\n",
              "      <td>1.3e-07</td>\n",
              "      <td>1.9e-08</td>\n",
              "      <td>1.7e-09</td>\n",
              "      <td>-1.5e-10</td>\n",
              "      <td>-1.4e-10</td>\n",
              "      <td>-5.2e-11</td>\n",
              "    </tr>\n",
              "    <tr>\n",
              "      <th>alpha_0.01</th>\n",
              "      <td>1.4</td>\n",
              "      <td>1.3</td>\n",
              "      <td>-0.088</td>\n",
              "      <td>-0.052</td>\n",
              "      <td>-0.01</td>\n",
              "      <td>-0.0014</td>\n",
              "      <td>-0.00013</td>\n",
              "      <td>7.2e-07</td>\n",
              "      <td>4.1e-06</td>\n",
              "      <td>1.3e-06</td>\n",
              "      <td>3e-07</td>\n",
              "      <td>5.6e-08</td>\n",
              "      <td>9e-09</td>\n",
              "      <td>1.1e-09</td>\n",
              "      <td>4.3e-11</td>\n",
              "      <td>-3.1e-11</td>\n",
              "      <td>-1.5e-11</td>\n",
              "    </tr>\n",
              "    <tr>\n",
              "      <th>alpha_1</th>\n",
              "      <td>5.6</td>\n",
              "      <td>0.97</td>\n",
              "      <td>-0.14</td>\n",
              "      <td>-0.019</td>\n",
              "      <td>-0.003</td>\n",
              "      <td>-0.00047</td>\n",
              "      <td>-7e-05</td>\n",
              "      <td>-9.9e-06</td>\n",
              "      <td>-1.3e-06</td>\n",
              "      <td>-1.4e-07</td>\n",
              "      <td>-9.3e-09</td>\n",
              "      <td>1.3e-09</td>\n",
              "      <td>7.8e-10</td>\n",
              "      <td>2.4e-10</td>\n",
              "      <td>6.2e-11</td>\n",
              "      <td>1.4e-11</td>\n",
              "      <td>3.2e-12</td>\n",
              "    </tr>\n",
              "    <tr>\n",
              "      <th>alpha_5</th>\n",
              "      <td>14</td>\n",
              "      <td>0.55</td>\n",
              "      <td>-0.059</td>\n",
              "      <td>-0.0085</td>\n",
              "      <td>-0.0014</td>\n",
              "      <td>-0.00024</td>\n",
              "      <td>-4.1e-05</td>\n",
              "      <td>-6.9e-06</td>\n",
              "      <td>-1.1e-06</td>\n",
              "      <td>-1.9e-07</td>\n",
              "      <td>-3.1e-08</td>\n",
              "      <td>-5.1e-09</td>\n",
              "      <td>-8.2e-10</td>\n",
              "      <td>-1.3e-10</td>\n",
              "      <td>-2e-11</td>\n",
              "      <td>-3e-12</td>\n",
              "      <td>-4.2e-13</td>\n",
              "    </tr>\n",
              "    <tr>\n",
              "      <th>alpha_10</th>\n",
              "      <td>18</td>\n",
              "      <td>0.4</td>\n",
              "      <td>-0.037</td>\n",
              "      <td>-0.0055</td>\n",
              "      <td>-0.00095</td>\n",
              "      <td>-0.00017</td>\n",
              "      <td>-3e-05</td>\n",
              "      <td>-5.2e-06</td>\n",
              "      <td>-9.2e-07</td>\n",
              "      <td>-1.6e-07</td>\n",
              "      <td>-2.9e-08</td>\n",
              "      <td>-5.1e-09</td>\n",
              "      <td>-9.1e-10</td>\n",
              "      <td>-1.6e-10</td>\n",
              "      <td>-2.9e-11</td>\n",
              "      <td>-5.1e-12</td>\n",
              "      <td>-9.1e-13</td>\n",
              "    </tr>\n",
              "    <tr>\n",
              "      <th>alpha_20</th>\n",
              "      <td>23</td>\n",
              "      <td>0.28</td>\n",
              "      <td>-0.022</td>\n",
              "      <td>-0.0034</td>\n",
              "      <td>-0.0006</td>\n",
              "      <td>-0.00011</td>\n",
              "      <td>-2e-05</td>\n",
              "      <td>-3.6e-06</td>\n",
              "      <td>-6.6e-07</td>\n",
              "      <td>-1.2e-07</td>\n",
              "      <td>-2.2e-08</td>\n",
              "      <td>-4e-09</td>\n",
              "      <td>-7.5e-10</td>\n",
              "      <td>-1.4e-10</td>\n",
              "      <td>-2.5e-11</td>\n",
              "      <td>-4.7e-12</td>\n",
              "      <td>-8.7e-13</td>\n",
              "    </tr>\n",
              "  </tbody>\n",
              "</table>\n",
              "</div>"
            ],
            "text/plain": [
              "              rss intercept coef_x_1  ... coef_x_13 coef_x_14 coef_x_15\n",
              "alpha_1e-15  0.87        94   -3e+02  ...  -6.3e-05   4.6e-06    -9e-08\n",
              "alpha_1e-10  0.92        11      -29  ...   2.2e-07   2.3e-07  -2.3e-08\n",
              "alpha_1e-08  0.95       1.3     -1.5  ...   3.9e-09   8.2e-10  -4.6e-10\n",
              "alpha_0.0001 0.96      0.56     0.55  ...  -1.3e-10  -1.5e-10  -6.2e-11\n",
              "alpha_0.001     1      0.82     0.31  ...  -1.5e-10  -1.4e-10  -5.2e-11\n",
              "alpha_0.01    1.4       1.3   -0.088  ...   4.3e-11  -3.1e-11  -1.5e-11\n",
              "alpha_1       5.6      0.97    -0.14  ...   6.2e-11   1.4e-11   3.2e-12\n",
              "alpha_5        14      0.55   -0.059  ...    -2e-11    -3e-12  -4.2e-13\n",
              "alpha_10       18       0.4   -0.037  ...  -2.9e-11  -5.1e-12  -9.1e-13\n",
              "alpha_20       23      0.28   -0.022  ...  -2.5e-11  -4.7e-12  -8.7e-13\n",
              "\n",
              "[10 rows x 17 columns]"
            ]
          },
          "metadata": {
            "tags": []
          },
          "execution_count": 19
        }
      ]
    },
    {
      "cell_type": "markdown",
      "metadata": {
        "id": "2NfGIzkc4j-m"
      },
      "source": [
        "- A modell komplexitása csökken.\n",
        "- Már kis alfa is változtat.\n",
        "- A magas alfa underfitting-et okoz."
      ]
    },
    {
      "cell_type": "markdown",
      "metadata": {
        "id": "qPSp69v4AxY-"
      },
      "source": [
        "## Lasso regresszió"
      ]
    },
    {
      "cell_type": "code",
      "metadata": {
        "id": "0T43tptW4j-n"
      },
      "source": [
        "from sklearn.linear_model import Lasso\n",
        "def lasso_regression(data, predictors, alpha, models_to_plot={}):\n",
        "    # Modell fittelése\n",
        "    lassoreg = Lasso(alpha=alpha,normalize=True, max_iter=1e5)\n",
        "    lassoreg.fit(data[predictors],data['y'])\n",
        "    y_pred = lassoreg.predict(data[predictors])\n",
        "    \n",
        "    # Megjelenítünk, ha szükséges\n",
        "    if alpha in models_to_plot:\n",
        "        plt.subplot(models_to_plot[alpha])\n",
        "        plt.tight_layout()\n",
        "        plt.plot(data['x'],y_pred)\n",
        "        plt.plot(data['x'],data['y'],'.')\n",
        "        plt.title('Plot for alpha: %.3g'%alpha)\n",
        "    \n",
        "    # Eredmények visszatérése\n",
        "    rss = sum((y_pred-data['y'])**2)\n",
        "    ret = [rss]\n",
        "    ret.extend([lassoreg.intercept_])\n",
        "    ret.extend(lassoreg.coef_)\n",
        "    return ret"
      ],
      "execution_count": null,
      "outputs": []
    },
    {
      "cell_type": "markdown",
      "metadata": {
        "id": "IyGUdmtrA0jf"
      },
      "source": [
        "### Plot"
      ]
    },
    {
      "cell_type": "code",
      "metadata": {
        "id": "vwWhfmFl4j-p",
        "colab": {
          "base_uri": "https://localhost:8080/",
          "height": 851
        },
        "outputId": "678e4082-3526-4966-b883-548bbb60f61e"
      },
      "source": [
        "# Prediktorok inicializálása\n",
        "predictors=['x']\n",
        "predictors.extend(['x_%d'%i for i in range(2,16)])\n",
        "\n",
        "# Mely alfa értékeket vizsgáljuk\n",
        "alpha_lasso = [1e-15, 1e-10, 1e-8, 1e-5,1e-4, 1e-3,1e-2, 1, 5, 10]\n",
        "\n",
        "# DataFrame inicializálása\n",
        "col = ['rss','intercept'] + ['coef_x_%d'%i for i in range(1,16)]\n",
        "ind = ['alpha_%.2g'%alpha_lasso[i] for i in range(0,10)]\n",
        "coef_matrix_lasso = pd.DataFrame(index=ind, columns=col)\n",
        "\n",
        "# Mely alfákat szeretnénk megvizsgálni\n",
        "models_to_plot = {1e-10:231, 1e-5:232,1e-4:233, 1e-3:234, 1e-2:235, 1:236}\n",
        "\n",
        "# Regresszió a különböző alfa értékek esetén\n",
        "for i in range(10):\n",
        "    coef_matrix_lasso.iloc[i,] = lasso_regression(data, predictors, alpha_lasso[i], models_to_plot)"
      ],
      "execution_count": null,
      "outputs": [
        {
          "output_type": "stream",
          "text": [
            "/usr/local/lib/python3.6/dist-packages/sklearn/linear_model/_coordinate_descent.py:476: ConvergenceWarning: Objective did not converge. You might want to increase the number of iterations. Duality gap: 0.47835738259036853, tolerance: 0.00369480384218441\n",
            "  positive)\n",
            "/usr/local/lib/python3.6/dist-packages/sklearn/linear_model/_coordinate_descent.py:476: ConvergenceWarning: Objective did not converge. You might want to increase the number of iterations. Duality gap: 0.4782818399057239, tolerance: 0.00369480384218441\n",
            "  positive)\n",
            "/usr/local/lib/python3.6/dist-packages/sklearn/linear_model/_coordinate_descent.py:476: ConvergenceWarning: Objective did not converge. You might want to increase the number of iterations. Duality gap: 0.47079330190410706, tolerance: 0.00369480384218441\n",
            "  positive)\n"
          ],
          "name": "stderr"
        },
        {
          "output_type": "display_data",
          "data": {
            "image/png": "[encoded data removed]",
            "text/plain": [
              "<Figure size 864x720 with 6 Axes>"
            ]
          },
          "metadata": {
            "tags": [],
            "needs_background": "light"
          }
        }
      ]
    },
    {
      "cell_type": "markdown",
      "metadata": {
        "id": "JX8VP96eA6Np"
      },
      "source": [
        "- Itt is egyszerüsödik a modell.\n",
        "- Megjelenik az 1 együtthatós eset (alfa=0.01)."
      ]
    },
    {
      "cell_type": "markdown",
      "metadata": {
        "id": "RzCu_efGBI8B"
      },
      "source": [
        "### Együtthatók"
      ]
    },
    {
      "cell_type": "code",
      "metadata": {
        "scrolled": true,
        "id": "qtDLEeOF4j-r",
        "colab": {
          "base_uri": "https://localhost:8080/",
          "height": 379
        },
        "outputId": "7f59f917-04d1-480f-a074-c937bdb79b66"
      },
      "source": [
        "coef_matrix_lasso"
      ],
      "execution_count": null,
      "outputs": [
        {
          "output_type": "execute_result",
          "data": {
            "text/html": [
              "<div>\n",
              "<style scoped>\n",
              "    .dataframe tbody tr th:only-of-type {\n",
              "        vertical-align: middle;\n",
              "    }\n",
              "\n",
              "    .dataframe tbody tr th {\n",
              "        vertical-align: top;\n",
              "    }\n",
              "\n",
              "    .dataframe thead th {\n",
              "        text-align: right;\n",
              "    }\n",
              "</style>\n",
              "<table border=\"1\" class=\"dataframe\">\n",
              "  <thead>\n",
              "    <tr style=\"text-align: right;\">\n",
              "      <th></th>\n",
              "      <th>rss</th>\n",
              "      <th>intercept</th>\n",
              "      <th>coef_x_1</th>\n",
              "      <th>coef_x_2</th>\n",
              "      <th>coef_x_3</th>\n",
              "      <th>coef_x_4</th>\n",
              "      <th>coef_x_5</th>\n",
              "      <th>coef_x_6</th>\n",
              "      <th>coef_x_7</th>\n",
              "      <th>coef_x_8</th>\n",
              "      <th>coef_x_9</th>\n",
              "      <th>coef_x_10</th>\n",
              "      <th>coef_x_11</th>\n",
              "      <th>coef_x_12</th>\n",
              "      <th>coef_x_13</th>\n",
              "      <th>coef_x_14</th>\n",
              "      <th>coef_x_15</th>\n",
              "    </tr>\n",
              "  </thead>\n",
              "  <tbody>\n",
              "    <tr>\n",
              "      <th>alpha_1e-15</th>\n",
              "      <td>0.96</td>\n",
              "      <td>0.22</td>\n",
              "      <td>1.1</td>\n",
              "      <td>-0.37</td>\n",
              "      <td>0.00089</td>\n",
              "      <td>0.0016</td>\n",
              "      <td>-0.00012</td>\n",
              "      <td>-6.4e-05</td>\n",
              "      <td>-6.3e-06</td>\n",
              "      <td>1.4e-06</td>\n",
              "      <td>7.8e-07</td>\n",
              "      <td>2.1e-07</td>\n",
              "      <td>4e-08</td>\n",
              "      <td>5.4e-09</td>\n",
              "      <td>1.8e-10</td>\n",
              "      <td>-2e-10</td>\n",
              "      <td>-9.2e-11</td>\n",
              "    </tr>\n",
              "    <tr>\n",
              "      <th>alpha_1e-10</th>\n",
              "      <td>0.96</td>\n",
              "      <td>0.22</td>\n",
              "      <td>1.1</td>\n",
              "      <td>-0.37</td>\n",
              "      <td>0.00088</td>\n",
              "      <td>0.0016</td>\n",
              "      <td>-0.00012</td>\n",
              "      <td>-6.4e-05</td>\n",
              "      <td>-6.3e-06</td>\n",
              "      <td>1.4e-06</td>\n",
              "      <td>7.8e-07</td>\n",
              "      <td>2.1e-07</td>\n",
              "      <td>4e-08</td>\n",
              "      <td>5.4e-09</td>\n",
              "      <td>1.8e-10</td>\n",
              "      <td>-2e-10</td>\n",
              "      <td>-9.2e-11</td>\n",
              "    </tr>\n",
              "    <tr>\n",
              "      <th>alpha_1e-08</th>\n",
              "      <td>0.96</td>\n",
              "      <td>0.22</td>\n",
              "      <td>1.1</td>\n",
              "      <td>-0.37</td>\n",
              "      <td>0.00077</td>\n",
              "      <td>0.0016</td>\n",
              "      <td>-0.00011</td>\n",
              "      <td>-6.4e-05</td>\n",
              "      <td>-6.3e-06</td>\n",
              "      <td>1.4e-06</td>\n",
              "      <td>7.8e-07</td>\n",
              "      <td>2.1e-07</td>\n",
              "      <td>4e-08</td>\n",
              "      <td>5.3e-09</td>\n",
              "      <td>2e-10</td>\n",
              "      <td>-1.9e-10</td>\n",
              "      <td>-9.3e-11</td>\n",
              "    </tr>\n",
              "    <tr>\n",
              "      <th>alpha_1e-05</th>\n",
              "      <td>0.96</td>\n",
              "      <td>0.5</td>\n",
              "      <td>0.6</td>\n",
              "      <td>-0.13</td>\n",
              "      <td>-0.038</td>\n",
              "      <td>-0</td>\n",
              "      <td>0</td>\n",
              "      <td>0</td>\n",
              "      <td>0</td>\n",
              "      <td>7.7e-06</td>\n",
              "      <td>1e-06</td>\n",
              "      <td>7.7e-08</td>\n",
              "      <td>0</td>\n",
              "      <td>0</td>\n",
              "      <td>0</td>\n",
              "      <td>-0</td>\n",
              "      <td>-7e-11</td>\n",
              "    </tr>\n",
              "    <tr>\n",
              "      <th>alpha_0.0001</th>\n",
              "      <td>1</td>\n",
              "      <td>0.9</td>\n",
              "      <td>0.17</td>\n",
              "      <td>-0</td>\n",
              "      <td>-0.048</td>\n",
              "      <td>-0</td>\n",
              "      <td>-0</td>\n",
              "      <td>0</td>\n",
              "      <td>0</td>\n",
              "      <td>9.5e-06</td>\n",
              "      <td>5.1e-07</td>\n",
              "      <td>0</td>\n",
              "      <td>0</td>\n",
              "      <td>0</td>\n",
              "      <td>-0</td>\n",
              "      <td>-0</td>\n",
              "      <td>-4.4e-11</td>\n",
              "    </tr>\n",
              "    <tr>\n",
              "      <th>alpha_0.001</th>\n",
              "      <td>1.7</td>\n",
              "      <td>1.3</td>\n",
              "      <td>-0</td>\n",
              "      <td>-0.13</td>\n",
              "      <td>-0</td>\n",
              "      <td>-0</td>\n",
              "      <td>-0</td>\n",
              "      <td>0</td>\n",
              "      <td>0</td>\n",
              "      <td>0</td>\n",
              "      <td>0</td>\n",
              "      <td>0</td>\n",
              "      <td>1.5e-08</td>\n",
              "      <td>7.5e-10</td>\n",
              "      <td>0</td>\n",
              "      <td>0</td>\n",
              "      <td>0</td>\n",
              "    </tr>\n",
              "    <tr>\n",
              "      <th>alpha_0.01</th>\n",
              "      <td>3.6</td>\n",
              "      <td>1.8</td>\n",
              "      <td>-0.55</td>\n",
              "      <td>-0.00056</td>\n",
              "      <td>-0</td>\n",
              "      <td>-0</td>\n",
              "      <td>-0</td>\n",
              "      <td>-0</td>\n",
              "      <td>-0</td>\n",
              "      <td>-0</td>\n",
              "      <td>-0</td>\n",
              "      <td>0</td>\n",
              "      <td>0</td>\n",
              "      <td>0</td>\n",
              "      <td>0</td>\n",
              "      <td>0</td>\n",
              "      <td>0</td>\n",
              "    </tr>\n",
              "    <tr>\n",
              "      <th>alpha_1</th>\n",
              "      <td>37</td>\n",
              "      <td>0.038</td>\n",
              "      <td>-0</td>\n",
              "      <td>-0</td>\n",
              "      <td>-0</td>\n",
              "      <td>-0</td>\n",
              "      <td>-0</td>\n",
              "      <td>-0</td>\n",
              "      <td>-0</td>\n",
              "      <td>-0</td>\n",
              "      <td>-0</td>\n",
              "      <td>-0</td>\n",
              "      <td>-0</td>\n",
              "      <td>-0</td>\n",
              "      <td>-0</td>\n",
              "      <td>-0</td>\n",
              "      <td>-0</td>\n",
              "    </tr>\n",
              "    <tr>\n",
              "      <th>alpha_5</th>\n",
              "      <td>37</td>\n",
              "      <td>0.038</td>\n",
              "      <td>-0</td>\n",
              "      <td>-0</td>\n",
              "      <td>-0</td>\n",
              "      <td>-0</td>\n",
              "      <td>-0</td>\n",
              "      <td>-0</td>\n",
              "      <td>-0</td>\n",
              "      <td>-0</td>\n",
              "      <td>-0</td>\n",
              "      <td>-0</td>\n",
              "      <td>-0</td>\n",
              "      <td>-0</td>\n",
              "      <td>-0</td>\n",
              "      <td>-0</td>\n",
              "      <td>-0</td>\n",
              "    </tr>\n",
              "    <tr>\n",
              "      <th>alpha_10</th>\n",
              "      <td>37</td>\n",
              "      <td>0.038</td>\n",
              "      <td>-0</td>\n",
              "      <td>-0</td>\n",
              "      <td>-0</td>\n",
              "      <td>-0</td>\n",
              "      <td>-0</td>\n",
              "      <td>-0</td>\n",
              "      <td>-0</td>\n",
              "      <td>-0</td>\n",
              "      <td>-0</td>\n",
              "      <td>-0</td>\n",
              "      <td>-0</td>\n",
              "      <td>-0</td>\n",
              "      <td>-0</td>\n",
              "      <td>-0</td>\n",
              "      <td>-0</td>\n",
              "    </tr>\n",
              "  </tbody>\n",
              "</table>\n",
              "</div>"
            ],
            "text/plain": [
              "              rss intercept coef_x_1  ... coef_x_13 coef_x_14 coef_x_15\n",
              "alpha_1e-15  0.96      0.22      1.1  ...   1.8e-10    -2e-10  -9.2e-11\n",
              "alpha_1e-10  0.96      0.22      1.1  ...   1.8e-10    -2e-10  -9.2e-11\n",
              "alpha_1e-08  0.96      0.22      1.1  ...     2e-10  -1.9e-10  -9.3e-11\n",
              "alpha_1e-05  0.96       0.5      0.6  ...         0        -0    -7e-11\n",
              "alpha_0.0001    1       0.9     0.17  ...        -0        -0  -4.4e-11\n",
              "alpha_0.001   1.7       1.3       -0  ...         0         0         0\n",
              "alpha_0.01    3.6       1.8    -0.55  ...         0         0         0\n",
              "alpha_1        37     0.038       -0  ...        -0        -0        -0\n",
              "alpha_5        37     0.038       -0  ...        -0        -0        -0\n",
              "alpha_10       37     0.038       -0  ...        -0        -0        -0\n",
              "\n",
              "[10 rows x 17 columns]"
            ]
          },
          "metadata": {
            "tags": []
          },
          "execution_count": 22
        }
      ]
    },
    {
      "cell_type": "markdown",
      "metadata": {
        "id": "MJw95Ylq4j-v"
      },
      "source": [
        "- Ritka a reprezentáció\n",
        "- Kisebbek az együtthatók\n",
        "- Nagyobb hiba, mint a ridge esetén\n",
        "- Az alfa más tartományban állítandó, mint a ridge esetén"
      ]
    },
    {
      "cell_type": "markdown",
      "metadata": {
        "id": "jN49g-EP4j-v"
      },
      "source": [
        "# A regresszió minőségének vizsgálata\n",
        "\n",
        "Modell illesztés célja kétféle lehet:\n",
        "1. prediktorok magyarázó erejének elemzése\n",
        "2. jövőbeli adatpontokra predikció.\n",
        "\n",
        "Ez utóbbihoz fontos, hogy illesztett modell általánosító / modellező képességét valahogyan mérni lehessen. Gyakori megoldás kevés adatpont esetén sok train-test adat particionálással illeszteni és tesztelni ugyanazt a modellt. Particionálás módja különbözteti meg a leggyakrabban használt módszereket.\n",
        "\n",
        "Egy lépésben az alábbiakat tesszük:\n",
        "- Betanítjuk a modellt az ismert mintán (fit)\n",
        "- Elvégezzük a predikciót / becslést az ismeretlen mintát (predict)\n",
        "- Megmérjük, hogy mekkora hibával képes megbecsülni y-t."
      ]
    },
    {
      "cell_type": "markdown",
      "metadata": {
        "id": "9HiOAqBw4j-w"
      },
      "source": [
        "# Cross-validation (Out of Sample testing)\n",
        "\n",
        "\n",
        "- Leave one out cross-validation (Jackknife)\n",
        " - Egy mintát kiveszek a datasetből\n",
        " - Modell illesztés (N-1) adatponton\n",
        " - Illesztés statisztikai elemzése\n",
        " - A fentieket az összes minta elemre elvégzem, majd aggregálom a hibát.\n",
        " \n",
        "- K-fold cross-validation\n",
        " - Hasonló az előző módszerhez, de nem 1, hanem T<N mintalemmel dolgozunk\n",
        " - K particionálást és K db modell illesztést végzünk.\n",
        " - Jó esetben $K*T=N$\n",
        " - A particiók lehetnek véletlenszerűek (azaz átfedhetnek) vagy exkluzívak\n",
        " - Utóbbira példa: 10x CV alkalmazásával adatokat 10 azonos számosságú, nem átfedő részhalmazra bontjuk. Majd 10 lépésben az adatok 9/10-én modell illesztést végzünk, kihagyott partición pedig tesztelünk. \n",
        " \n",
        "- Stratified K-fold Cross-Validation\n",
        " - Megpróbáljuk úgy particionálni az adatokat, hogy a particiók statisztikái hasonlóak legyenek a teljes mintán számoltakkal\n",
        " - Regresszió esetén pl átlag és szórás, osztályozás esetén pedig osztály elemek aránya\n",
        " \n",
        "![CV](https://upload.wikimedia.org/wikipedia/commons/1/1c/K-fold_cross_validation_EN.jpg)"
      ]
    },
    {
      "cell_type": "markdown",
      "metadata": {
        "id": "K-T_ZYGV4j-0"
      },
      "source": [
        "# Házi feladat\n",
        "\n",
        "Regresszió az Ames House Prices dataset-en.\n",
        " - Vizualizáció, EDA\n",
        " - Adat tisztítás\n",
        "  - Hiányzó adatok\n",
        "  - Felesleges prediktorok\n",
        "  - Hibás adatok\n",
        " - Változók transzformációja (normalizálás, numerikus formára hozás, stb)\n",
        " - Modell(ek) tanítása\n",
        " - Modellek kiértékelése, összehasonlítás\n",
        " - Beszámoló"
      ]
    },
    {
      "cell_type": "markdown",
      "metadata": {
        "id": "N_RN2W-C4j-1"
      },
      "source": [
        "# Hasznos linkek\n",
        "- https://gerardnico.com/wiki/data_mining/lasso\n",
        "- https://www.analyticsvidhya.com/blog/2016/01/complete-tutorial-ridge-lasso-regression-python/\n",
        "- http://scikit-learn.org/stable/auto_examples/linear_model/plot_ransac.html\n",
        "- http://scipy-cookbook.readthedocs.io/items/robust_regression.html\n",
        "- http://scikit-learn.org/stable/auto_examples/linear_model/plot_ols.html"
      ]
    }
  ]
}