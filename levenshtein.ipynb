{
  "nbformat": 4,
  "nbformat_minor": 0,
  "metadata": {
    "colab": {
      "name": "levenshtein.ipynb",
      "provenance": [],
      "authorship_tag": "ABX9TyOgT1vbnFu0+7skuYkRzI7j",
      "include_colab_link": true
    },
    "kernelspec": {
      "name": "python3",
      "display_name": "Python 3"
    }
  },
  "cells": [
    {
      "cell_type": "markdown",
      "metadata": {
        "id": "view-in-github",
        "colab_type": "text"
      },
      "source": [
        "<a href=\"https://colab.research.google.com/github/sipocz/Colab/blob/main/levenshtein.ipynb\" target=\"_parent\"><img src=\"https://colab.research.google.com/assets/colab-badge.svg\" alt=\"Open In Colab\"/></a>"
      ]
    },
    {
      "cell_type": "code",
      "metadata": {
        "id": "6JZ0Dga0kLZ-",
        "outputId": "22c12d96-a4e5-470f-b3f9-69dde8d62784",
        "colab": {
          "base_uri": "https://localhost:8080/"
        }
      },
      "source": [
        "!pip install fuzzywuzzy\n",
        "!pip install python-Levenshtein"
      ],
      "execution_count": 5,
      "outputs": [
        {
          "output_type": "stream",
          "text": [
            "Requirement already satisfied: fuzzywuzzy in /usr/local/lib/python3.6/dist-packages (0.18.0)\n",
            "Collecting python-Levenshtein\n",
            "\u001b[?25l  Downloading https://files.pythonhosted.org/packages/42/a9/d1785c85ebf9b7dfacd08938dd028209c34a0ea3b1bcdb895208bd40a67d/python-Levenshtein-0.12.0.tar.gz (48kB)\n",
            "\u001b[K     |████████████████████████████████| 51kB 1.3MB/s \n",
            "\u001b[?25hRequirement already satisfied: setuptools in /usr/local/lib/python3.6/dist-packages (from python-Levenshtein) (50.3.2)\n",
            "Building wheels for collected packages: python-Levenshtein\n",
            "  Building wheel for python-Levenshtein (setup.py) ... \u001b[?25l\u001b[?25hdone\n",
            "  Created wheel for python-Levenshtein: filename=python_Levenshtein-0.12.0-cp36-cp36m-linux_x86_64.whl size=144799 sha256=8bf571464d9b601ea10e2da95f813613b6a5dee068dec86313329b2d8be04205\n",
            "  Stored in directory: /root/.cache/pip/wheels/de/c2/93/660fd5f7559049268ad2dc6d81c4e39e9e36518766eaf7e342\n",
            "Successfully built python-Levenshtein\n",
            "Installing collected packages: python-Levenshtein\n",
            "Successfully installed python-Levenshtein-0.12.0\n"
          ],
          "name": "stdout"
        }
      ]
    },
    {
      "cell_type": "code",
      "metadata": {
        "id": "suyfKJxTkCeN",
        "outputId": "f9107bbb-35eb-4f0c-a8e0-b2d60c7d9e80",
        "colab": {
          "base_uri": "https://localhost:8080/"
        }
      },
      "source": [
        "from fuzzywuzzy import process\n",
        "str2Match = \"apple inc\"\n",
        "strOptions = [\"Apple Inc.\",\"apple park\",\"apple incorporated\",\"iphone\"]\n",
        "Ratios = process.extract(str2Match,strOptions)\n",
        "print(Ratios)\n",
        "# You can also select the string with the highest matching percentage\n",
        "highest = process.extractOne(str2Match,strOptions)\n",
        "print(highest)\n"
      ],
      "execution_count": 6,
      "outputs": [
        {
          "output_type": "stream",
          "text": [
            "[('Apple Inc.', 100), ('apple incorporated', 90), ('apple park', 67), ('iphone', 40)]\n",
            "('Apple Inc.', 100)\n"
          ],
          "name": "stdout"
        }
      ]
    },
    {
      "cell_type": "code",
      "metadata": {
        "id": "D6gfCks8k-Sc",
        "outputId": "20680be9-8b11-432e-f71b-b0e5d5483ada",
        "colab": {
          "base_uri": "https://localhost:8080/"
        }
      },
      "source": [
        "from fuzzywuzzy import fuzz\n",
        "Str1 = \"Apple Inc.\"\n",
        "Str2 = \"apple Inc\"\n",
        "Ratio = fuzz.ratio(Str1.lower(),Str2.lower())\n",
        "print(Ratio)"
      ],
      "execution_count": 9,
      "outputs": [
        {
          "output_type": "stream",
          "text": [
            "95\n"
          ],
          "name": "stdout"
        }
      ]
    },
    {
      "cell_type": "code",
      "metadata": {
        "id": "VUdCBVQOkyso",
        "outputId": "be405c9b-89e9-4450-ca81-16b79ed8be41",
        "colab": {
          "base_uri": "https://localhost:8080/"
        }
      },
      "source": [
        "Str1 = \"The supreme court case of Nixon vs The United States\"\n",
        "Str2 = \"Nixon v. United States\"\n",
        "Ratio = fuzz.ratio(Str1.lower(),Str2.lower())\n",
        "Partial_Ratio = fuzz.partial_ratio(Str1.lower(),Str2.lower())\n",
        "Token_Sort_Ratio = fuzz.token_sort_ratio(Str1,Str2)\n",
        "Token_Set_Ratio = fuzz.token_set_ratio(Str1,Str2)\n",
        "print(Ratio)\n",
        "print(Partial_Ratio)\n",
        "print(Token_Sort_Ratio)\n",
        "print(Token_Set_Ratio)"
      ],
      "execution_count": 10,
      "outputs": [
        {
          "output_type": "stream",
          "text": [
            "57\n",
            "77\n",
            "58\n",
            "95\n"
          ],
          "name": "stdout"
        }
      ]
    }
  ]
}