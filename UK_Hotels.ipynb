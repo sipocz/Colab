{
  "nbformat": 4,
  "nbformat_minor": 0,
  "metadata": {
    "colab": {
      "name": "UK_Hotels.ipynb",
      "provenance": [],
      "collapsed_sections": [],
      "authorship_tag": "ABX9TyOjiVrs7E4eBBIC31o/nlnd",
      "include_colab_link": true
    },
    "kernelspec": {
      "name": "python3",
      "display_name": "Python 3"
    }
  },
  "cells": [
    {
      "cell_type": "markdown",
      "metadata": {
        "id": "view-in-github",
        "colab_type": "text"
      },
      "source": [
        "<a href=\"https://colab.research.google.com/github/sipocz/Colab/blob/main/UK_Hotels.ipynb\" target=\"_parent\"><img src=\"https://colab.research.google.com/assets/colab-badge.svg\" alt=\"Open In Colab\"/></a>"
      ]
    },
    {
      "cell_type": "code",
      "metadata": {
        "id": "uC_L1c0zIxNs"
      },
      "source": [
        "import requests\r\n",
        "from bs4 import  BeautifulSoup\r\n",
        "from google.colab import drive\r\n",
        "import time"
      ],
      "execution_count": 5,
      "outputs": []
    },
    {
      "cell_type": "code",
      "metadata": {
        "id": "ptsAtcV8IKtt"
      },
      "source": [
        "url=\"https://www.google.com/travel/hotels/Greater%20Manchester/entity/ChoI5aD1ytnet-bKARoNL2cvMTFqMGhiOWs0eBAB?g2lb=2502548%2C2503781%2C4258168%2C4270442%2C4306835%2C4317915%2C4328159%2C4371335%2C4401769%2C4419364%2C4463666%2C4466981%2C4482194%2C4482438%2C4486153%2C4491350%2C4495816%2C4496891%2C4503421%2C4507899%2C4270859%2C4284970%2C4291517&hl=en-BD&gl=bd&ap=EgRDT1FCMANoAA&rp=OAFAAEgC&ictx=1&sa=X&utm_campaign=sharing&utm_medium=link&utm_source=htls&ts=CAESABpdCj8SOzIlMHg0ODdiYTY1NGQzODgyZWIxOjB4MmNjN2Q4MjIyMWM2ODA4MToSR3JlYXRlciBNYW5jaGVzdGVyGgASGhIUCgcI5Q8QAxgJEgcI5Q8QAxgKGAEyAggCKg8KCygBSgIgAToDQkRUGgA&ved=0CEEQyvcEahgKEwjo4di43PjuAhUAAAAAHQAAAAAQ5iI\"\r\n",
        "url=\"https://www.google.com/travel/hotels/Lancashire/entity/CgsIosmk5svki6_jARABGnxBR1pJRWdha0xqdlI0OXNLV2Vrc3c3bFdwdTY1LTZZUTVRNjgtVExQVzRCUU5JdUZSOTJMcWdRX09YVVRsVnZsQkROb1FhLWptTmpCeUFXVmlabEczekRqR2hLcTdsei1DWHRYMDZLNVdiWjdvT0tTdkJVZ2c0X2NpS3RC?g2lb=2502548%2C2503781%2C4258168%2C4270442%2C4306835%2C4317915%2C4328159%2C4371335%2C4401769%2C4419364%2C4463666%2C4466981%2C4482194%2C4482438%2C4486153%2C4491350%2C4495816%2C4496891%2C4503421%2C4507899%2C4270859%2C4284970%2C4291517&hl=en-BD&gl=bd&ap=MABoAA&rp=OAFAAEgC&ictx=1&sa=X&utm_campaign=sharing&utm_medium=link&utm_source=htls&ts=CAESABpVCjcSMzIlMHg0ODdhNGQ0YzUyMjZmNWRiOjB4YjU0OTdkZDEwYzQ2MWI2NToKTGFuY2FzaGlyZRoAEhoSFAoHCOUPEAMYCRIHCOUPEAMYChgBMgIIAioPCgsoAUoCIAE6A0JEVBoA&ved=2ahUKEwiP7Zm61_juAhUbi2YCHWRHAigQyvcEegUIARCyAQ\"\r\n",
        "\r\n",
        "url=\"https://www.google.com/travel/hotels/Lancashire/entity/ChgIzreGr7_-ruaVARoLL2cvMXZycTk1YnEQAQ?g2lb=2502548%2C2503781%2C4258168%2C4270442%2C4306835%2C4317915%2C4328159%2C4371335%2C4401769%2C4419364%2C4463666%2C4466981%2C4482194%2C4482438%2C4486153%2C4491350%2C4495816%2C4496891%2C4503421%2C4507899%2C4270859%2C4284970%2C4291517&hl=en-BD&gl=bd&ap=MABoAA&rp=OAFAAEgC&ictx=1&sa=X&utm_campaign=sharing&utm_medium=link&utm_source=htls&ts=CAESABpVCjcSMzIlMHg0ODdhNGQ0YzUyMjZmNWRiOjB4YjU0OTdkZDEwYzQ2MWI2NToKTGFuY2FzaGlyZRoAEhoSFAoHCOUPEAMYCRIHCOUPEAMYChgBMgIIAioPCgsoAUoCIAE6A0JEVBoA&ved=2ahUKEwiP7Zm61_juAhUbi2YCHWRHAigQyvcEegUIARDIAQ\"\r\n",
        "url2=\"https://www.google.com/travel/hotels/Lancashire/entity/CgsIq8PX4ue5taDVARABGntBR1pJRWdiNEl2NkFfUjA0elAzU1RJUWZLRXBkbEFmR0hLSXFjWmE1R1luNVN3cEphYTlJaUpjaHo0cGRfdTd6TldaZC0tcjJ6dlY2bksyc0ROZ0c5ZjZMeGM2bXl0MGtUbHZiYTFCTHFhcWVjeWlWQ0hObkJUa19nV28?g2lb=2502548%2C2503781%2C4258168%2C4270442%2C4306835%2C4317915%2C4328159%2C4371335%2C4401769%2C4419364%2C4463666%2C4466981%2C4482194%2C4482438%2C4486153%2C4491350%2C4495816%2C4496891%2C4503421%2C4507899%2C4270859%2C4284970%2C4291517&hl=en-BD&gl=bd&ap=MABoAA&rp=OAFAAEgC&ictx=1&sa=X&utm_campaign=sharing&utm_medium=link&utm_source=htls&ts=CAESABpVCjcSMzIlMHg0ODdhNGQ0YzUyMjZmNWRiOjB4YjU0OTdkZDEwYzQ2MWI2NToKTGFuY2FzaGlyZRoAEhoSFAoHCOUPEAMYCRIHCOUPEAMYChgBMgIIAioPCgsoAUoCIAE6A0JEVBoA&ved=2ahUKEwiP7Zm61_juAhUbi2YCHWRHAigQyvcEegUIARCcAQ\"\r\n",
        "\r\n",
        "\r\n",
        "\r\n"
      ],
      "execution_count": 48,
      "outputs": []
    },
    {
      "cell_type": "code",
      "metadata": {
        "id": "ku63o411QA9T"
      },
      "source": [
        "def slicer(stri):\r\n",
        "    o=stri.split(\",\")\r\n",
        "    print(o)"
      ],
      "execution_count": 63,
      "outputs": []
    },
    {
      "cell_type": "code",
      "metadata": {
        "id": "dezb-jcqRl6Y"
      },
      "source": [
        "createUKaddr"
      ],
      "execution_count": null,
      "outputs": []
    },
    {
      "cell_type": "code",
      "metadata": {
        "id": "M7mss1H_ISsL"
      },
      "source": [
        "def query_all_info(url):\r\n",
        "    header={'User-Agent':\"Mozilla/5.0 (Windows NT 10.0; Win64; x64) AppleWebKit/537.36 (KHTML, like Gecko) Chrome/86.0.4240.75 Safari/537.36\"}\r\n",
        "   \r\n",
        "\r\n",
        "    res=requests.get(url,headers=header)\r\n",
        "    #print (res.text)\r\n",
        "    soup=BeautifulSoup(res.text,\"html.parser\")\r\n",
        "    allinfo=soup.find_all(\"div\",class_=\"K4nuhf\")\r\n",
        "    addr=soup.find_all(\"span\",class_=\"CFH2De\")\r\n",
        "    \r\n",
        "    phone_num=soup.find_all(\"span\",class_=\"CFH2De\" ,dir=\"ltr\")\r\n",
        "    #print(addr)\r\n",
        "    o=[]\r\n",
        "    i=\"\"\r\n",
        "    if len(addr[0].text)<14:\r\n",
        "        i=addr[1].text\r\n",
        "        #print(addr[1].text)\r\n",
        "    else:\r\n",
        "        i=addr[0].text\r\n",
        "        #print(addr[0].text)\r\n",
        "    o.append(i)\r\n",
        "    #print(res)\r\n",
        "    i=(phone_num[0].text)\r\n",
        "    o.append(i)\r\n",
        "    return(o)\r\n"
      ],
      "execution_count": 60,
      "outputs": []
    },
    {
      "cell_type": "code",
      "metadata": {
        "id": "IcTOEzgAIlQJ"
      },
      "source": [
        "o=query_all_info(url)"
      ],
      "execution_count": 65,
      "outputs": []
    },
    {
      "cell_type": "code",
      "metadata": {
        "colab": {
          "base_uri": "https://localhost:8080/"
        },
        "id": "pGwODsZoRY5E",
        "outputId": "f1ecfc49-c92a-4534-fb85-fbca56cf0342"
      },
      "source": [
        "slicer(o[0])"
      ],
      "execution_count": 66,
      "outputs": [
        {
          "output_type": "stream",
          "text": [
            "['Garstang Rd', ' Broughton', ' Preston PR3 5JB', ' United Kingdom']\n"
          ],
          "name": "stdout"
        }
      ]
    }
  ]
}