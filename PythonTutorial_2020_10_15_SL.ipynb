{
  "nbformat": 4,
  "nbformat_minor": 0,
  "metadata": {
    "colab": {
      "name": "PythonTutorial_2020_10_15_SL.ipynb",
      "provenance": [],
      "collapsed_sections": [],
      "include_colab_link": true
    },
    "kernelspec": {
      "name": "python3",
      "display_name": "Python 3"
    }
  },
  "cells": [
    {
      "cell_type": "markdown",
      "metadata": {
        "id": "view-in-github",
        "colab_type": "text"
      },
      "source": [
        "<a href=\"https://colab.research.google.com/github/sipocz/Colab/blob/main/PythonTutorial_2020_10_15_SL.ipynb\" target=\"_parent\"><img src=\"https://colab.research.google.com/assets/colab-badge.svg\" alt=\"Open In Colab\"/></a>"
      ]
    },
    {
      "cell_type": "markdown",
      "metadata": {
        "id": "pbNySe8pm89h"
      },
      "source": [
        "# Python\n",
        "https://www.python.org/"
      ]
    },
    {
      "cell_type": "markdown",
      "metadata": {
        "id": "idJ7u-Zbm2lV"
      },
      "source": [
        "##Jellemzők\n",
        "*   Interpretált nyelv, vagyis nincs szükség fordítóra (~ amit látsz a kódban leírva, az van végrehajtva)\n",
        "*   Jól olvasható\n",
        "*   Indentálás számít!! Az osztja blokkokra a kódot.\n",
        "*   Dinamikus típushozzárendelés: amikor egy változónak értéket adsz (i.e. hozzárendelsz egy objektumot) akkor a változó megkapja az objektum típusát.\n"
      ]
    },
    {
      "cell_type": "code",
      "metadata": {
        "id": "sMptpXohVMKT"
      },
      "source": [
        "# \"Jól olvasható\"\n",
        "condition1 = False\n",
        "condition2 = False\n",
        "name = 'Jimmy'\n",
        "if condition1 or condition2:\n",
        "  print(\"Say hello to \" + name + \"!\")\n",
        "\n",
        "#Ugyanez C++-ban valami hasonló lenne\n",
        "# #include <cstdio>\n",
        "#  bool condition1 = true;\n",
        "#  bool condition2 = false;\n",
        "#  char name[] = \"Jimmy\";\n",
        "# if(condition1 || condition2)\n",
        "# {\n",
        "#     printf(\"Say hello to %s !\", name);\n",
        "# }"
      ],
      "execution_count": 1,
      "outputs": []
    },
    {
      "cell_type": "markdown",
      "metadata": {
        "id": "1uTRR_bhqbM-"
      },
      "source": [
        "\n",
        "###Alapvető szintaxis"
      ]
    },
    {
      "cell_type": "code",
      "metadata": {
        "id": "9sfxXLCPqE4R",
        "outputId": "33e03e8c-8c5b-4cd0-b826-6ef35732d537",
        "colab": {
          "base_uri": "https://localhost:8080/",
          "height": 105
        }
      },
      "source": [
        "# A komment sorok #-val kezdődnek\n",
        "\n",
        "print(1) # a kifejezések mögé nem kell ; és tipikusan 1 sorba szokás őket írni\n",
        "print \\\n",
        "(\"Python\") # ha mindenképp elkerülhetetlen, akkor a \\ segítségével az utasítás következő sorban folytatható\n",
        "\n",
        "a = 1 # értékadás\n",
        "\n",
        "b = (123 +\n",
        "     32 +\n",
        "     44)\n",
        "print(b)\n",
        "print(\"Welcome\",\n",
        "     \"to\",\n",
        "     \"Python!\")\n",
        "\n",
        "# Ha mindenképp több kifejezést akarnánk egy sorba írni, használjuk a ;-t. De inkább ne tegyük! :-)\n",
        "x = 24; print(x)"
      ],
      "execution_count": null,
      "outputs": [
        {
          "output_type": "stream",
          "text": [
            "1\n",
            "Python\n",
            "199\n",
            "Welcome to Python!\n",
            "24\n"
          ],
          "name": "stdout"
        }
      ]
    },
    {
      "cell_type": "markdown",
      "metadata": {
        "id": "6s8xWcMAq6FX"
      },
      "source": [
        "\n",
        "###Indentálás\n",
        "A sor elején lévő white space (space vagy tab) nagysága befolyásolja a végrehajtást. \n",
        "Ha két kifejezés\n",
        "\n",
        "* azonos indentációs szinten van, és\n",
        "* köztük nincs más kifejezés más indentációval akkor azonos blokkba tartoznak."
      ]
    },
    {
      "cell_type": "code",
      "metadata": {
        "id": "7EluWDlFiWwG",
        "outputId": "51d55b54-ef04-459d-822e-8ee88777c314",
        "colab": {
          "base_uri": "https://localhost:8080/",
          "height": 52
        }
      },
      "source": [
        "#Indentálás osztja blokkokra a kódot\n",
        "name = 'Joey'\n",
        "if name == 'Joey': \n",
        "  print(\"Hey! How you doin'?\") # if blokkon belül (fut)\n",
        "else:\n",
        "  print(\"Hello!\") #else blokkon belül (nem fut le)\n",
        "  print(\"What's up?\") #else blokkon belül (nem fut le)\n",
        "print(\"Hello there!\") #else blokkon kívül (fut)\n"
      ],
      "execution_count": null,
      "outputs": [
        {
          "output_type": "stream",
          "text": [
            "Hey! How you doin'?\n",
            "Hello there!\n"
          ],
          "name": "stdout"
        }
      ]
    },
    {
      "cell_type": "code",
      "metadata": {
        "id": "rpPr4qDbmveg"
      },
      "source": [
        " #Az indentálás nem csak ajánlás, kötelező figyelni rá!\n",
        " name = \"Joe\"\n",
        " age = 29 # rossz indentálás hibát eredményez"
      ],
      "execution_count": null,
      "outputs": []
    },
    {
      "cell_type": "markdown",
      "metadata": {
        "id": "P5FFaTDKpA7u"
      },
      "source": [
        "Mitől \"rossz\" a fenti indentálás? \n",
        "Nem következetes!\n",
        "Használhatunk akárhány space-t vagy tabot a lényeg, hogy következetes legyen blokkon belül.   Bevett szokás a **4 space** használata."
      ]
    },
    {
      "cell_type": "markdown",
      "metadata": {
        "id": "G1dCrVYDtvpc"
      },
      "source": [
        "\n",
        "###Dinamikus Típushozzárendelés"
      ]
    },
    {
      "cell_type": "code",
      "metadata": {
        "id": "a3ugVOdab_q9",
        "outputId": "fd64ab4e-85e1-4299-d6cb-bc3a94817ed1",
        "colab": {
          "base_uri": "https://localhost:8080/",
          "height": 173
        }
      },
      "source": [
        "#Dinamikus típushozzárendelsé\n",
        "a = 7\n",
        "print(a)\n",
        "print(type(a))\n",
        "print(id(a)) #az id() függvény visszaadja az objektum egyedi azonosítóját\n",
        "\n",
        "a = \"hét\"\n",
        "print(a)\n",
        "print(type(a))\n",
        "print(id(a))\n",
        "\n",
        "a = 7.0\n",
        "print(a)\n",
        "print(type(a))\n",
        "print(id(a))"
      ],
      "execution_count": null,
      "outputs": [
        {
          "output_type": "stream",
          "text": [
            "7\n",
            "<class 'int'>\n",
            "10914688\n",
            "hét\n",
            "<class 'str'>\n",
            "139757738370112\n",
            "7.0\n",
            "<class 'float'>\n",
            "139757738952024\n"
          ],
          "name": "stdout"
        }
      ]
    },
    {
      "cell_type": "markdown",
      "metadata": {
        "id": "lddycFm2XPRk"
      },
      "source": [
        "## Python alapkövei\n",
        "\n",
        "(https://www.techbeamers.com/python-keywords-identifiers-variables/)\n",
        "1.   Kulcsszavak:\n",
        "      33 (case sensitive) kulcszó, ami nem használható másra. pl. True, False, for, while, with, if, def, return, ...\n",
        "\n",
        "2.   Azonosítók:\n",
        "      a felhasználó által definiált nevek pl. osztályok, változók, függvények nevei\n",
        "3.   Változók:\n",
        "      A változó egy memória címet takar, amire tudunk hivatkozni a változó nevével."
      ]
    },
    {
      "cell_type": "code",
      "metadata": {
        "id": "2w94MEC6blda",
        "outputId": "b92922ba-301a-44fe-86bf-0ae7260838ef",
        "colab": {
          "base_uri": "https://localhost:8080/",
          "height": 54
        }
      },
      "source": [
        "# A kulcsszavak listája\n",
        "import keyword\n",
        "print(keyword.kwlist)"
      ],
      "execution_count": null,
      "outputs": [
        {
          "output_type": "stream",
          "text": [
            "['False', 'None', 'True', 'and', 'as', 'assert', 'break', 'class', 'continue', 'def', 'del', 'elif', 'else', 'except', 'finally', 'for', 'from', 'global', 'if', 'import', 'in', 'is', 'lambda', 'nonlocal', 'not', 'or', 'pass', 'raise', 'return', 'try', 'while', 'with', 'yield']\n"
          ],
          "name": "stdout"
        }
      ]
    },
    {
      "cell_type": "code",
      "metadata": {
        "id": "sSA0vXMnYAAE"
      },
      "source": [
        "var_a = 10\n",
        "# a fenti sor létrehoz egy int típusú 10 értékű objektumot\n",
        "# létrehozza a var_a nevű változót\n",
        "# létrehozza az asszociációt a változó és az objektum között (var_a lesz az új objektum azonosítója)"
      ],
      "execution_count": null,
      "outputs": []
    },
    {
      "cell_type": "markdown",
      "metadata": {
        "id": "IADa_77Xvxjk"
      },
      "source": [
        "### Típusok\n",
        "####1. Boolean \n",
        "   True/False (1/0) if condition==True:  ua. if condition:"
      ]
    },
    {
      "cell_type": "code",
      "metadata": {
        "id": "EcNgrbCXvzf4",
        "outputId": "97823bdc-8614-4b1b-97fc-6403c86419ae",
        "colab": {
          "base_uri": "https://localhost:8080/",
          "height": 123
        }
      },
      "source": [
        "a = True; b = False\n",
        "print(type(a))\n",
        "print(a and b) # Logikai és\n",
        "print(a or b) # Logikai vagy\n",
        "print(not a) # Negáció\n",
        "print(a == b) # Egyenlőség ellenőrzés\n",
        "print(a != b) # Nem egyenlő (bool esetén XOR)\n",
        "\n",
        "c = True\n",
        "if c:\n",
        "  print(\"c is\", c)"
      ],
      "execution_count": null,
      "outputs": [
        {
          "output_type": "stream",
          "text": [
            "<class 'bool'>\n",
            "False\n",
            "True\n",
            "False\n",
            "True\n",
            "c is True\n"
          ],
          "name": "stdout"
        }
      ]
    },
    {
      "cell_type": "markdown",
      "metadata": {
        "id": "tA6KkwNfasnQ"
      },
      "source": [
        "####2. Numbers \n",
        "   int, float, complex"
      ]
    },
    {
      "cell_type": "code",
      "metadata": {
        "id": "gdIKx2zZwZHQ",
        "outputId": "7c65fc6b-5fa4-4155-ddc6-1c4d8ef60595",
        "colab": {
          "base_uri": "https://localhost:8080/",
          "height": 252
        }
      },
      "source": [
        "#Integer\n",
        "a = 5; b = 2 # Értékadás bármilyen változóhoz\n",
        "\n",
        "print(type(a))\n",
        "print(a + b) # Összeadás\n",
        "print(2 - 5) # Kivonás\n",
        "print(a * b) # Szorzás\n",
        "print(a ** b) # Hatványozás\n",
        "print(a // b) # Egész osztás / \"maradékos osztás\" (floor) \n",
        "print(a % b) # Maradékképzés (modulus)\n",
        "print(a / 2) # Osztás -- eredménye lebegőpontos lehet!!\n",
        "print(type(a / 2))\n",
        "\n",
        "# Float\n",
        "c = 2.5\n",
        "print(type(c))\n",
        "d = 3. # Ez egy LEBEGŐPONTOS szám a tizedes pont miatt!\n",
        "# Minden fenti művelet lebegőpontosan is érvényes:\n",
        "print(c + d)\n",
        "print(d % c)\n",
        "print(10 ** 100) # Tetszőleges pontosságú integer\n",
        "print(10. ** 100) # Lebegőpontos"
      ],
      "execution_count": null,
      "outputs": [
        {
          "output_type": "stream",
          "text": [
            "<class 'int'>\n",
            "7\n",
            "-3\n",
            "10\n",
            "25\n",
            "2\n",
            "1\n",
            "2.5\n",
            "<class 'float'>\n",
            "<class 'float'>\n",
            "5.5\n",
            "0.5\n",
            "10000000000000000000000000000000000000000000000000000000000000000000000000000000000000000000000000000\n",
            "1e+100\n"
          ],
          "name": "stdout"
        }
      ]
    },
    {
      "cell_type": "markdown",
      "metadata": {
        "id": "-5Gbjix1v8w2"
      },
      "source": [
        "\n",
        "####3. String\n",
        " * ' ', \" \", ''' ''' \n",
        " * függvényei: uppoer, lower, zfill, find, count, replace"
      ]
    },
    {
      "cell_type": "code",
      "metadata": {
        "id": "KtBNhhizwZ8w",
        "outputId": "70793a6f-ed7e-4f03-bfd7-04b6d9a2e850",
        "colab": {
          "base_uri": "https://localhost:8080/",
          "height": 252
        }
      },
      "source": [
        "# String-ek\n",
        "\n",
        "\n",
        "a = \"ArtIficial\" # Aposztróf és macskaköröm egyaránt megengedett\n",
        "b = 'Intelligence' \n",
        "print(type(a))\n",
        "print(len(a)) # A len() funkció a stringek hosszával tér vissza\n",
        "c = \"\"\"\n",
        "A sima stringek is lehetnek több sorosak\n",
        "ha három macskaköröm közt vannak\n",
        "(ez esetben sortörés karakter lesz bennük)\n",
        "\"\"\"\n",
        "print(c)\n",
        "s = \" \"\n",
        "print(a + s + b) # Konkatenáció\n",
        "print('%s %s %d' % (a, b, 2020.1)) # A hagyományos string formázások használhatóak\n",
        "print(f\"Human {b}\") # A Python 3.6-tól kezdődően a string interpoláció is használható 'f' előtagú stringeknél.\n",
        "\n",
        "\n",
        "\n",
        "'This string is not assigned to any variable. Python will ignor it!'\n",
        "\n",
        "\"\"\"Strings standing alone in the code (so called docstrings)\n",
        "can also be used as comments/documentation.\"\"\" # Ha egy string nincs változóhoz rendelve a Python nem foglalkozik vele, lehet kommentként, függvény leírásként használni\n",
        "\n",
        "print(a.upper(), b.lower()) #string osztály függvényei\n",
        "print(a[0]+b[0])\n",
        "print(a.lower().count('i'))#megszámolja a paraméterként megadott substring előfordulásait\n",
        "\n",
        "d = a + s + b\n",
        "#Feladat:\n",
        "#hogyan tudnánk elérni, hogy az összes i betűt számolja a d változóban? (függetlenül attól, hogy kicsi vagy nagy)\n",
        "#print(d.???)\n",
        "aa={\"a\",\"b\",\"c\"}\n",
        "aa.add(\"asd\")\n",
        "print(aa)\n"
      ],
      "execution_count": null,
      "outputs": [
        {
          "output_type": "stream",
          "text": [
            "<class 'str'>\n",
            "10\n",
            "\n",
            "A sima stringek is lehetnek több sorosak\n",
            "ha három macskaköröm közt vannak\n",
            "(ez esetben sortörés karakter lesz bennük)\n",
            "\n",
            "ArtIficial Intelligence\n",
            "ArtIficial Intelligence 2020\n",
            "Human Intelligence\n",
            "ARTIFICIAL intelligence\n",
            "AI\n",
            "3\n",
            "{'a', 'asd', 'b', 'c'}\n"
          ],
          "name": "stdout"
        }
      ]
    },
    {
      "cell_type": "markdown",
      "metadata": {
        "id": "JhQOjiQdXIOy"
      },
      "source": [
        "Stringek formázása:"
      ]
    },
    {
      "cell_type": "code",
      "metadata": {
        "id": "lzi4sIGtXQCo",
        "outputId": "8972f88f-2460-4899-eb83-99c3bbcdbe37",
        "colab": {
          "base_uri": "https://localhost:8080/",
          "height": 158
        }
      },
      "source": [
        "user1 = 'Bob'\n",
        "user2 = 'Alice'\n",
        "\n",
        "#Hagyományos formázás\n",
        "print('Hello, %s!' %user1)\n",
        "print('Hello, %s and %s!' %(user1, user2))\n",
        "\n",
        "#illetve nevet is adhatunk a helyesttesítendő változónak:\n",
        "print('Hello, %(name)s!!' % {\"name\":user1})\n",
        "\n",
        "#\"New style\" format\n",
        "print('Hello, {}!!!'.format(user1))\n",
        "\n",
        "#illetve névadással tetszőleges sorrendben történhet a helyettesítés\n",
        "print('Hello, {name1}, hi {name2}!'.format(name1=user1,name2=user2))\n",
        "\n",
        "#és\n",
        "print('Hello, {name1}, hi {name2}!'.format(name1=user2,name2=user1))\n",
        "\n",
        "#'Legújabb' mód: f-string (literal string interpolation), JavaScript-szerű\n",
        "#Tetszőleges python kifejezéseket is be lehet rakni, értelmező feldolgozza\n",
        "\n",
        "print(f'Hello, {user1}!')\n",
        "\n",
        "a=2; b=3\n",
        "print(f'a meg b = {a+b} és nem {2*(a+b)}')"
      ],
      "execution_count": null,
      "outputs": [
        {
          "output_type": "stream",
          "text": [
            "Hello, Bob!\n",
            "Hello, Bob és Alice!\n",
            "Hello, Bob!!\n",
            "Hello, Bob!!!\n",
            "Hello, Bob, hi Alice!\n",
            "Hello, Alice, hi Bob!\n",
            "Hello, Bob!\n",
            "a meg b = 5 és nem 10\n"
          ],
          "name": "stdout"
        }
      ]
    },
    {
      "cell_type": "markdown",
      "metadata": {
        "id": "ShZmPkHpwCCv"
      },
      "source": [
        "####4. Bytes: \n",
        "   0 és 255 közötti értékek sorozata"
      ]
    },
    {
      "cell_type": "code",
      "metadata": {
        "id": "9RN0vZ1RwagZ",
        "outputId": "08c5ca53-5269-4a3a-c526-468dc958364e",
        "colab": {
          "base_uri": "https://localhost:8080/",
          "height": 87
        }
      },
      "source": [
        "string = \"Python\"\n",
        "\n",
        "# string with encoding 'utf-8'\n",
        "arr = bytes(string, 'utf-8')\n",
        "print(arr)\n",
        "print(type(arr))\n",
        "print(len(arr)) #az arr hossza\n",
        "print(arr[0]) #a bytes array első eleme: integer 0 és 255 között"
      ],
      "execution_count": null,
      "outputs": [
        {
          "output_type": "stream",
          "text": [
            "b'Python'\n",
            "<class 'bytes'>\n",
            "6\n",
            "80\n"
          ],
          "name": "stdout"
        }
      ]
    },
    {
      "cell_type": "markdown",
      "metadata": {
        "id": "E-uBfJGzwGG-"
      },
      "source": [
        "####5. Lists [ , ]:\n",
        " * tetszőleges objektumokat tud tárolni sorba rendezve\n",
        " * zero indexű\n",
        " * nincs fix mérete\n",
        " * ismétlés megengedett\n",
        " * beágyazás (lista a listában) megengedett\n",
        " * operátorok: +, *, \n",
        " * fv: append, extend, ...\n",
        " * iterable: for l in list: ..."
      ]
    },
    {
      "cell_type": "code",
      "metadata": {
        "id": "901_nDXdwbAt",
        "outputId": "d42fd891-554a-471b-a1f4-24c075faf30e",
        "colab": {
          "base_uri": "https://localhost:8080/",
          "height": 265
        }
      },
      "source": [
        "my_list = [\"apple\", \"banana\", \"cherry\", \"orange\", \"kiwi\", \"melon\", \"mango\"]\n",
        "#indexelés\n",
        "print(my_list[0])\n",
        "print(my_list[-1]) #hátulról indexelve\n",
        "print(my_list[2:4]) #megadhatunk tartományt is\n",
        "print(my_list[1:-2])\n",
        "print(my_list[1:]) #ha hiányzik a kezdő vagy végindex\n",
        "\n",
        "#lista bővítése\n",
        "my_list.append(7) \n",
        "my_list.append(True) \n",
        "my_list.append(['ez', 'egy', 'másik', 'lista']) \n",
        "print(my_list)\n",
        "\n",
        "#elemek megváltoztatása\n",
        "my_list2 = ['1', 'a', '1', 1, 21, False]\n",
        "print(my_list2)\n",
        "my_list2[-1] = True # elemek értéke változhat\n",
        "print(my_list2)\n",
        "\n",
        "#a lista elemein végig lehet iterálni:\n",
        "for x in my_list2: #végigmegyünk a lista elemein\n",
        "  print(x) # és egyesével kiírjuk őket"
      ],
      "execution_count": null,
      "outputs": [
        {
          "output_type": "stream",
          "text": [
            "apple\n",
            "mango\n",
            "['cherry', 'orange']\n",
            "['banana', 'cherry', 'orange', 'kiwi']\n",
            "['banana', 'cherry', 'orange', 'kiwi', 'melon', 'mango']\n",
            "['apple', 'banana', 'cherry', 'orange', 'kiwi', 'melon', 'mango', 7, True, ['ez', 'egy', 'másik', 'lista']]\n",
            "['1', 'a', '1', 1, 21, False]\n",
            "['1', 'a', '1', 1, 21, True]\n",
            "1\n",
            "a\n",
            "1\n",
            "1\n",
            "21\n",
            "True\n"
          ],
          "name": "stdout"
        }
      ]
    },
    {
      "cell_type": "markdown",
      "metadata": {
        "id": "1gfxLAIcwJ5d"
      },
      "source": [
        "####6. Tuple (,):\n",
        " * Olyan mint a lista, csak immutable\n",
        " * ilyen formában adja vissza a fügvény az eredményét"
      ]
    },
    {
      "cell_type": "code",
      "metadata": {
        "id": "-m9Xs-Mawbtw",
        "outputId": "7ab59bb4-c969-41af-d21b-e44ec58e1eb2",
        "colab": {
          "base_uri": "https://localhost:8080/",
          "height": 105
        }
      },
      "source": [
        "my_tuple = (\"apple\", \"banana\", \"cherry\", \"orange\", \"kiwi\", \"melon\", \"mango\")\n",
        "#indexelés\n",
        "print(my_tuple[0])\n",
        "print(my_tuple[-1]) #hátulról indexelve\n",
        "print(my_tuple[2:4]) #megadhatunk tartományt is\n",
        "print(my_tuple[1:-2])\n",
        "print(my_tuple[1:]) #ha hiányzik a kezdő vagy végindex\n",
        "\n",
        "#my_tuple.append(13) # nem bővíthető \n",
        "#my_tuple[1] = 'banán' # nem változtatható\n"
      ],
      "execution_count": null,
      "outputs": [
        {
          "output_type": "stream",
          "text": [
            "apple\n",
            "mango\n",
            "('cherry', 'orange')\n",
            "('banana', 'cherry', 'orange', 'kiwi')\n",
            "('banana', 'cherry', 'orange', 'kiwi', 'melon', 'mango')\n"
          ],
          "name": "stdout"
        }
      ]
    },
    {
      "cell_type": "markdown",
      "metadata": {
        "id": "U7e-z8r0wNhp"
      },
      "source": [
        "####7. Set { , }:\n",
        " * immutable objektumokat tárolhat, \n",
        " * nincs sorbarendezés, nincs ismétlés\n",
        " * bármilyen iterable objectből elő lehet állítani egy setet\n",
        " * frozenset (immutable set)"
      ]
    },
    {
      "cell_type": "code",
      "metadata": {
        "id": "FWPihwDtwcKJ",
        "outputId": "f0b56871-0cfd-45ec-cda0-f424c2004abb",
        "colab": {
          "base_uri": "https://localhost:8080/",
          "height": 123
        }
      },
      "source": [
        "my_set = {'1', '2', 3}\n",
        "print(type(my_set))\n",
        "print(my_set)\n",
        "my_set.add('1') # egy elem csak egyszer szerepelhet\n",
        "print(my_set)\n",
        "\n",
        "print(3 in my_set) # Szerepel-e az objektum a halmazban\n",
        "my_set.add(True) # Objektumok hozzáadhatóak\n",
        "my_set.remove(3) # kivonhatóak\n",
        "print(my_set)\n",
        "\n",
        "sample_set = set(\"Python data types\") # bármilyen iterable objectből elő lehet állítani egy setet\n",
        "print(sample_set)"
      ],
      "execution_count": null,
      "outputs": [
        {
          "output_type": "stream",
          "text": [
            "<class 'set'>\n",
            "{3, '1', '2'}\n",
            "{3, '1', '2'}\n",
            "True\n",
            "{True, '1', '2'}\n",
            "{'o', ' ', 't', 'h', 'p', 'd', 'y', 'a', 'e', 's', 'P', 'n'}\n"
          ],
          "name": "stdout"
        }
      ]
    },
    {
      "cell_type": "markdown",
      "metadata": {
        "id": "UMN2GbAgwRYT"
      },
      "source": [
        "####8. Dictionary {'key' : value}:\n",
        " * kulcs-érték párok tárolására\n",
        " * kulcsok egyediek, de az értékek ismétlődhetnek\n",
        " * mutable (add, update, delete)\n",
        " * dict['new_key'] = new_value"
      ]
    },
    {
      "cell_type": "code",
      "metadata": {
        "id": "59qHwzHXwcwz",
        "outputId": "f3aee5ef-5837-4623-db35-87aab35483f7",
        "colab": {
          "base_uri": "https://localhost:8080/",
          "height": 153
        }
      },
      "source": [
        "my_dict = {'one': 1, 'two': 2}\n",
        "print(type(my_dict))\n",
        "print(my_dict)\n",
        "print(my_dict['one'])\n",
        "\n",
        "my_dict['three'] = '3' # új kulcs/érték páros hozzáadása\n",
        "my_dict['three'] = 3 # vagy a meglévő felülírása\n",
        "print(my_dict)\n",
        "print(my_dict.get(\"three\", \"key not in dict\")) # Visszaadja a kulcshoz tartozó értéket, HA van ilyen\n",
        "print(my_dict.get(\"four\", \"key not in dict\")) # ha nem, akkor a \"default\" értéket\n",
        "\n",
        "my_dict[4] = 'four' # a kulcs és az érték típusa is tetszőleges\n",
        "print(my_dict)\n",
        "del my_dict[4] # elem törlése a dict-ből\n",
        "my_dict[True] = False # a kulcs és az érték típusai is tetszőleges\n",
        "print(my_dict)\n"
      ],
      "execution_count": 2,
      "outputs": [
        {
          "output_type": "stream",
          "text": [
            "<class 'dict'>\n",
            "{'one': 1, 'two': 2}\n",
            "1\n",
            "{'one': 1, 'two': 2, 'three': 3}\n",
            "3\n",
            "key not in dict\n",
            "{'one': 1, 'two': 2, 'three': 3, 4: 'four'}\n",
            "{'one': 1, 'two': 2, 'three': 3, True: False}\n"
          ],
          "name": "stdout"
        }
      ]
    },
    {
      "cell_type": "markdown",
      "metadata": {
        "id": "0MWIpxB8eK1q"
      },
      "source": [
        "Mit jelent, hogy egy objektum mutable vagy immutable?\n",
        "![alt text](https://miro.medium.com/max/823/1*uFlTNY4W3czywyU18zxl8w.png)\n",
        "\n",
        "(forrás: https://medium.com/@meghamohan/mutable-and-immutable-side-of-python-c2145cf72747)"
      ]
    },
    {
      "cell_type": "code",
      "metadata": {
        "id": "M4Q-YSpeRmUZ",
        "outputId": "165b660d-f548-4eb9-98a1-ac87fcf74ebe",
        "colab": {
          "base_uri": "https://localhost:8080/",
          "height": 51
        }
      },
      "source": [
        "a = 1\n",
        "print(id(a))\n",
        "a = 2 # ez már nem ugyanaz: az a azonosító már egy másik objektumot takar\n",
        "print(id(a))"
      ],
      "execution_count": 3,
      "outputs": [
        {
          "output_type": "stream",
          "text": [
            "10914496\n",
            "10914528\n"
          ],
          "name": "stdout"
        }
      ]
    },
    {
      "cell_type": "markdown",
      "metadata": {
        "id": "f6fJMIwiJFkd"
      },
      "source": [
        "\n",
        "\n",
        "---\n",
        "\n",
        "\n",
        "##Gyakorlás I."
      ]
    },
    {
      "cell_type": "code",
      "metadata": {
        "id": "YC5wvI8bJICP",
        "outputId": "0680bbe8-f5b0-42fd-84de-8bb505487bd3",
        "colab": {
          "base_uri": "https://localhost:8080/",
          "height": 51
        }
      },
      "source": [
        "#I/1. Hozz létre három változót, a következő adatok tárolására: keresztnév, születési hónap, születési nap.\n",
        "# írd ki a három változót, úgy hogy a végeredmény valami hasonló legyen:\n",
        "# \"A nevem Tom és 7. hó 4. napján születtem.\" \n",
        "\n",
        "#I/2. Hozz létre egy dictionaryt, amiben tárolod James Bond adatait: név, ügynök szám, állampolgárság.\n",
        "#Irasd ki az elkészült dictionaryt! \n",
        "\n",
        "nev=\"Tom\"\n",
        "ho=7\n",
        "nap=4\n",
        "print(f\"A nevem {nev} és a {ho}. hó {nap}. napján születtem\")\n",
        "a={\"nev\":\"james bond\", \"usz\":\"007\", \"allampolg\":\"Eng\"}\n",
        "print(a)\n",
        "éva=5"
      ],
      "execution_count": 4,
      "outputs": [
        {
          "output_type": "stream",
          "text": [
            "A nevem Tom és a 7. hó 4. napján születtem\n",
            "{'nev': 'james bond', 'usz': '007', 'allampolg': 'Eng'}\n"
          ],
          "name": "stdout"
        }
      ]
    },
    {
      "cell_type": "markdown",
      "metadata": {
        "id": "IZ9gcPbJRSrc"
      },
      "source": [
        "### Operátorok\n",
        "1. Arithmetic: +, -, *, /, //, %, * *\n",
        "2. Comparison: >, < ==, !=, >=, <=\n",
        "3. Logical: and, or, not \n",
        "4. Assignment: =, +=, -=, *=, /=,..."
      ]
    },
    {
      "cell_type": "markdown",
      "metadata": {
        "id": "dZN0DVy8WMEj"
      },
      "source": [
        "### Flow Control\n",
        "1. if else\n",
        "2. while\n",
        "3. for\n",
        "4. **Nincs** switch case\n"
      ]
    },
    {
      "cell_type": "code",
      "metadata": {
        "id": "8enh9W7ESC3A",
        "outputId": "5ab7f542-9c33-4b17-8f06-76097a3281ca",
        "colab": {
          "base_uri": "https://localhost:8080/",
          "height": 34
        }
      },
      "source": [
        "#if else\n",
        "a = 7\n",
        "b = 21\n",
        "if a > b:\n",
        "  print(f\"{a} nagyobb, mint {b}\")\n",
        "elif a == b:\n",
        "  print(\"A két érték egyenlő\")\n",
        "else:\n",
        "  print(f\"{a} kisebb, mint {b}\")"
      ],
      "execution_count": null,
      "outputs": [
        {
          "output_type": "stream",
          "text": [
            "A 7 kisebb, mint a 21\n"
          ],
          "name": "stdout"
        }
      ]
    },
    {
      "cell_type": "code",
      "metadata": {
        "id": "r-dNC_h_gnES",
        "outputId": "98918352-ae04-4f4c-8617-aa4b1ad0f9b0",
        "colab": {
          "base_uri": "https://localhost:8080/",
          "height": 52
        }
      },
      "source": [
        "# if else in one line - Syntax\n",
        "# value_on_true if condition else value_on_false\n",
        "x = 7\n",
        "is_even = True if x%2==0 else False\n",
        "print(\"x is an even number: \", is_even)\n",
        "\n",
        "is_even_text = \"even\"  if x%2 == 0 else \"odd\"\n",
        "print(\"x is \" + is_even_text)"
      ],
      "execution_count": null,
      "outputs": [
        {
          "output_type": "stream",
          "text": [
            "x is an even number:  False\n",
            "x is odd\n"
          ],
          "name": "stdout"
        }
      ]
    },
    {
      "cell_type": "code",
      "metadata": {
        "id": "VuRDB5pPXD2F",
        "outputId": "38e02627-b452-4bdc-c767-6fce5439a8f4",
        "colab": {
          "base_uri": "https://localhost:8080/",
          "height": 105
        }
      },
      "source": [
        "# while\n",
        "\n",
        "i = 0\n",
        "while i < 5:\n",
        "  print(i)\n",
        "  i += 1\n"
      ],
      "execution_count": null,
      "outputs": [
        {
          "output_type": "stream",
          "text": [
            "0\n",
            "1\n",
            "2\n",
            "3\n",
            "4\n"
          ],
          "name": "stdout"
        }
      ]
    },
    {
      "cell_type": "code",
      "metadata": {
        "id": "yysLoh1gXQEB",
        "outputId": "77e5eacc-703d-4867-a262-5b5c106ec64f",
        "colab": {
          "base_uri": "https://localhost:8080/",
          "height": 156
        }
      },
      "source": [
        "#for\n",
        "\n",
        "my_lucky_numbers = [1,2,7,8,21,27,82,]\n",
        "print(\"These are my lucky numbers: \")\n",
        "for n in my_lucky_numbers:\n",
        "  print(n)"
      ],
      "execution_count": null,
      "outputs": [
        {
          "output_type": "stream",
          "text": [
            "These are my lucky numbers: \n",
            "1\n",
            "2\n",
            "7\n",
            "8\n",
            "21\n",
            "27\n",
            "82\n"
          ],
          "name": "stdout"
        }
      ]
    },
    {
      "cell_type": "code",
      "metadata": {
        "id": "9NU0i2O_0gVc",
        "outputId": "6797b1ee-4279-4676-c70a-7865d1ec8cee",
        "colab": {
          "base_uri": "https://localhost:8080/",
          "height": 153
        }
      },
      "source": [
        "name = \"Sheldon\"\n",
        "print()\n",
        "for c in name: #a stringeken is végig lehet lépkedni egy for ciklussal (iterable)\n",
        "  print(c.upper())"
      ],
      "execution_count": 5,
      "outputs": [
        {
          "output_type": "stream",
          "text": [
            "\n",
            "S\n",
            "H\n",
            "E\n",
            "L\n",
            "D\n",
            "O\n",
            "N\n"
          ],
          "name": "stdout"
        }
      ]
    },
    {
      "cell_type": "code",
      "metadata": {
        "id": "Afa0PGrFYmt9",
        "outputId": "9ebcbcab-e6ef-4330-a713-3a8d21431857",
        "colab": {
          "base_uri": "https://localhost:8080/",
          "height": 170
        }
      },
      "source": [
        "# for\n",
        "# ha az elemek indexére is szükség van:\n",
        "my_lucky_numbers = [1,2,7,8,21,27,82,]\n",
        "print(\"These are my lucky numbers: \")\n",
        "k=enumerate(my_lucky_numbers)\n",
        "for i, n in enumerate(my_lucky_numbers):\n",
        "  if i == 0:\n",
        "    print(f\"My {i+1}st lucky number is: {n}\")\n",
        "  elif i == 1:\n",
        "    print(f\"My {i+1}nd lucky number is: {n}\")\n",
        "  elif i == 2: \n",
        "    print(f\"My {i+1}rd lucky number is: {n}\")\n",
        "  else:\n",
        "    print(f\"My {i+1}th lucky number is: {n}\")\n",
        "print()"
      ],
      "execution_count": 6,
      "outputs": [
        {
          "output_type": "stream",
          "text": [
            "These are my lucky numbers: \n",
            "My 1st lucky number is: 1\n",
            "My 2nd lucky number is: 2\n",
            "My 3rd lucky number is: 7\n",
            "My 4th lucky number is: 8\n",
            "My 5th lucky number is: 21\n",
            "My 6th lucky number is: 27\n",
            "My 7th lucky number is: 82\n",
            "\n"
          ],
          "name": "stdout"
        }
      ]
    },
    {
      "cell_type": "code",
      "metadata": {
        "id": "uxO10YtfaAlb",
        "outputId": "e12ba6ca-dcd5-4d54-d123-6ba9e267acf4",
        "colab": {
          "base_uri": "https://localhost:8080/",
          "height": 85
        }
      },
      "source": [
        "# for\n",
        "# on dictionaries the for loop iterates on the dictionary keys\n",
        "\n",
        "for k in my_dict:\n",
        "  print(f\"Key: {k},\\t value: {my_dict[k]}\")"
      ],
      "execution_count": 7,
      "outputs": [
        {
          "output_type": "stream",
          "text": [
            "Key: one,\t value: 1\n",
            "Key: two,\t value: 2\n",
            "Key: three,\t value: 3\n",
            "Key: True,\t value: False\n"
          ],
          "name": "stdout"
        }
      ]
    },
    {
      "cell_type": "code",
      "metadata": {
        "id": "N7dD2aihapzb",
        "outputId": "9b7589fb-e04e-4698-8193-d0deeedfbe13",
        "colab": {
          "base_uri": "https://localhost:8080/",
          "height": 85
        }
      },
      "source": [
        "# for\n",
        "# on dictionary items (key-value pairs)\n",
        "\n",
        "for k, v in my_dict.items():\n",
        "  print(f\"Key: {k},\\t value: {v}\")"
      ],
      "execution_count": 8,
      "outputs": [
        {
          "output_type": "stream",
          "text": [
            "Key: one,\t value: 1\n",
            "Key: two,\t value: 2\n",
            "Key: three,\t value: 3\n",
            "Key: True,\t value: False\n"
          ],
          "name": "stdout"
        }
      ]
    },
    {
      "cell_type": "markdown",
      "metadata": {
        "id": "jF7Dmk29dinA"
      },
      "source": [
        "##Comprehensions\n",
        "A Python sajátos szintaxissal rendelkezik a kollekciók kollekciókból való képzéséhez. "
      ]
    },
    {
      "cell_type": "code",
      "metadata": {
        "id": "kVtrk_Aldmth",
        "outputId": "1d2865ee-3cd5-4e91-ea4d-126a374acb3e",
        "colab": {
          "base_uri": "https://localhost:8080/",
          "height": 85
        }
      },
      "source": [
        "#List comprehension\n",
        "# Ez nagyon jó !!!!!!!!!!!!\n",
        "n_list = [5,4,2,12,45,67,9]\n",
        "n_list2 = [i/2 for i in n_list if i>5]\n",
        "n_list3 = [idx for idx, i in enumerate(n_list) if i>5]\n",
        "n_list4=[idx for idx,i in enumerate(n_list) if i ==idx] # SL\n",
        "print(n_list)\n",
        "print(n_list2)\n",
        "print(n_list3)\n",
        "print(n_list4)"
      ],
      "execution_count": 20,
      "outputs": [
        {
          "output_type": "stream",
          "text": [
            "[5, 4, 2, 12, 45, 67, 9]\n",
            "[6.0, 22.5, 33.5, 4.5]\n",
            "[3, 4, 5, 6]\n",
            "[2]\n"
          ],
          "name": "stdout"
        }
      ]
    },
    {
      "cell_type": "code",
      "metadata": {
        "id": "QECEpKvxfBl1",
        "outputId": "18051012-9f4b-4ab4-b399-4b3bc92ff8e9",
        "colab": {
          "base_uri": "https://localhost:8080/",
          "height": 34
        }
      },
      "source": [
        "# Dictionary comprehension\n",
        "nums_with_squares = {i: i*i for i in n_list if i%2==0}\n",
        "print(nums_with_squares)"
      ],
      "execution_count": 21,
      "outputs": [
        {
          "output_type": "stream",
          "text": [
            "{4: 16, 2: 4, 12: 144}\n"
          ],
          "name": "stdout"
        }
      ]
    },
    {
      "cell_type": "code",
      "metadata": {
        "id": "cT28yhrIfJJY",
        "outputId": "8961ceec-50ea-4569-a99d-93d52c4f3fe7",
        "colab": {
          "base_uri": "https://localhost:8080/",
          "height": 34
        }
      },
      "source": [
        "# Set comprehension \n",
        "print({i*2 for i in n_list if i%2==1}) # Mivel a set rendezetlen, ezért sorrend it is tetszőleges lesz!"
      ],
      "execution_count": null,
      "outputs": [
        {
          "output_type": "stream",
          "text": [
            "{134, 10, 14, 18, 90}\n"
          ],
          "name": "stdout"
        }
      ]
    },
    {
      "cell_type": "markdown",
      "metadata": {
        "id": "8BprUa_8Mxe7"
      },
      "source": [
        "\n",
        "\n",
        "---\n",
        "\n",
        "\n",
        "##Gyakorlás II."
      ]
    },
    {
      "cell_type": "code",
      "metadata": {
        "id": "KnLllRu3gRfl",
        "outputId": "18669289-f738-4199-c0b1-b84740d58cb6",
        "colab": {
          "base_uri": "https://localhost:8080/",
          "height": 289
        }
      },
      "source": [
        "#II/1. List comprehension\n",
        "num_list = [5,7,3,7,5,8,45,67,89,5,3,68877,8,5,3,1]\n",
        "#a, készíts új listát, amiben csak a num_list lista páros számai szereplenek\n",
        "#b, készíts olyan listát, amiben a num_list elemeinek a helyén az szerepel, hogy páros vagy páratlan (\"Even\" és \"Odd\" stringekkel jelölve)\n",
        "l=[i for i in num_list if i % 2 ==0]\n",
        "l2=[\"odd\"  if i % 2 ==1 else \"even\" for i in num_list]\n",
        "l2"
      ],
      "execution_count": 36,
      "outputs": [
        {
          "output_type": "execute_result",
          "data": {
            "text/plain": [
              "['odd',\n",
              " 'odd',\n",
              " 'odd',\n",
              " 'odd',\n",
              " 'odd',\n",
              " 'even',\n",
              " 'odd',\n",
              " 'odd',\n",
              " 'odd',\n",
              " 'odd',\n",
              " 'odd',\n",
              " 'odd',\n",
              " 'even',\n",
              " 'odd',\n",
              " 'odd',\n",
              " 'odd']"
            ]
          },
          "metadata": {
            "tags": []
          },
          "execution_count": 36
        }
      ]
    },
    {
      "cell_type": "code",
      "metadata": {
        "id": "ssZ3cWH84-VX",
        "outputId": "0657cfec-3c44-40f0-cca2-0ab679c8680b",
        "colab": {
          "base_uri": "https://localhost:8080/",
          "height": 34
        }
      },
      "source": [
        "#II/2. String: írj egy függvényt, ami a bemeneti string-ben a nagybetűket kicsire, a kicsiket nagyra cseréli. e.g: Python -> pYTHON\n",
        "def casechange(instr):\n",
        "    instr=\"adADodf ds\"\n",
        "    ostr=\"\"\n",
        "    for i in range(len(instr)):\n",
        "        if instr[i].isupper():\n",
        "            ostr+=instr[i].lower()\n",
        "        else:\n",
        "            ostr+=instr[i].upper()\n",
        "    return(ostr)\n",
        "\n",
        "instr=\"asasdSFDSDsda\" \n",
        "\n",
        "def casech(instr):\n",
        "    return(''.join(i.upper() if i.islower() else i.lower() for i in instr ))\n",
        "\n",
        "print (casech(\"asdaRTERTWdsfSDF\"))\n"
      ],
      "execution_count": 56,
      "outputs": [
        {
          "output_type": "stream",
          "text": [
            "ASDArtertwDSFsdf\n"
          ],
          "name": "stdout"
        }
      ]
    },
    {
      "cell_type": "code",
      "metadata": {
        "id": "g5ICRnyvAPvY",
        "outputId": "d082906a-8dc2-417f-a080-7530adf124de",
        "colab": {
          "base_uri": "https://localhost:8080/",
          "height": 34
        }
      },
      "source": [
        "#II/3. Dictionary: írj egy függvényt, ami a bemeneti stringben megszámolja, hogy melyik betű hányszor fordul elő\n",
        "def calc(a):\n",
        "    ch={}\n",
        "    for c in a:\n",
        "        if c in ch:\n",
        "            ch[c]+=1\n",
        "        else:\n",
        "            ch[c]=1\n",
        "    return(ch)\n",
        "\n",
        "print(calc(\"abrakadabra\"))\n"
      ],
      "execution_count": null,
      "outputs": [
        {
          "output_type": "stream",
          "text": [
            "{'a': 5, 'b': 2, 'r': 2, 'k': 1, 'd': 1}\n"
          ],
          "name": "stdout"
        }
      ]
    },
    {
      "cell_type": "markdown",
      "metadata": {
        "id": "Cdkz11hFYKE_"
      },
      "source": [
        "### Függvények"
      ]
    },
    {
      "cell_type": "code",
      "metadata": {
        "id": "rNLCI3yPYO1U",
        "outputId": "03f0a7f5-4bae-4d09-fab4-a3efa0327b3e",
        "colab": {
          "base_uri": "https://localhost:8080/",
          "height": 252
        }
      },
      "source": [
        "#függvények szintaxisa: \n",
        "\n",
        "#függvény hívás: fv_neve(arg1, arg2, ...)\n",
        "print(\"This is a function call!\")\n",
        "\n",
        "#függvény definiálás:\n",
        "#def fv_neve(argumentum1, argumentum2=10, ...):\n",
        "#  ...\n",
        "#  return 0\n",
        "\n",
        "def my_sum(list_of_numbers=[]):\n",
        "  '''This function summs the numbers received in the input list.\n",
        "  '''\n",
        "  sum = 0\n",
        "  for v in list_of_numbers:\n",
        "    sum += v\n",
        "  return sum\n",
        "\n",
        "\n",
        "print(my_sum())\n",
        "\n",
        "help(my_sum) #a help() beépített függvénnyel tudunk információt kérni egy függvényről. Kírja azt a stringet, amit a függvény elején docstringben megadunk\n",
        "\n",
        "n_list = [5,4,7,12,45,67,9]\n",
        "print(n_list)\n",
        "print(\"\\nThe sum of all the numbers in the list: \" +str(my_sum(n_list)))\n",
        "\n",
        "\n",
        "# függvény hívásnál a zárójelet akkor is ki kell rakni, ha nincs argumentum\n",
        "my_sum_no_arg = my_sum() \n",
        "print(\"\\nThe result of the my_sum function, if it's called without an argument: \" +str(my_sum_no_arg))\n",
        "# ha nem rakjuk ki, akkor magát a függvényt adjuk át a változónak\n",
        "my_sum_func = my_sum\n",
        "print(my_sum_func)\n",
        "print(my_sum_func([1,2,3,4,5,6,7,8,9])) #a változón keresztül is hívhatjuk a függvényt"
      ],
      "execution_count": null,
      "outputs": [
        {
          "output_type": "stream",
          "text": [
            "This is a function call!\n",
            "0\n",
            "Help on function my_sum in module __main__:\n",
            "\n",
            "my_sum(list_of_numbers=[])\n",
            "    This function summs the numbers received in the input list.\n",
            "\n",
            "[5, 4, 7, 12, 45, 67, 9]\n",
            "\n",
            "The sum of all the numbers in the list: 149\n",
            "\n",
            "The result of the my_sum function, if it's called without an argument: 0\n",
            "<function my_sum at 0x7f56de107158>\n",
            "45\n"
          ],
          "name": "stdout"
        }
      ]
    },
    {
      "cell_type": "code",
      "metadata": {
        "id": "unw52Za5f-Ov",
        "outputId": "fde47408-d549-4c9d-a82d-1fbb9e2f43c7",
        "colab": {
          "base_uri": "https://localhost:8080/",
          "height": 70
        }
      },
      "source": [
        "# a függvények lehetnek argumentumok és visszatérési értékek is más függvényekből:\n",
        "def do_something(func=abs, arg=0):\n",
        "  return func(arg)\n",
        "\n",
        "res = do_something()\n",
        "print(res)\n",
        "\n",
        "res = do_something(my_sum, [2,4,6,8])\n",
        "print(res)\n",
        "\n",
        "res = do_something(min, [2,7,4,8,4,1,45,7,-1,3,97])\n",
        "print(res)"
      ],
      "execution_count": null,
      "outputs": [
        {
          "output_type": "stream",
          "text": [
            "0\n",
            "20\n",
            "-1\n"
          ],
          "name": "stdout"
        }
      ]
    },
    {
      "cell_type": "code",
      "metadata": {
        "id": "40-m54oChNDn",
        "outputId": "4c9f35b1-c202-4a2a-9d69-a57eb7db2d4c",
        "colab": {
          "base_uri": "https://localhost:8080/",
          "height": 52
        }
      },
      "source": [
        "#ha nincs return, akkor None-al tér vissza\n",
        "def print_lower(str):\n",
        "  print(str.lower())\n",
        "\n",
        "print(print_lower(\"Python\"))"
      ],
      "execution_count": null,
      "outputs": [
        {
          "output_type": "stream",
          "text": [
            "python\n",
            "None\n"
          ],
          "name": "stdout"
        }
      ]
    },
    {
      "cell_type": "code",
      "metadata": {
        "id": "lM5_D0Z9sDyn",
        "outputId": "c53be9b4-6e5e-41f0-84bb-39ec1103e19d",
        "colab": {
          "base_uri": "https://localhost:8080/",
          "height": 230
        }
      },
      "source": [
        "# A függvény argumentumát lehet pozíció vagy név alapján megadni\n",
        "def my_print(a, b):\n",
        "  print(\"This is the argument a:\", a)\n",
        "  print(\"This is the argmunet b:\", b)\n",
        "  print(\"--------------------------\")\n",
        "\n",
        "x = \"first\"\n",
        "y = \"second\"\n",
        "my_print(x,y)\n",
        "my_print(y,x)\n",
        "my_print(a=x, b=y)\n",
        "my_print(b=y, a=x)"
      ],
      "execution_count": null,
      "outputs": [
        {
          "output_type": "stream",
          "text": [
            "This is the argument a: first\n",
            "This is the argmunet b: second\n",
            "--------------------------\n",
            "This is the argument a: second\n",
            "This is the argmunet b: first\n",
            "--------------------------\n",
            "This is the argument a: first\n",
            "This is the argmunet b: second\n",
            "--------------------------\n",
            "This is the argument a: first\n",
            "This is the argmunet b: second\n",
            "--------------------------\n"
          ],
          "name": "stdout"
        }
      ]
    },
    {
      "cell_type": "code",
      "metadata": {
        "id": "YMYJJNndnKzF",
        "outputId": "af47b040-5fcd-4f05-95d5-b1114ee5e397",
        "colab": {
          "base_uri": "https://localhost:8080/",
          "height": 176
        }
      },
      "source": [
        "# Függvény definiálás változó számú paraméterrel:\n",
        "\n",
        "# A, az utolsó paramétert a definícióban csillaggal jelöljük. Ez egy tuple lesz, \n",
        "#ami tartalmazza az összes további paramétert.\n",
        "print(\"Passing a few extra psitional arguments: \")\n",
        "def adder(a,b,*num):\n",
        "    sum = a+b\n",
        "    for n in num:\n",
        "        sum = sum + n\n",
        "    print(\"Sum:\",sum)\n",
        "\n",
        "adder(3,5)\n",
        "adder(4,5,6,7)\n",
        "adder(1,2,3,5,6)\n",
        "\n",
        "# B, ha az utolsó paramétert két csilaggal jelöljük, akkor egy dictionary-ben, \n",
        "# nevesített paramétereket adhatunk át.\n",
        "print(\"Passing extra keyword arguments: \")\n",
        "def person_id(**kwargs):\n",
        "    if kwargs is not None:\n",
        "        for key, value in kwargs.items():\n",
        "            print(\"%s == %s\" %(key,value))\n",
        " \n",
        "person_id(name=\"Lonard\")\n",
        "person_id(name=\"Lonard\", age=35, height=165)\n"
      ],
      "execution_count": null,
      "outputs": [
        {
          "output_type": "stream",
          "text": [
            "Passing a few extra psitional arguments: \n",
            "Sum: 8\n",
            "Sum: 22\n",
            "Sum: 17\n",
            "Passing extra keyword arguments: \n",
            "name == Lonard\n",
            "name == Lonard\n",
            "age == 35\n",
            "height == 165\n"
          ],
          "name": "stdout"
        }
      ]
    },
    {
      "cell_type": "markdown",
      "metadata": {
        "id": "BJwAe3hub23r"
      },
      "source": [
        "### Osztályok és Objektumok\n",
        "Pythonban majdnem minden objektum, metódusokkal és attribútumokkal."
      ]
    },
    {
      "cell_type": "code",
      "metadata": {
        "id": "YSoRlrez-r9U",
        "outputId": "5d05a51e-1ef5-4d49-d443-aa39d79cfc9b",
        "colab": {
          "base_uri": "https://localhost:8080/",
          "height": 52
        }
      },
      "source": [
        "a = \"this is an instance of the string class\"\n",
        "print(a.capitalize()) #meghívjuk az osztálynak a capitalize() metódusát\n",
        "a_parts = a.split(' ')\n",
        "print(a_parts)\n"
      ],
      "execution_count": null,
      "outputs": [
        {
          "output_type": "stream",
          "text": [
            "This is an instance ot the string class\n",
            "['this', 'is', 'an', 'instance', 'ot', 'the', 'string', 'class']\n"
          ],
          "name": "stdout"
        }
      ]
    },
    {
      "cell_type": "code",
      "metadata": {
        "id": "1-POKn-ib5-q",
        "outputId": "2980396d-3da5-40e6-800e-5f8f787d5c02",
        "colab": {
          "base_uri": "https://localhost:8080/",
          "height": 141
        }
      },
      "source": [
        "# Osztályokat a class kulcsszóval definiálhatunk\n",
        "class Player:\n",
        "  def __init__(self, name, age): #osztály konstruktor, akkor hívódik meg amikor létrehozzunk egy példányt az osztályból\n",
        "    self.name = name #az osztály attribútumai, az osztály bármelyik függvényéből elérhető\n",
        "    self.age = age\n",
        "\n",
        "  def print_short_info(self): # az osztály metódusait úgy definiáljuk, mint a függvényeket, de megkapják első attribútumként magát az osztályt: \"self\"\n",
        "    print(\"Player info: \\n name:\", self.name)\n",
        "\n",
        "# Az új osztályt származtathatjuk egy már meglévőből\n",
        "class Goalkeper(Player):\n",
        "  def __init__(self, name, age, height):\n",
        "    super().__init__(name, age)\n",
        "    self.height = height\n",
        "    self.position = \"goalkeeper\"\n",
        "\n",
        "  def print_short_info(self):\n",
        "    super().print_short_info()\n",
        "    print(\" position: \" +self.position)\n",
        "\n",
        "#létrehozunk egy példányt az osztályunkból\n",
        "kepa = Goalkeper(name=\"Kepa\", age=25 , height=186)\n",
        "kepa.print_short_info()\n",
        "print(kepa.name)\n",
        "\n",
        "#és egy másik példány ugyanabból az osztályból\n",
        "de_gea = Goalkeper(name=\"De Gea\", age=30, height=192)\n",
        "de_gea.print_short_info()"
      ],
      "execution_count": null,
      "outputs": [
        {
          "output_type": "stream",
          "text": [
            "Player info: \n",
            " name: Kepa\n",
            " position: goalkeeper\n",
            "Kepa\n",
            "Player info: \n",
            " name: De Gea\n",
            " position: goalkeeper\n"
          ],
          "name": "stdout"
        }
      ]
    },
    {
      "cell_type": "markdown",
      "metadata": {
        "id": "mWiwlNiyCcjr"
      },
      "source": [
        "###Modulok importálása"
      ]
    },
    {
      "cell_type": "code",
      "metadata": {
        "id": "nyj4HBmJbMET",
        "outputId": "0e5d3d33-8ac7-45ae-d903-c7200666a0f4",
        "colab": {
          "base_uri": "https://localhost:8080/",
          "height": 70
        }
      },
      "source": [
        "# Gyakran az osztályok, függvények stb. más modulokban vannak definiálva és importálni kell őket, mielőtt használni lehetne azokat \n",
        "\n",
        "import random # Egy modul teljes tartalmát az import kulcsszóval tudjuk elérhetővé tenni\n",
        "print(random.random()) # de a modul nevét (elérési útját) használni kell az importált azonosítók előtt\n",
        "\n",
        "from math import sin, sqrt # Ha nem akarjuk az egész modult importálni, akkor a from ... import ... kulcszavakkal különálló osztályokat, függvényeket stb. importálhatunk modulokból\n",
        "print(sqrt(25)) # Az így importált azonosítok a jelenlegi névtérben válnak használhatóvá\n",
        "from math import * # Ez importálja a teljes kiválasztott modult a jelenlegi névtérbe – NEM JAVASOLT, név ütközéseket okozhat\n",
        "\n",
        "import random as r # A modul teljes tartalmát elérhetővé teszi, egy speciális, kézzel definiált előtaggal lehet őket elérni\n",
        "print(r.random())"
      ],
      "execution_count": null,
      "outputs": [
        {
          "output_type": "stream",
          "text": [
            "0.2653741945986694\n",
            "5.0\n",
            "0.9199351582242999\n"
          ],
          "name": "stdout"
        }
      ]
    },
    {
      "cell_type": "markdown",
      "metadata": {
        "id": "Aq7VXfC1bKb3"
      },
      "source": [
        "### Iterables, Iterators, Generators\n",
        "Iterables: olyan objektumok, amik iterációban használhatók. pl. string, lista, tuple,..\n",
        "\n",
        "Iterators: az iterable objektumokból, az iter() fv.segítségével iterátort tudunk készíteni."
      ]
    },
    {
      "cell_type": "code",
      "metadata": {
        "id": "PL7zrA5scIvh",
        "outputId": "0add8088-b32f-427a-959d-3a967d32bcf1",
        "colab": {
          "base_uri": "https://localhost:8080/",
          "height": 313
        }
      },
      "source": [
        "days = ['Monday', 'Tuesday', 'Wednesday', 'Thursday', 'Friday', 'Saturday', 'Sunday'] #iterable\n",
        "d_iter = iter(days) # a listából az iter() fv segítségével kapunk egy iterátor objektumot\n",
        "print(next(d_iter)) # Az iterátortól a next() fügvénnyel kérhetjük el a következő elemet.\n",
        "print(next(d_iter))\n",
        "print(next(d_iter))\n",
        "print(next(d_iter))\n",
        "print(next(d_iter))\n",
        "print(next(d_iter))\n",
        "print(next(d_iter))\n",
        "print(next(d_iter)) #itt már túlfutunk az iterátoron, nincs következő elem 'StopIteration' hibát kapunk"
      ],
      "execution_count": null,
      "outputs": [
        {
          "output_type": "stream",
          "text": [
            "Monday\n",
            "Tuesday\n",
            "Wednesday\n",
            "Thursday\n",
            "Friday\n",
            "Saturday\n",
            "Sunday\n"
          ],
          "name": "stdout"
        },
        {
          "output_type": "error",
          "ename": "StopIteration",
          "evalue": "ignored",
          "traceback": [
            "\u001b[0;31m---------------------------------------------------------------------------\u001b[0m",
            "\u001b[0;31mStopIteration\u001b[0m                             Traceback (most recent call last)",
            "\u001b[0;32m<ipython-input-8-befb284f98de>\u001b[0m in \u001b[0;36m<module>\u001b[0;34m()\u001b[0m\n\u001b[1;32m      8\u001b[0m \u001b[0mprint\u001b[0m\u001b[0;34m(\u001b[0m\u001b[0mnext\u001b[0m\u001b[0;34m(\u001b[0m\u001b[0md_iter\u001b[0m\u001b[0;34m)\u001b[0m\u001b[0;34m)\u001b[0m\u001b[0;34m\u001b[0m\u001b[0;34m\u001b[0m\u001b[0m\n\u001b[1;32m      9\u001b[0m \u001b[0mprint\u001b[0m\u001b[0;34m(\u001b[0m\u001b[0mnext\u001b[0m\u001b[0;34m(\u001b[0m\u001b[0md_iter\u001b[0m\u001b[0;34m)\u001b[0m\u001b[0;34m)\u001b[0m\u001b[0;34m\u001b[0m\u001b[0;34m\u001b[0m\u001b[0m\n\u001b[0;32m---> 10\u001b[0;31m \u001b[0mprint\u001b[0m\u001b[0;34m(\u001b[0m\u001b[0mnext\u001b[0m\u001b[0;34m(\u001b[0m\u001b[0md_iter\u001b[0m\u001b[0;34m)\u001b[0m\u001b[0;34m)\u001b[0m \u001b[0;31m#itt már túlfutunk az iterátoron, nincs következő elem 'StopIteration' hibát kapunk\u001b[0m\u001b[0;34m\u001b[0m\u001b[0;34m\u001b[0m\u001b[0m\n\u001b[0m",
            "\u001b[0;31mStopIteration\u001b[0m: "
          ]
        }
      ]
    },
    {
      "cell_type": "code",
      "metadata": {
        "id": "-BialsXKitrs",
        "outputId": "0814e4c3-a1d0-431c-f3be-a55f2d42eb9f",
        "colab": {
          "base_uri": "https://localhost:8080/",
          "height": 118
        }
      },
      "source": [
        "#iterátort mi is készíthetünk\n",
        "class PrintNumber:\n",
        "    def __init__(self, max):\n",
        "        self.max = max\n",
        "\n",
        "    def __iter__(self): \n",
        "        self.num = 0\n",
        "        return self\n",
        "\n",
        "    def __next__(self):\n",
        "        if(self.num >= self.max):\n",
        "            raise StopIteration\n",
        "        self.num += 1\n",
        "        return self.num\n",
        "\n",
        "print_num = PrintNumber(3) #létrehozunk egy példányt a PrintNumber osztályból\n",
        "print_num_iter = iter(print_num) #a létrehozott objektumot iterátorrá alakítjuk\n",
        "print(next(print_num_iter))  # 1\n",
        "print(next(print_num_iter))  # 2\n",
        "print(next(print_num_iter))  # 3\n",
        "\n",
        "\n",
        "print_num_iter = iter(print_num) # az iterátorunkat használhatjuk for ciklusban is\n",
        "for i in print_num_iter:\n",
        "  print(i)"
      ],
      "execution_count": null,
      "outputs": [
        {
          "output_type": "stream",
          "text": [
            "1\n",
            "2\n",
            "3\n",
            "1\n",
            "2\n",
            "3\n"
          ],
          "name": "stdout"
        }
      ]
    },
    {
      "cell_type": "markdown",
      "metadata": {
        "id": "xR38CzMIdusg"
      },
      "source": [
        "A Generátorok olyan speciális függvények, amik segítségével \"lazy\" iterátorokat tudnk előállítani. Ezek nem tárolják az összes elemüket a memóriában, hanem mindig akkor állítják elő a következő elemet, amikor arra szükség van. Hasznos lehet pl. ha egy nagy adatbázis elemeit akarjuk sorban beolvasni, ami egészben nem férne be a memóriába."
      ]
    },
    {
      "cell_type": "code",
      "metadata": {
        "id": "p0YrkH1NfVY0",
        "outputId": "5a9773b8-c4df-402f-de37-c182ceca6164",
        "colab": {
          "base_uri": "https://localhost:8080/",
          "height": 611
        }
      },
      "source": [
        "#Mount the google drive\n",
        "from google.colab import drive\n",
        "drive.mount('/content/gdrive')"
      ],
      "execution_count": null,
      "outputs": [
        {
          "output_type": "error",
          "ename": "KeyboardInterrupt",
          "evalue": "ignored",
          "traceback": [
            "\u001b[0;31m---------------------------------------------------------------------------\u001b[0m",
            "\u001b[0;31mKeyboardInterrupt\u001b[0m                         Traceback (most recent call last)",
            "\u001b[0;32m/usr/local/lib/python3.6/dist-packages/ipykernel/kernelbase.py\u001b[0m in \u001b[0;36m_input_request\u001b[0;34m(self, prompt, ident, parent, password)\u001b[0m\n\u001b[1;32m    728\u001b[0m             \u001b[0;32mtry\u001b[0m\u001b[0;34m:\u001b[0m\u001b[0;34m\u001b[0m\u001b[0;34m\u001b[0m\u001b[0m\n\u001b[0;32m--> 729\u001b[0;31m                 \u001b[0mident\u001b[0m\u001b[0;34m,\u001b[0m \u001b[0mreply\u001b[0m \u001b[0;34m=\u001b[0m \u001b[0mself\u001b[0m\u001b[0;34m.\u001b[0m\u001b[0msession\u001b[0m\u001b[0;34m.\u001b[0m\u001b[0mrecv\u001b[0m\u001b[0;34m(\u001b[0m\u001b[0mself\u001b[0m\u001b[0;34m.\u001b[0m\u001b[0mstdin_socket\u001b[0m\u001b[0;34m,\u001b[0m \u001b[0;36m0\u001b[0m\u001b[0;34m)\u001b[0m\u001b[0;34m\u001b[0m\u001b[0;34m\u001b[0m\u001b[0m\n\u001b[0m\u001b[1;32m    730\u001b[0m             \u001b[0;32mexcept\u001b[0m \u001b[0mException\u001b[0m\u001b[0;34m:\u001b[0m\u001b[0;34m\u001b[0m\u001b[0;34m\u001b[0m\u001b[0m\n",
            "\u001b[0;32m/usr/local/lib/python3.6/dist-packages/jupyter_client/session.py\u001b[0m in \u001b[0;36mrecv\u001b[0;34m(self, socket, mode, content, copy)\u001b[0m\n\u001b[1;32m    802\u001b[0m         \u001b[0;32mtry\u001b[0m\u001b[0;34m:\u001b[0m\u001b[0;34m\u001b[0m\u001b[0;34m\u001b[0m\u001b[0m\n\u001b[0;32m--> 803\u001b[0;31m             \u001b[0mmsg_list\u001b[0m \u001b[0;34m=\u001b[0m \u001b[0msocket\u001b[0m\u001b[0;34m.\u001b[0m\u001b[0mrecv_multipart\u001b[0m\u001b[0;34m(\u001b[0m\u001b[0mmode\u001b[0m\u001b[0;34m,\u001b[0m \u001b[0mcopy\u001b[0m\u001b[0;34m=\u001b[0m\u001b[0mcopy\u001b[0m\u001b[0;34m)\u001b[0m\u001b[0;34m\u001b[0m\u001b[0;34m\u001b[0m\u001b[0m\n\u001b[0m\u001b[1;32m    804\u001b[0m         \u001b[0;32mexcept\u001b[0m \u001b[0mzmq\u001b[0m\u001b[0;34m.\u001b[0m\u001b[0mZMQError\u001b[0m \u001b[0;32mas\u001b[0m \u001b[0me\u001b[0m\u001b[0;34m:\u001b[0m\u001b[0;34m\u001b[0m\u001b[0;34m\u001b[0m\u001b[0m\n",
            "\u001b[0;32m/usr/local/lib/python3.6/dist-packages/zmq/sugar/socket.py\u001b[0m in \u001b[0;36mrecv_multipart\u001b[0;34m(self, flags, copy, track)\u001b[0m\n\u001b[1;32m    490\u001b[0m         \"\"\"\n\u001b[0;32m--> 491\u001b[0;31m         \u001b[0mparts\u001b[0m \u001b[0;34m=\u001b[0m \u001b[0;34m[\u001b[0m\u001b[0mself\u001b[0m\u001b[0;34m.\u001b[0m\u001b[0mrecv\u001b[0m\u001b[0;34m(\u001b[0m\u001b[0mflags\u001b[0m\u001b[0;34m,\u001b[0m \u001b[0mcopy\u001b[0m\u001b[0;34m=\u001b[0m\u001b[0mcopy\u001b[0m\u001b[0;34m,\u001b[0m \u001b[0mtrack\u001b[0m\u001b[0;34m=\u001b[0m\u001b[0mtrack\u001b[0m\u001b[0;34m)\u001b[0m\u001b[0;34m]\u001b[0m\u001b[0;34m\u001b[0m\u001b[0;34m\u001b[0m\u001b[0m\n\u001b[0m\u001b[1;32m    492\u001b[0m         \u001b[0;31m# have first part already, only loop while more to receive\u001b[0m\u001b[0;34m\u001b[0m\u001b[0;34m\u001b[0m\u001b[0;34m\u001b[0m\u001b[0m\n",
            "\u001b[0;32mzmq/backend/cython/socket.pyx\u001b[0m in \u001b[0;36mzmq.backend.cython.socket.Socket.recv\u001b[0;34m()\u001b[0m\n",
            "\u001b[0;32mzmq/backend/cython/socket.pyx\u001b[0m in \u001b[0;36mzmq.backend.cython.socket.Socket.recv\u001b[0;34m()\u001b[0m\n",
            "\u001b[0;32mzmq/backend/cython/socket.pyx\u001b[0m in \u001b[0;36mzmq.backend.cython.socket._recv_copy\u001b[0;34m()\u001b[0m\n",
            "\u001b[0;32m/usr/local/lib/python3.6/dist-packages/zmq/backend/cython/checkrc.pxd\u001b[0m in \u001b[0;36mzmq.backend.cython.checkrc._check_rc\u001b[0;34m()\u001b[0m\n",
            "\u001b[0;31mKeyboardInterrupt\u001b[0m: ",
            "\nDuring handling of the above exception, another exception occurred:\n",
            "\u001b[0;31mKeyboardInterrupt\u001b[0m                         Traceback (most recent call last)",
            "\u001b[0;32m<ipython-input-10-c32991b0ae8a>\u001b[0m in \u001b[0;36m<module>\u001b[0;34m()\u001b[0m\n\u001b[1;32m      1\u001b[0m \u001b[0;31m#Mount the google drive\u001b[0m\u001b[0;34m\u001b[0m\u001b[0;34m\u001b[0m\u001b[0;34m\u001b[0m\u001b[0m\n\u001b[1;32m      2\u001b[0m \u001b[0;32mfrom\u001b[0m \u001b[0mgoogle\u001b[0m\u001b[0;34m.\u001b[0m\u001b[0mcolab\u001b[0m \u001b[0;32mimport\u001b[0m \u001b[0mdrive\u001b[0m\u001b[0;34m\u001b[0m\u001b[0;34m\u001b[0m\u001b[0m\n\u001b[0;32m----> 3\u001b[0;31m \u001b[0mdrive\u001b[0m\u001b[0;34m.\u001b[0m\u001b[0mmount\u001b[0m\u001b[0;34m(\u001b[0m\u001b[0;34m'/content/gdrive'\u001b[0m\u001b[0;34m)\u001b[0m\u001b[0;34m\u001b[0m\u001b[0;34m\u001b[0m\u001b[0m\n\u001b[0m",
            "\u001b[0;32m/usr/local/lib/python3.6/dist-packages/google/colab/drive.py\u001b[0m in \u001b[0;36mmount\u001b[0;34m(mountpoint, force_remount, timeout_ms, use_metadata_server)\u001b[0m\n\u001b[1;32m    249\u001b[0m       \u001b[0;32mwith\u001b[0m \u001b[0m_output\u001b[0m\u001b[0;34m.\u001b[0m\u001b[0muse_tags\u001b[0m\u001b[0;34m(\u001b[0m\u001b[0;34m'dfs-auth-dance'\u001b[0m\u001b[0;34m)\u001b[0m\u001b[0;34m:\u001b[0m\u001b[0;34m\u001b[0m\u001b[0;34m\u001b[0m\u001b[0m\n\u001b[1;32m    250\u001b[0m         \u001b[0;32mwith\u001b[0m \u001b[0mopen\u001b[0m\u001b[0;34m(\u001b[0m\u001b[0mfifo\u001b[0m\u001b[0;34m,\u001b[0m \u001b[0;34m'w'\u001b[0m\u001b[0;34m)\u001b[0m \u001b[0;32mas\u001b[0m \u001b[0mfifo_file\u001b[0m\u001b[0;34m:\u001b[0m\u001b[0;34m\u001b[0m\u001b[0;34m\u001b[0m\u001b[0m\n\u001b[0;32m--> 251\u001b[0;31m           \u001b[0mfifo_file\u001b[0m\u001b[0;34m.\u001b[0m\u001b[0mwrite\u001b[0m\u001b[0;34m(\u001b[0m\u001b[0mget_code\u001b[0m\u001b[0;34m(\u001b[0m\u001b[0mauth_prompt\u001b[0m\u001b[0;34m)\u001b[0m \u001b[0;34m+\u001b[0m \u001b[0;34m'\\n'\u001b[0m\u001b[0;34m)\u001b[0m\u001b[0;34m\u001b[0m\u001b[0;34m\u001b[0m\u001b[0m\n\u001b[0m\u001b[1;32m    252\u001b[0m       \u001b[0mwrote_to_fifo\u001b[0m \u001b[0;34m=\u001b[0m \u001b[0;32mTrue\u001b[0m\u001b[0;34m\u001b[0m\u001b[0;34m\u001b[0m\u001b[0m\n\u001b[1;32m    253\u001b[0m     \u001b[0;32melif\u001b[0m \u001b[0mcase\u001b[0m \u001b[0;34m==\u001b[0m \u001b[0;36m5\u001b[0m\u001b[0;34m:\u001b[0m\u001b[0;34m\u001b[0m\u001b[0;34m\u001b[0m\u001b[0m\n",
            "\u001b[0;32m/usr/local/lib/python3.6/dist-packages/ipykernel/kernelbase.py\u001b[0m in \u001b[0;36mraw_input\u001b[0;34m(self, prompt)\u001b[0m\n\u001b[1;32m    702\u001b[0m             \u001b[0mself\u001b[0m\u001b[0;34m.\u001b[0m\u001b[0m_parent_ident\u001b[0m\u001b[0;34m,\u001b[0m\u001b[0;34m\u001b[0m\u001b[0;34m\u001b[0m\u001b[0m\n\u001b[1;32m    703\u001b[0m             \u001b[0mself\u001b[0m\u001b[0;34m.\u001b[0m\u001b[0m_parent_header\u001b[0m\u001b[0;34m,\u001b[0m\u001b[0;34m\u001b[0m\u001b[0;34m\u001b[0m\u001b[0m\n\u001b[0;32m--> 704\u001b[0;31m             \u001b[0mpassword\u001b[0m\u001b[0;34m=\u001b[0m\u001b[0;32mFalse\u001b[0m\u001b[0;34m,\u001b[0m\u001b[0;34m\u001b[0m\u001b[0;34m\u001b[0m\u001b[0m\n\u001b[0m\u001b[1;32m    705\u001b[0m         )\n\u001b[1;32m    706\u001b[0m \u001b[0;34m\u001b[0m\u001b[0m\n",
            "\u001b[0;32m/usr/local/lib/python3.6/dist-packages/ipykernel/kernelbase.py\u001b[0m in \u001b[0;36m_input_request\u001b[0;34m(self, prompt, ident, parent, password)\u001b[0m\n\u001b[1;32m    732\u001b[0m             \u001b[0;32mexcept\u001b[0m \u001b[0mKeyboardInterrupt\u001b[0m\u001b[0;34m:\u001b[0m\u001b[0;34m\u001b[0m\u001b[0;34m\u001b[0m\u001b[0m\n\u001b[1;32m    733\u001b[0m                 \u001b[0;31m# re-raise KeyboardInterrupt, to truncate traceback\u001b[0m\u001b[0;34m\u001b[0m\u001b[0;34m\u001b[0m\u001b[0;34m\u001b[0m\u001b[0m\n\u001b[0;32m--> 734\u001b[0;31m                 \u001b[0;32mraise\u001b[0m \u001b[0mKeyboardInterrupt\u001b[0m\u001b[0;34m\u001b[0m\u001b[0;34m\u001b[0m\u001b[0m\n\u001b[0m\u001b[1;32m    735\u001b[0m             \u001b[0;32melse\u001b[0m\u001b[0;34m:\u001b[0m\u001b[0;34m\u001b[0m\u001b[0;34m\u001b[0m\u001b[0m\n\u001b[1;32m    736\u001b[0m                 \u001b[0;32mbreak\u001b[0m\u001b[0;34m\u001b[0m\u001b[0;34m\u001b[0m\u001b[0m\n",
            "\u001b[0;31mKeyboardInterrupt\u001b[0m: "
          ]
        }
      ]
    },
    {
      "cell_type": "code",
      "metadata": {
        "id": "ifzNO3yyEjeV",
        "outputId": "238cb65b-5de8-4efc-c1b0-b2f96a47877b",
        "colab": {
          "base_uri": "https://localhost:8080/",
          "height": 34
        }
      },
      "source": [
        "!ls \"/content/gdrive/My Drive/Colab/\""
      ],
      "execution_count": null,
      "outputs": [
        {
          "output_type": "stream",
          "text": [
            "days.txt\n"
          ],
          "name": "stdout"
        }
      ]
    },
    {
      "cell_type": "code",
      "metadata": {
        "id": "dQbwX7eAE6Im"
      },
      "source": [
        "#ez a generátor függvény egy iterátort készít, ami egy txt fájl következő sorát adja vissza minden iterációban\n",
        "def txt_reader(file_name):\n",
        "    for row in open(file_name, \"r\"):\n",
        "        yield row\n",
        "\n",
        "fn = \"/content/gdrive/My Drive/Colab/days.txt\"\n",
        "file_row_lazy_iter = txt_reader(fn) #iterátor\n",
        "for r in file_row_lazy_iter:\n",
        "  print(r)"
      ],
      "execution_count": null,
      "outputs": []
    },
    {
      "cell_type": "code",
      "metadata": {
        "id": "MXIPPfKtGq_d",
        "outputId": "fc279b83-44e4-44bf-cac1-08485cb724cd",
        "colab": {
          "base_uri": "https://localhost:8080/",
          "height": 235
        }
      },
      "source": [
        "# A generátor függvényt sokszor kiválthatjuk \"generátor kifejezéssel\" (generator expression or generator comprehension).\n",
        "file_row_lazy_iter = (row for row in open(fn))\n",
        "for r in file_row_lazy_iter:\n",
        "  print(r)"
      ],
      "execution_count": null,
      "outputs": [
        {
          "output_type": "stream",
          "text": [
            "Monday\n",
            "\n",
            "Tuesday\n",
            "\n",
            "Wednesday\n",
            "\n",
            "Thursday\n",
            "\n",
            "Friday\n",
            "\n",
            "Saturday\n",
            "\n",
            "Sunday\n"
          ],
          "name": "stdout"
        }
      ]
    },
    {
      "cell_type": "code",
      "metadata": {
        "id": "o2kaNLo7IIKU",
        "outputId": "74269928-8429-4cc4-9cef-186a8d3981a5",
        "colab": {
          "base_uri": "https://localhost:8080/",
          "height": 34
        }
      },
      "source": [
        "# Ugyanígy listát is készíthetünk a sorokból list comprehension segítségével. \n",
        "# Csak a zárójel változik és lazy iterator helyett egy listát kapunk:\n",
        "file_row_list = [row for row in open(fn)]\n",
        "print(file_row_list)"
      ],
      "execution_count": null,
      "outputs": [
        {
          "output_type": "stream",
          "text": [
            "['Monday\\n', 'Tuesday\\n', 'Wednesday\\n', 'Thursday\\n', 'Friday\\n', 'Saturday\\n', 'Sunday']\n"
          ],
          "name": "stdout"
        }
      ]
    },
    {
      "cell_type": "markdown",
      "metadata": {
        "id": "6jjztVOHgKCm"
      },
      "source": [
        "\n",
        "\n",
        "---\n",
        "\n",
        "\n",
        "##Gyakorlás III."
      ]
    },
    {
      "cell_type": "code",
      "metadata": {
        "id": "WaXailMRPhmb"
      },
      "source": [
        "#III/1. Function\n",
        "# írj egy függvényt, ami bemenetként egy számokból álló listát vár. Értelmes szövegben kiírja, hogy melyik a listában a legnagyobb és legkisebb szám és ezek hányadik helyen szerepelnek. \n",
        "# A visszatérési értéke pedig a listában szereplő számok átlaga. \n",
        "# A futás eredménye valami hasonló lesz:\n",
        "#   A legkisebb szám a listában a 32. helyen szerepel és az értéke 1\n",
        "#   A legnagyobb szám a listában a 11. helyen szerepel és az értéke 6887\n",
        "#   283.7878787878788"
      ],
      "execution_count": null,
      "outputs": []
    },
    {
      "cell_type": "code",
      "metadata": {
        "id": "RyHcLt2jEfch"
      },
      "source": [
        "#III/2. Class \n",
        "#Striker osztály implementálása származtatva a Player osztályból\n",
        "# \n",
        "#benzema = Striker(name=\"Benzema\", age=32 , preferred_foot=\"right\")\n",
        "#benzema.set_preferred_foot('left') #ellenőrzd, hogy a bemenet értelmes-e (\"left\" vagy \"right\")\n",
        "#benzema.print_short_info()\n",
        "#kimenet:\n",
        "# Player info: \n",
        "#  name: Benzema\n",
        "#  position: striker\n",
        "#  preferred foot: left\n"
      ],
      "execution_count": null,
      "outputs": []
    },
    {
      "cell_type": "markdown",
      "metadata": {
        "id": "qZvCuLjdIfJ2"
      },
      "source": [
        "\n",
        "\n",
        "---\n",
        "\n",
        "\n",
        "\n",
        "---\n",
        "\n",
        "\n",
        "## Numerical Python or the NumPy module\n",
        "https://numpy.org/\n",
        "\n",
        "\"NumPy is the fundamental package for scientific computing with Python.\"\n",
        "\n",
        "\"NumPy (Numerical Python) is an open source Python library that’s used in almost every field of science and engineering. It’s the universal standard for working with numerical data in Python\"\n",
        "\n"
      ]
    },
    {
      "cell_type": "code",
      "metadata": {
        "id": "zCpeFxMHxy8z",
        "outputId": "03734888-c78f-47b1-d1fa-69d428c02f18",
        "colab": {
          "base_uri": "https://localhost:8080/",
          "height": 218
        }
      },
      "source": [
        "#A numpy modul importálása\n",
        "import numpy as np\n",
        "\n",
        "#Az alapvető adatsruktúra a numpy tömb\n",
        "a = np.array([1, 2, 3, 4, 5, 6]) # 1D\n",
        "b = np.array([[1, 2, 3, 4], [5, 6, 7, 8], [9, 10, 11, 12]]) # 2D\n",
        "\n",
        "#speciális tömbök létrehozása\n",
        "c = np.zeros((2,3)) # nullákból álló tömb\n",
        "print(c)\n",
        "d = np.ones((3,6)) # egyesekből álló tömb\n",
        "print(d)\n",
        "\n",
        "e = np.eye(3) # adott méretű egység mátrix\n",
        "print(e)\n",
        "\n",
        "#\n",
        "print(np.sum(d)) #összeadja a mátrix elemeit\n",
        "print(np.sum(d, axis=0)) #összeadja a mátrix elemeit a választott dimenzió mentén\n",
        "# Hasonló módon ki lehet számolni az átlagot, szórást, mediánt, stb.\n",
        "\n",
        "#\n",
        "g = np.array([1.0, 2.0, 3.0])\n",
        "h = np.array([2.0, 2.0, 2.0])\n",
        "i = g * h # elemenkénti szorzás\n",
        "print(i)\n",
        "\n",
        "j = np.dot(g, h) #skalár szorzás\n",
        "print(j)\n"
      ],
      "execution_count": null,
      "outputs": [
        {
          "output_type": "stream",
          "text": [
            "[[0. 0. 0.]\n",
            " [0. 0. 0.]]\n",
            "[[1. 1. 1. 1. 1. 1.]\n",
            " [1. 1. 1. 1. 1. 1.]\n",
            " [1. 1. 1. 1. 1. 1.]]\n",
            "[[1. 0. 0.]\n",
            " [0. 1. 0.]\n",
            " [0. 0. 1.]]\n",
            "18.0\n",
            "[3. 3. 3. 3. 3. 3.]\n",
            "[2. 4. 6.]\n",
            "12.0\n"
          ],
          "name": "stdout"
        }
      ]
    },
    {
      "cell_type": "markdown",
      "metadata": {
        "id": "WTb7NmPK0oYW"
      },
      "source": [
        "#### Indexelés"
      ]
    },
    {
      "cell_type": "code",
      "metadata": {
        "id": "jakveIOY0vTe",
        "outputId": "84cf036c-8411-4f76-a8e8-8e962eb011c6",
        "colab": {
          "base_uri": "https://localhost:8080/",
          "height": 34
        }
      },
      "source": [
        "# Hasonlóan a korábban látottakhoz\n",
        "a = np.arange(5) #létrehozunk egy 1D tömböt, benne a számokkal 0-tól 4-ig\n",
        "print(a)"
      ],
      "execution_count": null,
      "outputs": [
        {
          "output_type": "stream",
          "text": [
            "[0 1 2 3 4]\n"
          ],
          "name": "stdout"
        }
      ]
    },
    {
      "cell_type": "code",
      "metadata": {
        "id": "p0G618UdzWzy",
        "outputId": "ff8e65b6-3adb-4295-c94c-7a7e442c0fbb",
        "colab": {
          "base_uri": "https://localhost:8080/",
          "height": 34
        }
      },
      "source": [
        "print(a[:3]) # írjuk ki a tömb első 3 elemét, a záró index már nincs benne"
      ],
      "execution_count": null,
      "outputs": [
        {
          "output_type": "stream",
          "text": [
            "[0 1 2]\n"
          ],
          "name": "stdout"
        }
      ]
    },
    {
      "cell_type": "code",
      "metadata": {
        "id": "lwuPyKZ7zWtD",
        "outputId": "bc559707-d7c1-42cf-f90c-81ab0d68d5f6",
        "colab": {
          "base_uri": "https://localhost:8080/",
          "height": 34
        }
      },
      "source": [
        "a[:3] = np.zeros(3) # az a vector egy részét kicsetéljük egy másik, azonos méretűvektorra\n",
        "print(a)"
      ],
      "execution_count": null,
      "outputs": [
        {
          "output_type": "stream",
          "text": [
            "[0 0 0 3 4]\n"
          ],
          "name": "stdout"
        }
      ]
    },
    {
      "cell_type": "code",
      "metadata": {
        "id": "IQK6MzcIzWfe",
        "outputId": "e3d7242d-716d-43c3-f8dc-3bfa7719f2f0",
        "colab": {
          "base_uri": "https://localhost:8080/",
          "height": 156
        }
      },
      "source": [
        "b = np.arange(12).reshape(3,4) # létrehoztunk egy vektort, majd mátrixot csinálunk belőle. Az elemek számának egyeznie kell!!\n",
        "print(b)\n",
        "print()\n",
        "b = np.arange(28).reshape(4,-1) # ha csak az egyik dimenziót adjuk meg, a numpy kitalálja a másikat\n",
        "print(b)\n",
        "# b = np.arange(12).reshape(5,-1) # persze csak ha lehetséges"
      ],
      "execution_count": null,
      "outputs": [
        {
          "output_type": "stream",
          "text": [
            "[[ 0  1  2  3]\n",
            " [ 4  5  6  7]\n",
            " [ 8  9 10 11]]\n",
            "\n",
            "[[ 0  1  2  3  4  5  6]\n",
            " [ 7  8  9 10 11 12 13]\n",
            " [14 15 16 17 18 19 20]\n",
            " [21 22 23 24 25 26 27]]\n"
          ],
          "name": "stdout"
        }
      ]
    },
    {
      "cell_type": "code",
      "metadata": {
        "id": "f-TqTV7kzl9R",
        "outputId": "9863b532-6cc5-44cc-c11b-83c8f84d7950",
        "colab": {
          "base_uri": "https://localhost:8080/",
          "height": 86
        }
      },
      "source": [
        "# Több dimenzió esetén az indexelés\n",
        "print(b[1:3, 1:5]) # egy almátrixot vettünk ki\n",
        "print()\n",
        "print(b[3, :]) # egy sort írunk ki"
      ],
      "execution_count": null,
      "outputs": [
        {
          "output_type": "stream",
          "text": [
            "[[ 8  9 10 11]\n",
            " [15 16 17 18]]\n",
            "\n",
            "[21 22 23 24 25 26 27]\n"
          ],
          "name": "stdout"
        }
      ]
    },
    {
      "cell_type": "markdown",
      "metadata": {
        "id": "OcadJPyJ40r2"
      },
      "source": [
        "#### Broadcast\n",
        "Két tömböt elemenként összeadni/kivonni/szorozni/stb. akkor lehet, ha a két tömb mérete megegyezik. \n",
        "Ezen a feltételen lazít egy kicsit a broadcasting szabály: ha a két tömbmegfelelő dimenziója megegyezik, vagy valamelyik 1, akkor alkalmazható a szabály. Legegyszerűbb eset a vector skalár szorzás: "
      ]
    },
    {
      "cell_type": "code",
      "metadata": {
        "id": "s8SMEn_i44zZ",
        "outputId": "027b055f-5fc0-4c88-b17b-3cd93da85a34",
        "colab": {
          "base_uri": "https://localhost:8080/",
          "height": 52
        }
      },
      "source": [
        "#\n",
        "g = np.array([1.0, 2.0, 3.0])\n",
        "h = np.array([2.0, 2.0, 2.0])\n",
        "i = g * h # elemenkénti szorzás\n",
        "k = g * 2 # elemenkénti szorzás skalárral\n",
        "print(i)\n",
        "print(k)"
      ],
      "execution_count": null,
      "outputs": [
        {
          "output_type": "stream",
          "text": [
            "[2. 4. 6.]\n",
            "[2. 4. 6.]\n"
          ],
          "name": "stdout"
        }
      ]
    },
    {
      "cell_type": "markdown",
      "metadata": {
        "id": "xXcWLnFkw0Xi"
      },
      "source": [
        "Egy fokkal bonyolultabb eset:"
      ]
    },
    {
      "cell_type": "code",
      "metadata": {
        "id": "i-MlYZVOw4_B",
        "outputId": "633e3320-f0f6-42c1-8c1e-022c539c6c2d",
        "colab": {
          "base_uri": "https://localhost:8080/",
          "height": 69
        }
      },
      "source": [
        "l = np.arange(12).reshape(3,4)\n",
        "m = np.array([1, 2, 0, 3]).reshape(1, 4)\n",
        "n = l*m # (3x4) * (1x4)\n",
        "print(n)\n"
      ],
      "execution_count": null,
      "outputs": [
        {
          "output_type": "stream",
          "text": [
            "[[ 0  2  0  9]\n",
            " [ 4 10  0 21]\n",
            " [ 8 18  0 33]]\n"
          ],
          "name": "stdout"
        }
      ]
    },
    {
      "cell_type": "code",
      "metadata": {
        "id": "4pFX96MWxrKi",
        "outputId": "1dd499e9-9fc9-4fbb-e941-7802f1d7da46",
        "colab": {
          "base_uri": "https://localhost:8080/",
          "height": 86
        }
      },
      "source": [
        "o = np.array([1, 2, 0, 4])\n",
        "print(o.shape)\n",
        "p = l*o\n",
        "print(p)"
      ],
      "execution_count": null,
      "outputs": [
        {
          "output_type": "stream",
          "text": [
            "(4,)\n",
            "[[ 0  2  0 12]\n",
            " [ 4 10  0 28]\n",
            " [ 8 18  0 44]]\n"
          ],
          "name": "stdout"
        }
      ]
    },
    {
      "cell_type": "code",
      "metadata": {
        "id": "drw73QA3yTWk",
        "outputId": "d49f39f1-373e-4dc4-9f75-e45058ff63cc",
        "colab": {
          "base_uri": "https://localhost:8080/",
          "height": 237
        }
      },
      "source": [
        "q = np.array([1, 2, 0])\n",
        "print(q.shape)\n",
        "r = l*q\n",
        "print(r)"
      ],
      "execution_count": null,
      "outputs": [
        {
          "output_type": "stream",
          "text": [
            "(3,)\n"
          ],
          "name": "stdout"
        },
        {
          "output_type": "error",
          "ename": "ValueError",
          "evalue": "ignored",
          "traceback": [
            "\u001b[0;31m---------------------------------------------------------------------------\u001b[0m",
            "\u001b[0;31mValueError\u001b[0m                                Traceback (most recent call last)",
            "\u001b[0;32m<ipython-input-21-2af5c6cc4a0d>\u001b[0m in \u001b[0;36m<module>\u001b[0;34m()\u001b[0m\n\u001b[1;32m      1\u001b[0m \u001b[0mq\u001b[0m \u001b[0;34m=\u001b[0m \u001b[0mnp\u001b[0m\u001b[0;34m.\u001b[0m\u001b[0marray\u001b[0m\u001b[0;34m(\u001b[0m\u001b[0;34m[\u001b[0m\u001b[0;36m1\u001b[0m\u001b[0;34m,\u001b[0m \u001b[0;36m2\u001b[0m\u001b[0;34m,\u001b[0m \u001b[0;36m0\u001b[0m\u001b[0;34m]\u001b[0m\u001b[0;34m)\u001b[0m\u001b[0;34m\u001b[0m\u001b[0;34m\u001b[0m\u001b[0m\n\u001b[1;32m      2\u001b[0m \u001b[0mprint\u001b[0m\u001b[0;34m(\u001b[0m\u001b[0mq\u001b[0m\u001b[0;34m.\u001b[0m\u001b[0mshape\u001b[0m\u001b[0;34m)\u001b[0m\u001b[0;34m\u001b[0m\u001b[0;34m\u001b[0m\u001b[0m\n\u001b[0;32m----> 3\u001b[0;31m \u001b[0mr\u001b[0m \u001b[0;34m=\u001b[0m \u001b[0ml\u001b[0m\u001b[0;34m*\u001b[0m\u001b[0mq\u001b[0m\u001b[0;34m\u001b[0m\u001b[0;34m\u001b[0m\u001b[0m\n\u001b[0m\u001b[1;32m      4\u001b[0m \u001b[0mprint\u001b[0m\u001b[0;34m(\u001b[0m\u001b[0mr\u001b[0m\u001b[0;34m)\u001b[0m\u001b[0;34m\u001b[0m\u001b[0;34m\u001b[0m\u001b[0m\n",
            "\u001b[0;31mValueError\u001b[0m: operands could not be broadcast together with shapes (3,4) (3,) "
          ]
        }
      ]
    },
    {
      "cell_type": "markdown",
      "metadata": {
        "id": "d64zPbV0Yw_I"
      },
      "source": [
        "\n",
        "\n",
        "---\n",
        "\n",
        "\n",
        "\n",
        "---\n",
        "\n",
        "\n",
        "## Matplotlib\n",
        "\"Matplotlib is a Python 2D plotting library which produces publication quality figures in a variety of hardcopy formats and interactive environments across platforms.\"\n",
        "https://matplotlib.org/"
      ]
    },
    {
      "cell_type": "markdown",
      "metadata": {
        "id": "XlxOvd7luQur"
      },
      "source": [
        "#### 2D Plot"
      ]
    },
    {
      "cell_type": "code",
      "metadata": {
        "id": "NAKTD-HtL2uI",
        "outputId": "ad2433ec-cc13-4b5d-9e0b-ff00723070aa",
        "colab": {
          "base_uri": "https://localhost:8080/",
          "height": 413
        }
      },
      "source": [
        "import matplotlib.pyplot as plt #pyplot: MATLAB-hoz hasonló ábrák készítéséhez\n",
        "import numpy as np\n",
        "\n",
        "#2D üggvény ábrázoláshoz\n",
        "x = np.arange(0,10,0.1)\n",
        "print(x)\n",
        "print(type(x))\n",
        "y = np.sin(x)\n",
        "plt.plot(x, y)\n",
        "plt.plot(x, y+0.1,'go--')\n",
        "plt.title('Sine Wave')\n",
        "plt.ylabel('Amplitude')\n",
        "plt.xlabel('Phase')\n",
        "plt.show()"
      ],
      "execution_count": null,
      "outputs": [
        {
          "output_type": "stream",
          "text": [
            "[0.  0.1 0.2 0.3 0.4 0.5 0.6 0.7 0.8 0.9 1.  1.1 1.2 1.3 1.4 1.5 1.6 1.7\n",
            " 1.8 1.9 2.  2.1 2.2 2.3 2.4 2.5 2.6 2.7 2.8 2.9 3.  3.1 3.2 3.3 3.4 3.5\n",
            " 3.6 3.7 3.8 3.9 4.  4.1 4.2 4.3 4.4 4.5 4.6 4.7 4.8 4.9 5.  5.1 5.2 5.3\n",
            " 5.4 5.5 5.6 5.7 5.8 5.9 6.  6.1 6.2 6.3 6.4 6.5 6.6 6.7 6.8 6.9 7.  7.1\n",
            " 7.2 7.3 7.4 7.5 7.6 7.7 7.8 7.9 8.  8.1 8.2 8.3 8.4 8.5 8.6 8.7 8.8 8.9\n",
            " 9.  9.1 9.2 9.3 9.4 9.5 9.6 9.7 9.8 9.9]\n",
            "<class 'numpy.ndarray'>\n"
          ],
          "name": "stdout"
        },
        {
          "output_type": "display_data",
          "data": {
            "image/png": "[encoded data removed]",
            "text/plain": [
              "<Figure size 432x288 with 1 Axes>"
            ]
          },
          "metadata": {
            "tags": [],
            "needs_background": "light"
          }
        }
      ]
    },
    {
      "cell_type": "markdown",
      "metadata": {
        "id": "8YP5vwc1ua5a"
      },
      "source": [
        "#### Bar plot, Histogram\n"
      ]
    },
    {
      "cell_type": "code",
      "metadata": {
        "id": "tRhPM6PYuMrg",
        "outputId": "b01c6d22-f46f-4061-e94a-c00acf9c5acd",
        "colab": {
          "base_uri": "https://localhost:8080/",
          "height": 266
        }
      },
      "source": [
        "names = ['group_a', 'group_b', 'group_c']\n",
        "values = [2, 8, 64]\n",
        "plt.bar(names, values)\n",
        "plt.show()"
      ],
      "execution_count": null,
      "outputs": [
        {
          "output_type": "display_data",
          "data": {
            "image/png": "[encoded data removed]",
            "text/plain": [
              "<Figure size 432x288 with 1 Axes>"
            ]
          },
          "metadata": {
            "tags": [],
            "needs_background": "light"
          }
        }
      ]
    },
    {
      "cell_type": "code",
      "metadata": {
        "id": "KbU64CCswtiV",
        "outputId": "b03adbd3-721f-476d-b516-0c3b776d32dc",
        "colab": {
          "base_uri": "https://localhost:8080/",
          "height": 298
        }
      },
      "source": [
        "#Hisztogram\n",
        "x = np.random.randn(10000) #random adat generálás\n",
        "n, bins, patches = plt.hist(x, 10, edgecolor='b', facecolor='b', alpha=0.15, orientation='vertical')\n",
        "print(n)\n",
        "plt.title('Probability Distribution of Something')\n",
        "plt.show()"
      ],
      "execution_count": null,
      "outputs": [
        {
          "output_type": "stream",
          "text": [
            "[   7.   64.  403. 1318. 2431. 2788. 1912.  847.  207.   23.]\n"
          ],
          "name": "stdout"
        },
        {
          "output_type": "display_data",
          "data": {
            "image/png": "[encoded data removed]",
            "text/plain": [
              "<Figure size 432x288 with 1 Axes>"
            ]
          },
          "metadata": {
            "tags": [],
            "needs_background": "light"
          }
        }
      ]
    },
    {
      "cell_type": "markdown",
      "metadata": {
        "id": "Atk5wq5s2nyV"
      },
      "source": [
        "####Scatter Plot"
      ]
    },
    {
      "cell_type": "code",
      "metadata": {
        "id": "1J43PxJy1wPK",
        "outputId": "a3a7a929-a0ea-4ac2-f432-8272f08d4ada",
        "colab": {
          "base_uri": "https://localhost:8080/",
          "height": 265
        }
      },
      "source": [
        "#random adat generálás\n",
        "N = 50\n",
        "x = np.random.rand(N)\n",
        "y = np.random.rand(N)\n",
        "colors = np.random.rand(N)\n",
        "area = (30 * np.random.rand(N))**2  # 0 to 15 point radii\n",
        "\n",
        "plt.scatter(x, y, s=area, c=colors, alpha=0.5)\n",
        "plt.show()"
      ],
      "execution_count": null,
      "outputs": [
        {
          "output_type": "display_data",
          "data": {
            "image/png": "[encoded data removed]",
            "text/plain": [
              "<Figure size 432x288 with 1 Axes>"
            ]
          },
          "metadata": {
            "tags": [],
            "needs_background": "light"
          }
        }
      ]
    },
    {
      "cell_type": "markdown",
      "metadata": {
        "id": "-I0tRHT34Kgr"
      },
      "source": [
        "####Subplot"
      ]
    },
    {
      "cell_type": "code",
      "metadata": {
        "id": "o2zs15494NeW",
        "outputId": "f54dcfa2-6d05-475f-fb48-332787979b33",
        "colab": {
          "base_uri": "https://localhost:8080/",
          "height": 231
        }
      },
      "source": [
        "x = np.arange(0,10,0.1)\n",
        "from skimage import io\n",
        "random_image = io.imread('http://www.nebelmoor.de/rpg/starwars/ewok.jpg')\n",
        "\n",
        "print(type(random_image))\n",
        "\n",
        "ax1 = plt.subplot(221)\n",
        "ax1.plot(x, np.sin(x))\n",
        "ax1.set_ylabel('Amplitude')\n",
        "ax1.set_xlabel('Phase')\n",
        "ax1.set_title('Sine Function')\n",
        "\n",
        "ax2 = plt.subplot(2,2,2)\n",
        "ax2.imshow(random_image)\n",
        "ax2.set_title('ewok')\n",
        "ax2.axis('off')\n",
        "\n",
        "ax3 = plt.subplot(2,2,3)\n",
        "ax3.plot(x, np.sin(x))\n",
        "ax3.plot(x, np.cos(x), color='tab:orange', linestyle='--', linewidth=4) \n",
        "ax3.set_ylabel('Amplitude')\n",
        "ax3.set_xlabel('Phase')\n",
        "ax3.grid(True)\n",
        "ax3.set_title('2 in 1')\n",
        "\n",
        "ax4 = plt.subplot(2,2,4)\n",
        "names = ['group_a', 'group_b', 'group_c']\n",
        "values = [2, 8, 64]\n",
        "ax4.bar(names, values)\n",
        "ax4.set_title('Bar plot')\n",
        "\n",
        "plt.subplots_adjust(top=0.86, bottom=0.05, left=0.05, right=0.95, hspace=0.6, wspace=0.35) #\n",
        "plt.suptitle(\"Figure with four subplots\")\n",
        "plt.show()\n"
      ],
      "execution_count": null,
      "outputs": [
        {
          "output_type": "error",
          "ename": "NameError",
          "evalue": "ignored",
          "traceback": [
            "\u001b[0;31m---------------------------------------------------------------------------\u001b[0m",
            "\u001b[0;31mNameError\u001b[0m                                 Traceback (most recent call last)",
            "\u001b[0;32m<ipython-input-1-7a9aa48ce062>\u001b[0m in \u001b[0;36m<module>\u001b[0;34m()\u001b[0m\n\u001b[0;32m----> 1\u001b[0;31m \u001b[0mx\u001b[0m \u001b[0;34m=\u001b[0m \u001b[0mnp\u001b[0m\u001b[0;34m.\u001b[0m\u001b[0marange\u001b[0m\u001b[0;34m(\u001b[0m\u001b[0;36m0\u001b[0m\u001b[0;34m,\u001b[0m\u001b[0;36m10\u001b[0m\u001b[0;34m,\u001b[0m\u001b[0;36m0.1\u001b[0m\u001b[0;34m)\u001b[0m\u001b[0;34m\u001b[0m\u001b[0;34m\u001b[0m\u001b[0m\n\u001b[0m\u001b[1;32m      2\u001b[0m \u001b[0;32mfrom\u001b[0m \u001b[0mskimage\u001b[0m \u001b[0;32mimport\u001b[0m \u001b[0mio\u001b[0m\u001b[0;34m\u001b[0m\u001b[0;34m\u001b[0m\u001b[0m\n\u001b[1;32m      3\u001b[0m \u001b[0mrandom_image\u001b[0m \u001b[0;34m=\u001b[0m \u001b[0mio\u001b[0m\u001b[0;34m.\u001b[0m\u001b[0mimread\u001b[0m\u001b[0;34m(\u001b[0m\u001b[0;34m'http://www.nebelmoor.de/rpg/starwars/ewok.jpg'\u001b[0m\u001b[0;34m)\u001b[0m\u001b[0;34m\u001b[0m\u001b[0;34m\u001b[0m\u001b[0m\n\u001b[1;32m      4\u001b[0m \u001b[0;34m\u001b[0m\u001b[0m\n\u001b[1;32m      5\u001b[0m \u001b[0mprint\u001b[0m\u001b[0;34m(\u001b[0m\u001b[0mtype\u001b[0m\u001b[0;34m(\u001b[0m\u001b[0mrandom_image\u001b[0m\u001b[0;34m)\u001b[0m\u001b[0;34m)\u001b[0m\u001b[0;34m\u001b[0m\u001b[0;34m\u001b[0m\u001b[0m\n",
            "\u001b[0;31mNameError\u001b[0m: name 'np' is not defined"
          ]
        }
      ]
    },
    {
      "cell_type": "markdown",
      "metadata": {
        "id": "UFhVpTBg0KQX"
      },
      "source": [
        "\n",
        "\n",
        "---\n",
        "\n",
        "\n",
        "\n",
        "---\n",
        "\n",
        "\n",
        "## Pandas\n",
        "Pandas is an open source, BSD-licensed library providing high-performance, easy-to-use data structures and data analysis tools for the Python programming language.\n",
        "\n",
        "https://pandas.pydata.org/\n",
        "\n",
        "https://pandas.pydata.org/pandas-docs/stable/user_guide/10min.html\n"
      ]
    },
    {
      "cell_type": "code",
      "metadata": {
        "id": "CWxhq_P5S0_Y",
        "outputId": "1f575ae6-db78-4395-928d-6ef8e12a7a64",
        "colab": {
          "base_uri": "https://localhost:8080/",
          "height": 134
        }
      },
      "source": [
        "import pandas as pd\n",
        "import numpy as np\n",
        "\n",
        "s = pd.Series([1, 3, 5, np.nan, 6, 8])\n",
        "print(s)"
      ],
      "execution_count": null,
      "outputs": [
        {
          "output_type": "stream",
          "text": [
            "0    1.0\n",
            "1    3.0\n",
            "2    5.0\n",
            "3    NaN\n",
            "4    6.0\n",
            "5    8.0\n",
            "dtype: float64\n"
          ],
          "name": "stdout"
        }
      ]
    },
    {
      "cell_type": "code",
      "metadata": {
        "id": "y9R9rUMM1qHh",
        "outputId": "be4a328e-b8c6-4d9f-a288-1ef4c9aaf22f",
        "colab": {
          "base_uri": "https://localhost:8080/",
          "height": 101
        }
      },
      "source": [
        " df = pd.DataFrame({'A': 1.,\n",
        "   ...:             'B': pd.Timestamp('20201015'),\n",
        "   ...:             'C': pd.Series(1, index=list(range(4)), dtype='float32'),\n",
        "   ...:             'D': np.array([3] * 4, dtype='int32'),\n",
        "   ...:             'E': pd.Categorical([\"test\", \"train\", \"train\", \"val\"]),\n",
        "   ...:             'F': 'foo'})\n",
        " print(df)"
      ],
      "execution_count": null,
      "outputs": [
        {
          "output_type": "stream",
          "text": [
            "     A          B    C  D      E    F\n",
            "0  1.0 2020-10-15  1.0  3   test  foo\n",
            "1  1.0 2020-10-15  1.0  3  train  foo\n",
            "2  1.0 2020-10-15  1.0  3  train  foo\n",
            "3  1.0 2020-10-15  1.0  3    val  foo\n"
          ],
          "name": "stdout"
        }
      ]
    },
    {
      "cell_type": "code",
      "metadata": {
        "id": "z4Pt5OVL2Z2q",
        "outputId": "85d1bc99-7340-4a16-b665-156cc30c16e4",
        "colab": {
          "base_uri": "https://localhost:8080/",
          "height": 195
        }
      },
      "source": [
        "orszagok_df = pd.read_excel(\"http://webdraft.eu/orszagok_varosok/geolista.xls\")  # beolvasás excel fájlból \n",
        "orszagok_df.head() # kiírja a táblázat első 5 sorát"
      ],
      "execution_count": null,
      "outputs": [
        {
          "output_type": "execute_result",
          "data": {
            "text/html": [
              "<div>\n",
              "<style scoped>\n",
              "    .dataframe tbody tr th:only-of-type {\n",
              "        vertical-align: middle;\n",
              "    }\n",
              "\n",
              "    .dataframe tbody tr th {\n",
              "        vertical-align: top;\n",
              "    }\n",
              "\n",
              "    .dataframe thead th {\n",
              "        text-align: right;\n",
              "    }\n",
              "</style>\n",
              "<table border=\"1\" class=\"dataframe\">\n",
              "  <thead>\n",
              "    <tr style=\"text-align: right;\">\n",
              "      <th></th>\n",
              "      <th>Név</th>\n",
              "      <th>Hosszú név</th>\n",
              "      <th>Kód</th>\n",
              "      <th>Főváros</th>\n",
              "      <th>Melléknévi alak</th>\n",
              "      <th>Pénznem</th>\n",
              "      <th>ISO</th>\n",
              "      <th>Pénznem alegység</th>\n",
              "      <th>Angol név</th>\n",
              "    </tr>\n",
              "  </thead>\n",
              "  <tbody>\n",
              "    <tr>\n",
              "      <th>0</th>\n",
              "      <td>Afganisztán</td>\n",
              "      <td>Afgán Iszlám Köztársaság (hivatalos), Afganisz...</td>\n",
              "      <td>AF</td>\n",
              "      <td>Kabul</td>\n",
              "      <td>afgán, afganisztáni, afgán iszlám köztársasági...</td>\n",
              "      <td>afgáni</td>\n",
              "      <td>AFN</td>\n",
              "      <td>puli</td>\n",
              "      <td>Afghanistan</td>\n",
              "    </tr>\n",
              "    <tr>\n",
              "      <th>1</th>\n",
              "      <td>Aland-szigetek</td>\n",
              "      <td>Åland-szigetek</td>\n",
              "      <td>AX</td>\n",
              "      <td>Mariehamn</td>\n",
              "      <td>ålandi, Åland-szigeteki</td>\n",
              "      <td>euró</td>\n",
              "      <td>EUR</td>\n",
              "      <td>cent</td>\n",
              "      <td>Åland</td>\n",
              "    </tr>\n",
              "    <tr>\n",
              "      <th>2</th>\n",
              "      <td>Albánia</td>\n",
              "      <td>Albán Köztársaság</td>\n",
              "      <td>AL</td>\n",
              "      <td>Tirana</td>\n",
              "      <td>albán, albániai, albán köztársasági</td>\n",
              "      <td>lek</td>\n",
              "      <td>ALL</td>\n",
              "      <td>qindar</td>\n",
              "      <td>Albania</td>\n",
              "    </tr>\n",
              "    <tr>\n",
              "      <th>3</th>\n",
              "      <td>Algéria</td>\n",
              "      <td>Algériai Demokratikus és Népi Köztársaság</td>\n",
              "      <td>DZ</td>\n",
              "      <td>Algír</td>\n",
              "      <td>algériai, algériai demokratikus és népi köztár...</td>\n",
              "      <td>algériai dinár</td>\n",
              "      <td>DZD</td>\n",
              "      <td>centime</td>\n",
              "      <td>Algeria</td>\n",
              "    </tr>\n",
              "    <tr>\n",
              "      <th>4</th>\n",
              "      <td>Amerikai Szamoa</td>\n",
              "      <td>Amerikai Szamoa</td>\n",
              "      <td>AS</td>\n",
              "      <td>Pago Pago</td>\n",
              "      <td>szamoai, amerikai szamoai</td>\n",
              "      <td>USA-dollár</td>\n",
              "      <td>USD</td>\n",
              "      <td>cent</td>\n",
              "      <td>American Samoa</td>\n",
              "    </tr>\n",
              "  </tbody>\n",
              "</table>\n",
              "</div>"
            ],
            "text/plain": [
              "                Név  ...       Angol név\n",
              "0       Afganisztán  ...     Afghanistan\n",
              "1   Aland-szigetek   ...           Åland\n",
              "2           Albánia  ...         Albania\n",
              "3           Algéria  ...         Algeria\n",
              "4  Amerikai Szamoa   ...  American Samoa\n",
              "\n",
              "[5 rows x 9 columns]"
            ]
          },
          "metadata": {
            "tags": []
          },
          "execution_count": 24
        }
      ]
    },
    {
      "cell_type": "code",
      "metadata": {
        "id": "4FikVMKC258f",
        "outputId": "34a98468-ef7b-455d-e753-17f2d01772af",
        "colab": {
          "base_uri": "https://localhost:8080/",
          "height": 136
        }
      },
      "source": [
        "orszagok_df.tail(3) # kiírja a táblázat utolsó 3 sorát"
      ],
      "execution_count": null,
      "outputs": [
        {
          "output_type": "execute_result",
          "data": {
            "text/html": [
              "<div>\n",
              "<style scoped>\n",
              "    .dataframe tbody tr th:only-of-type {\n",
              "        vertical-align: middle;\n",
              "    }\n",
              "\n",
              "    .dataframe tbody tr th {\n",
              "        vertical-align: top;\n",
              "    }\n",
              "\n",
              "    .dataframe thead th {\n",
              "        text-align: right;\n",
              "    }\n",
              "</style>\n",
              "<table border=\"1\" class=\"dataframe\">\n",
              "  <thead>\n",
              "    <tr style=\"text-align: right;\">\n",
              "      <th></th>\n",
              "      <th>Név</th>\n",
              "      <th>Hosszú név</th>\n",
              "      <th>Kód</th>\n",
              "      <th>Főváros</th>\n",
              "      <th>Melléknévi alak</th>\n",
              "      <th>Pénznem</th>\n",
              "      <th>ISO</th>\n",
              "      <th>Pénznem alegység</th>\n",
              "      <th>Angol név</th>\n",
              "    </tr>\n",
              "  </thead>\n",
              "  <tbody>\n",
              "    <tr>\n",
              "      <th>238</th>\n",
              "      <td>Zambia</td>\n",
              "      <td>Zambiai Köztársaság</td>\n",
              "      <td>ZM</td>\n",
              "      <td>Lusaka</td>\n",
              "      <td>zambiai, zambiai köztársasági</td>\n",
              "      <td>zambiai kwacha</td>\n",
              "      <td>ZMK</td>\n",
              "      <td>ngwee</td>\n",
              "      <td>Zambia</td>\n",
              "    </tr>\n",
              "    <tr>\n",
              "      <th>239</th>\n",
              "      <td>Zimbabwe</td>\n",
              "      <td>Zimbabwei Köztársaság</td>\n",
              "      <td>ZW</td>\n",
              "      <td>Harare</td>\n",
              "      <td>zimbabwei, zimbabwei köztársasági</td>\n",
              "      <td>zimbabwei dollár</td>\n",
              "      <td>ZWL</td>\n",
              "      <td>cent</td>\n",
              "      <td>Zimbabwe</td>\n",
              "    </tr>\n",
              "    <tr>\n",
              "      <th>240</th>\n",
              "      <td>Zöld-foki-szigetek</td>\n",
              "      <td>Zöld-foki Köztársaság</td>\n",
              "      <td>CV</td>\n",
              "      <td>Praia</td>\n",
              "      <td>zöld-foki, zöld-foki-szigeteki, zöld-foki közt...</td>\n",
              "      <td>zöld-foki köztársasági escudo</td>\n",
              "      <td>CVE</td>\n",
              "      <td>centavo</td>\n",
              "      <td>Cape Verde</td>\n",
              "    </tr>\n",
              "  </tbody>\n",
              "</table>\n",
              "</div>"
            ],
            "text/plain": [
              "                    Név             Hosszú név  ... Pénznem alegység   Angol név\n",
              "238              Zambia    Zambiai Köztársaság  ...            ngwee      Zambia\n",
              "239            Zimbabwe  Zimbabwei Köztársaság  ...             cent    Zimbabwe\n",
              "240  Zöld-foki-szigetek  Zöld-foki Köztársaság  ...          centavo  Cape Verde\n",
              "\n",
              "[3 rows x 9 columns]"
            ]
          },
          "metadata": {
            "tags": []
          },
          "execution_count": 25
        }
      ]
    },
    {
      "cell_type": "code",
      "metadata": {
        "id": "nR6zeI4t3hN6",
        "outputId": "c0bcd1f6-0730-43fb-f7f9-4c5295ce0afe",
        "colab": {
          "base_uri": "https://localhost:8080/",
          "height": 34
        }
      },
      "source": [
        "orszagok_df.index # a táblázat indexei"
      ],
      "execution_count": null,
      "outputs": [
        {
          "output_type": "execute_result",
          "data": {
            "text/plain": [
              "RangeIndex(start=0, stop=241, step=1)"
            ]
          },
          "metadata": {
            "tags": []
          },
          "execution_count": 26
        }
      ]
    },
    {
      "cell_type": "code",
      "metadata": {
        "id": "1LYb1bxu3yd7",
        "outputId": "3d012da6-b037-4077-924c-ca8d8bf31926",
        "colab": {
          "base_uri": "https://localhost:8080/",
          "height": 67
        }
      },
      "source": [
        "orszagok_df.columns # a táblázat oszlop nevei"
      ],
      "execution_count": null,
      "outputs": [
        {
          "output_type": "execute_result",
          "data": {
            "text/plain": [
              "Index(['Név', 'Hosszú név', 'Kód', 'Főváros', 'Melléknévi alak', 'Pénznem',\n",
              "       'ISO', 'Pénznem alegység', 'Angol név'],\n",
              "      dtype='object')"
            ]
          },
          "metadata": {
            "tags": []
          },
          "execution_count": 27
        }
      ]
    },
    {
      "cell_type": "code",
      "metadata": {
        "id": "BMwDaZaf4fMU",
        "outputId": "682154c7-94f2-4523-a98a-b1c77e6a1838",
        "colab": {
          "base_uri": "https://localhost:8080/",
          "height": 218
        }
      },
      "source": [
        "# hivatkozás egy oszlopra\n",
        "orszagok_df['Név']"
      ],
      "execution_count": null,
      "outputs": [
        {
          "output_type": "execute_result",
          "data": {
            "text/plain": [
              "0             Afganisztán\n",
              "1         Aland-szigetek \n",
              "2                 Albánia\n",
              "3                 Algéria\n",
              "4        Amerikai Szamoa \n",
              "              ...        \n",
              "236               Vietnam\n",
              "237     Wallis és Futuna \n",
              "238                Zambia\n",
              "239              Zimbabwe\n",
              "240    Zöld-foki-szigetek\n",
              "Name: Név, Length: 241, dtype: object"
            ]
          },
          "metadata": {
            "tags": []
          },
          "execution_count": 28
        }
      ]
    },
    {
      "cell_type": "code",
      "metadata": {
        "id": "AoM1LpaH4nZI",
        "outputId": "9c932b73-f2f6-4a60-c99d-3f78d4670c26",
        "colab": {
          "base_uri": "https://localhost:8080/",
          "height": 461
        }
      },
      "source": [
        "# hivatkozás sorokra\n",
        "orszagok_df[50:60]"
      ],
      "execution_count": null,
      "outputs": [
        {
          "output_type": "execute_result",
          "data": {
            "text/html": [
              "<div>\n",
              "<style scoped>\n",
              "    .dataframe tbody tr th:only-of-type {\n",
              "        vertical-align: middle;\n",
              "    }\n",
              "\n",
              "    .dataframe tbody tr th {\n",
              "        vertical-align: top;\n",
              "    }\n",
              "\n",
              "    .dataframe thead th {\n",
              "        text-align: right;\n",
              "    }\n",
              "</style>\n",
              "<table border=\"1\" class=\"dataframe\">\n",
              "  <thead>\n",
              "    <tr style=\"text-align: right;\">\n",
              "      <th></th>\n",
              "      <th>Név</th>\n",
              "      <th>Hosszú név</th>\n",
              "      <th>Kód</th>\n",
              "      <th>Főváros</th>\n",
              "      <th>Melléknévi alak</th>\n",
              "      <th>Pénznem</th>\n",
              "      <th>ISO</th>\n",
              "      <th>Pénznem alegység</th>\n",
              "      <th>Angol név</th>\n",
              "    </tr>\n",
              "  </thead>\n",
              "  <tbody>\n",
              "    <tr>\n",
              "      <th>50</th>\n",
              "      <td>Dél-Georgia és Déli-Sandwich-szigetek</td>\n",
              "      <td>Dél-Georgia és Déli-Sandwich-szigetek</td>\n",
              "      <td>GS</td>\n",
              "      <td>NaN</td>\n",
              "      <td>déli-Georgia és déli-Sandwich-szigeteki</td>\n",
              "      <td>font sterling</td>\n",
              "      <td>GBP</td>\n",
              "      <td>penny</td>\n",
              "      <td>South Georgia and the South Sandwich Islands</td>\n",
              "    </tr>\n",
              "    <tr>\n",
              "      <th>51</th>\n",
              "      <td>Dél-Korea</td>\n",
              "      <td>Koreai Köztársaság</td>\n",
              "      <td>KR</td>\n",
              "      <td>Szöul</td>\n",
              "      <td>dél-koreai, koreai köztársasági</td>\n",
              "      <td>dél-koreai von</td>\n",
              "      <td>KRW</td>\n",
              "      <td>cson</td>\n",
              "      <td>Korea, Republic of</td>\n",
              "    </tr>\n",
              "    <tr>\n",
              "      <th>52</th>\n",
              "      <td>Dominika</td>\n",
              "      <td>Dominikai Közösség</td>\n",
              "      <td>DM</td>\n",
              "      <td>Roseau</td>\n",
              "      <td>dominikai, dominikai közösségi</td>\n",
              "      <td>kelet-karibi dollár</td>\n",
              "      <td>XCD</td>\n",
              "      <td>cent</td>\n",
              "      <td>Dominica</td>\n",
              "    </tr>\n",
              "    <tr>\n",
              "      <th>53</th>\n",
              "      <td>Dominikai Köztársaság</td>\n",
              "      <td>Dominikai Köztársaság</td>\n",
              "      <td>DO</td>\n",
              "      <td>Santo Domingo</td>\n",
              "      <td>dominikai, dominikai köztársasági</td>\n",
              "      <td>dominikai peso</td>\n",
              "      <td>DOP</td>\n",
              "      <td>centavo</td>\n",
              "      <td>Dominican Republic</td>\n",
              "    </tr>\n",
              "    <tr>\n",
              "      <th>54</th>\n",
              "      <td>Dzsibuti</td>\n",
              "      <td>Dzsibuti Köztársaság</td>\n",
              "      <td>DJ</td>\n",
              "      <td>Dzsibuti</td>\n",
              "      <td>dzsibuti, dzsibuti köztársasági</td>\n",
              "      <td>dzsibuti frank</td>\n",
              "      <td>DJF</td>\n",
              "      <td>centime</td>\n",
              "      <td>Djibouti</td>\n",
              "    </tr>\n",
              "    <tr>\n",
              "      <th>55</th>\n",
              "      <td>Ecuador</td>\n",
              "      <td>Ecuadori Köztársaság</td>\n",
              "      <td>EC</td>\n",
              "      <td>Quito</td>\n",
              "      <td>ecuadori, ecuadori köztársasági</td>\n",
              "      <td>USA-dollár</td>\n",
              "      <td>USD</td>\n",
              "      <td>cent</td>\n",
              "      <td>Ecuador</td>\n",
              "    </tr>\n",
              "    <tr>\n",
              "      <th>56</th>\n",
              "      <td>Egyenlítői-Guinea</td>\n",
              "      <td>Egyenlítői-guineai Köztársaság</td>\n",
              "      <td>GQ</td>\n",
              "      <td>Malabo</td>\n",
              "      <td>egyenlítői-guineai, egyenlítői-guineai köztárs...</td>\n",
              "      <td>CFA-frank (BEAC)</td>\n",
              "      <td>XAF</td>\n",
              "      <td>centime</td>\n",
              "      <td>Equatorial Guinea</td>\n",
              "    </tr>\n",
              "    <tr>\n",
              "      <th>57</th>\n",
              "      <td>Egyesült Államok</td>\n",
              "      <td>Amerikai Egyesült Államok</td>\n",
              "      <td>US</td>\n",
              "      <td>Washington</td>\n",
              "      <td>egyesült államokbeli, amerikai egyesült államo...</td>\n",
              "      <td>USA-dollár</td>\n",
              "      <td>USD</td>\n",
              "      <td>cent</td>\n",
              "      <td>United States</td>\n",
              "    </tr>\n",
              "    <tr>\n",
              "      <th>58</th>\n",
              "      <td>Egyesült Arab Emírségek</td>\n",
              "      <td>Egyesült Arab Emírségek</td>\n",
              "      <td>AE</td>\n",
              "      <td>Abu-Dzabi</td>\n",
              "      <td>egyesült arab emírségekbeli</td>\n",
              "      <td>dirham</td>\n",
              "      <td>AED</td>\n",
              "      <td>fil</td>\n",
              "      <td>United Arab Emirates</td>\n",
              "    </tr>\n",
              "    <tr>\n",
              "      <th>59</th>\n",
              "      <td>Egyesült Királyság</td>\n",
              "      <td>Nagy-Britannia és Észak-Írország Egyesült Kirá...</td>\n",
              "      <td>UK</td>\n",
              "      <td>London</td>\n",
              "      <td>egyesült királyságbeli</td>\n",
              "      <td>font sterling</td>\n",
              "      <td>GBP</td>\n",
              "      <td>penny</td>\n",
              "      <td>United Kingdom</td>\n",
              "    </tr>\n",
              "  </tbody>\n",
              "</table>\n",
              "</div>"
            ],
            "text/plain": [
              "                                       Név  ...                                     Angol név\n",
              "50  Dél-Georgia és Déli-Sandwich-szigetek   ...  South Georgia and the South Sandwich Islands\n",
              "51                               Dél-Korea  ...                            Korea, Republic of\n",
              "52                                Dominika  ...                                      Dominica\n",
              "53                   Dominikai Köztársaság  ...                            Dominican Republic\n",
              "54                                Dzsibuti  ...                                      Djibouti\n",
              "55                                 Ecuador  ...                                       Ecuador\n",
              "56                       Egyenlítői-Guinea  ...                             Equatorial Guinea\n",
              "57                        Egyesült Államok  ...                                 United States\n",
              "58                 Egyesült Arab Emírségek  ...                          United Arab Emirates\n",
              "59                      Egyesült Királyság  ...                                United Kingdom\n",
              "\n",
              "[10 rows x 9 columns]"
            ]
          },
          "metadata": {
            "tags": []
          },
          "execution_count": 29
        }
      ]
    },
    {
      "cell_type": "code",
      "metadata": {
        "id": "2aDy6bQt5HWn",
        "outputId": "63605abf-acdf-47a3-9ef4-bde65bd41775",
        "colab": {
          "base_uri": "https://localhost:8080/",
          "height": 225
        }
      },
      "source": [
        "orszagok_df.loc[70:75, [\"Név\"]] # címzés címke alapján"
      ],
      "execution_count": null,
      "outputs": [
        {
          "output_type": "execute_result",
          "data": {
            "text/html": [
              "<div>\n",
              "<style scoped>\n",
              "    .dataframe tbody tr th:only-of-type {\n",
              "        vertical-align: middle;\n",
              "    }\n",
              "\n",
              "    .dataframe tbody tr th {\n",
              "        vertical-align: top;\n",
              "    }\n",
              "\n",
              "    .dataframe thead th {\n",
              "        text-align: right;\n",
              "    }\n",
              "</style>\n",
              "<table border=\"1\" class=\"dataframe\">\n",
              "  <thead>\n",
              "    <tr style=\"text-align: right;\">\n",
              "      <th></th>\n",
              "      <th>Név</th>\n",
              "    </tr>\n",
              "  </thead>\n",
              "  <tbody>\n",
              "    <tr>\n",
              "      <th>70</th>\n",
              "      <td>Finnország</td>\n",
              "    </tr>\n",
              "    <tr>\n",
              "      <th>71</th>\n",
              "      <td>Francia Déli Területek</td>\n",
              "    </tr>\n",
              "    <tr>\n",
              "      <th>72</th>\n",
              "      <td>Francia Guyana</td>\n",
              "    </tr>\n",
              "    <tr>\n",
              "      <th>73</th>\n",
              "      <td>Francia Polinézia</td>\n",
              "    </tr>\n",
              "    <tr>\n",
              "      <th>74</th>\n",
              "      <td>Franciaország</td>\n",
              "    </tr>\n",
              "    <tr>\n",
              "      <th>75</th>\n",
              "      <td>Fülöp-szigetek</td>\n",
              "    </tr>\n",
              "  </tbody>\n",
              "</table>\n",
              "</div>"
            ],
            "text/plain": [
              "                        Név\n",
              "70               Finnország\n",
              "71  Francia Déli Területek \n",
              "72          Francia Guyana \n",
              "73       Francia Polinézia \n",
              "74            Franciaország\n",
              "75           Fülöp-szigetek"
            ]
          },
          "metadata": {
            "tags": []
          },
          "execution_count": 30
        }
      ]
    },
    {
      "cell_type": "code",
      "metadata": {
        "id": "xB_Yzvn-5lme",
        "outputId": "a466ad82-abb0-4c3e-cf95-5f3d01f0a894",
        "colab": {
          "base_uri": "https://localhost:8080/",
          "height": 106
        }
      },
      "source": [
        "orszagok_df.iloc[120:122, [0,2,3,5]] # címzés pozíció alapján"
      ],
      "execution_count": null,
      "outputs": [
        {
          "output_type": "execute_result",
          "data": {
            "text/html": [
              "<div>\n",
              "<style scoped>\n",
              "    .dataframe tbody tr th:only-of-type {\n",
              "        vertical-align: middle;\n",
              "    }\n",
              "\n",
              "    .dataframe tbody tr th {\n",
              "        vertical-align: top;\n",
              "    }\n",
              "\n",
              "    .dataframe thead th {\n",
              "        text-align: right;\n",
              "    }\n",
              "</style>\n",
              "<table border=\"1\" class=\"dataframe\">\n",
              "  <thead>\n",
              "    <tr style=\"text-align: right;\">\n",
              "      <th></th>\n",
              "      <th>Név</th>\n",
              "      <th>Kód</th>\n",
              "      <th>Főváros</th>\n",
              "      <th>Pénznem</th>\n",
              "    </tr>\n",
              "  </thead>\n",
              "  <tbody>\n",
              "    <tr>\n",
              "      <th>120</th>\n",
              "      <td>Kolumbia</td>\n",
              "      <td>CO</td>\n",
              "      <td>Bogotá</td>\n",
              "      <td>kolumbiai peso</td>\n",
              "    </tr>\n",
              "    <tr>\n",
              "      <th>121</th>\n",
              "      <td>Kongó</td>\n",
              "      <td>CG</td>\n",
              "      <td>Brazzaville</td>\n",
              "      <td>CFA-frank (BEAC)</td>\n",
              "    </tr>\n",
              "  </tbody>\n",
              "</table>\n",
              "</div>"
            ],
            "text/plain": [
              "          Név Kód      Főváros           Pénznem\n",
              "120  Kolumbia  CO       Bogotá    kolumbiai peso\n",
              "121     Kongó  CG  Brazzaville  CFA-frank (BEAC)"
            ]
          },
          "metadata": {
            "tags": []
          },
          "execution_count": 31
        }
      ]
    },
    {
      "cell_type": "code",
      "metadata": {
        "id": "ovgWsAKL6K2Q",
        "outputId": "278a4843-5405-40db-f958-003921032707",
        "colab": {
          "base_uri": "https://localhost:8080/",
          "height": 77
        }
      },
      "source": [
        "# Bool indexelés\n",
        "orszagok_df[orszagok_df['Név'] == 'Magyarország']"
      ],
      "execution_count": null,
      "outputs": [
        {
          "output_type": "execute_result",
          "data": {
            "text/html": [
              "<div>\n",
              "<style scoped>\n",
              "    .dataframe tbody tr th:only-of-type {\n",
              "        vertical-align: middle;\n",
              "    }\n",
              "\n",
              "    .dataframe tbody tr th {\n",
              "        vertical-align: top;\n",
              "    }\n",
              "\n",
              "    .dataframe thead th {\n",
              "        text-align: right;\n",
              "    }\n",
              "</style>\n",
              "<table border=\"1\" class=\"dataframe\">\n",
              "  <thead>\n",
              "    <tr style=\"text-align: right;\">\n",
              "      <th></th>\n",
              "      <th>Név</th>\n",
              "      <th>Hosszú név</th>\n",
              "      <th>Kód</th>\n",
              "      <th>Főváros</th>\n",
              "      <th>Melléknévi alak</th>\n",
              "      <th>Pénznem</th>\n",
              "      <th>ISO</th>\n",
              "      <th>Pénznem alegység</th>\n",
              "      <th>Angol név</th>\n",
              "    </tr>\n",
              "  </thead>\n",
              "  <tbody>\n",
              "    <tr>\n",
              "      <th>138</th>\n",
              "      <td>Magyarország</td>\n",
              "      <td>Magyar Köztársaság</td>\n",
              "      <td>HU</td>\n",
              "      <td>Budapest</td>\n",
              "      <td>magyar, magyarországi, magyar köztársasági</td>\n",
              "      <td>forint</td>\n",
              "      <td>HUF</td>\n",
              "      <td>fillér</td>\n",
              "      <td>Hungary</td>\n",
              "    </tr>\n",
              "  </tbody>\n",
              "</table>\n",
              "</div>"
            ],
            "text/plain": [
              "              Név          Hosszú név Kód  ...  ISO Pénznem alegység Angol név\n",
              "138  Magyarország  Magyar Köztársaság  HU  ...  HUF           fillér   Hungary\n",
              "\n",
              "[1 rows x 9 columns]"
            ]
          },
          "metadata": {
            "tags": []
          },
          "execution_count": 32
        }
      ]
    },
    {
      "cell_type": "code",
      "metadata": {
        "id": "arhBT24BWo8O",
        "outputId": "07999511-3daa-4627-a7cc-41976f0d973f",
        "colab": {
          "base_uri": "https://localhost:8080/",
          "height": 136
        }
      },
      "source": [
        "# Concat\n",
        "belgium = orszagok_df[orszagok_df['Név'] == 'Belgium']\n",
        "hollandia = orszagok_df[orszagok_df['Név'] == 'Hollandia']\n",
        "luxemburg = orszagok_df[orszagok_df['Név'] == 'Luxemburg']\n",
        "benelux = pd.concat([belgium, hollandia, luxemburg])\n",
        "benelux.head(3)"
      ],
      "execution_count": null,
      "outputs": [
        {
          "output_type": "execute_result",
          "data": {
            "text/html": [
              "<div>\n",
              "<style scoped>\n",
              "    .dataframe tbody tr th:only-of-type {\n",
              "        vertical-align: middle;\n",
              "    }\n",
              "\n",
              "    .dataframe tbody tr th {\n",
              "        vertical-align: top;\n",
              "    }\n",
              "\n",
              "    .dataframe thead th {\n",
              "        text-align: right;\n",
              "    }\n",
              "</style>\n",
              "<table border=\"1\" class=\"dataframe\">\n",
              "  <thead>\n",
              "    <tr style=\"text-align: right;\">\n",
              "      <th></th>\n",
              "      <th>Név</th>\n",
              "      <th>Hosszú név</th>\n",
              "      <th>Kód</th>\n",
              "      <th>Főváros</th>\n",
              "      <th>Melléknévi alak</th>\n",
              "      <th>Pénznem</th>\n",
              "      <th>ISO</th>\n",
              "      <th>Pénznem alegység</th>\n",
              "      <th>Angol név</th>\n",
              "    </tr>\n",
              "  </thead>\n",
              "  <tbody>\n",
              "    <tr>\n",
              "      <th>23</th>\n",
              "      <td>Belgium</td>\n",
              "      <td>Belga Királyság</td>\n",
              "      <td>BE</td>\n",
              "      <td>Brüsszel</td>\n",
              "      <td>belga, belgiumi, belga királysági</td>\n",
              "      <td>euró</td>\n",
              "      <td>EUR</td>\n",
              "      <td>cent</td>\n",
              "      <td>Belgium</td>\n",
              "    </tr>\n",
              "    <tr>\n",
              "      <th>92</th>\n",
              "      <td>Hollandia</td>\n",
              "      <td>Holland Királyság</td>\n",
              "      <td>NL</td>\n",
              "      <td>Amszterdam</td>\n",
              "      <td>holland, holland királysági</td>\n",
              "      <td>euró</td>\n",
              "      <td>EUR</td>\n",
              "      <td>cent</td>\n",
              "      <td>Netherlands</td>\n",
              "    </tr>\n",
              "    <tr>\n",
              "      <th>135</th>\n",
              "      <td>Luxemburg</td>\n",
              "      <td>Luxemburgi Nagyhercegség</td>\n",
              "      <td>LU</td>\n",
              "      <td>Luxembourg</td>\n",
              "      <td>luxemburgi, luxemburgi nagyhercegségi</td>\n",
              "      <td>euró</td>\n",
              "      <td>EUR</td>\n",
              "      <td>cent</td>\n",
              "      <td>Luxembourg</td>\n",
              "    </tr>\n",
              "  </tbody>\n",
              "</table>\n",
              "</div>"
            ],
            "text/plain": [
              "           Név                Hosszú név Kód  ...  ISO Pénznem alegység    Angol név\n",
              "23     Belgium           Belga Királyság  BE  ...  EUR             cent      Belgium\n",
              "92   Hollandia         Holland Királyság  NL  ...  EUR             cent  Netherlands\n",
              "135  Luxemburg  Luxemburgi Nagyhercegség  LU  ...  EUR             cent   Luxembourg\n",
              "\n",
              "[3 rows x 9 columns]"
            ]
          },
          "metadata": {
            "tags": []
          },
          "execution_count": 33
        }
      ]
    },
    {
      "cell_type": "markdown",
      "metadata": {
        "id": "TpuB0NGvVDWB"
      },
      "source": [
        "\n",
        "\n",
        "---\n",
        "\n",
        "\n",
        "##Gyakorlás IV."
      ]
    },
    {
      "cell_type": "code",
      "metadata": {
        "id": "8CTOMU3PVPvP",
        "outputId": "9530d636-373e-4be6-87de-814f18fea4b8",
        "colab": {
          "base_uri": "https://localhost:8080/",
          "height": 279
        }
      },
      "source": [
        "# IV/1. Hozzd létre a következő ábrát:\n",
        "import matplotlib.pyplot as plt #pyplot: MATLAB-hoz hasonló ábrák készítéséhez\n",
        "import numpy as np\n",
        "x = np.arange(0,10,0.1)\n",
        "plt.plot(x, np.sin(x))\n",
        "plt.plot(x, np.cos(x), color='tab:orange', linestyle='--', linewidth=4) \n",
        "\n",
        "\n",
        "plt.grid(True)\n",
        "\n",
        "plt.ylabel('Amplitude')\n",
        "plt.xlabel('Phase')\n",
        "plt.show()\n",
        "\n"
      ],
      "execution_count": null,
      "outputs": [
        {
          "output_type": "display_data",
          "data": {
            "image/png": "[encoded data removed]",
            "text/plain": [
              "<Figure size 432x288 with 1 Axes>"
            ]
          },
          "metadata": {
            "tags": [],
            "needs_background": "light"
          }
        }
      ]
    },
    {
      "cell_type": "markdown",
      "metadata": {
        "id": "cCnaL4NfVckG"
      },
      "source": [
        "![image.png](data:image/png;base64,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)"
      ]
    },
    {
      "cell_type": "code",
      "metadata": {
        "id": "32ee3Lo_irj6"
      },
      "source": [
        "# IV/2. Készíts egy random numpy tömböt, melyben 10 darab 6 dimenziós random vektor van (vagyis a tömb mérete 10x6). \n",
        "# Készítsd el az euklideszi távolság mátrixot a vektorok között.\n",
        "# +1: Keresd meg minden vektor legközelebbi párját."
      ],
      "execution_count": null,
      "outputs": []
    },
    {
      "cell_type": "code",
      "metadata": {
        "id": "JV7y2uXd3OiF"
      },
      "source": [
        "# IV/3. írd ki azoknak az országoknak a neveit az orszagok_df dataframe-ből, ahol 'cent' a Pénznem alegység."
      ],
      "execution_count": null,
      "outputs": []
    },
    {
      "cell_type": "code",
      "metadata": {
        "id": "qxkBhkkRV0-G"
      },
      "source": [
        "# IV/4. készíts egy dataframet, amiben a két sorozat 1-1 oszlopnak fele meg\n",
        "ser1 = pd.Series(list('abcedfghijklmnopqrstuvwxyz'))\n",
        "ser2 = pd.Series(np.arange(26))"
      ],
      "execution_count": null,
      "outputs": []
    },
    {
      "cell_type": "code",
      "metadata": {
        "id": "wXagY0VXbdSl"
      },
      "source": [
        "# IV/5. Keresd meg azokat az elemeket, amik csak a ser1-ben szerepelnek (~készíts egy sorozatot, amiben ser1 azon elemei szerepelnek, amik nincsenek benne ser2-ben)\n",
        "ser1 = pd.Series([1, 2, 3, 4, 5])\n",
        "ser2 = pd.Series([4, 5, 6, 7, 8])"
      ],
      "execution_count": null,
      "outputs": []
    },
    {
      "cell_type": "markdown",
      "metadata": {
        "id": "sEnLnrpF098e"
      },
      "source": [
        "\n",
        "\n",
        "---\n",
        "\n",
        "\n",
        "\n",
        "---\n",
        "\n",
        "##Python fejlesztő környezet\n",
        "\n",
        "A Colab vagy Jupyter notebook kivállóan alkalmas előadások, riportok készítéséhez, de összetettebb több osztályos, több modulos program megírása kényelmesebb egy offline fejlesztő környezetben.\n",
        "\n"
      ]
    },
    {
      "cell_type": "markdown",
      "metadata": {
        "id": "vAoWphEBS6F0"
      },
      "source": [
        "Néhány népszerű fejlesztő környezet (IDE - Integrated Development Environement):\n",
        "\n",
        "\n",
        "*   PyCharm (https://www.jetbrains.com/pycharm/)\n",
        "*   Spyder (https://www.spyder-ide.org/)\n",
        "*   IDLE (https://docs.python.org/3/library/idle.html)\n",
        "*   PyDev (http://www.pydev.org/)\n",
        "\n",
        "https://www.softwaretestinghelp.com/python-ide-code-editors/\n",
        "\n",
        "\n"
      ]
    }
  ]
}