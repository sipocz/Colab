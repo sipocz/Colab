{
  "nbformat": 4,
  "nbformat_minor": 0,
  "metadata": {
    "colab": {
      "name": "Ames house pricing analysis_step_2.ipynb",
      "provenance": [],
      "collapsed_sections": [],
      "authorship_tag": "ABX9TyPrTBQ6nOXvfE+b2Vn9Lwps",
      "include_colab_link": true
    },
    "kernelspec": {
      "name": "python3",
      "display_name": "Python 3"
    }
  },
  "cells": [
    {
      "cell_type": "markdown",
      "metadata": {
        "id": "view-in-github",
        "colab_type": "text"
      },
      "source": [
        "<a href=\"https://colab.research.google.com/github/sipocz/Colab/blob/main/Ames_house_pricing_analysis_step_2.ipynb\" target=\"_parent\"><img src=\"https://colab.research.google.com/assets/colab-badge.svg\" alt=\"Open In Colab\"/></a>"
      ]
    },
    {
      "cell_type": "code",
      "metadata": {
        "colab": {
          "base_uri": "https://localhost:8080/"
        },
        "id": "nZYTcriUS1Wc",
        "outputId": "2347e21b-a2f4-42e8-eaac-6a850f1299af"
      },
      "source": [
        "from google.colab import drive\n",
        "drive.mount('/content/drive',force_remount=True)\n",
        "import numpy as np\n",
        "import pandas as pd\n",
        "import matplotlib.pyplot as plt\n",
        "#import sweetviz as sw\n",
        "\n",
        "import seaborn as sns"
      ],
      "execution_count": 2,
      "outputs": [
        {
          "output_type": "stream",
          "text": [
            "Mounted at /content/drive\n"
          ],
          "name": "stdout"
        }
      ]
    },
    {
      "cell_type": "code",
      "metadata": {
        "colab": {
          "base_uri": "https://localhost:8080/"
        },
        "id": "sYwUcQusU0qB",
        "outputId": "8a9159cd-7079-4f9a-dfa6-53698eebf142"
      },
      "source": [
        "!pip install sweetviz"
      ],
      "execution_count": 3,
      "outputs": [
        {
          "output_type": "stream",
          "text": [
            "Requirement already satisfied: sweetviz in /usr/local/lib/python3.6/dist-packages (1.1.2)\n",
            "Requirement already satisfied: numpy>=1.16.0 in /usr/local/lib/python3.6/dist-packages (from sweetviz) (1.18.5)\n",
            "Requirement already satisfied: scipy>=1.3.2 in /usr/local/lib/python3.6/dist-packages (from sweetviz) (1.4.1)\n",
            "Requirement already satisfied: matplotlib>=3.1.3 in /usr/local/lib/python3.6/dist-packages (from sweetviz) (3.2.2)\n",
            "Requirement already satisfied: jinja2>=2.11.1 in /usr/local/lib/python3.6/dist-packages (from sweetviz) (2.11.2)\n",
            "Requirement already satisfied: importlib-resources>=1.2.0 in /usr/local/lib/python3.6/dist-packages (from sweetviz) (3.3.0)\n",
            "Requirement already satisfied: pandas!=1.0.0,!=1.0.1,!=1.0.2,>=0.25.3 in /usr/local/lib/python3.6/dist-packages (from sweetviz) (1.1.4)\n",
            "Requirement already satisfied: tqdm>=4.43.0 in /usr/local/lib/python3.6/dist-packages (from sweetviz) (4.53.0)\n",
            "Requirement already satisfied: kiwisolver>=1.0.1 in /usr/local/lib/python3.6/dist-packages (from matplotlib>=3.1.3->sweetviz) (1.3.1)\n",
            "Requirement already satisfied: python-dateutil>=2.1 in /usr/local/lib/python3.6/dist-packages (from matplotlib>=3.1.3->sweetviz) (2.8.1)\n",
            "Requirement already satisfied: pyparsing!=2.0.4,!=2.1.2,!=2.1.6,>=2.0.1 in /usr/local/lib/python3.6/dist-packages (from matplotlib>=3.1.3->sweetviz) (2.4.7)\n",
            "Requirement already satisfied: cycler>=0.10 in /usr/local/lib/python3.6/dist-packages (from matplotlib>=3.1.3->sweetviz) (0.10.0)\n",
            "Requirement already satisfied: MarkupSafe>=0.23 in /usr/local/lib/python3.6/dist-packages (from jinja2>=2.11.1->sweetviz) (1.1.1)\n",
            "Requirement already satisfied: zipp>=0.4; python_version < \"3.8\" in /usr/local/lib/python3.6/dist-packages (from importlib-resources>=1.2.0->sweetviz) (3.4.0)\n",
            "Requirement already satisfied: pytz>=2017.2 in /usr/local/lib/python3.6/dist-packages (from pandas!=1.0.0,!=1.0.1,!=1.0.2,>=0.25.3->sweetviz) (2018.9)\n",
            "Requirement already satisfied: six>=1.5 in /usr/local/lib/python3.6/dist-packages (from python-dateutil>=2.1->matplotlib>=3.1.3->sweetviz) (1.15.0)\n"
          ],
          "name": "stdout"
        }
      ]
    },
    {
      "cell_type": "code",
      "metadata": {
        "id": "iqFTya0EU17m"
      },
      "source": [
        "import sweetviz as sw\n"
      ],
      "execution_count": 4,
      "outputs": []
    },
    {
      "cell_type": "markdown",
      "metadata": {
        "id": "oYTFNce5_u4L"
      },
      "source": [
        "# **Subrutinok**"
      ]
    },
    {
      "cell_type": "code",
      "metadata": {
        "id": "CJmWTOfW_tse"
      },
      "source": [
        "def checkvalues(columnname,key):\n",
        "    print(f\"{columnname} ellenőrzése !\")\n",
        "    numok=0\n",
        "    numerr=0\n",
        "    for i in df.index:\n",
        "        if df.at[i,columnname] in key:\n",
        "            #print(df.at[i,columnname])\n",
        "            numok+=1\n",
        "            pass\n",
        "        else:\n",
        "            numerr+=1\n",
        "            print(df.at[i,columnname],end=\", \")\n",
        "    sumall=numok+numerr\n",
        "    print(f\"\\n{sumall} mintából {numerr} db nem volt megfelelő\")"
      ],
      "execution_count": 5,
      "outputs": []
    },
    {
      "cell_type": "code",
      "metadata": {
        "id": "77GbKx6y_zfT"
      },
      "source": [
        "def createcolumn(columnname,keys):\n",
        "    for key in keys:\n",
        "        df[keys[key]]=0.0\n",
        "    for key in keys:\n",
        "        for i in df.index:\n",
        "            if df.at[i,columnname]==key:\n",
        "                df.at[i,keys[key]]=1.0"
      ],
      "execution_count": 6,
      "outputs": []
    },
    {
      "cell_type": "markdown",
      "metadata": {
        "id": "bG3PjEa_N8OT"
      },
      "source": [
        "# **Adattisztítás**"
      ]
    },
    {
      "cell_type": "code",
      "metadata": {
        "id": "WcWte69Dpc20"
      },
      "source": [
        "# Annyi mindent csináltunk, itt újraolvasom...\n",
        "df=pd.read_csv(\"/content/drive/My Drive/001_AI/05_AI/hazi/train.csv\")\n",
        "#df.head()\n",
        "\n",
        "#correlationMAt=df.corr()\n",
        "#print(correlationMAt)"
      ],
      "execution_count": 7,
      "outputs": []
    },
    {
      "cell_type": "code",
      "metadata": {
        "id": "Sb6l2HFZsTFc",
        "colab": {
          "base_uri": "https://localhost:8080/"
        },
        "outputId": "147c1331-a151-424e-c4d2-9589ea036a76"
      },
      "source": [
        "a=set(df[\"Neighborhood\"])\n",
        "#print(a)\n",
        "#df.mean()\n",
        "salePrice_by_Neighborhood=df.groupby(\"Neighborhood\")[[\"SalePrice\"]].describe()\n",
        "#print(salePrice_by_Neighborhood)\n",
        "\n",
        "#print(salePrice_by_Neighborhood[(\"SalePrice\",\"mean\")])\n",
        "salePrice_by_Neighborhood.columns=salePrice_by_Neighborhood.columns.droplevel(0)\n",
        "#print(salePrice_by_Neighborhood.columns)\n",
        "dfs=salePrice_by_Neighborhood[\"mean\"]\n",
        "#print(dfs)\n",
        "dfs2=dfs.sort_values(0)\n",
        "#print(dfs2)\n",
        "dfs2_enum=dfs2.index\n",
        "rangsor={i:index for index,i in enumerate(dfs2_enum)}\n",
        "print(rangsor)"
      ],
      "execution_count": 8,
      "outputs": [
        {
          "output_type": "stream",
          "text": [
            "{'MeadowV': 0, 'IDOTRR': 1, 'BrDale': 2, 'BrkSide': 3, 'Edwards': 4, 'OldTown': 5, 'Sawyer': 6, 'Blueste': 7, 'SWISU': 8, 'NPkVill': 9, 'NAmes': 10, 'Mitchel': 11, 'SawyerW': 12, 'NWAmes': 13, 'Gilbert': 14, 'Blmngtn': 15, 'CollgCr': 16, 'Crawfor': 17, 'ClearCr': 18, 'Somerst': 19, 'Veenker': 20, 'Timber': 21, 'StoneBr': 22, 'NridgHt': 23, 'NoRidge': 24}\n"
          ],
          "name": "stdout"
        }
      ]
    },
    {
      "cell_type": "markdown",
      "metadata": {
        "id": "bcuAtCrP-qOR"
      },
      "source": [
        "**És megvan a kerületek rangsora... :-)**"
      ]
    },
    {
      "cell_type": "markdown",
      "metadata": {
        "id": "6QlZtNNrAgdH"
      },
      "source": [
        "# **Tegyük bele a Dataframe-be **"
      ]
    },
    {
      "cell_type": "code",
      "metadata": {
        "id": "SyamQ_5rAdvq",
        "colab": {
          "base_uri": "https://localhost:8080/"
        },
        "outputId": "55c3b6a5-cc7e-48f9-9c2c-d1e9b29da38e"
      },
      "source": [
        "# Annyi mindent csináltunk, itt újraolvasom...\n",
        "df=pd.read_csv(\"/content/drive/My Drive/001_AI/05_AI/hazi/train.csv\")\n",
        "#df.head()\n",
        "\n",
        "for neigh_name in rangsor:\n",
        "    df[neigh_name]=0.0\n",
        "for neigh_name in rangsor:\n",
        "    print(neigh_name)\n",
        "    for i in df.index:\n",
        "        if df.at[i,\"Neighborhood\"]==neigh_name:\n",
        "            df.at[i,neigh_name]=1\n",
        "            \n",
        "#print(df[\"Neighborhood\"])  kiírjuk, hogy számok lettek -e"
      ],
      "execution_count": 9,
      "outputs": [
        {
          "output_type": "stream",
          "text": [
            "MeadowV\n",
            "IDOTRR\n",
            "BrDale\n",
            "BrkSide\n",
            "Edwards\n",
            "OldTown\n",
            "Sawyer\n",
            "Blueste\n",
            "SWISU\n",
            "NPkVill\n",
            "NAmes\n",
            "Mitchel\n",
            "SawyerW\n",
            "NWAmes\n",
            "Gilbert\n",
            "Blmngtn\n",
            "CollgCr\n",
            "Crawfor\n",
            "ClearCr\n",
            "Somerst\n",
            "Veenker\n",
            "Timber\n",
            "StoneBr\n",
            "NridgHt\n",
            "NoRidge\n"
          ],
          "name": "stdout"
        }
      ]
    },
    {
      "cell_type": "code",
      "metadata": {
        "id": "UIiGAnBkb-y5"
      },
      "source": [
        "#df.head()"
      ],
      "execution_count": 10,
      "outputs": []
    },
    {
      "cell_type": "markdown",
      "metadata": {
        "id": "3x6W9ZM5PFRJ"
      },
      "source": [
        "# Adattisztítás: **KitchenQual**\n",
        "\n",
        "\n",
        "* Ex\tExcellent\n",
        "* Gd\tGood\n",
        "* TA\tTypical/Average\n",
        "* Fa\tFair\n",
        "* Po\tPoor\n",
        "\n",
        "\n"
      ]
    },
    {
      "cell_type": "code",
      "metadata": {
        "id": "p2aHIXgPPEkZ",
        "colab": {
          "base_uri": "https://localhost:8080/"
        },
        "outputId": "3c7ef113-026d-4a1a-e721-37e3d415c8e3"
      },
      "source": [
        "keys={\"Ex\":\"KitchenQual_Ex\", \"Gd\":\"KitchenQual_Gd\", \"TA\":\"KitchenQual_Ta\",\"Fa\":\"KitchenQual_Fa\",\"Po\":\"KitchenQual_Po\"}\n",
        "idx=\"KitchenQual\"\n",
        "checkvalues(idx,keys)\n",
        "#print(df[idx])\n",
        "createcolumn(idx,keys)"
      ],
      "execution_count": 11,
      "outputs": [
        {
          "output_type": "stream",
          "text": [
            "KitchenQual ellenőrzése !\n",
            "\n",
            "1460 mintából 0 db nem volt megfelelő\n"
          ],
          "name": "stdout"
        }
      ]
    },
    {
      "cell_type": "markdown",
      "metadata": {
        "id": "yntlPDJnKnnh"
      },
      "source": [
        "# **Street**: Type of road access to property\n",
        "\n",
        "       Grvl\tGravel\t\n",
        "       Pave\tPaved"
      ]
    },
    {
      "cell_type": "code",
      "metadata": {
        "colab": {
          "base_uri": "https://localhost:8080/"
        },
        "id": "OrghpChTKpuF",
        "outputId": "e07b34c4-1dd7-46ab-c755-6640fede08df"
      },
      "source": [
        "key={\"Grvl\":\"Street_Grvl\", \"Pave\":\"Street_Pave\"}\n",
        "columnname=\"Street\"\n",
        "checkvalues(columnname,key)\n",
        "createcolumn(columnname,key)"
      ],
      "execution_count": 12,
      "outputs": [
        {
          "output_type": "stream",
          "text": [
            "Street ellenőrzése !\n",
            "\n",
            "1460 mintából 0 db nem volt megfelelő\n"
          ],
          "name": "stdout"
        }
      ]
    },
    {
      "cell_type": "markdown",
      "metadata": {
        "id": "m0zarwHaLO71"
      },
      "source": [
        "# **Alley**: Type of alley access to property\n",
        "\n",
        "       Grvl\tGravel\n",
        "       Pave\tPaved\n",
        "       NA \tNo alley access"
      ]
    },
    {
      "cell_type": "code",
      "metadata": {
        "colab": {
          "base_uri": "https://localhost:8080/"
        },
        "id": "lxzxpLMELWjT",
        "outputId": "49f5d8c4-2320-4e68-a1d6-28955f0837f8"
      },
      "source": [
        "key={\"Grvl\":\"Alley_Grvl\", \"Pave\":\"Alley_Pave\", \"Na\":\"Alley_NA\", np.nan:\"Alley_NAN\"}\n",
        "columnname=\"Alley\"\n",
        "checkvalues(columnname,key)\n",
        "createcolumn(columnname,key)"
      ],
      "execution_count": 13,
      "outputs": [
        {
          "output_type": "stream",
          "text": [
            "Alley ellenőrzése !\n",
            "\n",
            "1460 mintából 0 db nem volt megfelelő\n"
          ],
          "name": "stdout"
        }
      ]
    },
    {
      "cell_type": "markdown",
      "metadata": {
        "id": "PvuGNvfAVgXS"
      },
      "source": [
        "# Adattisztítás: **ExterQual**\n",
        "* Ex Excellent\n",
        "* Gd Good\n",
        "* TA Typical/Average\n",
        "* Fa Fair\n",
        "* Po Poor"
      ]
    },
    {
      "cell_type": "code",
      "metadata": {
        "colab": {
          "base_uri": "https://localhost:8080/"
        },
        "id": "K4hnEWDsinyw",
        "outputId": "2be1c84e-c193-4d00-a24d-639f4d4f78ad"
      },
      "source": [
        "\n",
        "\n",
        "\n",
        "key={\"Ex\":\"ExterQual_Ex\", \"Gd\":\"ExterQual_Gd\", \"TA\":\"ExterQual_TA\",\"Fa\":\"ExterQual_Fa\",\"Po\":\"ExterQual_Po\"}\n",
        "columnname=\"ExterQual\"\n",
        "checkvalues(columnname,key)"
      ],
      "execution_count": 14,
      "outputs": [
        {
          "output_type": "stream",
          "text": [
            "ExterQual ellenőrzése !\n",
            "\n",
            "1460 mintából 0 db nem volt megfelelő\n"
          ],
          "name": "stdout"
        }
      ]
    },
    {
      "cell_type": "code",
      "metadata": {
        "id": "ywHkpEqTVfwP"
      },
      "source": [
        "createcolumn(columnname,key)"
      ],
      "execution_count": 15,
      "outputs": []
    },
    {
      "cell_type": "markdown",
      "metadata": {
        "id": "pz8l-yUcWQ1p"
      },
      "source": [
        "# **BsmtQual: Evaluates the height of the basement**\n",
        "\n",
        "* Ex\tExcellent (100+ inches)\t\n",
        "* Gd\tGood (90-99 inches)\n",
        "* TA\tTypical (80-89 inches)\n",
        "* Fa\tFair (70-79 inches)\n",
        "* Po\tPoor (<70 inches\n",
        "* NA\tNo Basement"
      ]
    },
    {
      "cell_type": "code",
      "metadata": {
        "id": "LNfzdEcWWY4N",
        "colab": {
          "base_uri": "https://localhost:8080/"
        },
        "outputId": "0fcb6c8e-1e54-40b9-f30c-85473263bca3"
      },
      "source": [
        "key={\"Ex\":\"BsmtQual_Ex\", \"Gd\":\"BsmtQual_Gd\", \"TA\":\"BsmtQual_TA\",\"Fa\":\"BsmtQual_Fa\",\"Po\":\"BsmtQual_Po\",\"NA\":\"BsmtQual_NA\", np.nan:\"BsmtQual_Nan\" }\n",
        "idx=\"BsmtQual\"\n",
        "checkvalues(idx,key)"
      ],
      "execution_count": 16,
      "outputs": [
        {
          "output_type": "stream",
          "text": [
            "BsmtQual ellenőrzése !\n",
            "\n",
            "1460 mintából 0 db nem volt megfelelő\n"
          ],
          "name": "stdout"
        }
      ]
    },
    {
      "cell_type": "code",
      "metadata": {
        "id": "tiAMDA_1ssrY"
      },
      "source": [
        "createcolumn(idx,key)"
      ],
      "execution_count": 17,
      "outputs": []
    },
    {
      "cell_type": "markdown",
      "metadata": {
        "id": "zXwajNvaQ7Q6"
      },
      "source": [
        "# Adattisztítás: **FireplaceQu**\n",
        "\n",
        "\n",
        "* Ex\tExcellent\n",
        "* Gd\tGood\n",
        "* TA\tTypical/Average\n",
        "* Fa\tFair\n",
        "* Po\tPoor\n",
        "* No Fireplace\n"
      ]
    },
    {
      "cell_type": "code",
      "metadata": {
        "id": "6sOzmE9FRNzv",
        "colab": {
          "base_uri": "https://localhost:8080/"
        },
        "outputId": "7c83ee35-5889-4cdf-ec08-034e2688fbba"
      },
      "source": [
        "key={\"Ex\":\"FireplaceQu_Ex\", \"Gd\":\"FireplaceQu_Gd\", \"TA\":\"FireplaceQu_TA\",\"Fa\":\"FireplaceQu_Fa\",\"Po\":\"FireplaceQu_Po\", \"No\":\"FireplaceQu_No\", np.nan:\"FireplaceQu_Nan\"}\n",
        "idx=\"FireplaceQu\"\n",
        "checkvalues(idx,key)\n",
        "createcolumn(idx,key)"
      ],
      "execution_count": 18,
      "outputs": [
        {
          "output_type": "stream",
          "text": [
            "FireplaceQu ellenőrzése !\n",
            "\n",
            "1460 mintából 0 db nem volt megfelelő\n"
          ],
          "name": "stdout"
        }
      ]
    },
    {
      "cell_type": "code",
      "metadata": {
        "id": "QtbI4yynt28Z"
      },
      "source": [
        ""
      ],
      "execution_count": 18,
      "outputs": []
    },
    {
      "cell_type": "markdown",
      "metadata": {
        "id": "fGOk2WA4YKcI"
      },
      "source": [
        "# **Foundation: Type of foundation**\n",
        "\t\t\n",
        "       BrkTil\tBrick & Tile\n",
        "       CBlock\tCinder Block\n",
        "       PConc\tPoured Contrete\t\n",
        "       Slab\tSlab\n",
        "       Stone\tStone\n",
        "       Wood\tWood"
      ]
    },
    {
      "cell_type": "code",
      "metadata": {
        "id": "gNd2cahSWBVO",
        "colab": {
          "base_uri": "https://localhost:8080/"
        },
        "outputId": "cd24f222-b222-4426-e5be-0a3aada74e34"
      },
      "source": [
        "key={\"BrkTil\":\"Foundation_BrkTil\", \"CBlock\":\"Foundation_CBlock\",\"PConc\":\"Foundation_PConc\",\"Slab\":\"Foundation_Slab\",\"Stone\":\"Foundation_Stone\", \"Wood\":\"Foundation_\"}\n",
        "col=\"Foundation\"\n",
        "checkvalues(col,key)\n",
        "createcolumn(col,key)"
      ],
      "execution_count": 19,
      "outputs": [
        {
          "output_type": "stream",
          "text": [
            "Foundation ellenőrzése !\n",
            "\n",
            "1460 mintából 0 db nem volt megfelelő\n"
          ],
          "name": "stdout"
        }
      ]
    },
    {
      "cell_type": "markdown",
      "metadata": {
        "id": "FWL7nCJJZXZu"
      },
      "source": [
        "# **GarageQual: Garage quality**\n",
        "\n",
        "       Ex\tExcellent\n",
        "       Gd\tGood\n",
        "       TA\tTypical/Average\n",
        "       Fa\tFair\n",
        "       Po\tPoor\n",
        "       NA\tNo Garage"
      ]
    },
    {
      "cell_type": "code",
      "metadata": {
        "id": "-RLSPaWKQ6ot",
        "colab": {
          "base_uri": "https://localhost:8080/"
        },
        "outputId": "61fc0ddc-6d9c-411e-f91f-c1818f105665"
      },
      "source": [
        "\n",
        "key={\"Ex\":\"GarageQual_Ex\", \"Gd\":\"GarageQual_Gd\", \"TA\":\"GarageQual_TA\",\"Fa\":\"GarageQual_Fa\",\"Po\":\"GarageQual_Po\",\"NA\":\"GarageQual_NA\", np.nan:\"GarageQual_Nan\"}\n",
        "idx=\"GarageQual\"\n",
        "checkvalues(idx,key)\n",
        "createcolumn(idx,key)"
      ],
      "execution_count": 20,
      "outputs": [
        {
          "output_type": "stream",
          "text": [
            "GarageQual ellenőrzése !\n",
            "\n",
            "1460 mintából 0 db nem volt megfelelő\n"
          ],
          "name": "stdout"
        }
      ]
    },
    {
      "cell_type": "markdown",
      "metadata": {
        "id": "iNI8R4GXdIwl"
      },
      "source": [
        "# **GarageFinish: Interior finish of the garage**\n",
        "\n",
        "       Fin\tFinished\n",
        "       RFn\tRough Finished\t\n",
        "       Unf\tUnfinished\n",
        "       NA\tNo Garage"
      ]
    },
    {
      "cell_type": "code",
      "metadata": {
        "id": "jcbLU9DwQkfh",
        "colab": {
          "base_uri": "https://localhost:8080/"
        },
        "outputId": "db5498e0-1442-40cd-b40e-5753a4d858c6"
      },
      "source": [
        "key={\"Fin\":\"GarageFinish_Fin\",\"RFn\":\"GarageFinish_RFn\",\"Unf\":\"GarageFinish_Unf\",\"NA\":\"GarageFinish_NA\",np.nan:\"GarageFinish_Nan\"}\n",
        "idx=\"GarageFinish\"\n",
        "checkvalues(idx,key)\n",
        "createcolumn(idx,key)"
      ],
      "execution_count": 21,
      "outputs": [
        {
          "output_type": "stream",
          "text": [
            "GarageFinish ellenőrzése !\n",
            "\n",
            "1460 mintából 0 db nem volt megfelelő\n"
          ],
          "name": "stdout"
        }
      ]
    },
    {
      "cell_type": "markdown",
      "metadata": {
        "id": "kgae3D4OB1Nd"
      },
      "source": [
        "# **BsmtCond**: Evaluates the general condition of the basement\n",
        "\n",
        "       Ex\tExcellent\n",
        "       Gd\tGood\n",
        "       TA\tTypical - slight dampness allowed\n",
        "       Fa\tFair - dampness or some cracking or settling\n",
        "       Po\tPoor - Severe cracking, settling, or wetness\n",
        "       NA\tNo Basement"
      ]
    },
    {
      "cell_type": "code",
      "metadata": {
        "colab": {
          "base_uri": "https://localhost:8080/"
        },
        "id": "itMSZ5nHBxjH",
        "outputId": "12776f70-52d8-4091-e45f-f1497ee13d84"
      },
      "source": [
        "key={\"Ex\":\"BsmtCond_Ex\",\"Gd\":\"BsmtCond_Gd\",\"TA\":\"BsmtCond_TA\",\"Fa\":\"BsmtCond_Fa\" ,\"Po\":\"BsmtCond_Po\",np.nan:\"BsmtCond_NA\"}\n",
        "idx=\"BsmtCond\"\n",
        "checkvalues(idx,key)\n",
        "createcolumn(idx,key)"
      ],
      "execution_count": 22,
      "outputs": [
        {
          "output_type": "stream",
          "text": [
            "BsmtCond ellenőrzése !\n",
            "\n",
            "1460 mintából 0 db nem volt megfelelő\n"
          ],
          "name": "stdout"
        }
      ]
    },
    {
      "cell_type": "markdown",
      "metadata": {
        "id": "9Vg3qaEfCfoO"
      },
      "source": [
        "# **ExterCond**: Evaluates the present condition of the material on the exterior\n",
        "\t\t\n",
        "       Ex\tExcellent\n",
        "       Gd\tGood\n",
        "       TA\tAverage/Typical\n",
        "       Fa\tFair\n",
        "       Po\tPoor\n",
        "\t\t"
      ]
    },
    {
      "cell_type": "code",
      "metadata": {
        "colab": {
          "base_uri": "https://localhost:8080/"
        },
        "id": "RajP3YEjCjsW",
        "outputId": "fbf122a6-b4d7-4809-ee1f-eabf172bdf50"
      },
      "source": [
        "key={\"Ex\":\"ExterCond_Ex\",\"Gd\":\"ExterCond_Gd\",\"TA\":\"ExterCond_TA\",\"Fa\":\"ExterCond_FA\" ,\"Po\":\"ExterCond_Po\"}\n",
        "idx=\"ExterCond\"\n",
        "checkvalues(idx,key)\n",
        "createcolumn(idx,key)"
      ],
      "execution_count": 23,
      "outputs": [
        {
          "output_type": "stream",
          "text": [
            "ExterCond ellenőrzése !\n",
            "\n",
            "1460 mintából 0 db nem volt megfelelő\n"
          ],
          "name": "stdout"
        }
      ]
    },
    {
      "cell_type": "markdown",
      "metadata": {
        "id": "8mxzl5n8EkKX"
      },
      "source": [
        "# **Heating**: Type of heating\n",
        "\t\t\n",
        "       Floor\tFloor Furnace\n",
        "       GasA\tGas forced warm air furnace\n",
        "       GasW\tGas hot water or steam heat\n",
        "       Grav\tGravity furnace\t\n",
        "       OthW\tHot water or steam heat other than gas\n",
        "       Wall\tWall furnace"
      ]
    },
    {
      "cell_type": "code",
      "metadata": {
        "colab": {
          "base_uri": "https://localhost:8080/"
        },
        "id": "QcircqqqBxyu",
        "outputId": "84756f31-d912-47dd-b12a-48355fe071f5"
      },
      "source": [
        "key={\"Floor\":\"Heating_Floor\",\"GasA\":\"Heating_GasA\",\"GasW\":\"Heating_GasW\",\"Grav\":\"Heating_Grav\" ,\"OthW\":\"Heating_OthW\",\"Wall\":\"Heating_Wall\"}\n",
        "idx=\"Heating\"\n",
        "checkvalues(idx,key)\n",
        "createcolumn(idx,key)"
      ],
      "execution_count": 24,
      "outputs": [
        {
          "output_type": "stream",
          "text": [
            "Heating ellenőrzése !\n",
            "\n",
            "1460 mintából 0 db nem volt megfelelő\n"
          ],
          "name": "stdout"
        }
      ]
    },
    {
      "cell_type": "markdown",
      "metadata": {
        "id": "M2Utqe2CFuaK"
      },
      "source": [
        "# **HeatingQC**: Heating quality and condition\n",
        "\n",
        "       Ex\tExcellent\n",
        "       Gd\tGood\n",
        "       TA\tAverage/Typical\n",
        "       Fa\tFair\n",
        "       Po\tPoor"
      ]
    },
    {
      "cell_type": "code",
      "metadata": {
        "colab": {
          "base_uri": "https://localhost:8080/"
        },
        "id": "x4ObbCDGBxsU",
        "outputId": "280c3f9e-9ee9-44e0-e63d-9a0f54cca753"
      },
      "source": [
        "key={\"Ex\":\"HeatingQC_Ex\",\"Gd\":\"HeatingQC_Gd\",\"TA\":\"HeatingQC_TA\",\"Fa\":\"HeatingQC_FA\" ,\"Po\":\"HeatingQC_Po\"}\n",
        "idx=\"HeatingQC\"\n",
        "checkvalues(idx,key)\n",
        "createcolumn(idx,key)"
      ],
      "execution_count": 25,
      "outputs": [
        {
          "output_type": "stream",
          "text": [
            "HeatingQC ellenőrzése !\n",
            "\n",
            "1460 mintából 0 db nem volt megfelelő\n"
          ],
          "name": "stdout"
        }
      ]
    },
    {
      "cell_type": "markdown",
      "metadata": {
        "id": "xyY32lnaGKsM"
      },
      "source": [
        "# **CentralAir**: Central air conditioning\n",
        "\n",
        "       N\tNo\n",
        "       Y\tYes"
      ]
    },
    {
      "cell_type": "code",
      "metadata": {
        "colab": {
          "base_uri": "https://localhost:8080/"
        },
        "id": "VHwcCv6_BxXb",
        "outputId": "d0b36dce-158a-43a1-b2ec-f68ed1a49b77"
      },
      "source": [
        "key={\"N\":\"CentralAir_N\",\"Y\":\"CentralAir_Y\"}\n",
        "idx=\"CentralAir\"\n",
        "checkvalues(idx,key)\n",
        "createcolumn(idx,key)"
      ],
      "execution_count": 26,
      "outputs": [
        {
          "output_type": "stream",
          "text": [
            "CentralAir ellenőrzése !\n",
            "\n",
            "1460 mintából 0 db nem volt megfelelő\n"
          ],
          "name": "stdout"
        }
      ]
    },
    {
      "cell_type": "markdown",
      "metadata": {
        "id": "fg5vsra8H2l6"
      },
      "source": [
        "\n",
        "# **Functional**: Home functionality (Assume typical unless deductions are warranted)\n",
        "\n",
        "       Typ\tTypical Functionality\n",
        "       Min1\tMinor Deductions 1\n",
        "       Min2\tMinor Deductions 2\n",
        "       Mod\tModerate Deductions\n",
        "       Maj1\tMajor Deductions 1\n",
        "       Maj2\tMajor Deductions 2\n",
        "       Sev\tSeverely Damaged\n",
        "       Sal\tSalvage only\n",
        "\t\t"
      ]
    },
    {
      "cell_type": "code",
      "metadata": {
        "colab": {
          "base_uri": "https://localhost:8080/"
        },
        "id": "DzNTY7nLIFXH",
        "outputId": "f439a82d-ad75-4978-cce4-eeed1090d085"
      },
      "source": [
        "key={\"Typ\":\"Functional_Typ\",\"Min1\":\"Functional_Min1\",\"Min2\":\"Functional_Min2\",\"Mod\":\"Functional_Mod\" ,\"Maj1\":\"Functional_Maj1\",\"Maj2\":\"Functional_Maj2\",\"Sev\":\"Functional_Sev\",\"Sal\":\"Functional_Sal\"}\n",
        "idx=\"Functional\"\n",
        "checkvalues(idx,key)\n",
        "createcolumn(idx,key)"
      ],
      "execution_count": 27,
      "outputs": [
        {
          "output_type": "stream",
          "text": [
            "Functional ellenőrzése !\n",
            "\n",
            "1460 mintából 0 db nem volt megfelelő\n"
          ],
          "name": "stdout"
        }
      ]
    },
    {
      "cell_type": "code",
      "metadata": {
        "id": "_mVecR3TMj9f"
      },
      "source": [
        ""
      ],
      "execution_count": 27,
      "outputs": []
    },
    {
      "cell_type": "code",
      "metadata": {
        "colab": {
          "base_uri": "https://localhost:8080/",
          "height": 519
        },
        "id": "oUKEo9qXN99V",
        "outputId": "1844f2be-fd7d-481e-9f66-a2cc5216afec"
      },
      "source": [
        "ndb=14\n",
        "correlacio=df.corr()\n",
        "print(correlacio)\n",
        "plt.figure(figsize=(10,10))\n",
        "\n",
        "plt.matshow(correlacio)\n",
        "plt.colorbar()\n",
        "plt.show()\n",
        "cordl=correlacio.nlargest(ndb,\"SalePrice\")\n",
        "cords=correlacio.nsmallest(ndb,\"SalePrice\")\n"
      ],
      "execution_count": 28,
      "outputs": [
        {
          "output_type": "stream",
          "text": [
            "                       Id  MSSubClass  ...  Functional_Sev  Functional_Sal\n",
            "Id               1.000000    0.011156  ...       -0.003944             NaN\n",
            "MSSubClass       0.011156    1.000000  ...        0.001921             NaN\n",
            "LotFrontage     -0.010601   -0.386347  ...             NaN             NaN\n",
            "LotArea         -0.033226   -0.139781  ...        0.020815             NaN\n",
            "OverallQual     -0.028365    0.032628  ...       -0.001881             NaN\n",
            "...                   ...         ...  ...             ...             ...\n",
            "Functional_Mod  -0.014029    0.004263  ...       -0.002667             NaN\n",
            "Functional_Maj1  0.007304    0.058745  ...       -0.002576             NaN\n",
            "Functional_Maj2 -0.012754   -0.034515  ...       -0.001535             NaN\n",
            "Functional_Sev  -0.003944    0.001921  ...        1.000000             NaN\n",
            "Functional_Sal        NaN         NaN  ...             NaN             NaN\n",
            "\n",
            "[143 rows x 143 columns]\n"
          ],
          "name": "stdout"
        },
        {
          "output_type": "display_data",
          "data": {
            "text/plain": [
              "<Figure size 720x720 with 0 Axes>"
            ]
          },
          "metadata": {
            "tags": []
          }
        },
        {
          "output_type": "display_data",
          "data": {
            "image/png": "[encoded data removed]",
            "text/plain": [
              "<Figure size 288x288 with 2 Axes>"
            ]
          },
          "metadata": {
            "tags": [],
            "needs_background": "light"
          }
        }
      ]
    },
    {
      "cell_type": "code",
      "metadata": {
        "colab": {
          "base_uri": "https://localhost:8080/"
        },
        "id": "jZgPvEm8S6Kw",
        "outputId": "5a03534a-263f-4b61-c293-565ed7224ece"
      },
      "source": [
        "l1=list(cordl[\"SalePrice\"].index)\n",
        "print(l1)\n"
      ],
      "execution_count": 29,
      "outputs": [
        {
          "output_type": "stream",
          "text": [
            "['SalePrice', 'OverallQual', 'GrLivArea', 'GarageCars', 'GarageArea', 'TotalBsmtSF', '1stFlrSF', 'FullBath', 'BsmtQual_Ex', 'TotRmsAbvGrd', 'YearBuilt', 'YearRemodAdd', 'KitchenQual_Ex', 'Foundation_PConc']\n"
          ],
          "name": "stdout"
        }
      ]
    },
    {
      "cell_type": "code",
      "metadata": {
        "colab": {
          "base_uri": "https://localhost:8080/"
        },
        "id": "IWaNnPiKSkBn",
        "outputId": "d5b8a2ba-d04d-4191-e060-1b23f123e07f"
      },
      "source": [
        "l2=list(cords[\"SalePrice\"].index)\n",
        "nlarge=list((l1+l2[1:]))\n",
        "\n",
        "print(nlarge)\n",
        "print(len(nlarge))\n",
        "\n",
        "\n",
        "\n"
      ],
      "execution_count": 30,
      "outputs": [
        {
          "output_type": "stream",
          "text": [
            "['SalePrice', 'OverallQual', 'GrLivArea', 'GarageCars', 'GarageArea', 'TotalBsmtSF', '1stFlrSF', 'FullBath', 'BsmtQual_Ex', 'TotRmsAbvGrd', 'YearBuilt', 'YearRemodAdd', 'KitchenQual_Ex', 'Foundation_PConc', 'KitchenQual_Ta', 'BsmtQual_TA', 'GarageFinish_Unf', 'Foundation_CBlock', 'HeatingQC_TA', 'CentralAir_N', 'Foundation_BrkTil', 'OldTown', 'NAmes', 'Edwards', 'IDOTRR', 'KitchenQual_Fa', 'BrkSide']\n",
            "27\n"
          ],
          "name": "stdout"
        }
      ]
    },
    {
      "cell_type": "code",
      "metadata": {
        "colab": {
          "base_uri": "https://localhost:8080/"
        },
        "id": "ipJLLYV6d4Ak",
        "outputId": "843c861e-d4c2-4e1c-8df4-d7ee7d3c15a9"
      },
      "source": [
        "df_minimal=df[nlarge]\n",
        "\n",
        "#df=(df_minimal-df_minimal.min())/(df_minimal.max()-df_minimal.min())\n",
        "\n",
        "df.replace(-np.inf,np.nan)\n",
        "df.replace(np.inf,np.nan)\n",
        "df.dropna()\n",
        "\n",
        "\n",
        "X=df[nlarge[1:]]\n",
        "#X=X.values.astype(np.float)\n",
        "print(X.columns)\n",
        "print(type(X))\n",
        "Y=df[nlarge[0:1]]\n",
        "\n",
        "print(Y.columns)\n",
        "print(type(Y))\n",
        "\n"
      ],
      "execution_count": 31,
      "outputs": [
        {
          "output_type": "stream",
          "text": [
            "Index(['OverallQual', 'GrLivArea', 'GarageCars', 'GarageArea', 'TotalBsmtSF',\n",
            "       '1stFlrSF', 'FullBath', 'BsmtQual_Ex', 'TotRmsAbvGrd', 'YearBuilt',\n",
            "       'YearRemodAdd', 'KitchenQual_Ex', 'Foundation_PConc', 'KitchenQual_Ta',\n",
            "       'BsmtQual_TA', 'GarageFinish_Unf', 'Foundation_CBlock', 'HeatingQC_TA',\n",
            "       'CentralAir_N', 'Foundation_BrkTil', 'OldTown', 'NAmes', 'Edwards',\n",
            "       'IDOTRR', 'KitchenQual_Fa', 'BrkSide'],\n",
            "      dtype='object')\n",
            "<class 'pandas.core.frame.DataFrame'>\n",
            "Index(['SalePrice'], dtype='object')\n",
            "<class 'pandas.core.frame.DataFrame'>\n"
          ],
          "name": "stdout"
        }
      ]
    },
    {
      "cell_type": "code",
      "metadata": {
        "colab": {
          "base_uri": "https://localhost:8080/"
        },
        "id": "KSYzW5JSrDvp",
        "outputId": "a1e4d5a9-e296-4493-c03d-0a766a7f3093"
      },
      "source": [
        "len(df.columns)\n",
        " "
      ],
      "execution_count": 32,
      "outputs": [
        {
          "output_type": "execute_result",
          "data": {
            "text/plain": [
              "186"
            ]
          },
          "metadata": {
            "tags": []
          },
          "execution_count": 32
        }
      ]
    },
    {
      "cell_type": "code",
      "metadata": {
        "colab": {
          "base_uri": "https://localhost:8080/"
        },
        "id": "uXXXwF_JfjkB",
        "outputId": "24992cac-900a-4dbe-dcce-c8e04602d62e"
      },
      "source": [
        "print(type(df))\n",
        "print(nlarge)\n",
        "\n",
        "df[\"SalePrice\"]\n",
        "df.columns"
      ],
      "execution_count": 33,
      "outputs": [
        {
          "output_type": "stream",
          "text": [
            "<class 'pandas.core.frame.DataFrame'>\n",
            "['SalePrice', 'OverallQual', 'GrLivArea', 'GarageCars', 'GarageArea', 'TotalBsmtSF', '1stFlrSF', 'FullBath', 'BsmtQual_Ex', 'TotRmsAbvGrd', 'YearBuilt', 'YearRemodAdd', 'KitchenQual_Ex', 'Foundation_PConc', 'KitchenQual_Ta', 'BsmtQual_TA', 'GarageFinish_Unf', 'Foundation_CBlock', 'HeatingQC_TA', 'CentralAir_N', 'Foundation_BrkTil', 'OldTown', 'NAmes', 'Edwards', 'IDOTRR', 'KitchenQual_Fa', 'BrkSide']\n"
          ],
          "name": "stdout"
        },
        {
          "output_type": "execute_result",
          "data": {
            "text/plain": [
              "Index(['Id', 'MSSubClass', 'MSZoning', 'LotFrontage', 'LotArea', 'Street',\n",
              "       'Alley', 'LotShape', 'LandContour', 'Utilities',\n",
              "       ...\n",
              "       'CentralAir_N', 'CentralAir_Y', 'Functional_Typ', 'Functional_Min1',\n",
              "       'Functional_Min2', 'Functional_Mod', 'Functional_Maj1',\n",
              "       'Functional_Maj2', 'Functional_Sev', 'Functional_Sal'],\n",
              "      dtype='object', length=186)"
            ]
          },
          "metadata": {
            "tags": []
          },
          "execution_count": 33
        }
      ]
    },
    {
      "cell_type": "code",
      "metadata": {
        "colab": {
          "base_uri": "https://localhost:8080/",
          "height": 793
        },
        "id": "9JjcEUfyjHTq",
        "outputId": "3117e7b3-fa79-4590-9f6c-077f9579b235"
      },
      "source": [
        "print(df)\n",
        "\n",
        "sns.set()\n",
        "print(df.head())\n",
        "#sns.pairplot(df[nlarge[0:15]])\n",
        "#plt.show()\n",
        "Y"
      ],
      "execution_count": 34,
      "outputs": [
        {
          "output_type": "stream",
          "text": [
            "        Id  MSSubClass MSZoning  ...  Functional_Maj2  Functional_Sev Functional_Sal\n",
            "0        1          60       RL  ...              0.0             0.0            0.0\n",
            "1        2          20       RL  ...              0.0             0.0            0.0\n",
            "2        3          60       RL  ...              0.0             0.0            0.0\n",
            "3        4          70       RL  ...              0.0             0.0            0.0\n",
            "4        5          60       RL  ...              0.0             0.0            0.0\n",
            "...    ...         ...      ...  ...              ...             ...            ...\n",
            "1455  1456          60       RL  ...              0.0             0.0            0.0\n",
            "1456  1457          20       RL  ...              0.0             0.0            0.0\n",
            "1457  1458          70       RL  ...              0.0             0.0            0.0\n",
            "1458  1459          20       RL  ...              0.0             0.0            0.0\n",
            "1459  1460          20       RL  ...              0.0             0.0            0.0\n",
            "\n",
            "[1460 rows x 186 columns]\n",
            "   Id  MSSubClass MSZoning  ...  Functional_Maj2  Functional_Sev Functional_Sal\n",
            "0   1          60       RL  ...              0.0             0.0            0.0\n",
            "1   2          20       RL  ...              0.0             0.0            0.0\n",
            "2   3          60       RL  ...              0.0             0.0            0.0\n",
            "3   4          70       RL  ...              0.0             0.0            0.0\n",
            "4   5          60       RL  ...              0.0             0.0            0.0\n",
            "\n",
            "[5 rows x 186 columns]\n"
          ],
          "name": "stdout"
        },
        {
          "output_type": "execute_result",
          "data": {
            "text/html": [
              "<div>\n",
              "<style scoped>\n",
              "    .dataframe tbody tr th:only-of-type {\n",
              "        vertical-align: middle;\n",
              "    }\n",
              "\n",
              "    .dataframe tbody tr th {\n",
              "        vertical-align: top;\n",
              "    }\n",
              "\n",
              "    .dataframe thead th {\n",
              "        text-align: right;\n",
              "    }\n",
              "</style>\n",
              "<table border=\"1\" class=\"dataframe\">\n",
              "  <thead>\n",
              "    <tr style=\"text-align: right;\">\n",
              "      <th></th>\n",
              "      <th>SalePrice</th>\n",
              "    </tr>\n",
              "  </thead>\n",
              "  <tbody>\n",
              "    <tr>\n",
              "      <th>0</th>\n",
              "      <td>208500</td>\n",
              "    </tr>\n",
              "    <tr>\n",
              "      <th>1</th>\n",
              "      <td>181500</td>\n",
              "    </tr>\n",
              "    <tr>\n",
              "      <th>2</th>\n",
              "      <td>223500</td>\n",
              "    </tr>\n",
              "    <tr>\n",
              "      <th>3</th>\n",
              "      <td>140000</td>\n",
              "    </tr>\n",
              "    <tr>\n",
              "      <th>4</th>\n",
              "      <td>250000</td>\n",
              "    </tr>\n",
              "    <tr>\n",
              "      <th>...</th>\n",
              "      <td>...</td>\n",
              "    </tr>\n",
              "    <tr>\n",
              "      <th>1455</th>\n",
              "      <td>175000</td>\n",
              "    </tr>\n",
              "    <tr>\n",
              "      <th>1456</th>\n",
              "      <td>210000</td>\n",
              "    </tr>\n",
              "    <tr>\n",
              "      <th>1457</th>\n",
              "      <td>266500</td>\n",
              "    </tr>\n",
              "    <tr>\n",
              "      <th>1458</th>\n",
              "      <td>142125</td>\n",
              "    </tr>\n",
              "    <tr>\n",
              "      <th>1459</th>\n",
              "      <td>147500</td>\n",
              "    </tr>\n",
              "  </tbody>\n",
              "</table>\n",
              "<p>1460 rows × 1 columns</p>\n",
              "</div>"
            ],
            "text/plain": [
              "      SalePrice\n",
              "0        208500\n",
              "1        181500\n",
              "2        223500\n",
              "3        140000\n",
              "4        250000\n",
              "...         ...\n",
              "1455     175000\n",
              "1456     210000\n",
              "1457     266500\n",
              "1458     142125\n",
              "1459     147500\n",
              "\n",
              "[1460 rows x 1 columns]"
            ]
          },
          "metadata": {
            "tags": []
          },
          "execution_count": 34
        }
      ]
    },
    {
      "cell_type": "code",
      "metadata": {
        "colab": {
          "base_uri": "https://localhost:8080/"
        },
        "id": "yMQKwIeaWO-Z",
        "outputId": "72747b8c-280e-4588-83b7-a4eb72d4ba47"
      },
      "source": [
        "from sklearn import datasets, linear_model\n",
        "\n",
        "print(df.describe())\n",
        "\n",
        "alpha=0.0001\n",
        "\n",
        "\n",
        "print(X)\n",
        "print(Y)\n",
        "for i in nlarge[0:0]:\n",
        "    print(i,Y[i].sum())\n",
        "print(df[[\"SalePrice\"]])\n",
        "\n",
        "\n",
        "\n",
        "\n",
        "lreg = linear_model.Ridge()  \n",
        "lreg.fit(X,Y)\n",
        "lreg_pred = lreg.predict(X)"
      ],
      "execution_count": 35,
      "outputs": [
        {
          "output_type": "stream",
          "text": [
            "                Id   MSSubClass  ...  Functional_Sev  Functional_Sal\n",
            "count  1460.000000  1460.000000  ...     1460.000000          1460.0\n",
            "mean    730.500000    56.897260  ...        0.000685             0.0\n",
            "std     421.610009    42.300571  ...        0.026171             0.0\n",
            "min       1.000000    20.000000  ...        0.000000             0.0\n",
            "25%     365.750000    20.000000  ...        0.000000             0.0\n",
            "50%     730.500000    50.000000  ...        0.000000             0.0\n",
            "75%    1095.250000    70.000000  ...        0.000000             0.0\n",
            "max    1460.000000   190.000000  ...        1.000000             0.0\n",
            "\n",
            "[8 rows x 143 columns]\n",
            "      OverallQual  GrLivArea  GarageCars  ...  IDOTRR  KitchenQual_Fa  BrkSide\n",
            "0               7       1710           2  ...     0.0             0.0      0.0\n",
            "1               6       1262           2  ...     0.0             0.0      0.0\n",
            "2               7       1786           2  ...     0.0             0.0      0.0\n",
            "3               7       1717           3  ...     0.0             0.0      0.0\n",
            "4               8       2198           3  ...     0.0             0.0      0.0\n",
            "...           ...        ...         ...  ...     ...             ...      ...\n",
            "1455            6       1647           2  ...     0.0             0.0      0.0\n",
            "1456            6       2073           2  ...     0.0             0.0      0.0\n",
            "1457            7       2340           1  ...     0.0             0.0      0.0\n",
            "1458            5       1078           1  ...     0.0             0.0      0.0\n",
            "1459            5       1256           1  ...     0.0             0.0      0.0\n",
            "\n",
            "[1460 rows x 26 columns]\n",
            "      SalePrice\n",
            "0        208500\n",
            "1        181500\n",
            "2        223500\n",
            "3        140000\n",
            "4        250000\n",
            "...         ...\n",
            "1455     175000\n",
            "1456     210000\n",
            "1457     266500\n",
            "1458     142125\n",
            "1459     147500\n",
            "\n",
            "[1460 rows x 1 columns]\n",
            "      SalePrice\n",
            "0        208500\n",
            "1        181500\n",
            "2        223500\n",
            "3        140000\n",
            "4        250000\n",
            "...         ...\n",
            "1455     175000\n",
            "1456     210000\n",
            "1457     266500\n",
            "1458     142125\n",
            "1459     147500\n",
            "\n",
            "[1460 rows x 1 columns]\n"
          ],
          "name": "stdout"
        }
      ]
    },
    {
      "cell_type": "markdown",
      "metadata": {
        "id": "AIclx_1MGhgG"
      },
      "source": [
        ""
      ]
    },
    {
      "cell_type": "code",
      "metadata": {
        "id": "u93RZqa2f_8H",
        "colab": {
          "base_uri": "https://localhost:8080/",
          "height": 297
        },
        "outputId": "f9bca140-fc4b-4e55-fea2-bcb014180c81"
      },
      "source": [
        "Y.describe()"
      ],
      "execution_count": 36,
      "outputs": [
        {
          "output_type": "execute_result",
          "data": {
            "text/html": [
              "<div>\n",
              "<style scoped>\n",
              "    .dataframe tbody tr th:only-of-type {\n",
              "        vertical-align: middle;\n",
              "    }\n",
              "\n",
              "    .dataframe tbody tr th {\n",
              "        vertical-align: top;\n",
              "    }\n",
              "\n",
              "    .dataframe thead th {\n",
              "        text-align: right;\n",
              "    }\n",
              "</style>\n",
              "<table border=\"1\" class=\"dataframe\">\n",
              "  <thead>\n",
              "    <tr style=\"text-align: right;\">\n",
              "      <th></th>\n",
              "      <th>SalePrice</th>\n",
              "    </tr>\n",
              "  </thead>\n",
              "  <tbody>\n",
              "    <tr>\n",
              "      <th>count</th>\n",
              "      <td>1460.000000</td>\n",
              "    </tr>\n",
              "    <tr>\n",
              "      <th>mean</th>\n",
              "      <td>180921.195890</td>\n",
              "    </tr>\n",
              "    <tr>\n",
              "      <th>std</th>\n",
              "      <td>79442.502883</td>\n",
              "    </tr>\n",
              "    <tr>\n",
              "      <th>min</th>\n",
              "      <td>34900.000000</td>\n",
              "    </tr>\n",
              "    <tr>\n",
              "      <th>25%</th>\n",
              "      <td>129975.000000</td>\n",
              "    </tr>\n",
              "    <tr>\n",
              "      <th>50%</th>\n",
              "      <td>163000.000000</td>\n",
              "    </tr>\n",
              "    <tr>\n",
              "      <th>75%</th>\n",
              "      <td>214000.000000</td>\n",
              "    </tr>\n",
              "    <tr>\n",
              "      <th>max</th>\n",
              "      <td>755000.000000</td>\n",
              "    </tr>\n",
              "  </tbody>\n",
              "</table>\n",
              "</div>"
            ],
            "text/plain": [
              "           SalePrice\n",
              "count    1460.000000\n",
              "mean   180921.195890\n",
              "std     79442.502883\n",
              "min     34900.000000\n",
              "25%    129975.000000\n",
              "50%    163000.000000\n",
              "75%    214000.000000\n",
              "max    755000.000000"
            ]
          },
          "metadata": {
            "tags": []
          },
          "execution_count": 36
        }
      ]
    },
    {
      "cell_type": "code",
      "metadata": {
        "colab": {
          "base_uri": "https://localhost:8080/",
          "height": 438
        },
        "id": "tgNrpHdVRoIh",
        "outputId": "01f68494-86d8-4e48-a80d-d8c4d2b01251"
      },
      "source": [
        "delta_list=[]\n",
        "import seaborn as sns\n",
        "h=len(df[\"SalePrice\"])\n",
        "print(h)\n",
        "sns.set()\n",
        "for i in range(h):\n",
        "    #print(i)\n",
        "    \n",
        "    deltapercent=(Y.iloc[i,0]-lreg_pred[i])/Y.iloc[i,0]*100\n",
        "    #print(f\"{i} --{deltapercent}\")\n",
        "    delta_list.append(deltapercent[0])\n",
        "       \n",
        "\n",
        "\n",
        "sns.histplot(delta_list,color=\"green\", binwidth=2,);\n",
        "\n",
        "a=pd.Series(delta_list)\n",
        "#print(endofparam,a.describe())\n",
        "print(a.describe())"
      ],
      "execution_count": 49,
      "outputs": [
        {
          "output_type": "stream",
          "text": [
            "1460\n",
            "count    1460.000000\n",
            "mean       -1.866992\n",
            "std        19.458554\n",
            "min      -287.862122\n",
            "25%        -9.531578\n",
            "50%        -0.521312\n",
            "75%         8.650294\n",
            "max       107.364940\n",
            "dtype: float64\n"
          ],
          "name": "stdout"
        },
        {
          "output_type": "display_data",
          "data": {
            "image/png": "[encoded data removed]",
            "text/plain": [
              "<Figure size 432x288 with 1 Axes>"
            ]
          },
          "metadata": {
            "tags": []
          }
        }
      ]
    }
  ]
}