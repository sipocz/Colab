{
  "nbformat": 4,
  "nbformat_minor": 0,
  "metadata": {
    "colab": {
      "name": "AIT4_Vizsgafeladat_20210422_Sipocz_Laszlo.ipynb",
      "provenance": [],
      "collapsed_sections": [],
      "toc_visible": true,
      "authorship_tag": "ABX9TyOBKbGahZx/jHE0DVN8OPiy",
      "include_colab_link": true
    },
    "kernelspec": {
      "name": "python3",
      "display_name": "Python 3"
    },
    "language_info": {
      "name": "python"
    }
  },
  "cells": [
    {
      "cell_type": "markdown",
      "metadata": {
        "id": "view-in-github",
        "colab_type": "text"
      },
      "source": [
        "<a href=\"https://colab.research.google.com/github/sipocz/Colab/blob/main/AIT4_Vizsgafeladat_20210422_Sipocz_Laszlo.ipynb\" target=\"_parent\"><img src=\"https://colab.research.google.com/assets/colab-badge.svg\" alt=\"Open In Colab\"/></a>"
      ]
    },
    {
      "cell_type": "code",
      "metadata": {
        "colab": {
          "base_uri": "https://localhost:8080/"
        },
        "id": "zjzyVMlsC6U1",
        "outputId": "a364e65e-f0a6-4ba2-b932-7511dbe72e8b"
      },
      "source": [
        "!pip install sktime"
      ],
      "execution_count": 2,
      "outputs": [
        {
          "output_type": "stream",
          "text": [
            "Requirement already satisfied: sktime in /usr/local/lib/python3.7/dist-packages (0.5.3)\n",
            "Requirement already satisfied: statsmodels>=0.12.1 in /usr/local/lib/python3.7/dist-packages (from sktime) (0.12.2)\n",
            "Requirement already satisfied: wheel in /usr/local/lib/python3.7/dist-packages (from sktime) (0.36.2)\n",
            "Requirement already satisfied: pandas>=1.1.0 in /usr/local/lib/python3.7/dist-packages (from sktime) (1.1.5)\n",
            "Requirement already satisfied: numpy>=1.19.0 in /usr/local/lib/python3.7/dist-packages (from sktime) (1.19.5)\n",
            "Requirement already satisfied: scikit-learn>=0.23.0 in /usr/local/lib/python3.7/dist-packages (from sktime) (0.24.1)\n",
            "Requirement already satisfied: numba>=0.50 in /usr/local/lib/python3.7/dist-packages (from sktime) (0.51.2)\n",
            "Requirement already satisfied: patsy>=0.5 in /usr/local/lib/python3.7/dist-packages (from statsmodels>=0.12.1->sktime) (0.5.1)\n",
            "Requirement already satisfied: scipy>=1.1 in /usr/local/lib/python3.7/dist-packages (from statsmodels>=0.12.1->sktime) (1.4.1)\n",
            "Requirement already satisfied: python-dateutil>=2.7.3 in /usr/local/lib/python3.7/dist-packages (from pandas>=1.1.0->sktime) (2.8.1)\n",
            "Requirement already satisfied: pytz>=2017.2 in /usr/local/lib/python3.7/dist-packages (from pandas>=1.1.0->sktime) (2018.9)\n",
            "Requirement already satisfied: joblib>=0.11 in /usr/local/lib/python3.7/dist-packages (from scikit-learn>=0.23.0->sktime) (1.0.1)\n",
            "Requirement already satisfied: threadpoolctl>=2.0.0 in /usr/local/lib/python3.7/dist-packages (from scikit-learn>=0.23.0->sktime) (2.1.0)\n",
            "Requirement already satisfied: setuptools in /usr/local/lib/python3.7/dist-packages (from numba>=0.50->sktime) (54.2.0)\n",
            "Requirement already satisfied: llvmlite<0.35,>=0.34.0.dev0 in /usr/local/lib/python3.7/dist-packages (from numba>=0.50->sktime) (0.34.0)\n",
            "Requirement already satisfied: six in /usr/local/lib/python3.7/dist-packages (from patsy>=0.5->statsmodels>=0.12.1->sktime) (1.15.0)\n"
          ],
          "name": "stdout"
        }
      ]
    },
    {
      "cell_type": "markdown",
      "metadata": {
        "id": "1l2VsAj9wGEt"
      },
      "source": [
        "# **Feladat kiírás: Idősor elemzése**\n",
        "Az ipari gyakorlatot az időben változó paraméterek jellemzik. Ezen paraméterek figyelése, elemzése pénzben is kifejezhető eredményt produkálhat. Egy ilyen feladat megoldására vállalkoznék az első javaslatomban:\n",
        "\n",
        "Rendelkezésre áll egy ipari terület nitrogén fogyasztásával kapcsolatos adathalmaz. Az adatok egy Internetes felületről érhetők el. A megoldással kapcsolatos elvárások:\n",
        "1. Az internetes felületről adatok letöltése (webscaping) technikával.\n",
        "2. Az adatok feldolgozása, CSV-ben történő tárolása\n",
        "3. Az adatok elemzése ahol a következő kérdésekre keressük a válaszokat:\n",
        "    * Az adatok alapján jelezhetünk-e valamilyen kiugró értéket, \n",
        "valamilyen hibát, ami alapján emberi beavatkozási igény is felmerül.\n",
        "    * Az adatok alapján történik-e valamilyen tendenciózus jelenség:\n",
        "    * Emelkedő fogyasztás\n",
        "    * Nem szokványos nyomás emelkedés, csökkenés ami a korábbi tapasztalatokból nem látszik. \n",
        "    * Lengés megjelenése a rendszerben\n",
        "4. Felismerhető-e valamilyen összefüggés az adatokban, amivel az esetlegesen hiányzó adat  pótolható, becsülhető. (Soft Sensor)\n"
      ]
    },
    {
      "cell_type": "markdown",
      "metadata": {
        "id": "rSvHAvr5xUzv"
      },
      "source": [
        "# Az adatok bemutatása"
      ]
    },
    {
      "cell_type": "code",
      "metadata": {
        "id": "3y6JX4xJ6sgJ"
      },
      "source": [
        ""
      ],
      "execution_count": null,
      "outputs": []
    },
    {
      "cell_type": "markdown",
      "metadata": {
        "id": "6caMyxxKzevW"
      },
      "source": [
        "[Adatforrás](http://telemetry.messer.hu:8080/cgi-bin/rview.exe?Name=Richter1&Password=Messer2&Server=10.24.17.2&Language=hu)\n",
        "\n",
        "[Egy nap adata: -04-04-](http://telemetry.messer.hu:8080/cgi-bin/rview.exe?Log=..%5C..%5Cppsrv%5CRichter1.txt&Html=Richter1log&MaxRows=15000&Year1=2021&Mon1=4&Day1=4&Hour1=0&Year2=2021&Mon2=4&Day2=4&Hour2=23)\n",
        "\n",
        "Az adatok elérésehéz webscaping technikát használtam. A következő fejezet erről szól."
      ]
    },
    {
      "cell_type": "code",
      "metadata": {
        "id": "6He9z6vyv7jy"
      },
      "source": [
        "import requests\n",
        "import pandas as pd\n",
        "import time\n",
        "import datetime\n",
        "\n",
        "from bs4 import BeautifulSoup\n",
        "\n",
        "def i2str(i):\n",
        "    i2=str(i)\n",
        "    if len(i2)<2:\n",
        "        i2=\"0\"+i2\n",
        "    return(i2)\n",
        "\n",
        "confline=   {\n",
        "            \"path\":\"./\",\n",
        "            \"prefix\":\"Nitrogen\"\n",
        "            }\n",
        "\n",
        "if \"path\" in confline:\n",
        "    path=confline[\"path\"]\n",
        "if \"prefix\" in confline:\n",
        "    prefix=confline[\"prefix\"]\n",
        "\n",
        "#print(path+prefix)\n",
        "\n",
        "def getdata(t1,t2):\n",
        "    #print(t1)\n",
        "    #print(t2)\n",
        "    y1=i2str(t1.year)\n",
        "    m1=i2str(t1.month)\n",
        "    d1=i2str(t1.day)\n",
        "\n",
        "\n",
        "    y2=i2str(t2.year)\n",
        "    m2=i2str(t2.month)\n",
        "    d2=i2str(t2.day)\n",
        "\n",
        "    url1=\"http://telemetry.messer.hu:8080/cgi-bin/rview.exe?Log=..%5C..%5C..%5Cppsrv%5CRichter1.txt&Html=Richter1log&MaxRows=\"\n",
        "    url2=\"10000&Year1=\"+y1+\"&Mon1=\"+m1+\"&Day1=\"+d1+\"&Hour1=0&Year2=\"+y2+\"&Mon2=\"+m2+\"&Day2=\"+d2+\"&Hour2=0\"\n",
        "\n",
        "    url=url1+url2\n",
        "\n",
        "    fname=path+prefix+y1+m1+d1+\".csv\"\n",
        "    result=requests.get(url)\n",
        "    soup = BeautifulSoup(result.content, 'html.parser')\n",
        "    allrow=soup.find_all(\"tr\")[:]\n",
        "    fo  = open(fname, \"w\",encoding='utf-8')\n",
        "    for  row in allrow:\n",
        "        soup2=BeautifulSoup(result.content, 'html.parser')\n",
        "        allcell=row.find_all(\"td\")[:]\n",
        "        sumcell=\"\"\n",
        "        #print(\"--------------\")\n",
        "        #print(allcell)\n",
        "        for cell in allcell:\n",
        "            celltxt=cell.text\n",
        "            sumcell=sumcell+celltxt+\";\"\n",
        "\n",
        "        outstr=sumcell.replace(\".\",\",\").replace(\";\",\" \",1).replace(\",\",\".\",2).replace(\"   \",\"\").replace(\"  \",\"\")\n",
        "        #print(outstr)\n",
        "\n",
        "        fo.write(outstr+\"\\n\")\n",
        "\n",
        "    # Close file\n",
        "    fo.close()\n",
        "    return(fname)"
      ],
      "execution_count": 3,
      "outputs": []
    },
    {
      "cell_type": "code",
      "metadata": {
        "colab": {
          "base_uri": "https://localhost:8080/"
        },
        "id": "qNfFyzsiIHHK",
        "outputId": "964acb2c-3e8b-417e-df30-882f2409c868"
      },
      "source": [
        "t1=datetime.date.today() # !! ez a dátum a serveren értelmezett mai dátum \n",
        "print(t1)    #a mai nap\n",
        "backtime=datetime.timedelta(days=1) # itt kezdi a letöltést ennyi nappal azelőtt nekünk most 1 nap kell a tegnapi nap megvan teljesen!\n",
        "#egy napnyi adatot akarunk lekérdezni\n",
        "tk=t1-backtime # a tegnapi nap lesz a kezdeti nap\n",
        "dt=datetime.timedelta(days=1) # olyen időközökben kérünk új adatsort!\n",
        "\n",
        "for i in range(1):  # ennyi napnyi adatot tölt le!! t1 -től kezdődően  Nekünk most csak egy kell! \n",
        "    t2=tk+dt\n",
        "    fname=getdata(tk,t2)\n",
        "    tk=t2\n"
      ],
      "execution_count": 4,
      "outputs": [
        {
          "output_type": "stream",
          "text": [
            "2021-04-11\n"
          ],
          "name": "stdout"
        }
      ]
    },
    {
      "cell_type": "markdown",
      "metadata": {
        "id": "sghjOtuKA7E8"
      },
      "source": [
        "**5 perces mintavétellel érkeznek az adatok**"
      ]
    },
    {
      "cell_type": "code",
      "metadata": {
        "colab": {
          "base_uri": "https://localhost:8080/",
          "height": 553
        },
        "id": "swqoC1at7-T-",
        "outputId": "17e409dc-fe49-4da5-f0dd-e684fb64963f"
      },
      "source": [
        "import pandas as pd\n",
        "df=pd.read_csv(fname, sep=\";\", decimal=\",\",)\n",
        "df.drop(columns=[\"Unnamed: 6\"],inplace = True)\n",
        "print(df.head(5))\n",
        "print(df.tail(5))\n",
        "df.describe()"
      ],
      "execution_count": 5,
      "outputs": [
        {
          "output_type": "stream",
          "text": [
            "             Dátum Idõ  ...  PSA minőség: [%]\n",
            "0  2021.04.10 00:04:36  ...            0.1889\n",
            "1  2021.04.10 00:09:36  ...            0.1862\n",
            "2  2021.04.10 00:14:36  ...            0.1809\n",
            "3  2021.04.10 00:19:36  ...            0.1755\n",
            "4  2021.04.10 00:24:36  ...            0.1706\n",
            "\n",
            "[5 rows x 6 columns]\n",
            "               Dátum Idõ  ...  PSA minőség: [%]\n",
            "282  2021.04.10 23:37:23  ...            0.0623\n",
            "283  2021.04.10 23:42:23  ...            0.0623\n",
            "284  2021.04.10 23:47:23  ...            0.0623\n",
            "285  2021.04.10 23:52:23  ...            0.0619\n",
            "286  2021.04.10 23:57:23  ...            0.0619\n",
            "\n",
            "[5 rows x 6 columns]\n"
          ],
          "name": "stdout"
        },
        {
          "output_type": "execute_result",
          "data": {
            "text/html": [
              "<div>\n",
              "<style scoped>\n",
              "    .dataframe tbody tr th:only-of-type {\n",
              "        vertical-align: middle;\n",
              "    }\n",
              "\n",
              "    .dataframe tbody tr th {\n",
              "        vertical-align: top;\n",
              "    }\n",
              "\n",
              "    .dataframe thead th {\n",
              "        text-align: right;\n",
              "    }\n",
              "</style>\n",
              "<table border=\"1\" class=\"dataframe\">\n",
              "  <thead>\n",
              "    <tr style=\"text-align: right;\">\n",
              "      <th></th>\n",
              "      <th>LIN tartály menny.: [m3]</th>\n",
              "      <th>LIN tartály nyomás: [barg]</th>\n",
              "      <th>PSA mennyiség: [m3]</th>\n",
              "      <th>PSA nyomás: [barg]</th>\n",
              "      <th>PSA minőség: [%]</th>\n",
              "    </tr>\n",
              "  </thead>\n",
              "  <tbody>\n",
              "    <tr>\n",
              "      <th>count</th>\n",
              "      <td>287.000000</td>\n",
              "      <td>287.000000</td>\n",
              "      <td>287.000000</td>\n",
              "      <td>287.000000</td>\n",
              "      <td>287.000000</td>\n",
              "    </tr>\n",
              "    <tr>\n",
              "      <th>mean</th>\n",
              "      <td>28219.132404</td>\n",
              "      <td>8.806132</td>\n",
              "      <td>392.156098</td>\n",
              "      <td>8.364808</td>\n",
              "      <td>0.096847</td>\n",
              "    </tr>\n",
              "    <tr>\n",
              "      <th>std</th>\n",
              "      <td>33.337277</td>\n",
              "      <td>0.173490</td>\n",
              "      <td>120.174575</td>\n",
              "      <td>0.132678</td>\n",
              "      <td>0.034971</td>\n",
              "    </tr>\n",
              "    <tr>\n",
              "      <th>min</th>\n",
              "      <td>28147.000000</td>\n",
              "      <td>8.490000</td>\n",
              "      <td>0.000000</td>\n",
              "      <td>8.000000</td>\n",
              "      <td>0.058600</td>\n",
              "    </tr>\n",
              "    <tr>\n",
              "      <th>25%</th>\n",
              "      <td>28198.500000</td>\n",
              "      <td>8.660000</td>\n",
              "      <td>327.650000</td>\n",
              "      <td>8.200000</td>\n",
              "      <td>0.066600</td>\n",
              "    </tr>\n",
              "    <tr>\n",
              "      <th>50%</th>\n",
              "      <td>28210.000000</td>\n",
              "      <td>8.820000</td>\n",
              "      <td>418.400000</td>\n",
              "      <td>8.400000</td>\n",
              "      <td>0.081600</td>\n",
              "    </tr>\n",
              "    <tr>\n",
              "      <th>75%</th>\n",
              "      <td>28248.500000</td>\n",
              "      <td>8.960000</td>\n",
              "      <td>483.600000</td>\n",
              "      <td>8.500000</td>\n",
              "      <td>0.126800</td>\n",
              "    </tr>\n",
              "    <tr>\n",
              "      <th>max</th>\n",
              "      <td>28314.000000</td>\n",
              "      <td>9.080000</td>\n",
              "      <td>579.300000</td>\n",
              "      <td>8.600000</td>\n",
              "      <td>0.188900</td>\n",
              "    </tr>\n",
              "  </tbody>\n",
              "</table>\n",
              "</div>"
            ],
            "text/plain": [
              "       LIN tartály menny.: [m3]  ...  PSA minőség: [%]\n",
              "count                287.000000  ...        287.000000\n",
              "mean               28219.132404  ...          0.096847\n",
              "std                   33.337277  ...          0.034971\n",
              "min                28147.000000  ...          0.058600\n",
              "25%                28198.500000  ...          0.066600\n",
              "50%                28210.000000  ...          0.081600\n",
              "75%                28248.500000  ...          0.126800\n",
              "max                28314.000000  ...          0.188900\n",
              "\n",
              "[8 rows x 5 columns]"
            ]
          },
          "metadata": {
            "tags": []
          },
          "execution_count": 5
        }
      ]
    },
    {
      "cell_type": "code",
      "metadata": {
        "colab": {
          "base_uri": "https://localhost:8080/",
          "height": 265
        },
        "id": "kkQhGu3kEY1V",
        "outputId": "fca69616-2007-47fc-fc36-c84a911171f1"
      },
      "source": [
        "df[\"PSA mennyiség: [m3]\"].hist();"
      ],
      "execution_count": 6,
      "outputs": [
        {
          "output_type": "display_data",
          "data": {
            "image/png": "[encoded data removed]",
            "text/plain": [
              "<Figure size 432x288 with 1 Axes>"
            ]
          },
          "metadata": {
            "tags": [],
            "needs_background": "light"
          }
        }
      ]
    },
    {
      "cell_type": "code",
      "metadata": {
        "id": "87h2DDn3DfcS"
      },
      "source": [
        "import matplotlib.pyplot as plt\n",
        "import numpy as np\n",
        "import pandas as pd\n",
        "from sktime.datasets import load_airline\n",
        "from sktime.forecasting.model_selection import temporal_train_test_split\n",
        "from sktime.performance_metrics.forecasting import smape_loss\n",
        "from sktime.utils.plotting import plot_series"
      ],
      "execution_count": 9,
      "outputs": []
    },
    {
      "cell_type": "code",
      "metadata": {
        "id": "HlMm3GmNFH1d",
        "colab": {
          "base_uri": "https://localhost:8080/",
          "height": 279
        },
        "outputId": "50a92243-7f47-4258-e1f4-0d1fd1ea2133"
      },
      "source": [
        "y = df[\"PSA nyomás: [barg]\"]\n",
        "\n",
        "fig, ax = plot_series(y)\n",
        "ax.set(xlabel=\"Time\", ylabel=\"Nitrogén nyomás [bar]\");"
      ],
      "execution_count": 112,
      "outputs": [
        {
          "output_type": "display_data",
          "data": {
            "image/png": "[encoded data removed]",
            "text/plain": [
              "<Figure size 1152x288 with 1 Axes>"
            ]
          },
          "metadata": {
            "tags": [],
            "needs_background": "light"
          }
        }
      ]
    },
    {
      "cell_type": "code",
      "metadata": {
        "colab": {
          "base_uri": "https://localhost:8080/",
          "height": 281
        },
        "id": "F8Jaw5V_I99U",
        "outputId": "703e3275-cdfa-4a2f-bb0b-5046ea452b25"
      },
      "source": [
        "\n",
        "y = df[\"PSA mennyiség: [m3]\"]\n",
        "fig, ax = plot_series(y)\n",
        "ax.set(xlabel=\"Time\", ylabel=\"Nitrogén tömegáram [Nm3/h]\");\n"
      ],
      "execution_count": 113,
      "outputs": [
        {
          "output_type": "display_data",
          "data": {
            "image/png": "[encoded data removed]",
            "text/plain": [
              "<Figure size 1152x288 with 1 Axes>"
            ]
          },
          "metadata": {
            "tags": [],
            "needs_background": "light"
          }
        }
      ]
    },
    {
      "cell_type": "markdown",
      "metadata": {
        "id": "BmA5FpcubveR"
      },
      "source": [
        "# Éves adathalmaz előállítása\n",
        "A napi adatokat egy python script (mi más? :-) ) összefűzi egy teljes adatsorrá! A dátumformátumot is helyrerakja. Így később nem lesz vele dolgunk. A fejlécek értelmesebb (és rövidebb) elnevezést kapnak: \n",
        "\n",
        "\n",
        "---\n",
        "\n",
        "\n",
        "[konverter program:](https://github.com/sipocz/messer/blob/b65c35a08bed9565d9df9ed6be1f1e94c53b004d/messer_convert.py)\n"
      ]
    },
    {
      "cell_type": "markdown",
      "metadata": {
        "id": "Sp2fe7O0ePE5"
      },
      "source": [
        "## Adatok letöltése\n",
        "\n",
        "Az adatok előfeldolgozása, előkészítése megtörtént. Az internetes elérés céljából github repoban vannak. "
      ]
    },
    {
      "cell_type": "code",
      "metadata": {
        "colab": {
          "base_uri": "https://localhost:8080/"
        },
        "id": "0byfCQ24eN7D",
        "outputId": "3300c5ba-32a9-43ba-ceb0-d90f5dcc137a"
      },
      "source": [
        "\n",
        "!rm /content/all.csv\n",
        "!wget \"https://github.com/sipocz/messer/raw/main/all.csv\"\n",
        "!head /content/all.csv"
      ],
      "execution_count": 115,
      "outputs": [
        {
          "output_type": "stream",
          "text": [
            "rm: cannot remove '/content/all.csv': No such file or directory\n",
            "--2021-04-11 19:48:39--  https://github.com/sipocz/messer/raw/main/all.csv\n",
            "Resolving github.com (github.com)... 140.82.113.4\n",
            "Connecting to github.com (github.com)|140.82.113.4|:443... connected.\n",
            "HTTP request sent, awaiting response... 302 Found\n",
            "Location: https://raw.githubusercontent.com/sipocz/messer/main/all.csv [following]\n",
            "--2021-04-11 19:48:39--  https://raw.githubusercontent.com/sipocz/messer/main/all.csv\n",
            "Resolving raw.githubusercontent.com (raw.githubusercontent.com)... 185.199.109.133, 185.199.108.133, 185.199.111.133, ...\n",
            "Connecting to raw.githubusercontent.com (raw.githubusercontent.com)|185.199.109.133|:443... connected.\n",
            "HTTP request sent, awaiting response... 200 OK\n",
            "Length: 6249032 (6.0M) [text/plain]\n",
            "Saving to: ‘all.csv’\n",
            "\n",
            "all.csv             100%[===================>]   5.96M  16.1MB/s    in 0.4s    \n",
            "\n",
            "2021-04-11 19:48:40 (16.1 MB/s) - ‘all.csv’ saved [6249032/6249032]\n",
            "\n",
            "timeStamp,LIN_V,LIN_P,PSA_M,PSA_P,PSA_Q\n",
            "2019-11-21 09:58:15,32356.38,9.0,626.1,7.6,0.2749\n",
            "2019-11-21 10:03:16,32346.85,9.0,663.1,7.7,0.2761\n",
            "2019-11-21 10:03:21,32347.0,8.59,663.1,7.7,0.2761\n",
            "2019-11-21 10:08:22,32350.0,8.61,548.9,7.7,0.2737\n",
            "2019-11-21 10:13:21,32327.0,8.62,492.5,7.7,0.2694\n",
            "2019-11-21 10:18:21,32329.0,8.64,634.2,7.7,0.2639\n",
            "2019-11-21 10:23:21,32324.0,8.64,627.7,7.7,0.2619\n",
            "2019-11-21 10:28:21,32305.0,8.63,591.8,7.6,0.2595\n",
            "2019-11-21 10:33:22,32298.0,8.63,550.8,7.6,0.2584\n"
          ],
          "name": "stdout"
        }
      ]
    },
    {
      "cell_type": "code",
      "metadata": {
        "colab": {
          "base_uri": "https://localhost:8080/"
        },
        "id": "3HGeQQKeT909",
        "outputId": "78070c82-3eee-429c-fc6f-ba7801f11e5b"
      },
      "source": [
        "# Az univerzalitás érdekében itt lehet konfigurálni, hogy hol található a működéshez szükséges fájl \n",
        "\n",
        "_PCVERSION_=False\n",
        "_GITHUB_ORIG=True\n",
        "\n",
        "if _PCVERSION_:\n",
        "    basedir=\"C:/Users/sipocz/OneDrive/Dokumentumok/GitHub/nitrogen\"\n",
        "else:\n",
        "\n",
        "    if _GITHUB_ORIG:\n",
        "        basedir=\"/content/\"\n",
        "    else:\n",
        "        from google.colab import drive\n",
        "        drive.mount('/content/drive',force_remount=True)\n",
        "        basedir=\"/content/drive/My Drive/001_AI/messer/nitrogen/\"\n",
        "print(f\"Az alapkönyvtár: {basedir}\")  \n"
      ],
      "execution_count": 118,
      "outputs": [
        {
          "output_type": "stream",
          "text": [
            "Az alapkönyvtár: /content/\n"
          ],
          "name": "stdout"
        }
      ]
    },
    {
      "cell_type": "markdown",
      "metadata": {
        "id": "CZI0oY4kgJcx"
      },
      "source": [
        "## Olvassuk be az adathalmazt, vizsgáljuk!!"
      ]
    },
    {
      "cell_type": "code",
      "metadata": {
        "colab": {
          "base_uri": "https://localhost:8080/"
        },
        "id": "w3w21rK4gGOk",
        "outputId": "7d96d474-1da9-482c-d64c-91613fa4090f"
      },
      "source": [
        "df=pd.read_csv(basedir+\"all.csv\")\n",
        "print(df.head())\n",
        "print(\"\\n\")\n",
        "print(f\"timeStamp adattípus: {type(df.timeStamp[0])}\")\n"
      ],
      "execution_count": 122,
      "outputs": [
        {
          "output_type": "stream",
          "text": [
            "             timeStamp     LIN_V  LIN_P  PSA_M  PSA_P   PSA_Q\n",
            "0  2019-11-21 09:58:15  32356.38   9.00  626.1    7.6  0.2749\n",
            "1  2019-11-21 10:03:16  32346.85   9.00  663.1    7.7  0.2761\n",
            "2  2019-11-21 10:03:21  32347.00   8.59  663.1    7.7  0.2761\n",
            "3  2019-11-21 10:08:22  32350.00   8.61  548.9    7.7  0.2737\n",
            "4  2019-11-21 10:13:21  32327.00   8.62  492.5    7.7  0.2694\n",
            "\n",
            "\n",
            "timeStamp adattípus: <class 'str'>\n"
          ],
          "name": "stdout"
        }
      ]
    },
    {
      "cell_type": "markdown",
      "metadata": {
        "id": "cLtMkZCIgxta"
      },
      "source": [
        "## Az időbélyeget át kell konvertálni dátum formátumra! Ennek még később meglesz a haszna!"
      ]
    },
    {
      "cell_type": "code",
      "metadata": {
        "id": "pHBgDa52gxM5"
      },
      "source": [
        "df[\"timeStamp\"]=pd.to_datetime(df[\"timeStamp\"],format=\"%Y.%m.%d %H:%M:%S\")   # konvertáljuk az időbélyeget\n",
        "\n",
        "\n",
        "d=df[[\"timeStamp\",\"PSA_M\"]]\n",
        "d.set_index(\"timeStamp\",inplace=True)"
      ],
      "execution_count": 123,
      "outputs": []
    },
    {
      "cell_type": "markdown",
      "metadata": {
        "id": "LTiiCQRoixPn"
      },
      "source": [
        "## Ellenőrizzük vissza!"
      ]
    },
    {
      "cell_type": "code",
      "metadata": {
        "colab": {
          "base_uri": "https://localhost:8080/"
        },
        "id": "EX4Db__niwaV",
        "outputId": "abbf4b10-2280-4f0c-9bfd-cfbafe9dff04"
      },
      "source": [
        "print(df.head())\n",
        "print(\"\\n\")\n",
        "print(f\"timeStamp adattípus: {type(df.timeStamp[0])}\")"
      ],
      "execution_count": 124,
      "outputs": [
        {
          "output_type": "stream",
          "text": [
            "            timeStamp     LIN_V  LIN_P  PSA_M  PSA_P   PSA_Q\n",
            "0 2019-11-21 09:58:15  32356.38   9.00  626.1    7.6  0.2749\n",
            "1 2019-11-21 10:03:16  32346.85   9.00  663.1    7.7  0.2761\n",
            "2 2019-11-21 10:03:21  32347.00   8.59  663.1    7.7  0.2761\n",
            "3 2019-11-21 10:08:22  32350.00   8.61  548.9    7.7  0.2737\n",
            "4 2019-11-21 10:13:21  32327.00   8.62  492.5    7.7  0.2694\n",
            "\n",
            "\n",
            "timeStamp adattípus: <class 'pandas._libs.tslibs.timestamps.Timestamp'>\n"
          ],
          "name": "stdout"
        }
      ]
    },
    {
      "cell_type": "markdown",
      "metadata": {
        "id": "tpec6GFYi_cH"
      },
      "source": [
        "## Nézzünk egy statisztikát az adatokról!"
      ]
    },
    {
      "cell_type": "code",
      "metadata": {
        "colab": {
          "base_uri": "https://localhost:8080/"
        },
        "id": "QXfcA3jmi5a8",
        "outputId": "4edbb9d0-a2d0-4214-cc84-795bae859135"
      },
      "source": [
        "df.info()"
      ],
      "execution_count": 125,
      "outputs": [
        {
          "output_type": "stream",
          "text": [
            "<class 'pandas.core.frame.DataFrame'>\n",
            "RangeIndex: 122423 entries, 0 to 122422\n",
            "Data columns (total 6 columns):\n",
            " #   Column     Non-Null Count   Dtype         \n",
            "---  ------     --------------   -----         \n",
            " 0   timeStamp  122423 non-null  datetime64[ns]\n",
            " 1   LIN_V      122423 non-null  float64       \n",
            " 2   LIN_P      122423 non-null  float64       \n",
            " 3   PSA_M      122423 non-null  float64       \n",
            " 4   PSA_P      122423 non-null  float64       \n",
            " 5   PSA_Q      122423 non-null  float64       \n",
            "dtypes: datetime64[ns](1), float64(5)\n",
            "memory usage: 5.6 MB\n"
          ],
          "name": "stdout"
        }
      ]
    },
    {
      "cell_type": "code",
      "metadata": {
        "colab": {
          "base_uri": "https://localhost:8080/"
        },
        "id": "vCFsFPABn0nx",
        "outputId": "cb153e11-0525-485c-92cb-300f348ce0d7"
      },
      "source": [
        "print(f\"{df.isnull().sum()} \\ndarab  NAN van a DF-ben\" )"
      ],
      "execution_count": 132,
      "outputs": [
        {
          "output_type": "stream",
          "text": [
            "timeStamp    0\n",
            "LIN_V        0\n",
            "LIN_P        0\n",
            "PSA_M        0\n",
            "PSA_P        0\n",
            "PSA_Q        0\n",
            "dtype: int64 \n",
            "darab  NAN van a DF-ben\n"
          ],
          "name": "stdout"
        }
      ]
    },
    {
      "cell_type": "code",
      "metadata": {
        "colab": {
          "base_uri": "https://localhost:8080/",
          "height": 284
        },
        "id": "TQqS6t2AkI50",
        "outputId": "4321b3af-37e6-4eb5-b61c-3bc49df9a73b"
      },
      "source": [
        "df.describe()"
      ],
      "execution_count": 126,
      "outputs": [
        {
          "output_type": "execute_result",
          "data": {
            "text/html": [
              "<div>\n",
              "<style scoped>\n",
              "    .dataframe tbody tr th:only-of-type {\n",
              "        vertical-align: middle;\n",
              "    }\n",
              "\n",
              "    .dataframe tbody tr th {\n",
              "        vertical-align: top;\n",
              "    }\n",
              "\n",
              "    .dataframe thead th {\n",
              "        text-align: right;\n",
              "    }\n",
              "</style>\n",
              "<table border=\"1\" class=\"dataframe\">\n",
              "  <thead>\n",
              "    <tr style=\"text-align: right;\">\n",
              "      <th></th>\n",
              "      <th>LIN_V</th>\n",
              "      <th>LIN_P</th>\n",
              "      <th>PSA_M</th>\n",
              "      <th>PSA_P</th>\n",
              "      <th>PSA_Q</th>\n",
              "    </tr>\n",
              "  </thead>\n",
              "  <tbody>\n",
              "    <tr>\n",
              "      <th>count</th>\n",
              "      <td>122423.000000</td>\n",
              "      <td>122423.000000</td>\n",
              "      <td>1.224230e+05</td>\n",
              "      <td>1.224230e+05</td>\n",
              "      <td>122423.000000</td>\n",
              "    </tr>\n",
              "    <tr>\n",
              "      <th>mean</th>\n",
              "      <td>28433.207824</td>\n",
              "      <td>8.821156</td>\n",
              "      <td>4.737695e+13</td>\n",
              "      <td>-2.536314e+14</td>\n",
              "      <td>0.264662</td>\n",
              "    </tr>\n",
              "    <tr>\n",
              "      <th>std</th>\n",
              "      <td>4025.686044</td>\n",
              "      <td>0.425710</td>\n",
              "      <td>8.450203e+15</td>\n",
              "      <td>1.548388e+15</td>\n",
              "      <td>0.273659</td>\n",
              "    </tr>\n",
              "    <tr>\n",
              "      <th>min</th>\n",
              "      <td>0.000000</td>\n",
              "      <td>0.000000</td>\n",
              "      <td>0.000000e+00</td>\n",
              "      <td>-9.707291e+15</td>\n",
              "      <td>0.000000</td>\n",
              "    </tr>\n",
              "    <tr>\n",
              "      <th>25%</th>\n",
              "      <td>25927.000000</td>\n",
              "      <td>8.580000</td>\n",
              "      <td>3.021000e+02</td>\n",
              "      <td>7.600000e+00</td>\n",
              "      <td>0.118200</td>\n",
              "    </tr>\n",
              "    <tr>\n",
              "      <th>50%</th>\n",
              "      <td>29180.000000</td>\n",
              "      <td>8.780000</td>\n",
              "      <td>4.731000e+02</td>\n",
              "      <td>7.900000e+00</td>\n",
              "      <td>0.186300</td>\n",
              "    </tr>\n",
              "    <tr>\n",
              "      <th>75%</th>\n",
              "      <td>31733.000000</td>\n",
              "      <td>9.000000</td>\n",
              "      <td>5.833000e+02</td>\n",
              "      <td>8.300000e+00</td>\n",
              "      <td>0.266800</td>\n",
              "    </tr>\n",
              "    <tr>\n",
              "      <th>max</th>\n",
              "      <td>34528.000000</td>\n",
              "      <td>11.260000</td>\n",
              "      <td>1.738199e+18</td>\n",
              "      <td>9.000000e+00</td>\n",
              "      <td>1.049100</td>\n",
              "    </tr>\n",
              "  </tbody>\n",
              "</table>\n",
              "</div>"
            ],
            "text/plain": [
              "               LIN_V          LIN_P         PSA_M         PSA_P          PSA_Q\n",
              "count  122423.000000  122423.000000  1.224230e+05  1.224230e+05  122423.000000\n",
              "mean    28433.207824       8.821156  4.737695e+13 -2.536314e+14       0.264662\n",
              "std      4025.686044       0.425710  8.450203e+15  1.548388e+15       0.273659\n",
              "min         0.000000       0.000000  0.000000e+00 -9.707291e+15       0.000000\n",
              "25%     25927.000000       8.580000  3.021000e+02  7.600000e+00       0.118200\n",
              "50%     29180.000000       8.780000  4.731000e+02  7.900000e+00       0.186300\n",
              "75%     31733.000000       9.000000  5.833000e+02  8.300000e+00       0.266800\n",
              "max     34528.000000      11.260000  1.738199e+18  9.000000e+00       1.049100"
            ]
          },
          "metadata": {
            "tags": []
          },
          "execution_count": 126
        }
      ]
    },
    {
      "cell_type": "markdown",
      "metadata": {
        "id": "qf7IAC9PkZkQ"
      },
      "source": [
        "##Vegyük észre !!\n",
        "PSA_M max értéke és PSA_P min értéke nem reális adat! Valami hiba történt az adatgyűjtéssel?\n",
        "Ne számoljunk ezekkel az értékekkel, ezeket meg kellene találni az adathalmazban és ki kellene gyomlálni!\n",
        "Van-e az adatok között nan?"
      ]
    },
    {
      "cell_type": "code",
      "metadata": {
        "colab": {
          "base_uri": "https://localhost:8080/"
        },
        "id": "c3zOiqt_nejC",
        "outputId": "17a5ff23-6a23-42ad-e3fe-25b7165bc188"
      },
      "source": [
        "print(f\"{df.isnull().sum()} db NAN van a DF-ben\" )"
      ],
      "execution_count": 133,
      "outputs": [
        {
          "output_type": "stream",
          "text": [
            "timeStamp    0\n",
            "LIN_V        0\n",
            "LIN_P        0\n",
            "PSA_M        0\n",
            "PSA_P        0\n",
            "PSA_Q        0\n",
            "dtype: int64 db NAN van a DF-ben\n"
          ],
          "name": "stdout"
        }
      ]
    },
    {
      "cell_type": "markdown",
      "metadata": {
        "id": "MQAsqJV8wIVH"
      },
      "source": [
        "NAN nincs, akkor foglalkozzunk az kiugró értékekkel! "
      ]
    },
    {
      "cell_type": "code",
      "metadata": {
        "id": "wlp7ggvhwG2N"
      },
      "source": [
        ""
      ],
      "execution_count": null,
      "outputs": []
    },
    {
      "cell_type": "markdown",
      "metadata": {
        "id": "xa3QMemVFOO7"
      },
      "source": [
        "# ÖTLET: Hétvégi fogyasztásokat meg kellene nézni!!!"
      ]
    }
  ]
}