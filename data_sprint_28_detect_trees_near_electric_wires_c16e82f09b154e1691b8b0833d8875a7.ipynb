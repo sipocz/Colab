{
  "nbformat": 4,
  "nbformat_minor": 0,
  "metadata": {
    "colab": {
      "name": "data-sprint-28-detect-trees-near-electric-wires-c16e82f09b154e1691b8b0833d8875a7.ipynb",
      "provenance": [],
      "collapsed_sections": [],
      "include_colab_link": true
    },
    "kernelspec": {
      "name": "python3",
      "display_name": "Python 3"
    },
    "accelerator": "GPU"
  },
  "cells": [
    {
      "cell_type": "markdown",
      "metadata": {
        "id": "view-in-github",
        "colab_type": "text"
      },
      "source": [
        "<a href=\"https://colab.research.google.com/github/sipocz/Colab/blob/main/data_sprint_28_detect_trees_near_electric_wires_c16e82f09b154e1691b8b0833d8875a7.ipynb\" target=\"_parent\"><img src=\"https://colab.research.google.com/assets/colab-badge.svg\" alt=\"Open In Colab\"/></a>"
      ]
    },
    {
      "cell_type": "markdown",
      "metadata": {
        "id": "M1H8q8USSAiH"
      },
      "source": [
        "![dphi banner](https://dphi-courses.s3.ap-south-1.amazonaws.com/Datathons/dphi_banner.png)"
      ]
    },
    {
      "cell_type": "markdown",
      "metadata": {
        "id": "RP4A14qISFCM"
      },
      "source": [
        "# **Getting Started Code For [Data Sprint #28](https://dphi.tech/challenges/data-sprint-28/68/overview/about) on DPhi**"
      ]
    },
    {
      "cell_type": "markdown",
      "metadata": {
        "id": "SfMK5FEhUGde"
      },
      "source": [
        "## Download the images\n",
        "We are given google drive link in the '[Data](https://dphi.tech/challenges/data-sprint-28/68/data)' section of problem page which has all the required train images (to build the model) and test images to predict the label of these images and submit the predictions on the [DPhi platform](https://dphi.tech/challenges/data-sprint-28/68/submit).\n",
        "\n",
        "We can use **GoogleDriveDownloader** form **google_drive_downloader** library in Python to download the shared files from the shared Google drive link: https://drive.google.com/file/d/1ahtCipPXsX9BVRWi6nDG13tr4b_rMY97/view?usp=sharing\n",
        "\n",
        "The file id in the above link is: **1ahtCipPXsX9BVRWi6nDG13tr4b_rMY97**"
      ]
    },
    {
      "cell_type": "code",
      "metadata": {
        "id": "5_1BysB4Re7f"
      },
      "source": [
        "from google_drive_downloader import GoogleDriveDownloader as gdd\n",
        "\n",
        "gdd.download_file_from_google_drive(file_id='1ahtCipPXsX9BVRWi6nDG13tr4b_rMY97',\n",
        "                                    dest_path='content/detect_trees_near_electric_wires.zip',\n",
        "                                    unzip=True)"
      ],
      "execution_count": 1,
      "outputs": []
    },
    {
      "cell_type": "markdown",
      "metadata": {
        "id": "SM_FDQgXbh_-"
      },
      "source": [
        "We have all the files from the shared Google drive link downloaded in the colab environment."
      ]
    },
    {
      "cell_type": "markdown",
      "metadata": {
        "id": "wsIqjb7Ebs3B"
      },
      "source": [
        "## Loading Libraries\n",
        "All Python capabilities are not loaded to our working environment by default (even they are already installed in your system). So, we import each and every library that we want to use.\n",
        "\n",
        "We chose alias names for our libraries for the sake of our convenience (numpy --> np and pandas --> pd, tensorlow --> tf).\n",
        "\n",
        "Note: You can import all the libraries that you think will be required or can import it as you go along."
      ]
    },
    {
      "cell_type": "code",
      "metadata": {
        "id": "BIe16kmoUmhr"
      },
      "source": [
        "import pandas as pd                                     # Data analysis and manipultion tool\n",
        "import numpy as np                                      # Fundamental package for linear algebra and multidimensional arrays\n",
        "import tensorflow as tf                                 # Deep Learning Tool\n",
        "import os                                               # OS module in Python provides a way of using operating system dependent functionality\n",
        "import cv2                                              # Library for image processing\n",
        "from sklearn.model_selection import train_test_split    # For splitting the data into train and validation set\n",
        "from sklearn.metrics import accuracy_score"
      ],
      "execution_count": 2,
      "outputs": []
    },
    {
      "cell_type": "markdown",
      "metadata": {
        "id": "IAXqCpedduVx"
      },
      "source": [
        "## Loading and preparing training data\n",
        "The train and test images are given in two different folders - 'train' and 'test'. The labels of train images are given in a csv file 'train.csv' with respective image id (i.e. image file name)."
      ]
    },
    {
      "cell_type": "markdown",
      "metadata": {
        "id": "Wjw1Z9Uqesey"
      },
      "source": [
        "#### Getting the labels of the images"
      ]
    },
    {
      "cell_type": "code",
      "metadata": {
        "id": "vMXmX8g3dflK",
        "colab": {
          "base_uri": "https://localhost:8080/",
          "height": 198
        },
        "outputId": "ea7d298a-5c32-4e61-c3dc-afee738ecb09"
      },
      "source": [
        "labels = pd.read_csv(\"/content/content/detect_trees_near_electric_wires/train.csv\")   # loading the labels\n",
        "labels.head()           # will display the first five rows in labels dataframe"
      ],
      "execution_count": 3,
      "outputs": [
        {
          "output_type": "execute_result",
          "data": {
            "text/html": [
              "<div>\n",
              "<style scoped>\n",
              "    .dataframe tbody tr th:only-of-type {\n",
              "        vertical-align: middle;\n",
              "    }\n",
              "\n",
              "    .dataframe tbody tr th {\n",
              "        vertical-align: top;\n",
              "    }\n",
              "\n",
              "    .dataframe thead th {\n",
              "        text-align: right;\n",
              "    }\n",
              "</style>\n",
              "<table border=\"1\" class=\"dataframe\">\n",
              "  <thead>\n",
              "    <tr style=\"text-align: right;\">\n",
              "      <th></th>\n",
              "      <th>file_name</th>\n",
              "      <th>Intersection</th>\n",
              "    </tr>\n",
              "  </thead>\n",
              "  <tbody>\n",
              "    <tr>\n",
              "      <th>0</th>\n",
              "      <td>Image_1.jpg</td>\n",
              "      <td>0</td>\n",
              "    </tr>\n",
              "    <tr>\n",
              "      <th>1</th>\n",
              "      <td>Image_2.jpg</td>\n",
              "      <td>1</td>\n",
              "    </tr>\n",
              "    <tr>\n",
              "      <th>2</th>\n",
              "      <td>Image_3.jpg</td>\n",
              "      <td>1</td>\n",
              "    </tr>\n",
              "    <tr>\n",
              "      <th>3</th>\n",
              "      <td>Image_4.jpg</td>\n",
              "      <td>1</td>\n",
              "    </tr>\n",
              "    <tr>\n",
              "      <th>4</th>\n",
              "      <td>Image_5.jpg</td>\n",
              "      <td>1</td>\n",
              "    </tr>\n",
              "  </tbody>\n",
              "</table>\n",
              "</div>"
            ],
            "text/plain": [
              "     file_name  Intersection\n",
              "0  Image_1.jpg             0\n",
              "1  Image_2.jpg             1\n",
              "2  Image_3.jpg             1\n",
              "3  Image_4.jpg             1\n",
              "4  Image_5.jpg             1"
            ]
          },
          "metadata": {
            "tags": []
          },
          "execution_count": 3
        }
      ]
    },
    {
      "cell_type": "code",
      "metadata": {
        "id": "FldofLw1fCxI",
        "colab": {
          "base_uri": "https://localhost:8080/",
          "height": 198
        },
        "outputId": "5f3cd2d4-6b1b-48df-defa-699a06788bc5"
      },
      "source": [
        "labels.tail()            # will display the last five rows in labels dataframe"
      ],
      "execution_count": 4,
      "outputs": [
        {
          "output_type": "execute_result",
          "data": {
            "text/html": [
              "<div>\n",
              "<style scoped>\n",
              "    .dataframe tbody tr th:only-of-type {\n",
              "        vertical-align: middle;\n",
              "    }\n",
              "\n",
              "    .dataframe tbody tr th {\n",
              "        vertical-align: top;\n",
              "    }\n",
              "\n",
              "    .dataframe thead th {\n",
              "        text-align: right;\n",
              "    }\n",
              "</style>\n",
              "<table border=\"1\" class=\"dataframe\">\n",
              "  <thead>\n",
              "    <tr style=\"text-align: right;\">\n",
              "      <th></th>\n",
              "      <th>file_name</th>\n",
              "      <th>Intersection</th>\n",
              "    </tr>\n",
              "  </thead>\n",
              "  <tbody>\n",
              "    <tr>\n",
              "      <th>1437</th>\n",
              "      <td>Image_1438.jpg</td>\n",
              "      <td>1</td>\n",
              "    </tr>\n",
              "    <tr>\n",
              "      <th>1438</th>\n",
              "      <td>Image_1439.jpg</td>\n",
              "      <td>0</td>\n",
              "    </tr>\n",
              "    <tr>\n",
              "      <th>1439</th>\n",
              "      <td>Image_1440.jpg</td>\n",
              "      <td>1</td>\n",
              "    </tr>\n",
              "    <tr>\n",
              "      <th>1440</th>\n",
              "      <td>Image_1441.jpg</td>\n",
              "      <td>0</td>\n",
              "    </tr>\n",
              "    <tr>\n",
              "      <th>1441</th>\n",
              "      <td>Image_1442.jpg</td>\n",
              "      <td>1</td>\n",
              "    </tr>\n",
              "  </tbody>\n",
              "</table>\n",
              "</div>"
            ],
            "text/plain": [
              "           file_name  Intersection\n",
              "1437  Image_1438.jpg             1\n",
              "1438  Image_1439.jpg             0\n",
              "1439  Image_1440.jpg             1\n",
              "1440  Image_1441.jpg             0\n",
              "1441  Image_1442.jpg             1"
            ]
          },
          "metadata": {
            "tags": []
          },
          "execution_count": 4
        }
      ]
    },
    {
      "cell_type": "markdown",
      "metadata": {
        "id": "S-bMgFBIfUdP"
      },
      "source": [
        "#### Getting images file path"
      ]
    },
    {
      "cell_type": "code",
      "metadata": {
        "id": "xdsON8gZfKIV"
      },
      "source": [
        "file_paths = [[fname, '/content/content/detect_trees_near_electric_wires/train/' + fname] for fname in labels['file_name']]"
      ],
      "execution_count": 5,
      "outputs": []
    },
    {
      "cell_type": "markdown",
      "metadata": {
        "id": "q9Noguhprcf2"
      },
      "source": [
        "#### Confirming if no. of labels is equal to no. of images"
      ]
    },
    {
      "cell_type": "code",
      "metadata": {
        "id": "N4YrF-s1rWla",
        "colab": {
          "base_uri": "https://localhost:8080/"
        },
        "outputId": "76d712ae-60af-4a52-d8ce-d45999ec22b4"
      },
      "source": [
        "# Confirm if number of images is same as number of labels given\n",
        "if len(labels) == len(file_paths):\n",
        "    print('Number of labels i.e. ', len(labels), 'matches the number of filenames i.e. ', len(file_paths))\n",
        "else:\n",
        "    print('Number of labels does not match the number of filenames')"
      ],
      "execution_count": 6,
      "outputs": [
        {
          "output_type": "stream",
          "text": [
            "Number of labels i.e.  1442 matches the number of filenames i.e.  1442\n"
          ],
          "name": "stdout"
        }
      ]
    },
    {
      "cell_type": "markdown",
      "metadata": {
        "id": "Wx2t_cLSr3Jm"
      },
      "source": [
        "#### Converting the file_paths to dataframe"
      ]
    },
    {
      "cell_type": "code",
      "metadata": {
        "id": "PE8c0cgkrpOO",
        "colab": {
          "base_uri": "https://localhost:8080/",
          "height": 198
        },
        "outputId": "306ed6d0-fde6-47db-c18a-211fabcb2f70"
      },
      "source": [
        "images = pd.DataFrame(file_paths, columns=['file_name', 'filepaths'])\n",
        "images.head()"
      ],
      "execution_count": 7,
      "outputs": [
        {
          "output_type": "execute_result",
          "data": {
            "text/html": [
              "<div>\n",
              "<style scoped>\n",
              "    .dataframe tbody tr th:only-of-type {\n",
              "        vertical-align: middle;\n",
              "    }\n",
              "\n",
              "    .dataframe tbody tr th {\n",
              "        vertical-align: top;\n",
              "    }\n",
              "\n",
              "    .dataframe thead th {\n",
              "        text-align: right;\n",
              "    }\n",
              "</style>\n",
              "<table border=\"1\" class=\"dataframe\">\n",
              "  <thead>\n",
              "    <tr style=\"text-align: right;\">\n",
              "      <th></th>\n",
              "      <th>file_name</th>\n",
              "      <th>filepaths</th>\n",
              "    </tr>\n",
              "  </thead>\n",
              "  <tbody>\n",
              "    <tr>\n",
              "      <th>0</th>\n",
              "      <td>Image_1.jpg</td>\n",
              "      <td>/content/content/detect_trees_near_electric_wi...</td>\n",
              "    </tr>\n",
              "    <tr>\n",
              "      <th>1</th>\n",
              "      <td>Image_2.jpg</td>\n",
              "      <td>/content/content/detect_trees_near_electric_wi...</td>\n",
              "    </tr>\n",
              "    <tr>\n",
              "      <th>2</th>\n",
              "      <td>Image_3.jpg</td>\n",
              "      <td>/content/content/detect_trees_near_electric_wi...</td>\n",
              "    </tr>\n",
              "    <tr>\n",
              "      <th>3</th>\n",
              "      <td>Image_4.jpg</td>\n",
              "      <td>/content/content/detect_trees_near_electric_wi...</td>\n",
              "    </tr>\n",
              "    <tr>\n",
              "      <th>4</th>\n",
              "      <td>Image_5.jpg</td>\n",
              "      <td>/content/content/detect_trees_near_electric_wi...</td>\n",
              "    </tr>\n",
              "  </tbody>\n",
              "</table>\n",
              "</div>"
            ],
            "text/plain": [
              "     file_name                                          filepaths\n",
              "0  Image_1.jpg  /content/content/detect_trees_near_electric_wi...\n",
              "1  Image_2.jpg  /content/content/detect_trees_near_electric_wi...\n",
              "2  Image_3.jpg  /content/content/detect_trees_near_electric_wi...\n",
              "3  Image_4.jpg  /content/content/detect_trees_near_electric_wi...\n",
              "4  Image_5.jpg  /content/content/detect_trees_near_electric_wi..."
            ]
          },
          "metadata": {
            "tags": []
          },
          "execution_count": 7
        }
      ]
    },
    {
      "cell_type": "markdown",
      "metadata": {
        "id": "nSDPZsA2sM5n"
      },
      "source": [
        "#### Combining the labels with the images"
      ]
    },
    {
      "cell_type": "code",
      "metadata": {
        "id": "y8CNnxxzsG56",
        "colab": {
          "base_uri": "https://localhost:8080/",
          "height": 195
        },
        "outputId": "43bcea05-7a5e-4ea1-d436-444b8e7c2783"
      },
      "source": [
        "train_data = pd.merge(images, labels, how = 'inner', on = 'file_name')\n",
        "train_data.head()       "
      ],
      "execution_count": 8,
      "outputs": [
        {
          "output_type": "execute_result",
          "data": {
            "text/html": [
              "<div>\n",
              "<style scoped>\n",
              "    .dataframe tbody tr th:only-of-type {\n",
              "        vertical-align: middle;\n",
              "    }\n",
              "\n",
              "    .dataframe tbody tr th {\n",
              "        vertical-align: top;\n",
              "    }\n",
              "\n",
              "    .dataframe thead th {\n",
              "        text-align: right;\n",
              "    }\n",
              "</style>\n",
              "<table border=\"1\" class=\"dataframe\">\n",
              "  <thead>\n",
              "    <tr style=\"text-align: right;\">\n",
              "      <th></th>\n",
              "      <th>file_name</th>\n",
              "      <th>filepaths</th>\n",
              "      <th>Intersection</th>\n",
              "    </tr>\n",
              "  </thead>\n",
              "  <tbody>\n",
              "    <tr>\n",
              "      <th>0</th>\n",
              "      <td>Image_1.jpg</td>\n",
              "      <td>/content/content/detect_trees_near_electric_wi...</td>\n",
              "      <td>0</td>\n",
              "    </tr>\n",
              "    <tr>\n",
              "      <th>1</th>\n",
              "      <td>Image_2.jpg</td>\n",
              "      <td>/content/content/detect_trees_near_electric_wi...</td>\n",
              "      <td>1</td>\n",
              "    </tr>\n",
              "    <tr>\n",
              "      <th>2</th>\n",
              "      <td>Image_3.jpg</td>\n",
              "      <td>/content/content/detect_trees_near_electric_wi...</td>\n",
              "      <td>1</td>\n",
              "    </tr>\n",
              "    <tr>\n",
              "      <th>3</th>\n",
              "      <td>Image_4.jpg</td>\n",
              "      <td>/content/content/detect_trees_near_electric_wi...</td>\n",
              "      <td>1</td>\n",
              "    </tr>\n",
              "    <tr>\n",
              "      <th>4</th>\n",
              "      <td>Image_5.jpg</td>\n",
              "      <td>/content/content/detect_trees_near_electric_wi...</td>\n",
              "      <td>1</td>\n",
              "    </tr>\n",
              "  </tbody>\n",
              "</table>\n",
              "</div>"
            ],
            "text/plain": [
              "     file_name                                          filepaths  Intersection\n",
              "0  Image_1.jpg  /content/content/detect_trees_near_electric_wi...             0\n",
              "1  Image_2.jpg  /content/content/detect_trees_near_electric_wi...             1\n",
              "2  Image_3.jpg  /content/content/detect_trees_near_electric_wi...             1\n",
              "3  Image_4.jpg  /content/content/detect_trees_near_electric_wi...             1\n",
              "4  Image_5.jpg  /content/content/detect_trees_near_electric_wi...             1"
            ]
          },
          "metadata": {
            "tags": []
          },
          "execution_count": 8
        }
      ]
    },
    {
      "cell_type": "markdown",
      "metadata": {
        "id": "znobaA5KsXgp"
      },
      "source": [
        "The 'train_data' dataframe contains all the image id, their locations and their respective labels. Now the training data is ready."
      ]
    },
    {
      "cell_type": "markdown",
      "metadata": {
        "id": "BvIxaRD6sn3m"
      },
      "source": [
        "## Data Pre-processing\n",
        "It is necessary to bring all the images in the same shape and size, also convert them to their pixel values because all machine learning or deep learning models accepts only the numerical data. Also we need to convert all the labels from categorical to numerical values."
      ]
    },
    {
      "cell_type": "code",
      "metadata": {
        "id": "vxPiZCLpsWrd"
      },
      "source": [
        "data = []     # initialize an empty numpy array\n",
        "image_size = 150      # image size taken is 100 here. one can take other size too\n",
        "for i in range(len(train_data)):\n",
        "  \n",
        "  img_array = cv2.imread(train_data['filepaths'][i], )   # converting the image to gray scale cv2.IMREAD_GRAYSCALE\n",
        "\n",
        "  new_img_array = cv2.resize(img_array, (image_size, image_size))\n",
        "  flip_img_array=np.fliplr(new_img_array)      # resizing the image array\n",
        "  data.append([new_img_array, train_data['Intersection'][i]])\n",
        "  data.append([flip_img_array, train_data['Intersection'][i]])\n",
        "  "
      ],
      "execution_count": 9,
      "outputs": []
    },
    {
      "cell_type": "code",
      "metadata": {
        "colab": {
          "base_uri": "https://localhost:8080/",
          "height": 554
        },
        "id": "fEu1r69BryS_",
        "outputId": "35fca40b-cec3-4e94-e14b-4a029cb7822c"
      },
      "source": [
        "from matplotlib import pyplot as plt\n",
        "plt.imshow(data[2][0], interpolation='nearest',)\n",
        "\n",
        "\n",
        "plt.show()\n",
        "plt.imshow(data[3][0], interpolation='nearest',)\n",
        "\n",
        "\n",
        "plt.show()\n",
        "print(data[2][1])\n",
        "print(data[2][1])"
      ],
      "execution_count": 10,
      "outputs": [
        {
          "output_type": "display_data",
          "data": {
            "image/png": "[encoded data removed]",
            "text/plain": [
              "<Figure size 432x288 with 1 Axes>"
            ]
          },
          "metadata": {
            "tags": [],
            "needs_background": "light"
          }
        },
        {
          "output_type": "display_data",
          "data": {
            "image/png": "[encoded data removed]",
            "text/plain": [
              "<Figure size 432x288 with 1 Axes>"
            ]
          },
          "metadata": {
            "tags": [],
            "needs_background": "light"
          }
        },
        {
          "output_type": "stream",
          "text": [
            "1\n",
            "1\n"
          ],
          "name": "stdout"
        }
      ]
    },
    {
      "cell_type": "code",
      "metadata": {
        "id": "LOpf3gvXwbT5",
        "colab": {
          "base_uri": "https://localhost:8080/"
        },
        "outputId": "35afeead-fc87-4f08-a547-cf7148abb3b6"
      },
      "source": [
        "\n",
        "# image pixels of a image\n",
        "data[1]"
      ],
      "execution_count": 11,
      "outputs": [
        {
          "output_type": "execute_result",
          "data": {
            "text/plain": [
              "[array([[[251, 252, 254],\n",
              "         [255, 250, 252],\n",
              "         [119,  98,  94],\n",
              "         ...,\n",
              "         [207, 197, 190],\n",
              "         [208, 198, 191],\n",
              "         [208, 198, 191]],\n",
              " \n",
              "        [[245, 253, 254],\n",
              "         [248, 252, 251],\n",
              "         [253, 251, 247],\n",
              "         ...,\n",
              "         [209, 199, 192],\n",
              "         [210, 200, 193],\n",
              "         [210, 200, 193]],\n",
              " \n",
              "        [[103, 110, 102],\n",
              "         [101, 112, 104],\n",
              "         [110, 119, 109],\n",
              "         ...,\n",
              "         [209, 199, 192],\n",
              "         [209, 199, 192],\n",
              "         [209, 199, 192]],\n",
              " \n",
              "        ...,\n",
              " \n",
              "        [[ 33,  33,  33],\n",
              "         [ 31,  31,  31],\n",
              "         [ 47,  47,  47],\n",
              "         ...,\n",
              "         [ 62,  61,  63],\n",
              "         [ 61,  61,  61],\n",
              "         [132, 134, 131]],\n",
              " \n",
              "        [[ 29,  29,  29],\n",
              "         [106, 106, 106],\n",
              "         [120, 120, 120],\n",
              "         ...,\n",
              "         [ 52,  51,  53],\n",
              "         [143, 143, 143],\n",
              "         [148, 149, 146]],\n",
              " \n",
              "        [[ 33,  33,  33],\n",
              "         [ 30,  30,  30],\n",
              "         [ 51,  51,  51],\n",
              "         ...,\n",
              "         [140, 138, 140],\n",
              "         [147, 147, 147],\n",
              "         [148, 149, 146]]], dtype=uint8), 0]"
            ]
          },
          "metadata": {
            "tags": []
          },
          "execution_count": 11
        }
      ]
    },
    {
      "cell_type": "markdown",
      "metadata": {
        "id": "T6A7CNrU196Q"
      },
      "source": [
        "#### Shuffle the data"
      ]
    },
    {
      "cell_type": "code",
      "metadata": {
        "id": "XDs6fWy92qEq"
      },
      "source": [
        "np.random.shuffle(data)"
      ],
      "execution_count": 12,
      "outputs": []
    },
    {
      "cell_type": "markdown",
      "metadata": {
        "id": "YFMN0ZkA5H-F"
      },
      "source": [
        "#### Separating the images and labels\n"
      ]
    },
    {
      "cell_type": "code",
      "metadata": {
        "id": "2KoW9Pfq5NiB"
      },
      "source": [
        "xx = []\n",
        "yy = []\n",
        "for image in data:\n",
        "  xx.append(image[0])\n",
        "  yy.append(image[1])\n",
        "\n",
        "# converting x & y to numpy array as they are list\n",
        "xx = np.array(xx)\n",
        "yy = np.array(yy)"
      ],
      "execution_count": 13,
      "outputs": []
    },
    {
      "cell_type": "code",
      "metadata": {
        "id": "t39WpMhaepOg",
        "colab": {
          "base_uri": "https://localhost:8080/"
        },
        "outputId": "c7c9c197-b4b8-4e31-dccd-aa73627d738e"
      },
      "source": [
        "np.unique(yy, return_counts=True)"
      ],
      "execution_count": 14,
      "outputs": [
        {
          "output_type": "execute_result",
          "data": {
            "text/plain": [
              "(array([0, 1]), array([1232, 1652]))"
            ]
          },
          "metadata": {
            "tags": []
          },
          "execution_count": 14
        }
      ]
    },
    {
      "cell_type": "markdown",
      "metadata": {
        "id": "OeuKjzVg7NSb"
      },
      "source": [
        "#### Splitting the data into Train and Validation Set\n",
        "We want to check the performance of the model that we built. For this purpose, we always split (both independent and dependent data) the given data into training set which will be used to train the model, and test set which will be used to check how accurately the model is predicting outcomes.\n",
        "\n",
        "For this purpose we have a class called 'train_test_split' in the 'sklearn.model_selection' module."
      ]
    },
    {
      "cell_type": "code",
      "metadata": {
        "id": "mBtGJmZj55SE"
      },
      "source": [
        "# split the data\n",
        "X_train_o, X_val_o, y_train_o, y_val_o = train_test_split(xx,yy,test_size=0.5, random_state = 132)\n",
        "\n",
        "X_train=X_train_o / 255\n",
        "y_train=y_train_o\n",
        "X_val=X_val_o / 255\n",
        "y_val=y_val_o\n",
        "\n"
      ],
      "execution_count": 15,
      "outputs": []
    },
    {
      "cell_type": "code",
      "metadata": {
        "colab": {
          "base_uri": "https://localhost:8080/"
        },
        "id": "FudolHSbfeF0",
        "outputId": "8629d53a-567d-4d45-da10-d0601ffea436"
      },
      "source": [
        "X_train.shape"
      ],
      "execution_count": 16,
      "outputs": [
        {
          "output_type": "execute_result",
          "data": {
            "text/plain": [
              "(1442, 150, 150, 3)"
            ]
          },
          "metadata": {
            "tags": []
          },
          "execution_count": 16
        }
      ]
    },
    {
      "cell_type": "markdown",
      "metadata": {
        "id": "cDCZ53yE7340"
      },
      "source": [
        "## Building Model\n",
        "Now we are finally ready, and we can train the model.\n",
        "\n",
        "There are many machine learning or deep learning models like Random Forest, Decision Tree, Multi-Layer Perceptron (MLP), Convolution Neural Network (CNN), etc. to say you some.\n",
        "\n",
        "\n",
        "Then we would feed the model both with the data (X_train) and the answers for that data (y_train)"
      ]
    },
    {
      "cell_type": "code",
      "metadata": {
        "id": "SHxM0FxSMZRb"
      },
      "source": [
        ""
      ],
      "execution_count": 16,
      "outputs": []
    },
    {
      "cell_type": "code",
      "metadata": {
        "colab": {
          "base_uri": "https://localhost:8080/"
        },
        "id": "-_9FTwooL4n-",
        "outputId": "2a280499-9c1c-44e6-f0b8-de423b1f772d"
      },
      "source": [
        "!pip install tensorflow-addons\n",
        "import tensorflow_addons as tfa"
      ],
      "execution_count": 17,
      "outputs": [
        {
          "output_type": "stream",
          "text": [
            "Requirement already satisfied: tensorflow-addons in /usr/local/lib/python3.7/dist-packages (0.12.1)\n",
            "Requirement already satisfied: typeguard>=2.7 in /usr/local/lib/python3.7/dist-packages (from tensorflow-addons) (2.7.1)\n"
          ],
          "name": "stdout"
        }
      ]
    },
    {
      "cell_type": "code",
      "metadata": {
        "id": "r-thckmcOdv0"
      },
      "source": [
        "from tensorflow.keras.layers import Input, Dense, Dropout, Conv2D, MaxPool2D, Flatten\n",
        "from tensorflow.keras.models import Model"
      ],
      "execution_count": 18,
      "outputs": []
    },
    {
      "cell_type": "code",
      "metadata": {
        "id": "Zcv3O8CkQvlK"
      },
      "source": [
        "tf.Variable.initializer\n",
        "dropout_rate_conv1=0.73\n",
        "dropout_rate_conv2=0.54\n",
        "\n",
        "dropout_rate_d1=0.4 # 0,5\n",
        "dropout_rate_d2=0.1 # 0,5\n",
        "\n",
        "n_classes=1\n"
      ],
      "execution_count": 30,
      "outputs": []
    },
    {
      "cell_type": "code",
      "metadata": {
        "id": "lxWsfHLk70FV"
      },
      "source": [
        "\n",
        "# Defining the model\n",
        "\n",
        "\n",
        "\n",
        "\n",
        "x = Input(shape=(image_size,image_size,3))\n",
        "\n",
        "conv1 = Conv2D(filters=10,\n",
        "                kernel_size=[2, 2],\n",
        "                padding=\"same\",\n",
        "                activation=\"relu\")(x)\n",
        "\n",
        "pool1 = MaxPool2D(pool_size=[4, 4], strides=1)(conv1)\n",
        "dropout1 = Dropout(rate=dropout_rate_conv1)(pool1)\n",
        "\n",
        "conv2 = Conv2D(filters=10,\n",
        "               kernel_size=[5, 5],\n",
        "               padding=\"same\",\n",
        "               activation=\"relu\")(dropout1)\n",
        "\n",
        "pool2 = MaxPool2D(pool_size=[5, 5], strides=1)(conv2)               \n",
        "\n",
        "dropout2 = Dropout(rate=dropout_rate_conv2)(pool2)\n",
        "\n",
        "pool2_flat = Flatten()(dropout2)\n",
        "\n",
        "dense1 = Dense(units=20, activation=\"relu\")(pool2_flat)\n",
        "dropout3 = Dropout(rate=dropout_rate_d1)(dense1)\n",
        "\n",
        "dense2 = Dense(units=5, activation=\"relu\")(dropout3)\n",
        "dropout4 = Dropout(rate=dropout_rate_d2,)(dense2)\n",
        "\n",
        "predictions = Dense(units = 2, activation='softmax')(dropout4)\n",
        "\n",
        "model = Model(inputs=x, outputs=predictions)\n",
        "\n",
        "opt = tf.keras.optimizers.Adamax(learning_rate=0.0001)\n",
        "optimizer = tfa.optimizers.Lookahead(opt)\n",
        "\n",
        "model.compile(optimizer=opt,\n",
        "              loss='sparse_categorical_crossentropy',\n",
        "              metrics=['accuracy'])\n",
        "\n"
      ],
      "execution_count": 37,
      "outputs": []
    },
    {
      "cell_type": "code",
      "metadata": {
        "colab": {
          "base_uri": "https://localhost:8080/"
        },
        "id": "JtROva0HkApg",
        "outputId": "6723cbe6-21a4-4978-cc16-81ed4c357366"
      },
      "source": [
        "model.summary()\n",
        "#model=\"\""
      ],
      "execution_count": 38,
      "outputs": [
        {
          "output_type": "stream",
          "text": [
            "Model: \"model_8\"\n",
            "_________________________________________________________________\n",
            "Layer (type)                 Output Shape              Param #   \n",
            "=================================================================\n",
            "input_9 (InputLayer)         [(None, 150, 150, 3)]     0         \n",
            "_________________________________________________________________\n",
            "conv2d_16 (Conv2D)           (None, 150, 150, 10)      130       \n",
            "_________________________________________________________________\n",
            "max_pooling2d_16 (MaxPooling (None, 147, 147, 10)      0         \n",
            "_________________________________________________________________\n",
            "dropout_32 (Dropout)         (None, 147, 147, 10)      0         \n",
            "_________________________________________________________________\n",
            "conv2d_17 (Conv2D)           (None, 147, 147, 10)      2510      \n",
            "_________________________________________________________________\n",
            "max_pooling2d_17 (MaxPooling (None, 143, 143, 10)      0         \n",
            "_________________________________________________________________\n",
            "dropout_33 (Dropout)         (None, 143, 143, 10)      0         \n",
            "_________________________________________________________________\n",
            "flatten_8 (Flatten)          (None, 204490)            0         \n",
            "_________________________________________________________________\n",
            "dense_24 (Dense)             (None, 20)                4089820   \n",
            "_________________________________________________________________\n",
            "dropout_34 (Dropout)         (None, 20)                0         \n",
            "_________________________________________________________________\n",
            "dense_25 (Dense)             (None, 5)                 105       \n",
            "_________________________________________________________________\n",
            "dropout_35 (Dropout)         (None, 5)                 0         \n",
            "_________________________________________________________________\n",
            "dense_26 (Dense)             (None, 2)                 12        \n",
            "=================================================================\n",
            "Total params: 4,092,577\n",
            "Trainable params: 4,092,577\n",
            "Non-trainable params: 0\n",
            "_________________________________________________________________\n"
          ],
          "name": "stdout"
        }
      ]
    },
    {
      "cell_type": "code",
      "metadata": {
        "colab": {
          "base_uri": "https://localhost:8080/"
        },
        "id": "QdBt_wZXbGYH",
        "outputId": "7ecdd962-b925-4717-8a1f-697fad53cc93"
      },
      "source": [
        "y_val.shape"
      ],
      "execution_count": 22,
      "outputs": [
        {
          "output_type": "execute_result",
          "data": {
            "text/plain": [
              "(1442,)"
            ]
          },
          "metadata": {
            "tags": []
          },
          "execution_count": 22
        }
      ]
    },
    {
      "cell_type": "code",
      "metadata": {
        "colab": {
          "base_uri": "https://localhost:8080/"
        },
        "id": "ZYeWwrpTPe9q",
        "outputId": "ad52ef9d-e6d1-47a9-b954-3d8080d32d78"
      },
      "source": [
        "model.fit(X_train, y_train, epochs=380, batch_size=29,validation_data=(X_val,y_val),validation_freq=1)"
      ],
      "execution_count": null,
      "outputs": [
        {
          "output_type": "stream",
          "text": [
            "Epoch 1/380\n",
            "50/50 [==============================] - 4s 55ms/step - loss: 1.2253 - accuracy: 0.5009 - val_loss: 0.6932 - val_accuracy: 0.4334\n",
            "Epoch 2/380\n",
            "50/50 [==============================] - 2s 39ms/step - loss: 0.6937 - accuracy: 0.5128 - val_loss: 0.6930 - val_accuracy: 0.5666\n",
            "Epoch 3/380\n",
            "50/50 [==============================] - 2s 40ms/step - loss: 0.6929 - accuracy: 0.5893 - val_loss: 0.6928 - val_accuracy: 0.5666\n",
            "Epoch 4/380\n",
            "50/50 [==============================] - 2s 39ms/step - loss: 0.6926 - accuracy: 0.5885 - val_loss: 0.6926 - val_accuracy: 0.5666\n",
            "Epoch 5/380\n",
            "50/50 [==============================] - 2s 40ms/step - loss: 0.6928 - accuracy: 0.5521 - val_loss: 0.6925 - val_accuracy: 0.5666\n",
            "Epoch 6/380\n",
            "50/50 [==============================] - 2s 40ms/step - loss: 0.6921 - accuracy: 0.5943 - val_loss: 0.6923 - val_accuracy: 0.5666\n",
            "Epoch 7/380\n",
            "50/50 [==============================] - 2s 40ms/step - loss: 0.6923 - accuracy: 0.5642 - val_loss: 0.6922 - val_accuracy: 0.5666\n",
            "Epoch 8/380\n",
            "50/50 [==============================] - 2s 40ms/step - loss: 0.6920 - accuracy: 0.5759 - val_loss: 0.6920 - val_accuracy: 0.5666\n",
            "Epoch 9/380\n",
            "50/50 [==============================] - 2s 40ms/step - loss: 0.6915 - accuracy: 0.5941 - val_loss: 0.6919 - val_accuracy: 0.5666\n",
            "Epoch 10/380\n",
            "50/50 [==============================] - 2s 40ms/step - loss: 0.6914 - accuracy: 0.5895 - val_loss: 0.6917 - val_accuracy: 0.5666\n",
            "Epoch 11/380\n",
            "50/50 [==============================] - 2s 40ms/step - loss: 0.6914 - accuracy: 0.5814 - val_loss: 0.6916 - val_accuracy: 0.5666\n",
            "Epoch 12/380\n",
            "50/50 [==============================] - 2s 41ms/step - loss: 0.6910 - accuracy: 0.5869 - val_loss: 0.6914 - val_accuracy: 0.5666\n",
            "Epoch 13/380\n",
            "50/50 [==============================] - 2s 40ms/step - loss: 0.6904 - accuracy: 0.6023 - val_loss: 0.6913 - val_accuracy: 0.5666\n",
            "Epoch 14/380\n",
            "50/50 [==============================] - 2s 40ms/step - loss: 0.6906 - accuracy: 0.5891 - val_loss: 0.6911 - val_accuracy: 0.5666\n",
            "Epoch 15/380\n",
            "50/50 [==============================] - 2s 40ms/step - loss: 0.6909 - accuracy: 0.5725 - val_loss: 0.6910 - val_accuracy: 0.5666\n",
            "Epoch 16/380\n",
            "50/50 [==============================] - 2s 40ms/step - loss: 0.6903 - accuracy: 0.5871 - val_loss: 0.6909 - val_accuracy: 0.5666\n",
            "Epoch 17/380\n",
            "50/50 [==============================] - 2s 40ms/step - loss: 0.6901 - accuracy: 0.5862 - val_loss: 0.6907 - val_accuracy: 0.5666\n",
            "Epoch 18/380\n",
            "50/50 [==============================] - 2s 40ms/step - loss: 0.6903 - accuracy: 0.5765 - val_loss: 0.6906 - val_accuracy: 0.5666\n",
            "Epoch 19/380\n",
            "50/50 [==============================] - 2s 40ms/step - loss: 0.6899 - accuracy: 0.5831 - val_loss: 0.6904 - val_accuracy: 0.5666\n",
            "Epoch 20/380\n",
            "50/50 [==============================] - 2s 40ms/step - loss: 0.6892 - accuracy: 0.5937 - val_loss: 0.6903 - val_accuracy: 0.5666\n",
            "Epoch 21/380\n",
            "50/50 [==============================] - 2s 40ms/step - loss: 0.6898 - accuracy: 0.5776 - val_loss: 0.6902 - val_accuracy: 0.5666\n",
            "Epoch 22/380\n",
            "50/50 [==============================] - 2s 40ms/step - loss: 0.6896 - accuracy: 0.5782 - val_loss: 0.6900 - val_accuracy: 0.5666\n",
            "Epoch 23/380\n",
            "50/50 [==============================] - 2s 40ms/step - loss: 0.6890 - accuracy: 0.5862 - val_loss: 0.6899 - val_accuracy: 0.5666\n",
            "Epoch 24/380\n",
            "50/50 [==============================] - 2s 39ms/step - loss: 0.6906 - accuracy: 0.5538 - val_loss: 0.6898 - val_accuracy: 0.5666\n",
            "Epoch 25/380\n",
            "50/50 [==============================] - 2s 40ms/step - loss: 0.6895 - accuracy: 0.5707 - val_loss: 0.6897 - val_accuracy: 0.5666\n",
            "Epoch 26/380\n",
            "50/50 [==============================] - 2s 40ms/step - loss: 0.6886 - accuracy: 0.5840 - val_loss: 0.6896 - val_accuracy: 0.5666\n",
            "Epoch 27/380\n",
            "50/50 [==============================] - 2s 40ms/step - loss: 0.6880 - accuracy: 0.5927 - val_loss: 0.6895 - val_accuracy: 0.5666\n",
            "Epoch 28/380\n",
            "50/50 [==============================] - 2s 40ms/step - loss: 0.6877 - accuracy: 0.5949 - val_loss: 0.6894 - val_accuracy: 0.5666\n",
            "Epoch 29/380\n",
            "50/50 [==============================] - 2s 40ms/step - loss: 0.6883 - accuracy: 0.5826 - val_loss: 0.6893 - val_accuracy: 0.5666\n",
            "Epoch 30/380\n",
            "50/50 [==============================] - 2s 40ms/step - loss: 0.6877 - accuracy: 0.5900 - val_loss: 0.6891 - val_accuracy: 0.5666\n",
            "Epoch 31/380\n",
            "50/50 [==============================] - 2s 40ms/step - loss: 0.6891 - accuracy: 0.5666 - val_loss: 0.6890 - val_accuracy: 0.5666\n",
            "Epoch 32/380\n",
            "50/50 [==============================] - 2s 39ms/step - loss: 0.6891 - accuracy: 0.5659 - val_loss: 0.6889 - val_accuracy: 0.5666\n",
            "Epoch 33/380\n",
            "50/50 [==============================] - 2s 40ms/step - loss: 0.6864 - accuracy: 0.6000 - val_loss: 0.6888 - val_accuracy: 0.5666\n",
            "Epoch 34/380\n",
            "50/50 [==============================] - 2s 40ms/step - loss: 0.6869 - accuracy: 0.5910 - val_loss: 0.6887 - val_accuracy: 0.5666\n",
            "Epoch 35/380\n",
            "50/50 [==============================] - 2s 40ms/step - loss: 0.6865 - accuracy: 0.5959 - val_loss: 0.6886 - val_accuracy: 0.5666\n",
            "Epoch 36/380\n",
            "50/50 [==============================] - 2s 40ms/step - loss: 0.6865 - accuracy: 0.5926 - val_loss: 0.6885 - val_accuracy: 0.5666\n",
            "Epoch 37/380\n",
            "50/50 [==============================] - 2s 40ms/step - loss: 0.6856 - accuracy: 0.6025 - val_loss: 0.6884 - val_accuracy: 0.5666\n",
            "Epoch 38/380\n",
            "50/50 [==============================] - 2s 39ms/step - loss: 0.6882 - accuracy: 0.5694 - val_loss: 0.6884 - val_accuracy: 0.5666\n",
            "Epoch 39/380\n",
            "50/50 [==============================] - 2s 40ms/step - loss: 0.6868 - accuracy: 0.5845 - val_loss: 0.6883 - val_accuracy: 0.5666\n",
            "Epoch 40/380\n",
            "50/50 [==============================] - 2s 39ms/step - loss: 0.6873 - accuracy: 0.5768 - val_loss: 0.6882 - val_accuracy: 0.5666\n",
            "Epoch 41/380\n",
            "50/50 [==============================] - 2s 39ms/step - loss: 0.6859 - accuracy: 0.5908 - val_loss: 0.6881 - val_accuracy: 0.5666\n",
            "Epoch 42/380\n",
            "50/50 [==============================] - 2s 40ms/step - loss: 0.6868 - accuracy: 0.5807 - val_loss: 0.6880 - val_accuracy: 0.5666\n",
            "Epoch 43/380\n",
            "50/50 [==============================] - 2s 40ms/step - loss: 0.6851 - accuracy: 0.5972 - val_loss: 0.6879 - val_accuracy: 0.5666\n",
            "Epoch 44/380\n",
            "50/50 [==============================] - 2s 40ms/step - loss: 0.6860 - accuracy: 0.5863 - val_loss: 0.6879 - val_accuracy: 0.5666\n",
            "Epoch 45/380\n",
            "50/50 [==============================] - 2s 39ms/step - loss: 0.6858 - accuracy: 0.5875 - val_loss: 0.6878 - val_accuracy: 0.5666\n",
            "Epoch 46/380\n",
            "50/50 [==============================] - 2s 40ms/step - loss: 0.6891 - accuracy: 0.5530 - val_loss: 0.6877 - val_accuracy: 0.5666\n",
            "Epoch 47/380\n",
            "50/50 [==============================] - 2s 40ms/step - loss: 0.6851 - accuracy: 0.5920 - val_loss: 0.6876 - val_accuracy: 0.5666\n",
            "Epoch 48/380\n",
            "50/50 [==============================] - 2s 40ms/step - loss: 0.6857 - accuracy: 0.5849 - val_loss: 0.6875 - val_accuracy: 0.5666\n",
            "Epoch 49/380\n",
            "50/50 [==============================] - 2s 40ms/step - loss: 0.6854 - accuracy: 0.5860 - val_loss: 0.6874 - val_accuracy: 0.5666\n",
            "Epoch 50/380\n",
            "50/50 [==============================] - 2s 40ms/step - loss: 0.6845 - accuracy: 0.5934 - val_loss: 0.6874 - val_accuracy: 0.5666\n",
            "Epoch 51/380\n",
            "50/50 [==============================] - 2s 39ms/step - loss: 0.6879 - accuracy: 0.5617 - val_loss: 0.6873 - val_accuracy: 0.5666\n",
            "Epoch 52/380\n",
            "50/50 [==============================] - 2s 40ms/step - loss: 0.6869 - accuracy: 0.5698 - val_loss: 0.6872 - val_accuracy: 0.5666\n",
            "Epoch 53/380\n",
            "50/50 [==============================] - 2s 40ms/step - loss: 0.6855 - accuracy: 0.5820 - val_loss: 0.6872 - val_accuracy: 0.5666\n",
            "Epoch 54/380\n",
            "50/50 [==============================] - 2s 40ms/step - loss: 0.6846 - accuracy: 0.5886 - val_loss: 0.6871 - val_accuracy: 0.5666\n",
            "Epoch 55/380\n",
            "50/50 [==============================] - 2s 40ms/step - loss: 0.6825 - accuracy: 0.6057 - val_loss: 0.6870 - val_accuracy: 0.5666\n",
            "Epoch 56/380\n",
            "50/50 [==============================] - 2s 40ms/step - loss: 0.6874 - accuracy: 0.5631 - val_loss: 0.6870 - val_accuracy: 0.5666\n",
            "Epoch 57/380\n",
            "50/50 [==============================] - 2s 40ms/step - loss: 0.6852 - accuracy: 0.5812 - val_loss: 0.6869 - val_accuracy: 0.5666\n",
            "Epoch 58/380\n",
            "50/50 [==============================] - 2s 40ms/step - loss: 0.6863 - accuracy: 0.5714 - val_loss: 0.6868 - val_accuracy: 0.5666\n",
            "Epoch 59/380\n",
            "50/50 [==============================] - 2s 41ms/step - loss: 0.6860 - accuracy: 0.5729 - val_loss: 0.6867 - val_accuracy: 0.5666\n",
            "Epoch 60/380\n",
            "50/50 [==============================] - 2s 40ms/step - loss: 0.6847 - accuracy: 0.5825 - val_loss: 0.6867 - val_accuracy: 0.5666\n",
            "Epoch 61/380\n",
            "50/50 [==============================] - 2s 40ms/step - loss: 0.6858 - accuracy: 0.5737 - val_loss: 0.6866 - val_accuracy: 0.5666\n",
            "Epoch 62/380\n",
            "50/50 [==============================] - 2s 40ms/step - loss: 0.6834 - accuracy: 0.5911 - val_loss: 0.6866 - val_accuracy: 0.5666\n",
            "Epoch 63/380\n",
            "50/50 [==============================] - 2s 39ms/step - loss: 0.6824 - accuracy: 0.5979 - val_loss: 0.6865 - val_accuracy: 0.5666\n",
            "Epoch 64/380\n",
            "50/50 [==============================] - 2s 40ms/step - loss: 0.6808 - accuracy: 0.6090 - val_loss: 0.6864 - val_accuracy: 0.5666\n",
            "Epoch 65/380\n",
            "50/50 [==============================] - 2s 40ms/step - loss: 0.6844 - accuracy: 0.5814 - val_loss: 0.6864 - val_accuracy: 0.5666\n",
            "Epoch 66/380\n",
            "50/50 [==============================] - 2s 39ms/step - loss: 0.6858 - accuracy: 0.5706 - val_loss: 0.6863 - val_accuracy: 0.5666\n",
            "Epoch 67/380\n",
            "50/50 [==============================] - 2s 40ms/step - loss: 0.6833 - accuracy: 0.5882 - val_loss: 0.6862 - val_accuracy: 0.5666\n",
            "Epoch 68/380\n",
            "50/50 [==============================] - 2s 40ms/step - loss: 0.6849 - accuracy: 0.5758 - val_loss: 0.6862 - val_accuracy: 0.5666\n",
            "Epoch 69/380\n",
            "50/50 [==============================] - 2s 39ms/step - loss: 0.6819 - accuracy: 0.5962 - val_loss: 0.6861 - val_accuracy: 0.5666\n",
            "Epoch 70/380\n",
            "50/50 [==============================] - 2s 39ms/step - loss: 0.6856 - accuracy: 0.5697 - val_loss: 0.6861 - val_accuracy: 0.5666\n",
            "Epoch 71/380\n",
            "50/50 [==============================] - 2s 40ms/step - loss: 0.6833 - accuracy: 0.5852 - val_loss: 0.6860 - val_accuracy: 0.5666\n",
            "Epoch 72/380\n",
            "50/50 [==============================] - 2s 40ms/step - loss: 0.6820 - accuracy: 0.5929 - val_loss: 0.6859 - val_accuracy: 0.5666\n",
            "Epoch 73/380\n",
            "50/50 [==============================] - 2s 40ms/step - loss: 0.6855 - accuracy: 0.5692 - val_loss: 0.6859 - val_accuracy: 0.5666\n",
            "Epoch 74/380\n",
            "50/50 [==============================] - 2s 40ms/step - loss: 0.6836 - accuracy: 0.5815 - val_loss: 0.6858 - val_accuracy: 0.5666\n",
            "Epoch 75/380\n",
            "50/50 [==============================] - 2s 39ms/step - loss: 0.6824 - accuracy: 0.5885 - val_loss: 0.6858 - val_accuracy: 0.5666\n",
            "Epoch 76/380\n",
            "50/50 [==============================] - 2s 40ms/step - loss: 0.6835 - accuracy: 0.5809 - val_loss: 0.6857 - val_accuracy: 0.5666\n",
            "Epoch 77/380\n",
            "50/50 [==============================] - 2s 40ms/step - loss: 0.6846 - accuracy: 0.5737 - val_loss: 0.6857 - val_accuracy: 0.5666\n",
            "Epoch 78/380\n",
            "50/50 [==============================] - 2s 40ms/step - loss: 0.6842 - accuracy: 0.5757 - val_loss: 0.6857 - val_accuracy: 0.5666\n",
            "Epoch 79/380\n",
            "50/50 [==============================] - 2s 40ms/step - loss: 0.6877 - accuracy: 0.5538 - val_loss: 0.6856 - val_accuracy: 0.5666\n",
            "Epoch 80/380\n",
            "50/50 [==============================] - 2s 40ms/step - loss: 0.6847 - accuracy: 0.5721 - val_loss: 0.6856 - val_accuracy: 0.5666\n",
            "Epoch 81/380\n",
            "50/50 [==============================] - 2s 40ms/step - loss: 0.6821 - accuracy: 0.5879 - val_loss: 0.6856 - val_accuracy: 0.5666\n",
            "Epoch 82/380\n",
            "50/50 [==============================] - 2s 40ms/step - loss: 0.6824 - accuracy: 0.5855 - val_loss: 0.6855 - val_accuracy: 0.5666\n",
            "Epoch 83/380\n",
            "50/50 [==============================] - 2s 40ms/step - loss: 0.6836 - accuracy: 0.5782 - val_loss: 0.6855 - val_accuracy: 0.5666\n",
            "Epoch 84/380\n",
            "50/50 [==============================] - 2s 40ms/step - loss: 0.6842 - accuracy: 0.5744 - val_loss: 0.6855 - val_accuracy: 0.5666\n",
            "Epoch 85/380\n",
            "50/50 [==============================] - 2s 40ms/step - loss: 0.6837 - accuracy: 0.5770 - val_loss: 0.6854 - val_accuracy: 0.5666\n",
            "Epoch 86/380\n",
            "50/50 [==============================] - 2s 40ms/step - loss: 0.6853 - accuracy: 0.5671 - val_loss: 0.6854 - val_accuracy: 0.5666\n",
            "Epoch 87/380\n",
            "50/50 [==============================] - 2s 40ms/step - loss: 0.6814 - accuracy: 0.5895 - val_loss: 0.6853 - val_accuracy: 0.5666\n",
            "Epoch 88/380\n",
            "50/50 [==============================] - 2s 40ms/step - loss: 0.6801 - accuracy: 0.5967 - val_loss: 0.6853 - val_accuracy: 0.5666\n",
            "Epoch 89/380\n",
            "50/50 [==============================] - 2s 40ms/step - loss: 0.6860 - accuracy: 0.5627 - val_loss: 0.6853 - val_accuracy: 0.5666\n",
            "Epoch 90/380\n",
            "50/50 [==============================] - 2s 40ms/step - loss: 0.6837 - accuracy: 0.5755 - val_loss: 0.6852 - val_accuracy: 0.5666\n",
            "Epoch 91/380\n",
            "50/50 [==============================] - 2s 40ms/step - loss: 0.6822 - accuracy: 0.5837 - val_loss: 0.6852 - val_accuracy: 0.5666\n",
            "Epoch 92/380\n",
            "50/50 [==============================] - 2s 40ms/step - loss: 0.6810 - accuracy: 0.5900 - val_loss: 0.6852 - val_accuracy: 0.5666\n",
            "Epoch 93/380\n",
            "50/50 [==============================] - 2s 40ms/step - loss: 0.6855 - accuracy: 0.5648 - val_loss: 0.6851 - val_accuracy: 0.5666\n",
            "Epoch 94/380\n",
            "50/50 [==============================] - 2s 39ms/step - loss: 0.6826 - accuracy: 0.5807 - val_loss: 0.6851 - val_accuracy: 0.5666\n",
            "Epoch 95/380\n",
            "50/50 [==============================] - 2s 40ms/step - loss: 0.6821 - accuracy: 0.5830 - val_loss: 0.6851 - val_accuracy: 0.5666\n",
            "Epoch 96/380\n",
            "50/50 [==============================] - 2s 40ms/step - loss: 0.6854 - accuracy: 0.5650 - val_loss: 0.6851 - val_accuracy: 0.5666\n",
            "Epoch 97/380\n",
            "50/50 [==============================] - 2s 39ms/step - loss: 0.6823 - accuracy: 0.5812 - val_loss: 0.6850 - val_accuracy: 0.5666\n",
            "Epoch 98/380\n",
            "50/50 [==============================] - 2s 39ms/step - loss: 0.6809 - accuracy: 0.5888 - val_loss: 0.6850 - val_accuracy: 0.5666\n",
            "Epoch 99/380\n",
            "50/50 [==============================] - 2s 40ms/step - loss: 0.6844 - accuracy: 0.5700 - val_loss: 0.6850 - val_accuracy: 0.5666\n",
            "Epoch 100/380\n",
            "50/50 [==============================] - 2s 39ms/step - loss: 0.6816 - accuracy: 0.5845 - val_loss: 0.6850 - val_accuracy: 0.5666\n",
            "Epoch 101/380\n",
            "50/50 [==============================] - 2s 40ms/step - loss: 0.6818 - accuracy: 0.5833 - val_loss: 0.6850 - val_accuracy: 0.5666\n",
            "Epoch 102/380\n",
            "50/50 [==============================] - 2s 40ms/step - loss: 0.6843 - accuracy: 0.5701 - val_loss: 0.6849 - val_accuracy: 0.5666\n",
            "Epoch 103/380\n",
            "50/50 [==============================] - 2s 40ms/step - loss: 0.6792 - accuracy: 0.5959 - val_loss: 0.6849 - val_accuracy: 0.5666\n",
            "Epoch 104/380\n",
            "50/50 [==============================] - 2s 40ms/step - loss: 0.6790 - accuracy: 0.5970 - val_loss: 0.6849 - val_accuracy: 0.5666\n",
            "Epoch 105/380\n",
            "50/50 [==============================] - 2s 40ms/step - loss: 0.6788 - accuracy: 0.5974 - val_loss: 0.6849 - val_accuracy: 0.5666\n",
            "Epoch 106/380\n",
            "50/50 [==============================] - 2s 40ms/step - loss: 0.6856 - accuracy: 0.5627 - val_loss: 0.6848 - val_accuracy: 0.5666\n",
            "Epoch 107/380\n",
            "50/50 [==============================] - 2s 40ms/step - loss: 0.6782 - accuracy: 0.6000 - val_loss: 0.6848 - val_accuracy: 0.5666\n",
            "Epoch 108/380\n",
            "50/50 [==============================] - 2s 40ms/step - loss: 0.6793 - accuracy: 0.5939 - val_loss: 0.6848 - val_accuracy: 0.5666\n",
            "Epoch 109/380\n",
            "50/50 [==============================] - 2s 40ms/step - loss: 0.6854 - accuracy: 0.5635 - val_loss: 0.6848 - val_accuracy: 0.5666\n",
            "Epoch 110/380\n",
            "50/50 [==============================] - 2s 40ms/step - loss: 0.6771 - accuracy: 0.6047 - val_loss: 0.6848 - val_accuracy: 0.5666\n",
            "Epoch 111/380\n",
            "50/50 [==============================] - 2s 40ms/step - loss: 0.6826 - accuracy: 0.5770 - val_loss: 0.6847 - val_accuracy: 0.5666\n",
            "Epoch 112/380\n",
            "50/50 [==============================] - 2s 40ms/step - loss: 0.6838 - accuracy: 0.5714 - val_loss: 0.6847 - val_accuracy: 0.5666\n",
            "Epoch 113/380\n",
            "50/50 [==============================] - 2s 40ms/step - loss: 0.6824 - accuracy: 0.5778 - val_loss: 0.6847 - val_accuracy: 0.5666\n",
            "Epoch 114/380\n",
            "50/50 [==============================] - 2s 40ms/step - loss: 0.6825 - accuracy: 0.5774 - val_loss: 0.6847 - val_accuracy: 0.5666\n",
            "Epoch 115/380\n",
            "50/50 [==============================] - 2s 39ms/step - loss: 0.6889 - accuracy: 0.5465 - val_loss: 0.6847 - val_accuracy: 0.5666\n",
            "Epoch 116/380\n",
            "50/50 [==============================] - 2s 39ms/step - loss: 0.6827 - accuracy: 0.5763 - val_loss: 0.6847 - val_accuracy: 0.5666\n",
            "Epoch 117/380\n",
            "50/50 [==============================] - 2s 40ms/step - loss: 0.6824 - accuracy: 0.5775 - val_loss: 0.6847 - val_accuracy: 0.5666\n",
            "Epoch 118/380\n",
            "50/50 [==============================] - 2s 40ms/step - loss: 0.6826 - accuracy: 0.5763 - val_loss: 0.6846 - val_accuracy: 0.5666\n",
            "Epoch 119/380\n",
            "50/50 [==============================] - 2s 40ms/step - loss: 0.6814 - accuracy: 0.5817 - val_loss: 0.6846 - val_accuracy: 0.5666\n",
            "Epoch 120/380\n",
            "50/50 [==============================] - 2s 40ms/step - loss: 0.6814 - accuracy: 0.5815 - val_loss: 0.6846 - val_accuracy: 0.5666\n",
            "Epoch 121/380\n",
            "50/50 [==============================] - 2s 40ms/step - loss: 0.6823 - accuracy: 0.5773 - val_loss: 0.6846 - val_accuracy: 0.5666\n",
            "Epoch 122/380\n",
            "50/50 [==============================] - 2s 40ms/step - loss: 0.6869 - accuracy: 0.5558 - val_loss: 0.6846 - val_accuracy: 0.5666\n",
            "Epoch 123/380\n",
            "50/50 [==============================] - 2s 40ms/step - loss: 0.6800 - accuracy: 0.5877 - val_loss: 0.6846 - val_accuracy: 0.5666\n",
            "Epoch 124/380\n",
            "50/50 [==============================] - 2s 40ms/step - loss: 0.6823 - accuracy: 0.5771 - val_loss: 0.6846 - val_accuracy: 0.5666\n",
            "Epoch 125/380\n",
            "50/50 [==============================] - 2s 39ms/step - loss: 0.6835 - accuracy: 0.5716 - val_loss: 0.6845 - val_accuracy: 0.5666\n",
            "Epoch 126/380\n",
            "50/50 [==============================] - 2s 39ms/step - loss: 0.6856 - accuracy: 0.5618 - val_loss: 0.6845 - val_accuracy: 0.5666\n",
            "Epoch 127/380\n",
            "50/50 [==============================] - 2s 40ms/step - loss: 0.6793 - accuracy: 0.5903 - val_loss: 0.6845 - val_accuracy: 0.5666\n",
            "Epoch 128/380\n",
            "50/50 [==============================] - 2s 39ms/step - loss: 0.6805 - accuracy: 0.5846 - val_loss: 0.6845 - val_accuracy: 0.5666\n",
            "Epoch 129/380\n",
            "50/50 [==============================] - 2s 39ms/step - loss: 0.6787 - accuracy: 0.5925 - val_loss: 0.6845 - val_accuracy: 0.5666\n",
            "Epoch 130/380\n",
            "50/50 [==============================] - 2s 39ms/step - loss: 0.6821 - accuracy: 0.5771 - val_loss: 0.6845 - val_accuracy: 0.5666\n",
            "Epoch 131/380\n",
            "50/50 [==============================] - 2s 39ms/step - loss: 0.6797 - accuracy: 0.5880 - val_loss: 0.6845 - val_accuracy: 0.5666\n",
            "Epoch 132/380\n",
            "50/50 [==============================] - 2s 40ms/step - loss: 0.6840 - accuracy: 0.5686 - val_loss: 0.6845 - val_accuracy: 0.5666\n",
            "Epoch 133/380\n",
            "50/50 [==============================] - 2s 39ms/step - loss: 0.6783 - accuracy: 0.5941 - val_loss: 0.6845 - val_accuracy: 0.5666\n",
            "Epoch 134/380\n",
            "50/50 [==============================] - 2s 40ms/step - loss: 0.6815 - accuracy: 0.5798 - val_loss: 0.6845 - val_accuracy: 0.5666\n",
            "Epoch 135/380\n",
            "50/50 [==============================] - 2s 40ms/step - loss: 0.6798 - accuracy: 0.5869 - val_loss: 0.6845 - val_accuracy: 0.5666\n",
            "Epoch 136/380\n",
            "50/50 [==============================] - 2s 40ms/step - loss: 0.6776 - accuracy: 0.5965 - val_loss: 0.6844 - val_accuracy: 0.5666\n",
            "Epoch 137/380\n",
            "50/50 [==============================] - 2s 40ms/step - loss: 0.6851 - accuracy: 0.5636 - val_loss: 0.6844 - val_accuracy: 0.5666\n",
            "Epoch 138/380\n",
            "50/50 [==============================] - 2s 39ms/step - loss: 0.6812 - accuracy: 0.5805 - val_loss: 0.6844 - val_accuracy: 0.5666\n",
            "Epoch 139/380\n",
            "50/50 [==============================] - 2s 39ms/step - loss: 0.6834 - accuracy: 0.5709 - val_loss: 0.6844 - val_accuracy: 0.5666\n",
            "Epoch 140/380\n",
            "50/50 [==============================] - 2s 40ms/step - loss: 0.6799 - accuracy: 0.5859 - val_loss: 0.6844 - val_accuracy: 0.5666\n",
            "Epoch 141/380\n",
            "50/50 [==============================] - 2s 40ms/step - loss: 0.6789 - accuracy: 0.5902 - val_loss: 0.6844 - val_accuracy: 0.5666\n",
            "Epoch 142/380\n",
            "50/50 [==============================] - 2s 40ms/step - loss: 0.6842 - accuracy: 0.5676 - val_loss: 0.6844 - val_accuracy: 0.5666\n",
            "Epoch 143/380\n",
            "50/50 [==============================] - 2s 39ms/step - loss: 0.6761 - accuracy: 0.6020 - val_loss: 0.6844 - val_accuracy: 0.5666\n",
            "Epoch 144/380\n",
            "50/50 [==============================] - 2s 40ms/step - loss: 0.6807 - accuracy: 0.5821 - val_loss: 0.6844 - val_accuracy: 0.5666\n",
            "Epoch 145/380\n",
            "50/50 [==============================] - 2s 40ms/step - loss: 0.6811 - accuracy: 0.5803 - val_loss: 0.6844 - val_accuracy: 0.5666\n",
            "Epoch 146/380\n",
            "50/50 [==============================] - 2s 40ms/step - loss: 0.6847 - accuracy: 0.5651 - val_loss: 0.6844 - val_accuracy: 0.5666\n",
            "Epoch 147/380\n",
            "50/50 [==============================] - 2s 40ms/step - loss: 0.6831 - accuracy: 0.5719 - val_loss: 0.6844 - val_accuracy: 0.5666\n",
            "Epoch 148/380\n",
            "50/50 [==============================] - 2s 39ms/step - loss: 0.6782 - accuracy: 0.5923 - val_loss: 0.6844 - val_accuracy: 0.5666\n",
            "Epoch 149/380\n",
            "50/50 [==============================] - 2s 40ms/step - loss: 0.6843 - accuracy: 0.5669 - val_loss: 0.6844 - val_accuracy: 0.5666\n",
            "Epoch 150/380\n",
            "50/50 [==============================] - 2s 40ms/step - loss: 0.6832 - accuracy: 0.5713 - val_loss: 0.6843 - val_accuracy: 0.5666\n",
            "Epoch 151/380\n",
            "50/50 [==============================] - 2s 40ms/step - loss: 0.6778 - accuracy: 0.5937 - val_loss: 0.6843 - val_accuracy: 0.5666\n",
            "Epoch 152/380\n",
            "50/50 [==============================] - 2s 40ms/step - loss: 0.6792 - accuracy: 0.5876 - val_loss: 0.6843 - val_accuracy: 0.5666\n",
            "Epoch 153/380\n",
            "50/50 [==============================] - 2s 40ms/step - loss: 0.6792 - accuracy: 0.5879 - val_loss: 0.6843 - val_accuracy: 0.5666\n",
            "Epoch 154/380\n",
            "50/50 [==============================] - 2s 40ms/step - loss: 0.6854 - accuracy: 0.5623 - val_loss: 0.6843 - val_accuracy: 0.5666\n",
            "Epoch 155/380\n",
            "50/50 [==============================] - 2s 40ms/step - loss: 0.6842 - accuracy: 0.5671 - val_loss: 0.6843 - val_accuracy: 0.5666\n",
            "Epoch 156/380\n",
            "50/50 [==============================] - 2s 40ms/step - loss: 0.6865 - accuracy: 0.5578 - val_loss: 0.6843 - val_accuracy: 0.5666\n",
            "Epoch 157/380\n",
            "50/50 [==============================] - 2s 39ms/step - loss: 0.6785 - accuracy: 0.5901 - val_loss: 0.6843 - val_accuracy: 0.5666\n",
            "Epoch 158/380\n",
            "50/50 [==============================] - 2s 40ms/step - loss: 0.6808 - accuracy: 0.5807 - val_loss: 0.6843 - val_accuracy: 0.5666\n",
            "Epoch 159/380\n",
            "50/50 [==============================] - 2s 40ms/step - loss: 0.6774 - accuracy: 0.5946 - val_loss: 0.6843 - val_accuracy: 0.5666\n",
            "Epoch 160/380\n",
            "50/50 [==============================] - 2s 40ms/step - loss: 0.6873 - accuracy: 0.5547 - val_loss: 0.6843 - val_accuracy: 0.5666\n",
            "Epoch 161/380\n",
            "50/50 [==============================] - 2s 39ms/step - loss: 0.6817 - accuracy: 0.5770 - val_loss: 0.6843 - val_accuracy: 0.5666\n",
            "Epoch 162/380\n",
            "50/50 [==============================] - 2s 40ms/step - loss: 0.6785 - accuracy: 0.5899 - val_loss: 0.6843 - val_accuracy: 0.5666\n",
            "Epoch 163/380\n",
            "50/50 [==============================] - 2s 41ms/step - loss: 0.6808 - accuracy: 0.5806 - val_loss: 0.6843 - val_accuracy: 0.5666\n",
            "Epoch 164/380\n",
            "50/50 [==============================] - 2s 39ms/step - loss: 0.6814 - accuracy: 0.5781 - val_loss: 0.6843 - val_accuracy: 0.5666\n",
            "Epoch 165/380\n",
            "50/50 [==============================] - 2s 40ms/step - loss: 0.6831 - accuracy: 0.5713 - val_loss: 0.6843 - val_accuracy: 0.5666\n",
            "Epoch 166/380\n",
            "50/50 [==============================] - 2s 39ms/step - loss: 0.6822 - accuracy: 0.5747 - val_loss: 0.6843 - val_accuracy: 0.5666\n",
            "Epoch 167/380\n",
            "50/50 [==============================] - 2s 39ms/step - loss: 0.6828 - accuracy: 0.5724 - val_loss: 0.6843 - val_accuracy: 0.5666\n",
            "Epoch 168/380\n",
            "50/50 [==============================] - 2s 39ms/step - loss: 0.6833 - accuracy: 0.5704 - val_loss: 0.6843 - val_accuracy: 0.5666\n",
            "Epoch 169/380\n",
            "50/50 [==============================] - 2s 40ms/step - loss: 0.6829 - accuracy: 0.5719 - val_loss: 0.6843 - val_accuracy: 0.5666\n",
            "Epoch 170/380\n",
            "50/50 [==============================] - 2s 40ms/step - loss: 0.6744 - accuracy: 0.6055 - val_loss: 0.6843 - val_accuracy: 0.5666\n",
            "Epoch 171/380\n",
            "50/50 [==============================] - 2s 39ms/step - loss: 0.6755 - accuracy: 0.6008 - val_loss: 0.6843 - val_accuracy: 0.5666\n",
            "Epoch 172/380\n",
            "50/50 [==============================] - 2s 40ms/step - loss: 0.6803 - accuracy: 0.5820 - val_loss: 0.6843 - val_accuracy: 0.5666\n",
            "Epoch 173/380\n",
            "50/50 [==============================] - 2s 40ms/step - loss: 0.6808 - accuracy: 0.5803 - val_loss: 0.6843 - val_accuracy: 0.5666\n",
            "Epoch 174/380\n",
            "50/50 [==============================] - 2s 39ms/step - loss: 0.6765 - accuracy: 0.5966 - val_loss: 0.6843 - val_accuracy: 0.5666\n",
            "Epoch 175/380\n",
            "50/50 [==============================] - 2s 40ms/step - loss: 0.6769 - accuracy: 0.5950 - val_loss: 0.6843 - val_accuracy: 0.5666\n",
            "Epoch 176/380\n",
            "50/50 [==============================] - 2s 40ms/step - loss: 0.6759 - accuracy: 0.5990 - val_loss: 0.6843 - val_accuracy: 0.5666\n",
            "Epoch 177/380\n",
            "50/50 [==============================] - 2s 40ms/step - loss: 0.6770 - accuracy: 0.5945 - val_loss: 0.6843 - val_accuracy: 0.5666\n",
            "Epoch 178/380\n",
            "50/50 [==============================] - 2s 40ms/step - loss: 0.6792 - accuracy: 0.5859 - val_loss: 0.6843 - val_accuracy: 0.5666\n",
            "Epoch 179/380\n",
            "50/50 [==============================] - 2s 39ms/step - loss: 0.6846 - accuracy: 0.5652 - val_loss: 0.6843 - val_accuracy: 0.5666\n",
            "Epoch 180/380\n",
            "50/50 [==============================] - 2s 40ms/step - loss: 0.6778 - accuracy: 0.5915 - val_loss: 0.6843 - val_accuracy: 0.5666\n",
            "Epoch 181/380\n",
            "45/50 [==========================>...] - ETA: 0s - loss: 0.6816 - accuracy: 0.5768"
          ],
          "name": "stdout"
        }
      ]
    },
    {
      "cell_type": "code",
      "metadata": {
        "id": "XB29h6lRKPEr"
      },
      "source": [
        "bcx  xsdsd"
      ],
      "execution_count": null,
      "outputs": []
    },
    {
      "cell_type": "code",
      "metadata": {
        "id": "ffhngH-5KOw7"
      },
      "source": [
        ""
      ],
      "execution_count": null,
      "outputs": []
    },
    {
      "cell_type": "markdown",
      "metadata": {
        "id": "tc3lSJ2a-OYt"
      },
      "source": [
        "## Validate the model\n",
        "Wonder🤔 how well your model learned! Lets check its performance on the X_val data."
      ]
    },
    {
      "cell_type": "code",
      "metadata": {
        "id": "FdJu9D4l4QHO"
      },
      "source": [
        "model.evaluate(X_val, y_val)"
      ],
      "execution_count": null,
      "outputs": []
    },
    {
      "cell_type": "markdown",
      "metadata": {
        "id": "kLrpm-If-lRT"
      },
      "source": [
        "## Predict The Output For Testing Dataset 😅\n",
        "We have trained our model, evaluated it and now finally we will predict the output/target for the testing data (i.e. Testing_set_covid.csv)."
      ]
    },
    {
      "cell_type": "markdown",
      "metadata": {
        "id": "nG70J6Un-s2G"
      },
      "source": [
        "#### Load Test Set\n",
        "Load the test data on which final submission is to be made."
      ]
    },
    {
      "cell_type": "code",
      "metadata": {
        "id": "iji8OaFF-fSp"
      },
      "source": [
        "# Loading the order of the image's name that has been provided\n",
        "test_image_order = pd.read_csv(\"/content/content/detect_trees_near_electric_wires/Test.csv\")\n",
        "test_image_order.head()"
      ],
      "execution_count": null,
      "outputs": []
    },
    {
      "cell_type": "markdown",
      "metadata": {
        "id": "XhszUWXEAABu"
      },
      "source": [
        "#### Getting images file path"
      ]
    },
    {
      "cell_type": "code",
      "metadata": {
        "id": "657fCek3_IhD"
      },
      "source": [
        "file_paths = [[fname, '/content/content/detect_trees_near_electric_wires/test/' + fname] for fname in test_image_order['file_name']]"
      ],
      "execution_count": null,
      "outputs": []
    },
    {
      "cell_type": "markdown",
      "metadata": {
        "id": "xmrgyltpALYg"
      },
      "source": [
        "#### Confirm if number of images in test folder is same as number of image names in 'Test.csv'"
      ]
    },
    {
      "cell_type": "code",
      "metadata": {
        "id": "telGIa0JADdO"
      },
      "source": [
        "# Confirm if number of images is same as number of labels given\n",
        "if len(test_image_order) == len(file_paths):\n",
        "    print('Number of image names i.e. ', len(test_image_order), 'matches the number of file paths i.e. ', len(file_paths))\n",
        "else:\n",
        "    print('Number of image names does not match the number of filepaths')"
      ],
      "execution_count": null,
      "outputs": []
    },
    {
      "cell_type": "markdown",
      "metadata": {
        "id": "Wsa94YfqBInJ"
      },
      "source": [
        "#### Converting the file_paths to dataframe"
      ]
    },
    {
      "cell_type": "code",
      "metadata": {
        "id": "3nH9rUnQBSnf"
      },
      "source": [
        "test_images = pd.DataFrame(file_paths, columns=['file_name', 'filepaths'])\n",
        "test_images.head()"
      ],
      "execution_count": null,
      "outputs": []
    },
    {
      "cell_type": "markdown",
      "metadata": {
        "id": "ZqSujaW0CRi9"
      },
      "source": [
        "## Data Pre-processing on test_data\n"
      ]
    },
    {
      "cell_type": "code",
      "metadata": {
        "id": "ZUQWlDrjH4Pe"
      },
      "source": [
        "image_size=100"
      ],
      "execution_count": null,
      "outputs": []
    },
    {
      "cell_type": "code",
      "metadata": {
        "id": "Wy7-NZ7TCiSQ"
      },
      "source": [
        "test_pixel_data = []     # initialize an empty numpy array\n",
        "     # image size taken is 100 here. one can take other size too\n",
        "for i in range(len(test_images)):\n",
        "  \n",
        "  img_array = cv2.imread(test_images['filepaths'][i],cv2.IMREAD_GRAYSCALE)   # converting the image to gray scale\n",
        "\n",
        "  new_img_array = cv2.resize(img_array, (image_size, image_size))      # resizing the image array\n",
        "\n",
        "  test_pixel_data.append(new_img_array)"
      ],
      "execution_count": null,
      "outputs": []
    },
    {
      "cell_type": "code",
      "metadata": {
        "id": "7KNDswlffvYq"
      },
      "source": [
        "test_pixel_data = np.array(test_pixel_data)"
      ],
      "execution_count": null,
      "outputs": []
    },
    {
      "cell_type": "markdown",
      "metadata": {
        "id": "AxtDS6-0J0s2"
      },
      "source": [
        "### Make Prediction on Test Dataset\n",
        "Time to make a submission!!!"
      ]
    },
    {
      "cell_type": "code",
      "metadata": {
        "id": "yXLCDKVrJuzY"
      },
      "source": [
        "pred = model.predict(test_pixel_data)"
      ],
      "execution_count": null,
      "outputs": []
    },
    {
      "cell_type": "code",
      "metadata": {
        "id": "MYeK05BHLAen"
      },
      "source": [
        "# The predicted values are the probabilities value\n",
        "for i in pred:\n",
        "    print(i)"
      ],
      "execution_count": null,
      "outputs": []
    },
    {
      "cell_type": "markdown",
      "metadata": {
        "id": "9a_WAXliLut8"
      },
      "source": [
        "#### Take a threshold of 0.5\n",
        "If the probability value is less than 0.5, the prediction is 0 (i.e. no intersection) else the prediction is 1 (i.e. intersection)\n",
        "\n",
        "Since the submission format is given as \n",
        "\n",
        "predictions = [0, 1, 1, 0, 0, 0, 1, 0, ......]\n",
        "\n",
        "here we will convert the probability values in the same format, i.e. if probability value is less than 0.5, the prediction will be 0 else the prediction will be 1"
      ]
    },
    {
      "cell_type": "code",
      "metadata": {
        "id": "3BB9EAnYLCCM"
      },
      "source": [
        "prediction = []\n",
        "for value in pred:\n",
        "  if value[1] < 0.5:\n",
        "    prediction.append(0)\n",
        "  else:\n",
        "    prediction.append(1)"
      ],
      "execution_count": null,
      "outputs": []
    },
    {
      "cell_type": "code",
      "metadata": {
        "id": "yNYy6W1uMuVw"
      },
      "source": [
        "prediction[0]"
      ],
      "execution_count": null,
      "outputs": []
    },
    {
      "cell_type": "markdown",
      "metadata": {
        "id": "MldiDW9_M2GI"
      },
      "source": [
        "**Note: Follow the submission guidelines given in 'How To Submit' Section.**"
      ]
    },
    {
      "cell_type": "markdown",
      "metadata": {
        "id": "THaqbN4LM6YX"
      },
      "source": [
        "## **How to save prediciton results locally via jupyter notebook?**\n",
        "If you are working on Jupyter notebook, execute below block of codes. A file named 'submission.csv' will be created in your current working directory."
      ]
    },
    {
      "cell_type": "code",
      "metadata": {
        "id": "5I2wAC5RMwvJ"
      },
      "source": [
        "res = pd.DataFrame({'file_name': test_images['file_name'], 'prediction': prediction})  # prediction is nothing but the final predictions of your model on input features of your new unseen test data\n",
        "res.to_csv(\"submission.csv\", index = False)      # the csv file will be saved locally on the same location where this notebook is located."
      ],
      "execution_count": null,
      "outputs": []
    },
    {
      "cell_type": "markdown",
      "metadata": {
        "id": "fquFjyl6OfGz"
      },
      "source": [
        "# **OR,**\n",
        "**If you are working on Google Colab then use the below set of code to save prediction results locally**"
      ]
    },
    {
      "cell_type": "markdown",
      "metadata": {
        "id": "ILu2PfzNOqLx"
      },
      "source": [
        "## **How to save prediction results locally via colab notebook?**\n",
        "If you are working on Google Colab Notebook, execute below block of codes. A file named 'prediction_results' will be downloaded in your system."
      ]
    },
    {
      "cell_type": "code",
      "metadata": {
        "id": "FpcTFRw7NgXp"
      },
      "source": [
        "#res = pd.DataFrame({'file_name': test_images['file_name'], 'prediction': prediction})  # prediction is nothing but the final predictions of your model on input features of your new unseen test data\n",
        "res = pd.DataFrame({ 'prediction': prediction})  # prediction is nothing but the final predictions of your model on input features of your new unseen test data\n",
        "\n",
        "res.to_csv(\"submission.csv\", index = False) \n",
        "\n",
        "# To download the csv file locally\n",
        "from google.colab import files        \n",
        "files.download('submission.csv')"
      ],
      "execution_count": null,
      "outputs": []
    },
    {
      "cell_type": "markdown",
      "metadata": {
        "id": "NohZiMIkO_tX"
      },
      "source": [
        "# **Well Done! 👍**\n",
        "You are all set to make a submission. Let's head to the **[challenge page](https://dphi.tech/challenges/data-sprint-28/68/overview/about)** to make the submission."
      ]
    }
  ]
}