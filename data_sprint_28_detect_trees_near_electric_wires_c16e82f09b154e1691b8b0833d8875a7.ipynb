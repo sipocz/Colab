{
  "nbformat": 4,
  "nbformat_minor": 0,
  "metadata": {
    "colab": {
      "name": "data-sprint-28-detect-trees-near-electric-wires-c16e82f09b154e1691b8b0833d8875a7.ipynb",
      "provenance": [],
      "collapsed_sections": [],
      "include_colab_link": true
    },
    "kernelspec": {
      "name": "python3",
      "display_name": "Python 3"
    },
    "accelerator": "GPU"
  },
  "cells": [
    {
      "cell_type": "markdown",
      "metadata": {
        "id": "view-in-github",
        "colab_type": "text"
      },
      "source": [
        "<a href=\"https://colab.research.google.com/github/sipocz/Colab/blob/main/data_sprint_28_detect_trees_near_electric_wires_c16e82f09b154e1691b8b0833d8875a7.ipynb\" target=\"_parent\"><img src=\"https://colab.research.google.com/assets/colab-badge.svg\" alt=\"Open In Colab\"/></a>"
      ]
    },
    {
      "cell_type": "markdown",
      "metadata": {
        "id": "M1H8q8USSAiH"
      },
      "source": [
        "![dphi banner](https://dphi-courses.s3.ap-south-1.amazonaws.com/Datathons/dphi_banner.png)"
      ]
    },
    {
      "cell_type": "markdown",
      "metadata": {
        "id": "RP4A14qISFCM"
      },
      "source": [
        "# **Getting Started Code For [Data Sprint #28](https://dphi.tech/challenges/data-sprint-28/68/overview/about) on DPhi**"
      ]
    },
    {
      "cell_type": "markdown",
      "metadata": {
        "id": "SfMK5FEhUGde"
      },
      "source": [
        "## Download the images\n",
        "We are given google drive link in the '[Data](https://dphi.tech/challenges/data-sprint-28/68/data)' section of problem page which has all the required train images (to build the model) and test images to predict the label of these images and submit the predictions on the [DPhi platform](https://dphi.tech/challenges/data-sprint-28/68/submit).\n",
        "\n",
        "We can use **GoogleDriveDownloader** form **google_drive_downloader** library in Python to download the shared files from the shared Google drive link: https://drive.google.com/file/d/1ahtCipPXsX9BVRWi6nDG13tr4b_rMY97/view?usp=sharing\n",
        "\n",
        "The file id in the above link is: **1ahtCipPXsX9BVRWi6nDG13tr4b_rMY97**"
      ]
    },
    {
      "cell_type": "code",
      "metadata": {
        "id": "5_1BysB4Re7f"
      },
      "source": [
        "from google_drive_downloader import GoogleDriveDownloader as gdd\n",
        "\n",
        "gdd.download_file_from_google_drive(file_id='1ahtCipPXsX9BVRWi6nDG13tr4b_rMY97',\n",
        "                                    dest_path='content/detect_trees_near_electric_wires.zip',\n",
        "                                    unzip=True)"
      ],
      "execution_count": 1,
      "outputs": []
    },
    {
      "cell_type": "markdown",
      "metadata": {
        "id": "SM_FDQgXbh_-"
      },
      "source": [
        "We have all the files from the shared Google drive link downloaded in the colab environment."
      ]
    },
    {
      "cell_type": "markdown",
      "metadata": {
        "id": "wsIqjb7Ebs3B"
      },
      "source": [
        "## Loading Libraries\n",
        "All Python capabilities are not loaded to our working environment by default (even they are already installed in your system). So, we import each and every library that we want to use.\n",
        "\n",
        "We chose alias names for our libraries for the sake of our convenience (numpy --> np and pandas --> pd, tensorlow --> tf).\n",
        "\n",
        "Note: You can import all the libraries that you think will be required or can import it as you go along."
      ]
    },
    {
      "cell_type": "code",
      "metadata": {
        "id": "BIe16kmoUmhr"
      },
      "source": [
        "import pandas as pd                                     # Data analysis and manipultion tool\n",
        "import numpy as np                                      # Fundamental package for linear algebra and multidimensional arrays\n",
        "import tensorflow as tf                                 # Deep Learning Tool\n",
        "import os                                               # OS module in Python provides a way of using operating system dependent functionality\n",
        "import cv2                                              # Library for image processing\n",
        "from sklearn.model_selection import train_test_split    # For splitting the data into train and validation set\n",
        "from sklearn.metrics import accuracy_score"
      ],
      "execution_count": 2,
      "outputs": []
    },
    {
      "cell_type": "markdown",
      "metadata": {
        "id": "IAXqCpedduVx"
      },
      "source": [
        "## Loading and preparing training data\n",
        "The train and test images are given in two different folders - 'train' and 'test'. The labels of train images are given in a csv file 'train.csv' with respective image id (i.e. image file name)."
      ]
    },
    {
      "cell_type": "markdown",
      "metadata": {
        "id": "Wjw1Z9Uqesey"
      },
      "source": [
        "#### Getting the labels of the images"
      ]
    },
    {
      "cell_type": "code",
      "metadata": {
        "id": "vMXmX8g3dflK",
        "colab": {
          "base_uri": "https://localhost:8080/",
          "height": 198
        },
        "outputId": "851a4af7-fb19-4075-fb26-cd1d6d948340"
      },
      "source": [
        "labels = pd.read_csv(\"/content/content/detect_trees_near_electric_wires/train.csv\")   # loading the labels\n",
        "labels.head()           # will display the first five rows in labels dataframe"
      ],
      "execution_count": 3,
      "outputs": [
        {
          "output_type": "execute_result",
          "data": {
            "text/html": [
              "<div>\n",
              "<style scoped>\n",
              "    .dataframe tbody tr th:only-of-type {\n",
              "        vertical-align: middle;\n",
              "    }\n",
              "\n",
              "    .dataframe tbody tr th {\n",
              "        vertical-align: top;\n",
              "    }\n",
              "\n",
              "    .dataframe thead th {\n",
              "        text-align: right;\n",
              "    }\n",
              "</style>\n",
              "<table border=\"1\" class=\"dataframe\">\n",
              "  <thead>\n",
              "    <tr style=\"text-align: right;\">\n",
              "      <th></th>\n",
              "      <th>file_name</th>\n",
              "      <th>Intersection</th>\n",
              "    </tr>\n",
              "  </thead>\n",
              "  <tbody>\n",
              "    <tr>\n",
              "      <th>0</th>\n",
              "      <td>Image_1.jpg</td>\n",
              "      <td>0</td>\n",
              "    </tr>\n",
              "    <tr>\n",
              "      <th>1</th>\n",
              "      <td>Image_2.jpg</td>\n",
              "      <td>1</td>\n",
              "    </tr>\n",
              "    <tr>\n",
              "      <th>2</th>\n",
              "      <td>Image_3.jpg</td>\n",
              "      <td>1</td>\n",
              "    </tr>\n",
              "    <tr>\n",
              "      <th>3</th>\n",
              "      <td>Image_4.jpg</td>\n",
              "      <td>1</td>\n",
              "    </tr>\n",
              "    <tr>\n",
              "      <th>4</th>\n",
              "      <td>Image_5.jpg</td>\n",
              "      <td>1</td>\n",
              "    </tr>\n",
              "  </tbody>\n",
              "</table>\n",
              "</div>"
            ],
            "text/plain": [
              "     file_name  Intersection\n",
              "0  Image_1.jpg             0\n",
              "1  Image_2.jpg             1\n",
              "2  Image_3.jpg             1\n",
              "3  Image_4.jpg             1\n",
              "4  Image_5.jpg             1"
            ]
          },
          "metadata": {
            "tags": []
          },
          "execution_count": 3
        }
      ]
    },
    {
      "cell_type": "code",
      "metadata": {
        "id": "FldofLw1fCxI",
        "colab": {
          "base_uri": "https://localhost:8080/",
          "height": 198
        },
        "outputId": "d5f6ac54-8656-472c-9756-c273b27e9be6"
      },
      "source": [
        "labels.tail()            # will display the last five rows in labels dataframe"
      ],
      "execution_count": 4,
      "outputs": [
        {
          "output_type": "execute_result",
          "data": {
            "text/html": [
              "<div>\n",
              "<style scoped>\n",
              "    .dataframe tbody tr th:only-of-type {\n",
              "        vertical-align: middle;\n",
              "    }\n",
              "\n",
              "    .dataframe tbody tr th {\n",
              "        vertical-align: top;\n",
              "    }\n",
              "\n",
              "    .dataframe thead th {\n",
              "        text-align: right;\n",
              "    }\n",
              "</style>\n",
              "<table border=\"1\" class=\"dataframe\">\n",
              "  <thead>\n",
              "    <tr style=\"text-align: right;\">\n",
              "      <th></th>\n",
              "      <th>file_name</th>\n",
              "      <th>Intersection</th>\n",
              "    </tr>\n",
              "  </thead>\n",
              "  <tbody>\n",
              "    <tr>\n",
              "      <th>1437</th>\n",
              "      <td>Image_1438.jpg</td>\n",
              "      <td>1</td>\n",
              "    </tr>\n",
              "    <tr>\n",
              "      <th>1438</th>\n",
              "      <td>Image_1439.jpg</td>\n",
              "      <td>0</td>\n",
              "    </tr>\n",
              "    <tr>\n",
              "      <th>1439</th>\n",
              "      <td>Image_1440.jpg</td>\n",
              "      <td>1</td>\n",
              "    </tr>\n",
              "    <tr>\n",
              "      <th>1440</th>\n",
              "      <td>Image_1441.jpg</td>\n",
              "      <td>0</td>\n",
              "    </tr>\n",
              "    <tr>\n",
              "      <th>1441</th>\n",
              "      <td>Image_1442.jpg</td>\n",
              "      <td>1</td>\n",
              "    </tr>\n",
              "  </tbody>\n",
              "</table>\n",
              "</div>"
            ],
            "text/plain": [
              "           file_name  Intersection\n",
              "1437  Image_1438.jpg             1\n",
              "1438  Image_1439.jpg             0\n",
              "1439  Image_1440.jpg             1\n",
              "1440  Image_1441.jpg             0\n",
              "1441  Image_1442.jpg             1"
            ]
          },
          "metadata": {
            "tags": []
          },
          "execution_count": 4
        }
      ]
    },
    {
      "cell_type": "markdown",
      "metadata": {
        "id": "S-bMgFBIfUdP"
      },
      "source": [
        "#### Getting images file path"
      ]
    },
    {
      "cell_type": "code",
      "metadata": {
        "id": "xdsON8gZfKIV"
      },
      "source": [
        "file_paths = [[fname, '/content/content/detect_trees_near_electric_wires/train/' + fname] for fname in labels['file_name']]"
      ],
      "execution_count": 5,
      "outputs": []
    },
    {
      "cell_type": "markdown",
      "metadata": {
        "id": "q9Noguhprcf2"
      },
      "source": [
        "#### Confirming if no. of labels is equal to no. of images"
      ]
    },
    {
      "cell_type": "code",
      "metadata": {
        "id": "N4YrF-s1rWla",
        "colab": {
          "base_uri": "https://localhost:8080/"
        },
        "outputId": "b65640f6-92dd-41c2-b65c-87970eddfa6e"
      },
      "source": [
        "# Confirm if number of images is same as number of labels given\n",
        "if len(labels) == len(file_paths):\n",
        "    print('Number of labels i.e. ', len(labels), 'matches the number of filenames i.e. ', len(file_paths))\n",
        "else:\n",
        "    print('Number of labels does not match the number of filenames')"
      ],
      "execution_count": 6,
      "outputs": [
        {
          "output_type": "stream",
          "text": [
            "Number of labels i.e.  1442 matches the number of filenames i.e.  1442\n"
          ],
          "name": "stdout"
        }
      ]
    },
    {
      "cell_type": "markdown",
      "metadata": {
        "id": "Wx2t_cLSr3Jm"
      },
      "source": [
        "#### Converting the file_paths to dataframe"
      ]
    },
    {
      "cell_type": "code",
      "metadata": {
        "id": "PE8c0cgkrpOO",
        "colab": {
          "base_uri": "https://localhost:8080/",
          "height": 198
        },
        "outputId": "cd495f23-82dc-45eb-fbd8-c06f9986e4b8"
      },
      "source": [
        "images = pd.DataFrame(file_paths, columns=['file_name', 'filepaths'])\n",
        "images.head()"
      ],
      "execution_count": 7,
      "outputs": [
        {
          "output_type": "execute_result",
          "data": {
            "text/html": [
              "<div>\n",
              "<style scoped>\n",
              "    .dataframe tbody tr th:only-of-type {\n",
              "        vertical-align: middle;\n",
              "    }\n",
              "\n",
              "    .dataframe tbody tr th {\n",
              "        vertical-align: top;\n",
              "    }\n",
              "\n",
              "    .dataframe thead th {\n",
              "        text-align: right;\n",
              "    }\n",
              "</style>\n",
              "<table border=\"1\" class=\"dataframe\">\n",
              "  <thead>\n",
              "    <tr style=\"text-align: right;\">\n",
              "      <th></th>\n",
              "      <th>file_name</th>\n",
              "      <th>filepaths</th>\n",
              "    </tr>\n",
              "  </thead>\n",
              "  <tbody>\n",
              "    <tr>\n",
              "      <th>0</th>\n",
              "      <td>Image_1.jpg</td>\n",
              "      <td>/content/content/detect_trees_near_electric_wi...</td>\n",
              "    </tr>\n",
              "    <tr>\n",
              "      <th>1</th>\n",
              "      <td>Image_2.jpg</td>\n",
              "      <td>/content/content/detect_trees_near_electric_wi...</td>\n",
              "    </tr>\n",
              "    <tr>\n",
              "      <th>2</th>\n",
              "      <td>Image_3.jpg</td>\n",
              "      <td>/content/content/detect_trees_near_electric_wi...</td>\n",
              "    </tr>\n",
              "    <tr>\n",
              "      <th>3</th>\n",
              "      <td>Image_4.jpg</td>\n",
              "      <td>/content/content/detect_trees_near_electric_wi...</td>\n",
              "    </tr>\n",
              "    <tr>\n",
              "      <th>4</th>\n",
              "      <td>Image_5.jpg</td>\n",
              "      <td>/content/content/detect_trees_near_electric_wi...</td>\n",
              "    </tr>\n",
              "  </tbody>\n",
              "</table>\n",
              "</div>"
            ],
            "text/plain": [
              "     file_name                                          filepaths\n",
              "0  Image_1.jpg  /content/content/detect_trees_near_electric_wi...\n",
              "1  Image_2.jpg  /content/content/detect_trees_near_electric_wi...\n",
              "2  Image_3.jpg  /content/content/detect_trees_near_electric_wi...\n",
              "3  Image_4.jpg  /content/content/detect_trees_near_electric_wi...\n",
              "4  Image_5.jpg  /content/content/detect_trees_near_electric_wi..."
            ]
          },
          "metadata": {
            "tags": []
          },
          "execution_count": 7
        }
      ]
    },
    {
      "cell_type": "markdown",
      "metadata": {
        "id": "nSDPZsA2sM5n"
      },
      "source": [
        "#### Combining the labels with the images"
      ]
    },
    {
      "cell_type": "code",
      "metadata": {
        "id": "y8CNnxxzsG56",
        "colab": {
          "base_uri": "https://localhost:8080/",
          "height": 198
        },
        "outputId": "c954a0e6-5480-4d49-ccd0-379442f55b44"
      },
      "source": [
        "train_data = pd.merge(images, labels, how = 'inner', on = 'file_name')\n",
        "train_data.head()       "
      ],
      "execution_count": 8,
      "outputs": [
        {
          "output_type": "execute_result",
          "data": {
            "text/html": [
              "<div>\n",
              "<style scoped>\n",
              "    .dataframe tbody tr th:only-of-type {\n",
              "        vertical-align: middle;\n",
              "    }\n",
              "\n",
              "    .dataframe tbody tr th {\n",
              "        vertical-align: top;\n",
              "    }\n",
              "\n",
              "    .dataframe thead th {\n",
              "        text-align: right;\n",
              "    }\n",
              "</style>\n",
              "<table border=\"1\" class=\"dataframe\">\n",
              "  <thead>\n",
              "    <tr style=\"text-align: right;\">\n",
              "      <th></th>\n",
              "      <th>file_name</th>\n",
              "      <th>filepaths</th>\n",
              "      <th>Intersection</th>\n",
              "    </tr>\n",
              "  </thead>\n",
              "  <tbody>\n",
              "    <tr>\n",
              "      <th>0</th>\n",
              "      <td>Image_1.jpg</td>\n",
              "      <td>/content/content/detect_trees_near_electric_wi...</td>\n",
              "      <td>0</td>\n",
              "    </tr>\n",
              "    <tr>\n",
              "      <th>1</th>\n",
              "      <td>Image_2.jpg</td>\n",
              "      <td>/content/content/detect_trees_near_electric_wi...</td>\n",
              "      <td>1</td>\n",
              "    </tr>\n",
              "    <tr>\n",
              "      <th>2</th>\n",
              "      <td>Image_3.jpg</td>\n",
              "      <td>/content/content/detect_trees_near_electric_wi...</td>\n",
              "      <td>1</td>\n",
              "    </tr>\n",
              "    <tr>\n",
              "      <th>3</th>\n",
              "      <td>Image_4.jpg</td>\n",
              "      <td>/content/content/detect_trees_near_electric_wi...</td>\n",
              "      <td>1</td>\n",
              "    </tr>\n",
              "    <tr>\n",
              "      <th>4</th>\n",
              "      <td>Image_5.jpg</td>\n",
              "      <td>/content/content/detect_trees_near_electric_wi...</td>\n",
              "      <td>1</td>\n",
              "    </tr>\n",
              "  </tbody>\n",
              "</table>\n",
              "</div>"
            ],
            "text/plain": [
              "     file_name                                          filepaths  Intersection\n",
              "0  Image_1.jpg  /content/content/detect_trees_near_electric_wi...             0\n",
              "1  Image_2.jpg  /content/content/detect_trees_near_electric_wi...             1\n",
              "2  Image_3.jpg  /content/content/detect_trees_near_electric_wi...             1\n",
              "3  Image_4.jpg  /content/content/detect_trees_near_electric_wi...             1\n",
              "4  Image_5.jpg  /content/content/detect_trees_near_electric_wi...             1"
            ]
          },
          "metadata": {
            "tags": []
          },
          "execution_count": 8
        }
      ]
    },
    {
      "cell_type": "markdown",
      "metadata": {
        "id": "znobaA5KsXgp"
      },
      "source": [
        "The 'train_data' dataframe contains all the image id, their locations and their respective labels. Now the training data is ready."
      ]
    },
    {
      "cell_type": "markdown",
      "metadata": {
        "id": "BvIxaRD6sn3m"
      },
      "source": [
        "## Data Pre-processing\n",
        "It is necessary to bring all the images in the same shape and size, also convert them to their pixel values because all machine learning or deep learning models accepts only the numerical data. Also we need to convert all the labels from categorical to numerical values."
      ]
    },
    {
      "cell_type": "code",
      "metadata": {
        "id": "vxPiZCLpsWrd"
      },
      "source": [
        "data = []     # initialize an empty numpy array\n",
        "image_size = 100      # image size taken is 100 here. one can take other size too\n",
        "for i in range(len(train_data)):\n",
        "  \n",
        "  img_array = cv2.imread(train_data['filepaths'][i])   # converting the image to gray scale\n",
        "\n",
        "  new_img_array = cv2.resize(img_array, (image_size, image_size))      # resizing the image array\n",
        "  data.append([new_img_array, train_data['Intersection'][i]])"
      ],
      "execution_count": 9,
      "outputs": []
    },
    {
      "cell_type": "code",
      "metadata": {
        "id": "LOpf3gvXwbT5",
        "colab": {
          "base_uri": "https://localhost:8080/"
        },
        "outputId": "097db666-5036-40bb-87c0-04c6fb7c255d"
      },
      "source": [
        "\n",
        "# image pixels of a image\n",
        "data[0]"
      ],
      "execution_count": 10,
      "outputs": [
        {
          "output_type": "execute_result",
          "data": {
            "text/plain": [
              "[array([[[209, 199, 192],\n",
              "         [208, 198, 190],\n",
              "         [205, 197, 190],\n",
              "         ...,\n",
              "         [ 65,  51,  46],\n",
              "         [248, 234, 232],\n",
              "         [251, 253, 254]],\n",
              " \n",
              "        [[209, 199, 192],\n",
              "         [209, 199, 192],\n",
              "         [208, 200, 193],\n",
              "         ...,\n",
              "         [218, 214, 205],\n",
              "         [188, 195, 190],\n",
              "         [149, 156, 151]],\n",
              " \n",
              "        [[210, 200, 193],\n",
              "         [210, 200, 193],\n",
              "         [210, 201, 194],\n",
              "         ...,\n",
              "         [ 97, 109,  92],\n",
              "         [ 99, 115,  97],\n",
              "         [109, 119, 101]],\n",
              " \n",
              "        ...,\n",
              " \n",
              "        [[137, 136, 135],\n",
              "         [191, 190, 190],\n",
              "         [ 56,  55,  56],\n",
              "         ...,\n",
              "         [104, 105, 105],\n",
              "         [117, 117, 117],\n",
              "         [115, 115, 115]],\n",
              " \n",
              "        [[137, 137, 135],\n",
              "         [248, 248, 248],\n",
              "         [ 94,  93,  95],\n",
              "         ...,\n",
              "         [ 28,  28,  28],\n",
              "         [ 67,  67,  67],\n",
              "         [ 85,  85,  85]],\n",
              " \n",
              "        [[146, 147, 145],\n",
              "         [143, 143, 143],\n",
              "         [128, 127, 129],\n",
              "         ...,\n",
              "         [ 37,  37,  37],\n",
              "         [ 40,  40,  40],\n",
              "         [ 35,  35,  35]]], dtype=uint8), 0]"
            ]
          },
          "metadata": {
            "tags": []
          },
          "execution_count": 10
        }
      ]
    },
    {
      "cell_type": "markdown",
      "metadata": {
        "id": "T6A7CNrU196Q"
      },
      "source": [
        "#### Shuffle the data"
      ]
    },
    {
      "cell_type": "code",
      "metadata": {
        "id": "XDs6fWy92qEq"
      },
      "source": [
        "np.random.shuffle(data)"
      ],
      "execution_count": 11,
      "outputs": []
    },
    {
      "cell_type": "markdown",
      "metadata": {
        "id": "YFMN0ZkA5H-F"
      },
      "source": [
        "#### Separating the images and labels\n"
      ]
    },
    {
      "cell_type": "code",
      "metadata": {
        "id": "2KoW9Pfq5NiB"
      },
      "source": [
        "xx = []\n",
        "yy = []\n",
        "for image in data:\n",
        "  xx.append(image[0])\n",
        "  yy.append(image[1])\n",
        "\n",
        "# converting x & y to numpy array as they are list\n",
        "xx = np.array(xx)\n",
        "yy = np.array(yy)"
      ],
      "execution_count": 12,
      "outputs": []
    },
    {
      "cell_type": "code",
      "metadata": {
        "id": "t39WpMhaepOg",
        "colab": {
          "base_uri": "https://localhost:8080/"
        },
        "outputId": "1a771968-3ca5-42cd-cbb5-7233c7fc0a1b"
      },
      "source": [
        "np.unique(yy, return_counts=True)"
      ],
      "execution_count": 13,
      "outputs": [
        {
          "output_type": "execute_result",
          "data": {
            "text/plain": [
              "(array([0, 1]), array([616, 826]))"
            ]
          },
          "metadata": {
            "tags": []
          },
          "execution_count": 13
        }
      ]
    },
    {
      "cell_type": "markdown",
      "metadata": {
        "id": "OeuKjzVg7NSb"
      },
      "source": [
        "#### Splitting the data into Train and Validation Set\n",
        "We want to check the performance of the model that we built. For this purpose, we always split (both independent and dependent data) the given data into training set which will be used to train the model, and test set which will be used to check how accurately the model is predicting outcomes.\n",
        "\n",
        "For this purpose we have a class called 'train_test_split' in the 'sklearn.model_selection' module."
      ]
    },
    {
      "cell_type": "code",
      "metadata": {
        "id": "mBtGJmZj55SE"
      },
      "source": [
        "# split the data\n",
        "X_train_o, X_val_o, y_train_o, y_val_o = train_test_split(xx,yy,test_size=0.1, random_state = 132)\n",
        "\n",
        "X_train=X_train_o / 255\n",
        "y_train=y_train_o\n",
        "X_val=X_val_o / 255\n",
        "y_val=y_val_o\n",
        "\n"
      ],
      "execution_count": 14,
      "outputs": []
    },
    {
      "cell_type": "code",
      "metadata": {
        "colab": {
          "base_uri": "https://localhost:8080/"
        },
        "id": "FudolHSbfeF0",
        "outputId": "40eb363c-8a51-4f1b-fbf3-630ceb81e6c4"
      },
      "source": [
        "X_val.shape"
      ],
      "execution_count": 15,
      "outputs": [
        {
          "output_type": "execute_result",
          "data": {
            "text/plain": [
              "(145, 100, 100, 3)"
            ]
          },
          "metadata": {
            "tags": []
          },
          "execution_count": 15
        }
      ]
    },
    {
      "cell_type": "markdown",
      "metadata": {
        "id": "cDCZ53yE7340"
      },
      "source": [
        "## Building Model\n",
        "Now we are finally ready, and we can train the model.\n",
        "\n",
        "There are many machine learning or deep learning models like Random Forest, Decision Tree, Multi-Layer Perceptron (MLP), Convolution Neural Network (CNN), etc. to say you some.\n",
        "\n",
        "\n",
        "Then we would feed the model both with the data (X_train) and the answers for that data (y_train)"
      ]
    },
    {
      "cell_type": "code",
      "metadata": {
        "colab": {
          "base_uri": "https://localhost:8080/"
        },
        "id": "-_9FTwooL4n-",
        "outputId": "e1ad57e0-6dc6-43f0-be7a-96cef29a9e8d"
      },
      "source": [
        "!pip install tensorflow-addons\n",
        "import tensorflow_addons as tfa"
      ],
      "execution_count": 16,
      "outputs": [
        {
          "output_type": "stream",
          "text": [
            "Requirement already satisfied: tensorflow-addons in /usr/local/lib/python3.7/dist-packages (0.12.1)\n",
            "Requirement already satisfied: typeguard>=2.7 in /usr/local/lib/python3.7/dist-packages (from tensorflow-addons) (2.7.1)\n"
          ],
          "name": "stdout"
        }
      ]
    },
    {
      "cell_type": "code",
      "metadata": {
        "id": "r-thckmcOdv0"
      },
      "source": [
        "from tensorflow.keras.layers import Input, Dense, Dropout, Conv2D, MaxPool2D, Flatten\n",
        "from tensorflow.keras.models import Model"
      ],
      "execution_count": 17,
      "outputs": []
    },
    {
      "cell_type": "code",
      "metadata": {
        "id": "Zcv3O8CkQvlK"
      },
      "source": [
        "tf.Variable.initializer\n",
        "dropout_rate_1=0.05\n",
        "dropout_rate_2=0.4\n",
        "n_classes=1\n"
      ],
      "execution_count": 18,
      "outputs": []
    },
    {
      "cell_type": "code",
      "metadata": {
        "id": "lxWsfHLk70FV"
      },
      "source": [
        "\n",
        "# Defining the model\n",
        "\n",
        "\n",
        "\n",
        "\n",
        "x = Input(shape=(image_size,image_size,3))\n",
        "\n",
        "conv1 = Conv2D(filters=64,\n",
        "                kernel_size=[5, 5],\n",
        "                padding=\"same\",\n",
        "                activation=\"relu\")(x)\n",
        "\n",
        "pool1 = MaxPool2D(pool_size=[1, 1], strides=1)(conv1)\n",
        "dropout1 = Dropout(rate=dropout_rate_1)(pool1)\n",
        "\n",
        "conv2 = Conv2D(filters=64,\n",
        "               kernel_size=[2, 2],\n",
        "               padding=\"same\",\n",
        "               activation=\"relu\")(dropout1)\n",
        "\n",
        "pool2 = MaxPool2D(pool_size=[1, 1], strides=1)(conv2)               \n",
        "\n",
        "dropout2 = Dropout(rate=dropout_rate_1)(pool2)\n",
        "\n",
        "pool2_flat = Flatten()(dropout2)\n",
        "\n",
        "dense1 = Dense(units=100, activation=\"relu\")(pool2_flat)\n",
        "dropout3 = Dropout(rate=dropout_rate_2)(dense1)\n",
        "\n",
        "dense2 = Dense(units=70, activation=\"relu\")(dropout3)\n",
        "dropout4 = Dropout(rate=dropout_rate_2)(dense2)\n",
        "\n",
        "predictions = Dense(units = 2, activation='softmax')(dropout4)\n",
        "\n",
        "model = Model(inputs=x, outputs=predictions)\n",
        "\n",
        "opt = tf.keras.optimizers.Adamax(learning_rate=0.0001)\n",
        "optimizer = tfa.optimizers.Lookahead(opt)\n",
        "\n",
        "model.compile(optimizer=optimizer,\n",
        "              loss='sparse_categorical_crossentropy',\n",
        "              metrics=['accuracy'])\n",
        "\n"
      ],
      "execution_count": 19,
      "outputs": []
    },
    {
      "cell_type": "code",
      "metadata": {
        "colab": {
          "base_uri": "https://localhost:8080/"
        },
        "id": "JtROva0HkApg",
        "outputId": "78fdf84d-7a48-43b3-d7bc-915617e69845"
      },
      "source": [
        "model.summary()\n",
        "#model=\"\""
      ],
      "execution_count": 20,
      "outputs": [
        {
          "output_type": "stream",
          "text": [
            "Model: \"model\"\n",
            "_________________________________________________________________\n",
            "Layer (type)                 Output Shape              Param #   \n",
            "=================================================================\n",
            "input_1 (InputLayer)         [(None, 100, 100, 3)]     0         \n",
            "_________________________________________________________________\n",
            "conv2d (Conv2D)              (None, 100, 100, 64)      4864      \n",
            "_________________________________________________________________\n",
            "max_pooling2d (MaxPooling2D) (None, 100, 100, 64)      0         \n",
            "_________________________________________________________________\n",
            "dropout (Dropout)            (None, 100, 100, 64)      0         \n",
            "_________________________________________________________________\n",
            "conv2d_1 (Conv2D)            (None, 100, 100, 64)      16448     \n",
            "_________________________________________________________________\n",
            "max_pooling2d_1 (MaxPooling2 (None, 100, 100, 64)      0         \n",
            "_________________________________________________________________\n",
            "dropout_1 (Dropout)          (None, 100, 100, 64)      0         \n",
            "_________________________________________________________________\n",
            "flatten (Flatten)            (None, 640000)            0         \n",
            "_________________________________________________________________\n",
            "dense (Dense)                (None, 100)               64000100  \n",
            "_________________________________________________________________\n",
            "dropout_2 (Dropout)          (None, 100)               0         \n",
            "_________________________________________________________________\n",
            "dense_1 (Dense)              (None, 70)                7070      \n",
            "_________________________________________________________________\n",
            "dropout_3 (Dropout)          (None, 70)                0         \n",
            "_________________________________________________________________\n",
            "dense_2 (Dense)              (None, 2)                 142       \n",
            "=================================================================\n",
            "Total params: 64,028,624\n",
            "Trainable params: 64,028,624\n",
            "Non-trainable params: 0\n",
            "_________________________________________________________________\n"
          ],
          "name": "stdout"
        }
      ]
    },
    {
      "cell_type": "code",
      "metadata": {
        "colab": {
          "base_uri": "https://localhost:8080/"
        },
        "id": "QdBt_wZXbGYH",
        "outputId": "eb233713-9218-4fef-de10-938e9ff7efb3"
      },
      "source": [
        "y_val.shape"
      ],
      "execution_count": 21,
      "outputs": [
        {
          "output_type": "execute_result",
          "data": {
            "text/plain": [
              "(145,)"
            ]
          },
          "metadata": {
            "tags": []
          },
          "execution_count": 21
        }
      ]
    },
    {
      "cell_type": "code",
      "metadata": {
        "colab": {
          "base_uri": "https://localhost:8080/"
        },
        "id": "ZYeWwrpTPe9q",
        "outputId": "62a34545-f2fb-4c10-e812-5f773935ac7a"
      },
      "source": [
        "model.fit(X_train, y_train, epochs=25, batch_size=5,validation_data=(X_val,y_val))"
      ],
      "execution_count": 22,
      "outputs": [
        {
          "output_type": "stream",
          "text": [
            "Epoch 1/25\n",
            "260/260 [==============================] - 16s 44ms/step - loss: 0.8324 - accuracy: 0.5710 - val_loss: 0.6882 - val_accuracy: 0.5724\n",
            "Epoch 2/25\n",
            "260/260 [==============================] - 11s 43ms/step - loss: 0.6976 - accuracy: 0.4882 - val_loss: 0.6821 - val_accuracy: 0.5655\n",
            "Epoch 3/25\n",
            "260/260 [==============================] - 11s 43ms/step - loss: 0.6921 - accuracy: 0.5666 - val_loss: 0.6789 - val_accuracy: 0.5655\n",
            "Epoch 4/25\n",
            "260/260 [==============================] - 11s 43ms/step - loss: 0.6865 - accuracy: 0.5594 - val_loss: 0.6767 - val_accuracy: 0.5655\n",
            "Epoch 5/25\n",
            "260/260 [==============================] - 11s 43ms/step - loss: 0.6685 - accuracy: 0.5831 - val_loss: 0.6772 - val_accuracy: 0.5655\n",
            "Epoch 6/25\n",
            "260/260 [==============================] - 11s 43ms/step - loss: 0.6770 - accuracy: 0.5406 - val_loss: 0.6718 - val_accuracy: 0.5931\n",
            "Epoch 7/25\n",
            "260/260 [==============================] - 11s 43ms/step - loss: 0.6672 - accuracy: 0.5903 - val_loss: 0.6716 - val_accuracy: 0.6276\n",
            "Epoch 8/25\n",
            "260/260 [==============================] - 11s 43ms/step - loss: 0.6621 - accuracy: 0.5955 - val_loss: 0.6726 - val_accuracy: 0.5655\n",
            "Epoch 9/25\n",
            "260/260 [==============================] - 11s 43ms/step - loss: 0.6524 - accuracy: 0.6220 - val_loss: 0.6654 - val_accuracy: 0.5862\n",
            "Epoch 10/25\n",
            "260/260 [==============================] - 11s 43ms/step - loss: 0.6540 - accuracy: 0.6130 - val_loss: 0.6735 - val_accuracy: 0.6138\n",
            "Epoch 11/25\n",
            "260/260 [==============================] - 11s 43ms/step - loss: 0.6467 - accuracy: 0.6205 - val_loss: 0.6660 - val_accuracy: 0.5931\n",
            "Epoch 12/25\n",
            "260/260 [==============================] - 11s 43ms/step - loss: 0.6524 - accuracy: 0.6031 - val_loss: 0.6577 - val_accuracy: 0.6276\n",
            "Epoch 13/25\n",
            "260/260 [==============================] - 11s 43ms/step - loss: 0.6408 - accuracy: 0.6287 - val_loss: 0.6519 - val_accuracy: 0.6276\n",
            "Epoch 14/25\n",
            "260/260 [==============================] - 11s 43ms/step - loss: 0.6276 - accuracy: 0.6284 - val_loss: 0.6749 - val_accuracy: 0.5793\n",
            "Epoch 15/25\n",
            "260/260 [==============================] - 11s 43ms/step - loss: 0.6206 - accuracy: 0.6516 - val_loss: 0.6519 - val_accuracy: 0.6276\n",
            "Epoch 16/25\n",
            "260/260 [==============================] - 11s 43ms/step - loss: 0.5949 - accuracy: 0.6708 - val_loss: 0.6622 - val_accuracy: 0.5862\n",
            "Epoch 17/25\n",
            "260/260 [==============================] - 11s 43ms/step - loss: 0.5823 - accuracy: 0.6820 - val_loss: 0.6545 - val_accuracy: 0.5931\n",
            "Epoch 18/25\n",
            "260/260 [==============================] - 11s 43ms/step - loss: 0.5540 - accuracy: 0.7179 - val_loss: 0.6514 - val_accuracy: 0.6276\n",
            "Epoch 19/25\n",
            "260/260 [==============================] - 11s 43ms/step - loss: 0.5239 - accuracy: 0.7172 - val_loss: 0.6590 - val_accuracy: 0.6069\n",
            "Epoch 20/25\n",
            "260/260 [==============================] - 11s 43ms/step - loss: 0.5154 - accuracy: 0.7469 - val_loss: 0.6578 - val_accuracy: 0.5931\n",
            "Epoch 21/25\n",
            "260/260 [==============================] - 11s 43ms/step - loss: 0.4958 - accuracy: 0.7780 - val_loss: 0.6597 - val_accuracy: 0.6000\n",
            "Epoch 22/25\n",
            "260/260 [==============================] - 11s 43ms/step - loss: 0.4737 - accuracy: 0.8186 - val_loss: 0.6728 - val_accuracy: 0.5931\n",
            "Epoch 23/25\n",
            "260/260 [==============================] - 11s 43ms/step - loss: 0.4502 - accuracy: 0.8178 - val_loss: 0.6923 - val_accuracy: 0.5724\n",
            "Epoch 24/25\n",
            "260/260 [==============================] - 11s 43ms/step - loss: 0.4299 - accuracy: 0.8321 - val_loss: 0.6889 - val_accuracy: 0.5793\n",
            "Epoch 25/25\n",
            "260/260 [==============================] - 11s 43ms/step - loss: 0.3973 - accuracy: 0.8384 - val_loss: 0.6952 - val_accuracy: 0.5517\n"
          ],
          "name": "stdout"
        },
        {
          "output_type": "execute_result",
          "data": {
            "text/plain": [
              "<tensorflow.python.keras.callbacks.History at 0x7f41502eba90>"
            ]
          },
          "metadata": {
            "tags": []
          },
          "execution_count": 22
        }
      ]
    },
    {
      "cell_type": "markdown",
      "metadata": {
        "id": "tc3lSJ2a-OYt"
      },
      "source": [
        "## Validate the model\n",
        "Wonder🤔 how well your model learned! Lets check its performance on the X_val data."
      ]
    },
    {
      "cell_type": "code",
      "metadata": {
        "id": "FdJu9D4l4QHO",
        "colab": {
          "base_uri": "https://localhost:8080/"
        },
        "outputId": "e613b3af-92db-4512-aaa2-2450417be0a8"
      },
      "source": [
        "model.evaluate(X_val, y_val)"
      ],
      "execution_count": 23,
      "outputs": [
        {
          "output_type": "stream",
          "text": [
            "5/5 [==============================] - 0s 43ms/step - loss: 0.6952 - accuracy: 0.5517\n"
          ],
          "name": "stdout"
        },
        {
          "output_type": "execute_result",
          "data": {
            "text/plain": [
              "[0.6952170133590698, 0.5517241358757019]"
            ]
          },
          "metadata": {
            "tags": []
          },
          "execution_count": 23
        }
      ]
    },
    {
      "cell_type": "markdown",
      "metadata": {
        "id": "kLrpm-If-lRT"
      },
      "source": [
        "## Predict The Output For Testing Dataset 😅\n",
        "We have trained our model, evaluated it and now finally we will predict the output/target for the testing data (i.e. Testing_set_covid.csv)."
      ]
    },
    {
      "cell_type": "markdown",
      "metadata": {
        "id": "nG70J6Un-s2G"
      },
      "source": [
        "#### Load Test Set\n",
        "Load the test data on which final submission is to be made."
      ]
    },
    {
      "cell_type": "code",
      "metadata": {
        "id": "iji8OaFF-fSp",
        "colab": {
          "base_uri": "https://localhost:8080/",
          "height": 198
        },
        "outputId": "59964e62-d4d3-465f-d7e2-b5d811c7a70e"
      },
      "source": [
        "# Loading the order of the image's name that has been provided\n",
        "test_image_order = pd.read_csv(\"/content/content/detect_trees_near_electric_wires/Test.csv\")\n",
        "test_image_order.head()"
      ],
      "execution_count": 24,
      "outputs": [
        {
          "output_type": "execute_result",
          "data": {
            "text/html": [
              "<div>\n",
              "<style scoped>\n",
              "    .dataframe tbody tr th:only-of-type {\n",
              "        vertical-align: middle;\n",
              "    }\n",
              "\n",
              "    .dataframe tbody tr th {\n",
              "        vertical-align: top;\n",
              "    }\n",
              "\n",
              "    .dataframe thead th {\n",
              "        text-align: right;\n",
              "    }\n",
              "</style>\n",
              "<table border=\"1\" class=\"dataframe\">\n",
              "  <thead>\n",
              "    <tr style=\"text-align: right;\">\n",
              "      <th></th>\n",
              "      <th>file_name</th>\n",
              "    </tr>\n",
              "  </thead>\n",
              "  <tbody>\n",
              "    <tr>\n",
              "      <th>0</th>\n",
              "      <td>Image_1.jpg</td>\n",
              "    </tr>\n",
              "    <tr>\n",
              "      <th>1</th>\n",
              "      <td>Image_2.jpg</td>\n",
              "    </tr>\n",
              "    <tr>\n",
              "      <th>2</th>\n",
              "      <td>Image_3.jpg</td>\n",
              "    </tr>\n",
              "    <tr>\n",
              "      <th>3</th>\n",
              "      <td>Image_4.jpg</td>\n",
              "    </tr>\n",
              "    <tr>\n",
              "      <th>4</th>\n",
              "      <td>Image_5.jpg</td>\n",
              "    </tr>\n",
              "  </tbody>\n",
              "</table>\n",
              "</div>"
            ],
            "text/plain": [
              "     file_name\n",
              "0  Image_1.jpg\n",
              "1  Image_2.jpg\n",
              "2  Image_3.jpg\n",
              "3  Image_4.jpg\n",
              "4  Image_5.jpg"
            ]
          },
          "metadata": {
            "tags": []
          },
          "execution_count": 24
        }
      ]
    },
    {
      "cell_type": "markdown",
      "metadata": {
        "id": "XhszUWXEAABu"
      },
      "source": [
        "#### Getting images file path"
      ]
    },
    {
      "cell_type": "code",
      "metadata": {
        "id": "657fCek3_IhD"
      },
      "source": [
        "file_paths = [[fname, '/content/content/detect_trees_near_electric_wires/test/' + fname] for fname in test_image_order['file_name']]"
      ],
      "execution_count": 25,
      "outputs": []
    },
    {
      "cell_type": "markdown",
      "metadata": {
        "id": "xmrgyltpALYg"
      },
      "source": [
        "#### Confirm if number of images in test folder is same as number of image names in 'Test.csv'"
      ]
    },
    {
      "cell_type": "code",
      "metadata": {
        "id": "telGIa0JADdO",
        "colab": {
          "base_uri": "https://localhost:8080/"
        },
        "outputId": "23a139d8-69db-482e-e5bf-df5d43b2c3f9"
      },
      "source": [
        "# Confirm if number of images is same as number of labels given\n",
        "if len(test_image_order) == len(file_paths):\n",
        "    print('Number of image names i.e. ', len(test_image_order), 'matches the number of file paths i.e. ', len(file_paths))\n",
        "else:\n",
        "    print('Number of image names does not match the number of filepaths')"
      ],
      "execution_count": 26,
      "outputs": [
        {
          "output_type": "stream",
          "text": [
            "Number of image names i.e.  723 matches the number of file paths i.e.  723\n"
          ],
          "name": "stdout"
        }
      ]
    },
    {
      "cell_type": "markdown",
      "metadata": {
        "id": "Wsa94YfqBInJ"
      },
      "source": [
        "#### Converting the file_paths to dataframe"
      ]
    },
    {
      "cell_type": "code",
      "metadata": {
        "id": "3nH9rUnQBSnf",
        "colab": {
          "base_uri": "https://localhost:8080/",
          "height": 198
        },
        "outputId": "71c6047a-f1f0-4509-a291-2296cf72e330"
      },
      "source": [
        "test_images = pd.DataFrame(file_paths, columns=['file_name', 'filepaths'])\n",
        "test_images.head()"
      ],
      "execution_count": 27,
      "outputs": [
        {
          "output_type": "execute_result",
          "data": {
            "text/html": [
              "<div>\n",
              "<style scoped>\n",
              "    .dataframe tbody tr th:only-of-type {\n",
              "        vertical-align: middle;\n",
              "    }\n",
              "\n",
              "    .dataframe tbody tr th {\n",
              "        vertical-align: top;\n",
              "    }\n",
              "\n",
              "    .dataframe thead th {\n",
              "        text-align: right;\n",
              "    }\n",
              "</style>\n",
              "<table border=\"1\" class=\"dataframe\">\n",
              "  <thead>\n",
              "    <tr style=\"text-align: right;\">\n",
              "      <th></th>\n",
              "      <th>file_name</th>\n",
              "      <th>filepaths</th>\n",
              "    </tr>\n",
              "  </thead>\n",
              "  <tbody>\n",
              "    <tr>\n",
              "      <th>0</th>\n",
              "      <td>Image_1.jpg</td>\n",
              "      <td>/content/content/detect_trees_near_electric_wi...</td>\n",
              "    </tr>\n",
              "    <tr>\n",
              "      <th>1</th>\n",
              "      <td>Image_2.jpg</td>\n",
              "      <td>/content/content/detect_trees_near_electric_wi...</td>\n",
              "    </tr>\n",
              "    <tr>\n",
              "      <th>2</th>\n",
              "      <td>Image_3.jpg</td>\n",
              "      <td>/content/content/detect_trees_near_electric_wi...</td>\n",
              "    </tr>\n",
              "    <tr>\n",
              "      <th>3</th>\n",
              "      <td>Image_4.jpg</td>\n",
              "      <td>/content/content/detect_trees_near_electric_wi...</td>\n",
              "    </tr>\n",
              "    <tr>\n",
              "      <th>4</th>\n",
              "      <td>Image_5.jpg</td>\n",
              "      <td>/content/content/detect_trees_near_electric_wi...</td>\n",
              "    </tr>\n",
              "  </tbody>\n",
              "</table>\n",
              "</div>"
            ],
            "text/plain": [
              "     file_name                                          filepaths\n",
              "0  Image_1.jpg  /content/content/detect_trees_near_electric_wi...\n",
              "1  Image_2.jpg  /content/content/detect_trees_near_electric_wi...\n",
              "2  Image_3.jpg  /content/content/detect_trees_near_electric_wi...\n",
              "3  Image_4.jpg  /content/content/detect_trees_near_electric_wi...\n",
              "4  Image_5.jpg  /content/content/detect_trees_near_electric_wi..."
            ]
          },
          "metadata": {
            "tags": []
          },
          "execution_count": 27
        }
      ]
    },
    {
      "cell_type": "markdown",
      "metadata": {
        "id": "ZqSujaW0CRi9"
      },
      "source": [
        "## Data Pre-processing on test_data\n"
      ]
    },
    {
      "cell_type": "code",
      "metadata": {
        "id": "ZUQWlDrjH4Pe"
      },
      "source": [
        "image_size=100"
      ],
      "execution_count": 38,
      "outputs": []
    },
    {
      "cell_type": "code",
      "metadata": {
        "id": "Wy7-NZ7TCiSQ"
      },
      "source": [
        "test_pixel_data = []     # initialize an empty numpy array\n",
        "     # image size taken is 100 here. one can take other size too\n",
        "for i in range(len(test_images)):\n",
        "  \n",
        "  img_array = cv2.imread(test_images['filepaths'][i],)   # converting the image to gray scale\n",
        "\n",
        "  new_img_array = cv2.resize(img_array, (image_size, image_size))      # resizing the image array\n",
        "\n",
        "  test_pixel_data.append(new_img_array)"
      ],
      "execution_count": 39,
      "outputs": []
    },
    {
      "cell_type": "code",
      "metadata": {
        "id": "7KNDswlffvYq"
      },
      "source": [
        "test_pixel_data = np.array(test_pixel_data)"
      ],
      "execution_count": 40,
      "outputs": []
    },
    {
      "cell_type": "markdown",
      "metadata": {
        "id": "AxtDS6-0J0s2"
      },
      "source": [
        "### Make Prediction on Test Dataset\n",
        "Time to make a submission!!!"
      ]
    },
    {
      "cell_type": "code",
      "metadata": {
        "id": "yXLCDKVrJuzY"
      },
      "source": [
        "pred = model.predict(test_pixel_data)"
      ],
      "execution_count": 41,
      "outputs": []
    },
    {
      "cell_type": "code",
      "metadata": {
        "id": "MYeK05BHLAen",
        "colab": {
          "base_uri": "https://localhost:8080/"
        },
        "outputId": "efdb5759-b880-4fc9-a531-7ae282bad1dd"
      },
      "source": [
        "# The predicted values are the probabilities value\n",
        "for i in pred:\n",
        "    print(i)"
      ],
      "execution_count": 42,
      "outputs": [
        {
          "output_type": "stream",
          "text": [
            "[0. 1.]\n",
            "[0. 1.]\n",
            "[0. 1.]\n",
            "[0. 1.]\n",
            "[1. 0.]\n",
            "[1. 0.]\n",
            "[0. 1.]\n",
            "[1. 0.]\n",
            "[0. 1.]\n",
            "[0. 1.]\n",
            "[0.9463868  0.05361324]\n",
            "[2.2818489e-29 1.0000000e+00]\n",
            "[1.0000000e+00 2.7447608e-21]\n",
            "[0. 1.]\n",
            "[1. 0.]\n",
            "[8.516599e-38 1.000000e+00]\n",
            "[0. 1.]\n",
            "[0. 1.]\n",
            "[0. 1.]\n",
            "[1. 0.]\n",
            "[0. 1.]\n",
            "[0. 1.]\n",
            "[2.1605e-23 1.0000e+00]\n",
            "[1.0000000e+00 1.0328741e-29]\n",
            "[1. 0.]\n",
            "[0. 1.]\n",
            "[0. 1.]\n",
            "[1. 0.]\n",
            "[1.5821107e-29 1.0000000e+00]\n",
            "[3.251641e-25 1.000000e+00]\n",
            "[0. 1.]\n",
            "[1. 0.]\n",
            "[1. 0.]\n",
            "[1. 0.]\n",
            "[1. 0.]\n",
            "[2.035584e-08 1.000000e+00]\n",
            "[0. 1.]\n",
            "[1. 0.]\n",
            "[1. 0.]\n",
            "[0. 1.]\n",
            "[0.99793696 0.00206306]\n",
            "[0. 1.]\n",
            "[0. 1.]\n",
            "[0.02329572 0.97670424]\n",
            "[1.000000e+00 1.048936e-28]\n",
            "[1. 0.]\n",
            "[1.846308e-26 1.000000e+00]\n",
            "[0. 1.]\n",
            "[9.9992347e-01 7.6536169e-05]\n",
            "[0. 1.]\n",
            "[0. 1.]\n",
            "[0. 1.]\n",
            "[1.0000000e+00 3.1857018e-22]\n",
            "[1. 0.]\n",
            "[1.000000e+00 2.077105e-17]\n",
            "[1.000000e+00 8.547241e-27]\n",
            "[1. 0.]\n",
            "[1.000000e+00 8.084973e-09]\n",
            "[1. 0.]\n",
            "[1. 0.]\n",
            "[0. 1.]\n",
            "[0. 1.]\n",
            "[9.999995e-01 5.067518e-07]\n",
            "[0. 1.]\n",
            "[1. 0.]\n",
            "[0. 1.]\n",
            "[0. 1.]\n",
            "[7.070886e-23 1.000000e+00]\n",
            "[1. 0.]\n",
            "[9.9999964e-01 3.6254903e-07]\n",
            "[0. 1.]\n",
            "[0. 1.]\n",
            "[0. 1.]\n",
            "[8.756092e-31 1.000000e+00]\n",
            "[0. 1.]\n",
            "[1. 0.]\n",
            "[1. 0.]\n",
            "[0. 1.]\n",
            "[0. 1.]\n",
            "[1. 0.]\n",
            "[1. 0.]\n",
            "[1. 0.]\n",
            "[1. 0.]\n",
            "[0. 1.]\n",
            "[1. 0.]\n",
            "[1. 0.]\n",
            "[0. 1.]\n",
            "[0. 1.]\n",
            "[0. 1.]\n",
            "[1.0000000e+00 3.7365768e-20]\n",
            "[1.562689e-36 1.000000e+00]\n",
            "[0. 1.]\n",
            "[1. 0.]\n",
            "[0. 1.]\n",
            "[1. 0.]\n",
            "[1. 0.]\n",
            "[0. 1.]\n",
            "[3.160547e-08 1.000000e+00]\n",
            "[1. 0.]\n",
            "[1. 0.]\n",
            "[0. 1.]\n",
            "[1.0000000e+00 5.1039686e-26]\n",
            "[2.86078e-37 1.00000e+00]\n",
            "[0. 1.]\n",
            "[0. 1.]\n",
            "[1.00000000e+00 1.26949475e-26]\n",
            "[0. 1.]\n",
            "[1. 0.]\n",
            "[1. 0.]\n",
            "[1. 0.]\n",
            "[0. 1.]\n",
            "[0. 1.]\n",
            "[0. 1.]\n",
            "[0. 1.]\n",
            "[9.9999797e-01 2.0175694e-06]\n",
            "[1.0000000e+00 2.8635934e-17]\n",
            "[0. 1.]\n",
            "[1. 0.]\n",
            "[2.4657475e-25 1.0000000e+00]\n",
            "[0. 1.]\n",
            "[1. 0.]\n",
            "[8.592804e-14 1.000000e+00]\n",
            "[0. 1.]\n",
            "[0. 1.]\n",
            "[1.0000000e+00 1.2470718e-38]\n",
            "[1. 0.]\n",
            "[1.2051412e-36 1.0000000e+00]\n",
            "[3.2775063e-10 1.0000000e+00]\n",
            "[1. 0.]\n",
            "[0. 1.]\n",
            "[2.6594055e-32 1.0000000e+00]\n",
            "[1. 0.]\n",
            "[1. 0.]\n",
            "[0. 1.]\n",
            "[1. 0.]\n",
            "[1. 0.]\n",
            "[1. 0.]\n",
            "[3.312919e-16 1.000000e+00]\n",
            "[1.0000000e+00 1.6979679e-19]\n",
            "[1. 0.]\n",
            "[0. 1.]\n",
            "[1. 0.]\n",
            "[5.2875913e-31 1.0000000e+00]\n",
            "[1. 0.]\n",
            "[1. 0.]\n",
            "[1. 0.]\n",
            "[0. 1.]\n",
            "[9.999999e-01 6.350220e-08]\n",
            "[0. 1.]\n",
            "[0. 1.]\n",
            "[0. 1.]\n",
            "[1.627348e-19 1.000000e+00]\n",
            "[1. 0.]\n",
            "[1. 0.]\n",
            "[0. 1.]\n",
            "[1.0000000e+00 2.8364101e-12]\n",
            "[0. 1.]\n",
            "[1. 0.]\n",
            "[0. 1.]\n",
            "[0. 1.]\n",
            "[1. 0.]\n",
            "[1.0000000e+00 3.4921268e-08]\n",
            "[1. 0.]\n",
            "[7.896232e-18 1.000000e+00]\n",
            "[1. 0.]\n",
            "[1.000000e+00 9.557535e-34]\n",
            "[2.9812565e-14 1.0000000e+00]\n",
            "[1. 0.]\n",
            "[1.0000000e+00 5.1253538e-18]\n",
            "[1. 0.]\n",
            "[0. 1.]\n",
            "[0. 1.]\n",
            "[8.899232e-18 1.000000e+00]\n",
            "[1. 0.]\n",
            "[0. 1.]\n",
            "[8.6591115e-36 1.0000000e+00]\n",
            "[0. 1.]\n",
            "[0. 1.]\n",
            "[1.0000000e+00 5.6392845e-34]\n",
            "[0. 1.]\n",
            "[0. 1.]\n",
            "[1.0356753e-05 9.9998963e-01]\n",
            "[0. 1.]\n",
            "[0. 1.]\n",
            "[0. 1.]\n",
            "[1. 0.]\n",
            "[1.0000000e+00 1.6647426e-22]\n",
            "[1.000000e+00 4.542574e-09]\n",
            "[0.00162713 0.9983728 ]\n",
            "[0. 1.]\n",
            "[8.1702815e-35 1.0000000e+00]\n",
            "[1.0000000e+00 1.0757315e-17]\n",
            "[4.460695e-29 1.000000e+00]\n",
            "[8.795414e-34 1.000000e+00]\n",
            "[9.9996960e-01 3.0423591e-05]\n",
            "[1.0000000e+00 1.3089912e-11]\n",
            "[5.4581395e-10 1.0000000e+00]\n",
            "[0. 1.]\n",
            "[1. 0.]\n",
            "[1. 0.]\n",
            "[1. 0.]\n",
            "[1. 0.]\n",
            "[5.249757e-12 1.000000e+00]\n",
            "[0. 1.]\n",
            "[7.178053e-21 1.000000e+00]\n",
            "[1. 0.]\n",
            "[1.0000000e+00 1.6795778e-24]\n",
            "[1.0000000e+00 1.1254935e-22]\n",
            "[0. 1.]\n",
            "[0. 1.]\n",
            "[1. 0.]\n",
            "[0. 1.]\n",
            "[0. 1.]\n",
            "[0. 1.]\n",
            "[1.0000000e+00 2.3698842e-33]\n",
            "[1. 0.]\n",
            "[0. 1.]\n",
            "[1. 0.]\n",
            "[5.813454e-09 1.000000e+00]\n",
            "[1.1178821e-28 1.0000000e+00]\n",
            "[0. 1.]\n",
            "[1. 0.]\n",
            "[1. 0.]\n",
            "[0. 1.]\n",
            "[0. 1.]\n",
            "[1. 0.]\n",
            "[1.0000000e+00 1.2631428e-18]\n",
            "[1.8134703e-36 1.0000000e+00]\n",
            "[1. 0.]\n",
            "[1. 0.]\n",
            "[1. 0.]\n",
            "[0. 1.]\n",
            "[4.2833628e-07 9.9999952e-01]\n",
            "[4.198194e-11 1.000000e+00]\n",
            "[0. 1.]\n",
            "[1.000000e+00 1.107809e-27]\n",
            "[0.29117215 0.70882785]\n",
            "[0. 1.]\n",
            "[1. 0.]\n",
            "[1.0000000e+00 5.8337522e-15]\n",
            "[0. 1.]\n",
            "[1. 0.]\n",
            "[0.7162116  0.28378838]\n",
            "[1. 0.]\n",
            "[8.5358543e-38 1.0000000e+00]\n",
            "[3.3846695e-07 9.9999964e-01]\n",
            "[1.000000e+00 6.646729e-34]\n",
            "[1. 0.]\n",
            "[0. 1.]\n",
            "[0. 1.]\n",
            "[0. 1.]\n",
            "[0. 1.]\n",
            "[1. 0.]\n",
            "[0. 1.]\n",
            "[1. 0.]\n",
            "[1. 0.]\n",
            "[0. 1.]\n",
            "[1.0000000e+00 1.2003957e-38]\n",
            "[1.000000e+00 4.793446e-22]\n",
            "[1. 0.]\n",
            "[0. 1.]\n",
            "[0. 1.]\n",
            "[1.000000e+00 3.995331e-33]\n",
            "[2.8970987e-14 1.0000000e+00]\n",
            "[1.000000e+00 2.017331e-21]\n",
            "[0. 1.]\n",
            "[1.0000000e+00 3.6153704e-15]\n",
            "[0.00443799 0.9955621 ]\n",
            "[1. 0.]\n",
            "[0. 1.]\n",
            "[0. 1.]\n",
            "[1. 0.]\n",
            "[1. 0.]\n",
            "[0. 1.]\n",
            "[6.83053e-37 1.00000e+00]\n",
            "[0. 1.]\n",
            "[0. 1.]\n",
            "[1. 0.]\n",
            "[0. 1.]\n",
            "[4.769731e-38 1.000000e+00]\n",
            "[0. 1.]\n",
            "[5.1159186e-33 1.0000000e+00]\n",
            "[0. 1.]\n",
            "[0. 1.]\n",
            "[1. 0.]\n",
            "[1.6050154e-22 1.0000000e+00]\n",
            "[1.0000000e+00 4.3860835e-09]\n",
            "[0. 1.]\n",
            "[1. 0.]\n",
            "[0. 1.]\n",
            "[1.0000000e+00 1.9407633e-24]\n",
            "[1. 0.]\n",
            "[1.000000e+00 2.011319e-24]\n",
            "[0. 1.]\n",
            "[0. 1.]\n",
            "[1. 0.]\n",
            "[1. 0.]\n",
            "[0. 1.]\n",
            "[1. 0.]\n",
            "[1. 0.]\n",
            "[1.0000000e+00 9.9291526e-11]\n",
            "[1. 0.]\n",
            "[0. 1.]\n",
            "[0. 1.]\n",
            "[1. 0.]\n",
            "[0. 1.]\n",
            "[1. 0.]\n",
            "[1.0000000e+00 5.3496255e-08]\n",
            "[0. 1.]\n",
            "[0. 1.]\n",
            "[0. 1.]\n",
            "[0.3696601  0.63033986]\n",
            "[0. 1.]\n",
            "[0. 1.]\n",
            "[0. 1.]\n",
            "[0. 1.]\n",
            "[0. 1.]\n",
            "[1. 0.]\n",
            "[0. 1.]\n",
            "[1. 0.]\n",
            "[1. 0.]\n",
            "[0. 1.]\n",
            "[2.7109178e-31 1.0000000e+00]\n",
            "[1.000000e+00 8.121115e-37]\n",
            "[0. 1.]\n",
            "[1. 0.]\n",
            "[9.9999905e-01 9.9570616e-07]\n",
            "[1. 0.]\n",
            "[0. 1.]\n",
            "[0. 1.]\n",
            "[0. 1.]\n",
            "[1.3881557e-38 1.0000000e+00]\n",
            "[0. 1.]\n",
            "[4.8677693e-04 9.9951327e-01]\n",
            "[1. 0.]\n",
            "[1. 0.]\n",
            "[1.0000000e+00 1.6118284e-19]\n",
            "[0.04970736 0.9502926 ]\n",
            "[0. 1.]\n",
            "[1.0000000e+00 2.7621518e-38]\n",
            "[0. 1.]\n",
            "[1.0000000e+00 1.4360935e-31]\n",
            "[0. 1.]\n",
            "[0. 1.]\n",
            "[0. 1.]\n",
            "[9.9999774e-01 2.3053844e-06]\n",
            "[1. 0.]\n",
            "[1.0000000e+00 3.9249865e-30]\n",
            "[1.0000000e+00 2.9090433e-17]\n",
            "[1. 0.]\n",
            "[0. 1.]\n",
            "[1. 0.]\n",
            "[0. 1.]\n",
            "[1.000000e+00 5.526294e-32]\n",
            "[1. 0.]\n",
            "[1. 0.]\n",
            "[0. 1.]\n",
            "[0. 1.]\n",
            "[9.206806e-13 1.000000e+00]\n",
            "[1. 0.]\n",
            "[1. 0.]\n",
            "[0. 1.]\n",
            "[3.2292253e-28 1.0000000e+00]\n",
            "[0. 1.]\n",
            "[0. 1.]\n",
            "[1.000000e+00 8.270173e-23]\n",
            "[1.1966472e-22 1.0000000e+00]\n",
            "[0. 1.]\n",
            "[5.061996e-16 1.000000e+00]\n",
            "[0. 1.]\n",
            "[0. 1.]\n",
            "[1.0611844e-18 1.0000000e+00]\n",
            "[1. 0.]\n",
            "[9.9999833e-01 1.6343268e-06]\n",
            "[1. 0.]\n",
            "[1.0000000e+00 1.0066134e-08]\n",
            "[0. 1.]\n",
            "[1. 0.]\n",
            "[0. 1.]\n",
            "[1. 0.]\n",
            "[0. 1.]\n",
            "[0. 1.]\n",
            "[0. 1.]\n",
            "[0. 1.]\n",
            "[1. 0.]\n",
            "[0. 1.]\n",
            "[0. 1.]\n",
            "[0. 1.]\n",
            "[0. 1.]\n",
            "[0. 1.]\n",
            "[0. 1.]\n",
            "[1.000000e+00 6.606323e-11]\n",
            "[0. 1.]\n",
            "[0. 1.]\n",
            "[0. 1.]\n",
            "[0. 1.]\n",
            "[9.9970597e-01 2.9396446e-04]\n",
            "[1. 0.]\n",
            "[0. 1.]\n",
            "[1. 0.]\n",
            "[9.008948e-32 1.000000e+00]\n",
            "[0. 1.]\n",
            "[9.672444e-27 1.000000e+00]\n",
            "[5.1931276e-28 1.0000000e+00]\n",
            "[1. 0.]\n",
            "[1.2547203e-24 1.0000000e+00]\n",
            "[1. 0.]\n",
            "[0. 1.]\n",
            "[0. 1.]\n",
            "[1. 0.]\n",
            "[3.247624e-06 9.999968e-01]\n",
            "[1.000000e+00 6.845915e-16]\n",
            "[0. 1.]\n",
            "[1. 0.]\n",
            "[0. 1.]\n",
            "[0. 1.]\n",
            "[4.7166922e-18 1.0000000e+00]\n",
            "[1. 0.]\n",
            "[9.9979514e-01 2.0487285e-04]\n",
            "[6.271897e-06 9.999937e-01]\n",
            "[1. 0.]\n",
            "[2.7010588e-13 1.0000000e+00]\n",
            "[0. 1.]\n",
            "[1. 0.]\n",
            "[1.0000000e+00 1.6915961e-12]\n",
            "[1. 0.]\n",
            "[1. 0.]\n",
            "[1.0000000e+00 1.4987364e-20]\n",
            "[0. 1.]\n",
            "[1. 0.]\n",
            "[0. 1.]\n",
            "[1. 0.]\n",
            "[1.8530662e-20 1.0000000e+00]\n",
            "[0. 1.]\n",
            "[1. 0.]\n",
            "[0. 1.]\n",
            "[1.0000000e+00 1.8884353e-25]\n",
            "[1. 0.]\n",
            "[0. 1.]\n",
            "[1.0000000e+00 5.9095764e-28]\n",
            "[1.0000000e+00 7.7884674e-35]\n",
            "[1. 0.]\n",
            "[1.0000000e+00 2.0737962e-09]\n",
            "[0. 1.]\n",
            "[0.22945493 0.77054507]\n",
            "[1.0000000e+00 1.7377966e-34]\n",
            "[1.0000000e+00 2.8779472e-19]\n",
            "[5.6316285e-20 1.0000000e+00]\n",
            "[1. 0.]\n",
            "[0. 1.]\n",
            "[1. 0.]\n",
            "[0. 1.]\n",
            "[1. 0.]\n",
            "[0. 1.]\n",
            "[1. 0.]\n",
            "[0. 1.]\n",
            "[0. 1.]\n",
            "[1. 0.]\n",
            "[1.0000000e+00 4.8257283e-33]\n",
            "[3.5582028e-17 1.0000000e+00]\n",
            "[1.0000000e+00 2.6554602e-26]\n",
            "[1.0000000e+00 4.1769367e-20]\n",
            "[2.6302933e-28 1.0000000e+00]\n",
            "[0. 1.]\n",
            "[0. 1.]\n",
            "[0.00760956 0.99239045]\n",
            "[1. 0.]\n",
            "[1. 0.]\n",
            "[0. 1.]\n",
            "[1.2215665e-08 1.0000000e+00]\n",
            "[0. 1.]\n",
            "[1.000000e+00 3.878999e-27]\n",
            "[1. 0.]\n",
            "[1.6603654e-12 1.0000000e+00]\n",
            "[1.00000e+00 4.90168e-35]\n",
            "[1.0000000e+00 2.1116229e-09]\n",
            "[0. 1.]\n",
            "[1.0000000e+00 1.8666422e-16]\n",
            "[0. 1.]\n",
            "[1. 0.]\n",
            "[1. 0.]\n",
            "[0. 1.]\n",
            "[0. 1.]\n",
            "[6.925554e-09 1.000000e+00]\n",
            "[1. 0.]\n",
            "[0. 1.]\n",
            "[0. 1.]\n",
            "[0. 1.]\n",
            "[0. 1.]\n",
            "[0.00271279 0.9972873 ]\n",
            "[0. 1.]\n",
            "[0. 1.]\n",
            "[1. 0.]\n",
            "[1.002347e-07 9.999999e-01]\n",
            "[0. 1.]\n",
            "[1.0000000e+00 7.8424994e-10]\n",
            "[8.21828e-16 1.00000e+00]\n",
            "[0. 1.]\n",
            "[1. 0.]\n",
            "[0.1108028 0.8891972]\n",
            "[1. 0.]\n",
            "[0. 1.]\n",
            "[1. 0.]\n",
            "[1. 0.]\n",
            "[1. 0.]\n",
            "[1. 0.]\n",
            "[1. 0.]\n",
            "[1. 0.]\n",
            "[0. 1.]\n",
            "[1.0000000e+00 2.2348726e-37]\n",
            "[1. 0.]\n",
            "[0. 1.]\n",
            "[0. 1.]\n",
            "[0. 1.]\n",
            "[1. 0.]\n",
            "[1.6606896e-37 1.0000000e+00]\n",
            "[1. 0.]\n",
            "[1.000000e+00 1.632823e-08]\n",
            "[5.6901794e-17 1.0000000e+00]\n",
            "[0. 1.]\n",
            "[1. 0.]\n",
            "[1. 0.]\n",
            "[1. 0.]\n",
            "[0. 1.]\n",
            "[0. 1.]\n",
            "[0. 1.]\n",
            "[0.96414465 0.03585534]\n",
            "[0. 1.]\n",
            "[1. 0.]\n",
            "[1. 0.]\n",
            "[8.371365e-15 1.000000e+00]\n",
            "[1. 0.]\n",
            "[1. 0.]\n",
            "[1. 0.]\n",
            "[0. 1.]\n",
            "[1. 0.]\n",
            "[0. 1.]\n",
            "[9.342003e-21 1.000000e+00]\n",
            "[0. 1.]\n",
            "[0. 1.]\n",
            "[0. 1.]\n",
            "[5.445782e-19 1.000000e+00]\n",
            "[0. 1.]\n",
            "[1. 0.]\n",
            "[1. 0.]\n",
            "[0. 1.]\n",
            "[0. 1.]\n",
            "[0. 1.]\n",
            "[0. 1.]\n",
            "[0. 1.]\n",
            "[1.1037958e-11 1.0000000e+00]\n",
            "[1. 0.]\n",
            "[3.0626527e-38 1.0000000e+00]\n",
            "[0. 1.]\n",
            "[3.1085123e-14 1.0000000e+00]\n",
            "[1.0000000e+00 1.4149899e-37]\n",
            "[1. 0.]\n",
            "[0. 1.]\n",
            "[0. 1.]\n",
            "[1. 0.]\n",
            "[1. 0.]\n",
            "[1. 0.]\n",
            "[6.569489e-20 1.000000e+00]\n",
            "[1. 0.]\n",
            "[4.0202996e-17 1.0000000e+00]\n",
            "[0. 1.]\n",
            "[1. 0.]\n",
            "[1. 0.]\n",
            "[1. 0.]\n",
            "[0. 1.]\n",
            "[0. 1.]\n",
            "[0. 1.]\n",
            "[1. 0.]\n",
            "[0. 1.]\n",
            "[1. 0.]\n",
            "[1.000000e+00 7.812926e-09]\n",
            "[1. 0.]\n",
            "[0. 1.]\n",
            "[1.00000e+00 9.60639e-37]\n",
            "[0. 1.]\n",
            "[0. 1.]\n",
            "[1. 0.]\n",
            "[2.7037813e-16 1.0000000e+00]\n",
            "[1. 0.]\n",
            "[1. 0.]\n",
            "[0. 1.]\n",
            "[1. 0.]\n",
            "[0. 1.]\n",
            "[1. 0.]\n",
            "[1. 0.]\n",
            "[0. 1.]\n",
            "[1. 0.]\n",
            "[1. 0.]\n",
            "[2.0318248e-31 1.0000000e+00]\n",
            "[5.4788662e-28 1.0000000e+00]\n",
            "[1. 0.]\n",
            "[0. 1.]\n",
            "[0. 1.]\n",
            "[0. 1.]\n",
            "[0. 1.]\n",
            "[1.0000000e+00 1.3012267e-19]\n",
            "[0. 1.]\n",
            "[1.7604372e-17 1.0000000e+00]\n",
            "[1.0000000e+00 2.8279603e-09]\n",
            "[1. 0.]\n",
            "[7.21306e-33 1.00000e+00]\n",
            "[0. 1.]\n",
            "[1. 0.]\n",
            "[0. 1.]\n",
            "[1.000000e+00 9.237085e-34]\n",
            "[1.0000000e+00 2.7318615e-35]\n",
            "[1. 0.]\n",
            "[1.0000000e+00 2.6758898e-18]\n",
            "[0. 1.]\n",
            "[0. 1.]\n",
            "[1. 0.]\n",
            "[9.9996448e-01 3.5561578e-05]\n",
            "[0. 1.]\n",
            "[1. 0.]\n",
            "[1. 0.]\n",
            "[0. 1.]\n",
            "[1.000000e+00 7.534388e-23]\n",
            "[1. 0.]\n",
            "[1.0000000e+00 1.5962465e-08]\n",
            "[1. 0.]\n",
            "[1. 0.]\n",
            "[1. 0.]\n",
            "[0. 1.]\n",
            "[4.8905794e-30 1.0000000e+00]\n",
            "[1. 0.]\n",
            "[0. 1.]\n",
            "[0. 1.]\n",
            "[1.00000000e+00 1.18167805e-14]\n",
            "[0. 1.]\n",
            "[1. 0.]\n",
            "[9.9999666e-01 3.3093440e-06]\n",
            "[0. 1.]\n",
            "[0. 1.]\n",
            "[0. 1.]\n",
            "[0. 1.]\n",
            "[0.00156957 0.99843043]\n",
            "[0. 1.]\n",
            "[1. 0.]\n",
            "[0. 1.]\n",
            "[0. 1.]\n",
            "[0. 1.]\n",
            "[1. 0.]\n",
            "[0. 1.]\n",
            "[0. 1.]\n",
            "[1.0000000e+00 5.2981825e-12]\n",
            "[1.0000e+00 9.1515e-13]\n",
            "[1. 0.]\n",
            "[1.0000000e+00 1.4283124e-14]\n",
            "[2.0204388e-17 1.0000000e+00]\n",
            "[1.0000000e+00 4.2229795e-10]\n",
            "[1.0000000e+00 1.1761028e-27]\n",
            "[3.463534e-05 9.999653e-01]\n",
            "[4.136302e-14 1.000000e+00]\n",
            "[1. 0.]\n",
            "[0. 1.]\n",
            "[0. 1.]\n",
            "[0. 1.]\n",
            "[0. 1.]\n",
            "[0. 1.]\n",
            "[1. 0.]\n",
            "[0. 1.]\n",
            "[1.0000000e+00 2.6497249e-17]\n",
            "[1. 0.]\n",
            "[3.3967446e-28 1.0000000e+00]\n",
            "[1.0000000e+00 1.5622666e-20]\n",
            "[0. 1.]\n",
            "[1. 0.]\n",
            "[0. 1.]\n",
            "[0. 1.]\n",
            "[1.00000e+00 4.84983e-33]\n",
            "[1. 0.]\n",
            "[0. 1.]\n",
            "[0.86667186 0.13332814]\n",
            "[0. 1.]\n",
            "[0. 1.]\n",
            "[9.536497e-09 1.000000e+00]\n",
            "[1. 0.]\n",
            "[6.5096297e-24 1.0000000e+00]\n",
            "[0. 1.]\n",
            "[0. 1.]\n",
            "[1.0679703e-33 1.0000000e+00]\n",
            "[6.9679144e-35 1.0000000e+00]\n",
            "[0. 1.]\n",
            "[1.00000000e+00 1.11986886e-32]\n",
            "[1. 0.]\n",
            "[2.0603649e-19 1.0000000e+00]\n",
            "[0. 1.]\n",
            "[1. 0.]\n",
            "[1. 0.]\n",
            "[0. 1.]\n",
            "[0. 1.]\n",
            "[4.6423674e-16 1.0000000e+00]\n",
            "[0. 1.]\n",
            "[0. 1.]\n",
            "[0. 1.]\n",
            "[0. 1.]\n",
            "[1.000000e+00 9.128595e-35]\n",
            "[0. 1.]\n",
            "[0. 1.]\n",
            "[0. 1.]\n",
            "[1. 0.]\n",
            "[0. 1.]\n",
            "[0. 1.]\n",
            "[1. 0.]\n",
            "[0. 1.]\n",
            "[0. 1.]\n",
            "[1. 0.]\n",
            "[1. 0.]\n",
            "[0. 1.]\n",
            "[1. 0.]\n",
            "[1.4190073e-13 1.0000000e+00]\n",
            "[0. 1.]\n",
            "[0.03940389 0.9605961 ]\n",
            "[0.4392822 0.5607178]\n",
            "[4.1138624e-18 1.0000000e+00]\n",
            "[0. 1.]\n",
            "[1. 0.]\n",
            "[1.0000000e+00 1.2166573e-35]\n"
          ],
          "name": "stdout"
        }
      ]
    },
    {
      "cell_type": "markdown",
      "metadata": {
        "id": "9a_WAXliLut8"
      },
      "source": [
        "#### Take a threshold of 0.5\n",
        "If the probability value is less than 0.5, the prediction is 0 (i.e. no intersection) else the prediction is 1 (i.e. intersection)\n",
        "\n",
        "Since the submission format is given as \n",
        "\n",
        "predictions = [0, 1, 1, 0, 0, 0, 1, 0, ......]\n",
        "\n",
        "here we will convert the probability values in the same format, i.e. if probability value is less than 0.5, the prediction will be 0 else the prediction will be 1"
      ]
    },
    {
      "cell_type": "code",
      "metadata": {
        "id": "3BB9EAnYLCCM"
      },
      "source": [
        "prediction = []\n",
        "for value in pred:\n",
        "  if value[1] < 0.5:\n",
        "    prediction.append(0)\n",
        "  else:\n",
        "    prediction.append(1)"
      ],
      "execution_count": 43,
      "outputs": []
    },
    {
      "cell_type": "code",
      "metadata": {
        "id": "yNYy6W1uMuVw",
        "colab": {
          "base_uri": "https://localhost:8080/"
        },
        "outputId": "c30a1981-9d6c-4acb-a461-a09f00bd1ded"
      },
      "source": [
        "prediction[0]"
      ],
      "execution_count": 44,
      "outputs": [
        {
          "output_type": "execute_result",
          "data": {
            "text/plain": [
              "1"
            ]
          },
          "metadata": {
            "tags": []
          },
          "execution_count": 44
        }
      ]
    },
    {
      "cell_type": "markdown",
      "metadata": {
        "id": "MldiDW9_M2GI"
      },
      "source": [
        "**Note: Follow the submission guidelines given in 'How To Submit' Section.**"
      ]
    },
    {
      "cell_type": "markdown",
      "metadata": {
        "id": "THaqbN4LM6YX"
      },
      "source": [
        "## **How to save prediciton results locally via jupyter notebook?**\n",
        "If you are working on Jupyter notebook, execute below block of codes. A file named 'submission.csv' will be created in your current working directory."
      ]
    },
    {
      "cell_type": "code",
      "metadata": {
        "id": "5I2wAC5RMwvJ"
      },
      "source": [
        "res = pd.DataFrame({'file_name': test_images['file_name'], 'prediction': prediction})  # prediction is nothing but the final predictions of your model on input features of your new unseen test data\n",
        "res.to_csv(\"submission.csv\", index = False)      # the csv file will be saved locally on the same location where this notebook is located."
      ],
      "execution_count": null,
      "outputs": []
    },
    {
      "cell_type": "markdown",
      "metadata": {
        "id": "fquFjyl6OfGz"
      },
      "source": [
        "# **OR,**\n",
        "**If you are working on Google Colab then use the below set of code to save prediction results locally**"
      ]
    },
    {
      "cell_type": "markdown",
      "metadata": {
        "id": "ILu2PfzNOqLx"
      },
      "source": [
        "## **How to save prediction results locally via colab notebook?**\n",
        "If you are working on Google Colab Notebook, execute below block of codes. A file named 'prediction_results' will be downloaded in your system."
      ]
    },
    {
      "cell_type": "code",
      "metadata": {
        "id": "FpcTFRw7NgXp",
        "colab": {
          "base_uri": "https://localhost:8080/",
          "height": 17
        },
        "outputId": "da0bafb0-8b4b-4f2a-d140-094fab69c738"
      },
      "source": [
        "#res = pd.DataFrame({'file_name': test_images['file_name'], 'prediction': prediction})  # prediction is nothing but the final predictions of your model on input features of your new unseen test data\n",
        "res = pd.DataFrame({ 'prediction': prediction})  # prediction is nothing but the final predictions of your model on input features of your new unseen test data\n",
        "\n",
        "res.to_csv(\"submission.csv\", index = False) \n",
        "\n",
        "# To download the csv file locally\n",
        "from google.colab import files        \n",
        "files.download('submission.csv')"
      ],
      "execution_count": 45,
      "outputs": [
        {
          "output_type": "display_data",
          "data": {
            "application/javascript": [
              "\n",
              "    async function download(id, filename, size) {\n",
              "      if (!google.colab.kernel.accessAllowed) {\n",
              "        return;\n",
              "      }\n",
              "      const div = document.createElement('div');\n",
              "      const label = document.createElement('label');\n",
              "      label.textContent = `Downloading \"${filename}\": `;\n",
              "      div.appendChild(label);\n",
              "      const progress = document.createElement('progress');\n",
              "      progress.max = size;\n",
              "      div.appendChild(progress);\n",
              "      document.body.appendChild(div);\n",
              "\n",
              "      const buffers = [];\n",
              "      let downloaded = 0;\n",
              "\n",
              "      const channel = await google.colab.kernel.comms.open(id);\n",
              "      // Send a message to notify the kernel that we're ready.\n",
              "      channel.send({})\n",
              "\n",
              "      for await (const message of channel.messages) {\n",
              "        // Send a message to notify the kernel that we're ready.\n",
              "        channel.send({})\n",
              "        if (message.buffers) {\n",
              "          for (const buffer of message.buffers) {\n",
              "            buffers.push(buffer);\n",
              "            downloaded += buffer.byteLength;\n",
              "            progress.value = downloaded;\n",
              "          }\n",
              "        }\n",
              "      }\n",
              "      const blob = new Blob(buffers, {type: 'application/binary'});\n",
              "      const a = document.createElement('a');\n",
              "      a.href = window.URL.createObjectURL(blob);\n",
              "      a.download = filename;\n",
              "      div.appendChild(a);\n",
              "      a.click();\n",
              "      div.remove();\n",
              "    }\n",
              "  "
            ],
            "text/plain": [
              "<IPython.core.display.Javascript object>"
            ]
          },
          "metadata": {
            "tags": []
          }
        },
        {
          "output_type": "display_data",
          "data": {
            "application/javascript": [
              "download(\"download_a7a0d0ef-9125-46aa-bf81-73c3152b83f9\", \"submission.csv\", 1457)"
            ],
            "text/plain": [
              "<IPython.core.display.Javascript object>"
            ]
          },
          "metadata": {
            "tags": []
          }
        }
      ]
    },
    {
      "cell_type": "markdown",
      "metadata": {
        "id": "NohZiMIkO_tX"
      },
      "source": [
        "# **Well Done! 👍**\n",
        "You are all set to make a submission. Let's head to the **[challenge page](https://dphi.tech/challenges/data-sprint-28/68/overview/about)** to make the submission."
      ]
    }
  ]
}