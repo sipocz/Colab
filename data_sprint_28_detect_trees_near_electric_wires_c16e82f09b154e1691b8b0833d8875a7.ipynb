{
  "nbformat": 4,
  "nbformat_minor": 0,
  "metadata": {
    "colab": {
      "name": "data-sprint-28-detect-trees-near-electric-wires-c16e82f09b154e1691b8b0833d8875a7.ipynb",
      "provenance": [],
      "collapsed_sections": [],
      "include_colab_link": true
    },
    "kernelspec": {
      "name": "python3",
      "display_name": "Python 3"
    },
    "accelerator": "GPU"
  },
  "cells": [
    {
      "cell_type": "markdown",
      "metadata": {
        "id": "view-in-github",
        "colab_type": "text"
      },
      "source": [
        "<a href=\"https://colab.research.google.com/github/sipocz/Colab/blob/main/data_sprint_28_detect_trees_near_electric_wires_c16e82f09b154e1691b8b0833d8875a7.ipynb\" target=\"_parent\"><img src=\"https://colab.research.google.com/assets/colab-badge.svg\" alt=\"Open In Colab\"/></a>"
      ]
    },
    {
      "cell_type": "markdown",
      "metadata": {
        "id": "M1H8q8USSAiH"
      },
      "source": [
        "![dphi banner](https://dphi-courses.s3.ap-south-1.amazonaws.com/Datathons/dphi_banner.png)"
      ]
    },
    {
      "cell_type": "markdown",
      "metadata": {
        "id": "RP4A14qISFCM"
      },
      "source": [
        "# **Getting Started Code For [Data Sprint #28](https://dphi.tech/challenges/data-sprint-28/68/overview/about) on DPhi**"
      ]
    },
    {
      "cell_type": "markdown",
      "metadata": {
        "id": "SfMK5FEhUGde"
      },
      "source": [
        "## Download the images\n",
        "We are given google drive link in the '[Data](https://dphi.tech/challenges/data-sprint-28/68/data)' section of problem page which has all the required train images (to build the model) and test images to predict the label of these images and submit the predictions on the [DPhi platform](https://dphi.tech/challenges/data-sprint-28/68/submit).\n",
        "\n",
        "We can use **GoogleDriveDownloader** form **google_drive_downloader** library in Python to download the shared files from the shared Google drive link: https://drive.google.com/file/d/1ahtCipPXsX9BVRWi6nDG13tr4b_rMY97/view?usp=sharing\n",
        "\n",
        "The file id in the above link is: **1ahtCipPXsX9BVRWi6nDG13tr4b_rMY97**"
      ]
    },
    {
      "cell_type": "code",
      "metadata": {
        "id": "5_1BysB4Re7f"
      },
      "source": [
        "from google_drive_downloader import GoogleDriveDownloader as gdd\n",
        "\n",
        "gdd.download_file_from_google_drive(file_id='1ahtCipPXsX9BVRWi6nDG13tr4b_rMY97',\n",
        "                                    dest_path='content/detect_trees_near_electric_wires.zip',\n",
        "                                    unzip=True)"
      ],
      "execution_count": 1,
      "outputs": []
    },
    {
      "cell_type": "markdown",
      "metadata": {
        "id": "SM_FDQgXbh_-"
      },
      "source": [
        "We have all the files from the shared Google drive link downloaded in the colab environment."
      ]
    },
    {
      "cell_type": "markdown",
      "metadata": {
        "id": "wsIqjb7Ebs3B"
      },
      "source": [
        "## Loading Libraries\n",
        "All Python capabilities are not loaded to our working environment by default (even they are already installed in your system). So, we import each and every library that we want to use.\n",
        "\n",
        "We chose alias names for our libraries for the sake of our convenience (numpy --> np and pandas --> pd, tensorlow --> tf).\n",
        "\n",
        "Note: You can import all the libraries that you think will be required or can import it as you go along."
      ]
    },
    {
      "cell_type": "code",
      "metadata": {
        "id": "BIe16kmoUmhr"
      },
      "source": [
        "import pandas as pd                                     # Data analysis and manipultion tool\n",
        "import numpy as np                                      # Fundamental package for linear algebra and multidimensional arrays\n",
        "import tensorflow as tf                                 # Deep Learning Tool\n",
        "import os                                               # OS module in Python provides a way of using operating system dependent functionality\n",
        "import cv2                                              # Library for image processing\n",
        "from sklearn.model_selection import train_test_split    # For splitting the data into train and validation set\n",
        "from sklearn.metrics import accuracy_score"
      ],
      "execution_count": 2,
      "outputs": []
    },
    {
      "cell_type": "markdown",
      "metadata": {
        "id": "IAXqCpedduVx"
      },
      "source": [
        "## Loading and preparing training data\n",
        "The train and test images are given in two different folders - 'train' and 'test'. The labels of train images are given in a csv file 'train.csv' with respective image id (i.e. image file name)."
      ]
    },
    {
      "cell_type": "markdown",
      "metadata": {
        "id": "Wjw1Z9Uqesey"
      },
      "source": [
        "#### Getting the labels of the images"
      ]
    },
    {
      "cell_type": "code",
      "metadata": {
        "id": "vMXmX8g3dflK",
        "colab": {
          "base_uri": "https://localhost:8080/",
          "height": 198
        },
        "outputId": "cdd95e65-b7b5-43ed-8731-6f4c419316ab"
      },
      "source": [
        "labels = pd.read_csv(\"/content/content/detect_trees_near_electric_wires/train.csv\")   # loading the labels\n",
        "labels.head()           # will display the first five rows in labels dataframe"
      ],
      "execution_count": 3,
      "outputs": [
        {
          "output_type": "execute_result",
          "data": {
            "text/html": [
              "<div>\n",
              "<style scoped>\n",
              "    .dataframe tbody tr th:only-of-type {\n",
              "        vertical-align: middle;\n",
              "    }\n",
              "\n",
              "    .dataframe tbody tr th {\n",
              "        vertical-align: top;\n",
              "    }\n",
              "\n",
              "    .dataframe thead th {\n",
              "        text-align: right;\n",
              "    }\n",
              "</style>\n",
              "<table border=\"1\" class=\"dataframe\">\n",
              "  <thead>\n",
              "    <tr style=\"text-align: right;\">\n",
              "      <th></th>\n",
              "      <th>file_name</th>\n",
              "      <th>Intersection</th>\n",
              "    </tr>\n",
              "  </thead>\n",
              "  <tbody>\n",
              "    <tr>\n",
              "      <th>0</th>\n",
              "      <td>Image_1.jpg</td>\n",
              "      <td>0</td>\n",
              "    </tr>\n",
              "    <tr>\n",
              "      <th>1</th>\n",
              "      <td>Image_2.jpg</td>\n",
              "      <td>1</td>\n",
              "    </tr>\n",
              "    <tr>\n",
              "      <th>2</th>\n",
              "      <td>Image_3.jpg</td>\n",
              "      <td>1</td>\n",
              "    </tr>\n",
              "    <tr>\n",
              "      <th>3</th>\n",
              "      <td>Image_4.jpg</td>\n",
              "      <td>1</td>\n",
              "    </tr>\n",
              "    <tr>\n",
              "      <th>4</th>\n",
              "      <td>Image_5.jpg</td>\n",
              "      <td>1</td>\n",
              "    </tr>\n",
              "  </tbody>\n",
              "</table>\n",
              "</div>"
            ],
            "text/plain": [
              "     file_name  Intersection\n",
              "0  Image_1.jpg             0\n",
              "1  Image_2.jpg             1\n",
              "2  Image_3.jpg             1\n",
              "3  Image_4.jpg             1\n",
              "4  Image_5.jpg             1"
            ]
          },
          "metadata": {
            "tags": []
          },
          "execution_count": 3
        }
      ]
    },
    {
      "cell_type": "code",
      "metadata": {
        "id": "FldofLw1fCxI",
        "colab": {
          "base_uri": "https://localhost:8080/",
          "height": 198
        },
        "outputId": "53b21ab4-c8da-4a6a-83c4-bfde20f60eb6"
      },
      "source": [
        "labels.tail()            # will display the last five rows in labels dataframe"
      ],
      "execution_count": 4,
      "outputs": [
        {
          "output_type": "execute_result",
          "data": {
            "text/html": [
              "<div>\n",
              "<style scoped>\n",
              "    .dataframe tbody tr th:only-of-type {\n",
              "        vertical-align: middle;\n",
              "    }\n",
              "\n",
              "    .dataframe tbody tr th {\n",
              "        vertical-align: top;\n",
              "    }\n",
              "\n",
              "    .dataframe thead th {\n",
              "        text-align: right;\n",
              "    }\n",
              "</style>\n",
              "<table border=\"1\" class=\"dataframe\">\n",
              "  <thead>\n",
              "    <tr style=\"text-align: right;\">\n",
              "      <th></th>\n",
              "      <th>file_name</th>\n",
              "      <th>Intersection</th>\n",
              "    </tr>\n",
              "  </thead>\n",
              "  <tbody>\n",
              "    <tr>\n",
              "      <th>1437</th>\n",
              "      <td>Image_1438.jpg</td>\n",
              "      <td>1</td>\n",
              "    </tr>\n",
              "    <tr>\n",
              "      <th>1438</th>\n",
              "      <td>Image_1439.jpg</td>\n",
              "      <td>0</td>\n",
              "    </tr>\n",
              "    <tr>\n",
              "      <th>1439</th>\n",
              "      <td>Image_1440.jpg</td>\n",
              "      <td>1</td>\n",
              "    </tr>\n",
              "    <tr>\n",
              "      <th>1440</th>\n",
              "      <td>Image_1441.jpg</td>\n",
              "      <td>0</td>\n",
              "    </tr>\n",
              "    <tr>\n",
              "      <th>1441</th>\n",
              "      <td>Image_1442.jpg</td>\n",
              "      <td>1</td>\n",
              "    </tr>\n",
              "  </tbody>\n",
              "</table>\n",
              "</div>"
            ],
            "text/plain": [
              "           file_name  Intersection\n",
              "1437  Image_1438.jpg             1\n",
              "1438  Image_1439.jpg             0\n",
              "1439  Image_1440.jpg             1\n",
              "1440  Image_1441.jpg             0\n",
              "1441  Image_1442.jpg             1"
            ]
          },
          "metadata": {
            "tags": []
          },
          "execution_count": 4
        }
      ]
    },
    {
      "cell_type": "markdown",
      "metadata": {
        "id": "S-bMgFBIfUdP"
      },
      "source": [
        "#### Getting images file path"
      ]
    },
    {
      "cell_type": "code",
      "metadata": {
        "id": "xdsON8gZfKIV"
      },
      "source": [
        "file_paths = [[fname, '/content/content/detect_trees_near_electric_wires/train/' + fname] for fname in labels['file_name']]"
      ],
      "execution_count": 5,
      "outputs": []
    },
    {
      "cell_type": "markdown",
      "metadata": {
        "id": "q9Noguhprcf2"
      },
      "source": [
        "#### Confirming if no. of labels is equal to no. of images"
      ]
    },
    {
      "cell_type": "code",
      "metadata": {
        "id": "N4YrF-s1rWla",
        "colab": {
          "base_uri": "https://localhost:8080/"
        },
        "outputId": "a5a9e9a5-ecc7-419d-fe27-b6c254b8fcfe"
      },
      "source": [
        "# Confirm if number of images is same as number of labels given\n",
        "if len(labels) == len(file_paths):\n",
        "    print('Number of labels i.e. ', len(labels), 'matches the number of filenames i.e. ', len(file_paths))\n",
        "else:\n",
        "    print('Number of labels does not match the number of filenames')"
      ],
      "execution_count": 6,
      "outputs": [
        {
          "output_type": "stream",
          "text": [
            "Number of labels i.e.  1442 matches the number of filenames i.e.  1442\n"
          ],
          "name": "stdout"
        }
      ]
    },
    {
      "cell_type": "markdown",
      "metadata": {
        "id": "Wx2t_cLSr3Jm"
      },
      "source": [
        "#### Converting the file_paths to dataframe"
      ]
    },
    {
      "cell_type": "code",
      "metadata": {
        "id": "PE8c0cgkrpOO",
        "colab": {
          "base_uri": "https://localhost:8080/",
          "height": 198
        },
        "outputId": "264acff6-1647-4bc6-efc7-5d51a525a350"
      },
      "source": [
        "images = pd.DataFrame(file_paths, columns=['file_name', 'filepaths'])\n",
        "images.head()"
      ],
      "execution_count": 7,
      "outputs": [
        {
          "output_type": "execute_result",
          "data": {
            "text/html": [
              "<div>\n",
              "<style scoped>\n",
              "    .dataframe tbody tr th:only-of-type {\n",
              "        vertical-align: middle;\n",
              "    }\n",
              "\n",
              "    .dataframe tbody tr th {\n",
              "        vertical-align: top;\n",
              "    }\n",
              "\n",
              "    .dataframe thead th {\n",
              "        text-align: right;\n",
              "    }\n",
              "</style>\n",
              "<table border=\"1\" class=\"dataframe\">\n",
              "  <thead>\n",
              "    <tr style=\"text-align: right;\">\n",
              "      <th></th>\n",
              "      <th>file_name</th>\n",
              "      <th>filepaths</th>\n",
              "    </tr>\n",
              "  </thead>\n",
              "  <tbody>\n",
              "    <tr>\n",
              "      <th>0</th>\n",
              "      <td>Image_1.jpg</td>\n",
              "      <td>/content/content/detect_trees_near_electric_wi...</td>\n",
              "    </tr>\n",
              "    <tr>\n",
              "      <th>1</th>\n",
              "      <td>Image_2.jpg</td>\n",
              "      <td>/content/content/detect_trees_near_electric_wi...</td>\n",
              "    </tr>\n",
              "    <tr>\n",
              "      <th>2</th>\n",
              "      <td>Image_3.jpg</td>\n",
              "      <td>/content/content/detect_trees_near_electric_wi...</td>\n",
              "    </tr>\n",
              "    <tr>\n",
              "      <th>3</th>\n",
              "      <td>Image_4.jpg</td>\n",
              "      <td>/content/content/detect_trees_near_electric_wi...</td>\n",
              "    </tr>\n",
              "    <tr>\n",
              "      <th>4</th>\n",
              "      <td>Image_5.jpg</td>\n",
              "      <td>/content/content/detect_trees_near_electric_wi...</td>\n",
              "    </tr>\n",
              "  </tbody>\n",
              "</table>\n",
              "</div>"
            ],
            "text/plain": [
              "     file_name                                          filepaths\n",
              "0  Image_1.jpg  /content/content/detect_trees_near_electric_wi...\n",
              "1  Image_2.jpg  /content/content/detect_trees_near_electric_wi...\n",
              "2  Image_3.jpg  /content/content/detect_trees_near_electric_wi...\n",
              "3  Image_4.jpg  /content/content/detect_trees_near_electric_wi...\n",
              "4  Image_5.jpg  /content/content/detect_trees_near_electric_wi..."
            ]
          },
          "metadata": {
            "tags": []
          },
          "execution_count": 7
        }
      ]
    },
    {
      "cell_type": "markdown",
      "metadata": {
        "id": "nSDPZsA2sM5n"
      },
      "source": [
        "#### Combining the labels with the images"
      ]
    },
    {
      "cell_type": "code",
      "metadata": {
        "id": "y8CNnxxzsG56",
        "colab": {
          "base_uri": "https://localhost:8080/",
          "height": 198
        },
        "outputId": "411a9171-9212-4900-c520-f38ec1273019"
      },
      "source": [
        "train_data = pd.merge(images, labels, how = 'inner', on = 'file_name')\n",
        "train_data.head()       "
      ],
      "execution_count": 8,
      "outputs": [
        {
          "output_type": "execute_result",
          "data": {
            "text/html": [
              "<div>\n",
              "<style scoped>\n",
              "    .dataframe tbody tr th:only-of-type {\n",
              "        vertical-align: middle;\n",
              "    }\n",
              "\n",
              "    .dataframe tbody tr th {\n",
              "        vertical-align: top;\n",
              "    }\n",
              "\n",
              "    .dataframe thead th {\n",
              "        text-align: right;\n",
              "    }\n",
              "</style>\n",
              "<table border=\"1\" class=\"dataframe\">\n",
              "  <thead>\n",
              "    <tr style=\"text-align: right;\">\n",
              "      <th></th>\n",
              "      <th>file_name</th>\n",
              "      <th>filepaths</th>\n",
              "      <th>Intersection</th>\n",
              "    </tr>\n",
              "  </thead>\n",
              "  <tbody>\n",
              "    <tr>\n",
              "      <th>0</th>\n",
              "      <td>Image_1.jpg</td>\n",
              "      <td>/content/content/detect_trees_near_electric_wi...</td>\n",
              "      <td>0</td>\n",
              "    </tr>\n",
              "    <tr>\n",
              "      <th>1</th>\n",
              "      <td>Image_2.jpg</td>\n",
              "      <td>/content/content/detect_trees_near_electric_wi...</td>\n",
              "      <td>1</td>\n",
              "    </tr>\n",
              "    <tr>\n",
              "      <th>2</th>\n",
              "      <td>Image_3.jpg</td>\n",
              "      <td>/content/content/detect_trees_near_electric_wi...</td>\n",
              "      <td>1</td>\n",
              "    </tr>\n",
              "    <tr>\n",
              "      <th>3</th>\n",
              "      <td>Image_4.jpg</td>\n",
              "      <td>/content/content/detect_trees_near_electric_wi...</td>\n",
              "      <td>1</td>\n",
              "    </tr>\n",
              "    <tr>\n",
              "      <th>4</th>\n",
              "      <td>Image_5.jpg</td>\n",
              "      <td>/content/content/detect_trees_near_electric_wi...</td>\n",
              "      <td>1</td>\n",
              "    </tr>\n",
              "  </tbody>\n",
              "</table>\n",
              "</div>"
            ],
            "text/plain": [
              "     file_name                                          filepaths  Intersection\n",
              "0  Image_1.jpg  /content/content/detect_trees_near_electric_wi...             0\n",
              "1  Image_2.jpg  /content/content/detect_trees_near_electric_wi...             1\n",
              "2  Image_3.jpg  /content/content/detect_trees_near_electric_wi...             1\n",
              "3  Image_4.jpg  /content/content/detect_trees_near_electric_wi...             1\n",
              "4  Image_5.jpg  /content/content/detect_trees_near_electric_wi...             1"
            ]
          },
          "metadata": {
            "tags": []
          },
          "execution_count": 8
        }
      ]
    },
    {
      "cell_type": "markdown",
      "metadata": {
        "id": "znobaA5KsXgp"
      },
      "source": [
        "The 'train_data' dataframe contains all the image id, their locations and their respective labels. Now the training data is ready."
      ]
    },
    {
      "cell_type": "markdown",
      "metadata": {
        "id": "BvIxaRD6sn3m"
      },
      "source": [
        "## Data Pre-processing\n",
        "It is necessary to bring all the images in the same shape and size, also convert them to their pixel values because all machine learning or deep learning models accepts only the numerical data. Also we need to convert all the labels from categorical to numerical values."
      ]
    },
    {
      "cell_type": "code",
      "metadata": {
        "id": "vxPiZCLpsWrd"
      },
      "source": [
        "data = []     # initialize an empty numpy array\n",
        "image_size = 100      # image size taken is 100 here. one can take other size too\n",
        "for i in range(len(train_data)):\n",
        "  \n",
        "  img_array = cv2.imread(train_data['filepaths'][i], cv2.IMREAD_GRAYSCALE)   # converting the image to gray scale\n",
        "\n",
        "  new_img_array = cv2.resize(img_array, (image_size, image_size))      # resizing the image array\n",
        "  data.append([new_img_array, train_data['Intersection'][i]])"
      ],
      "execution_count": 9,
      "outputs": []
    },
    {
      "cell_type": "code",
      "metadata": {
        "id": "LOpf3gvXwbT5",
        "colab": {
          "base_uri": "https://localhost:8080/"
        },
        "outputId": "0c50bd25-e052-4a08-e2f1-485b75f8637d"
      },
      "source": [
        "\n",
        "# image pixels of a image\n",
        "data[0]"
      ],
      "execution_count": 10,
      "outputs": [
        {
          "output_type": "execute_result",
          "data": {
            "text/plain": [
              "[array([[198, 197, 196, ...,  51, 236, 253],\n",
              "        [198, 198, 199, ..., 212, 193, 154],\n",
              "        [199, 199, 200, ..., 102, 108, 113],\n",
              "        ...,\n",
              "        [136, 190,  55, ..., 105, 117, 115],\n",
              "        [137, 248,  94, ...,  28,  67,  85],\n",
              "        [146, 143, 128, ...,  37,  40,  35]], dtype=uint8), 0]"
            ]
          },
          "metadata": {
            "tags": []
          },
          "execution_count": 10
        }
      ]
    },
    {
      "cell_type": "markdown",
      "metadata": {
        "id": "T6A7CNrU196Q"
      },
      "source": [
        "#### Shuffle the data"
      ]
    },
    {
      "cell_type": "code",
      "metadata": {
        "id": "XDs6fWy92qEq"
      },
      "source": [
        "np.random.shuffle(data)"
      ],
      "execution_count": 11,
      "outputs": []
    },
    {
      "cell_type": "markdown",
      "metadata": {
        "id": "YFMN0ZkA5H-F"
      },
      "source": [
        "#### Separating the images and labels\n"
      ]
    },
    {
      "cell_type": "code",
      "metadata": {
        "id": "2KoW9Pfq5NiB"
      },
      "source": [
        "xx = []\n",
        "yy = []\n",
        "for image in data:\n",
        "  xx.append(image[0])\n",
        "  yy.append(image[1])\n",
        "\n",
        "# converting x & y to numpy array as they are list\n",
        "xx = np.array(xx)\n",
        "yy = np.array(yy)"
      ],
      "execution_count": 12,
      "outputs": []
    },
    {
      "cell_type": "code",
      "metadata": {
        "id": "t39WpMhaepOg",
        "colab": {
          "base_uri": "https://localhost:8080/"
        },
        "outputId": "77bc97bf-a301-413f-e083-3e9e60a4aba3"
      },
      "source": [
        "np.unique(yy, return_counts=True)"
      ],
      "execution_count": 13,
      "outputs": [
        {
          "output_type": "execute_result",
          "data": {
            "text/plain": [
              "(array([0, 1]), array([616, 826]))"
            ]
          },
          "metadata": {
            "tags": []
          },
          "execution_count": 13
        }
      ]
    },
    {
      "cell_type": "markdown",
      "metadata": {
        "id": "OeuKjzVg7NSb"
      },
      "source": [
        "#### Splitting the data into Train and Validation Set\n",
        "We want to check the performance of the model that we built. For this purpose, we always split (both independent and dependent data) the given data into training set which will be used to train the model, and test set which will be used to check how accurately the model is predicting outcomes.\n",
        "\n",
        "For this purpose we have a class called 'train_test_split' in the 'sklearn.model_selection' module."
      ]
    },
    {
      "cell_type": "code",
      "metadata": {
        "id": "mBtGJmZj55SE"
      },
      "source": [
        "# split the data\n",
        "X_train_o, X_val_o, y_train_o, y_val_o = train_test_split(xx,yy,test_size=0.1, random_state = 132)\n",
        "\n",
        "X_train=X_train_o / 255\n",
        "y_train=y_train_o\n",
        "X_val=X_val_o / 255\n",
        "y_val=y_val_o\n",
        "\n"
      ],
      "execution_count": 14,
      "outputs": []
    },
    {
      "cell_type": "code",
      "metadata": {
        "colab": {
          "base_uri": "https://localhost:8080/"
        },
        "id": "FudolHSbfeF0",
        "outputId": "515a665a-d4e9-42e5-fd47-b6ec339e82a2"
      },
      "source": [
        "X_val.shape"
      ],
      "execution_count": 15,
      "outputs": [
        {
          "output_type": "execute_result",
          "data": {
            "text/plain": [
              "(145, 100, 100)"
            ]
          },
          "metadata": {
            "tags": []
          },
          "execution_count": 15
        }
      ]
    },
    {
      "cell_type": "markdown",
      "metadata": {
        "id": "cDCZ53yE7340"
      },
      "source": [
        "## Building Model\n",
        "Now we are finally ready, and we can train the model.\n",
        "\n",
        "There are many machine learning or deep learning models like Random Forest, Decision Tree, Multi-Layer Perceptron (MLP), Convolution Neural Network (CNN), etc. to say you some.\n",
        "\n",
        "\n",
        "Then we would feed the model both with the data (X_train) and the answers for that data (y_train)"
      ]
    },
    {
      "cell_type": "code",
      "metadata": {
        "id": "SHxM0FxSMZRb"
      },
      "source": [
        ""
      ],
      "execution_count": 15,
      "outputs": []
    },
    {
      "cell_type": "code",
      "metadata": {
        "colab": {
          "base_uri": "https://localhost:8080/"
        },
        "id": "-_9FTwooL4n-",
        "outputId": "267143f7-48e3-48d9-8ee5-762e0cdedb84"
      },
      "source": [
        "!pip install tensorflow-addons\n",
        "import tensorflow_addons as tfa"
      ],
      "execution_count": 16,
      "outputs": [
        {
          "output_type": "stream",
          "text": [
            "Requirement already satisfied: tensorflow-addons in /usr/local/lib/python3.7/dist-packages (0.12.1)\n",
            "Requirement already satisfied: typeguard>=2.7 in /usr/local/lib/python3.7/dist-packages (from tensorflow-addons) (2.7.1)\n"
          ],
          "name": "stdout"
        }
      ]
    },
    {
      "cell_type": "code",
      "metadata": {
        "id": "r-thckmcOdv0"
      },
      "source": [
        "from tensorflow.keras.layers import Input, Dense, Dropout, Conv2D, MaxPool2D, Flatten\n",
        "from tensorflow.keras.models import Model"
      ],
      "execution_count": 17,
      "outputs": []
    },
    {
      "cell_type": "code",
      "metadata": {
        "id": "Zcv3O8CkQvlK"
      },
      "source": [
        "tf.Variable.initializer\n",
        "dropout_rate_1=0.05\n",
        "dropout_rate_2=0.56 # 0,5 \n",
        "n_classes=1\n"
      ],
      "execution_count": 18,
      "outputs": []
    },
    {
      "cell_type": "code",
      "metadata": {
        "id": "lxWsfHLk70FV"
      },
      "source": [
        "\n",
        "# Defining the model\n",
        "\n",
        "\n",
        "\n",
        "\n",
        "x = Input(shape=(image_size,image_size,1))\n",
        "\n",
        "conv1 = Conv2D(filters=64,\n",
        "                kernel_size=[5, 5],\n",
        "                padding=\"same\",\n",
        "                activation=\"relu\")(x)\n",
        "\n",
        "pool1 = MaxPool2D(pool_size=[1, 1], strides=1)(conv1)\n",
        "dropout1 = Dropout(rate=dropout_rate_1)(pool1)\n",
        "\n",
        "conv2 = Conv2D(filters=64,\n",
        "               kernel_size=[2, 2],\n",
        "               padding=\"same\",\n",
        "               activation=\"relu\")(dropout1)\n",
        "\n",
        "pool2 = MaxPool2D(pool_size=[1, 1], strides=1)(conv2)               \n",
        "\n",
        "dropout2 = Dropout(rate=dropout_rate_1)(pool2)\n",
        "\n",
        "pool2_flat = Flatten()(dropout2)\n",
        "\n",
        "dense1 = Dense(units=100, activation=\"relu\")(pool2_flat)\n",
        "dropout3 = Dropout(rate=dropout_rate_2)(dense1)\n",
        "\n",
        "dense2 = Dense(units=70, activation=\"relu\")(dropout3)\n",
        "dropout4 = Dropout(rate=dropout_rate_2)(dense2)\n",
        "\n",
        "predictions = Dense(units = 2, activation='softmax')(dropout4)\n",
        "\n",
        "model = Model(inputs=x, outputs=predictions)\n",
        "\n",
        "opt = tf.keras.optimizers.Adamax(learning_rate=0.0001)\n",
        "optimizer = tfa.optimizers.Lookahead(opt)\n",
        "\n",
        "model.compile(optimizer=optimizer,\n",
        "              loss='sparse_categorical_crossentropy',\n",
        "              metrics=['accuracy'])\n",
        "\n"
      ],
      "execution_count": 19,
      "outputs": []
    },
    {
      "cell_type": "code",
      "metadata": {
        "colab": {
          "base_uri": "https://localhost:8080/"
        },
        "id": "JtROva0HkApg",
        "outputId": "81ac9dc9-9456-4bf5-9d78-4237996f66f2"
      },
      "source": [
        "model.summary()\n",
        "#model=\"\""
      ],
      "execution_count": 20,
      "outputs": [
        {
          "output_type": "stream",
          "text": [
            "Model: \"model\"\n",
            "_________________________________________________________________\n",
            "Layer (type)                 Output Shape              Param #   \n",
            "=================================================================\n",
            "input_1 (InputLayer)         [(None, 100, 100, 1)]     0         \n",
            "_________________________________________________________________\n",
            "conv2d (Conv2D)              (None, 100, 100, 64)      1664      \n",
            "_________________________________________________________________\n",
            "max_pooling2d (MaxPooling2D) (None, 100, 100, 64)      0         \n",
            "_________________________________________________________________\n",
            "dropout (Dropout)            (None, 100, 100, 64)      0         \n",
            "_________________________________________________________________\n",
            "conv2d_1 (Conv2D)            (None, 100, 100, 64)      16448     \n",
            "_________________________________________________________________\n",
            "max_pooling2d_1 (MaxPooling2 (None, 100, 100, 64)      0         \n",
            "_________________________________________________________________\n",
            "dropout_1 (Dropout)          (None, 100, 100, 64)      0         \n",
            "_________________________________________________________________\n",
            "flatten (Flatten)            (None, 640000)            0         \n",
            "_________________________________________________________________\n",
            "dense (Dense)                (None, 100)               64000100  \n",
            "_________________________________________________________________\n",
            "dropout_2 (Dropout)          (None, 100)               0         \n",
            "_________________________________________________________________\n",
            "dense_1 (Dense)              (None, 70)                7070      \n",
            "_________________________________________________________________\n",
            "dropout_3 (Dropout)          (None, 70)                0         \n",
            "_________________________________________________________________\n",
            "dense_2 (Dense)              (None, 2)                 142       \n",
            "=================================================================\n",
            "Total params: 64,025,424\n",
            "Trainable params: 64,025,424\n",
            "Non-trainable params: 0\n",
            "_________________________________________________________________\n"
          ],
          "name": "stdout"
        }
      ]
    },
    {
      "cell_type": "code",
      "metadata": {
        "colab": {
          "base_uri": "https://localhost:8080/"
        },
        "id": "QdBt_wZXbGYH",
        "outputId": "5acd7a57-1f1f-4de0-ad45-f9b86e221f07"
      },
      "source": [
        "y_val.shape"
      ],
      "execution_count": 21,
      "outputs": [
        {
          "output_type": "execute_result",
          "data": {
            "text/plain": [
              "(145,)"
            ]
          },
          "metadata": {
            "tags": []
          },
          "execution_count": 21
        }
      ]
    },
    {
      "cell_type": "code",
      "metadata": {
        "colab": {
          "base_uri": "https://localhost:8080/"
        },
        "id": "ZYeWwrpTPe9q",
        "outputId": "272cf847-ab91-482e-9e2a-cc929d3d487e"
      },
      "source": [
        "model.fit(X_train, y_train, epochs=80, batch_size=5,validation_data=(X_val,y_val))"
      ],
      "execution_count": null,
      "outputs": [
        {
          "output_type": "stream",
          "text": [
            "Epoch 1/80\n",
            "260/260 [==============================] - 15s 44ms/step - loss: 0.8587 - accuracy: 0.5017 - val_loss: 0.6929 - val_accuracy: 0.5379\n",
            "Epoch 2/80\n",
            "260/260 [==============================] - 11s 42ms/step - loss: 0.6931 - accuracy: 0.5932 - val_loss: 0.6926 - val_accuracy: 0.5379\n",
            "Epoch 3/80\n",
            "260/260 [==============================] - 11s 42ms/step - loss: 0.6916 - accuracy: 0.5881 - val_loss: 0.6923 - val_accuracy: 0.5379\n",
            "Epoch 4/80\n",
            "260/260 [==============================] - 11s 42ms/step - loss: 0.6909 - accuracy: 0.5827 - val_loss: 0.6920 - val_accuracy: 0.5379\n",
            "Epoch 5/80\n",
            "260/260 [==============================] - 11s 42ms/step - loss: 0.6904 - accuracy: 0.5818 - val_loss: 0.6917 - val_accuracy: 0.5379\n",
            "Epoch 6/80\n",
            "260/260 [==============================] - 11s 42ms/step - loss: 0.6911 - accuracy: 0.5645 - val_loss: 0.6915 - val_accuracy: 0.5379\n",
            "Epoch 7/80\n",
            "260/260 [==============================] - 11s 42ms/step - loss: 0.6895 - accuracy: 0.5749 - val_loss: 0.6914 - val_accuracy: 0.5379\n",
            "Epoch 8/80\n",
            "260/260 [==============================] - 11s 42ms/step - loss: 0.6882 - accuracy: 0.5888 - val_loss: 0.6912 - val_accuracy: 0.5379\n",
            "Epoch 9/80\n",
            "260/260 [==============================] - 11s 42ms/step - loss: 0.6892 - accuracy: 0.5638 - val_loss: 0.6910 - val_accuracy: 0.5379\n",
            "Epoch 10/80\n",
            "260/260 [==============================] - 11s 42ms/step - loss: 0.6873 - accuracy: 0.5898 - val_loss: 0.6909 - val_accuracy: 0.5379\n",
            "Epoch 11/80\n",
            "260/260 [==============================] - 11s 42ms/step - loss: 0.6879 - accuracy: 0.5755 - val_loss: 0.6908 - val_accuracy: 0.5379\n",
            "Epoch 12/80\n",
            "260/260 [==============================] - 11s 42ms/step - loss: 0.6852 - accuracy: 0.5976 - val_loss: 0.6906 - val_accuracy: 0.5379\n",
            "Epoch 13/80\n",
            "260/260 [==============================] - 11s 42ms/step - loss: 0.6879 - accuracy: 0.5663 - val_loss: 0.6906 - val_accuracy: 0.5379\n",
            "Epoch 14/80\n",
            "260/260 [==============================] - 11s 42ms/step - loss: 0.6882 - accuracy: 0.5597 - val_loss: 0.6905 - val_accuracy: 0.5379\n",
            "Epoch 15/80\n",
            "260/260 [==============================] - 11s 42ms/step - loss: 0.6835 - accuracy: 0.5966 - val_loss: 0.6904 - val_accuracy: 0.5379\n",
            "Epoch 16/80\n",
            "260/260 [==============================] - 11s 42ms/step - loss: 0.6851 - accuracy: 0.5874 - val_loss: 0.6904 - val_accuracy: 0.5379\n",
            "Epoch 17/80\n",
            "260/260 [==============================] - 11s 43ms/step - loss: 0.6870 - accuracy: 0.5671 - val_loss: 0.6903 - val_accuracy: 0.5379\n",
            "Epoch 18/80\n",
            "260/260 [==============================] - 11s 42ms/step - loss: 0.6843 - accuracy: 0.5832 - val_loss: 0.6903 - val_accuracy: 0.5379\n",
            "Epoch 19/80\n",
            "260/260 [==============================] - 11s 42ms/step - loss: 0.6873 - accuracy: 0.5626 - val_loss: 0.6903 - val_accuracy: 0.5379\n",
            "Epoch 20/80\n",
            "260/260 [==============================] - 11s 42ms/step - loss: 0.6852 - accuracy: 0.5722 - val_loss: 0.6903 - val_accuracy: 0.5379\n",
            "Epoch 21/80\n",
            "260/260 [==============================] - 11s 43ms/step - loss: 0.6849 - accuracy: 0.5801 - val_loss: 0.6903 - val_accuracy: 0.5379\n",
            "Epoch 22/80\n",
            "155/260 [================>.............] - ETA: 4s - loss: 0.6842 - accuracy: 0.5797"
          ],
          "name": "stdout"
        }
      ]
    },
    {
      "cell_type": "code",
      "metadata": {
        "id": "XB29h6lRKPEr"
      },
      "source": [
        ""
      ],
      "execution_count": null,
      "outputs": []
    },
    {
      "cell_type": "code",
      "metadata": {
        "id": "ffhngH-5KOw7"
      },
      "source": [
        ""
      ],
      "execution_count": null,
      "outputs": []
    },
    {
      "cell_type": "markdown",
      "metadata": {
        "id": "tc3lSJ2a-OYt"
      },
      "source": [
        "## Validate the model\n",
        "Wonder🤔 how well your model learned! Lets check its performance on the X_val data."
      ]
    },
    {
      "cell_type": "code",
      "metadata": {
        "id": "FdJu9D4l4QHO"
      },
      "source": [
        "model.evaluate(X_val, y_val)"
      ],
      "execution_count": null,
      "outputs": []
    },
    {
      "cell_type": "markdown",
      "metadata": {
        "id": "kLrpm-If-lRT"
      },
      "source": [
        "## Predict The Output For Testing Dataset 😅\n",
        "We have trained our model, evaluated it and now finally we will predict the output/target for the testing data (i.e. Testing_set_covid.csv)."
      ]
    },
    {
      "cell_type": "markdown",
      "metadata": {
        "id": "nG70J6Un-s2G"
      },
      "source": [
        "#### Load Test Set\n",
        "Load the test data on which final submission is to be made."
      ]
    },
    {
      "cell_type": "code",
      "metadata": {
        "id": "iji8OaFF-fSp"
      },
      "source": [
        "# Loading the order of the image's name that has been provided\n",
        "test_image_order = pd.read_csv(\"/content/content/detect_trees_near_electric_wires/Test.csv\")\n",
        "test_image_order.head()"
      ],
      "execution_count": null,
      "outputs": []
    },
    {
      "cell_type": "markdown",
      "metadata": {
        "id": "XhszUWXEAABu"
      },
      "source": [
        "#### Getting images file path"
      ]
    },
    {
      "cell_type": "code",
      "metadata": {
        "id": "657fCek3_IhD"
      },
      "source": [
        "file_paths = [[fname, '/content/content/detect_trees_near_electric_wires/test/' + fname] for fname in test_image_order['file_name']]"
      ],
      "execution_count": null,
      "outputs": []
    },
    {
      "cell_type": "markdown",
      "metadata": {
        "id": "xmrgyltpALYg"
      },
      "source": [
        "#### Confirm if number of images in test folder is same as number of image names in 'Test.csv'"
      ]
    },
    {
      "cell_type": "code",
      "metadata": {
        "id": "telGIa0JADdO"
      },
      "source": [
        "# Confirm if number of images is same as number of labels given\n",
        "if len(test_image_order) == len(file_paths):\n",
        "    print('Number of image names i.e. ', len(test_image_order), 'matches the number of file paths i.e. ', len(file_paths))\n",
        "else:\n",
        "    print('Number of image names does not match the number of filepaths')"
      ],
      "execution_count": null,
      "outputs": []
    },
    {
      "cell_type": "markdown",
      "metadata": {
        "id": "Wsa94YfqBInJ"
      },
      "source": [
        "#### Converting the file_paths to dataframe"
      ]
    },
    {
      "cell_type": "code",
      "metadata": {
        "id": "3nH9rUnQBSnf"
      },
      "source": [
        "test_images = pd.DataFrame(file_paths, columns=['file_name', 'filepaths'])\n",
        "test_images.head()"
      ],
      "execution_count": null,
      "outputs": []
    },
    {
      "cell_type": "markdown",
      "metadata": {
        "id": "ZqSujaW0CRi9"
      },
      "source": [
        "## Data Pre-processing on test_data\n"
      ]
    },
    {
      "cell_type": "code",
      "metadata": {
        "id": "ZUQWlDrjH4Pe"
      },
      "source": [
        "image_size=100"
      ],
      "execution_count": null,
      "outputs": []
    },
    {
      "cell_type": "code",
      "metadata": {
        "id": "Wy7-NZ7TCiSQ"
      },
      "source": [
        "test_pixel_data = []     # initialize an empty numpy array\n",
        "     # image size taken is 100 here. one can take other size too\n",
        "for i in range(len(test_images)):\n",
        "  \n",
        "  img_array = cv2.imread(test_images['filepaths'][i],cv2.IMREAD_GRAYSCALE)   # converting the image to gray scale\n",
        "\n",
        "  new_img_array = cv2.resize(img_array, (image_size, image_size))      # resizing the image array\n",
        "\n",
        "  test_pixel_data.append(new_img_array)"
      ],
      "execution_count": null,
      "outputs": []
    },
    {
      "cell_type": "code",
      "metadata": {
        "id": "7KNDswlffvYq"
      },
      "source": [
        "test_pixel_data = np.array(test_pixel_data)"
      ],
      "execution_count": null,
      "outputs": []
    },
    {
      "cell_type": "markdown",
      "metadata": {
        "id": "AxtDS6-0J0s2"
      },
      "source": [
        "### Make Prediction on Test Dataset\n",
        "Time to make a submission!!!"
      ]
    },
    {
      "cell_type": "code",
      "metadata": {
        "id": "yXLCDKVrJuzY"
      },
      "source": [
        "pred = model.predict(test_pixel_data)"
      ],
      "execution_count": null,
      "outputs": []
    },
    {
      "cell_type": "code",
      "metadata": {
        "id": "MYeK05BHLAen"
      },
      "source": [
        "# The predicted values are the probabilities value\n",
        "for i in pred:\n",
        "    print(i)"
      ],
      "execution_count": null,
      "outputs": []
    },
    {
      "cell_type": "markdown",
      "metadata": {
        "id": "9a_WAXliLut8"
      },
      "source": [
        "#### Take a threshold of 0.5\n",
        "If the probability value is less than 0.5, the prediction is 0 (i.e. no intersection) else the prediction is 1 (i.e. intersection)\n",
        "\n",
        "Since the submission format is given as \n",
        "\n",
        "predictions = [0, 1, 1, 0, 0, 0, 1, 0, ......]\n",
        "\n",
        "here we will convert the probability values in the same format, i.e. if probability value is less than 0.5, the prediction will be 0 else the prediction will be 1"
      ]
    },
    {
      "cell_type": "code",
      "metadata": {
        "id": "3BB9EAnYLCCM"
      },
      "source": [
        "prediction = []\n",
        "for value in pred:\n",
        "  if value[1] < 0.5:\n",
        "    prediction.append(0)\n",
        "  else:\n",
        "    prediction.append(1)"
      ],
      "execution_count": null,
      "outputs": []
    },
    {
      "cell_type": "code",
      "metadata": {
        "id": "yNYy6W1uMuVw"
      },
      "source": [
        "prediction[0]"
      ],
      "execution_count": null,
      "outputs": []
    },
    {
      "cell_type": "markdown",
      "metadata": {
        "id": "MldiDW9_M2GI"
      },
      "source": [
        "**Note: Follow the submission guidelines given in 'How To Submit' Section.**"
      ]
    },
    {
      "cell_type": "markdown",
      "metadata": {
        "id": "THaqbN4LM6YX"
      },
      "source": [
        "## **How to save prediciton results locally via jupyter notebook?**\n",
        "If you are working on Jupyter notebook, execute below block of codes. A file named 'submission.csv' will be created in your current working directory."
      ]
    },
    {
      "cell_type": "code",
      "metadata": {
        "id": "5I2wAC5RMwvJ"
      },
      "source": [
        "res = pd.DataFrame({'file_name': test_images['file_name'], 'prediction': prediction})  # prediction is nothing but the final predictions of your model on input features of your new unseen test data\n",
        "res.to_csv(\"submission.csv\", index = False)      # the csv file will be saved locally on the same location where this notebook is located."
      ],
      "execution_count": null,
      "outputs": []
    },
    {
      "cell_type": "markdown",
      "metadata": {
        "id": "fquFjyl6OfGz"
      },
      "source": [
        "# **OR,**\n",
        "**If you are working on Google Colab then use the below set of code to save prediction results locally**"
      ]
    },
    {
      "cell_type": "markdown",
      "metadata": {
        "id": "ILu2PfzNOqLx"
      },
      "source": [
        "## **How to save prediction results locally via colab notebook?**\n",
        "If you are working on Google Colab Notebook, execute below block of codes. A file named 'prediction_results' will be downloaded in your system."
      ]
    },
    {
      "cell_type": "code",
      "metadata": {
        "id": "FpcTFRw7NgXp"
      },
      "source": [
        "#res = pd.DataFrame({'file_name': test_images['file_name'], 'prediction': prediction})  # prediction is nothing but the final predictions of your model on input features of your new unseen test data\n",
        "res = pd.DataFrame({ 'prediction': prediction})  # prediction is nothing but the final predictions of your model on input features of your new unseen test data\n",
        "\n",
        "res.to_csv(\"submission.csv\", index = False) \n",
        "\n",
        "# To download the csv file locally\n",
        "from google.colab import files        \n",
        "files.download('submission.csv')"
      ],
      "execution_count": null,
      "outputs": []
    },
    {
      "cell_type": "markdown",
      "metadata": {
        "id": "NohZiMIkO_tX"
      },
      "source": [
        "# **Well Done! 👍**\n",
        "You are all set to make a submission. Let's head to the **[challenge page](https://dphi.tech/challenges/data-sprint-28/68/overview/about)** to make the submission."
      ]
    }
  ]
}