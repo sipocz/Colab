{
  "nbformat": 4,
  "nbformat_minor": 5,
  "metadata": {
    "kernelspec": {
      "display_name": "Python 3",
      "language": "python",
      "name": "python3"
    },
    "language_info": {
      "codemirror_mode": {
        "name": "ipython",
        "version": 3
      },
      "file_extension": ".py",
      "mimetype": "text/x-python",
      "name": "python",
      "nbconvert_exporter": "python",
      "pygments_lexer": "ipython3",
      "version": "3.6.9"
    },
    "colab": {
      "name": "Segmind grand AI challenge starter.ipynb",
      "provenance": [],
      "collapsed_sections": [],
      "include_colab_link": true
    },
    "accelerator": "GPU"
  },
  "cells": [
    {
      "cell_type": "markdown",
      "metadata": {
        "id": "view-in-github",
        "colab_type": "text"
      },
      "source": [
        "<a href=\"https://colab.research.google.com/github/sipocz/Colab/blob/main/Segmind_grand_AI_challenge_starter.ipynb\" target=\"_parent\"><img src=\"https://colab.research.google.com/assets/colab-badge.svg\" alt=\"Open In Colab\"/></a>"
      ]
    },
    {
      "cell_type": "markdown",
      "metadata": {
        "id": "b1ee4bfd"
      },
      "source": [
        "## Segmind 2021 Grand AI Challenge ##"
      ],
      "id": "b1ee4bfd"
    },
    {
      "cell_type": "markdown",
      "metadata": {
        "id": "f32ce783"
      },
      "source": [
        "### Download the dataset ###"
      ],
      "id": "f32ce783"
    },
    {
      "cell_type": "code",
      "metadata": {
        "colab": {
          "base_uri": "https://localhost:8080/"
        },
        "id": "c51ad9dd",
        "outputId": "c97b3cb1-3886-4808-d2e2-a5c6b86c4c3a"
      },
      "source": [
        "!wget https://dockship-public-assets.s3.ap-south-1.amazonaws.com/segmind_grand_ai_challenge_2021-dataset.zip"
      ],
      "id": "c51ad9dd",
      "execution_count": 94,
      "outputs": [
        {
          "output_type": "stream",
          "text": [
            "--2021-04-23 14:19:41--  https://dockship-public-assets.s3.ap-south-1.amazonaws.com/segmind_grand_ai_challenge_2021-dataset.zip\n",
            "Resolving dockship-public-assets.s3.ap-south-1.amazonaws.com (dockship-public-assets.s3.ap-south-1.amazonaws.com)... 52.219.64.76\n",
            "Connecting to dockship-public-assets.s3.ap-south-1.amazonaws.com (dockship-public-assets.s3.ap-south-1.amazonaws.com)|52.219.64.76|:443... connected.\n",
            "HTTP request sent, awaiting response... 200 OK\n",
            "Length: 6491390 (6.2M) [application/zip]\n",
            "Saving to: ‘segmind_grand_ai_challenge_2021-dataset.zip.1’\n",
            "\n",
            "segmind_grand_ai_ch 100%[===================>]   6.19M  3.40MB/s    in 1.8s    \n",
            "\n",
            "2021-04-23 14:19:44 (3.40 MB/s) - ‘segmind_grand_ai_challenge_2021-dataset.zip.1’ saved [6491390/6491390]\n",
            "\n"
          ],
          "name": "stdout"
        }
      ]
    },
    {
      "cell_type": "markdown",
      "metadata": {
        "id": "bfaee2c8"
      },
      "source": [
        "### Extract the dataset ###"
      ],
      "id": "bfaee2c8"
    },
    {
      "cell_type": "code",
      "metadata": {
        "id": "fc42df85"
      },
      "source": [
        "import zipfile\n",
        "with zipfile.ZipFile(\"segmind_grand_ai_challenge_2021-dataset.zip\", 'r') as zip_ref:\n",
        "    zip_ref.extractall()"
      ],
      "id": "fc42df85",
      "execution_count": 95,
      "outputs": []
    },
    {
      "cell_type": "code",
      "metadata": {
        "colab": {
          "base_uri": "https://localhost:8080/"
        },
        "id": "ea24e376",
        "outputId": "97ec6254-6d5d-4f80-cdc2-a1d6eca5da69"
      },
      "source": [
        "!pip install pandas"
      ],
      "id": "ea24e376",
      "execution_count": 96,
      "outputs": [
        {
          "output_type": "stream",
          "text": [
            "Requirement already satisfied: pandas in /usr/local/lib/python3.7/dist-packages (1.1.5)\n",
            "Requirement already satisfied: numpy>=1.15.4 in /usr/local/lib/python3.7/dist-packages (from pandas) (1.19.5)\n",
            "Requirement already satisfied: python-dateutil>=2.7.3 in /usr/local/lib/python3.7/dist-packages (from pandas) (2.8.1)\n",
            "Requirement already satisfied: pytz>=2017.2 in /usr/local/lib/python3.7/dist-packages (from pandas) (2018.9)\n",
            "Requirement already satisfied: six>=1.5 in /usr/local/lib/python3.7/dist-packages (from python-dateutil>=2.7.3->pandas) (1.15.0)\n"
          ],
          "name": "stdout"
        }
      ]
    },
    {
      "cell_type": "code",
      "metadata": {
        "colab": {
          "base_uri": "https://localhost:8080/"
        },
        "id": "71037f3f",
        "outputId": "4c62346e-cefa-4cd4-cc5c-2add59c392fa"
      },
      "source": [
        "import pandas as pd\n",
        "df=pd.read_csv(\"./dataset/TRAIN.csv\")"
      ],
      "id": "71037f3f",
      "execution_count": 97,
      "outputs": [
        {
          "output_type": "stream",
          "text": [
            "/usr/local/lib/python3.7/dist-packages/IPython/core/interactiveshell.py:2718: DtypeWarning:\n",
            "\n",
            "Columns (7) have mixed types.Specify dtype option on import or set low_memory=False.\n",
            "\n"
          ],
          "name": "stderr"
        }
      ]
    },
    {
      "cell_type": "code",
      "metadata": {
        "colab": {
          "base_uri": "https://localhost:8080/",
          "height": 142
        },
        "id": "d70cbe9a",
        "outputId": "2da536fd-5d8f-464f-9870-0948b2e9a95f"
      },
      "source": [
        "df.tail(3)"
      ],
      "id": "d70cbe9a",
      "execution_count": 98,
      "outputs": [
        {
          "output_type": "execute_result",
          "data": {
            "text/html": [
              "<div>\n",
              "<style scoped>\n",
              "    .dataframe tbody tr th:only-of-type {\n",
              "        vertical-align: middle;\n",
              "    }\n",
              "\n",
              "    .dataframe tbody tr th {\n",
              "        vertical-align: top;\n",
              "    }\n",
              "\n",
              "    .dataframe thead th {\n",
              "        text-align: right;\n",
              "    }\n",
              "</style>\n",
              "<table border=\"1\" class=\"dataframe\">\n",
              "  <thead>\n",
              "    <tr style=\"text-align: right;\">\n",
              "      <th></th>\n",
              "      <th>Store</th>\n",
              "      <th>DayOfWeek</th>\n",
              "      <th>Date</th>\n",
              "      <th>Sales</th>\n",
              "      <th>Customers</th>\n",
              "      <th>Open</th>\n",
              "      <th>Promo</th>\n",
              "      <th>StateHoliday</th>\n",
              "      <th>SchoolHoliday</th>\n",
              "    </tr>\n",
              "  </thead>\n",
              "  <tbody>\n",
              "    <tr>\n",
              "      <th>712043</th>\n",
              "      <td>344</td>\n",
              "      <td>2</td>\n",
              "      <td>2013-10-01</td>\n",
              "      <td>6652</td>\n",
              "      <td>1043</td>\n",
              "      <td>1</td>\n",
              "      <td>0</td>\n",
              "      <td>0</td>\n",
              "      <td>1</td>\n",
              "    </tr>\n",
              "    <tr>\n",
              "      <th>712044</th>\n",
              "      <td>345</td>\n",
              "      <td>2</td>\n",
              "      <td>2013-10-01</td>\n",
              "      <td>3842</td>\n",
              "      <td>475</td>\n",
              "      <td>1</td>\n",
              "      <td>0</td>\n",
              "      <td>0</td>\n",
              "      <td>0</td>\n",
              "    </tr>\n",
              "    <tr>\n",
              "      <th>712045</th>\n",
              "      <td>346</td>\n",
              "      <td>2</td>\n",
              "      <td>2013-10-01</td>\n",
              "      <td>6143</td>\n",
              "      <td>599</td>\n",
              "      <td>1</td>\n",
              "      <td>0</td>\n",
              "      <td>0</td>\n",
              "      <td>0</td>\n",
              "    </tr>\n",
              "  </tbody>\n",
              "</table>\n",
              "</div>"
            ],
            "text/plain": [
              "        Store  DayOfWeek        Date  ...  Promo  StateHoliday  SchoolHoliday\n",
              "712043    344          2  2013-10-01  ...      0             0              1\n",
              "712044    345          2  2013-10-01  ...      0             0              0\n",
              "712045    346          2  2013-10-01  ...      0             0              0\n",
              "\n",
              "[3 rows x 9 columns]"
            ]
          },
          "metadata": {
            "tags": []
          },
          "execution_count": 98
        }
      ]
    },
    {
      "cell_type": "code",
      "metadata": {
        "colab": {
          "base_uri": "https://localhost:8080/"
        },
        "id": "5dd8ff7c",
        "outputId": "65e0a590-7206-474e-adca-c1fc553ad435"
      },
      "source": [
        "type(df[\"Date\"][0])"
      ],
      "id": "5dd8ff7c",
      "execution_count": 99,
      "outputs": [
        {
          "output_type": "execute_result",
          "data": {
            "text/plain": [
              "str"
            ]
          },
          "metadata": {
            "tags": []
          },
          "execution_count": 99
        }
      ]
    },
    {
      "cell_type": "code",
      "metadata": {
        "id": "23e203cb"
      },
      "source": [
        "df=df[df[\"Open\"]==1 ]"
      ],
      "id": "23e203cb",
      "execution_count": 100,
      "outputs": []
    },
    {
      "cell_type": "code",
      "metadata": {
        "id": "v_H1wLZZDLb0"
      },
      "source": [
        ""
      ],
      "id": "v_H1wLZZDLb0",
      "execution_count": 100,
      "outputs": []
    },
    {
      "cell_type": "code",
      "metadata": {
        "id": "a02a3bce"
      },
      "source": [
        "a=set(df[\"StateHoliday\"])"
      ],
      "id": "a02a3bce",
      "execution_count": 101,
      "outputs": []
    },
    {
      "cell_type": "code",
      "metadata": {
        "colab": {
          "base_uri": "https://localhost:8080/"
        },
        "id": "2d380886",
        "outputId": "49122544-e775-42ab-f734-393c343705f7"
      },
      "source": [
        "print(a)\n",
        "df[\"a\"]=0\n",
        "df[\"b\"]=0\n",
        "df[\"c\"]=0\n",
        "df[\"zero\"]=0\n",
        "\n",
        "df[\"Day1\"]=0\n",
        "df[\"Day2\"]=0\n",
        "df[\"Day3\"]=0\n",
        "df[\"Day4\"]=0\n",
        "df[\"Day5\"]=0\n",
        "df[\"Day6\"]=0\n",
        "df[\"Day7\"]=0\n",
        "\n",
        "\n",
        "\n",
        "\n",
        "\n",
        "\n",
        "\n",
        "df[\"a\"][df[\"StateHoliday\"]==\"a\"]=1\n",
        "\n",
        "\n",
        "df[\"b\"][df[\"StateHoliday\"]==\"b\"]=1\n",
        "\n",
        "df[\"c\"][df[\"StateHoliday\"]==\"c\"]=1\n",
        "\n",
        "df[\"zero\"][df[\"StateHoliday\"]==\"0\"]=1\n",
        "df[\"zero\"][df[\"StateHoliday\"]==0]=1\n",
        "\n",
        "\n",
        "df[\"Day1\"][df[\"DayOfWeek\"]==1]=1\n",
        "df[\"Day2\"][df[\"DayOfWeek\"]==2]=1\n",
        "df[\"Day3\"][df[\"DayOfWeek\"]==3]=1\n",
        "df[\"Day4\"][df[\"DayOfWeek\"]==4]=1\n",
        "df[\"Day5\"][df[\"DayOfWeek\"]==5]=1\n",
        "df[\"Day6\"][df[\"DayOfWeek\"]==6]=1\n",
        "df[\"Day7\"][df[\"DayOfWeek\"]==7]=1\n",
        "\n",
        "maxi=max(list(df[\"Sales\"]))\n",
        "\n",
        "df[\"korr\"]=df[\"Sales\"]/maxi\n",
        "\n",
        "\n",
        "\n",
        "\n"
      ],
      "id": "2d380886",
      "execution_count": 102,
      "outputs": [
        {
          "output_type": "stream",
          "text": [
            "{0, 'b', 'a', 'c', '0'}\n"
          ],
          "name": "stdout"
        },
        {
          "output_type": "stream",
          "text": [
            "/usr/local/lib/python3.7/dist-packages/ipykernel_launcher.py:21: SettingWithCopyWarning:\n",
            "\n",
            "\n",
            "A value is trying to be set on a copy of a slice from a DataFrame\n",
            "\n",
            "See the caveats in the documentation: https://pandas.pydata.org/pandas-docs/stable/user_guide/indexing.html#returning-a-view-versus-a-copy\n",
            "\n",
            "/usr/local/lib/python3.7/dist-packages/ipykernel_launcher.py:24: SettingWithCopyWarning:\n",
            "\n",
            "\n",
            "A value is trying to be set on a copy of a slice from a DataFrame\n",
            "\n",
            "See the caveats in the documentation: https://pandas.pydata.org/pandas-docs/stable/user_guide/indexing.html#returning-a-view-versus-a-copy\n",
            "\n",
            "/usr/local/lib/python3.7/dist-packages/ipykernel_launcher.py:26: SettingWithCopyWarning:\n",
            "\n",
            "\n",
            "A value is trying to be set on a copy of a slice from a DataFrame\n",
            "\n",
            "See the caveats in the documentation: https://pandas.pydata.org/pandas-docs/stable/user_guide/indexing.html#returning-a-view-versus-a-copy\n",
            "\n",
            "/usr/local/lib/python3.7/dist-packages/ipykernel_launcher.py:28: SettingWithCopyWarning:\n",
            "\n",
            "\n",
            "A value is trying to be set on a copy of a slice from a DataFrame\n",
            "\n",
            "See the caveats in the documentation: https://pandas.pydata.org/pandas-docs/stable/user_guide/indexing.html#returning-a-view-versus-a-copy\n",
            "\n",
            "/usr/local/lib/python3.7/dist-packages/ipykernel_launcher.py:29: SettingWithCopyWarning:\n",
            "\n",
            "\n",
            "A value is trying to be set on a copy of a slice from a DataFrame\n",
            "\n",
            "See the caveats in the documentation: https://pandas.pydata.org/pandas-docs/stable/user_guide/indexing.html#returning-a-view-versus-a-copy\n",
            "\n",
            "/usr/local/lib/python3.7/dist-packages/ipykernel_launcher.py:32: SettingWithCopyWarning:\n",
            "\n",
            "\n",
            "A value is trying to be set on a copy of a slice from a DataFrame\n",
            "\n",
            "See the caveats in the documentation: https://pandas.pydata.org/pandas-docs/stable/user_guide/indexing.html#returning-a-view-versus-a-copy\n",
            "\n",
            "/usr/local/lib/python3.7/dist-packages/ipykernel_launcher.py:33: SettingWithCopyWarning:\n",
            "\n",
            "\n",
            "A value is trying to be set on a copy of a slice from a DataFrame\n",
            "\n",
            "See the caveats in the documentation: https://pandas.pydata.org/pandas-docs/stable/user_guide/indexing.html#returning-a-view-versus-a-copy\n",
            "\n",
            "/usr/local/lib/python3.7/dist-packages/ipykernel_launcher.py:34: SettingWithCopyWarning:\n",
            "\n",
            "\n",
            "A value is trying to be set on a copy of a slice from a DataFrame\n",
            "\n",
            "See the caveats in the documentation: https://pandas.pydata.org/pandas-docs/stable/user_guide/indexing.html#returning-a-view-versus-a-copy\n",
            "\n",
            "/usr/local/lib/python3.7/dist-packages/ipykernel_launcher.py:35: SettingWithCopyWarning:\n",
            "\n",
            "\n",
            "A value is trying to be set on a copy of a slice from a DataFrame\n",
            "\n",
            "See the caveats in the documentation: https://pandas.pydata.org/pandas-docs/stable/user_guide/indexing.html#returning-a-view-versus-a-copy\n",
            "\n",
            "/usr/local/lib/python3.7/dist-packages/ipykernel_launcher.py:36: SettingWithCopyWarning:\n",
            "\n",
            "\n",
            "A value is trying to be set on a copy of a slice from a DataFrame\n",
            "\n",
            "See the caveats in the documentation: https://pandas.pydata.org/pandas-docs/stable/user_guide/indexing.html#returning-a-view-versus-a-copy\n",
            "\n",
            "/usr/local/lib/python3.7/dist-packages/ipykernel_launcher.py:37: SettingWithCopyWarning:\n",
            "\n",
            "\n",
            "A value is trying to be set on a copy of a slice from a DataFrame\n",
            "\n",
            "See the caveats in the documentation: https://pandas.pydata.org/pandas-docs/stable/user_guide/indexing.html#returning-a-view-versus-a-copy\n",
            "\n",
            "/usr/local/lib/python3.7/dist-packages/ipykernel_launcher.py:38: SettingWithCopyWarning:\n",
            "\n",
            "\n",
            "A value is trying to be set on a copy of a slice from a DataFrame\n",
            "\n",
            "See the caveats in the documentation: https://pandas.pydata.org/pandas-docs/stable/user_guide/indexing.html#returning-a-view-versus-a-copy\n",
            "\n"
          ],
          "name": "stderr"
        }
      ]
    },
    {
      "cell_type": "code",
      "metadata": {
        "id": "c74919d9"
      },
      "source": [
        "testdf=pd.read_csv(\"./dataset/TEST.csv\")"
      ],
      "id": "c74919d9",
      "execution_count": 103,
      "outputs": []
    },
    {
      "cell_type": "code",
      "metadata": {
        "colab": {
          "base_uri": "https://localhost:8080/"
        },
        "id": "479dbea9",
        "outputId": "9722cf82-4d79-4fda-feb2-8c79763d2ef7"
      },
      "source": [
        "max(list(df[\"Sales\"]))"
      ],
      "id": "479dbea9",
      "execution_count": 104,
      "outputs": [
        {
          "output_type": "execute_result",
          "data": {
            "text/plain": [
              "41551"
            ]
          },
          "metadata": {
            "tags": []
          },
          "execution_count": 104
        }
      ]
    },
    {
      "cell_type": "code",
      "metadata": {
        "colab": {
          "base_uri": "https://localhost:8080/",
          "height": 419
        },
        "id": "6cfa80d7",
        "outputId": "2765305f-4856-41d2-bb05-85dabfa7cb29"
      },
      "source": [
        "testdf[testdf[\"Store\"]==1]"
      ],
      "id": "6cfa80d7",
      "execution_count": 106,
      "outputs": [
        {
          "output_type": "execute_result",
          "data": {
            "text/html": [
              "<div>\n",
              "<style scoped>\n",
              "    .dataframe tbody tr th:only-of-type {\n",
              "        vertical-align: middle;\n",
              "    }\n",
              "\n",
              "    .dataframe tbody tr th {\n",
              "        vertical-align: top;\n",
              "    }\n",
              "\n",
              "    .dataframe thead th {\n",
              "        text-align: right;\n",
              "    }\n",
              "</style>\n",
              "<table border=\"1\" class=\"dataframe\">\n",
              "  <thead>\n",
              "    <tr style=\"text-align: right;\">\n",
              "      <th></th>\n",
              "      <th>Store</th>\n",
              "      <th>DayOfWeek</th>\n",
              "      <th>Date</th>\n",
              "      <th>Open</th>\n",
              "      <th>Promo</th>\n",
              "      <th>StateHoliday</th>\n",
              "      <th>SchoolHoliday</th>\n",
              "    </tr>\n",
              "  </thead>\n",
              "  <tbody>\n",
              "    <tr>\n",
              "      <th>227</th>\n",
              "      <td>1</td>\n",
              "      <td>1</td>\n",
              "      <td>2013-02-04</td>\n",
              "      <td>1</td>\n",
              "      <td>1</td>\n",
              "      <td>0</td>\n",
              "      <td>0</td>\n",
              "    </tr>\n",
              "    <tr>\n",
              "      <th>444</th>\n",
              "      <td>1</td>\n",
              "      <td>3</td>\n",
              "      <td>2013-05-29</td>\n",
              "      <td>1</td>\n",
              "      <td>1</td>\n",
              "      <td>0</td>\n",
              "      <td>0</td>\n",
              "    </tr>\n",
              "    <tr>\n",
              "      <th>1191</th>\n",
              "      <td>1</td>\n",
              "      <td>1</td>\n",
              "      <td>2013-07-08</td>\n",
              "      <td>1</td>\n",
              "      <td>0</td>\n",
              "      <td>0</td>\n",
              "      <td>1</td>\n",
              "    </tr>\n",
              "    <tr>\n",
              "      <th>1619</th>\n",
              "      <td>1</td>\n",
              "      <td>4</td>\n",
              "      <td>2013-03-28</td>\n",
              "      <td>1</td>\n",
              "      <td>1</td>\n",
              "      <td>0</td>\n",
              "      <td>1</td>\n",
              "    </tr>\n",
              "    <tr>\n",
              "      <th>1933</th>\n",
              "      <td>1</td>\n",
              "      <td>4</td>\n",
              "      <td>2013-09-26</td>\n",
              "      <td>1</td>\n",
              "      <td>1</td>\n",
              "      <td>0</td>\n",
              "      <td>0</td>\n",
              "    </tr>\n",
              "    <tr>\n",
              "      <th>...</th>\n",
              "      <td>...</td>\n",
              "      <td>...</td>\n",
              "      <td>...</td>\n",
              "      <td>...</td>\n",
              "      <td>...</td>\n",
              "      <td>...</td>\n",
              "      <td>...</td>\n",
              "    </tr>\n",
              "    <tr>\n",
              "      <th>297264</th>\n",
              "      <td>1</td>\n",
              "      <td>7</td>\n",
              "      <td>2013-03-10</td>\n",
              "      <td>0</td>\n",
              "      <td>0</td>\n",
              "      <td>0</td>\n",
              "      <td>0</td>\n",
              "    </tr>\n",
              "    <tr>\n",
              "      <th>298023</th>\n",
              "      <td>1</td>\n",
              "      <td>7</td>\n",
              "      <td>2013-01-20</td>\n",
              "      <td>0</td>\n",
              "      <td>0</td>\n",
              "      <td>0</td>\n",
              "      <td>0</td>\n",
              "    </tr>\n",
              "    <tr>\n",
              "      <th>299380</th>\n",
              "      <td>1</td>\n",
              "      <td>1</td>\n",
              "      <td>2013-04-15</td>\n",
              "      <td>1</td>\n",
              "      <td>0</td>\n",
              "      <td>0</td>\n",
              "      <td>0</td>\n",
              "    </tr>\n",
              "    <tr>\n",
              "      <th>300032</th>\n",
              "      <td>1</td>\n",
              "      <td>1</td>\n",
              "      <td>2013-09-30</td>\n",
              "      <td>1</td>\n",
              "      <td>0</td>\n",
              "      <td>0</td>\n",
              "      <td>0</td>\n",
              "    </tr>\n",
              "    <tr>\n",
              "      <th>302953</th>\n",
              "      <td>1</td>\n",
              "      <td>7</td>\n",
              "      <td>2013-04-21</td>\n",
              "      <td>0</td>\n",
              "      <td>0</td>\n",
              "      <td>0</td>\n",
              "      <td>0</td>\n",
              "    </tr>\n",
              "  </tbody>\n",
              "</table>\n",
              "<p>273 rows × 7 columns</p>\n",
              "</div>"
            ],
            "text/plain": [
              "        Store  DayOfWeek        Date  Open  Promo StateHoliday  SchoolHoliday\n",
              "227         1          1  2013-02-04     1      1            0              0\n",
              "444         1          3  2013-05-29     1      1            0              0\n",
              "1191        1          1  2013-07-08     1      0            0              1\n",
              "1619        1          4  2013-03-28     1      1            0              1\n",
              "1933        1          4  2013-09-26     1      1            0              0\n",
              "...       ...        ...         ...   ...    ...          ...            ...\n",
              "297264      1          7  2013-03-10     0      0            0              0\n",
              "298023      1          7  2013-01-20     0      0            0              0\n",
              "299380      1          1  2013-04-15     1      0            0              0\n",
              "300032      1          1  2013-09-30     1      0            0              0\n",
              "302953      1          7  2013-04-21     0      0            0              0\n",
              "\n",
              "[273 rows x 7 columns]"
            ]
          },
          "metadata": {
            "tags": []
          },
          "execution_count": 106
        }
      ]
    },
    {
      "cell_type": "code",
      "metadata": {
        "colab": {
          "base_uri": "https://localhost:8080/"
        },
        "id": "6tF3yBASKs3l",
        "outputId": "70ea6cf3-a8eb-4768-e9c8-170cdd028a2d"
      },
      "source": [
        "!rm visual_view.py\n",
        "!wget https://raw.githubusercontent.com/sipocz/messer/main/visual_view.py\n"
      ],
      "id": "6tF3yBASKs3l",
      "execution_count": 107,
      "outputs": [
        {
          "output_type": "stream",
          "text": [
            "--2021-04-23 14:20:09--  https://raw.githubusercontent.com/sipocz/messer/main/visual_view.py\n",
            "Resolving raw.githubusercontent.com (raw.githubusercontent.com)... 185.199.111.133, 185.199.109.133, 185.199.110.133, ...\n",
            "Connecting to raw.githubusercontent.com (raw.githubusercontent.com)|185.199.111.133|:443... connected.\n",
            "HTTP request sent, awaiting response... 200 OK\n",
            "Length: 1027 (1.0K) [text/plain]\n",
            "Saving to: ‘visual_view.py’\n",
            "\n",
            "\rvisual_view.py        0%[                    ]       0  --.-KB/s               \rvisual_view.py      100%[===================>]   1.00K  --.-KB/s    in 0s      \n",
            "\n",
            "2021-04-23 14:20:09 (71.1 MB/s) - ‘visual_view.py’ saved [1027/1027]\n",
            "\n"
          ],
          "name": "stdout"
        }
      ]
    },
    {
      "cell_type": "code",
      "metadata": {
        "colab": {
          "base_uri": "https://localhost:8080/"
        },
        "id": "dK-uYNADKyPc",
        "outputId": "e5d6dc1a-9601-4ff6-d174-37f16efd1ab6"
      },
      "source": [
        "grafikon=None\n",
        "from visual_view import grafikon\n",
        "help(grafikon)"
      ],
      "id": "dK-uYNADKyPc",
      "execution_count": 108,
      "outputs": [
        {
          "output_type": "stream",
          "text": [
            "Help on function grafikon in module visual_view:\n",
            "\n",
            "grafikon(fx, desc1, txt1, desc2='', txt2='', ngraf=2, c1='rgba(35,128,132,0.8)', c2='rgba(193,99,99,0.8)', title=None)\n",
            "    fx: dataFrame\n",
            "    desc1:column1\n",
            "    txt1: label1\n",
            "    desc2:column2\n",
            "    txt2: label2\n",
            "    ngraf: number of graph\n",
            "    c1: color1\n",
            "    c2: color2\n",
            "    title: graph title\n",
            "\n"
          ],
          "name": "stdout"
        }
      ]
    },
    {
      "cell_type": "code",
      "metadata": {
        "id": "80bc49ac"
      },
      "source": [
        "\n",
        "from tensorflow.keras.layers import InputLayer, Dense, LSTM, Input, Dropout\n",
        "from tensorflow.keras.models import Sequential, Model\n",
        "from tensorflow.keras.optimizers import SGD,Adam,Adamax,Nadam,Ftrl,Adadelta\n",
        "import tensorflow as tf\n",
        "from tensorflow.keras.callbacks import ModelCheckpoint\n",
        "from tensorflow.keras.backend import clear_session\n",
        "from tensorflow.keras.losses import mean_absolute_percentage_error"
      ],
      "id": "80bc49ac",
      "execution_count": 109,
      "outputs": []
    },
    {
      "cell_type": "code",
      "metadata": {
        "id": "8926b951"
      },
      "source": [
        "prediktorok=[\"Promo\",\"SchoolHoliday\",\"a\",\"b\",\"c\",\"zero\",\"Day1\",\"Day2\",\"Day3\",\"Day4\",\"Day5\",\"Day6\",\"Day7\",]\n",
        "store=3\n",
        "X_NN=df[df[\"Store\"]<2 ][prediktorok]\n",
        "y_NN=df[df[\"Store\"]<2 ][\"korr\"]"
      ],
      "id": "8926b951",
      "execution_count": 110,
      "outputs": []
    },
    {
      "cell_type": "code",
      "metadata": {
        "colab": {
          "base_uri": "https://localhost:8080/"
        },
        "id": "sAeaCnAvF3NR",
        "outputId": "9d57bf88-ac01-483a-d459-6f9864a2d911"
      },
      "source": [
        ""
      ],
      "id": "sAeaCnAvF3NR",
      "execution_count": 111,
      "outputs": [
        {
          "output_type": "execute_result",
          "data": {
            "text/plain": [
              "711700    2013-10-01\n",
              "Name: Date, dtype: object"
            ]
          },
          "metadata": {
            "tags": []
          },
          "execution_count": 111
        }
      ]
    },
    {
      "cell_type": "code",
      "metadata": {
        "id": "3bed1b77"
      },
      "source": [
        "clear_session()\n",
        "\n",
        "\n",
        "\n",
        "input_size=13\n",
        "drop_frac0=0.3  \n",
        "drop_frac1=0.3  \n",
        "\n",
        "input1=Input(shape=(input_size,))\n",
        "l1_out=Dense(9600,activation=\"swish\",)(input1) # \n",
        "l2_out=Dropout(drop_frac0)(l1_out)\n",
        "\n",
        "\n",
        "l3_out=Dense(9000,activation=\"linear\",)(l2_out)\n",
        "l4_out=Dropout(drop_frac1)(l3_out)\n",
        "\n",
        "pred=Dense(1,activation=\"linear\")(l4_out)\n",
        "\n",
        "model = Model(inputs=input1, outputs=pred)\n",
        "optimizer=SGD(learning_rate=0.00005,) #\n",
        "\n",
        "model.compile(loss='mae',\n",
        "    optimizer=optimizer,\n",
        "    metrics=[\"mae\"])"
      ],
      "id": "3bed1b77",
      "execution_count": null,
      "outputs": []
    },
    {
      "cell_type": "code",
      "metadata": {
        "id": "q0w54M-uaBK_"
      },
      "source": [
        ""
      ],
      "id": "q0w54M-uaBK_",
      "execution_count": null,
      "outputs": []
    },
    {
      "cell_type": "code",
      "metadata": {
        "id": "20d44d16"
      },
      "source": [
        " history = model.fit(X_NN, y_NN, epochs=50, batch_size=3, validation_split = 0.2,\n",
        "                    \n",
        "                   verbose=1)\n",
        "\n"
      ],
      "id": "20d44d16",
      "execution_count": null,
      "outputs": []
    },
    {
      "cell_type": "code",
      "metadata": {
        "id": "ef300e4a"
      },
      "source": [
        "datag=pd.DataFrame()\n",
        "y_pred=model.predict(X_NN)\n",
        "\n"
      ],
      "id": "ef300e4a",
      "execution_count": null,
      "outputs": []
    },
    {
      "cell_type": "code",
      "metadata": {
        "id": "TkcMG3ppLYik"
      },
      "source": [
        "datag[\"pred\"]=list(y_pred.T[0])\n",
        "datag[\"y\"]=list(y_NN)"
      ],
      "id": "TkcMG3ppLYik",
      "execution_count": null,
      "outputs": []
    },
    {
      "cell_type": "code",
      "metadata": {
        "id": "FQutBKh_LhEP"
      },
      "source": [
        "grafikon(datag,\"pred\",\"pred\",\"y\",\"y\")"
      ],
      "id": "FQutBKh_LhEP",
      "execution_count": null,
      "outputs": []
    }
  ]
}