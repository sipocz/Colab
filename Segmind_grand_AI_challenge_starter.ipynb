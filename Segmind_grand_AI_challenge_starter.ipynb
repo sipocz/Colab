{
  "nbformat": 4,
  "nbformat_minor": 5,
  "metadata": {
    "kernelspec": {
      "display_name": "Python 3",
      "language": "python",
      "name": "python3"
    },
    "language_info": {
      "codemirror_mode": {
        "name": "ipython",
        "version": 3
      },
      "file_extension": ".py",
      "mimetype": "text/x-python",
      "name": "python",
      "nbconvert_exporter": "python",
      "pygments_lexer": "ipython3",
      "version": "3.6.9"
    },
    "colab": {
      "name": "Segmind grand AI challenge starter.ipynb",
      "provenance": [],
      "include_colab_link": true
    }
  },
  "cells": [
    {
      "cell_type": "markdown",
      "metadata": {
        "id": "view-in-github",
        "colab_type": "text"
      },
      "source": [
        "<a href=\"https://colab.research.google.com/github/sipocz/Colab/blob/main/Segmind_grand_AI_challenge_starter.ipynb\" target=\"_parent\"><img src=\"https://colab.research.google.com/assets/colab-badge.svg\" alt=\"Open In Colab\"/></a>"
      ]
    },
    {
      "cell_type": "markdown",
      "metadata": {
        "id": "b1ee4bfd"
      },
      "source": [
        "## Segmind 2021 Grand AI Challenge ##"
      ],
      "id": "b1ee4bfd"
    },
    {
      "cell_type": "markdown",
      "metadata": {
        "id": "f32ce783"
      },
      "source": [
        "### Download the dataset ###"
      ],
      "id": "f32ce783"
    },
    {
      "cell_type": "code",
      "metadata": {
        "colab": {
          "base_uri": "https://localhost:8080/"
        },
        "id": "c51ad9dd",
        "outputId": "6001a5f9-6785-4a28-9d5a-39359f95c799"
      },
      "source": [
        "!wget https://dockship-public-assets.s3.ap-south-1.amazonaws.com/segmind_grand_ai_challenge_2021-dataset.zip"
      ],
      "id": "c51ad9dd",
      "execution_count": 1,
      "outputs": [
        {
          "output_type": "stream",
          "text": [
            "--2021-04-22 19:19:28--  https://dockship-public-assets.s3.ap-south-1.amazonaws.com/segmind_grand_ai_challenge_2021-dataset.zip\n",
            "Resolving dockship-public-assets.s3.ap-south-1.amazonaws.com (dockship-public-assets.s3.ap-south-1.amazonaws.com)... 52.219.62.34\n",
            "Connecting to dockship-public-assets.s3.ap-south-1.amazonaws.com (dockship-public-assets.s3.ap-south-1.amazonaws.com)|52.219.62.34|:443... connected.\n",
            "HTTP request sent, awaiting response... 200 OK\n",
            "Length: 6491390 (6.2M) [application/zip]\n",
            "Saving to: ‘segmind_grand_ai_challenge_2021-dataset.zip’\n",
            "\n",
            "segmind_grand_ai_ch 100%[===================>]   6.19M  3.75MB/s    in 1.6s    \n",
            "\n",
            "2021-04-22 19:19:30 (3.75 MB/s) - ‘segmind_grand_ai_challenge_2021-dataset.zip’ saved [6491390/6491390]\n",
            "\n"
          ],
          "name": "stdout"
        }
      ]
    },
    {
      "cell_type": "markdown",
      "metadata": {
        "id": "bfaee2c8"
      },
      "source": [
        "### Extract the dataset ###"
      ],
      "id": "bfaee2c8"
    },
    {
      "cell_type": "code",
      "metadata": {
        "id": "fc42df85"
      },
      "source": [
        "import zipfile\n",
        "with zipfile.ZipFile(\"segmind_grand_ai_challenge_2021-dataset.zip\", 'r') as zip_ref:\n",
        "    zip_ref.extractall()"
      ],
      "id": "fc42df85",
      "execution_count": 2,
      "outputs": []
    },
    {
      "cell_type": "code",
      "metadata": {
        "colab": {
          "base_uri": "https://localhost:8080/"
        },
        "id": "ea24e376",
        "outputId": "b6f72da1-40a3-46f9-a4d1-70f827bd9ce4"
      },
      "source": [
        "!pip install pandas"
      ],
      "id": "ea24e376",
      "execution_count": 3,
      "outputs": [
        {
          "output_type": "stream",
          "text": [
            "Requirement already satisfied: pandas in /usr/local/lib/python3.7/dist-packages (1.1.5)\n",
            "Requirement already satisfied: python-dateutil>=2.7.3 in /usr/local/lib/python3.7/dist-packages (from pandas) (2.8.1)\n",
            "Requirement already satisfied: pytz>=2017.2 in /usr/local/lib/python3.7/dist-packages (from pandas) (2018.9)\n",
            "Requirement already satisfied: numpy>=1.15.4 in /usr/local/lib/python3.7/dist-packages (from pandas) (1.19.5)\n",
            "Requirement already satisfied: six>=1.5 in /usr/local/lib/python3.7/dist-packages (from python-dateutil>=2.7.3->pandas) (1.15.0)\n"
          ],
          "name": "stdout"
        }
      ]
    },
    {
      "cell_type": "code",
      "metadata": {
        "colab": {
          "base_uri": "https://localhost:8080/"
        },
        "id": "71037f3f",
        "outputId": "266f9dc4-8920-43d8-fc84-6b1f0b02f218"
      },
      "source": [
        "import pandas as pd\n",
        "df=pd.read_csv(\"./dataset/TRAIN.csv\")"
      ],
      "id": "71037f3f",
      "execution_count": 42,
      "outputs": [
        {
          "output_type": "stream",
          "text": [
            "/usr/local/lib/python3.7/dist-packages/IPython/core/interactiveshell.py:2718: DtypeWarning: Columns (7) have mixed types.Specify dtype option on import or set low_memory=False.\n",
            "  interactivity=interactivity, compiler=compiler, result=result)\n"
          ],
          "name": "stderr"
        }
      ]
    },
    {
      "cell_type": "code",
      "metadata": {
        "colab": {
          "base_uri": "https://localhost:8080/",
          "height": 142
        },
        "id": "d70cbe9a",
        "outputId": "9380b4a9-dacf-4e93-fb56-870e88512091"
      },
      "source": [
        "df.tail(3)"
      ],
      "id": "d70cbe9a",
      "execution_count": 44,
      "outputs": [
        {
          "output_type": "execute_result",
          "data": {
            "text/html": [
              "<div>\n",
              "<style scoped>\n",
              "    .dataframe tbody tr th:only-of-type {\n",
              "        vertical-align: middle;\n",
              "    }\n",
              "\n",
              "    .dataframe tbody tr th {\n",
              "        vertical-align: top;\n",
              "    }\n",
              "\n",
              "    .dataframe thead th {\n",
              "        text-align: right;\n",
              "    }\n",
              "</style>\n",
              "<table border=\"1\" class=\"dataframe\">\n",
              "  <thead>\n",
              "    <tr style=\"text-align: right;\">\n",
              "      <th></th>\n",
              "      <th>Store</th>\n",
              "      <th>DayOfWeek</th>\n",
              "      <th>Date</th>\n",
              "      <th>Sales</th>\n",
              "      <th>Customers</th>\n",
              "      <th>Open</th>\n",
              "      <th>Promo</th>\n",
              "      <th>StateHoliday</th>\n",
              "      <th>SchoolHoliday</th>\n",
              "    </tr>\n",
              "  </thead>\n",
              "  <tbody>\n",
              "    <tr>\n",
              "      <th>712043</th>\n",
              "      <td>344</td>\n",
              "      <td>2</td>\n",
              "      <td>2013-10-01</td>\n",
              "      <td>6652</td>\n",
              "      <td>1043</td>\n",
              "      <td>1</td>\n",
              "      <td>0</td>\n",
              "      <td>0</td>\n",
              "      <td>1</td>\n",
              "    </tr>\n",
              "    <tr>\n",
              "      <th>712044</th>\n",
              "      <td>345</td>\n",
              "      <td>2</td>\n",
              "      <td>2013-10-01</td>\n",
              "      <td>3842</td>\n",
              "      <td>475</td>\n",
              "      <td>1</td>\n",
              "      <td>0</td>\n",
              "      <td>0</td>\n",
              "      <td>0</td>\n",
              "    </tr>\n",
              "    <tr>\n",
              "      <th>712045</th>\n",
              "      <td>346</td>\n",
              "      <td>2</td>\n",
              "      <td>2013-10-01</td>\n",
              "      <td>6143</td>\n",
              "      <td>599</td>\n",
              "      <td>1</td>\n",
              "      <td>0</td>\n",
              "      <td>0</td>\n",
              "      <td>0</td>\n",
              "    </tr>\n",
              "  </tbody>\n",
              "</table>\n",
              "</div>"
            ],
            "text/plain": [
              "        Store  DayOfWeek        Date  ...  Promo  StateHoliday  SchoolHoliday\n",
              "712043    344          2  2013-10-01  ...      0             0              1\n",
              "712044    345          2  2013-10-01  ...      0             0              0\n",
              "712045    346          2  2013-10-01  ...      0             0              0\n",
              "\n",
              "[3 rows x 9 columns]"
            ]
          },
          "metadata": {
            "tags": []
          },
          "execution_count": 44
        }
      ]
    },
    {
      "cell_type": "code",
      "metadata": {
        "colab": {
          "base_uri": "https://localhost:8080/"
        },
        "id": "5dd8ff7c",
        "outputId": "acc331a0-a010-441d-a9d5-cbe11bb250e8"
      },
      "source": [
        "type(df[\"Date\"][0])"
      ],
      "id": "5dd8ff7c",
      "execution_count": 45,
      "outputs": [
        {
          "output_type": "execute_result",
          "data": {
            "text/plain": [
              "str"
            ]
          },
          "metadata": {
            "tags": []
          },
          "execution_count": 45
        }
      ]
    },
    {
      "cell_type": "code",
      "metadata": {
        "id": "23e203cb"
      },
      "source": [
        "df=df[df[\"Open\"]==1 ]"
      ],
      "id": "23e203cb",
      "execution_count": 46,
      "outputs": []
    },
    {
      "cell_type": "code",
      "metadata": {
        "id": "v_H1wLZZDLb0"
      },
      "source": [
        ""
      ],
      "id": "v_H1wLZZDLb0",
      "execution_count": null,
      "outputs": []
    },
    {
      "cell_type": "code",
      "metadata": {
        "id": "a02a3bce"
      },
      "source": [
        "a=set(df[\"StateHoliday\"])"
      ],
      "id": "a02a3bce",
      "execution_count": 47,
      "outputs": []
    },
    {
      "cell_type": "code",
      "metadata": {
        "colab": {
          "base_uri": "https://localhost:8080/"
        },
        "id": "2d380886",
        "outputId": "0be5a383-fdbd-4490-b8be-0bec552751dc"
      },
      "source": [
        "print(a)\n",
        "df[\"a\"]=0\n",
        "df[\"b\"]=0\n",
        "df[\"c\"]=0\n",
        "df[\"zero\"]=0\n",
        "\n",
        "df[\"Day1\"]=0\n",
        "df[\"Day2\"]=0\n",
        "df[\"Day3\"]=0\n",
        "df[\"Day4\"]=0\n",
        "df[\"Day5\"]=0\n",
        "df[\"Day6\"]=0\n",
        "df[\"Day7\"]=0\n",
        "\n",
        "\n",
        "\n",
        "\n",
        "\n",
        "\n",
        "\n",
        "df[\"a\"][df[\"StateHoliday\"]==\"a\"]=1\n",
        "\n",
        "\n",
        "df[\"b\"][df[\"StateHoliday\"]==\"b\"]=1\n",
        "\n",
        "df[\"c\"][df[\"StateHoliday\"]==\"c\"]=1\n",
        "\n",
        "df[\"zero\"][df[\"StateHoliday\"]==\"0\"]=1\n",
        "df[\"zero\"][df[\"StateHoliday\"]==0]=1\n",
        "\n",
        "\n",
        "df[\"Day1\"][df[\"DayOfWeek\"]==1]=1\n",
        "df[\"Day2\"][df[\"DayOfWeek\"]==2]=1\n",
        "df[\"Day3\"][df[\"DayOfWeek\"]==3]=1\n",
        "df[\"Day4\"][df[\"DayOfWeek\"]==4]=1\n",
        "df[\"Day5\"][df[\"DayOfWeek\"]==5]=1\n",
        "df[\"Day6\"][df[\"DayOfWeek\"]==6]=1\n",
        "df[\"Day7\"][df[\"DayOfWeek\"]==7]=1\n",
        "\n",
        "maxi=max(list(df[\"Sales\"]))\n",
        "\n",
        "df[\"korr\"]=df[\"Sales\"]/maxi\n",
        "\n",
        "\n",
        "\n",
        "\n"
      ],
      "id": "2d380886",
      "execution_count": 61,
      "outputs": [
        {
          "output_type": "stream",
          "text": [
            "{0, '0', 'b', 'a', 'c'}\n"
          ],
          "name": "stdout"
        },
        {
          "output_type": "stream",
          "text": [
            "/usr/local/lib/python3.7/dist-packages/ipykernel_launcher.py:21: SettingWithCopyWarning: \n",
            "A value is trying to be set on a copy of a slice from a DataFrame\n",
            "\n",
            "See the caveats in the documentation: https://pandas.pydata.org/pandas-docs/stable/user_guide/indexing.html#returning-a-view-versus-a-copy\n",
            "/usr/local/lib/python3.7/dist-packages/ipykernel_launcher.py:24: SettingWithCopyWarning: \n",
            "A value is trying to be set on a copy of a slice from a DataFrame\n",
            "\n",
            "See the caveats in the documentation: https://pandas.pydata.org/pandas-docs/stable/user_guide/indexing.html#returning-a-view-versus-a-copy\n",
            "/usr/local/lib/python3.7/dist-packages/ipykernel_launcher.py:26: SettingWithCopyWarning: \n",
            "A value is trying to be set on a copy of a slice from a DataFrame\n",
            "\n",
            "See the caveats in the documentation: https://pandas.pydata.org/pandas-docs/stable/user_guide/indexing.html#returning-a-view-versus-a-copy\n",
            "/usr/local/lib/python3.7/dist-packages/ipykernel_launcher.py:28: SettingWithCopyWarning: \n",
            "A value is trying to be set on a copy of a slice from a DataFrame\n",
            "\n",
            "See the caveats in the documentation: https://pandas.pydata.org/pandas-docs/stable/user_guide/indexing.html#returning-a-view-versus-a-copy\n",
            "/usr/local/lib/python3.7/dist-packages/ipykernel_launcher.py:29: SettingWithCopyWarning: \n",
            "A value is trying to be set on a copy of a slice from a DataFrame\n",
            "\n",
            "See the caveats in the documentation: https://pandas.pydata.org/pandas-docs/stable/user_guide/indexing.html#returning-a-view-versus-a-copy\n",
            "/usr/local/lib/python3.7/dist-packages/ipykernel_launcher.py:32: SettingWithCopyWarning: \n",
            "A value is trying to be set on a copy of a slice from a DataFrame\n",
            "\n",
            "See the caveats in the documentation: https://pandas.pydata.org/pandas-docs/stable/user_guide/indexing.html#returning-a-view-versus-a-copy\n",
            "/usr/local/lib/python3.7/dist-packages/ipykernel_launcher.py:33: SettingWithCopyWarning: \n",
            "A value is trying to be set on a copy of a slice from a DataFrame\n",
            "\n",
            "See the caveats in the documentation: https://pandas.pydata.org/pandas-docs/stable/user_guide/indexing.html#returning-a-view-versus-a-copy\n",
            "/usr/local/lib/python3.7/dist-packages/ipykernel_launcher.py:34: SettingWithCopyWarning: \n",
            "A value is trying to be set on a copy of a slice from a DataFrame\n",
            "\n",
            "See the caveats in the documentation: https://pandas.pydata.org/pandas-docs/stable/user_guide/indexing.html#returning-a-view-versus-a-copy\n",
            "/usr/local/lib/python3.7/dist-packages/ipykernel_launcher.py:35: SettingWithCopyWarning: \n",
            "A value is trying to be set on a copy of a slice from a DataFrame\n",
            "\n",
            "See the caveats in the documentation: https://pandas.pydata.org/pandas-docs/stable/user_guide/indexing.html#returning-a-view-versus-a-copy\n",
            "/usr/local/lib/python3.7/dist-packages/ipykernel_launcher.py:36: SettingWithCopyWarning: \n",
            "A value is trying to be set on a copy of a slice from a DataFrame\n",
            "\n",
            "See the caveats in the documentation: https://pandas.pydata.org/pandas-docs/stable/user_guide/indexing.html#returning-a-view-versus-a-copy\n",
            "/usr/local/lib/python3.7/dist-packages/ipykernel_launcher.py:37: SettingWithCopyWarning: \n",
            "A value is trying to be set on a copy of a slice from a DataFrame\n",
            "\n",
            "See the caveats in the documentation: https://pandas.pydata.org/pandas-docs/stable/user_guide/indexing.html#returning-a-view-versus-a-copy\n",
            "/usr/local/lib/python3.7/dist-packages/ipykernel_launcher.py:38: SettingWithCopyWarning: \n",
            "A value is trying to be set on a copy of a slice from a DataFrame\n",
            "\n",
            "See the caveats in the documentation: https://pandas.pydata.org/pandas-docs/stable/user_guide/indexing.html#returning-a-view-versus-a-copy\n"
          ],
          "name": "stderr"
        }
      ]
    },
    {
      "cell_type": "code",
      "metadata": {
        "id": "c74919d9"
      },
      "source": [
        "testdf=pd.read_csv(\"./dataset/TEST.csv\")"
      ],
      "id": "c74919d9",
      "execution_count": 62,
      "outputs": []
    },
    {
      "cell_type": "code",
      "metadata": {
        "colab": {
          "base_uri": "https://localhost:8080/"
        },
        "id": "479dbea9",
        "outputId": "e8949abb-16b5-458f-c1ee-9a086b751c7d"
      },
      "source": [
        "max(list(df[\"Sales\"]))"
      ],
      "id": "479dbea9",
      "execution_count": 63,
      "outputs": [
        {
          "output_type": "execute_result",
          "data": {
            "text/plain": [
              "41551"
            ]
          },
          "metadata": {
            "tags": []
          },
          "execution_count": 63
        }
      ]
    },
    {
      "cell_type": "code",
      "metadata": {
        "colab": {
          "base_uri": "https://localhost:8080/",
          "height": 419
        },
        "id": "6cfa80d7",
        "outputId": "e7819558-cdba-4b24-fb2f-2c432d99c487"
      },
      "source": [
        "testdf[testdf[\"Store\"]==1]"
      ],
      "id": "6cfa80d7",
      "execution_count": 26,
      "outputs": [
        {
          "output_type": "execute_result",
          "data": {
            "text/html": [
              "<div>\n",
              "<style scoped>\n",
              "    .dataframe tbody tr th:only-of-type {\n",
              "        vertical-align: middle;\n",
              "    }\n",
              "\n",
              "    .dataframe tbody tr th {\n",
              "        vertical-align: top;\n",
              "    }\n",
              "\n",
              "    .dataframe thead th {\n",
              "        text-align: right;\n",
              "    }\n",
              "</style>\n",
              "<table border=\"1\" class=\"dataframe\">\n",
              "  <thead>\n",
              "    <tr style=\"text-align: right;\">\n",
              "      <th></th>\n",
              "      <th>Store</th>\n",
              "      <th>DayOfWeek</th>\n",
              "      <th>Date</th>\n",
              "      <th>Open</th>\n",
              "      <th>Promo</th>\n",
              "      <th>StateHoliday</th>\n",
              "      <th>SchoolHoliday</th>\n",
              "    </tr>\n",
              "  </thead>\n",
              "  <tbody>\n",
              "    <tr>\n",
              "      <th>227</th>\n",
              "      <td>1</td>\n",
              "      <td>1</td>\n",
              "      <td>2013-02-04</td>\n",
              "      <td>1</td>\n",
              "      <td>1</td>\n",
              "      <td>0</td>\n",
              "      <td>0</td>\n",
              "    </tr>\n",
              "    <tr>\n",
              "      <th>444</th>\n",
              "      <td>1</td>\n",
              "      <td>3</td>\n",
              "      <td>2013-05-29</td>\n",
              "      <td>1</td>\n",
              "      <td>1</td>\n",
              "      <td>0</td>\n",
              "      <td>0</td>\n",
              "    </tr>\n",
              "    <tr>\n",
              "      <th>1191</th>\n",
              "      <td>1</td>\n",
              "      <td>1</td>\n",
              "      <td>2013-07-08</td>\n",
              "      <td>1</td>\n",
              "      <td>0</td>\n",
              "      <td>0</td>\n",
              "      <td>1</td>\n",
              "    </tr>\n",
              "    <tr>\n",
              "      <th>1619</th>\n",
              "      <td>1</td>\n",
              "      <td>4</td>\n",
              "      <td>2013-03-28</td>\n",
              "      <td>1</td>\n",
              "      <td>1</td>\n",
              "      <td>0</td>\n",
              "      <td>1</td>\n",
              "    </tr>\n",
              "    <tr>\n",
              "      <th>1933</th>\n",
              "      <td>1</td>\n",
              "      <td>4</td>\n",
              "      <td>2013-09-26</td>\n",
              "      <td>1</td>\n",
              "      <td>1</td>\n",
              "      <td>0</td>\n",
              "      <td>0</td>\n",
              "    </tr>\n",
              "    <tr>\n",
              "      <th>...</th>\n",
              "      <td>...</td>\n",
              "      <td>...</td>\n",
              "      <td>...</td>\n",
              "      <td>...</td>\n",
              "      <td>...</td>\n",
              "      <td>...</td>\n",
              "      <td>...</td>\n",
              "    </tr>\n",
              "    <tr>\n",
              "      <th>297264</th>\n",
              "      <td>1</td>\n",
              "      <td>7</td>\n",
              "      <td>2013-03-10</td>\n",
              "      <td>0</td>\n",
              "      <td>0</td>\n",
              "      <td>0</td>\n",
              "      <td>0</td>\n",
              "    </tr>\n",
              "    <tr>\n",
              "      <th>298023</th>\n",
              "      <td>1</td>\n",
              "      <td>7</td>\n",
              "      <td>2013-01-20</td>\n",
              "      <td>0</td>\n",
              "      <td>0</td>\n",
              "      <td>0</td>\n",
              "      <td>0</td>\n",
              "    </tr>\n",
              "    <tr>\n",
              "      <th>299380</th>\n",
              "      <td>1</td>\n",
              "      <td>1</td>\n",
              "      <td>2013-04-15</td>\n",
              "      <td>1</td>\n",
              "      <td>0</td>\n",
              "      <td>0</td>\n",
              "      <td>0</td>\n",
              "    </tr>\n",
              "    <tr>\n",
              "      <th>300032</th>\n",
              "      <td>1</td>\n",
              "      <td>1</td>\n",
              "      <td>2013-09-30</td>\n",
              "      <td>1</td>\n",
              "      <td>0</td>\n",
              "      <td>0</td>\n",
              "      <td>0</td>\n",
              "    </tr>\n",
              "    <tr>\n",
              "      <th>302953</th>\n",
              "      <td>1</td>\n",
              "      <td>7</td>\n",
              "      <td>2013-04-21</td>\n",
              "      <td>0</td>\n",
              "      <td>0</td>\n",
              "      <td>0</td>\n",
              "      <td>0</td>\n",
              "    </tr>\n",
              "  </tbody>\n",
              "</table>\n",
              "<p>273 rows × 7 columns</p>\n",
              "</div>"
            ],
            "text/plain": [
              "        Store  DayOfWeek        Date  Open  Promo StateHoliday  SchoolHoliday\n",
              "227         1          1  2013-02-04     1      1            0              0\n",
              "444         1          3  2013-05-29     1      1            0              0\n",
              "1191        1          1  2013-07-08     1      0            0              1\n",
              "1619        1          4  2013-03-28     1      1            0              1\n",
              "1933        1          4  2013-09-26     1      1            0              0\n",
              "...       ...        ...         ...   ...    ...          ...            ...\n",
              "297264      1          7  2013-03-10     0      0            0              0\n",
              "298023      1          7  2013-01-20     0      0            0              0\n",
              "299380      1          1  2013-04-15     1      0            0              0\n",
              "300032      1          1  2013-09-30     1      0            0              0\n",
              "302953      1          7  2013-04-21     0      0            0              0\n",
              "\n",
              "[273 rows x 7 columns]"
            ]
          },
          "metadata": {
            "tags": []
          },
          "execution_count": 26
        }
      ]
    },
    {
      "cell_type": "code",
      "metadata": {
        "colab": {
          "base_uri": "https://localhost:8080/"
        },
        "id": "6tF3yBASKs3l",
        "outputId": "d3e6a4d6-b419-4b37-9bd2-4d69df95a316"
      },
      "source": [
        "!rm visual_view.py\n",
        "!wget https://raw.githubusercontent.com/sipocz/messer/main/visual_view.py\n"
      ],
      "id": "6tF3yBASKs3l",
      "execution_count": 72,
      "outputs": [
        {
          "output_type": "stream",
          "text": [
            "rm: cannot remove 'visual_view.py': No such file or directory\n",
            "--2021-04-22 19:59:51--  https://raw.githubusercontent.com/sipocz/messer/main/visual_view.py\n",
            "Resolving raw.githubusercontent.com (raw.githubusercontent.com)... 185.199.108.133, 185.199.109.133, 185.199.110.133, ...\n",
            "Connecting to raw.githubusercontent.com (raw.githubusercontent.com)|185.199.108.133|:443... connected.\n",
            "HTTP request sent, awaiting response... 200 OK\n",
            "Length: 1027 (1.0K) [text/plain]\n",
            "Saving to: ‘visual_view.py’\n",
            "\n",
            "visual_view.py      100%[===================>]   1.00K  --.-KB/s    in 0s      \n",
            "\n",
            "2021-04-22 19:59:51 (45.9 MB/s) - ‘visual_view.py’ saved [1027/1027]\n",
            "\n"
          ],
          "name": "stdout"
        }
      ]
    },
    {
      "cell_type": "code",
      "metadata": {
        "colab": {
          "base_uri": "https://localhost:8080/"
        },
        "id": "dK-uYNADKyPc",
        "outputId": "f35d7a8e-9484-4ff4-a6b6-30ff545f5da9"
      },
      "source": [
        "grafikon=None\n",
        "from visual_view import grafikon\n",
        "help(grafikon)"
      ],
      "id": "dK-uYNADKyPc",
      "execution_count": 73,
      "outputs": [
        {
          "output_type": "stream",
          "text": [
            "Help on function grafikon in module visual_view:\n",
            "\n",
            "grafikon(fx, desc1, txt1, desc2='', txt2='', ngraf=2, c1='rgba(35,128,132,0.8)', c2='rgba(193,99,99,0.8)', title=None)\n",
            "    fx: dataFrame\n",
            "    desc1:column1\n",
            "    txt1: label1\n",
            "    desc2:column2\n",
            "    txt2: label2\n",
            "    ngraf: number of graph\n",
            "    c1: color1\n",
            "    c2: color2\n",
            "    title: graph title\n",
            "\n"
          ],
          "name": "stdout"
        }
      ]
    },
    {
      "cell_type": "code",
      "metadata": {
        "id": "80bc49ac"
      },
      "source": [
        "\n",
        "from tensorflow.keras.layers import InputLayer, Dense, LSTM, Input, Dropout\n",
        "from tensorflow.keras.models import Sequential, Model\n",
        "from tensorflow.keras.optimizers import SGD,Adam,Adamax,Nadam,Ftrl,Adadelta\n",
        "import tensorflow as tf\n",
        "from tensorflow.keras.callbacks import ModelCheckpoint\n",
        "from tensorflow.keras.backend import clear_session\n",
        "from tensorflow.keras.losses import mean_absolute_percentage_error"
      ],
      "id": "80bc49ac",
      "execution_count": 27,
      "outputs": []
    },
    {
      "cell_type": "code",
      "metadata": {
        "id": "8926b951"
      },
      "source": [
        "prediktorok=[\"DayOfWeek\",\"Open\",\"Promo\",\"SchoolHoliday\",\"a\",\"b\",\"c\",\"zero\",\"Day1\",\"Day2\",\"Day3\",\"Day4\",\"Day5\",\"Day6\",\"Day7\",]\n",
        "X_NN=df[df[\"Store\"]==1 ][prediktorok]\n",
        "y_NN=df[df[\"Store\"]==1 ][\"korr\"]"
      ],
      "id": "8926b951",
      "execution_count": 65,
      "outputs": []
    },
    {
      "cell_type": "code",
      "metadata": {
        "id": "CV8eKTwVGQJn"
      },
      "source": [
        ""
      ],
      "id": "CV8eKTwVGQJn",
      "execution_count": null,
      "outputs": []
    },
    {
      "cell_type": "code",
      "metadata": {
        "id": "3bed1b77"
      },
      "source": [
        "clear_session()\n",
        "\n",
        "\n",
        "\n",
        "input_size=15\n",
        "drop_frac0=0.3  \n",
        "drop_frac1=0.6  \n",
        "\n",
        "input1=Input(shape=(input_size,))\n",
        "l1_out=Dense(2600,activation=\"tanh\",kernel_initializer='lecun_normal')(input1) # \n",
        "l2_out=Dropout(drop_frac0)(l1_out)\n",
        "\n",
        "\n",
        "l3_out=Dense(3000,activation=\"tanh\",kernel_initializer='lecun_normal',)(l2_out)\n",
        "l4_out=Dropout(drop_frac1)(l3_out)\n",
        "\n",
        "pred=Dense(1,activation=\"linear\")(l4_out)\n",
        "\n",
        "model = Model(inputs=input1, outputs=pred)\n",
        "optimizer=Adamax(learning_rate=0.005,) #\n",
        "\n",
        "model.compile(loss='mae',\n",
        "    optimizer=optimizer,\n",
        "    metrics=[\"mae\"])"
      ],
      "id": "3bed1b77",
      "execution_count": 120,
      "outputs": []
    },
    {
      "cell_type": "code",
      "metadata": {
        "colab": {
          "base_uri": "https://localhost:8080/"
        },
        "id": "20d44d16",
        "outputId": "cf7be1c5-692f-418b-ef07-e0f400833e2c"
      },
      "source": [
        " history = model.fit(X_NN, y_NN, epochs=50, batch_size=21, validation_split = 0.2,\n",
        "                    \n",
        "                   verbose=1)\n",
        "\n"
      ],
      "id": "20d44d16",
      "execution_count": 121,
      "outputs": [
        {
          "output_type": "stream",
          "text": [
            "Epoch 1/50\n",
            "22/22 [==============================] - 2s 94ms/step - loss: 21.5176 - mae: 21.5176 - val_loss: 2.4365 - val_mae: 2.4365\n",
            "Epoch 2/50\n",
            "22/22 [==============================] - 2s 70ms/step - loss: 3.1209 - mae: 3.1209 - val_loss: 0.3378 - val_mae: 0.3378\n",
            "Epoch 3/50\n",
            "22/22 [==============================] - 2s 70ms/step - loss: 1.1898 - mae: 1.1898 - val_loss: 0.3239 - val_mae: 0.3239\n",
            "Epoch 4/50\n",
            "22/22 [==============================] - 2s 71ms/step - loss: 1.2532 - mae: 1.2532 - val_loss: 0.3449 - val_mae: 0.3449\n",
            "Epoch 5/50\n",
            "22/22 [==============================] - 2s 70ms/step - loss: 1.0454 - mae: 1.0454 - val_loss: 0.6095 - val_mae: 0.6095\n",
            "Epoch 6/50\n",
            "22/22 [==============================] - 2s 72ms/step - loss: 1.0400 - mae: 1.0400 - val_loss: 0.1562 - val_mae: 0.1562\n",
            "Epoch 7/50\n",
            "22/22 [==============================] - 2s 70ms/step - loss: 0.9066 - mae: 0.9066 - val_loss: 0.6586 - val_mae: 0.6586\n",
            "Epoch 8/50\n",
            "22/22 [==============================] - 2s 72ms/step - loss: 1.1559 - mae: 1.1559 - val_loss: 0.5150 - val_mae: 0.5150\n",
            "Epoch 9/50\n",
            "22/22 [==============================] - 2s 71ms/step - loss: 0.9185 - mae: 0.9185 - val_loss: 0.4609 - val_mae: 0.4609\n",
            "Epoch 10/50\n",
            "22/22 [==============================] - 2s 71ms/step - loss: 1.0096 - mae: 1.0096 - val_loss: 1.2733 - val_mae: 1.2733\n",
            "Epoch 11/50\n",
            "22/22 [==============================] - 2s 71ms/step - loss: 1.1417 - mae: 1.1417 - val_loss: 0.8661 - val_mae: 0.8661\n",
            "Epoch 12/50\n",
            "22/22 [==============================] - 2s 71ms/step - loss: 0.9610 - mae: 0.9610 - val_loss: 0.7394 - val_mae: 0.7394\n",
            "Epoch 13/50\n",
            "22/22 [==============================] - 2s 74ms/step - loss: 1.0364 - mae: 1.0364 - val_loss: 0.5843 - val_mae: 0.5843\n",
            "Epoch 14/50\n",
            "22/22 [==============================] - 2s 73ms/step - loss: 0.8782 - mae: 0.8782 - val_loss: 0.4336 - val_mae: 0.4336\n",
            "Epoch 15/50\n",
            "22/22 [==============================] - 2s 74ms/step - loss: 0.7859 - mae: 0.7859 - val_loss: 0.5684 - val_mae: 0.5684\n",
            "Epoch 16/50\n",
            "22/22 [==============================] - 2s 72ms/step - loss: 0.8031 - mae: 0.8031 - val_loss: 0.4092 - val_mae: 0.4092\n",
            "Epoch 17/50\n",
            "22/22 [==============================] - 2s 73ms/step - loss: 0.9563 - mae: 0.9563 - val_loss: 0.2625 - val_mae: 0.2625\n",
            "Epoch 18/50\n",
            "22/22 [==============================] - 2s 72ms/step - loss: 0.7535 - mae: 0.7535 - val_loss: 1.5263 - val_mae: 1.5263\n",
            "Epoch 19/50\n",
            "22/22 [==============================] - 2s 74ms/step - loss: 1.1748 - mae: 1.1748 - val_loss: 2.0654 - val_mae: 2.0654\n",
            "Epoch 20/50\n",
            "22/22 [==============================] - 2s 73ms/step - loss: 1.6154 - mae: 1.6154 - val_loss: 0.6534 - val_mae: 0.6534\n",
            "Epoch 21/50\n",
            "22/22 [==============================] - 2s 73ms/step - loss: 0.7738 - mae: 0.7738 - val_loss: 0.2379 - val_mae: 0.2379\n",
            "Epoch 22/50\n",
            "22/22 [==============================] - 2s 72ms/step - loss: 0.6263 - mae: 0.6263 - val_loss: 0.2241 - val_mae: 0.2241\n",
            "Epoch 23/50\n",
            "22/22 [==============================] - 2s 72ms/step - loss: 0.7181 - mae: 0.7181 - val_loss: 0.8725 - val_mae: 0.8725\n",
            "Epoch 24/50\n",
            "22/22 [==============================] - 2s 74ms/step - loss: 0.7386 - mae: 0.7386 - val_loss: 0.6100 - val_mae: 0.6100\n",
            "Epoch 25/50\n",
            "22/22 [==============================] - 2s 73ms/step - loss: 0.8253 - mae: 0.8253 - val_loss: 0.5747 - val_mae: 0.5747\n",
            "Epoch 26/50\n",
            "22/22 [==============================] - 2s 74ms/step - loss: 0.8409 - mae: 0.8409 - val_loss: 1.1206 - val_mae: 1.1206\n",
            "Epoch 27/50\n",
            "22/22 [==============================] - 2s 73ms/step - loss: 0.8031 - mae: 0.8031 - val_loss: 0.2950 - val_mae: 0.2950\n",
            "Epoch 28/50\n",
            "22/22 [==============================] - 2s 72ms/step - loss: 0.7025 - mae: 0.7025 - val_loss: 0.6895 - val_mae: 0.6895\n",
            "Epoch 29/50\n",
            "22/22 [==============================] - 2s 72ms/step - loss: 0.6399 - mae: 0.6399 - val_loss: 0.4465 - val_mae: 0.4465\n",
            "Epoch 30/50\n",
            "22/22 [==============================] - 2s 72ms/step - loss: 0.6176 - mae: 0.6176 - val_loss: 1.2783 - val_mae: 1.2783\n",
            "Epoch 31/50\n",
            "22/22 [==============================] - 2s 72ms/step - loss: 1.0247 - mae: 1.0247 - val_loss: 1.1821 - val_mae: 1.1821\n",
            "Epoch 32/50\n",
            "22/22 [==============================] - 2s 72ms/step - loss: 0.8580 - mae: 0.8580 - val_loss: 0.7096 - val_mae: 0.7096\n",
            "Epoch 33/50\n",
            "22/22 [==============================] - 2s 72ms/step - loss: 0.6844 - mae: 0.6844 - val_loss: 0.2668 - val_mae: 0.2668\n",
            "Epoch 34/50\n",
            "22/22 [==============================] - 2s 73ms/step - loss: 0.6299 - mae: 0.6299 - val_loss: 0.0829 - val_mae: 0.0829\n",
            "Epoch 35/50\n",
            "22/22 [==============================] - 2s 72ms/step - loss: 0.5530 - mae: 0.5530 - val_loss: 0.5722 - val_mae: 0.5722\n",
            "Epoch 36/50\n",
            "22/22 [==============================] - 2s 73ms/step - loss: 0.9381 - mae: 0.9381 - val_loss: 1.9132 - val_mae: 1.9132\n",
            "Epoch 37/50\n",
            "22/22 [==============================] - 2s 74ms/step - loss: 1.5416 - mae: 1.5416 - val_loss: 0.9424 - val_mae: 0.9424\n",
            "Epoch 38/50\n",
            "22/22 [==============================] - 2s 73ms/step - loss: 0.7154 - mae: 0.7154 - val_loss: 0.1267 - val_mae: 0.1267\n",
            "Epoch 39/50\n",
            "22/22 [==============================] - 2s 73ms/step - loss: 0.5792 - mae: 0.5792 - val_loss: 0.3667 - val_mae: 0.3667\n",
            "Epoch 40/50\n",
            "22/22 [==============================] - 2s 73ms/step - loss: 0.6686 - mae: 0.6686 - val_loss: 0.2754 - val_mae: 0.2754\n",
            "Epoch 41/50\n",
            "22/22 [==============================] - 2s 73ms/step - loss: 0.5573 - mae: 0.5573 - val_loss: 0.3646 - val_mae: 0.3646\n",
            "Epoch 42/50\n",
            "22/22 [==============================] - 2s 73ms/step - loss: 0.5565 - mae: 0.5565 - val_loss: 0.3851 - val_mae: 0.3851\n",
            "Epoch 43/50\n",
            "22/22 [==============================] - 2s 72ms/step - loss: 0.5671 - mae: 0.5671 - val_loss: 0.0924 - val_mae: 0.0924\n",
            "Epoch 44/50\n",
            "22/22 [==============================] - 2s 73ms/step - loss: 0.5595 - mae: 0.5595 - val_loss: 0.0371 - val_mae: 0.0371\n",
            "Epoch 45/50\n",
            "22/22 [==============================] - 2s 72ms/step - loss: 0.5018 - mae: 0.5018 - val_loss: 0.6269 - val_mae: 0.6269\n",
            "Epoch 46/50\n",
            "22/22 [==============================] - 2s 74ms/step - loss: 0.5872 - mae: 0.5872 - val_loss: 0.4116 - val_mae: 0.4116\n",
            "Epoch 47/50\n",
            "22/22 [==============================] - 2s 72ms/step - loss: 0.6330 - mae: 0.6330 - val_loss: 0.3107 - val_mae: 0.3107\n",
            "Epoch 48/50\n",
            "22/22 [==============================] - 2s 73ms/step - loss: 0.5672 - mae: 0.5672 - val_loss: 0.6256 - val_mae: 0.6256\n",
            "Epoch 49/50\n",
            "22/22 [==============================] - 2s 73ms/step - loss: 0.6508 - mae: 0.6508 - val_loss: 0.8824 - val_mae: 0.8824\n",
            "Epoch 50/50\n",
            "22/22 [==============================] - 2s 73ms/step - loss: 0.8928 - mae: 0.8928 - val_loss: 0.7176 - val_mae: 0.7176\n"
          ],
          "name": "stdout"
        }
      ]
    },
    {
      "cell_type": "code",
      "metadata": {
        "colab": {
          "base_uri": "https://localhost:8080/"
        },
        "id": "ef300e4a",
        "outputId": "811b1f96-140a-42bf-d53d-57975d6149b9"
      },
      "source": [
        "datag=pd.DataFrame()\n",
        "y_pred=model.predict(X_NN)\n",
        "\n",
        "y_pred.T"
      ],
      "id": "ef300e4a",
      "execution_count": 113,
      "outputs": [
        {
          "output_type": "execute_result",
          "data": {
            "text/plain": [
              "array([[0.11551107, 0.11240118, 0.12254647, 0.12865467, 0.14570197,\n",
              "        0.11385771, 0.10014363, 0.09771079, 0.09689645, 0.09648488,\n",
              "        0.09797732, 0.11385771, 0.11884297, 0.11418387, 0.12142993,\n",
              "        0.12878816, 0.14292537, 0.11385771, 0.10014363, 0.09771079,\n",
              "        0.09689645, 0.09648488, 0.09797732, 0.11385771, 0.11884297,\n",
              "        0.11418387, 0.12142993, 0.12878816, 0.14292537, 0.11385771,\n",
              "        0.10014363, 0.0977108 , 0.09689645, 0.09648488, 0.09797732,\n",
              "        0.11385771, 0.11884297, 0.11418387, 0.12142993, 0.12878816,\n",
              "        0.14292537, 0.11385771, 0.10014363, 0.09771079, 0.09689645,\n",
              "        0.09648488, 0.09797732, 0.11385771, 0.11884297, 0.12142993,\n",
              "        0.12878816, 0.14292537, 0.11385771, 0.10014363, 0.09771079,\n",
              "        0.09689645, 0.09648488, 0.11385771, 0.11884297, 0.11418387,\n",
              "        0.12142993, 0.12878816, 0.14292537, 0.11385771, 0.10014363,\n",
              "        0.09689645, 0.09648488, 0.09797732, 0.11385771, 0.11884297,\n",
              "        0.11418387, 0.12142993, 0.12878816, 0.14292537, 0.11385771,\n",
              "        0.11418387, 0.12142993, 0.12878816, 0.14292537, 0.11385771,\n",
              "        0.10014363, 0.09771079, 0.09689645, 0.09648488, 0.09797732,\n",
              "        0.11385771, 0.11884297, 0.11418387, 0.12142993, 0.12878816,\n",
              "        0.14292537, 0.11385771, 0.10054105, 0.09918966, 0.09831185,\n",
              "        0.09885433, 0.1103958 , 0.11240118, 0.12254647, 0.12865467,\n",
              "        0.14570197, 0.11385771, 0.10014363, 0.09771079, 0.09689645,\n",
              "        0.09648488, 0.09797732, 0.11385771, 0.11884297, 0.11418387,\n",
              "        0.12142993, 0.12878816, 0.14292537, 0.11385771, 0.10014363,\n",
              "        0.09771079, 0.09689645, 0.09648488, 0.09797732, 0.11385771,\n",
              "        0.11884297, 0.11418387, 0.12142993, 0.12878816, 0.14292537,\n",
              "        0.11385771, 0.10014363, 0.0977108 , 0.09689645, 0.09648488,\n",
              "        0.09797732, 0.11385771, 0.11884297, 0.11418387, 0.12142993,\n",
              "        0.12878816, 0.14292537, 0.11385771, 0.10014363, 0.09771079,\n",
              "        0.09689645, 0.09648488, 0.09797732, 0.11385771, 0.11884297,\n",
              "        0.11418387, 0.12142993, 0.12878816, 0.14292537, 0.11385771,\n",
              "        0.11884297, 0.11418387, 0.12142993, 0.12878816, 0.14292537,\n",
              "        0.11385771, 0.10014363, 0.09771079, 0.09689645, 0.09648488,\n",
              "        0.09797732, 0.11385771, 0.11884297, 0.11418387, 0.12142993,\n",
              "        0.12878816, 0.14292537, 0.11385771, 0.11551107, 0.11240118,\n",
              "        0.12254647, 0.12865467, 0.14570197, 0.1103958 , 0.10054105,\n",
              "        0.09831185, 0.09885433, 0.11842854, 0.1103958 , 0.09831185,\n",
              "        0.09885433, 0.11842854, 0.11385771, 0.11884297, 0.11418387,\n",
              "        0.12142993, 0.12878816, 0.14292537, 0.11385771, 0.10014363,\n",
              "        0.0977108 , 0.09689645, 0.09648488, 0.09797732, 0.11385771,\n",
              "        0.11884297, 0.11418387, 0.12142993, 0.12878816, 0.14292537,\n",
              "        0.11385771, 0.11884297, 0.11418387, 0.12142993, 0.12878816,\n",
              "        0.14292537, 0.11385771, 0.10014363, 0.09771079, 0.09689645,\n",
              "        0.09648488, 0.09797732, 0.11385771, 0.11884297, 0.11418387,\n",
              "        0.12142993, 0.12878816, 0.14292537, 0.11385771, 0.11884297,\n",
              "        0.11418387, 0.12142993, 0.12878816, 0.14292537, 0.11385771,\n",
              "        0.10054105, 0.09918966, 0.09831185, 0.09885433, 0.11842854,\n",
              "        0.1103958 , 0.11551107, 0.11240118, 0.12254647, 0.12865467,\n",
              "        0.14570197, 0.11385771, 0.10014363, 0.09771079, 0.09689645,\n",
              "        0.09648488, 0.09797732, 0.11385771, 0.11884297, 0.11418387,\n",
              "        0.12142993, 0.12878816, 0.14292537, 0.11385771, 0.11418387,\n",
              "        0.12142993, 0.12878816, 0.14292537, 0.11385771, 0.10014363,\n",
              "        0.0977108 , 0.09689645, 0.09648488, 0.09797732, 0.11385771,\n",
              "        0.11884297, 0.11418387, 0.12142993, 0.12878816, 0.14292537,\n",
              "        0.11385771, 0.10014363, 0.09771079, 0.09689645, 0.09648488,\n",
              "        0.09797732, 0.11385771, 0.11551107, 0.11240118, 0.12254647,\n",
              "        0.12865467, 0.14570197, 0.1103958 , 0.10054105, 0.09918966,\n",
              "        0.09831185, 0.09885433, 0.11842854, 0.1103958 , 0.11551107,\n",
              "        0.11240118, 0.12254647, 0.12865467, 0.14570197, 0.1103958 ,\n",
              "        0.10054105, 0.09918966, 0.09831185, 0.09885433, 0.11842854,\n",
              "        0.1103958 , 0.11551107, 0.11240118, 0.12254647, 0.12865467,\n",
              "        0.14570197, 0.1103958 , 0.11551107, 0.11418387, 0.12254647,\n",
              "        0.12865467, 0.14570197, 0.11385771, 0.10014363, 0.09771079,\n",
              "        0.09689645, 0.09648488, 0.09797732, 0.11385771, 0.11884297,\n",
              "        0.11418387, 0.12142993, 0.12878816, 0.14292537, 0.11385771,\n",
              "        0.10014363, 0.09771079, 0.09689645, 0.09648488, 0.09797732,\n",
              "        0.11385771, 0.11884297, 0.11418387, 0.12142993, 0.12878816,\n",
              "        0.14292537, 0.11385771, 0.10014363, 0.09771079, 0.09689645,\n",
              "        0.09648488, 0.09797732, 0.11385771, 0.11884297, 0.12142993,\n",
              "        0.12878816, 0.14292537, 0.11385771, 0.10014363, 0.09771079,\n",
              "        0.09689645, 0.09648488, 0.11385771, 0.11884297, 0.11418387,\n",
              "        0.12142994, 0.12878816, 0.14292537, 0.11385771, 0.10014363,\n",
              "        0.09689645, 0.09648488, 0.09797732, 0.11385771, 0.11884297,\n",
              "        0.11418387, 0.12142993, 0.12878816, 0.14292537, 0.11385771,\n",
              "        0.10014363, 0.09771079, 0.09689645, 0.09648488, 0.09797732,\n",
              "        0.11385771, 0.11884297, 0.11418387, 0.12142993, 0.12878816,\n",
              "        0.14292537, 0.11385771, 0.11884297, 0.12142993, 0.12878816,\n",
              "        0.14292537, 0.11385771, 0.10054105, 0.09918967, 0.09831185,\n",
              "        0.09885433, 0.1103958 , 0.11240118, 0.12254647, 0.12865467,\n",
              "        0.14570197, 0.11385771, 0.10014363, 0.09771079, 0.09689645,\n",
              "        0.09648488, 0.09797732, 0.11385771, 0.11884297, 0.11418387,\n",
              "        0.12142993, 0.12878816, 0.14292537, 0.11385771, 0.10014363,\n",
              "        0.09771079, 0.09689645, 0.09648488, 0.09797732, 0.11385771,\n",
              "        0.11884297, 0.11418387, 0.12142993, 0.12878816, 0.14292537,\n",
              "        0.11385771, 0.10014363, 0.09771079, 0.09689645, 0.09648488,\n",
              "        0.09797732, 0.11385771, 0.11884297, 0.11418387, 0.12142993,\n",
              "        0.12878816, 0.14292537, 0.11385771, 0.10014363, 0.09771079,\n",
              "        0.09689645, 0.09648488, 0.09797732, 0.11385771, 0.11884297,\n",
              "        0.11418387, 0.12142993, 0.12878816, 0.14292537, 0.11385771,\n",
              "        0.10014363, 0.09771079, 0.09689645, 0.09648488, 0.09797732,\n",
              "        0.11385771, 0.11884297, 0.11418387, 0.12142993, 0.12878816,\n",
              "        0.14292537, 0.11385771, 0.10014363, 0.09771079, 0.09689645,\n",
              "        0.09648488, 0.09797732, 0.11385771, 0.11884297, 0.11418387,\n",
              "        0.12142993, 0.12878816, 0.14292537, 0.11385771, 0.10014363,\n",
              "        0.09771079, 0.09689645, 0.09648488, 0.09797732, 0.11385771,\n",
              "        0.11551107, 0.11240118, 0.12254647, 0.12865467, 0.14570197,\n",
              "        0.1103958 , 0.10054105, 0.09918966, 0.09885433, 0.11842854,\n",
              "        0.1103958 , 0.10054105, 0.09885433, 0.11842854, 0.11385771,\n",
              "        0.11884297, 0.11418387, 0.12142993, 0.12878816, 0.14292537,\n",
              "        0.11385771, 0.10014363, 0.09771079, 0.09689645, 0.09648488,\n",
              "        0.09797732, 0.11385771, 0.11884297, 0.11418387, 0.12142993,\n",
              "        0.12878816, 0.14292537, 0.11385771, 0.10014363, 0.09771079,\n",
              "        0.09689645, 0.09648488, 0.09797732, 0.11385771, 0.11884297,\n",
              "        0.11418387, 0.12142994, 0.12878816, 0.14292537, 0.11385771,\n",
              "        0.10014363, 0.09771079, 0.09689645, 0.09648488, 0.09797732,\n",
              "        0.11385771, 0.11884297, 0.11418387, 0.12142993, 0.12878816,\n",
              "        0.14292537, 0.11385771, 0.10014363, 0.09771079, 0.09689645,\n",
              "        0.09648488, 0.09797732, 0.11385771, 0.11551107, 0.11240118,\n",
              "        0.12254647, 0.12865467, 0.14570197, 0.1103958 , 0.10054105,\n",
              "        0.09918966, 0.09831185, 0.09885433, 0.11842854, 0.11385771,\n",
              "        0.11884297, 0.11418387, 0.12142993, 0.12878816, 0.14292537,\n",
              "        0.11385771, 0.10014363, 0.09689645, 0.09648488]], dtype=float32)"
            ]
          },
          "metadata": {
            "tags": []
          },
          "execution_count": 113
        }
      ]
    },
    {
      "cell_type": "code",
      "metadata": {
        "colab": {
          "base_uri": "https://localhost:8080/"
        },
        "id": "M0Bp4uCGLo-4",
        "outputId": "82f98c71-6343-4244-dfa2-3f5d49ebba03"
      },
      "source": [
        "y_NN"
      ],
      "id": "M0Bp4uCGLo-4",
      "execution_count": 114,
      "outputs": [
        {
          "output_type": "execute_result",
          "data": {
            "text/plain": [
              "0         0.126664\n",
              "1115      0.120815\n",
              "2230      0.115087\n",
              "3345      0.120599\n",
              "4460      0.146856\n",
              "            ...   \n",
              "705010    0.144497\n",
              "707240    0.128806\n",
              "708355    0.131092\n",
              "710585    0.096291\n",
              "711700    0.100551\n",
              "Name: korr, Length: 554, dtype: float64"
            ]
          },
          "metadata": {
            "tags": []
          },
          "execution_count": 114
        }
      ]
    },
    {
      "cell_type": "code",
      "metadata": {
        "id": "TkcMG3ppLYik"
      },
      "source": [
        "datag[\"pred\"]=list(y_pred.T[0])\n",
        "datag[\"y\"]=list(y_NN)"
      ],
      "id": "TkcMG3ppLYik",
      "execution_count": 115,
      "outputs": []
    },
    {
      "cell_type": "code",
      "metadata": {
        "colab": {
          "base_uri": "https://localhost:8080/",
          "height": 204
        },
        "id": "Nr88kOH6LuS4",
        "outputId": "131f8652-d37e-46e8-8833-ae10defe605b"
      },
      "source": [
        "datag.head()"
      ],
      "id": "Nr88kOH6LuS4",
      "execution_count": 116,
      "outputs": [
        {
          "output_type": "execute_result",
          "data": {
            "text/html": [
              "<div>\n",
              "<style scoped>\n",
              "    .dataframe tbody tr th:only-of-type {\n",
              "        vertical-align: middle;\n",
              "    }\n",
              "\n",
              "    .dataframe tbody tr th {\n",
              "        vertical-align: top;\n",
              "    }\n",
              "\n",
              "    .dataframe thead th {\n",
              "        text-align: right;\n",
              "    }\n",
              "</style>\n",
              "<table border=\"1\" class=\"dataframe\">\n",
              "  <thead>\n",
              "    <tr style=\"text-align: right;\">\n",
              "      <th></th>\n",
              "      <th>pred</th>\n",
              "      <th>y</th>\n",
              "    </tr>\n",
              "  </thead>\n",
              "  <tbody>\n",
              "    <tr>\n",
              "      <th>0</th>\n",
              "      <td>0.115511</td>\n",
              "      <td>0.126664</td>\n",
              "    </tr>\n",
              "    <tr>\n",
              "      <th>1</th>\n",
              "      <td>0.112401</td>\n",
              "      <td>0.120815</td>\n",
              "    </tr>\n",
              "    <tr>\n",
              "      <th>2</th>\n",
              "      <td>0.122546</td>\n",
              "      <td>0.115087</td>\n",
              "    </tr>\n",
              "    <tr>\n",
              "      <th>3</th>\n",
              "      <td>0.128655</td>\n",
              "      <td>0.120599</td>\n",
              "    </tr>\n",
              "    <tr>\n",
              "      <th>4</th>\n",
              "      <td>0.145702</td>\n",
              "      <td>0.146856</td>\n",
              "    </tr>\n",
              "  </tbody>\n",
              "</table>\n",
              "</div>"
            ],
            "text/plain": [
              "       pred         y\n",
              "0  0.115511  0.126664\n",
              "1  0.112401  0.120815\n",
              "2  0.122546  0.115087\n",
              "3  0.128655  0.120599\n",
              "4  0.145702  0.146856"
            ]
          },
          "metadata": {
            "tags": []
          },
          "execution_count": 116
        }
      ]
    },
    {
      "cell_type": "code",
      "metadata": {
        "colab": {
          "base_uri": "https://localhost:8080/",
          "height": 617
        },
        "id": "FQutBKh_LhEP",
        "outputId": "bfa25422-1498-4913-e3c3-ca8e51510866"
      },
      "source": [
        "grafikon(datag,\"pred\",\"pred\",\"y\",\"y\")"
      ],
      "id": "FQutBKh_LhEP",
      "execution_count": 117,
      "outputs": [
        {
          "output_type": "display_data",
          "data": {
            "text/html": [
              "<html>\n",
              "<head><meta charset=\"utf-8\" /></head>\n",
              "<body>\n",
              "    <div>\n",
              "            <script src=\"https://cdnjs.cloudflare.com/ajax/libs/mathjax/2.7.5/MathJax.js?config=TeX-AMS-MML_SVG\"></script><script type=\"text/javascript\">if (window.MathJax) {MathJax.Hub.Config({SVG: {font: \"STIX-Web\"}});}</script>\n",
              "                <script type=\"text/javascript\">window.PlotlyConfig = {MathJaxConfig: 'local'};</script>\n",
              "        <script src=\"https://cdn.plot.ly/plotly-latest.min.js\"></script>    \n",
              "            <div id=\"0fdcbf01-01b9-497c-87cd-706f960fca30\" class=\"plotly-graph-div\" style=\"height:600px; width:1200px;\"></div>\n",
              "            <script type=\"text/javascript\">\n",
              "                \n",
              "                    window.PLOTLYENV=window.PLOTLYENV || {};\n",
              "                    \n",
              "                if (document.getElementById(\"0fdcbf01-01b9-497c-87cd-706f960fca30\")) {\n",
              "                    Plotly.newPlot(\n",
              "                        '0fdcbf01-01b9-497c-87cd-706f960fca30',\n",
              "                        [{\"line\": {\"color\": \"rgba(35,128,132,0.8)\"}, \"name\": \"pred\", \"showlegend\": true, \"type\": \"scatter\", \"x\": [0, 1, 2, 3, 4, 5, 6, 7, 8, 9, 10, 11, 12, 13, 14, 15, 16, 17, 18, 19, 20, 21, 22, 23, 24, 25, 26, 27, 28, 29, 30, 31, 32, 33, 34, 35, 36, 37, 38, 39, 40, 41, 42, 43, 44, 45, 46, 47, 48, 49, 50, 51, 52, 53, 54, 55, 56, 57, 58, 59, 60, 61, 62, 63, 64, 65, 66, 67, 68, 69, 70, 71, 72, 73, 74, 75, 76, 77, 78, 79, 80, 81, 82, 83, 84, 85, 86, 87, 88, 89, 90, 91, 92, 93, 94, 95, 96, 97, 98, 99, 100, 101, 102, 103, 104, 105, 106, 107, 108, 109, 110, 111, 112, 113, 114, 115, 116, 117, 118, 119, 120, 121, 122, 123, 124, 125, 126, 127, 128, 129, 130, 131, 132, 133, 134, 135, 136, 137, 138, 139, 140, 141, 142, 143, 144, 145, 146, 147, 148, 149, 150, 151, 152, 153, 154, 155, 156, 157, 158, 159, 160, 161, 162, 163, 164, 165, 166, 167, 168, 169, 170, 171, 172, 173, 174, 175, 176, 177, 178, 179, 180, 181, 182, 183, 184, 185, 186, 187, 188, 189, 190, 191, 192, 193, 194, 195, 196, 197, 198, 199, 200, 201, 202, 203, 204, 205, 206, 207, 208, 209, 210, 211, 212, 213, 214, 215, 216, 217, 218, 219, 220, 221, 222, 223, 224, 225, 226, 227, 228, 229, 230, 231, 232, 233, 234, 235, 236, 237, 238, 239, 240, 241, 242, 243, 244, 245, 246, 247, 248, 249, 250, 251, 252, 253, 254, 255, 256, 257, 258, 259, 260, 261, 262, 263, 264, 265, 266, 267, 268, 269, 270, 271, 272, 273, 274, 275, 276, 277, 278, 279, 280, 281, 282, 283, 284, 285, 286, 287, 288, 289, 290, 291, 292, 293, 294, 295, 296, 297, 298, 299, 300, 301, 302, 303, 304, 305, 306, 307, 308, 309, 310, 311, 312, 313, 314, 315, 316, 317, 318, 319, 320, 321, 322, 323, 324, 325, 326, 327, 328, 329, 330, 331, 332, 333, 334, 335, 336, 337, 338, 339, 340, 341, 342, 343, 344, 345, 346, 347, 348, 349, 350, 351, 352, 353, 354, 355, 356, 357, 358, 359, 360, 361, 362, 363, 364, 365, 366, 367, 368, 369, 370, 371, 372, 373, 374, 375, 376, 377, 378, 379, 380, 381, 382, 383, 384, 385, 386, 387, 388, 389, 390, 391, 392, 393, 394, 395, 396, 397, 398, 399, 400, 401, 402, 403, 404, 405, 406, 407, 408, 409, 410, 411, 412, 413, 414, 415, 416, 417, 418, 419, 420, 421, 422, 423, 424, 425, 426, 427, 428, 429, 430, 431, 432, 433, 434, 435, 436, 437, 438, 439, 440, 441, 442, 443, 444, 445, 446, 447, 448, 449, 450, 451, 452, 453, 454, 455, 456, 457, 458, 459, 460, 461, 462, 463, 464, 465, 466, 467, 468, 469, 470, 471, 472, 473, 474, 475, 476, 477, 478, 479, 480, 481, 482, 483, 484, 485, 486, 487, 488, 489, 490, 491, 492, 493, 494, 495, 496, 497, 498, 499, 500, 501, 502, 503, 504, 505, 506, 507, 508, 509, 510, 511, 512, 513, 514, 515, 516, 517, 518, 519, 520, 521, 522, 523, 524, 525, 526, 527, 528, 529, 530, 531, 532, 533, 534, 535, 536, 537, 538, 539, 540, 541, 542, 543, 544, 545, 546, 547, 548, 549, 550, 551, 552, 553], \"xaxis\": \"x\", \"y\": [0.11551106721162796, 0.11240117996931076, 0.1225464716553688, 0.12865467369556427, 0.14570197463035583, 0.1138577088713646, 0.10014362633228302, 0.09771078824996948, 0.0968964472413063, 0.09648488461971283, 0.09797731786966324, 0.1138577088713646, 0.1188429743051529, 0.11418387293815613, 0.1214299276471138, 0.12878815829753876, 0.14292536675930023, 0.1138577088713646, 0.10014362633228302, 0.09771078824996948, 0.0968964472413063, 0.09648488461971283, 0.09797731786966324, 0.1138577088713646, 0.1188429743051529, 0.11418387293815613, 0.1214299276471138, 0.12878815829753876, 0.14292536675930023, 0.1138577088713646, 0.10014362633228302, 0.09771079570055008, 0.0968964472413063, 0.09648488461971283, 0.09797731786966324, 0.1138577088713646, 0.1188429743051529, 0.11418387293815613, 0.1214299276471138, 0.12878815829753876, 0.14292536675930023, 0.1138577088713646, 0.10014362633228302, 0.09771078824996948, 0.0968964472413063, 0.09648488461971283, 0.09797731786966324, 0.1138577088713646, 0.1188429743051529, 0.1214299276471138, 0.12878815829753876, 0.14292536675930023, 0.1138577088713646, 0.10014362633228302, 0.09771078824996948, 0.0968964472413063, 0.09648488461971283, 0.1138577088713646, 0.1188429743051529, 0.11418387293815613, 0.1214299276471138, 0.12878815829753876, 0.14292536675930023, 0.1138577088713646, 0.10014362633228302, 0.0968964472413063, 0.09648488461971283, 0.09797731786966324, 0.1138577088713646, 0.1188429743051529, 0.11418387293815613, 0.1214299276471138, 0.12878815829753876, 0.14292536675930023, 0.1138577088713646, 0.11418387293815613, 0.1214299276471138, 0.12878815829753876, 0.14292536675930023, 0.1138577088713646, 0.10014362633228302, 0.09771078824996948, 0.0968964472413063, 0.09648488461971283, 0.09797731786966324, 0.1138577088713646, 0.1188429743051529, 0.11418387293815613, 0.1214299276471138, 0.12878815829753876, 0.14292536675930023, 0.1138577088713646, 0.10054104775190353, 0.09918966144323349, 0.09831184893846512, 0.09885433316230774, 0.11039580404758453, 0.11240117996931076, 0.1225464716553688, 0.12865467369556427, 0.14570197463035583, 0.1138577088713646, 0.10014362633228302, 0.09771078824996948, 0.0968964472413063, 0.09648488461971283, 0.09797731786966324, 0.1138577088713646, 0.1188429743051529, 0.11418387293815613, 0.1214299276471138, 0.12878815829753876, 0.14292536675930023, 0.1138577088713646, 0.10014362633228302, 0.09771078824996948, 0.0968964472413063, 0.09648488461971283, 0.09797731786966324, 0.1138577088713646, 0.1188429743051529, 0.11418387293815613, 0.1214299276471138, 0.12878815829753876, 0.14292536675930023, 0.1138577088713646, 0.10014362633228302, 0.09771079570055008, 0.0968964472413063, 0.09648488461971283, 0.09797731786966324, 0.1138577088713646, 0.1188429743051529, 0.11418387293815613, 0.1214299276471138, 0.12878815829753876, 0.14292536675930023, 0.1138577088713646, 0.10014362633228302, 0.09771078824996948, 0.0968964472413063, 0.09648488461971283, 0.09797731786966324, 0.1138577088713646, 0.1188429743051529, 0.11418387293815613, 0.1214299276471138, 0.12878815829753876, 0.14292536675930023, 0.1138577088713646, 0.1188429743051529, 0.11418387293815613, 0.1214299276471138, 0.12878815829753876, 0.14292536675930023, 0.1138577088713646, 0.10014362633228302, 0.09771078824996948, 0.0968964472413063, 0.09648488461971283, 0.09797731786966324, 0.1138577088713646, 0.1188429743051529, 0.11418387293815613, 0.1214299276471138, 0.12878815829753876, 0.14292536675930023, 0.1138577088713646, 0.11551106721162796, 0.11240117996931076, 0.1225464716553688, 0.12865467369556427, 0.14570197463035583, 0.11039580404758453, 0.10054104775190353, 0.09831184893846512, 0.09885433316230774, 0.1184285432100296, 0.11039580404758453, 0.09831184893846512, 0.09885433316230774, 0.1184285432100296, 0.1138577088713646, 0.1188429743051529, 0.11418387293815613, 0.1214299276471138, 0.12878815829753876, 0.14292536675930023, 0.1138577088713646, 0.10014362633228302, 0.09771079570055008, 0.0968964472413063, 0.09648488461971283, 0.09797731786966324, 0.1138577088713646, 0.1188429743051529, 0.11418387293815613, 0.1214299276471138, 0.12878815829753876, 0.14292536675930023, 0.1138577088713646, 0.1188429743051529, 0.11418387293815613, 0.1214299276471138, 0.12878815829753876, 0.14292536675930023, 0.1138577088713646, 0.10014362633228302, 0.09771078824996948, 0.0968964472413063, 0.09648488461971283, 0.09797731786966324, 0.1138577088713646, 0.1188429743051529, 0.11418387293815613, 0.1214299276471138, 0.12878815829753876, 0.14292536675930023, 0.1138577088713646, 0.1188429743051529, 0.11418387293815613, 0.1214299276471138, 0.12878815829753876, 0.14292536675930023, 0.1138577088713646, 0.10054104775190353, 0.09918966144323349, 0.09831184893846512, 0.09885433316230774, 0.1184285432100296, 0.11039580404758453, 0.11551106721162796, 0.11240117996931076, 0.1225464716553688, 0.12865467369556427, 0.14570197463035583, 0.1138577088713646, 0.10014362633228302, 0.09771078824996948, 0.0968964472413063, 0.09648488461971283, 0.09797731786966324, 0.1138577088713646, 0.1188429743051529, 0.11418387293815613, 0.1214299276471138, 0.12878815829753876, 0.14292536675930023, 0.1138577088713646, 0.11418387293815613, 0.1214299276471138, 0.12878815829753876, 0.14292536675930023, 0.1138577088713646, 0.10014362633228302, 0.09771079570055008, 0.0968964472413063, 0.09648488461971283, 0.09797731786966324, 0.1138577088713646, 0.1188429743051529, 0.11418387293815613, 0.1214299276471138, 0.12878815829753876, 0.14292536675930023, 0.1138577088713646, 0.10014362633228302, 0.09771078824996948, 0.0968964472413063, 0.09648488461971283, 0.09797731786966324, 0.1138577088713646, 0.11551106721162796, 0.11240117996931076, 0.1225464716553688, 0.12865467369556427, 0.14570197463035583, 0.11039580404758453, 0.10054104775190353, 0.09918966144323349, 0.09831184893846512, 0.09885433316230774, 0.1184285432100296, 0.11039580404758453, 0.11551106721162796, 0.11240117996931076, 0.1225464716553688, 0.12865467369556427, 0.14570197463035583, 0.11039580404758453, 0.10054104775190353, 0.09918966144323349, 0.09831184893846512, 0.09885433316230774, 0.1184285432100296, 0.11039580404758453, 0.11551106721162796, 0.11240117996931076, 0.1225464716553688, 0.12865467369556427, 0.14570197463035583, 0.11039580404758453, 0.11551106721162796, 0.11418387293815613, 0.1225464716553688, 0.12865467369556427, 0.14570197463035583, 0.1138577088713646, 0.10014362633228302, 0.09771078824996948, 0.0968964472413063, 0.09648488461971283, 0.09797731786966324, 0.1138577088713646, 0.1188429743051529, 0.11418387293815613, 0.1214299276471138, 0.12878815829753876, 0.14292536675930023, 0.1138577088713646, 0.10014362633228302, 0.09771078824996948, 0.0968964472413063, 0.09648488461971283, 0.09797731786966324, 0.1138577088713646, 0.1188429743051529, 0.11418387293815613, 0.1214299276471138, 0.12878815829753876, 0.14292536675930023, 0.1138577088713646, 0.10014362633228302, 0.09771078824996948, 0.0968964472413063, 0.09648488461971283, 0.09797731786966324, 0.1138577088713646, 0.1188429743051529, 0.1214299276471138, 0.12878815829753876, 0.14292536675930023, 0.1138577088713646, 0.10014362633228302, 0.09771078824996948, 0.0968964472413063, 0.09648488461971283, 0.1138577088713646, 0.1188429743051529, 0.11418387293815613, 0.1214299350976944, 0.12878815829753876, 0.14292536675930023, 0.1138577088713646, 0.10014362633228302, 0.0968964472413063, 0.09648488461971283, 0.09797731786966324, 0.1138577088713646, 0.1188429743051529, 0.11418387293815613, 0.1214299276471138, 0.12878815829753876, 0.14292536675930023, 0.1138577088713646, 0.10014362633228302, 0.09771078824996948, 0.0968964472413063, 0.09648488461971283, 0.09797731786966324, 0.1138577088713646, 0.1188429743051529, 0.11418387293815613, 0.1214299276471138, 0.12878815829753876, 0.14292536675930023, 0.1138577088713646, 0.1188429743051529, 0.1214299276471138, 0.12878815829753876, 0.14292536675930023, 0.1138577088713646, 0.10054104775190353, 0.09918966889381409, 0.09831184893846512, 0.09885433316230774, 0.11039580404758453, 0.11240117996931076, 0.1225464716553688, 0.12865467369556427, 0.14570197463035583, 0.1138577088713646, 0.10014362633228302, 0.09771078824996948, 0.0968964472413063, 0.09648488461971283, 0.09797731786966324, 0.1138577088713646, 0.1188429743051529, 0.11418387293815613, 0.1214299276471138, 0.12878815829753876, 0.14292536675930023, 0.1138577088713646, 0.10014362633228302, 0.09771078824996948, 0.0968964472413063, 0.09648488461971283, 0.09797731786966324, 0.1138577088713646, 0.1188429743051529, 0.11418387293815613, 0.1214299276471138, 0.12878815829753876, 0.14292536675930023, 0.1138577088713646, 0.10014362633228302, 0.09771078824996948, 0.0968964472413063, 0.09648488461971283, 0.09797731786966324, 0.1138577088713646, 0.1188429743051529, 0.11418387293815613, 0.1214299276471138, 0.12878815829753876, 0.14292536675930023, 0.1138577088713646, 0.10014362633228302, 0.09771078824996948, 0.0968964472413063, 0.09648488461971283, 0.09797731786966324, 0.1138577088713646, 0.1188429743051529, 0.11418387293815613, 0.1214299276471138, 0.12878815829753876, 0.14292536675930023, 0.1138577088713646, 0.10014362633228302, 0.09771078824996948, 0.0968964472413063, 0.09648488461971283, 0.09797731786966324, 0.1138577088713646, 0.1188429743051529, 0.11418387293815613, 0.1214299276471138, 0.12878815829753876, 0.14292536675930023, 0.1138577088713646, 0.10014362633228302, 0.09771078824996948, 0.0968964472413063, 0.09648488461971283, 0.09797731786966324, 0.1138577088713646, 0.1188429743051529, 0.11418387293815613, 0.1214299276471138, 0.12878815829753876, 0.14292536675930023, 0.1138577088713646, 0.10014362633228302, 0.09771078824996948, 0.0968964472413063, 0.09648488461971283, 0.09797731786966324, 0.1138577088713646, 0.11551106721162796, 0.11240117996931076, 0.1225464716553688, 0.12865467369556427, 0.14570197463035583, 0.11039580404758453, 0.10054104775190353, 0.09918966144323349, 0.09885433316230774, 0.1184285432100296, 0.11039580404758453, 0.10054104775190353, 0.09885433316230774, 0.1184285432100296, 0.1138577088713646, 0.1188429743051529, 0.11418387293815613, 0.1214299276471138, 0.12878815829753876, 0.14292536675930023, 0.1138577088713646, 0.10014362633228302, 0.09771078824996948, 0.0968964472413063, 0.09648488461971283, 0.09797731786966324, 0.1138577088713646, 0.1188429743051529, 0.11418387293815613, 0.1214299276471138, 0.12878815829753876, 0.14292536675930023, 0.1138577088713646, 0.10014362633228302, 0.09771078824996948, 0.0968964472413063, 0.09648488461971283, 0.09797731786966324, 0.1138577088713646, 0.1188429743051529, 0.11418387293815613, 0.1214299350976944, 0.12878815829753876, 0.14292536675930023, 0.1138577088713646, 0.10014362633228302, 0.09771078824996948, 0.0968964472413063, 0.09648488461971283, 0.09797731786966324, 0.1138577088713646, 0.1188429743051529, 0.11418387293815613, 0.1214299276471138, 0.12878815829753876, 0.14292536675930023, 0.1138577088713646, 0.10014362633228302, 0.09771078824996948, 0.0968964472413063, 0.09648488461971283, 0.09797731786966324, 0.1138577088713646, 0.11551106721162796, 0.11240117996931076, 0.1225464716553688, 0.12865467369556427, 0.14570197463035583, 0.11039580404758453, 0.10054104775190353, 0.09918966144323349, 0.09831184893846512, 0.09885433316230774, 0.1184285432100296, 0.1138577088713646, 0.1188429743051529, 0.11418387293815613, 0.1214299276471138, 0.12878815829753876, 0.14292536675930023, 0.1138577088713646, 0.10014362633228302, 0.0968964472413063, 0.09648488461971283], \"yaxis\": \"y\"}, {\"line\": {\"color\": \"rgba(193,99,99,0.8)\"}, \"name\": \"y\", \"showlegend\": true, \"type\": \"scatter\", \"x\": [0, 1, 2, 3, 4, 5, 6, 7, 8, 9, 10, 11, 12, 13, 14, 15, 16, 17, 18, 19, 20, 21, 22, 23, 24, 25, 26, 27, 28, 29, 30, 31, 32, 33, 34, 35, 36, 37, 38, 39, 40, 41, 42, 43, 44, 45, 46, 47, 48, 49, 50, 51, 52, 53, 54, 55, 56, 57, 58, 59, 60, 61, 62, 63, 64, 65, 66, 67, 68, 69, 70, 71, 72, 73, 74, 75, 76, 77, 78, 79, 80, 81, 82, 83, 84, 85, 86, 87, 88, 89, 90, 91, 92, 93, 94, 95, 96, 97, 98, 99, 100, 101, 102, 103, 104, 105, 106, 107, 108, 109, 110, 111, 112, 113, 114, 115, 116, 117, 118, 119, 120, 121, 122, 123, 124, 125, 126, 127, 128, 129, 130, 131, 132, 133, 134, 135, 136, 137, 138, 139, 140, 141, 142, 143, 144, 145, 146, 147, 148, 149, 150, 151, 152, 153, 154, 155, 156, 157, 158, 159, 160, 161, 162, 163, 164, 165, 166, 167, 168, 169, 170, 171, 172, 173, 174, 175, 176, 177, 178, 179, 180, 181, 182, 183, 184, 185, 186, 187, 188, 189, 190, 191, 192, 193, 194, 195, 196, 197, 198, 199, 200, 201, 202, 203, 204, 205, 206, 207, 208, 209, 210, 211, 212, 213, 214, 215, 216, 217, 218, 219, 220, 221, 222, 223, 224, 225, 226, 227, 228, 229, 230, 231, 232, 233, 234, 235, 236, 237, 238, 239, 240, 241, 242, 243, 244, 245, 246, 247, 248, 249, 250, 251, 252, 253, 254, 255, 256, 257, 258, 259, 260, 261, 262, 263, 264, 265, 266, 267, 268, 269, 270, 271, 272, 273, 274, 275, 276, 277, 278, 279, 280, 281, 282, 283, 284, 285, 286, 287, 288, 289, 290, 291, 292, 293, 294, 295, 296, 297, 298, 299, 300, 301, 302, 303, 304, 305, 306, 307, 308, 309, 310, 311, 312, 313, 314, 315, 316, 317, 318, 319, 320, 321, 322, 323, 324, 325, 326, 327, 328, 329, 330, 331, 332, 333, 334, 335, 336, 337, 338, 339, 340, 341, 342, 343, 344, 345, 346, 347, 348, 349, 350, 351, 352, 353, 354, 355, 356, 357, 358, 359, 360, 361, 362, 363, 364, 365, 366, 367, 368, 369, 370, 371, 372, 373, 374, 375, 376, 377, 378, 379, 380, 381, 382, 383, 384, 385, 386, 387, 388, 389, 390, 391, 392, 393, 394, 395, 396, 397, 398, 399, 400, 401, 402, 403, 404, 405, 406, 407, 408, 409, 410, 411, 412, 413, 414, 415, 416, 417, 418, 419, 420, 421, 422, 423, 424, 425, 426, 427, 428, 429, 430, 431, 432, 433, 434, 435, 436, 437, 438, 439, 440, 441, 442, 443, 444, 445, 446, 447, 448, 449, 450, 451, 452, 453, 454, 455, 456, 457, 458, 459, 460, 461, 462, 463, 464, 465, 466, 467, 468, 469, 470, 471, 472, 473, 474, 475, 476, 477, 478, 479, 480, 481, 482, 483, 484, 485, 486, 487, 488, 489, 490, 491, 492, 493, 494, 495, 496, 497, 498, 499, 500, 501, 502, 503, 504, 505, 506, 507, 508, 509, 510, 511, 512, 513, 514, 515, 516, 517, 518, 519, 520, 521, 522, 523, 524, 525, 526, 527, 528, 529, 530, 531, 532, 533, 534, 535, 536, 537, 538, 539, 540, 541, 542, 543, 544, 545, 546, 547, 548, 549, 550, 551, 552, 553], \"xaxis\": \"x\", \"y\": [0.1266636182041347, 0.1208153835046088, 0.11508748285239825, 0.12059878221944118, 0.14685567134364996, 0.10502755649683522, 0.08919159587013549, 0.09070780486630887, 0.08336742798007268, 0.08562970806960121, 0.10577362759019036, 0.10603836249428414, 0.11677215951481312, 0.10654376549300859, 0.11472648071045222, 0.12134485331279632, 0.12163365502635316, 0.08495583740463526, 0.09164641043536859, 0.09378835647758177, 0.09138167553127483, 0.0878438545402036, 0.10490722244951987, 0.1154484849943443, 0.11227166614521913, 0.13376332699574017, 0.1257009458256119, 0.13802315227070347, 0.1250752087795721, 0.09672450723207625, 0.07982960698900146, 0.08502803783302447, 0.08052754446343048, 0.09053933720006739, 0.09256094919496523, 0.09860171837019566, 0.10112873336381796, 0.11179032995595774, 0.09626723785227792, 0.11677215951481312, 0.1328006546172174, 0.10242834107482371, 0.08892686096604173, 0.08729031792255301, 0.08642391278188251, 0.09872205241751102, 0.09797598132415586, 0.10067146398401963, 0.12957570214916608, 0.13980409617097062, 0.13116411157372868, 0.1389617578397632, 0.13458159851748452, 0.1120550648600515, 0.09893865370267864, 0.09826478303771269, 0.10134533464898558, 0.1029096772640851, 0.10731390339582682, 0.0903708695338259, 0.11395634280763399, 0.12598974753916872, 0.12707275396500686, 0.10664003273086087, 0.10055112993670429, 0.09621910423335178, 0.08536497316550745, 0.08546124040335973, 0.11901037279487858, 0.11270486871555438, 0.10899858005824167, 0.11937137493682462, 0.10984091838944911, 0.13455753170802146, 0.14079083535895645, 0.14988808933599673, 0.13898582464922626, 0.12512334239849823, 0.13417246275661235, 0.10392048326153402, 0.0769656566628962, 0.07402950590840172, 0.07987774060792761, 0.07309090033934201, 0.08957666482154461, 0.1105629226733412, 0.11354720704676181, 0.09905898774999398, 0.09891458689321557, 0.11186253038434694, 0.1294072344829246, 0.10043079588938894, 0.08541310678443359, 0.08343962840846189, 0.10093619888811341, 0.10019012779475825, 0.16146422468773314, 0.15821520541021877, 0.1640393733002816, 0.1493586195278092, 0.16158455873504848, 0.12533994368366586, 0.09638757189959327, 0.0946306948087892, 0.08497990421409833, 0.08536497316550745, 0.0857981757358427, 0.0940771581911386, 0.09763904599167289, 0.11426921133065389, 0.09284975090852206, 0.11566508627951193, 0.1370604798921807, 0.12574907944453803, 0.08964886524993382, 0.07559384852350123, 0.10035859546099973, 0.09157421000697938, 0.08907126182282014, 0.11051478905441506, 0.12988857067218598, 0.10635123101730404, 0.13400399509037086, 0.13118817838319174, 0.14300498182955884, 0.12728935525017449, 0.11330653895213112, 0.09727804384972684, 0.09325888666939423, 0.09756684556328367, 0.08659238044812399, 0.10769897234723592, 0.11193473081273615, 0.10733797020528989, 0.10059926355563042, 0.1163148901350148, 0.10355948111958797, 0.12069504945729345, 0.11373974152246637, 0.09386055690597098, 0.08988953334456451, 0.07547351447618589, 0.09542489952107049, 0.112223532526293, 0.12086351712353494, 0.1057495607807273, 0.11244013381146062, 0.11795143317850353, 0.14531539553801354, 0.12907029915044163, 0.1342205963755385, 0.12444947173353228, 0.10372794878582946, 0.11566508627951193, 0.11506341604293518, 0.1164833578012563, 0.08630357873456716, 0.08404129864503863, 0.07939640441866622, 0.08856585882409569, 0.08955259801208154, 0.12647108372843013, 0.10014199417583211, 0.10336694664388342, 0.10928738177179852, 0.11850496979615413, 0.12866116338956946, 0.11068325672065654, 0.09621910423335178, 0.0894322639647662, 0.11542441818488124, 0.1100815864840798, 0.1501528242400905, 0.120887583932998, 0.13258405333204978, 0.062694038651296, 0.15561598998820728, 0.15554378955981807, 0.14577266491781185, 0.08806045582537123, 0.19154773651657, 0.22456739909990134, 0.20136699477750233, 0.18189694592187913, 0.18736011166999592, 0.1810546075906717, 0.1862530384346947, 0.19419508555750764, 0.17479723713027365, 0.1268080190609131, 0.12177805588313158, 0.1182883685109865, 0.10457028711703689, 0.11754229741763135, 0.14885321652908473, 0.14938268633727228, 0.16885273519289548, 0.15532718827465042, 0.15564005679767035, 0.17761305383745277, 0.17005607566604894, 0.17316069408678492, 0.1478664773410989, 0.12822796081923418, 0.13994849702774903, 0.1570840653654545, 0.14076676854949338, 0.1105629226733412, 0.11944357536521383, 0.09371615604919256, 0.09361988881134028, 0.08620731149671489, 0.11953984260306612, 0.1283723616760126, 0.09311448581261582, 0.11256046785877596, 0.1077952395850882, 0.13174171500084234, 0.11359534066568795, 0.12562874539722269, 0.11515968328078746, 0.11643522418233015, 0.126422950109504, 0.14095930302519796, 0.15720439941276984, 0.10014199417583211, 0.09727804384972684, 0.09051527039060432, 0.08096074703376574, 0.10252460831267599, 0.11061105629226733, 0.10098433250703955, 0.1074823710620683, 0.11715722846622223, 0.11258453466823903, 0.11195879762219922, 0.10033452865153666, 0.08952853120261847, 0.08254915645832832, 0.09085220572308729, 0.08858992563355876, 0.09706144256455922, 0.11414887728333854, 0.10579769439965343, 0.11200693124112536, 0.11898630598541551, 0.13089937666963491, 0.13000890471950133, 0.12887776467473708, 0.1299607711005752, 0.1134028061899834, 0.11838463574883877, 0.12707275396500686, 0.09419749223845394, 0.08466703569107843, 0.059252484898077065, 0.08194748622175159, 0.08199561984067773, 0.09583403528194268, 0.09412529181006474, 0.09934778946355081, 0.09000986739187986, 0.10548482587663353, 0.1054366922577074, 0.11097205843421337, 0.10276527640730668, 0.09400495776274939, 0.08163461769873168, 0.07881880099155256, 0.08127361555678564, 0.08846959158624342, 0.09528049866429207, 0.11325840533320498, 0.10459435392649996, 0.11980457750715988, 0.12052658179105195, 0.13150104690621164, 0.09852951794180645, 0.09311448581261582, 0.09434189309523236, 0.07576231618974273, 0.08173088493658395, 0.08216408750691921, 0.08620731149671489, 0.09556930037784891, 0.10413708454670165, 0.10300594450193738, 0.12490674111333061, 0.1353276696108397, 0.10649563187408245, 0.09015426824865827, 0.09400495776274939, 0.09792784770522972, 0.07665278813987629, 0.09352362157348801, 0.10045486269885201, 0.10712136892012226, 0.09997352650959063, 0.12844456210440183, 0.1307549758128565, 0.1360978075136579, 0.11386007556978171, 0.12124858607494404, 0.12288512911843277, 0.13205458352386223, 0.12639888330004093, 0.12928690043560925, 0.1026690091694544, 0.09284975090852206, 0.08560564126013814, 0.09159827681644245, 0.09465476161825227, 0.10846911025005415, 0.09828884984717576, 0.11092392481528723, 0.11275300233448052, 0.13053837452768888, 0.1275059565353421, 0.12233159250078217, 0.10611056292267335, 0.09674857404153932, 0.09003393420134292, 0.08536497316550745, 0.09821664941878655, 0.10163413636254241, 0.12456980578084763, 0.09686890808885466, 0.11446174580635846, 0.12420880363890159, 0.12365526702125099, 0.13809535269909268, 0.12423287044836466, 0.09672450723207625, 0.066159659213978, 0.08969699886885996, 0.08064787851074583, 0.0903708695338259, 0.09583403528194268, 0.15311304180404803, 0.1264951505378932, 0.13886549060191092, 0.11523188370917667, 0.11448581261582153, 0.09388462371543405, 0.08909532863228321, 0.1012490674111333, 0.1108757911963611, 0.11848090298669106, 0.11929917450843541, 0.12702462034608072, 0.1258453466823903, 0.13511106832567207, 0.14610960025029482, 0.11997304517340136, 0.13012923876681667, 0.11109239248152872, 0.09556930037784891, 0.0941493586195278, 0.1100815864840798, 0.11956390941252919, 0.0914779427691271, 0.10343914707227263, 0.11814396765420808, 0.13566460494332266, 0.09109287381771798, 0.0929700849558374, 0.08637577916295637, 0.08928786310798778, 0.08507617145195062, 0.09523236504536593, 0.1443045895405646, 0.12603788115809486, 0.12567687901614882, 0.12213905802507762, 0.12165772183581623, 0.12815576039084497, 0.132319318427956, 0.16341363625424177, 0.14127217154821786, 0.14254771244976053, 0.1320786503333253, 0.09600250294818416, 0.08928786310798778, 0.08124954874732257, 0.08380063055040793, 0.09946812351086616, 0.14129623835768093, 0.148251546292508, 0.15357031118384637, 0.1491179514331785, 0.16372650477726167, 0.10673629996871314, 0.08984139972563837, 0.09501576376019831, 0.09431782628576929, 0.09602656975764723, 0.09027460229597362, 0.11068325672065654, 0.1140285432360232, 0.10964838391374455, 0.11633895694447786, 0.13012923876681667, 0.14459339125412143, 0.11029818776924744, 0.09595436932925802, 0.0925850160044283, 0.07761546051839907, 0.07547351447618589, 0.0926572164328175, 0.12613414839594714, 0.10854131067844336, 0.09682077446992852, 0.09713364299294842, 0.1251474092079613, 0.13388366104305552, 0.12134485331279632, 0.0934514211450988, 0.077591393708936, 0.09157421000697938, 0.0863517123534933, 0.08599071021154725, 0.10589396163750571, 0.12851676253279104, 0.11034632138817357, 0.11831243532044956, 0.12988857067218598, 0.14916608505210463, 0.12772255782050973, 0.12108011840870256, 0.09207961300570383, 0.09886645327428943, 0.08420976631128012, 0.09207961300570383, 0.1160020216119949, 0.11376380833192944, 0.10981685157998604, 0.11876970470024789, 0.11075545714904575, 0.1297923034343337, 0.12654328415681934, 0.11183846357488388, 0.08755505282664677, 0.08813265625376043, 0.08329522755168348, 0.08642391278188251, 0.11373974152246637, 0.13467786575533683, 0.1160742220403841, 0.12108011840870256, 0.13333012442540493, 0.1405261004548627, 0.1273615556785637, 0.11807176722581887, 0.10947991624750307, 0.09118914105557026, 0.08618324468725182, 0.0866645808765132, 0.10940771581911386, 0.12269259464272822, 0.1106351231017304, 0.10979278477052297, 0.1239681355442709, 0.14796274457895117, 0.1234145989266203, 0.09152607638805324, 0.08741065196986836, 0.09087627253255036, 0.08714591706577458, 0.0961228369954995, 0.10719356934851147, 0.10796370725132969, 0.10579769439965343, 0.11867343746239561, 0.13330605761594186, 0.14906981781425235, 0.12449760535245842, 0.10083993165026113, 0.11958797622199226, 0.056845803951770114, 0.17311256046785878, 0.13619407475151019, 0.14704820581935452, 0.07711005751967462, 0.22930856056412602, 0.19356934851146784, 0.2024981348222666, 0.16336550263531563, 0.1882265168106664, 0.1770354504103391, 0.19920098192582608, 0.14726480710452217, 0.11318620490481576, 0.09804818175254507, 0.10351134750066183, 0.10175447040985776, 0.10738610382421603, 0.13956342807633992, 0.14709633943828065, 0.13696421265432843, 0.13689201222593922, 0.15145243195109626, 0.1670958581020914, 0.1533777767081418, 0.1353276696108397, 0.11104425886260258, 0.1097687179610599, 0.10110466655435489, 0.11070732353011961, 0.12748188972587904, 0.12172992226420544, 0.11126086014777022, 0.11879377150971096, 0.12377560106856635, 0.1426439796876128, 0.12204279078722534, 0.09665230680368704, 0.09133354191234867, 0.07966113932275998, 0.09667637361315011, 0.0966041731847609, 0.11265673509662824, 0.1261582152054102, 0.12055064860051502, 0.13410026232822314, 0.1287092970084956, 0.14105557026305024, 0.12594161392024258, 0.13166951457245313, 0.09710957618348535, 0.09913118817838319, 0.08993766696349065, 0.08560564126013814, 0.10461842073596303, 0.11005751967461673, 0.09732617746865298, 0.11099612524367644, 0.09790378089576665, 0.12165772183581623, 0.08825299030107579, 0.08582224254530577, 0.07756732689947293, 0.08141801641356405, 0.0807441457485981, 0.09080407210416115, 0.1192269740800462, 0.14189790859425766, 0.12721715482178528, 0.11929917450843541, 0.13121224519265481, 0.14449712401626916, 0.12880556424634787, 0.13109191114533947, 0.09629130466174099, 0.10055112993670429], \"yaxis\": \"y\"}],\n",
              "                        {\"autosize\": false, \"height\": 600, \"template\": {\"data\": {\"bar\": [{\"error_x\": {\"color\": \"#2a3f5f\"}, \"error_y\": {\"color\": \"#2a3f5f\"}, \"marker\": {\"line\": {\"color\": \"#E5ECF6\", \"width\": 0.5}}, \"type\": \"bar\"}], \"barpolar\": [{\"marker\": {\"line\": {\"color\": \"#E5ECF6\", \"width\": 0.5}}, \"type\": \"barpolar\"}], \"carpet\": [{\"aaxis\": {\"endlinecolor\": \"#2a3f5f\", \"gridcolor\": \"white\", \"linecolor\": \"white\", \"minorgridcolor\": \"white\", \"startlinecolor\": \"#2a3f5f\"}, \"baxis\": {\"endlinecolor\": \"#2a3f5f\", \"gridcolor\": \"white\", \"linecolor\": \"white\", \"minorgridcolor\": \"white\", \"startlinecolor\": \"#2a3f5f\"}, \"type\": \"carpet\"}], \"choropleth\": [{\"colorbar\": {\"outlinewidth\": 0, \"ticks\": \"\"}, \"type\": \"choropleth\"}], \"contour\": [{\"colorbar\": {\"outlinewidth\": 0, \"ticks\": \"\"}, \"colorscale\": [[0.0, \"#0d0887\"], [0.1111111111111111, \"#46039f\"], [0.2222222222222222, \"#7201a8\"], [0.3333333333333333, \"#9c179e\"], [0.4444444444444444, \"#bd3786\"], [0.5555555555555556, \"#d8576b\"], [0.6666666666666666, \"#ed7953\"], [0.7777777777777778, \"#fb9f3a\"], [0.8888888888888888, \"#fdca26\"], [1.0, \"#f0f921\"]], \"type\": \"contour\"}], \"contourcarpet\": [{\"colorbar\": {\"outlinewidth\": 0, \"ticks\": \"\"}, \"type\": \"contourcarpet\"}], \"heatmap\": [{\"colorbar\": {\"outlinewidth\": 0, \"ticks\": \"\"}, \"colorscale\": [[0.0, \"#0d0887\"], [0.1111111111111111, \"#46039f\"], [0.2222222222222222, \"#7201a8\"], [0.3333333333333333, \"#9c179e\"], [0.4444444444444444, \"#bd3786\"], [0.5555555555555556, \"#d8576b\"], [0.6666666666666666, \"#ed7953\"], [0.7777777777777778, \"#fb9f3a\"], [0.8888888888888888, \"#fdca26\"], [1.0, \"#f0f921\"]], \"type\": \"heatmap\"}], \"heatmapgl\": [{\"colorbar\": {\"outlinewidth\": 0, \"ticks\": \"\"}, \"colorscale\": [[0.0, \"#0d0887\"], [0.1111111111111111, \"#46039f\"], [0.2222222222222222, \"#7201a8\"], [0.3333333333333333, \"#9c179e\"], [0.4444444444444444, \"#bd3786\"], [0.5555555555555556, \"#d8576b\"], [0.6666666666666666, \"#ed7953\"], [0.7777777777777778, \"#fb9f3a\"], [0.8888888888888888, \"#fdca26\"], [1.0, \"#f0f921\"]], \"type\": \"heatmapgl\"}], \"histogram\": [{\"marker\": {\"colorbar\": {\"outlinewidth\": 0, \"ticks\": \"\"}}, \"type\": \"histogram\"}], \"histogram2d\": [{\"colorbar\": {\"outlinewidth\": 0, \"ticks\": \"\"}, \"colorscale\": [[0.0, \"#0d0887\"], [0.1111111111111111, \"#46039f\"], [0.2222222222222222, \"#7201a8\"], [0.3333333333333333, \"#9c179e\"], [0.4444444444444444, \"#bd3786\"], [0.5555555555555556, \"#d8576b\"], [0.6666666666666666, \"#ed7953\"], [0.7777777777777778, \"#fb9f3a\"], [0.8888888888888888, \"#fdca26\"], [1.0, \"#f0f921\"]], \"type\": \"histogram2d\"}], \"histogram2dcontour\": [{\"colorbar\": {\"outlinewidth\": 0, \"ticks\": \"\"}, \"colorscale\": [[0.0, \"#0d0887\"], [0.1111111111111111, \"#46039f\"], [0.2222222222222222, \"#7201a8\"], [0.3333333333333333, \"#9c179e\"], [0.4444444444444444, \"#bd3786\"], [0.5555555555555556, \"#d8576b\"], [0.6666666666666666, \"#ed7953\"], [0.7777777777777778, \"#fb9f3a\"], [0.8888888888888888, \"#fdca26\"], [1.0, \"#f0f921\"]], \"type\": \"histogram2dcontour\"}], \"mesh3d\": [{\"colorbar\": {\"outlinewidth\": 0, \"ticks\": \"\"}, \"type\": \"mesh3d\"}], \"parcoords\": [{\"line\": {\"colorbar\": {\"outlinewidth\": 0, \"ticks\": \"\"}}, \"type\": \"parcoords\"}], \"pie\": [{\"automargin\": true, \"type\": \"pie\"}], \"scatter\": [{\"marker\": {\"colorbar\": {\"outlinewidth\": 0, \"ticks\": \"\"}}, \"type\": \"scatter\"}], \"scatter3d\": [{\"line\": {\"colorbar\": {\"outlinewidth\": 0, \"ticks\": \"\"}}, \"marker\": {\"colorbar\": {\"outlinewidth\": 0, \"ticks\": \"\"}}, \"type\": \"scatter3d\"}], \"scattercarpet\": [{\"marker\": {\"colorbar\": {\"outlinewidth\": 0, \"ticks\": \"\"}}, \"type\": \"scattercarpet\"}], \"scattergeo\": [{\"marker\": {\"colorbar\": {\"outlinewidth\": 0, \"ticks\": \"\"}}, \"type\": \"scattergeo\"}], \"scattergl\": [{\"marker\": {\"colorbar\": {\"outlinewidth\": 0, \"ticks\": \"\"}}, \"type\": \"scattergl\"}], \"scattermapbox\": [{\"marker\": {\"colorbar\": {\"outlinewidth\": 0, \"ticks\": \"\"}}, \"type\": \"scattermapbox\"}], \"scatterpolar\": [{\"marker\": {\"colorbar\": {\"outlinewidth\": 0, \"ticks\": \"\"}}, \"type\": \"scatterpolar\"}], \"scatterpolargl\": [{\"marker\": {\"colorbar\": {\"outlinewidth\": 0, \"ticks\": \"\"}}, \"type\": \"scatterpolargl\"}], \"scatterternary\": [{\"marker\": {\"colorbar\": {\"outlinewidth\": 0, \"ticks\": \"\"}}, \"type\": \"scatterternary\"}], \"surface\": [{\"colorbar\": {\"outlinewidth\": 0, \"ticks\": \"\"}, \"colorscale\": [[0.0, \"#0d0887\"], [0.1111111111111111, \"#46039f\"], [0.2222222222222222, \"#7201a8\"], [0.3333333333333333, \"#9c179e\"], [0.4444444444444444, \"#bd3786\"], [0.5555555555555556, \"#d8576b\"], [0.6666666666666666, \"#ed7953\"], [0.7777777777777778, \"#fb9f3a\"], [0.8888888888888888, \"#fdca26\"], [1.0, \"#f0f921\"]], \"type\": \"surface\"}], \"table\": [{\"cells\": {\"fill\": {\"color\": \"#EBF0F8\"}, \"line\": {\"color\": \"white\"}}, \"header\": {\"fill\": {\"color\": \"#C8D4E3\"}, \"line\": {\"color\": \"white\"}}, \"type\": \"table\"}]}, \"layout\": {\"annotationdefaults\": {\"arrowcolor\": \"#2a3f5f\", \"arrowhead\": 0, \"arrowwidth\": 1}, \"coloraxis\": {\"colorbar\": {\"outlinewidth\": 0, \"ticks\": \"\"}}, \"colorscale\": {\"diverging\": [[0, \"#8e0152\"], [0.1, \"#c51b7d\"], [0.2, \"#de77ae\"], [0.3, \"#f1b6da\"], [0.4, \"#fde0ef\"], [0.5, \"#f7f7f7\"], [0.6, \"#e6f5d0\"], [0.7, \"#b8e186\"], [0.8, \"#7fbc41\"], [0.9, \"#4d9221\"], [1, \"#276419\"]], \"sequential\": [[0.0, \"#0d0887\"], [0.1111111111111111, \"#46039f\"], [0.2222222222222222, \"#7201a8\"], [0.3333333333333333, \"#9c179e\"], [0.4444444444444444, \"#bd3786\"], [0.5555555555555556, \"#d8576b\"], [0.6666666666666666, \"#ed7953\"], [0.7777777777777778, \"#fb9f3a\"], [0.8888888888888888, \"#fdca26\"], [1.0, \"#f0f921\"]], \"sequentialminus\": [[0.0, \"#0d0887\"], [0.1111111111111111, \"#46039f\"], [0.2222222222222222, \"#7201a8\"], [0.3333333333333333, \"#9c179e\"], [0.4444444444444444, \"#bd3786\"], [0.5555555555555556, \"#d8576b\"], [0.6666666666666666, \"#ed7953\"], [0.7777777777777778, \"#fb9f3a\"], [0.8888888888888888, \"#fdca26\"], [1.0, \"#f0f921\"]]}, \"colorway\": [\"#636efa\", \"#EF553B\", \"#00cc96\", \"#ab63fa\", \"#FFA15A\", \"#19d3f3\", \"#FF6692\", \"#B6E880\", \"#FF97FF\", \"#FECB52\"], \"font\": {\"color\": \"#2a3f5f\"}, \"geo\": {\"bgcolor\": \"white\", \"lakecolor\": \"white\", \"landcolor\": \"#E5ECF6\", \"showlakes\": true, \"showland\": true, \"subunitcolor\": \"white\"}, \"hoverlabel\": {\"align\": \"left\"}, \"hovermode\": \"closest\", \"mapbox\": {\"style\": \"light\"}, \"paper_bgcolor\": \"white\", \"plot_bgcolor\": \"#E5ECF6\", \"polar\": {\"angularaxis\": {\"gridcolor\": \"white\", \"linecolor\": \"white\", \"ticks\": \"\"}, \"bgcolor\": \"#E5ECF6\", \"radialaxis\": {\"gridcolor\": \"white\", \"linecolor\": \"white\", \"ticks\": \"\"}}, \"scene\": {\"xaxis\": {\"backgroundcolor\": \"#E5ECF6\", \"gridcolor\": \"white\", \"gridwidth\": 2, \"linecolor\": \"white\", \"showbackground\": true, \"ticks\": \"\", \"zerolinecolor\": \"white\"}, \"yaxis\": {\"backgroundcolor\": \"#E5ECF6\", \"gridcolor\": \"white\", \"gridwidth\": 2, \"linecolor\": \"white\", \"showbackground\": true, \"ticks\": \"\", \"zerolinecolor\": \"white\"}, \"zaxis\": {\"backgroundcolor\": \"#E5ECF6\", \"gridcolor\": \"white\", \"gridwidth\": 2, \"linecolor\": \"white\", \"showbackground\": true, \"ticks\": \"\", \"zerolinecolor\": \"white\"}}, \"shapedefaults\": {\"line\": {\"color\": \"#2a3f5f\"}}, \"ternary\": {\"aaxis\": {\"gridcolor\": \"white\", \"linecolor\": \"white\", \"ticks\": \"\"}, \"baxis\": {\"gridcolor\": \"white\", \"linecolor\": \"white\", \"ticks\": \"\"}, \"bgcolor\": \"#E5ECF6\", \"caxis\": {\"gridcolor\": \"white\", \"linecolor\": \"white\", \"ticks\": \"\"}}, \"title\": {\"x\": 0.05}, \"xaxis\": {\"automargin\": true, \"gridcolor\": \"white\", \"linecolor\": \"white\", \"ticks\": \"\", \"title\": {\"standoff\": 15}, \"zerolinecolor\": \"white\", \"zerolinewidth\": 2}, \"yaxis\": {\"automargin\": true, \"gridcolor\": \"white\", \"linecolor\": \"white\", \"ticks\": \"\", \"title\": {\"standoff\": 15}, \"zerolinecolor\": \"white\", \"zerolinewidth\": 2}}}, \"title\": {\"text\": \"predy\"}, \"width\": 1200, \"xaxis\": {\"anchor\": \"y\", \"domain\": [0.0, 1.0]}, \"yaxis\": {\"anchor\": \"x\", \"domain\": [0.0, 1.0]}},\n",
              "                        {\"responsive\": true}\n",
              "                    ).then(function(){\n",
              "                            \n",
              "var gd = document.getElementById('0fdcbf01-01b9-497c-87cd-706f960fca30');\n",
              "var x = new MutationObserver(function (mutations, observer) {{\n",
              "        var display = window.getComputedStyle(gd).display;\n",
              "        if (!display || display === 'none') {{\n",
              "            console.log([gd, 'removed!']);\n",
              "            Plotly.purge(gd);\n",
              "            observer.disconnect();\n",
              "        }}\n",
              "}});\n",
              "\n",
              "// Listen for the removal of the full notebook cells\n",
              "var notebookContainer = gd.closest('#notebook-container');\n",
              "if (notebookContainer) {{\n",
              "    x.observe(notebookContainer, {childList: true});\n",
              "}}\n",
              "\n",
              "// Listen for the clearing of the current output cell\n",
              "var outputEl = gd.closest('.output');\n",
              "if (outputEl) {{\n",
              "    x.observe(outputEl, {childList: true});\n",
              "}}\n",
              "\n",
              "                        })\n",
              "                };\n",
              "                \n",
              "            </script>\n",
              "        </div>\n",
              "</body>\n",
              "</html>"
            ]
          },
          "metadata": {
            "tags": []
          }
        }
      ]
    }
  ]
}