{
  "nbformat": 4,
  "nbformat_minor": 0,
  "metadata": {
    "colab": {
      "name": "04_hazi_outlier.ipynb",
      "provenance": [],
      "authorship_tag": "ABX9TyOvikGqhshlERvu+oWdFxli",
      "include_colab_link": true
    },
    "kernelspec": {
      "name": "python3",
      "display_name": "Python 3"
    }
  },
  "cells": [
    {
      "cell_type": "markdown",
      "metadata": {
        "id": "view-in-github",
        "colab_type": "text"
      },
      "source": [
        "<a href=\"https://colab.research.google.com/github/sipocz/Colab/blob/main/04_hazi_outlier.ipynb\" target=\"_parent\"><img src=\"https://colab.research.google.com/assets/colab-badge.svg\" alt=\"Open In Colab\"/></a>"
      ]
    },
    {
      "cell_type": "code",
      "metadata": {
        "colab": {
          "base_uri": "https://localhost:8080/"
        },
        "id": "NOC1Wpv7U12a",
        "outputId": "a5ca8676-aec7-4538-9178-33c054e77e1c"
      },
      "source": [
        "from sklearn.datasets import load_wine\n",
        "import numpy as np\n",
        "import pandas as pd\n",
        "import matplotlib.pyplot as plt\n",
        "\n",
        "\n",
        "wine = load_wine()\n",
        "#print(data.DESCR)\n",
        "\n",
        "cols=[\"Alcohol\",\"Malic acid\",\"Ash\",\"Alcalionity\",\"Magnesium\",\"Total Phenol\",\"Flavanoids\",\n",
        "                                             \"Nonflavor\",\"Proanthocyanins\",\"Color intensity\",\"Hue\",\"OD280_OD315\",\"Proline\"]\n",
        "df=pd.DataFrame(wine[\"data\"][:,0:13],columns=cols)\n",
        "'''\n",
        "\n",
        "\t\t- Alcalinity of ash  \n",
        " \t\t- Magnesium\n",
        "\t\t- Total phenols\n",
        " \t\t- Flavanoids\n",
        " \t\t- Nonflavanoid phenols\n",
        " \t\t- Proanthocyanins\n",
        "\t\t- Color intensity\n",
        " \t\t- Hue\n",
        " \t\t- OD280/OD315 of diluted wines\n",
        " \t\t- Proline])\n",
        "'''\n",
        "print(df)\n",
        "maxi=df.max()\n",
        "mini=df.min()\n",
        "print(maxi,mini)\n",
        "df2=(df-mini)\n",
        "delta=maxi-mini\n",
        "df_feature=df2/delta"
      ],
      "execution_count": 1,
      "outputs": [
        {
          "output_type": "stream",
          "text": [
            "     Alcohol  Malic acid   Ash  ...   Hue  OD280_OD315  Proline\n",
            "0      14.23        1.71  2.43  ...  1.04         3.92   1065.0\n",
            "1      13.20        1.78  2.14  ...  1.05         3.40   1050.0\n",
            "2      13.16        2.36  2.67  ...  1.03         3.17   1185.0\n",
            "3      14.37        1.95  2.50  ...  0.86         3.45   1480.0\n",
            "4      13.24        2.59  2.87  ...  1.04         2.93    735.0\n",
            "..       ...         ...   ...  ...   ...          ...      ...\n",
            "173    13.71        5.65  2.45  ...  0.64         1.74    740.0\n",
            "174    13.40        3.91  2.48  ...  0.70         1.56    750.0\n",
            "175    13.27        4.28  2.26  ...  0.59         1.56    835.0\n",
            "176    13.17        2.59  2.37  ...  0.60         1.62    840.0\n",
            "177    14.13        4.10  2.74  ...  0.61         1.60    560.0\n",
            "\n",
            "[178 rows x 13 columns]\n",
            "Alcohol              14.83\n",
            "Malic acid            5.80\n",
            "Ash                   3.23\n",
            "Alcalionity          30.00\n",
            "Magnesium           162.00\n",
            "Total Phenol          3.88\n",
            "Flavanoids            5.08\n",
            "Nonflavor             0.66\n",
            "Proanthocyanins       3.58\n",
            "Color intensity      13.00\n",
            "Hue                   1.71\n",
            "OD280_OD315           4.00\n",
            "Proline            1680.00\n",
            "dtype: float64 Alcohol             11.03\n",
            "Malic acid           0.74\n",
            "Ash                  1.36\n",
            "Alcalionity         10.60\n",
            "Magnesium           70.00\n",
            "Total Phenol         0.98\n",
            "Flavanoids           0.34\n",
            "Nonflavor            0.13\n",
            "Proanthocyanins      0.41\n",
            "Color intensity      1.28\n",
            "Hue                  0.48\n",
            "OD280_OD315          1.27\n",
            "Proline            278.00\n",
            "dtype: float64\n"
          ],
          "name": "stdout"
        }
      ]
    },
    {
      "cell_type": "code",
      "metadata": {
        "id": "WvqQt__lVn2C"
      },
      "source": [
        "from sklearn import svm\n"
      ],
      "execution_count": null,
      "outputs": []
    }
  ]
}